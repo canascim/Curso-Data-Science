{
 "cells": [
  {
   "cell_type": "markdown",
   "metadata": {},
   "source": [
    "# Parâmetros de funções"
   ]
  },
  {
   "cell_type": "markdown",
   "metadata": {},
   "source": [
    "## Parâmetros com valor padrão"
   ]
  },
  {
   "cell_type": "code",
   "execution_count": 7,
   "metadata": {},
   "outputs": [],
   "source": [
    "def cumprimentar(horario, nome='<anônimo>'):\n",
    "    if horario < 12:\n",
    "        print('Bom dia', nome)\n",
    "    elif horario < 18:\n",
    "        print('Boa tarde', nome)\n",
    "    else: \n",
    "        print('Boa noite', nome)"
   ]
  },
  {
   "cell_type": "code",
   "execution_count": 8,
   "metadata": {},
   "outputs": [
    {
     "name": "stdout",
     "output_type": "stream",
     "text": [
      "Bom dia João\n",
      "Boa tarde Maria\n",
      "Boa noite José\n"
     ]
    }
   ],
   "source": [
    "cumprimentar(9, 'João')\n",
    "cumprimentar(15, 'Maria')\n",
    "cumprimentar(21, 'José')"
   ]
  },
  {
   "cell_type": "code",
   "execution_count": 9,
   "metadata": {},
   "outputs": [
    {
     "name": "stdout",
     "output_type": "stream",
     "text": [
      "Boa tarde <anônimo>\n"
     ]
    }
   ],
   "source": [
    "# chamando a função sem passar nome:\n",
    "\n",
    "cumprimentar(12)"
   ]
  },
  {
   "cell_type": "markdown",
   "metadata": {},
   "source": [
    "## Parâmetros variáveis"
   ]
  },
  {
   "cell_type": "code",
   "execution_count": 10,
   "metadata": {},
   "outputs": [
    {
     "name": "stdout",
     "output_type": "stream",
     "text": [
      "hello\n"
     ]
    }
   ],
   "source": [
    "print('hello')"
   ]
  },
  {
   "cell_type": "code",
   "execution_count": 11,
   "metadata": {},
   "outputs": [
    {
     "name": "stdout",
     "output_type": "stream",
     "text": [
      "hello 2 10 mundo\n"
     ]
    }
   ],
   "source": [
    "print('hello', 2, 10, 'mundo')"
   ]
  },
  {
   "cell_type": "code",
   "execution_count": 30,
   "metadata": {},
   "outputs": [],
   "source": [
    "def somatorio(*numeros): # esse asterisco NA DEFINIÇÃO DA FUNÇÃO indica que os parâmetros serão agrupados em uma tupla\n",
    "    print(numeros)\n",
    "    soma = 0\n",
    "    for n in numeros:\n",
    "        soma = soma + n\n",
    "    return soma\n",
    "    \n",
    "    #print(type(numeros))\n",
    "    #print(numeros)"
   ]
  },
  {
   "cell_type": "code",
   "execution_count": 20,
   "metadata": {},
   "outputs": [
    {
     "name": "stdout",
     "output_type": "stream",
     "text": [
      "5\n"
     ]
    }
   ],
   "source": [
    "resposta = somatorio(5)\n",
    "print(resposta)"
   ]
  },
  {
   "cell_type": "code",
   "execution_count": 21,
   "metadata": {},
   "outputs": [
    {
     "name": "stdout",
     "output_type": "stream",
     "text": [
      "6\n"
     ]
    }
   ],
   "source": [
    "resposta = somatorio(1, 2, 3)\n",
    "print(resposta)"
   ]
  },
  {
   "cell_type": "code",
   "execution_count": 26,
   "metadata": {},
   "outputs": [
    {
     "ename": "TypeError",
     "evalue": "unsupported operand type(s) for +: 'int' and 'str'",
     "output_type": "error",
     "traceback": [
      "\u001b[1;31m---------------------------------------------------------------------------\u001b[0m",
      "\u001b[1;31mTypeError\u001b[0m                                 Traceback (most recent call last)",
      "\u001b[1;32m<ipython-input-26-2e09444e16f1>\u001b[0m in \u001b[0;36m<module>\u001b[1;34m\u001b[0m\n\u001b[1;32m----> 1\u001b[1;33m \u001b[0mresposta\u001b[0m \u001b[1;33m=\u001b[0m \u001b[0msomatorio\u001b[0m\u001b[1;33m(\u001b[0m\u001b[1;34m'olá'\u001b[0m\u001b[1;33m,\u001b[0m \u001b[1;34m'mundo'\u001b[0m\u001b[1;33m)\u001b[0m\u001b[1;33m\u001b[0m\u001b[1;33m\u001b[0m\u001b[0m\n\u001b[0m\u001b[0;32m      2\u001b[0m \u001b[0mprint\u001b[0m\u001b[1;33m(\u001b[0m\u001b[0mresposta\u001b[0m\u001b[1;33m)\u001b[0m\u001b[1;33m\u001b[0m\u001b[1;33m\u001b[0m\u001b[0m\n",
      "\u001b[1;32m<ipython-input-25-6b50db0fc02a>\u001b[0m in \u001b[0;36msomatorio\u001b[1;34m(*numeros)\u001b[0m\n\u001b[0;32m      3\u001b[0m     \u001b[0msoma\u001b[0m \u001b[1;33m=\u001b[0m \u001b[1;36m0\u001b[0m\u001b[1;33m\u001b[0m\u001b[1;33m\u001b[0m\u001b[0m\n\u001b[0;32m      4\u001b[0m     \u001b[1;32mfor\u001b[0m \u001b[0mn\u001b[0m \u001b[1;32min\u001b[0m \u001b[0mnumeros\u001b[0m\u001b[1;33m:\u001b[0m\u001b[1;33m\u001b[0m\u001b[1;33m\u001b[0m\u001b[0m\n\u001b[1;32m----> 5\u001b[1;33m         \u001b[0msoma\u001b[0m \u001b[1;33m=\u001b[0m \u001b[0msoma\u001b[0m \u001b[1;33m+\u001b[0m \u001b[0mn\u001b[0m\u001b[1;33m\u001b[0m\u001b[1;33m\u001b[0m\u001b[0m\n\u001b[0m\u001b[0;32m      6\u001b[0m     \u001b[1;32mreturn\u001b[0m \u001b[0msoma\u001b[0m\u001b[1;33m\u001b[0m\u001b[1;33m\u001b[0m\u001b[0m\n\u001b[0;32m      7\u001b[0m \u001b[1;33m\u001b[0m\u001b[0m\n",
      "\u001b[1;31mTypeError\u001b[0m: unsupported operand type(s) for +: 'int' and 'str'"
     ]
    }
   ],
   "source": [
    "resposta = somatorio('olá', 'mundo')\n",
    "print(resposta)"
   ]
  },
  {
   "cell_type": "code",
   "execution_count": 29,
   "metadata": {},
   "outputs": [
    {
     "name": "stdout",
     "output_type": "stream",
     "text": [
      "([2, 4, 6, 8, 10],)\n"
     ]
    },
    {
     "ename": "TypeError",
     "evalue": "unsupported operand type(s) for +: 'int' and 'list'",
     "output_type": "error",
     "traceback": [
      "\u001b[1;31m---------------------------------------------------------------------------\u001b[0m",
      "\u001b[1;31mTypeError\u001b[0m                                 Traceback (most recent call last)",
      "\u001b[1;32m<ipython-input-29-0330ef1aad2b>\u001b[0m in \u001b[0;36m<module>\u001b[1;34m\u001b[0m\n\u001b[0;32m      1\u001b[0m \u001b[0mlista\u001b[0m \u001b[1;33m=\u001b[0m \u001b[1;33m[\u001b[0m\u001b[1;36m2\u001b[0m\u001b[1;33m,\u001b[0m \u001b[1;36m4\u001b[0m\u001b[1;33m,\u001b[0m \u001b[1;36m6\u001b[0m\u001b[1;33m,\u001b[0m \u001b[1;36m8\u001b[0m\u001b[1;33m,\u001b[0m \u001b[1;36m10\u001b[0m\u001b[1;33m]\u001b[0m\u001b[1;33m\u001b[0m\u001b[1;33m\u001b[0m\u001b[0m\n\u001b[0;32m      2\u001b[0m \u001b[1;33m\u001b[0m\u001b[0m\n\u001b[1;32m----> 3\u001b[1;33m \u001b[0msoma\u001b[0m \u001b[1;33m=\u001b[0m \u001b[0msomatorio\u001b[0m\u001b[1;33m(\u001b[0m\u001b[0mlista\u001b[0m\u001b[1;33m)\u001b[0m\u001b[1;33m\u001b[0m\u001b[1;33m\u001b[0m\u001b[0m\n\u001b[0m\u001b[0;32m      4\u001b[0m \u001b[1;33m\u001b[0m\u001b[0m\n\u001b[0;32m      5\u001b[0m \u001b[0mprint\u001b[0m\u001b[1;33m(\u001b[0m\u001b[0msoma\u001b[0m\u001b[1;33m)\u001b[0m\u001b[1;33m\u001b[0m\u001b[1;33m\u001b[0m\u001b[0m\n",
      "\u001b[1;32m<ipython-input-28-392caa0b8283>\u001b[0m in \u001b[0;36msomatorio\u001b[1;34m(*numeros)\u001b[0m\n\u001b[0;32m      3\u001b[0m     \u001b[0msoma\u001b[0m \u001b[1;33m=\u001b[0m \u001b[1;36m0\u001b[0m\u001b[1;33m\u001b[0m\u001b[1;33m\u001b[0m\u001b[0m\n\u001b[0;32m      4\u001b[0m     \u001b[1;32mfor\u001b[0m \u001b[0mn\u001b[0m \u001b[1;32min\u001b[0m \u001b[0mnumeros\u001b[0m\u001b[1;33m:\u001b[0m\u001b[1;33m\u001b[0m\u001b[1;33m\u001b[0m\u001b[0m\n\u001b[1;32m----> 5\u001b[1;33m         \u001b[0msoma\u001b[0m \u001b[1;33m=\u001b[0m \u001b[0msoma\u001b[0m \u001b[1;33m+\u001b[0m \u001b[0mn\u001b[0m\u001b[1;33m\u001b[0m\u001b[1;33m\u001b[0m\u001b[0m\n\u001b[0m\u001b[0;32m      6\u001b[0m     \u001b[1;32mreturn\u001b[0m \u001b[0msoma\u001b[0m\u001b[1;33m\u001b[0m\u001b[1;33m\u001b[0m\u001b[0m\n\u001b[0;32m      7\u001b[0m \u001b[1;33m\u001b[0m\u001b[0m\n",
      "\u001b[1;31mTypeError\u001b[0m: unsupported operand type(s) for +: 'int' and 'list'"
     ]
    }
   ],
   "source": [
    "lista = [2, 4, 6, 8, 10]\n",
    "\n",
    "soma = somatorio(lista)\n",
    "\n",
    "print(soma)"
   ]
  },
  {
   "cell_type": "code",
   "execution_count": 31,
   "metadata": {},
   "outputs": [
    {
     "name": "stdout",
     "output_type": "stream",
     "text": [
      "(2, 4, 6, 8, 10)\n",
      "30\n"
     ]
    }
   ],
   "source": [
    "lista = [2, 4, 6, 8, 10]\n",
    "\n",
    "soma = somatorio(*lista) # o asterisco na CHAMADA DA FUNÇÃO expande uma coleção, passando seus elementos de maneira avulsa\n",
    "\n",
    "print(soma)"
   ]
  },
  {
   "cell_type": "code",
   "execution_count": 33,
   "metadata": {},
   "outputs": [
    {
     "name": "stdout",
     "output_type": "stream",
     "text": [
      "('o', 'i', ',', ' ', 's', 'o', 'u', ' ', 'u', 'm', 'a', ' ', 's', 't', 'r', 'i', 'n', 'g', ' ', 'd', 'e', ' ', 't', 'e', 's', 't', 'e')\n"
     ]
    },
    {
     "ename": "TypeError",
     "evalue": "unsupported operand type(s) for +: 'int' and 'str'",
     "output_type": "error",
     "traceback": [
      "\u001b[1;31m---------------------------------------------------------------------------\u001b[0m",
      "\u001b[1;31mTypeError\u001b[0m                                 Traceback (most recent call last)",
      "\u001b[1;32m<ipython-input-33-6b001d0ebef8>\u001b[0m in \u001b[0;36m<module>\u001b[1;34m\u001b[0m\n\u001b[0;32m      1\u001b[0m \u001b[0mstringteste\u001b[0m \u001b[1;33m=\u001b[0m \u001b[1;34m'oi, sou uma string de teste'\u001b[0m\u001b[1;33m\u001b[0m\u001b[1;33m\u001b[0m\u001b[0m\n\u001b[1;32m----> 2\u001b[1;33m \u001b[0msomatorio\u001b[0m\u001b[1;33m(\u001b[0m\u001b[1;33m*\u001b[0m\u001b[0mstringteste\u001b[0m\u001b[1;33m)\u001b[0m\u001b[1;33m\u001b[0m\u001b[1;33m\u001b[0m\u001b[0m\n\u001b[0m",
      "\u001b[1;32m<ipython-input-30-02908ba99d56>\u001b[0m in \u001b[0;36msomatorio\u001b[1;34m(*numeros)\u001b[0m\n\u001b[0;32m      3\u001b[0m     \u001b[0msoma\u001b[0m \u001b[1;33m=\u001b[0m \u001b[1;36m0\u001b[0m\u001b[1;33m\u001b[0m\u001b[1;33m\u001b[0m\u001b[0m\n\u001b[0;32m      4\u001b[0m     \u001b[1;32mfor\u001b[0m \u001b[0mn\u001b[0m \u001b[1;32min\u001b[0m \u001b[0mnumeros\u001b[0m\u001b[1;33m:\u001b[0m\u001b[1;33m\u001b[0m\u001b[1;33m\u001b[0m\u001b[0m\n\u001b[1;32m----> 5\u001b[1;33m         \u001b[0msoma\u001b[0m \u001b[1;33m=\u001b[0m \u001b[0msoma\u001b[0m \u001b[1;33m+\u001b[0m \u001b[0mn\u001b[0m\u001b[1;33m\u001b[0m\u001b[1;33m\u001b[0m\u001b[0m\n\u001b[0m\u001b[0;32m      6\u001b[0m     \u001b[1;32mreturn\u001b[0m \u001b[0msoma\u001b[0m\u001b[1;33m\u001b[0m\u001b[1;33m\u001b[0m\u001b[0m\n\u001b[0;32m      7\u001b[0m \u001b[1;33m\u001b[0m\u001b[0m\n",
      "\u001b[1;31mTypeError\u001b[0m: unsupported operand type(s) for +: 'int' and 'str'"
     ]
    }
   ],
   "source": [
    "stringteste = 'oi, sou uma string de teste'\n",
    "somatorio(*stringteste)"
   ]
  },
  {
   "cell_type": "markdown",
   "metadata": {},
   "source": [
    "## Parâmetros opcionais"
   ]
  },
  {
   "cell_type": "code",
   "execution_count": 42,
   "metadata": {},
   "outputs": [],
   "source": [
    "def cadastro(nome, **contato):\n",
    "    #print('contato:', contato)\n",
    "    print('Usuário', nome, 'cadastrado com sucesso!')\n",
    "    print('Dados de contato:')\n",
    "    if 'email' in contato:\n",
    "        print('e-mail:', contato['email'])\n",
    "    if 'telefone' in contato:\n",
    "        print('telefone:', contato['telefone'])\n",
    "    print('---------')"
   ]
  },
  {
   "cell_type": "code",
   "execution_count": 43,
   "metadata": {},
   "outputs": [
    {
     "name": "stdout",
     "output_type": "stream",
     "text": [
      "Usuário João cadastrado com sucesso!\n",
      "Dados de contato:\n",
      "e-mail: joao@gmail.com\n",
      "telefone: (11)98765-4321\n",
      "---------\n",
      "Usuário Maria cadastrado com sucesso!\n",
      "Dados de contato:\n",
      "e-mail: maria@gmail.com\n",
      "---------\n",
      "Usuário José cadastrado com sucesso!\n",
      "Dados de contato:\n",
      "telefone: (11)12345-6789\n",
      "---------\n"
     ]
    }
   ],
   "source": [
    "cadastro('João', email='joao@gmail.com', telefone='(11)98765-4321')\n",
    "cadastro('Maria', email='maria@gmail.com')\n",
    "cadastro('José', telefone='(11)12345-6789')"
   ]
  },
  {
   "cell_type": "markdown",
   "metadata": {},
   "source": [
    "# Aprofundando em listas"
   ]
  },
  {
   "cell_type": "markdown",
   "metadata": {},
   "source": [
    "## Contatenação"
   ]
  },
  {
   "cell_type": "code",
   "execution_count": 44,
   "metadata": {},
   "outputs": [
    {
     "name": "stdout",
     "output_type": "stream",
     "text": [
      "['abc', 123, 3.14, 2.7]\n"
     ]
    }
   ],
   "source": [
    "lista1 = ['abc', 123]\n",
    "lista2 = [3.14, 2.7]\n",
    "\n",
    "lista3 = lista1 + lista2\n",
    "\n",
    "print(lista3)"
   ]
  },
  {
   "cell_type": "code",
   "execution_count": 45,
   "metadata": {},
   "outputs": [
    {
     "name": "stdout",
     "output_type": "stream",
     "text": [
      "['abc', 123, 3.14, 2.7, 'xyz']\n"
     ]
    }
   ],
   "source": [
    "# \"truque\" para usar concatenação para inserir um elemento em uma lista:\n",
    "variavelnova = 'xyz'\n",
    "lista3 = lista3 + [variavelnova]\n",
    "print(lista3)"
   ]
  },
  {
   "cell_type": "markdown",
   "metadata": {},
   "source": [
    "## Slices"
   ]
  },
  {
   "cell_type": "code",
   "execution_count": 47,
   "metadata": {},
   "outputs": [
    {
     "name": "stdout",
     "output_type": "stream",
     "text": [
      "[1, 2, 3, 4, 5]\n"
     ]
    }
   ],
   "source": [
    "lista = [1, 2, 3, 4, 5, 6, 7, 8, 9, 10]\n",
    "\n",
    "#primeiraMetade = lista[0:5]\n",
    "primeiraMetade = lista[:5] # idem acima!\n",
    "print(primeiraMetade)"
   ]
  },
  {
   "cell_type": "code",
   "execution_count": 49,
   "metadata": {},
   "outputs": [
    {
     "name": "stdout",
     "output_type": "stream",
     "text": [
      "[6, 7, 8, 9, 10]\n"
     ]
    }
   ],
   "source": [
    "#segundaMetade = lista[5:10]\n",
    "segundaMetade = lista[5:] # idem acima!\n",
    "print(segundaMetade)"
   ]
  },
  {
   "cell_type": "code",
   "execution_count": 53,
   "metadata": {},
   "outputs": [
    {
     "name": "stdout",
     "output_type": "stream",
     "text": [
      "1\n",
      "[2, 3, 4, 5, 6, 7, 8, 9, 10]\n",
      "10\n",
      "[1, 2, 3, 4, 5, 6, 7, 8, 9]\n"
     ]
    }
   ],
   "source": [
    "# outros exemplos:\n",
    "# separando o primeiro elemento do resto\n",
    "primeiro = lista[0]\n",
    "resto = lista[1:]\n",
    "print(primeiro)\n",
    "print(resto)\n",
    "\n",
    "# separando o último do resto:\n",
    "ultimo = lista[-1]\n",
    "resto2 = lista[:-1]\n",
    "\n",
    "print(ultimo)\n",
    "print(resto2)"
   ]
  },
  {
   "cell_type": "code",
   "execution_count": 52,
   "metadata": {},
   "outputs": [
    {
     "name": "stdout",
     "output_type": "stream",
     "text": [
      "[1, 3, 5, 7, 9]\n",
      "[2, 4, 6, 8, 10]\n"
     ]
    }
   ],
   "source": [
    "# terceiro parâmetro: passo\n",
    "impares = lista[0:10:2]\n",
    "# alternativamente...\n",
    "impares = lista[::2]\n",
    "print(impares)\n",
    "\n",
    "pares = lista[1::2]\n",
    "print(pares)"
   ]
  },
  {
   "cell_type": "markdown",
   "metadata": {},
   "source": [
    "## Compreensão de listas (list comprehension)"
   ]
  },
  {
   "cell_type": "code",
   "execution_count": 54,
   "metadata": {},
   "outputs": [
    {
     "name": "stdout",
     "output_type": "stream",
     "text": [
      "[1, 2, 3, 4, 5, 6, 7, 8, 9, 10]\n"
     ]
    }
   ],
   "source": [
    "# jeito sem compreensão de listas:\n",
    "listascomp = []\n",
    "for numero in range(1, 11):\n",
    "    listascomp.append(numero)\n",
    "print(listascomp)"
   ]
  },
  {
   "cell_type": "code",
   "execution_count": 55,
   "metadata": {},
   "outputs": [
    {
     "name": "stdout",
     "output_type": "stream",
     "text": [
      "[1, 2, 3, 4, 5, 6, 7, 8, 9, 10]\n"
     ]
    }
   ],
   "source": [
    "listacomp = [numero for numero in range(1, 11)]\n",
    "print(listacomp)"
   ]
  },
  {
   "cell_type": "code",
   "execution_count": 58,
   "metadata": {},
   "outputs": [
    {
     "name": "stdout",
     "output_type": "stream",
     "text": [
      "['O', 'l', 'A', ' ', 'M', 'u', 'N', 'd', 'O']\n",
      "OlA MuNdO\n"
     ]
    }
   ],
   "source": [
    "string = 'ola mundo'\n",
    "\n",
    "listaresultado = [string[i].upper() if i % 2 == 0 else string[i].lower() for i in range(len(string))]\n",
    "print(listaresultado)\n",
    "\n",
    "resposta = ''.join(listaresultado)\n",
    "print(resposta)"
   ]
  },
  {
   "cell_type": "markdown",
   "metadata": {},
   "source": [
    "# Funções lambda"
   ]
  },
  {
   "cell_type": "code",
   "execution_count": 64,
   "metadata": {},
   "outputs": [],
   "source": [
    "# essa célula AINDA não é sobre lambda!\n",
    "\n",
    "def maxEspecial(valores, criterio):\n",
    "    maior = valores[0]\n",
    "    for valor in valores:\n",
    "        if criterio(valor, maior):\n",
    "            maior = valor\n",
    "    return maior\n",
    "    "
   ]
  },
  {
   "cell_type": "code",
   "execution_count": 65,
   "metadata": {},
   "outputs": [
    {
     "name": "stdout",
     "output_type": "stream",
     "text": [
      "olá\n",
      "cenourinha\n"
     ]
    }
   ],
   "source": [
    "# vamos imaginar que o nosso critério seja COMPRIMENTO:\n",
    "def maiorComprimento(string1, string2):\n",
    "    if len(string1) > len(string2):\n",
    "        return True\n",
    "    else:\n",
    "        return False\n",
    "\n",
    "listastrs = ['abacate', 'olá', 'batata', 'cenourinha', 'kiwi']\n",
    "\n",
    "maiornormal = max(listastrs)\n",
    "print(maiornormal)\n",
    "\n",
    "maiorespecial = maxEspecial(listastrs, maiorComprimento)\n",
    "print(maiorespecial)"
   ]
  },
  {
   "cell_type": "code",
   "execution_count": 66,
   "metadata": {},
   "outputs": [],
   "source": [
    "funcx = lambda: print('ola lambda!')"
   ]
  },
  {
   "cell_type": "code",
   "execution_count": 67,
   "metadata": {},
   "outputs": [
    {
     "name": "stdout",
     "output_type": "stream",
     "text": [
      "ola lambda!\n"
     ]
    }
   ],
   "source": [
    "funcx()"
   ]
  },
  {
   "cell_type": "code",
   "execution_count": 68,
   "metadata": {},
   "outputs": [
    {
     "name": "stdout",
     "output_type": "stream",
     "text": [
      "8\n"
     ]
    }
   ],
   "source": [
    "somadedois = lambda n1, n2: n1 + n2\n",
    "\n",
    "resultado = somadedois(3, 5)\n",
    "print(resultado)"
   ]
  },
  {
   "cell_type": "code",
   "execution_count": 69,
   "metadata": {},
   "outputs": [],
   "source": [
    "# uma utilidade do lambda: geração \"dinâmica\" de funções\n",
    "\n",
    "def fabricaExpoentes(exp):\n",
    "    return lambda x: x**exp\n",
    "\n",
    "quadrado = fabricaExpoentes(2)\n",
    "cubo = fabricaExpoentes(3)"
   ]
  },
  {
   "cell_type": "code",
   "execution_count": 70,
   "metadata": {},
   "outputs": [
    {
     "name": "stdout",
     "output_type": "stream",
     "text": [
      "4 9 16\n"
     ]
    }
   ],
   "source": [
    "doisquad = quadrado(2)\n",
    "tresquad = quadrado(3)\n",
    "quatroquad = quadrado(4)\n",
    "print(doisquad, tresquad, quatroquad)"
   ]
  },
  {
   "cell_type": "code",
   "execution_count": 73,
   "metadata": {},
   "outputs": [
    {
     "name": "stdout",
     "output_type": "stream",
     "text": [
      "8 27 64\n"
     ]
    }
   ],
   "source": [
    "doiscubo = cubo(2)\n",
    "trescubo = cubo(3)\n",
    "quatrocubo = cubo(4)\n",
    "print(doiscubo, trescubo, quatrocubo)"
   ]
  },
  {
   "cell_type": "code",
   "execution_count": 72,
   "metadata": {},
   "outputs": [
    {
     "name": "stdout",
     "output_type": "stream",
     "text": [
      "olá\n",
      "cenourinha\n"
     ]
    }
   ],
   "source": [
    "listastrs = ['abacate', 'olá', 'batata', 'cenourinha', 'kiwi']\n",
    "\n",
    "maiornormal = max(listastrs)\n",
    "print(maiornormal)\n",
    "\n",
    "# o segundo parâmetro era uma função\n",
    "# podemos substituí-lo por um lambda\n",
    "maiorespecial = maxEspecial(listastrs, lambda x, y: len(x) > len(y))\n",
    "print(maiorespecial)"
   ]
  },
  {
   "cell_type": "markdown",
   "metadata": {},
   "source": [
    "# Tratamento de exceção"
   ]
  },
  {
   "cell_type": "code",
   "execution_count": 80,
   "metadata": {},
   "outputs": [
    {
     "name": "stdout",
     "output_type": "stream",
     "text": [
      "Digite um valor: cinco\n",
      "Você digitou algo complicado. Tente novamente. Muito obrigado!\n"
     ]
    }
   ],
   "source": [
    "valor = input('Digite um valor: ')\n",
    "\n",
    "# TENTE executar o código... Mas pode dar algum problema (exceção)\n",
    "try:\n",
    "    valor = int(valor)\n",
    "    inverso = 1/valor\n",
    "    print(inverso)\n",
    "# se algo deu errado no try, caímos no except\n",
    "except:\n",
    "    print('Você digitou algo complicado. Tente novamente. Muito obrigado!')"
   ]
  },
  {
   "cell_type": "code",
   "execution_count": 84,
   "metadata": {},
   "outputs": [
    {
     "name": "stdout",
     "output_type": "stream",
     "text": [
      "Digite um valor: cinco\n",
      "Cuidado! Você não digitou apenas dígitos numéricos!\n",
      "fim!\n"
     ]
    }
   ],
   "source": [
    "valor = input('Digite um valor: ')\n",
    "\n",
    "# TENTE executar o código... Mas pode dar algum problema (exceção)\n",
    "try:\n",
    "    valor = int(valor)\n",
    "    inverso = 1/valor\n",
    "    print(inverso)\n",
    "    \n",
    "except ValueError:\n",
    "    print('Cuidado! Você não digitou apenas dígitos numéricos!')\n",
    "    \n",
    "except ZeroDivisionError:\n",
    "    print('Cuidado! Você tentou dividir por zero!')\n",
    "    \n",
    "finally:\n",
    "    print('fim!')"
   ]
  },
  {
   "cell_type": "code",
   "execution_count": 88,
   "metadata": {},
   "outputs": [
    {
     "name": "stdout",
     "output_type": "stream",
     "text": [
      "Digite a quantidade: 3\n",
      "Digite a nota: besteira\n",
      "Você digitou algo inválido!\n",
      "Digite a nota: besteira\n",
      "Você digitou algo inválido!\n",
      "Digite a nota: algo invalido\n",
      "Você digitou algo inválido!\n",
      "Digite a nota: 10\n",
      "Digite a nota: outra besteira\n",
      "Você digitou algo inválido!\n",
      "Digite a nota: mais uma besteira\n",
      "Você digitou algo inválido!\n",
      "Digite a nota: 6\n",
      "Digite a nota: 3\n"
     ]
    },
    {
     "data": {
      "text/plain": [
       "[10.0, 6.0, 3.0]"
      ]
     },
     "execution_count": 88,
     "metadata": {},
     "output_type": "execute_result"
    }
   ],
   "source": [
    "notas = []\n",
    "quantidade = int(input('Digite a quantidade: '))\n",
    "\n",
    "for contador in range(quantidade):\n",
    "    valido = False\n",
    "    while not valido: # while valido == False\n",
    "        try: \n",
    "            nota = float(input('Digite a nota: '))\n",
    "            valido = True\n",
    "        except:\n",
    "            print('Você digitou algo inválido!')\n",
    "    notas.append(nota)\n",
    "    \n",
    "notas"
   ]
  },
  {
   "cell_type": "code",
   "execution_count": null,
   "metadata": {},
   "outputs": [],
   "source": []
  },
  {
   "cell_type": "code",
   "execution_count": null,
   "metadata": {},
   "outputs": [],
   "source": []
  },
  {
   "cell_type": "code",
   "execution_count": null,
   "metadata": {},
   "outputs": [],
   "source": []
  }
 ],
 "metadata": {
  "kernelspec": {
   "display_name": "Python 3 (ipykernel)",
   "language": "python",
   "name": "python3"
  },
  "language_info": {
   "codemirror_mode": {
    "name": "ipython",
    "version": 3
   },
   "file_extension": ".py",
   "mimetype": "text/x-python",
   "name": "python",
   "nbconvert_exporter": "python",
   "pygments_lexer": "ipython3",
   "version": "3.9.6"
  }
 },
 "nbformat": 4,
 "nbformat_minor": 4
}
