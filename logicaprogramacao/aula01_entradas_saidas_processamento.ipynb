{
 "cells": [
  {
   "cell_type": "markdown",
   "metadata": {},
   "source": [
    "# Título\n",
    "Essa é uma célula de texto"
   ]
  },
  {
   "cell_type": "code",
   "execution_count": 1,
   "metadata": {},
   "outputs": [
    {
     "name": "stdout",
     "output_type": "stream",
     "text": [
      "Olá Mundo\n"
     ]
    }
   ],
   "source": [
    "print('Olá Mundo')"
   ]
  },
  {
   "cell_type": "code",
   "execution_count": 3,
   "metadata": {},
   "outputs": [
    {
     "name": "stdout",
     "output_type": "stream",
     "text": [
      "Olá Mundo\n"
     ]
    }
   ],
   "source": [
    "# A linha abaixo escreve \"Olá Mundo\" na tela:\n",
    "print('Olá Mundo')\n",
    "# Linhas começadas por '#' são comentários e serão ignorados pelo Python\n",
    "# comentários servem para documentar nosso código"
   ]
  },
  {
   "cell_type": "code",
   "execution_count": 8,
   "metadata": {},
   "outputs": [
    {
     "name": "stdout",
     "output_type": "stream",
     "text": [
      "18\n",
      "O produto custa 1.99\n"
     ]
    }
   ],
   "source": [
    "# variável: um pedacinho da memória que nós iremos reservar e dar um nome para ele\n",
    "# elas podem ter vários tipos diferentes:\n",
    "idade = 18 # inteiro (int): 1, 2, 3, 5, 10, 0, -1, -2...\n",
    "preco = 1.99 # real (float): 3.14, -2.7, 2.0\n",
    "frase = \"Olá Mundo\" # texto/literal/string (str): 'Oi!', \"Olá!\", \"Eu tenho 18 anos\"\n",
    "matriculado = True # lógico/booleano (bool): True, False\n",
    "\n",
    "# o print pode recuperar o valor de uma variável:\n",
    "print(idade)\n",
    "\n",
    "# podemos representar várias informações simultâneas no print:\n",
    "print('O produto custa', preco)"
   ]
  },
  {
   "cell_type": "code",
   "execution_count": 10,
   "metadata": {},
   "outputs": [
    {
     "name": "stdout",
     "output_type": "stream",
     "text": [
      "Digite o seu nome:Rafael\n",
      "Boa noite Rafael\n"
     ]
    }
   ],
   "source": [
    "# input: função de entrada de dados\n",
    "\n",
    "# criando uma variável nova para receber o dado de entrada\n",
    "nome = input('Digite o seu nome:')\n",
    "\n",
    "print('Boa noite', nome)\n"
   ]
  },
  {
   "cell_type": "markdown",
   "metadata": {},
   "source": [
    "### Operadores aritméticos do Python:\n",
    "* Soma: +\n",
    "* Subtração: -\n",
    "* Multiplicação: \\*\n",
    "* Divisão: /\n",
    "* Divisão inteira: //\n",
    "* Resto de divisão: %\n",
    "* Expoente: \\*\\*"
   ]
  },
  {
   "cell_type": "code",
   "execution_count": 12,
   "metadata": {},
   "outputs": [
    {
     "name": "stdout",
     "output_type": "stream",
     "text": [
      "Digite a sua idade:15\n",
      "Falta exatamente 3 anos!\n"
     ]
    }
   ],
   "source": [
    "# Problema: faça um programa que pede a idade do usuário e fala quantos anos restam para que ele se torne maior de idade.\n",
    "\n",
    "# dados de entrada\n",
    "idade = int(input('Digite a sua idade:')) # precisamos converter a entrada para int, pois entradas vem como str!\n",
    "\n",
    "# processamento\n",
    "resto = 18 - idade\n",
    "\n",
    "# dados de saída:\n",
    "print('Falta exatamente', resto, 'anos!')"
   ]
  },
  {
   "cell_type": "code",
   "execution_count": 17,
   "metadata": {},
   "outputs": [
    {
     "name": "stdout",
     "output_type": "stream",
     "text": [
      "Digite um número: 3.14\n"
     ]
    },
    {
     "ename": "ValueError",
     "evalue": "invalid literal for int() with base 10: '3.14'",
     "output_type": "error",
     "traceback": [
      "\u001b[1;31m---------------------------------------------------------------------------\u001b[0m",
      "\u001b[1;31mValueError\u001b[0m                                Traceback (most recent call last)",
      "\u001b[1;32m<ipython-input-17-163d0c5730b0>\u001b[0m in \u001b[0;36m<module>\u001b[1;34m\u001b[0m\n\u001b[0;32m      4\u001b[0m \u001b[0mnumero\u001b[0m \u001b[1;33m=\u001b[0m \u001b[0minput\u001b[0m\u001b[1;33m(\u001b[0m\u001b[1;34m'Digite um número: '\u001b[0m\u001b[1;33m)\u001b[0m \u001b[1;31m# numero é str!\u001b[0m\u001b[1;33m\u001b[0m\u001b[1;33m\u001b[0m\u001b[0m\n\u001b[0;32m      5\u001b[0m \u001b[0mnumeroReal\u001b[0m \u001b[1;33m=\u001b[0m \u001b[0mfloat\u001b[0m\u001b[1;33m(\u001b[0m\u001b[0mnumero\u001b[0m\u001b[1;33m)\u001b[0m \u001b[1;31m# numeroReal é float, numero continua sendo str!\u001b[0m\u001b[1;33m\u001b[0m\u001b[1;33m\u001b[0m\u001b[0m\n\u001b[1;32m----> 6\u001b[1;33m \u001b[0mnumeroInt\u001b[0m \u001b[1;33m=\u001b[0m \u001b[0mint\u001b[0m\u001b[1;33m(\u001b[0m\u001b[0mnumero\u001b[0m\u001b[1;33m)\u001b[0m \u001b[1;31m# numeroInt é int\u001b[0m\u001b[1;33m\u001b[0m\u001b[1;33m\u001b[0m\u001b[0m\n\u001b[0m\u001b[0;32m      7\u001b[0m \u001b[1;33m\u001b[0m\u001b[0m\n\u001b[0;32m      8\u001b[0m \u001b[0mprint\u001b[0m\u001b[1;33m(\u001b[0m\u001b[0mnumeroReal\u001b[0m\u001b[1;33m)\u001b[0m\u001b[1;33m\u001b[0m\u001b[1;33m\u001b[0m\u001b[0m\n",
      "\u001b[1;31mValueError\u001b[0m: invalid literal for int() with base 10: '3.14'"
     ]
    }
   ],
   "source": [
    "# Faça um programa que peça um número para o usuário (string), converta-o para float e depois imprima-o na tela. \n",
    "# Você consegue fazer a mesma coisa, porém convertendo para int?\n",
    "\n",
    "numero = input('Digite um número: ') # numero é str!\n",
    "numeroReal = float(numero) # numeroReal é float, numero continua sendo str!\n",
    "numeroInt = int(numero) # numeroInt é int\n",
    "\n",
    "print(numeroReal)\n",
    "print(numeroInt)\n",
    "\n",
    "# Notem que se digitarmos número com ponto decimal, a conversão para int provoca erro!\n"
   ]
  },
  {
   "cell_type": "code",
   "execution_count": 19,
   "metadata": {},
   "outputs": [
    {
     "name": "stdout",
     "output_type": "stream",
     "text": [
      "Digite um número: 2.9\n",
      "2\n"
     ]
    }
   ],
   "source": [
    "# Solução do Pedro Riva:\n",
    "\n",
    "numero = input('Digite um número: ') # numero é str!\n",
    "numeroReal = float(numero) # numeroReal é float, numero continua sendo str!\n",
    "numeroInt = int(numeroReal) # numeroInt é int - notem que a parte decimal é DESCARTADA, e não arredondada\n",
    "\n",
    "print(numeroInt)"
   ]
  },
  {
   "cell_type": "code",
   "execution_count": 22,
   "metadata": {},
   "outputs": [
    {
     "name": "stdout",
     "output_type": "stream",
     "text": [
      "3.0\n"
     ]
    }
   ],
   "source": [
    "x = round(2.9, 0)\n",
    "print(x)"
   ]
  },
  {
   "cell_type": "code",
   "execution_count": null,
   "metadata": {},
   "outputs": [],
   "source": []
  }
 ],
 "metadata": {
  "kernelspec": {
   "display_name": "Python 3 (ipykernel)",
   "language": "python",
   "name": "python3"
  },
  "language_info": {
   "codemirror_mode": {
    "name": "ipython",
    "version": 3
   },
   "file_extension": ".py",
   "mimetype": "text/x-python",
   "name": "python",
   "nbconvert_exporter": "python",
   "pygments_lexer": "ipython3",
   "version": "3.9.6"
  }
 },
 "nbformat": 4,
 "nbformat_minor": 4
}
