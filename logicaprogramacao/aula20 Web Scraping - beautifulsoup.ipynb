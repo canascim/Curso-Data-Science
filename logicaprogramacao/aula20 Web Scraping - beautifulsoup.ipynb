{
 "cells": [
  {
   "cell_type": "markdown",
   "metadata": {},
   "source": [
    "HTTP\n",
    "\n",
    "CSV <----- Comma Separated Values\n",
    "JSON <---- JavaScript Object Notation\n",
    "XML <----- Extended Markup Language\n",
    "\n",
    "JSON:\n",
    "```\n",
    "{\n",
    "    \"nome\":\"José\",\n",
    "    \"idade\":42\n",
    "}\n",
    "\n",
    "```\n",
    "XML:\n",
    "```\n",
    "<pessoa>\n",
    "    <nome>José</nome>\n",
    "    <idade>42</idade>\n",
    "</pessoa>\n",
    "```"
   ]
  },
  {
   "cell_type": "markdown",
   "metadata": {},
   "source": [
    "## HTML: HyperText Markup Language\n",
    "\n",
    "- HTML\n",
    "- CSS\n",
    "- JavaScript\n",
    "\n"
   ]
  },
  {
   "cell_type": "markdown",
   "metadata": {},
   "source": [
    "```\n",
    "<html>\n",
    "\t<head>\n",
    "\t\t<title>Meu site! :)</title>\n",
    "\t</head>\n",
    "\n",
    "\t<body>\n",
    "\t\t<p>Meu primeiro paragrafo!</p>\n",
    "\t\t<p>Meu segundo paragrafo!</p>\n",
    "\t\t<h1>Titulo 1</h1>\n",
    "\t\t<h2>Titulo 2</h2>\n",
    "\t</body>\n",
    "</html>\n",
    "```"
   ]
  },
  {
   "cell_type": "code",
   "execution_count": 13,
   "metadata": {},
   "outputs": [
    {
     "name": "stdout",
     "output_type": "stream",
     "text": [
      "Python & Dados - A principal linguagem para análise de dados, Data Science e Machine Learning. - <Trilha>\n",
      "Web Full Stack - Formação completa com as ferramentas mais modernas para o desenvolvimento de Web Apps. - <Trilha>\n",
      "Data Science Degree - Formação Técnica -  900h\n",
      "Web Full Stack Degree - Formação Técnica -  1160h\n",
      "Python - Nenhum -  48h\n",
      "Web Front-End & React - Nenhum -  72h\n",
      "Data Science & I.A. - Python -  72h\n",
      "Java - Nenhum -  72h\n"
     ]
    }
   ],
   "source": [
    "import requests\n",
    "from bs4 import BeautifulSoup\n",
    "\n",
    "#### Nessa região estamos trabalhando com o módulo requests\n",
    "# solicita o recurso (site)\n",
    "resposta = requests.get('https://letscode.com.br/')\n",
    "# acessa o conteúdo obtido na resposta (código html do site)\n",
    "html = resposta.text\n",
    "#### fim da parte do código com o módulo requests\n",
    "\n",
    "\n",
    "#### Daqui pra frente usaremos apenas recursos da BeautifulSoup\n",
    "# começando criando um objeto BeautifulSoup:\n",
    "sopa = BeautifulSoup(html, 'html.parser') # 'html.parser' é um interpretador de HTML que já vem com Python | 'lxml' é um parser de xml\n",
    "\n",
    "'''\n",
    "# o método .find localiza A PRIMEIRA OCORRÊNCIA que atenda aos parâmetros passados\n",
    "curso = sopa.find('div', class_='card')\n",
    "\n",
    "print('HTML Completo:\\n', curso)\n",
    "print('-----')\n",
    "print('Conteúdo textual:\\n', curso.text)\n",
    "'''\n",
    "\n",
    "# o método .find_all retorna uma LISTA de objetos BeautifulSoup contendo TODAS as ocorrências que atendam aos parâmetros\n",
    "cursos = sopa.find_all('div', class_='card')\n",
    "\n",
    "for curso in cursos:\n",
    "    titulo = curso.find('p', class_='card__text__title')\n",
    "    if titulo == None:\n",
    "        textoTitulo = '<Sem Titulo>'\n",
    "    else:\n",
    "        textoTitulo = titulo.text\n",
    "\n",
    "    infos = curso.find_all('p', style='font-weight:400')\n",
    "    \n",
    "    if len(infos) == 0:\n",
    "        \n",
    "        infos = curso.find_all('p', class_='card__text__desc')\n",
    "        \n",
    "        if len(infos) == 0:\n",
    "            prereq = '<sem pre-req>'\n",
    "            carga = '<sem carga>'\n",
    "        elif len(infos) == 1:\n",
    "            prereq = infos[0].text\n",
    "            carga = '<Trilha>'\n",
    "        else:\n",
    "            prereq = infos[0].text\n",
    "            carga = infos[1].text\n",
    "        \n",
    "    else:\n",
    "        prereq = infos[0].text\n",
    "        carga = infos[1].text\n",
    "        \n",
    "    print(textoTitulo, '-', prereq, '-', carga)"
   ]
  },
  {
   "cell_type": "code",
   "execution_count": 8,
   "metadata": {},
   "outputs": [
    {
     "name": "stdout",
     "output_type": "stream",
     "text": [
      "aaaa\n",
      "None\n",
      "<class 'NoneType'>\n"
     ]
    }
   ],
   "source": [
    "def qualquer():\n",
    "    print('aaaa')\n",
    "    \n",
    "x = qualquer()\n",
    "print(x) # None: um objeto \"vazio\" (ex: pegamos retorno de função que não retorna nada!)\n",
    "print(type(x)) # NoneType: é o tipo do objeto None"
   ]
  },
  {
   "cell_type": "code",
   "execution_count": 16,
   "metadata": {},
   "outputs": [
    {
     "name": "stdout",
     "output_type": "stream",
     "text": [
      "cursosLC.csv criado com sucesso!\n"
     ]
    }
   ],
   "source": [
    "import requests\n",
    "from bs4 import BeautifulSoup\n",
    "import csv\n",
    "\n",
    "planilha = [ ['Curso', 'Descricao/PreReq', 'Carga H.']]\n",
    "\n",
    "#### Nessa região estamos trabalhando com o módulo requests\n",
    "# solicita o recurso (site)\n",
    "resposta = requests.get('https://letscode.com.br/')\n",
    "# acessa o conteúdo obtido na resposta (código html do site)\n",
    "html = resposta.text\n",
    "#### fim da parte do código com o módulo requests\n",
    "\n",
    "\n",
    "#### Daqui pra frente usaremos apenas recursos da BeautifulSoup\n",
    "# começando criando um objeto BeautifulSoup:\n",
    "sopa = BeautifulSoup(html, 'html.parser') # 'html.parser' é um interpretador de HTML que já vem com Python | 'lxml' é um parser de xml\n",
    "\n",
    "'''\n",
    "# o método .find localiza A PRIMEIRA OCORRÊNCIA que atenda aos parâmetros passados\n",
    "curso = sopa.find('div', class_='card')\n",
    "\n",
    "print('HTML Completo:\\n', curso)\n",
    "print('-----')\n",
    "print('Conteúdo textual:\\n', curso.text)\n",
    "'''\n",
    "\n",
    "# o método .find_all retorna uma LISTA de objetos BeautifulSoup contendo TODAS as ocorrências que atendam aos parâmetros\n",
    "cursos = sopa.find_all('div', class_='card')\n",
    "\n",
    "for curso in cursos:\n",
    "    titulo = curso.find('p', class_='card__text__title')\n",
    "    if titulo == None:\n",
    "        textoTitulo = '<Sem Titulo>'\n",
    "    else:\n",
    "        textoTitulo = titulo.text\n",
    "\n",
    "    infos = curso.find_all('p', style='font-weight:400')\n",
    "    \n",
    "    if len(infos) == 0:\n",
    "        \n",
    "        infos = curso.find_all('p', class_='card__text__desc')\n",
    "        \n",
    "        if len(infos) == 0:\n",
    "            prereq = '<sem pre-req>'\n",
    "            carga = '<sem carga>'\n",
    "        elif len(infos) == 1:\n",
    "            prereq = infos[0].text\n",
    "            carga = '<Trilha>'\n",
    "        else:\n",
    "            prereq = infos[0].text\n",
    "            carga = infos[1].text\n",
    "        \n",
    "    else:\n",
    "        prereq = infos[0].text\n",
    "        carga = infos[1].text\n",
    "        \n",
    "    planilha.append([textoTitulo, prereq, carga])\n",
    "    \n",
    "arquivo = open('cursosLC.csv', 'w')\n",
    "escritor = csv.writer(arquivo, delimiter=';', lineterminator='\\n')\n",
    "escritor.writerows(planilha)\n",
    "arquivo.close()\n",
    "print('cursosLC.csv criado com sucesso!')"
   ]
  },
  {
   "cell_type": "code",
   "execution_count": null,
   "metadata": {},
   "outputs": [],
   "source": []
  },
  {
   "cell_type": "code",
   "execution_count": 19,
   "metadata": {},
   "outputs": [
    {
     "name": "stdout",
     "output_type": "stream",
     "text": [
      "Digite o produto para buscar: celular\n",
      "https://lista.mercadolivre.com.br/celular_DisplayType_G\n"
     ]
    }
   ],
   "source": [
    "import requests\n",
    "from bs4 import BeautifulSoup\n",
    "\n",
    "produto = input('Digite o produto para buscar: ')\n",
    "url1 = 'https://lista.mercadolivre.com.br/'\n",
    "url2 = '_DisplayType_G'\n",
    "\n",
    "# print(url1 + produto + url2)\n",
    "\n",
    "resposta = requests.get(url1 + produto + url2)\n",
    "\n",
    "sopa = BeautifulSoup(resposta.text, 'html.parser')"
   ]
  },
  {
   "cell_type": "code",
   "execution_count": null,
   "metadata": {},
   "outputs": [],
   "source": []
  }
 ],
 "metadata": {
  "kernelspec": {
   "display_name": "Python 3",
   "language": "python",
   "name": "python3"
  },
  "language_info": {
   "codemirror_mode": {
    "name": "ipython",
    "version": 3
   },
   "file_extension": ".py",
   "mimetype": "text/x-python",
   "name": "python",
   "nbconvert_exporter": "python",
   "pygments_lexer": "ipython3",
   "version": "3.7.6"
  }
 },
 "nbformat": 4,
 "nbformat_minor": 4
}
