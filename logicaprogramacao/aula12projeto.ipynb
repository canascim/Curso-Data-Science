{
 "cells": [
  {
   "cell_type": "markdown",
   "metadata": {},
   "source": [
    "# Comparador de ações\n",
    "\n",
    "Olá! Temos ótimas notícias: seu chefe está muito feliz com o seu desempenho e você recebeu uma bela bonificação em dinheiro como recompensa!\n",
    "\n",
    "Depois de pensar um pouco, você decidiu que não é hora de trocar de carro nem de renovar o guarda-roupa, e concluiu que é uma boa ideia aplicar esse dinheiro para o futuro.\n",
    "\n",
    "Como a taxa SELIC está em um momento de baixa histórica, sua conclusão foi que vale mais à pena investir em uma empresa, comprando suas ações. Tenha em mente que o seu objetivo é de longo-prazo. Você não pretende praticar day trading, mas \"esquecer\" do dinheiro e resgatá-lo em sua aposentadoria.\n",
    "\n",
    "Antes de tomar uma decisão tão importante, você decidiu fazer uma análise mais cuidadosa das suas empresas favoritas para ver qual ou quais oferecem mais segurança. E a ferramenta mais natural para isso são os seus conhecimentos adquiridos em seu curso de programação em Python!"
   ]
  },
  {
   "cell_type": "markdown",
   "metadata": {},
   "source": [
    "### Como enviar o programa para avaliação?\n",
    "\n",
    "Na última aula liberada no Class (Funções com parâmetros variáveis e retornos múltiplos) há uma nova lista de exercícios. Essa lista contém um único exercício: este trabalho.\n",
    "\n",
    "Copiar/colar um Jupyter Notebook seria muito trabalhoso. Ao invés disso, quando você tiver concluído completamente seu trabalho, aqui no Jupyter clique em FILE > DOWNLOAD AS > PYTHON (.py). \n",
    "\n",
    "Abra o arquivo .py gerado no Bloco de Notas ou equivalente, copie todo seu conteúdo e cole como resposta do exercício no Class."
   ]
  },
  {
   "cell_type": "markdown",
   "metadata": {},
   "source": [
    "### Fonte de dados: Alpha Vantage\n",
    "\n",
    "Seu programa precisará de dados sobre as ações para ajudá-lo em sua tomada de decisão. Utilizaremos uma API para obter esses dados. Não se preocupe com detalhes sobre o que é uma API, estudaremos isso muito em breve. Por hora, vamos aceitar que é uma fonte de dados da internet. \n",
    "\n",
    "A API escolhida para essa tarefa foi a Alpha Vantage. Ela é bastante completa, contendo mais de 20 anos de histórico sobre ações em bolsas ao redor do mundo. E o melhor: ela é *grátis*. Para utilizá-la, porém, é necessário fornecer seu endereço de e-mail e eles enviarão uma chave de acesso. \n",
    "\n",
    "Faça seu registro em https://www.alphavantage.co/support/#api-key e atualize a variável \"alphakey\" na célula abaixo com a chave que você recebeu por e-mail. Lembre-se que essa chave é uma string. Não se esqueça de executar a célula após atualizar sua chave!"
   ]
  },
  {
   "cell_type": "code",
   "execution_count": null,
   "metadata": {},
   "outputs": [],
   "source": [
    "alphakey = 'insira sua chave aqui'"
   ]
  },
  {
   "cell_type": "markdown",
   "metadata": {},
   "source": [
    "Vamos testar nossa chave? A célula abaixo irá mostrar algumas informações sobre o valor da PETR3.SA (Petrobrás ON) no dia 30/06/2021. Execute o código abaixo e veja se ele mostra corretamente os valores ou alguma mensagem de erro."
   ]
  },
  {
   "cell_type": "code",
   "execution_count": null,
   "metadata": {},
   "outputs": [],
   "source": [
    "import requests\n",
    "\n",
    "teste = requests.get('https://www.alphavantage.co/query?function=TIME_SERIES_DAILY&symbol=PETR3.SA&apikey='+alphakey)\n",
    "teste = teste.json()\n",
    "print(teste['Time Series (Daily)']['2021-06-30'])"
   ]
  },
  {
   "cell_type": "markdown",
   "metadata": {},
   "source": [
    "### Preparando nossos dados\n",
    "\n",
    "Você verá que mais para frente teremos alguns trechos de código pronto para auxiliá-lo. Esses trechos de código utilizam funções, mas aqui entra a \"pegadinha\": várias dessas funções estão em branco e você deverá elaborar sua lógica!\n",
    "\n",
    "Seu primeiro trabalho será ajudar a organizar os dados. Nossos trechos de código pronto fornecerão para você um dicionário contendo as informações por data. Cada data é uma chave, e o seu valor será outro dicionário contendo as diferentes informações sobre cada dia (valor de abertura, fechamento, máximo, mínimo e volume de negociações). Veja um exemplo desse dicionário abaixo.\n",
    "\n",
    "```\n",
    "{'2021-06-30': \n",
    "    {'1. open': '29.6000', \n",
    "     '2. high': '30.4900', \n",
    "     '3. low': '29.4700', \n",
    "     '4. close': '30.2900', \n",
    "     '5. volume': '38464700'}, \n",
    " '2021-06-29': \n",
    "    {'1. open': '29.3200', \n",
    "     '2. high': '29.7600', \n",
    "     '3. low': '29.0000', \n",
    "     '4. close': '29.6800', \n",
    "     '5. volume': '18320100'}, \n",
    " '2021-06-28': \n",
    "    {'1. open': '29.4900', \n",
    "     '2. high': '29.5600', \n",
    "     '3. low': '29.0200', \n",
    "     '4. close': '29.2800', \n",
    "     '5. volume': '11133400'},\n",
    "  ...\n",
    "}\n",
    "```"
   ]
  },
  {
   "cell_type": "markdown",
   "metadata": {},
   "source": [
    "A função formataInfos esboçada na célula abaixo irá receber um dicionário como esse exibido acima e deverá retornar duas listas:\n",
    "* A primeira deve conter todas as datas, em ordem crescente. As datas devem ser mantidas no formato que estão no dicionário: uma string no formato 'aaaa-mm-dd'.\n",
    "* A segunda deve conter todos os valores de fechamento. Cada valor deverá estar no índice correspondente ao de sua data. Os dados devem ser convertidos para float.\n",
    "Para o exemplo acima, suas listas ficariam:\n",
    "```\n",
    "datas = ['2021-06-28', '2021-06-29', '2021-06-30']\n",
    "valores = [29.28, 29.68, 30.29]\n",
    "```\n",
    "\n"
   ]
  },
  {
   "cell_type": "code",
   "execution_count": null,
   "metadata": {},
   "outputs": [],
   "source": [
    "def formataInfos(dicionario):\n",
    "    datas = []\n",
    "    valores = []\n",
    "    \n",
    "    # insira sua lógica aqui!\n",
    "    \n",
    "    return datas, valores"
   ]
  },
  {
   "cell_type": "markdown",
   "metadata": {},
   "source": [
    "Se estivermos comparando ações de uma empresa mais recente com uma empresa mais antiga, teremos um problema: pode acontecer de termos mais datas para uma das empresas do que para a outra. Isso irá comprometer o funcionamento do nosso programa - por exemplo, o gráfico da mais nova pode ficar deslocado.\n",
    "\n",
    "A função preencheZeros esboçada abaixo recebe 4 listas: datas de uma empresa, valores dessa mesma empresa, datas da outra empresa, valores dessa outra empresa. Ela deve testar se as empresas possuem a mesma quantidade de dados. Caso alguma delas possua MENOS, sua lista de datas deve ser \"completada\" com as datas que a empresa mais antiga possui e ela não. Os valores correspondentes na lista de valores serão preenchidos com 0.\n",
    "\n",
    "Exemplo de entrada:\n",
    "```\n",
    "datas1 = ['2021-06-28', '2021-06-29', '2021-06-30']\n",
    "valores1 = [29.28, 29.68, 30.29]\n",
    "datas2 =  ['2021-06-29', '2021-06-30']\n",
    "valores2 = [31.43, 30.98]\n",
    "```\n",
    "Saída correspondente:\n",
    "```\n",
    "datas1 = ['2021-06-28', '2021-06-29', '2021-06-30']\n",
    "valores1 = [29.28, 29.68, 30.29]\n",
    "datas2 =  ['2021-06-28', '2021-06-29', '2021-06-30']\n",
    "valores2 = [0.0, 31.43, 30.98]\n",
    "```\n",
    "\n",
    "Note que você modificará diretamente as listas recebidas, não sendo necessário retornar nada."
   ]
  },
  {
   "cell_type": "code",
   "execution_count": null,
   "metadata": {},
   "outputs": [],
   "source": [
    "def preencheZeros(datas1, valores1, datas2, valores2):\n",
    "    \n",
    "    # sua lógica aqui!\n",
    "    \n",
    "    pass # esse comando não faz nada, é apenas um \"placeholder\" para seu código. Pode apagá-lo!"
   ]
  },
  {
   "cell_type": "markdown",
   "metadata": {},
   "source": [
    "Se você já viu gráficos mostrando o valor de ações ao longo do tempo, certamente já percebeu que eles são extremamente ruidosos. Isso é causado por pequenas oscilações de um dia pro outro, de uma hora para outra e até mesmo de um minuto para o outro. Essas oscilações ocorrem por movimentos naturais de compra e venda.\n",
    "\n",
    "Como essas oscilações são mais ou menos aleatórias e ocorrem com a mesma frequência para cima e para baixo, seu efeito para análises de longo prazo pode ser desprezado. Estamos mais interessados na tendência geral de crescimento ou queda ao longo de muitos meses ou anos, e não em pequenas variações de humor do mercado.\n",
    "\n",
    "Podemos suavizar nossa curva utilizando um filtro de média móvel. Esse filtro define o valor de um ponto na curva como sendo a média dos \"n\" pontos anteriores. O número \"n\" de pontos utilizado para a média está relacionado ao grau de atenuação do ruído. Quanto mais alto esse valor, maior a atenuação - mas se for alto demais, pode comprometer o formato geral da curva.\n",
    "\n",
    "O gráfico abaixo ilustra a média móvel em ação. Note que em azul escuro temos uma curva bastante \"rabiscada\", e em azul mais claro há uma curva mais suave, mostrando o formato da curva original sem as oscilações aleatórias.\n",
    "\n",
    "![](https://upload.wikimedia.org/wikipedia/commons/thumb/8/87/Austrian_stock_market_index.jpg/640px-Austrian_stock_market_index.jpg)\n",
    "\n",
    "Vamos suavizar as curvas de nossa base de dados?\n",
    "\n",
    "A função mediaMovel abaixo recebe uma lista de valores e um fator \"n\". Ela deve _retornar_ uma lista contendo o sinal filtrado.\n",
    "\n",
    "**Atenção:** se você tem n=10 e está calculando a amostra no índice 5, você NÃO deve pegar os índices negativos para completar 10 amostras. Pegue apenas os índices de 0 até 4. O comecinho da curva irá se distorcer um pouco, mas ela rapidamente converge para a forma da curva original."
   ]
  },
  {
   "cell_type": "code",
   "execution_count": null,
   "metadata": {},
   "outputs": [],
   "source": [
    "def mediaMovel(valores, n):\n",
    "    filtrado = []\n",
    "    \n",
    "    # insira sua lógica aqui  \n",
    "        \n",
    "    return filtrado\n",
    "    "
   ]
  },
  {
   "cell_type": "markdown",
   "metadata": {},
   "source": [
    "Vamos testar nossa média móvel? Execute o código abaixo. Se sua média móvel estiver correta, você deve ver um gráfico com comportamento semelhante ao gráfico acima: uma curva \"rabiscada\" e outra suave com o mesmo formato aproximado."
   ]
  },
  {
   "cell_type": "code",
   "execution_count": null,
   "metadata": {},
   "outputs": [],
   "source": [
    "from matplotlib import pyplot as plt\n",
    "import random\n",
    "import math\n",
    "\n",
    "sinal = [math.sin(x) + (random.randint(-10,10)/10) for x in range(100)]\n",
    "suave = mediaMovel(sinal, 10)\n",
    "\n",
    "plt.plot(sinal)\n",
    "plt.plot(suave)"
   ]
  },
  {
   "cell_type": "markdown",
   "metadata": {},
   "source": [
    "### Extraindo informações\n",
    "\n",
    "Estamos indo bem! Até o momento você já se registrou para utilizar uma API, separou os dados que utilizaremos, preencheu lacunas nos dados e filtrou o ruído da informação. Hora de começarmos a levantar informações que possam ser úteis para a tomada de decisões.\n",
    "\n",
    "Vamos começar pela mais fácil: máximos e mínimos.\n",
    "\n",
    "A função maiorData abaixo recebe uma lista de datas e uma lista com os respectivos valores e retorna o maior de todos os valores e a respectiva data, no formato (data, valor).\n",
    "\n",
    "A função menorData é semelhante, mas para o menor valor."
   ]
  },
  {
   "cell_type": "code",
   "execution_count": null,
   "metadata": {},
   "outputs": [],
   "source": [
    "def maiorData(datas, valores):\n",
    "    data = datas[0]\n",
    "    valor = valores[0]\n",
    "    \n",
    "    # insira sua lógica aqui\n",
    "    \n",
    "    return data, valor\n",
    "\n",
    "def menorData(datas, valores):\n",
    "    data = datas[0]\n",
    "    valor = valores[0]\n",
    "    \n",
    "    # insira sua lógica aqui\n",
    "    \n",
    "    return data, valor"
   ]
  },
  {
   "cell_type": "markdown",
   "metadata": {},
   "source": [
    "Outra informação que pode ser útil é a amplitude. Ela pode mostrar o tamanho das surpresas (positivas ou negativas) que outros investidores naquele ativo já tiveram. A amplitude será a diferença entre o maior e o menor valor. Mas como saber se essa oscilação foi boa ou ruim?\n",
    "\n",
    "* se a data do maior valor foi superior à do menor valor, a amplitude será positiva (max - min)\n",
    "* se a data do maior valor foi inferior à do menor, a amplitude será negativa (min - max)\n",
    "\n",
    "A função amplitude irá receber, respectivamente, a data do maior valor, o maior valor, a data do menor valor e o menor valor, e deverá retornar o valor correto da amplitude (atente-se à ordem para fazer a subtração corretamente conforme a regrinha acima)."
   ]
  },
  {
   "cell_type": "code",
   "execution_count": null,
   "metadata": {},
   "outputs": [],
   "source": [
    "def amplitude(maiordata, maiorvalor, menordata, menorvalor):\n",
    "    amp = 0\n",
    "    # insira sua logica aqui\n",
    "    \n",
    "    return amp"
   ]
  },
  {
   "cell_type": "markdown",
   "metadata": {},
   "source": [
    "Uma ferramenta estatística que pode nos auxiliar a entender a tendência de longo prazo (e desprezando muitos detalhes...) é a regressão linear. \n",
    "\n",
    "Na regressão linear nós partimos de um conjunto de pontos de dados e tentamos gerar a reta que melhor se aproxime desses pontos. \n",
    "\n",
    "Naturalmente, não podemos levar a regressão linear totalmente ao pé da letra para curvas complexas, como a oscilação dos valores de ações. Mas ela pode nos dar uma indicação se o comportamento geral da curva foi de subida ou de queda.\n",
    "\n",
    "Podemos escrever uma reta na forma:\n",
    "```\n",
    "y = ax + b\n",
    "```\n",
    "\n",
    "Onde \"a\" é o coeficiente angular da reta (relacionado ao grau de inclinação da reta), e b indica o valor de y quando x = 0.\n",
    "\n",
    "Quanto maior o valor de \"a\", mais rápido a reta cresce - bastante desejável em nosso caso! Valores negativos de \"a\" indicam reta decrescente.\n",
    "\n",
    "A função abaixo utiliza uma função pronta para calcular os termos \"a\" e \"b\" da reta, além de gerar uma lista de valores de x. Seu trabalho será simples: gere uma lista contendo o valor de \"y\" para cada valor de \"x\". Esses são os valores da reta obtida e serão usados para traçar o gráfico.\n",
    "\n",
    "A função retornará, na ordem, a, b, x e y."
   ]
  },
  {
   "cell_type": "code",
   "execution_count": null,
   "metadata": {},
   "outputs": [],
   "source": [
    "from scipy.stats import linregress\n",
    "\n",
    "def regressaoLinear(valores):\n",
    "    x = list(range(len(valores)))\n",
    "    y = []\n",
    "    \n",
    "    stats = linregress(x, valores) # calculamos a regressão linear\n",
    "    a = stats.slope # coeficiente angular\n",
    "    b = stats.intercept # onde intercepta o eixo y\n",
    "    \n",
    "    # agora é com você: calcule os valores de y para cada x da reta!\n",
    "    # insira sua lógica aqui\n",
    "    \n",
    "    return a, b, x, y"
   ]
  },
  {
   "cell_type": "markdown",
   "metadata": {},
   "source": [
    "Vamos testar nossa regressaoLinear? Lembra dos dados que testamos nossa média móvel lá em cima? Rode o trecho abaixo e veja a regressão linear daqueles dados."
   ]
  },
  {
   "cell_type": "code",
   "execution_count": null,
   "metadata": {},
   "outputs": [],
   "source": [
    "a, b, x, y = regressaoLinear(suave)\n",
    "\n",
    "plt.plot(sinal)\n",
    "plt.plot(suave)\n",
    "plt.plot(y)"
   ]
  },
  {
   "cell_type": "markdown",
   "metadata": {},
   "source": [
    "### Resultados\n",
    "\n",
    "Agora que você já suou a camisa implementando diversas funções, chegou a hora de ver o resultado. \n",
    "\n",
    "Você está recebendo de presente, 100% pronta, uma função que recebe uma lista de símbolos de ações (como 'PETR3.SA', 'MGLU3.SA' etc), mostra os valores de máximo e mínimo de cada uma, a maior amplitude detectada, informa se a oscilação foi positiva ou negativa e no final plota os gráficos comparando seu desempenho. Não modifique essa função!"
   ]
  },
  {
   "cell_type": "code",
   "execution_count": null,
   "metadata": {},
   "outputs": [],
   "source": [
    "def resultados(acoes):\n",
    "    dicionario = {}\n",
    "    plt.rcParams['figure.figsize'] = [12, 8]\n",
    "    plt.rcParams['figure.dpi'] = 100\n",
    "    for a in acoes:\n",
    "        try:\n",
    "            print('Baixando e processando os dados de', a+'...')\n",
    "            resposta = requests.get('https://www.alphavantage.co/query?function=TIME_SERIES_MONTHLY&symbol='+a+'&apikey='+alphakey)\n",
    "            resposta = resposta.json()\n",
    "            \n",
    "            # separar datas e valores\n",
    "            print('Formatando...')\n",
    "            datas, valores = formataInfos(resposta['Monthly Time Series'])\n",
    "            \n",
    "            # maior, menor e amplitude:\n",
    "            maiordata, maiorvalor = maiorData(datas, valores)\n",
    "            menordata, menorvalor = menorData(datas, valores)\n",
    "            amp = amplitude(maiordata, maiorvalor, menordata, menorvalor)\n",
    "            \n",
    "            # preenche com zeros se estiver faltando algo\n",
    "            print('Preenchendo lacunas...')\n",
    "            for chave in dicionario:\n",
    "                preencheZeros(datas, valores, dicionario[chave]['datas'], dicionario[chave]['valores'])\n",
    "                preencheZeros(datas, valores, dicionario[chave]['datas'], dicionario[chave]['movel'])\n",
    "            \n",
    "            # calcula a média móvel\n",
    "            print('Calculando média móvel...')\n",
    "            movel = mediaMovel(valores, 10)            \n",
    "            \n",
    "            # calcula a regressão linear da média móvel\n",
    "            m, b, x, y = regressaoLinear(movel)\n",
    "            plt.plot(datas, valores)\n",
    "            plt.plot(datas, movel)\n",
    "            plt.plot(datas, y)\n",
    "            plt.title(a)\n",
    "            plt.xticks(rotation=45, fontsize='xx-small')\n",
    "            plt.xlabel('Data')\n",
    "            plt.ylabel('Valor')\n",
    "            plt.legend(['Valor bruto', 'Média móvel', 'Regressão Linear'])\n",
    "            plt.tight_layout()\n",
    "            plt.show()\n",
    "            \n",
    "            # adiciona dados ao dicionario:\n",
    "            dicionario[a] = {'datas':datas, 'valores':valores, 'movel':movel, 'm':m, \n",
    "                             'maiordata':maiordata, 'maiorvalor':maiorvalor, 'menordata':menordata, 'menorvalor':menorvalor,\n",
    "                            'amp':amp}\n",
    "                        \n",
    "        except:\n",
    "            print('Houve um problema ao trabalhar com a ação', a)\n",
    "            \n",
    "    # gerando informações comparativas\n",
    "    for chave in dicionario:\n",
    "        print(chave)\n",
    "        print('Maior valor foi {}, atingido em {}.'.format(dicionario[chave]['maiorvalor'], dicionario[chave]['maiordata']))\n",
    "        print('Menor valor foi {}, atingido em {}.'.format(dicionario[chave]['menorvalor'], dicionario[chave]['menordata'],))\n",
    "        print('A maior amplitude foi',dicionario[chave]['amp'])\n",
    "        plt.plot(dicionario[chave]['datas'], dicionario[chave]['movel'])\n",
    "    \n",
    "    plt.xlabel('Data')\n",
    "    plt.ylabel('Valor')\n",
    "    plt.xticks(rotation=45, fontsize='xx-small')\n",
    "    plt.title('Comparativo entre ativos')\n",
    "    plt.legend(acoes)\n",
    "    plt.tight_layout()\n",
    "    plt.show()"
   ]
  },
  {
   "cell_type": "markdown",
   "metadata": {},
   "source": [
    "Utilize a célula abaixo agora para perguntar quantas ações o usuário gostaria de comparar. Leia os nomes das ações pelo teclado, monte uma lista e passe para a função resultado."
   ]
  },
  {
   "cell_type": "code",
   "execution_count": null,
   "metadata": {},
   "outputs": [],
   "source": [
    "# insira sua lógica aqui!"
   ]
  },
  {
   "cell_type": "markdown",
   "metadata": {},
   "source": [
    "A célula abaixo é uma célula markdown. Fique à vontade para escrever comentários e observações - por exemplo, analisando os gráficos que você gerou em seus testes, você concorda ou discorda com a análise proposta? Por que?\n",
    "\n",
    "Isso não vale nota, não tenha medo de fazer uma análise \"certa\" ou \"errada\"!"
   ]
  },
  {
   "cell_type": "markdown",
   "metadata": {},
   "source": []
  }
 ],
 "metadata": {
  "kernelspec": {
   "display_name": "Python 3",
   "language": "python",
   "name": "python3"
  },
  "language_info": {
   "codemirror_mode": {
    "name": "ipython",
    "version": 3
   },
   "file_extension": ".py",
   "mimetype": "text/x-python",
   "name": "python",
   "nbconvert_exporter": "python",
   "pygments_lexer": "ipython3",
   "version": "3.7.6"
  }
 },
 "nbformat": 4,
 "nbformat_minor": 4
}
