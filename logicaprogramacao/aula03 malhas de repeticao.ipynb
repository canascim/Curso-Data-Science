{
 "cells": [
  {
   "cell_type": "code",
   "execution_count": 4,
   "metadata": {},
   "outputs": [
    {
     "name": "stdout",
     "output_type": "stream",
     "text": [
      "Digite a sua idade:-30\n",
      "Idade inválida!\n",
      "Digite a sua idade:-50\n",
      "Idade inválida!\n",
      "Digite a sua idade:200\n",
      "Idade inválida!\n",
      "Digite a sua idade:15\n",
      "Fim!\n"
     ]
    }
   ],
   "source": [
    "# faça um programa que lê a idade do usuário do teclado e escreve uma mensagem de erro se a idade for menor do que 0 ou maior do que 150\n",
    "\n",
    "idade = int(input('Digite a sua idade:'))\n",
    "\n",
    "while idade < 0 or idade > 150:\n",
    "    print('Idade inválida!')\n",
    "    idade = int(input('Digite a sua idade:'))\n",
    "\n",
    "print('Fim!')"
   ]
  },
  {
   "cell_type": "code",
   "execution_count": 9,
   "metadata": {},
   "outputs": [
    {
     "name": "stdout",
     "output_type": "stream",
     "text": [
      "1\n",
      "2\n",
      "3\n",
      "4\n",
      "5\n",
      "6\n",
      "7\n",
      "8\n",
      "9\n",
      "10\n",
      "11\n",
      "12\n",
      "13\n",
      "14\n",
      "15\n",
      "16\n",
      "17\n",
      "18\n",
      "19\n",
      "20\n",
      "21\n",
      "22\n",
      "23\n",
      "24\n",
      "25\n",
      "26\n",
      "27\n",
      "28\n",
      "29\n",
      "30\n",
      "31\n",
      "32\n",
      "33\n",
      "34\n",
      "35\n",
      "36\n",
      "37\n",
      "38\n",
      "39\n",
      "40\n",
      "41\n",
      "42\n",
      "43\n",
      "44\n",
      "45\n",
      "46\n",
      "47\n",
      "48\n",
      "49\n",
      "50\n",
      "51\n",
      "52\n",
      "53\n",
      "54\n",
      "55\n",
      "56\n",
      "57\n",
      "58\n",
      "59\n",
      "60\n",
      "61\n",
      "62\n",
      "63\n",
      "64\n",
      "65\n",
      "66\n",
      "67\n",
      "68\n",
      "69\n",
      "70\n",
      "71\n",
      "72\n",
      "73\n",
      "74\n",
      "75\n",
      "76\n",
      "77\n",
      "78\n",
      "79\n",
      "80\n",
      "81\n",
      "82\n",
      "83\n",
      "84\n",
      "85\n",
      "86\n",
      "87\n",
      "88\n",
      "89\n",
      "90\n",
      "91\n",
      "92\n",
      "93\n",
      "94\n",
      "95\n",
      "96\n",
      "97\n",
      "98\n",
      "99\n",
      "100\n"
     ]
    }
   ],
   "source": [
    "# faça um programa que imprime na tela os números de 1 até 100\n",
    "\n",
    "numero = 1\n",
    "\n",
    "while numero <= 100:\n",
    "    print(numero)\n",
    "    numero = numero + 1"
   ]
  },
  {
   "cell_type": "code",
   "execution_count": 10,
   "metadata": {},
   "outputs": [
    {
     "name": "stdout",
     "output_type": "stream",
     "text": [
      "2\n",
      "4\n",
      "6\n",
      "8\n",
      "10\n",
      "12\n",
      "14\n",
      "16\n",
      "18\n",
      "20\n",
      "22\n",
      "24\n",
      "26\n",
      "28\n",
      "30\n",
      "32\n",
      "34\n",
      "36\n",
      "38\n",
      "40\n",
      "42\n",
      "44\n",
      "46\n",
      "48\n",
      "50\n",
      "52\n",
      "54\n",
      "56\n",
      "58\n",
      "60\n",
      "62\n",
      "64\n",
      "66\n",
      "68\n",
      "70\n",
      "72\n",
      "74\n",
      "76\n",
      "78\n",
      "80\n",
      "82\n",
      "84\n",
      "86\n",
      "88\n",
      "90\n",
      "92\n",
      "94\n",
      "96\n",
      "98\n",
      "100\n"
     ]
    }
   ],
   "source": [
    "# faça um programa que imprime na tela os números PARES de 1 até 100\n",
    "\n",
    "numero = 2\n",
    "\n",
    "while numero <= 100:\n",
    "    print(numero)\n",
    "    numero = numero + 2 \n",
    "    # numero += 2"
   ]
  },
  {
   "cell_type": "code",
   "execution_count": 13,
   "metadata": {},
   "outputs": [
    {
     "name": "stdout",
     "output_type": "stream",
     "text": [
      "Digite o valor final da sequência: 20\n",
      "1\n",
      "2\n",
      "3\n",
      "4\n",
      "5\n",
      "6\n",
      "7\n",
      "8\n",
      "9\n",
      "10\n",
      "11\n",
      "12\n",
      "13\n",
      "14\n",
      "15\n",
      "16\n",
      "17\n",
      "18\n",
      "19\n",
      "20\n"
     ]
    }
   ],
   "source": [
    "# faça um programa que pede um número \"n\" para o usuário e imprime na tela os números de 1 até n\n",
    "\n",
    "numero = int(input('Digite o valor final da sequência: '))\n",
    "\n",
    "contador = 1\n",
    "\n",
    "while contador <= numero:\n",
    "    print(contador)\n",
    "    contador = contador + 1"
   ]
  },
  {
   "cell_type": "code",
   "execution_count": 21,
   "metadata": {},
   "outputs": [
    {
     "name": "stdout",
     "output_type": "stream",
     "text": [
      "8\n"
     ]
    }
   ],
   "source": [
    "import random\n",
    "\n",
    "sorteio = random.randint(1, 10)\n",
    "print(sorteio)"
   ]
  },
  {
   "cell_type": "code",
   "execution_count": 27,
   "metadata": {},
   "outputs": [
    {
     "name": "stdout",
     "output_type": "stream",
     "text": [
      "Digite um número: 15\n",
      "1307674368000\n"
     ]
    }
   ],
   "source": [
    "# Peça ao usuário para digitar um número e imprima o fatorial de n.\n",
    "\n",
    "# 5! = 5x4x3x2x1\n",
    "\n",
    "numero = int(input('Digite um número: '))\n",
    "contador = 1\n",
    "\n",
    "fatorial = 1 # 1 é o elemento neutro da multiplicação (não afeta o resultado)\n",
    "\n",
    "while contador <= numero:\n",
    "    fatorial = fatorial * contador\n",
    "    contador = contador + 1\n",
    "    \n",
    "print(fatorial)"
   ]
  },
  {
   "cell_type": "markdown",
   "metadata": {},
   "source": [
    "1o desafio: 2.0\n",
    "2o desafio: 1.718     e = 2.718........"
   ]
  },
  {
   "cell_type": "code",
   "execution_count": 28,
   "metadata": {},
   "outputs": [
    {
     "name": "stdout",
     "output_type": "stream",
     "text": [
      "0\n",
      "1\n",
      "2\n",
      "3\n",
      "4\n",
      "5\n",
      "6\n",
      "7\n",
      "8\n",
      "9\n"
     ]
    }
   ],
   "source": [
    "# malhas com quantidade não-determinada de repetições \n",
    "# malhas com quantidade determinada de repetições\n",
    "\n",
    "\n",
    "# valor inicial (padrão) = 0\n",
    "# valor final (dado/exclusivo) = 10\n",
    "# incremento (padrão) = 1\n",
    "for cont in range(10):\n",
    "    print(cont)"
   ]
  },
  {
   "cell_type": "code",
   "execution_count": 29,
   "metadata": {},
   "outputs": [
    {
     "name": "stdout",
     "output_type": "stream",
     "text": [
      "1\n",
      "2\n",
      "3\n",
      "4\n",
      "5\n",
      "6\n",
      "7\n",
      "8\n",
      "9\n"
     ]
    }
   ],
   "source": [
    "# valor inicial (dado) = 1\n",
    "# valor final (dado/exclusivo) = 10\n",
    "# incremento (padrão) = 1\n",
    "for cont in range(1, 10):\n",
    "    print(cont)\n"
   ]
  },
  {
   "cell_type": "code",
   "execution_count": 30,
   "metadata": {},
   "outputs": [
    {
     "name": "stdout",
     "output_type": "stream",
     "text": [
      "1\n",
      "3\n",
      "5\n",
      "7\n",
      "9\n"
     ]
    }
   ],
   "source": [
    "# valor inicial (dado) = 1\n",
    "# valor final (dado/exclusivo) = 10\n",
    "# incremento (dado) = 2\n",
    "for cont in range(1, 10, 2):\n",
    "    print(cont)"
   ]
  },
  {
   "cell_type": "code",
   "execution_count": 32,
   "metadata": {},
   "outputs": [
    {
     "name": "stdout",
     "output_type": "stream",
     "text": [
      "Digite um número: 5\n",
      "0\n",
      "1\n",
      "2\n",
      "3\n",
      "4\n",
      "5\n"
     ]
    }
   ],
   "source": [
    "quantidade = int(input('Digite um número: '))\n",
    "\n",
    "for numero in range(quantidade+1):\n",
    "    print(numero)"
   ]
  },
  {
   "cell_type": "code",
   "execution_count": 33,
   "metadata": {},
   "outputs": [
    {
     "name": "stdout",
     "output_type": "stream",
     "text": [
      "Digite um numero maior que 0 e saiba seu fatorial: 5\n",
      "1\n",
      "2\n",
      "6\n",
      "24\n",
      "120\n"
     ]
    }
   ],
   "source": [
    "numero = int(input('Digite um numero maior que 0 e saiba seu fatorial: '))\n",
    "contador = 1\n",
    "fatorial = 1\n",
    "\n",
    "while numero >= fatorial:\n",
    "    contador = contador*fatorial \n",
    "    fatorial = fatorial + 1           \n",
    "    \n",
    "    print(contador)\n"
   ]
  },
  {
   "cell_type": "code",
   "execution_count": null,
   "metadata": {},
   "outputs": [],
   "source": []
  }
 ],
 "metadata": {
  "kernelspec": {
   "display_name": "Python 3",
   "language": "python",
   "name": "python3"
  },
  "language_info": {
   "codemirror_mode": {
    "name": "ipython",
    "version": 3
   },
   "file_extension": ".py",
   "mimetype": "text/x-python",
   "name": "python",
   "nbconvert_exporter": "python",
   "pygments_lexer": "ipython3",
   "version": "3.7.6"
  }
 },
 "nbformat": 4,
 "nbformat_minor": 4
}
