{
 "cells": [
  {
   "cell_type": "markdown",
   "metadata": {},
   "source": [
    "Após completar este capítulo, você será capaz de:\n",
    "\n",
    "- Compreender o que são opções e suas características;\n",
    "- Identificar estratégias utilizando opções plain vanilla;\n",
    "- Identificar os payoffs de diferentes opções e estratégias;\n",
    "- Calcular o prêmio de uma opção (call/put) com o modelo Black & Scholes;\n",
    "- Compreender as premissas do modelo B&S."
   ]
  },
  {
   "cell_type": "markdown",
   "metadata": {},
   "source": [
    "## 1. Opções\n",
    "Um contrato de opção é um derivativo que dá ao seu detentor escolhas futuras. Podemos comparar opções a seguros: o detentor tem o direito, mas não a obrigação de realizar uma determinada ação durante ou ao final da \"vida\" do contrato.\n",
    "\n",
    "**Exemplo 1**\n",
    "\n",
    "Imagine que você comprou um carro e quer fazer um seguro contra danos: em troca de um pagamento inicial, a seguradora vai se comprometer a cobrir qualquer dano causado ao seu veículo por um prazo estipulado.\n",
    "\n",
    "Caso não ocorra nenhum acidente ou dano no seu carro, você não exercerá o direito de acionar o seguro, mas caso ocorra, a seguradora é obrigada a realizar o serviço necessário.\n"
   ]
  },
  {
   "cell_type": "markdown",
   "metadata": {},
   "source": [
    "### 1.1. Tipos\n",
    "Os dois tipos básicos de opções são:\n",
    "\n",
    "**Opção de compra (*Call*)**: dá ao seu detentor o direito, mas não a obrigação, de comprar um determinado ativo em uma data futura por um determinado preço de exercício.\n",
    "\n",
    "**Opção de venda (*Put*)**: dá ao seu detentor o direito, mas não a obrigação, de vender um determinado ativo em uma data futura por um determinado preço de exercício.\n",
    "\n",
    "Quando é chegado o dia do vencimento da opção, o comprador(ou detentor) da opçãoirá decidir se quer ou não adquirir o ativo subjacente pelo preço de exercício estabelecido no contrato. A parte vendedora (lançador da opção) terá a obrigação de realizar a venda do ativo pelo preço de exercício se esta for a vontade da parte compradora.\n",
    "\n",
    "As opções também se diferenciam com relação ao tipo de exercício. Os principais são:\n",
    "\n",
    "**Opções Europeias**: o exercicio só pode ser realizado no vencimento do contrato.\n",
    "\n",
    "**Opções Americanas**: o exercício pode ser realizado a qualquer momento até o vencimento do contrato.\n"
   ]
  },
  {
   "cell_type": "markdown",
   "metadata": {},
   "source": [
    "### 1.2. Características\n",
    "Temos as seguinte características para um contrato de opções:\n",
    "\n",
    "- **Ativo subjacente**: é o ativo que será comprado/vendido ao se exercer a opção;\n",
    "- **Maturidade**: é o prazo entre a abertura do contrato ($t=0$ e o vencimento ($t=T$);)\n",
    "- ***Strike***: estabelece o preço do ativo subjacente quando do exercício da opção (preço de exercício);\n",
    "- **Notional**: determina quantas unidades do ativo subjacente serão transacionadas;\n",
    "- **Tipo de opção**: determina qual é o direito do comprador (*call* ou *put*);\n",
    "- **Tipo de exercício**: determina em qual circunstância se dá a possibilidade de exercício da opção pelo comprador (exercício americano, europeu, etc);\n",
    "- **Comprador**: é detentor do direito de realizar o exercício da opção. Dizemos que esta parte possui uma posição comprada (*long*) no contrato de opção.\n",
    "- **Vendedor**: é a parte que será exercida pela contraparte. Dizemos que esta parte possui uma posição vendida (*short*) no contrato de opção.\n"
   ]
  },
  {
   "cell_type": "markdown",
   "metadata": {},
   "source": [
    "### 1.3. Payoff das opções\n",
    "\n",
    "O investidor só exererá a opção se o exercício for lucrativo. Caso contrário, o investidor deixará a opção expirar sem ser exercida.\n",
    "\n",
    "#### *Payoff* de uma *call*\n",
    "\n",
    "Considere uma *call* europeia, ou seja, opção de compra de um ativo que só pode ser exercida no vencimento. Seja *S_T* o valor do ativo no vencimento da opção e *K* o *strike* definido no contrato. Os possíveis cenários são:\n",
    "\n",
    "- Se *S_T* > *K*, o investidor exerce a opção, comprando o ativo por *K* e pode vendê-lo por *S_T*, obtendo o payoff de:\n",
    "\n",
    "$$ Payoff = S_T - K $$\n",
    "\n",
    "- Se *S_T* < *K* ou *S_T* = *K*, o investidor não exerce a opção e:\n",
    "\n",
    "$$ Payoff = 0$$\n",
    "\n",
    "Portanto, o *payoff* de uma posição comprada de uma *call* será dado por:\n",
    "\n",
    "$$ Payoff_{long, call} = max(S_T - K, 0) $$\n",
    "\n",
    "*Payoff* da posição *long* de uma *call*:\n",
    "![Payoff](Imagens/06_01_Payoff_call_long.png)\n",
    "\n",
    "Para a contraparte da operação, lançadora da opção, o payoff terá o mesmo valor, com sinal oposto. Portanto:\n",
    "\n",
    "$$ Payoff_{short, call} = -max(S_T - K, 0) $$\n",
    "\n",
    "*Payoff* da posição *short* de uma *call*:\n",
    "![Payoff](Imagens/06_02_Payoff_call_short.png)"
   ]
  },
  {
   "cell_type": "code",
   "execution_count": 6,
   "metadata": {},
   "outputs": [],
   "source": [
    "import numpy as np\n",
    "def plot_payoff(S, Payoff, K=None):\n",
    "    import matplotlib.pyplot as plt\n",
    "    from matplotlib.ticker import NullFormatter\n",
    "    orange   = '#e58e26'\n",
    "    grayblue = '#0a3d62'\n",
    "    gray     = '#404040'\n",
    "    \n",
    "    fig, ax = plt.subplots(figsize=(10, 6))\n",
    "    ax.plot(S, [0]*len(S), color=gray)\n",
    "    ax.plot(S, Payoff, color=orange)\n",
    "    \n",
    "    if 'K' != None:\n",
    "        ax.plot(K, 0, 'go', color=grayblue) \n",
    "        ax.annotate('K', xy=(K, 1))\n",
    "        \n",
    "    ax.set_xlabel('S_T')\n",
    "    ax.set_ylabel('Payoff')    \n",
    "    ax.xaxis.set_major_formatter(NullFormatter())\n",
    "    # ax.yaxis.set_major_formatter(NullFormatter())\n",
    "    plt.show()    \n",
    "    #fig.savefig(path_out + 'Payoff.png', format='png')\n",
    "    plt.close()\n",
    "    return"
   ]
  },
  {
   "cell_type": "code",
   "execution_count": null,
   "metadata": {},
   "outputs": [],
   "source": [
    "# Simulando o payoff de uma posição long de uma call\n",
    "K = 25\n",
    "S = list(range(0, 50))\n",
    "Payoff_call_long = [max(x - K, 0) for x in S]\n",
    "\n",
    "plot_payoff(S, Payoff_call_long, K)\n"
   ]
  },
  {
   "cell_type": "markdown",
   "metadata": {},
   "source": [
    "#### *Payoff* de uma *put*\n",
    "\n",
    "Considere agora uma posição comprada numa opção europeia de venda (*put*) sobre um ativo. Novamente, seja *S_T* o valor do ativo no vencimento da opção e *K* o *strike* definido no contrato.\n",
    "\n",
    "Neste caso, os possíveis cenários são:\n",
    "\n",
    "- Se *S_T* < *K*, o investidor exerce a opção, vendendo o ativo por *K* e pode comprá-lo por *S_T*, obtendo o payoff de:\n",
    "\n",
    "$$ Payoff = K - S_T $$\n",
    "\n",
    "- Se *S_T* > *K* ou *S_T* = *K*, o investidor não exerce a opção e:\n",
    "\n",
    "$$ Payoff = 0$$\n",
    "\n",
    "Portanto, o *payoff* de uma posição comprada de uma *put* será dado por:\n",
    "\n",
    "$$ Payoff_{long, put} = max(K - S_T, 0) $$\n",
    "\n",
    "*Payoff* da posição *long* de uma *put*:\n",
    "![Payoff](Imagens/06_03_Payoff_put_long.png)\n",
    "\n",
    "Para a contraparte da operação, lançadora da opção, o payoff terá o mesmo valor, com sinal oposto. Portanto:\n",
    "\n",
    "$$ Payoff_{short, put} = -max(K - S_T, 0) $$\n",
    "\n",
    "*Payoff* da posição *short* de uma *put*:\n",
    "![Payoff](Imagens/06_04_Payoff_put_short.png)"
   ]
  },
  {
   "cell_type": "code",
   "execution_count": null,
   "metadata": {},
   "outputs": [],
   "source": [
    "# Simulando o payoff de uma posição long de uma put\n",
    "K = 25\n",
    "S = list(range(0, 50))\n",
    "Payoff_put_long = [max(K - x, 0) for x in S]\n",
    "\n",
    "plot_payoff(S, Payoff_put_long, K)"
   ]
  },
  {
   "cell_type": "markdown",
   "metadata": {},
   "source": [
    "### 1.4 Prêmio\n",
    "\n",
    "Note que o *payoff* do comprador sempre é maior ou igual a zero, independente do resultado ou do exercício. Ou seja, quando o investidor possui uma posição comprada na opção, não existe a possibilidade de perder dinheiro. Analogamente, o *payoff* do lançador da opção será sempre menor ou igual a zero. Se não houvesse nenhum tipo de incentivo, ninguém gostaria de lançar opções.\n",
    "\n",
    "Por este motivo, ao contrário dos contratos a termo, nos contratos de opções, o comprador paga um **prêmio** ao vendedor no momento de abertura do contrato, gerando um fluxo de caixa. Este prêmio representa o valor de mercado da opção no momento de sua negociação. Há diversos modelos de apreçamento de opções para determinar o valor justo do prêmio e veremos os principais nas próximas aulas.\n"
   ]
  },
  {
   "cell_type": "code",
   "execution_count": 15,
   "metadata": {},
   "outputs": [
    {
     "data": {
      "image/png": "[encoded data removed]",
      "text/plain": [
       "<Figure size 720x432 with 1 Axes>"
      ]
     },
     "metadata": {
      "needs_background": "light"
     },
     "output_type": "display_data"
    }
   ],
   "source": [
    "# Simulando o payoff de uma posição long de uma call, considerando o custo inicial\n",
    "import numpy as np\n",
    "K = 25\n",
    "S = list(range(0, 50))\n",
    "P1 = 3\n",
    "Payoff_call_long = np.array([max(K - x, 0) for x in S]) - P1\n",
    "\n",
    "plot_payoff(S, Payoff_call_long, K)"
   ]
  },
  {
   "cell_type": "markdown",
   "metadata": {},
   "source": [
    "## 2. Estratégias\n",
    "\n",
    "Vimos como se comporta o valor de uma posição simples com opções, mas as estratégias podem ser mais sofisticadas.\n",
    "\n",
    "Existem extratégias voltadas para *bull* ou *bear market*, estratégias que podem ser mais ou menos arriscadas.\n",
    "\n",
    "Vamos ver duas estratégias que são a base de muitas estratégias, os chamados *spreads*.\n",
    "\n",
    "### 2.1 *Call spread*\n",
    "\n",
    "Esta estratégia também é chamada de \"trava de alta\" e funciona com a compra e venda simultânea de *calls*\n",
    "para *strikes* diferentes. Nesta forma, ela é indicada para um cenário de crescimento da ação.\n",
    "\n",
    "A vantagem dela em relação a uma compra simples de *call* é a redução do custo total da operação, a desvantagem é a limitação do retorno.\n",
    "\n",
    "Compra-se uma *call A* com *strike* *K1* (em geral já dentro do dinheiro) por *P1* reais, ao mesmo tempo vende-se uma *call B* com *strike* *K2* (maior que *K1*) por *P2* reais.\n",
    "\n",
    "Com a venda de *B* ganha-se um prêmio que reduzirá o custo da compra de A.\n",
    "\n",
    "A venda de B limita o ganho pois ela obrigaria à venda de 1 ação por *K2* reais, mas ter a posição *A* protege esta posição vendida.\n",
    "\n",
    "O prêmio pago é igual ao custo a *P1 - P2*.\n",
    "\n",
    "O lucro máximo desta estratégia é: *K2 - K1 - prêmio pago*.\n",
    "\n",
    "![call spread](Imagens/06_05_call_spread.png)\n"
   ]
  },
  {
   "cell_type": "code",
   "execution_count": 1,
   "metadata": {},
   "outputs": [],
   "source": [
    "def plot_payoff_estrategia(S, Payoff, K1=None, K2=None):\n",
    "    import matplotlib.pyplot as plt\n",
    "    from matplotlib.ticker import NullFormatter\n",
    "    orange   = '#e58e26'\n",
    "    grayblue = '#0a3d62'\n",
    "    gray     = '#404040'\n",
    "    \n",
    "    fig, ax = plt.subplots(figsize=(10, 6))\n",
    "    ax.plot(S, [0]*len(S), color=gray)\n",
    "    ax.plot(S, Payoff, color=orange)\n",
    "    \n",
    "    if 'K1':\n",
    "        ax.plot(K1, 0, 'go', color=grayblue) \n",
    "        ax.annotate('K1', xy=(K1, 0))\n",
    "    if 'K2':\n",
    "        ax.plot(K2, 0, 'go', color=grayblue) \n",
    "        ax.annotate('K2', xy=(K2, 0))\n",
    "        \n",
    "    ax.set_xlabel('S_T')\n",
    "    ax.set_ylabel('Payoff')    \n",
    "    ax.xaxis.set_major_formatter(NullFormatter())\n",
    "    #ax.yaxis.set_major_formatter(NullFormatter())\n",
    "    plt.show()    \n",
    "    #fig.savefig(path_out + 'Payoff.png', format='png')\n",
    "    plt.close()\n",
    "    return"
   ]
  },
  {
   "cell_type": "code",
   "execution_count": null,
   "metadata": {},
   "outputs": [],
   "source": [
    "# Simulando o payoff de uma call spread\n",
    "import numpy as np\n",
    "K=None\n",
    "K1 = 22\n",
    "K2 = 26\n",
    "S = list(range(0, 50))\n",
    "P1 = 3\n",
    "P2 = 2\n",
    "\n",
    "payoff_call_A = [max(x - K1, 0) for x in S]\n",
    "payoff_call_B = [max(x - K2, 0) for x in S]\n",
    "Payoff_call_spread = np.array(payoff_call_A) - np.array(payoff_call_B) - P1 + P2\n",
    "\n",
    "plot_payoff(S, payoff_call_A, K=K1)\n",
    "plot_payoff(S, -np.array(payoff_call_B), K=K2)\n",
    "plot_payoff_estrategia(S, Payoff_call_spread, K1=K1, K2=K2)\n"
   ]
  },
  {
   "cell_type": "markdown",
   "metadata": {},
   "source": [
    "### 2.2 *Put spread*\n",
    "\n",
    "Esta estratégia também é chamda de \"trava de baixa\" e funciona de forma semelhante ao *call spread*, sendo indicada para ganhar com a queda de uma ação.\n",
    "\n",
    "Da mesma maneira que a *call spread*, essa operação é mais barata que uma compra de *put* ao passo que tem seu retorno limitado.\n",
    "\n",
    "Compra-se uma *put A* com *strike* *K1* (em geral já dentro do dinheiro) por *P1* reais, ao mesmo tempo vende-se uma *put B* com *strike* *K2* (menor que *K1*) por *P2* reais.\n",
    "\n",
    "O prêmio pago será igual a *P1 - P2*.\n",
    "\n",
    "O lucro máximo desta estratégia é: *K2 - K1 - prêmio pago*.\n",
    "\n",
    "![put spread](Imagens/06_06_Put_spread.png)\n"
   ]
  },
  {
   "cell_type": "code",
   "execution_count": null,
   "metadata": {},
   "outputs": [],
   "source": [
    "# Simulando o payoff de uma put spread\n",
    "\n",
    "K=None\n",
    "K1 = 22\n",
    "K2 = 18\n",
    "S = list(range(0, 50))\n",
    "P1 = 3\n",
    "P2 = 2\n",
    "\n",
    "payoff_put_A = [max(K1 - x, 0) for x in S]\n",
    "payoff_put_B = [max(K2 - x, 0) for x in S]\n",
    "Payoff_put_spread = np.array(payoff_put_A) - np.array(payoff_put_B) - P1 + P2\n",
    "\n",
    "plot_payoff(S, payoff_put_A, K=K1)\n",
    "plot_payoff(S, -np.array(payoff_put_B), K=K2)\n",
    "plot_payoff_estrategia(S, Payoff_put_spread, K1=K1, K2=K2)"
   ]
  },
  {
   "cell_type": "markdown",
   "metadata": {},
   "source": [
    "## Exercícios em aula\n",
    "\n",
    "1) Construa o payoff das seguintes estratégias:\n",
    "\n",
    "1. **Lançar uma opção coberta**: É uma estratégia de hede (minimizar riscos). Vende-se uma call e compra-se uma ação.\n",
    "2. **Straddle comprador**: Estratégia de apostar na alta volatilidade. Compra-se uma call e uma put com o mesmo strike.\n",
    "3. **Straddle vendedor**: Estratégia para vender volatilidade, acreditando que o mercado ficará estável em torno do strike, sem grandes oscilações. Vende-se uma call e uma put com o mesmo strike.\n",
    "4. **Box Spread**: Utiliza-se call e put para obter um ganho fixo, qualquer que seja a cotação do ativo-objeto no vencimento. Seu resultado é sempre *K2 - K1*.\n",
    "    - Compra call com strike K1\n",
    "    - Vende call com strike K2 > K1\n",
    "    - Vende put com strike K1\n",
    "    - Compra put com strike K2\n",
    "5. **Spread Butterfly**: Envolve posições em opções com 3 strikes diferentes. Leva um lucro se o preço ficar próximo de K2 e um pequeno prejuízo caso contrário. \n",
    "    - Compra uma call com K1 (strike baixo)\n",
    "    - Compra uma call com K3 > K1 (strike alto)\n",
    "    - Vende duas calls com K2, sendo K1 < K2 < K3 (strike próximo do spot)\n",
    "\n",
    "\n",
    "2) Qual a diferença entre o straddle vendedor e o butterfly?\n"
   ]
  },
  {
   "cell_type": "code",
   "execution_count": null,
   "metadata": {},
   "outputs": [],
   "source": [
    "# 1. Opção coberta\n",
    "K = 25\n",
    "S = list(range(0, 50))\n",
    "P1 = 3"
   ]
  },
  {
   "cell_type": "code",
   "execution_count": 1,
   "metadata": {},
   "outputs": [],
   "source": [
    "# 2. Straddle comprador\n",
    "K = 25\n",
    "S = list(range(0, 50))\n",
    "P1 = 1\n",
    "P2 = 2"
   ]
  },
  {
   "cell_type": "code",
   "execution_count": 2,
   "metadata": {},
   "outputs": [],
   "source": [
    "# 3. Straddle vendedor\n",
    "K = 25\n",
    "S = list(range(0, 50))\n",
    "P1 = 1\n",
    "P2 = 2"
   ]
  },
  {
   "cell_type": "code",
   "execution_count": 3,
   "metadata": {},
   "outputs": [],
   "source": [
    "# 4. Box spread\n",
    "K1 = 25\n",
    "K2 = 28\n",
    "S = list(range(0, 50))\n",
    "P1 = 1\n",
    "P2 = 2"
   ]
  },
  {
   "cell_type": "code",
   "execution_count": null,
   "metadata": {},
   "outputs": [],
   "source": [
    "# 5. Butterfly\n",
    "# 4. Box spread\n",
    "K1 = 22\n",
    "K2 = 26\n",
    "K3 = 30\n",
    "S = list(range(0, 50))\n",
    "P1 = 1\n",
    "P2 = 3\n",
    "P3 = 6"
   ]
  },
  {
   "cell_type": "markdown",
   "metadata": {},
   "source": [
    "## 3. Black & Scholes\n",
    "\n",
    "O modelo original de Fisher Black e Myrion Scholes foi publicado em artigo em 1973 e estabelecia uma nova forma de precificar opções e de se proteger de seus riscos inerentes. Rober Merton, no mesmo ano, publicou outro artigo, incorporando novos elementos à análise, e consolidando o chamado modelo de Black-Scholes-Merton.\n",
    "\n",
    "### 3.1. Hipóteses\n",
    "São hipóteses do modelo de Black-Scholes:\n",
    "\n",
    "- o preço do ativo-objeto segue um movimento browniano geométrico;\n",
    "- o ativo-objeto não paga dividendos durante a vigência do contrato da opção;\n",
    "- não há custos de transação;\n",
    "- é permitido vender a descobero;\n",
    "- é permitido negociar continuamente qualquer fração do valor do ativo;\n",
    "- a taxa livre de risco (*r*) é constante e igual para todos os vencimentos;\n",
    "- não há oportunidades de arbitragem."
   ]
  },
  {
   "cell_type": "markdown",
   "metadata": {},
   "source": [
    "### 3.2. A solução do modelo\n",
    "\n",
    "As fórmulas de Black-Scholes-Merton para os preços de opções de compra e venda europeias são:\n",
    "\n",
    "$$  c = S_0 N(d_1) - K e^{-rT} N(d_2) $$\n",
    "\n",
    "e \n",
    "\n",
    "$$ p = K e^{-rT} N(-d_2) - S_0 N(-d_1) $$\n",
    "\n",
    "Onde:\n",
    "\n",
    "$$ d_1 = \\frac{ ln(S_0/K) + (r + \\sigma^2/2) T }{ \\sigma \\sqrt T} $$\n",
    "\n",
    "$$ d_2 = \\frac{ ln(S_0/K) + (r - \\sigma^2/2) T }{ \\sigma \\sqrt T} = d_1 - \\sigma \\sqrt T $$\n",
    "\n",
    "A função *N(x)* é a função de distribuição de probabilidade cumulativa para uma variável com distribuição normal padrão. Em outras palavras, ela é a probabilidade de que uma variável com distribuição normal padrão será menor do que x. A função está ilustrada na figura abaixo. \n",
    "\n",
    "- As variáveis *c* e *p* são o preço da opção de compra e da de venda europeias, \n",
    "*S_0* é o preço da ação no tempo zero, \n",
    "- *K* é o preço de exercício (*strike*), \n",
    "- *r* é a taxa de juros livre de risco com capitalização contínua,\n",
    "- $\\sigma$ é a volatilidade do preço da ação e \n",
    "- *T* é o tempo até a maturidade da opção.\n",
    "\n",
    "![Distribuição normal](Imagens/06_07_Dist_Normal.png)\n"
   ]
  },
  {
   "cell_type": "code",
   "execution_count": null,
   "metadata": {},
   "outputs": [],
   "source": [
    "import numpy as np\n",
    "from scipy.stats import norm\n",
    "\n",
    "def calc_BS(S, K, r, T, sigma, tipo):\n",
    "\n",
    "    return price"
   ]
  },
  {
   "cell_type": "code",
   "execution_count": null,
   "metadata": {},
   "outputs": [],
   "source": [
    "# Exemplo Black-Scholes\n",
    "S = 25\n",
    "K = 24\n",
    "r = 0.10\n",
    "T = 0.5 # 6 meses\n",
    "sigma = 0.15\n",
    "\n",
    "call_price = calc_BS(S, K, r, T, sigma, 'call')\n",
    "put_price =  calc_BS(S, K, r, T, sigma, 'put')\n",
    "\n",
    "print(f\"Preço da call: {round(call_price, 2)}. \\nPreço da put: {round(put_price, 2)}.\")"
   ]
  },
  {
   "cell_type": "markdown",
   "metadata": {},
   "source": [
    "## 4. *Moneyness*\n",
    "\n",
    "O *moneyness* de uma opção é a posição relativa do preço à vista (*spot*) do ativo subjacente em relação ao *strike* da opção. Esta medida é relacionada ao valor intrínseco da opção, definido como o *payoff* do derivativo caso fosse exercido imediatamente.\n",
    "\n",
    "Existem três classificações de *moneyness*:\n",
    "\n",
    "- *In the money* (dentro do dinheiro): quando ela dá lucro se exercida imediatamente;\n",
    "- *Out the money* (fora do dinheiro): quando ela não daria resultado positivo, se fosse exercida;\n",
    "- *At the money* (no dinheiro): quando o preço à vista do ativo (*spot*) for igual (ou muito próximo) do *strike* da opção."
   ]
  },
  {
   "cell_type": "code",
   "execution_count": null,
   "metadata": {},
   "outputs": [],
   "source": [
    "# Calls\n",
    "call_price_atm = calc_BS(25, 24.5, r, T, sigma, 'call')\n",
    "call_price_itm = calc_BS(25, 15, r, T, sigma, 'call')\n",
    "call_price_otm = calc_BS(25, 30, r, T, sigma, 'call')\n",
    "\n",
    "print(f'ATM: {call_price_atm} \\nITM: {call_price_itm} \\nOTM: {call_price_otm}')"
   ]
  },
  {
   "cell_type": "code",
   "execution_count": null,
   "metadata": {},
   "outputs": [],
   "source": [
    "# Puts"
   ]
  },
  {
   "cell_type": "code",
   "execution_count": null,
   "metadata": {},
   "outputs": [],
   "source": []
  },
  {
   "cell_type": "markdown",
   "metadata": {},
   "source": [
    "## 5. Paridade *put-call*\n",
    "\n",
    "Existe uma relação entre o preço de uma *call* e uma *put* europeias de mesmo *strike* e mesmo vencimento, chamada de **paridade *put-call***. Na prática, isto significa que se sabemos o preço da *call* então podemos obter o preço da *put* correspondente (sobre o mesmo ativo objeto, com mesmo *strike* e mesmo vencimento), e vice-versa. Para chegarmos a essa relação, utilizamos o conceito de não-arbitragem e criamos dois portfólios:\n",
    "\n",
    "- **Portfólio (1)**: Comprar uma *caall* e vencer uma *put*\n",
    "- **Portfólio (2)**: Comprar uma unidade do ativo-objeto e tomar *Ke^(-rT)* reais emprestado.\n",
    "\n",
    "No vencimento *T*, o detentor do portfólio (2) possui uma ação, mas deve pagar *K* reais ao emprestador. Assim, o valor do portfólio (2) no vencimento é:\n",
    "\n",
    "$$ payoff_2 = S_T - K $$\n",
    "\n",
    "O detentor do portfólio (1) se depara com duas possibilidadesz:\n",
    "\n",
    "a) Se no vencimento o preço da opção for maior que o *strike* ($S_T > K$), ele exerce a *call* enquanto sua contraparte na *put* não exerce seu direito, restando:\n",
    "\n",
    "$$ payoff_{1a} = S_T - K $$\n",
    "\n",
    "b) Se no vencimento o preço da ação for menor que o *strike* ($S_T < K$), o detentor deixa de exercer sua *call*, mas tem sua *put* exercida pela contraparte, e por isso é obrigado a pagar $K - S_T$, o que faz com que seu resultado seja:\n",
    "\n",
    "$$ payoff_{1b} = -(K - S_T) = S_T - K $$\n",
    "\n",
    "Assims, no vencimento *T*, os portfólios (1) e (2) possuem sempre o mesmo valor (*payoff*), a saber: *S_T - K*. Em um contexto de não-arbitragem, os valores destes portfólios têm de ser iguais em qualquer tempo *t*. Isso porque se o portfólio (1), em um dado momento, valesse mais que o portfólio (2), alguém poderia comprar o portfólio (1) e vender o portfólio (2), obtenod lucro no vencimento sem incorrer nenhum risco. Assim, temos que no instante *t*:\n",
    "\n",
    "$$ c(S,t) - p(S,t) = S - K e^{-rT} $$"
   ]
  },
  {
   "cell_type": "markdown",
   "metadata": {},
   "source": [
    "# Exercícios\n",
    "\n",
    "1. Verifique a paridade put-call com os dados do exemplo da seção 3.2.\n",
    "2. Calcule os preços das calls e puts dos exercícios de estratégias (P1, P2, P3..).\n",
    "3. Calcule os resultados máximos e mínimos possíveis em cada estratégia.\n",
    "4. Faça os gráficos do prêmio de uma call em função de possíveis valores de $S$, $r$, $T$ e $\\sigma$.\n",
    "5. Repita para uma put.\n",
    "\n",
    "Utilize os seguintes dados nos exercícios 4 e 5:\n",
    "\n",
    "Fixos:\n",
    "- S = 24\n",
    "- K = 25\n",
    "- r = 0.10\n",
    "- T = 0.5\n",
    "- $\\sigma$ = 0.15\n",
    "\n",
    "Variáveis:\n",
    "- S: de 0 a 50\n",
    "- r: de 0.005 a 0.30\n",
    "- T: 0.01 a 1.0\n",
    "- $\\sigma$: de 0.01 a 0.50"
   ]
  },
  {
   "cell_type": "code",
   "execution_count": null,
   "metadata": {},
   "outputs": [],
   "source": []
  }
 ],
 "metadata": {
  "kernelspec": {
   "display_name": "Python 3 (ipykernel)",
   "language": "python",
   "name": "python3"
  },
  "language_info": {
   "codemirror_mode": {
    "name": "ipython",
    "version": 3
   },
   "file_extension": ".py",
   "mimetype": "text/x-python",
   "name": "python",
   "nbconvert_exporter": "python",
   "pygments_lexer": "ipython3",
   "version": "3.9.6"
  }
 },
 "nbformat": 4,
 "nbformat_minor": 4
}
