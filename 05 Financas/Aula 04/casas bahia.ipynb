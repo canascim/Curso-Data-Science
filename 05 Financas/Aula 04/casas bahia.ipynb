{
 "cells": [
  {
   "cell_type": "markdown",
   "id": "353fcd29",
   "metadata": {},
   "source": [
    "1x sem jurosR$ 626,90\n",
    "2x sem jurosR$ 329,95  = 659,9\n",
    "3x sem jurosR$ 219,97 = 659,91\n",
    "4x sem jurosR$ 164,98 = 659,92\n",
    "5x sem jurosR$ 131,98 = 659,9\n",
    "6x sem jurosR$ 109,98 = 659,88\n",
    "7x sem jurosR$ 94,27 = 659,89\n",
    "8x sem jurosR$ 82,49 = 659,92\n",
    "9x sem jurosR$ 73,32 - = 659,88\n",
    "10x sem jurosR$ 65,99 = 659,\n",
    "11x com juros (1,49% a.m.)R$ 65,49\n",
    "12x com juros (1,49% a.m.)R$ 60,46\n",
    "\n",
    "M = C((1+i)**n)\n",
    "\n",
    "\n",
    "a = 659.9 - 626.9\n",
    "print('a', a)"
   ]
  },
  {
   "cell_type": "code",
   "execution_count": null,
   "id": "068a99cf",
   "metadata": {},
   "outputs": [],
   "source": [
    "a = 659.9 - 626.9 \n",
    "print('a', a)\n",
    "b= a/659.9\n",
    "print(b)"
   ]
  },
  {
   "cell_type": "code",
   "execution_count": 13,
   "id": "f92644f9",
   "metadata": {},
   "outputs": [
    {
     "name": "stdout",
     "output_type": "stream",
     "text": [
      "saldo_devedor 296.95\n",
      "taxa 11.112981983498905\n"
     ]
    }
   ],
   "source": [
    "valor = 626.9\n",
    "# 2x sem jurosR$ 329,95  = 659,9\n",
    "entrada = 329.95\n",
    "parcela = 329.95\n",
    "saldo_devedor = valor - entrada\n",
    "print('saldo_devedor', saldo_devedor)\n",
    "# M = C((1+i)*n)\n",
    "M = parcela\n",
    "c= saldo_devedor\n",
    "n=1\n",
    "\n",
    "# M/c = (1+i)*n = (1+i)\n",
    "\n",
    "#M/c -1 = i\n",
    "\n",
    "i = (M/c) -1\n",
    "\n",
    "print('taxa', i*100)"
   ]
  },
  {
   "cell_type": "code",
   "execution_count": 14,
   "id": "0b922f9d",
   "metadata": {},
   "outputs": [
    {
     "name": "stdout",
     "output_type": "stream",
     "text": [
      "saldo_devedor 406.92999999999995\n",
      "taxa -18.917258496547305\n"
     ]
    }
   ],
   "source": [
    "valor = 626.9\n",
    "# 3x sem jurosR$ 219,97 = 659,91\n",
    "entrada = 219.97\n",
    "parcela = 329.95\n",
    "saldo_devedor = valor - entrada\n",
    "print('saldo_devedor', saldo_devedor)\n",
    "# M = C((1+i)*n)\n",
    "M =  parcela\n",
    "c= saldo_devedor\n",
    "n=1\n",
    "\n",
    "# M/c = (1+i)**n = (1+i)\n",
    "\n",
    "#(M/c)**1/n -1 = i\n",
    "\n",
    "i = ((M/c)**(1/n)) -1\n",
    "\n",
    "print('taxa', i*100)\n",
    "\n",
    "## função atingir metas no excel"
   ]
  },
  {
   "cell_type": "code",
   "execution_count": null,
   "id": "90d67a7d",
   "metadata": {},
   "outputs": [],
   "source": []
  }
 ],
 "metadata": {
  "kernelspec": {
   "display_name": "Python 3 (ipykernel)",
   "language": "python",
   "name": "python3"
  },
  "language_info": {
   "codemirror_mode": {
    "name": "ipython",
    "version": 3
   },
   "file_extension": ".py",
   "mimetype": "text/x-python",
   "name": "python",
   "nbconvert_exporter": "python",
   "pygments_lexer": "ipython3",
   "version": "3.9.6"
  }
 },
 "nbformat": 4,
 "nbformat_minor": 5
}
