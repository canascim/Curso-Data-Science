{
 "cells": [
  {
   "cell_type": "markdown",
   "metadata": {},
   "source": [
    "**Aula 1 - Lista 2 - Juros compostos - Ex. 8.** \n",
    "\n",
    "Maria conseguiu juntar um capital de 4.000,00. Por quanto tempo ela deve aplicar esse valor a uma taxa de juro composto de 7\\% a.a. para que produza um montante de 6.002,91:"
   ]
  },
  {
   "cell_type": "code",
   "execution_count": 21,
   "metadata": {},
   "outputs": [
    {
     "name": "stdout",
     "output_type": "stream",
     "text": [
      "5.999971913284503\n"
     ]
    }
   ],
   "source": [
    "import numpy as np\n",
    "C = 4000\n",
    "M = 6002.91\n",
    "i = 0.07 # a.a.\n",
    "# n = ? # a.\n",
    "\n",
    "#M = C*(1 + i)^n\n",
    "#(1 + i)^n = M/C\n",
    "#n*ln((1 + i)) = ln(M/C)\n",
    "\n",
    "n = np.log(M/C)/np.log((1 + i))\n",
    "print(n)\n",
    "\n",
    "Resposta: a) 6 anos"
   ]
  },
  {
   "cell_type": "markdown",
   "metadata": {},
   "source": [
    "**Aula 1 - Lista 2 - Juros compostos - Ex. 10.** \n",
    "\n",
    "Um televisor pode ser adquirido à vista ou por meio de 3 prestações mensais, iguais e consecutivas, no valor de R$ 2.704,00, sendo a primeira delas paga no ato da compra. Se o vendedor cobra juros de 4% a.m. nas transações a prazo, o valor à vista do televisor é:"
   ]
  },
  {
   "cell_type": "code",
   "execution_count": 22,
   "metadata": {},
   "outputs": [
    {
     "data": {
      "text/plain": [
       "7804.0"
      ]
     },
     "execution_count": 22,
     "metadata": {},
     "output_type": "execute_result"
    }
   ],
   "source": [
    "\n",
    "# 2704.00 + 2704.00/(1 + 4%)^1 + 2704.00/(1 + 4%)^2\n",
    "\n",
    "2704.00 + 2704.00/(1 + 0.04) + 2704.00/(1 + 0.04)**2\n",
    "\n",
    "Resposta: E) 7.804,00"
   ]
  },
  {
   "cell_type": "markdown",
   "metadata": {},
   "source": [
    "**Ex 9**\n",
    "\n",
    "Se, ao receber a fatura do seu cartão de crédito, o titular não puder pagar o valor integral, a operadora desse cartão permite que seja feito um pagamento menor de, no mínimo, 15% do valor total. Entretanto, na fatura do mês seguinte, constará: \n",
    "\n",
    "- o saldo devedor (o que não foi pago na fatura anterior) acrescido de juros de 8% a.m.; \n",
    "- a multa por atraso, no valor de 2% do saldo devedor; \n",
    "- juros de mora, no valor de 1% do saldo devedor; \n",
    "- IOF (imposto sobre operações financeiras), no valor de 0,38% do saldo devedor.\n",
    "\n",
    "O titular desse cartão de crédito recebeu uma fatura no valor de R$ 2.000,00 e, na data do vencimento, pagou apenas 40\\% do seu valor. Um mês após esse pagamento, a dívida nesse cartão foi totalmente quitada. Se nenhuma compra foi feita durante esse período, esse último pagamento foi de:"
   ]
  },
  {
   "cell_type": "code",
   "execution_count": 26,
   "metadata": {},
   "outputs": [
    {
     "data": {
      "text/plain": [
       "1443.4848000000002"
      ]
     },
     "execution_count": 26,
     "metadata": {},
     "output_type": "execute_result"
    }
   ],
   "source": [
    "SD = 2000*0.6\n",
    "SD + SD*0.08 + SD*0.02 + SD*0.01 + SD*0.0038\n",
    "\n",
    "SD*(1 + 0.08 + 0.02 + 0.01 + 0.0038)*(1 + 0.08)\n",
    "\n",
    "SD*(1 + 0.08)^2 + SD*(0.02 + 0.01 + 0.0038)*(1 + 0.08)\n"
   ]
  },
  {
   "cell_type": "markdown",
   "metadata": {},
   "source": [
    "**Ex. 7**\n",
    "\n",
    "Um cliente fez um investimento de R$ 100.000,00 em janeiro de 2019, comprando cotas de um fundo imobiliário, o que lhe proporcionou uma taxa de retorno de 21\\%, ao final de 12 meses de aplicação. Em janeiro de 2020, buscando maior rentabilidade, procurou um especialista financeiro indicado pelo seu gerente, que lhe recomendou aplicar todo o montante da operação anterior em renda variável. O cliente fez conforme recomendado, o que lhe proporcionou um retorno de 96\\% em 12 meses, resgatando o novo montante em janeiro de 2021.\n",
    "Considerando-se um sistema de juros compostos, a taxa de retorno equivalente, obtida em cada período de 12 meses pelo cliente, de janeiro de 2019 a janeiro de 2021, foi igual a:"
   ]
  },
  {
   "cell_type": "code",
   "execution_count": 34,
   "metadata": {},
   "outputs": [
    {
     "name": "stdout",
     "output_type": "stream",
     "text": [
      "54.0\n"
     ]
    }
   ],
   "source": [
    "C = 100000\n",
    "M1 = C*(1 + 0.21)\n",
    "M2 = M1*(1 + 0.96)\n",
    "M2 = C*(1 + 0.21)*(1 + 0.96)\n",
    "\n",
    "F = M2/C\n",
    "# outra forma:\n",
    "F = (1 + 0.21)*(1 + 0.96)\n",
    "\n",
    "# Para chegar na taxa:\n",
    "# F = (1 + i)**2\n",
    "\n",
    "i = (F**0.5 -1)*100\n",
    "\n",
    "# em 1 linha:\n",
    "print((((1 + 0.21)*(1 + 0.96))**0.5 - 1)*100)\n",
    "\n",
    "# Para chegar na taxa a.a. simples equivalente:\n",
    "# F = (1 + i*2)\n",
    "i = (F - 1)/2"
   ]
  },
  {
   "cell_type": "markdown",
   "metadata": {},
   "source": [
    "**Aula 2 - Lista 2 - Política monetária - Ex. 2.** \n",
    "\n",
    "Um aumento na meta da taxa Selic tende a:  \n",
    "\n",
    "a) Aumentar a Ptax;  \n",
    "b) Aumentar o PIB projetado;  \n",
    "c) Aumentar o IGP-M e diminuir o IPCA;  \n",
    "d) Diminuir a Ptax;  "
   ]
  },
  {
   "cell_type": "code",
   "execution_count": null,
   "metadata": {},
   "outputs": [],
   "source": [
    "D) Diminuir a PTAX, devido ao aumento"
   ]
  },
  {
   "cell_type": "markdown",
   "metadata": {},
   "source": [
    "**Aula 2 - Atividade - Ex 1**\n",
    "\n",
    "A inflação está acima ou abaixo do esperado? Como você explica esta afirmação?"
   ]
  },
  {
   "cell_type": "markdown",
   "metadata": {},
   "source": [
    "**Aula 2 - Atividade - Ex 2**\n",
    "\n",
    "Qual tipo de política monetária o governo atual tem aplicado (ou tentado aplicar)?"
   ]
  },
  {
   "cell_type": "markdown",
   "metadata": {},
   "source": [
    "**Aula 2 - Atividade - Ex 3**\n",
    "\n",
    "Dada a previsão das instituições financeiras, você prefere um investimento com taxa real pré-definida ou taxa nominal?"
   ]
  },
  {
   "cell_type": "code",
   "execution_count": 19,
   "metadata": {},
   "outputs": [
    {
     "name": "stdout",
     "output_type": "stream",
     "text": [
      "    Infl Real Nominal\n",
      "0      0  0.1     0.1\n",
      "1   0.01  0.1   0.111\n",
      "2   0.02  0.1   0.122\n",
      "3   0.03  0.1   0.133\n",
      "4   0.04  0.1   0.144\n",
      "5   0.05  0.1   0.155\n",
      "6   0.06  0.1   0.166\n",
      "7   0.07  0.1   0.177\n",
      "8   0.08  0.1   0.188\n",
      "9   0.09  0.1   0.199\n",
      "10   0.1  0.1    0.21\n",
      "11  0.11  0.1   0.221\n",
      "12  0.12  0.1   0.232\n",
      "13  0.13  0.1   0.243\n",
      "14  0.14  0.1   0.254\n",
      "15  0.15  0.1   0.265\n",
      "16  0.16  0.1   0.276\n",
      "17  0.17  0.1   0.287\n",
      "18  0.18  0.1   0.298\n",
      "19  0.19  0.1   0.309\n",
      "20   0.2  0.1    0.32\n",
      "21  0.21  0.1   0.331\n",
      "22  0.22  0.1   0.342\n",
      "23  0.23  0.1   0.353\n",
      "24  0.24  0.1   0.364\n",
      "25  0.25  0.1   0.375\n",
      "26  0.26  0.1   0.386\n",
      "27  0.27  0.1   0.397\n",
      "28  0.28  0.1   0.408\n",
      "29  0.29  0.1   0.419\n"
     ]
    },
    {
     "data": {
      "text/plain": [
       "Text(0, 0.5, 'Taxas')"
      ]
     },
     "execution_count": 19,
     "metadata": {},
     "output_type": "execute_result"
    },
    {
     "data": {
      "image/png": "[encoded data removed]",
      "text/plain": [
       "<Figure size 720x432 with 1 Axes>"
      ]
     },
     "metadata": {
      "needs_background": "light"
     },
     "output_type": "display_data"
    }
   ],
   "source": [
    "(1 + taxa nominal) = (1 + infl)*(1 + taxa_real)\n",
    "\n",
    "#Exemplos: \n",
    " - NTN-B: IPCA+taxa: taxa real pré-definida (pós-fixado, híbrido)\n",
    " - LTN: taxa pré: taxa nominal pré-definida (pré-fixado, não considera nenhuma correção de inflação)        \n",
    "\n",
    "import pandas as pd\n",
    "import matplotlib.pyplot as plt\n",
    "n=30\n",
    "\n",
    "# Taxa real pré-def: 10%\n",
    "taxa_real = 0.10\n",
    "real_fixa = pd.DataFrame(columns=['Infl', 'Real', 'Nominal'])\n",
    "for i in range(n):\n",
    "\n",
    "    real_fixa.loc[i, 'Infl'] = i/100\n",
    "    real_fixa.loc[i, 'Real'] = taxa_real\n",
    "    real_fixa.loc[i, 'Nominal'] = (1 + taxa_real)*(1 + i/100) - 1\n",
    "print(real_fixa)\n",
    "\n",
    "\n",
    "fig, ax = plt.subplots(figsize=(10, 6))\n",
    "ax.plot(real_fixa['Infl'], real_fixa['Real'], label='Real')\n",
    "ax.plot(real_fixa['Infl'], real_fixa['Nominal'], label='Nominal')\n",
    "ax.legend()\n",
    "#ax.set_title('Comparação Taxas Iguais')\n",
    "ax.set_xlabel('Inflação')\n",
    "ax.set_ylabel('Taxas')"
   ]
  },
  {
   "cell_type": "code",
   "execution_count": 18,
   "metadata": {},
   "outputs": [
    {
     "name": "stdout",
     "output_type": "stream",
     "text": [
      "    Infl        Real Nominal\n",
      "0      0        0.15    0.15\n",
      "1   0.01    0.138614    0.15\n",
      "2   0.02    0.127451    0.15\n",
      "3   0.03    0.116505    0.15\n",
      "4   0.04    0.105769    0.15\n",
      "5   0.05   0.0952381    0.15\n",
      "6   0.06   0.0849057    0.15\n",
      "7   0.07   0.0747664    0.15\n",
      "8   0.08   0.0648148    0.15\n",
      "9   0.09   0.0550459    0.15\n",
      "10   0.1   0.0454545    0.15\n",
      "11  0.11    0.036036    0.15\n",
      "12  0.12   0.0267857    0.15\n",
      "13  0.13   0.0176991    0.15\n",
      "14  0.14  0.00877193    0.15\n",
      "15  0.15           0    0.15\n",
      "16  0.16 -0.00862069    0.15\n",
      "17  0.17   -0.017094    0.15\n",
      "18  0.18  -0.0254237    0.15\n",
      "19  0.19  -0.0336134    0.15\n",
      "20   0.2  -0.0416667    0.15\n",
      "21  0.21  -0.0495868    0.15\n",
      "22  0.22   -0.057377    0.15\n",
      "23  0.23  -0.0650407    0.15\n",
      "24  0.24  -0.0725806    0.15\n",
      "25  0.25       -0.08    0.15\n",
      "26  0.26  -0.0873016    0.15\n",
      "27  0.27  -0.0944882    0.15\n",
      "28  0.28   -0.101563    0.15\n",
      "29  0.29   -0.108527    0.15\n"
     ]
    },
    {
     "data": {
      "text/plain": [
       "Text(0, 0.5, 'Taxas')"
      ]
     },
     "execution_count": 18,
     "metadata": {},
     "output_type": "execute_result"
    },
    {
     "data": {
      "image/png": "[encoded data removed]",
      "text/plain": [
       "<Figure size 720x432 with 1 Axes>"
      ]
     },
     "metadata": {
      "needs_background": "light"
     },
     "output_type": "display_data"
    }
   ],
   "source": [
    "\n",
    "# Taxa nominal pré-def: 15%\n",
    "nominal_fixa = pd.DataFrame(columns=['Infl', 'Real', 'Nominal'])\n",
    "taxa_nominal = 0.15\n",
    "for i in range(n):\n",
    "\n",
    "    nominal_fixa.loc[i, 'Infl'] = i/100\n",
    "    nominal_fixa.loc[i, 'Real'] = (1 + taxa_nominal)/(1 + i/100) - 1\n",
    "    nominal_fixa.loc[i, 'Nominal'] = taxa_nominal \n",
    "print(nominal_fixa)\n",
    "\n",
    "fig, ax = plt.subplots(figsize=(10, 6))\n",
    "ax.plot(nominal_fixa['Infl'], nominal_fixa['Real'], label='Real')\n",
    "ax.plot(nominal_fixa['Infl'], nominal_fixa['Nominal'], label='Nominal')\n",
    "ax.legend()\n",
    "#ax.set_title('Comparação Taxas Iguais')\n",
    "ax.set_xlabel('Inflação')\n",
    "ax.set_ylabel('Taxas')"
   ]
  },
  {
   "cell_type": "code",
   "execution_count": null,
   "metadata": {},
   "outputs": [],
   "source": []
  }
 ],
 "metadata": {
  "kernelspec": {
   "display_name": "Python 3 (ipykernel)",
   "language": "python",
   "name": "python3"
  },
  "language_info": {
   "codemirror_mode": {
    "name": "ipython",
    "version": 3
   },
   "file_extension": ".py",
   "mimetype": "text/x-python",
   "name": "python",
   "nbconvert_exporter": "python",
   "pygments_lexer": "ipython3",
   "version": "3.9.6"
  }
 },
 "nbformat": 4,
 "nbformat_minor": 4
}
