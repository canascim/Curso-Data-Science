{
 "cells": [
  {
   "cell_type": "code",
   "execution_count": 41,
   "metadata": {
    "id": "-T8Twydo695B"
   },
   "outputs": [],
   "source": [
    "import numpy as np\n",
    "import pandas as pd\n",
    "import matplotlib.pyplot as plt"
   ]
  },
  {
   "cell_type": "markdown",
   "metadata": {
    "id": "cFu6YWFY695D"
   },
   "source": [
    "# Estrutura a termo de taxas de juros (curva de juros)\n",
    "\n",
    "\n",
    "Vamos definir o título *zero-coupon* como um papel que paga exatamente 1 unidade monetária no seu vencimento.\n",
    "\n",
    "Suponha que $P(t,T)$ é o preço observado em $t$ de um título *zero-coupon* que paga 1 unidade monetárioa no vencimento $T$. Por possuir apenas 1 fluxo de caixa, podemos estabelecer uma relação direta entre seu preço e a taxa a ser aplicada no seu apreçamento.\n",
    "\n",
    "Se desejarmos obter uma taxa discreta, podemos utilizar a seguinte equação:\n",
    "\n",
    "$$ P(t,T) = \\frac{1}{(1 + r)^{(T-t)}} $$\n",
    "\n",
    "$$ r = (\\frac{1}{P(t,T)})^{\\frac{1}{T-t}} - 1 $$\n",
    "\n",
    "Se desejarmos obter uma taxa contínua:\n",
    "\n",
    "$$ P(t,T) = e^{-r(T-t)} $$\n",
    "\n",
    "$$ r = -\\frac{ln (P(t,T))}{T-t}$$\n",
    "\n",
    "Para motivar o conceito da Estrutura a Termo da Taxa de Juros (ETTJ), vamos analisar os preços de referência divulgados pela ANBIMA para as LTNs de 17/01/2022, conforme figuras a seguir.\n",
    "\n",
    "![](Imagens\\16_01_LTN_Taxas.png)\n",
    "**Figura 1** - Taxas das LTNs por vencimento, na data base de 17/01/2022.\n",
    "\n",
    "\n",
    "É mais fácial interpretar o gráfico em relação às taxas implícitas para cada vencimento em vez de observar diretamente os preços.\n",
    "\n",
    "Na figura a seguir visualizamos a taxa implícita para cada movimento, que pode ser calculada a partir da segunda equação apresentada acima. Este gráfaico representa a estrutura a termo de taxa de juros (ETTJ) para as LTNs.\n",
    "\n",
    "![](Imagens\\16_02_LTN_PUs.png)\n",
    "**Figura 1** - Preços unitários (PUs) das LTNs por vencimento, na data base de 17/01/2022.\n",
    "\n",
    "De forma conceitual, a ETTJ expressa a relação entre a taxa de juros e o tempo de maturidade de um ativo financeiro. Esta taxa é obtida com base nos preços dos ativos e derivativos negociados em mercado e, associada a uma dada maturidade $T$. Pode ser interpretada como o retorno de um título *zero-coupon* no vencimento $T$.\n",
    "\n",
    "A ETTJ mostra como o investidor se comporta com relação ao risco e, dessa forma, como as taxas de juros são influenciadas pela formação de expectativas dos agentes econômicos. Ao longo do tempo, a ETTJ pode oscilar de diferentes formas, em decorrência de choques diferenciados sobre as taxas de juros associadas a cada vencimento. Tal variabilidade temporal da ETTJ é que submete os instrumentos de renda fixa ao aarisco de mercado.\n",
    "\n",
    "O conhecimento sobre os preços dos títulos *zero-coupon* nos permite realizar o apreçamento de um título arbitrário com um número qualquer de fluxos de caixa, pois podemos enxergar este título genérico como sendo uma carteira de títulos *zero-coupon*. Além disso, podemos avaliar oportunidades de arbitragem e modelar previsões sobre o comportamento futuro das taxas de juros."
   ]
  },
  {
   "cell_type": "markdown",
   "metadata": {
    "id": "pUJCO9qZ695F"
   },
   "source": [
    "## Formato da curva de juros\n",
    "\n",
    "Existem muitas teorias que buscam explicar o formato da ETTJ. A mais intuitiva delas é a teoria das expectativas. Essa teoria determina que as taxas de juros de longo prazorefletem a taxa de juros de curto prazo esperada no futuro. A interpretação dessa teoria sugere, por exemplo, que para o investidor seria indiferente adquirir um título com prazo de 1 ano e carregá-lo até seu vencimento ou adquirir um título de 2 anos e vendê-lo após 1 ano, caso as condições de mercado não se alterassem.\n",
    "\n",
    "Outra teoria, chamada de teoria da segmentação de mercado, defende que não existe necessariamente uma relaçã entre taxas de juros de curto, médio e longo prazo. A teoria se apoia na afirmação de que existem investidores específicos para cada um dos três nichos de mercado. Neste caso, a taxa de juros de curto prazo é determinada pela oferta e demanda do mercado de títulos de curto, a taxa de médio prazo é determinada pelos títulos de médio prazo e analogamente para longo prazo.\n",
    "\n",
    "Já a teoria da preferência por liquidez afirma que investidores não são indiferentes ao risco. Os investidores estão frequentemente interessados em instrumentos de maturidade mais curta, uma vez que títulos mais longos são mais arriscados, pois seu preço é mais sensível a uma dada mudança na taxa de juros. Esse fato cria uma remuneração adicional, exigida pelos agentes sobre um título de maior maturação, conhecida como prêmio pela liquidez. O pressuposto básico dessa teoria é que ativos com diferentes prazos de vencimento não se constituem em substitutos perfeitos uns dos outros.\n",
    "\n",
    "Por exemplo, suponha que temos um título que paga 2 unidades monetárias em $t=1$ e 4 em $t=2$. Se conhecemos $P(0,1)$ e $P(0,2)$, o preço desse título em $t-0$ seria dado por:\n",
    "\n",
    "$$ P_{título} = 2P(0,1) + 4P(0,2) $$"
   ]
  },
  {
   "cell_type": "markdown",
   "metadata": {
    "id": "QX-sFnZI695H"
   },
   "source": [
    "## Taxa forward\n",
    "\n",
    "Conforme já mencionado, um título *zero-coupon* não possui pagamentos intermediários ou cupons, sendo todo o pagamento de juros e principal recebido no seu vencimento. A taxa de juros de um título *zero-coupon* também é chamada de taxa de juros à vista ou **taxa spot**.\n",
    "\n",
    "As taxas *forward* são as taxas de juros implícitas pelas taxas à vista entre períodos de tempo no futuro. Resumidamente, são taxas projetadas entre duas datas futuras. O mercado utiliza projeções de taxas *forward* como um indicador do comportamento esperado da taxa no futuro.\n",
    "\n",
    "Utilizando um argumento de não arbitragem, poderemos determinar a taxa *forward* a partir das taxas *spot*.\n",
    "\n",
    "Se estamos no instante de tempo $t$, podemos contratar uma taxa *forward* que irá valer para o período entre duas datas futuras $T_1$ e $T_2$ ($T_1 <T_2$). Seja $F_t(T_1, T_2)$ o fator de correção associado à taxa *forward*, e sejam $R_t(t, T_1)$ e $R_t(t, T_2)$ os fatores de correção associados às taxas *spot* para os vencimento $T_1$ e $T_2$, respectivamente, todos observados no instante $t$.\n",
    "\n",
    "Então podemos aplicar o seguinte argumetno de não arbitragem: aplicar em $t$ um capital com vencimetno em $T_2$ deve ter o mesmo efeito de aplicar em $t$ um capital com vencimetno em $T_1$ e em seguida reaplicá-lo pela taxa *forward* entre $T_1$ e $T_2$, dado que esta taxa é contratada no instante de tempo inicial $t$. A partir deste argumento, temos que:\n",
    "\n",
    "$$ R_t(t, T_2) = R_t(t, T_1) \\cdot F_t(T_1, T_2) $$\n",
    "\n",
    "$$ F_t(T_1, T_2) = \\frac{R_t(t, T_2)}{R_t(t, T_1)}  $$\n",
    "\n",
    "A partir do fator de correção, podemos extraira a taxa de juros para a convenção desejada. Seja $f_t(T_1, T_2)$ a taxa *forward* em questão, se aplicarmos convenção de taxa composta, podemos converter o fator de correção em taxa da seguinte forma:\n",
    "\n",
    "$$ f_t(T_1, T_2) = (F_t(T_1, T_2))^{\\frac{1}{T_2 - T_1}} - 1 $$"
   ]
  },
  {
   "cell_type": "code",
   "execution_count": 17,
   "metadata": {
    "id": "D7m2qd6M695I"
   },
   "outputs": [
    {
     "name": "stdout",
     "output_type": "stream",
     "text": [
      "   Data de Vencimento  Tx. Venda\n",
      "0          2022-04-01    10.5558\n",
      "1          2022-07-01    11.5014\n",
      "2          2022-10-01    11.9054\n",
      "3          2023-01-01    12.0337\n",
      "4          2023-04-01    12.0636\n",
      "5          2023-07-01    12.0847\n",
      "6          2024-01-01    11.8700\n",
      "7          2024-04-01    11.7634\n",
      "8          2024-07-01    11.7189\n",
      "9          2025-01-01    11.5133\n",
      "10         2025-07-01    11.4494\n"
     ]
    }
   ],
   "source": [
    "# data base: 17/01/2022\n",
    "\n",
    "df = pd.read_excel('16_m22jan17.xls', sheet_name='LTN', skiprows=4, skipfooter=1, header=0, usecols=['Data de Vencimento', 'Tx. Venda'])\n",
    "print(df)\n"
   ]
  },
  {
   "cell_type": "markdown",
   "metadata": {},
   "source": [
    "**Exercício 1**\n",
    "\n",
    "Calcule a taxa forward do dia 01/07/2022 até 01/10/2022, utilizando o dados da planilha."
   ]
  },
  {
   "cell_type": "code",
   "execution_count": null,
   "metadata": {},
   "outputs": [],
   "source": [
    "from datetime import datetime\n",
    "\n",
    "# Data final\n",
    "d2 = datetime.strptime('2022-10-01', '%Y-%m-%d')\n",
    "\n",
    "# Data inicial\n",
    "d1 = datetime.strptime('2022-07-01', '%Y-%m-%d')\n",
    "\n",
    "# DatA BASE\n",
    "d0 = datetime.strptime('2022-01-17', '%Y-%m-%d')\n",
    "\n",
    "pd0 = (d2 - d0).days/360\n",
    "pd1 = (d1 - d0).days/360\n",
    "pd2 = (d2 - d1).days/360\n",
    "\n",
    "print(pd0, pd1, pd2)\n",
    "\n",
    "Rt1 = (1 + (11.5014/100))**pd1\n",
    "Rt2 = (1 + (11.9054/100))**pd0\n",
    "\n",
    "Ft = (Rt2 / Rt1)\n",
    "\n",
    "print(Rt1 , Rt2, Ft)\n",
    "\n",
    "f = ((Ft)**(1/pd2))-1\n",
    "print(f'percentual {round(f*100,4)}%')\n",
    "\n",
    "#Resultado : percentual 12.6336%"
   ]
  },
  {
   "cell_type": "markdown",
   "metadata": {
    "id": "7ogerS5R695I"
   },
   "source": [
    "## Interpolação\n",
    "\n",
    "Vimos que a ETTJ nos permite precificar títulos com diferentes características. Entretanto, temos um problema prático: não conseguimos observar preços de títulos *zero-coupon* para todos os vencimentos possíveis. Observamos apenas alguns pontos da curva, que chamamos de **vértices**. Os demais pontos não são diretamente observáveis no mercado. Para resovler isso, lançamos mão de métodos para completar esses \"buracos\" na ETTJ.\n",
    "\n",
    "Uma classe desses métodos envolve técnicas de **interpolação** e **extrapolação** de curvas. Nesta seção, vamos analisar as técnicas mais utilizadas no mercado:\n",
    "\n",
    "- Linear\n",
    "- *Flat forward*\n",
    "- *Cubic spline*\n",
    "\n",
    "É importante destacar que sempre haverá certa arbitrariedade na seleção da técnica a ser empregada para construir a ETTJ. A escolha dependerá da situação específica em que seu usp deve ser empregado."
   ]
  },
  {
   "cell_type": "markdown",
   "metadata": {
    "id": "xv7MU40X695J"
   },
   "source": [
    "### Interpolação Linear\n",
    "\n",
    "Consiste em interligar cada par de vértices por uma reta. Este método normalmente é empregado para curvas em moedas estrangeiras, tendo em vista o uso de taxas de convenção linear.\n",
    "\n",
    "Sejam $r_a$ e $r_b$ as taxas *spot* observadas para os vencimentos $a$ e$b$, respectivamente. Se desejarmos obter a taxa interpolada $r_x$ para o prazo $x$, aplicaremos a equação:\n",
    "\n",
    "$$ r_x = \\frac{r_b - r_a}{b-a}(x-a) + r_a $$\n",
    "\n",
    "para o caso da interpolação linear"
   ]
  },
  {
   "cell_type": "code",
   "execution_count": null,
   "metadata": {
    "id": "smHbtCy3695J",
    "outputId": "8aa2a79e-25ab-4563-a61f-d91f72486e45"
   },
   "outputs": [
    {
     "data": {
      "image/png": "[encoded data removed]",
      "text/plain": [
       "<Figure size 432x288 with 1 Axes>"
      ]
     },
     "metadata": {
      "needs_background": "light"
     },
     "output_type": "display_data"
    }
   ],
   "source": [
    "# Exemplo de interpolação no Python\n",
    "from scipy.interpolate import interp1d\n",
    "x = np.linspace(0, 10, num=11, endpoint=True)\n",
    "y = np.cos(-x**2/9.0)\n",
    "f = interp1d(x, y)\n",
    "f2 = interp1d(x, y, kind='cubic')\n",
    "xnew = np.linspace(0, 10, num=41, endpoint=True)\n",
    "import matplotlib.pyplot as plt\n",
    "plt.plot(x, y, 'o', xnew, f(xnew), '-', xnew, f2(xnew), '--')\n",
    "plt.legend(['data', 'linear', 'cubic'], loc='best')\n",
    "plt.show()"
   ]
  },
  {
   "cell_type": "markdown",
   "metadata": {},
   "source": [
    "**Exercício 2**\n",
    "\n",
    "Faça o gráfico da curva interpolada linearmente a partir das taxas disponibilizadas na planilha."
   ]
  },
  {
   "cell_type": "code",
   "execution_count": null,
   "metadata": {
    "id": "QOkU5vpc695K"
   },
   "outputs": [],
   "source": [
    "import matplotlib.pyplot as plt\n",
    "from scipy.interpolate import interp1d\n",
    "\n",
    "db = datetime.strptime('2022-01-17', '%Y-%m-%d')\n",
    "df['prazo'] = df['Data de Vencimento'].apply(lambda x: (x - db).days/360)\n",
    "x = df['prazo'].values\n",
    "y = df['Tx. Venda']\n",
    "f = interp1d(x, y)\n",
    "f2 = interp1d(x, y, kind='cubic')\n",
    "xnew = np.linspace(df['prazo'].min(),df['prazo'].max(), num=100, endpoint=True)\n",
    "import matplotlib.pyplot as plt\n",
    "plt.plot(x, y, 'o', xnew, f(xnew), '-', xnew, f2(xnew), '--')\n",
    "plt.legend(['data', 'linear', 'cubic'], loc='best')\n",
    "plt.show()\n",
    "\n",
    "xx=(dx-db).days/360\n",
    "\n",
    "f(xx)"
   ]
  },
  {
   "cell_type": "markdown",
   "metadata": {},
   "source": [
    "**Exercício 3**\n",
    "\n",
    "Calcule a taxa interpolada linearmente para a data 01/06/2022."
   ]
  },
  {
   "cell_type": "code",
   "execution_count": null,
   "metadata": {},
   "outputs": [],
   "source": []
  },
  {
   "cell_type": "markdown",
   "metadata": {
    "id": "68IXFIub695L"
   },
   "source": [
    "### Interpolação *Flat forward*\n",
    "\n",
    "A interpolação *flat forward* consiste em aplicar uma interpolação linear ao logaritmo do ftor de desconto associado a cada vértice da curva de juros.\n",
    "\n",
    "Sejam $D_a$ e $D_b$ os fatores de desconto associados às taxas *spot* observadas para os vencimento $a$ e $b$, respectivamente. Se desejarmos obter o fator de desconto $D_x$ interpolado para o prazo $x$, aplicaremos a equação:\n",
    "\n",
    "$$ D_x = exp\\left(\\frac{ln(D_b) - ln(D_a)}{b-a}(x-a) + ln(D_a)\\right) $$\n",
    "\n",
    "para o caso da interpolação *flat forward*.\n",
    "\n",
    "A partir de $D_x$ podemos extrair a taxa *spot* interpolada para o prazo $x$ para a convenção desejada. Por exemplo, se desejarmos obter a taxa $r_x$ com convenção de taxa composta, bastará aplicar os conceitos apresentados no início desta aula, o que resula na equação:\n",
    "\n",
    "$$ r_x = \\left (\\frac{1}{D_x}\\right)^{\\frac{1}{x}} - 1 $$\n"
   ]
  },
  {
   "cell_type": "markdown",
   "metadata": {},
   "source": [
    "**Exercício 4**\n",
    "\n",
    "Calcule a taxa interpolada *flat forward* para a data 01/06/2022."
   ]
  },
  {
   "cell_type": "code",
   "execution_count": null,
   "metadata": {
    "id": "5dbgxL3K695M"
   },
   "outputs": [],
   "source": []
  },
  {
   "cell_type": "markdown",
   "metadata": {
    "id": "P1iVkQjd695M"
   },
   "source": [
    "### Interpolação *Cubic Spline*\n",
    "\n",
    "O *spline* é um conjunto de polinômios de baixo grau, unidos em vértices, formando uma função contínua em um intervalo. Para que haja uma solução bem definida com certo grau de suavidade, costumam-se impor limites sobre os vértices. Esse método foi desenvolvido inicialmente para resolver interpolação de funções suaves, já que reduz as instabilidades características dos polinômios de alta ordem.\n",
    "\n",
    "O *spline* cúbico é o mais comum dentro da literatura financeira. Isto ocorre porque este é o *spline* de mais baixo grau que possibilita a criação de uma curva interpolada sem a presença de descontinuidades e que seja continuamente diferenciável.\n",
    "\n",
    "Suponha que $r(t)$ seja uma função *spline* cúbica sobre um conjunto de $n$ vértices. Os vértices são identificados pelas taxas observadas $y_1, y_2,...,y_n$ relativas aos prazos $t_1, t_2, ..., t_n$ respectivamente. Para cada intervalo $[t_i, t_{i+1}]$, $r(t)$ deve ser igual a um polinômio cúbico dado por:\n",
    "\n",
    "$$ P_i(t) = a_{0,i} + a_{1,i}t  + a_{2,i}t^2 + a_{3,i}t^3$$\n",
    "\n",
    "Onde $i= 1,...,n-1$ representa cada intervalo onde é definido um polinômio.\n",
    "\n",
    "Para determinar os polinômios $P_i$, devemos determinar $4n-4$ constantes. Cada polinômio $P_i$ deve passar pelos vértices $i$ e $i+1$. Como condições adicionais, a primeira e segunda derivadas nos vértices devem ser iguais para os polinômios que se conectam. Podemos representar estas condições por:\n",
    "\n",
    "$$\n",
    "\\begin{equation}\n",
    " \\left\\{\n",
    "\\begin{array}{rll}\n",
    "P_i(t_i) = y_i, & \\hbox{para} & 1 \\leq i \\leq n-1 \\\\\n",
    "P_i(t_{i+1}) = y_{i+1}, & \\hbox{para} & 1 \\leq i \\leq n-1 \\\\\n",
    "P'_i(t_{i+1}) = P'_{i+1}(t_{i+1}), & \\hbox{para} & 1 \\leq i \\leq n-2 \\\\\n",
    "P''_i(t_{i+1}) = P''_{i+1}(t_{i+1}), & \\hbox{para} & 1 \\leq i \\leq n-2 \\\\\n",
    "\\end{array}\n",
    "\\right. \n",
    "\\end{equation}\n",
    "$$\n",
    "\n",
    "A lista de restrições acima contém um total de $4n-6$ equações. Portanto, para completar o modelo precisamos de mais 2 restrições. Para estas restrições adicionais, existem algumas possibilidades. A mais usual, chamada de *cubic spline natural*, envolve atribuir valor zero à segunda derivada do primeiro polinômio no primeiro vértice e ao último polinômio no último vértice, conforme as equações:\n",
    "\n",
    "$$\n",
    "\\begin{equation}\n",
    " \\left\\{\n",
    "\\begin{array}{r}\n",
    "P''_1(t_1) = 0 \\\\\n",
    "P''_{n-1}(t_{n}) = 0\n",
    "\\end{array}\n",
    "\\right.\n",
    "\\end{equation}\n",
    "$$"
   ]
  },
  {
   "cell_type": "code",
   "execution_count": 19,
   "metadata": {
    "id": "f5FxLlok695N"
   },
   "outputs": [],
   "source": [
    "from scipy.interpolate import CubicSpline\n",
    "import numpy as np\n",
    "import matplotlib.pyplot as plt"
   ]
  },
  {
   "cell_type": "code",
   "execution_count": null,
   "metadata": {
    "id": "d_IuM2Sn695O"
   },
   "outputs": [],
   "source": [
    "x\n",
    "y"
   ]
  },
  {
   "cell_type": "code",
   "execution_count": 43,
   "metadata": {
    "id": "-IMkdAQd695O"
   },
   "outputs": [
    {
     "data": {
      "text/plain": [
       "[<matplotlib.lines.Line2D at 0x1d4e52026a0>]"
      ]
     },
     "execution_count": 43,
     "metadata": {},
     "output_type": "execute_result"
    },
    {
     "data": {
      "image/png": "[encoded data removed]",
      "text/plain": [
       "<Figure size 432x288 with 1 Axes>"
      ]
     },
     "metadata": {
      "needs_background": "light"
     },
     "output_type": "display_data"
    }
   ],
   "source": [
    "f = CubicSpline(x, y, bc_type='natural')\n",
    "x_new = np.linspace(0, 2, 100)\n",
    "y_new = f(x_new)\n"
   ]
  },
  {
   "cell_type": "markdown",
   "metadata": {
    "id": "3t8ATwrw695O"
   },
   "source": [
    "## Modelos de ETTJ\n",
    "\n",
    "Os modelos de curvas de juros aplicam uma única função para determinar toda a curva de juros.\n",
    "\n",
    "Nos modelos de interpolação, a curva de juros resultante passa por todos os vértices da curva. Já na técnica de modelos de curva de juros, os parâmetros do modelo são calibrados de forma a passar o mais perto posível dos pontos observados da curva.\n",
    "\n",
    "O modelo **Svensson** (1994) utiliza um somatório de exponenciais para modelar toda a curva de juros. Este modelo é expresso matematicamente pela equação:\n",
    "\n",
    "$$\n",
    "\\begin{equation}\n",
    "r(\\tau)=\\beta_1 + \n",
    "\\beta_2\\left( \\frac{1-e^{-\\lambda_1 \\tau}}{\\lambda_1 \\tau} \\right) + \n",
    "\\beta_3\\left( \\frac{1-e^{-\\lambda_1 \\tau}}{\\lambda_1 \\tau} - e^{- \\lambda_1 \\tau}\\right) + \n",
    "\\beta_4\\left( \\frac{1-e^{-\\lambda_2 \\tau}}{\\lambda_2 \\tau} - e^{- \\lambda_2 \\tau}\\right)\n",
    "\\end{equation}\n",
    "$$\n",
    "\n",
    "Onde $\\beta_1, \\beta_2, \\beta_3, \\beta_4, \\lambda_1$ e $\\lambda_2$ são as constantes do modelos, e $\\tau$ é o prazo associado à taxa *spot* $r(\\tau)$. A ANBIMA utiliza estes modelos para divulgar curvas de referência para as curvas de juros prefixados em reais e de cupom de IPCA.\n",
    "\n",
    "https://www.anbima.com.br/pt_br/informar/curvas-de-juros-fechamento.htm\n",
    "\n",
    "Outro modelo muito conhecido é o modelo **Nelson Siegel** (1987), dado pela equação:\n",
    "\n",
    "$$\n",
    "\\begin{equation}\n",
    "r(\\tau)=\\beta_1 + \n",
    "\\beta_2\\left( \\frac{1-e^{-\\lambda \\tau}}{\\lambda \\tau} \\right) + \n",
    "\\beta_3\\left( \\frac{1-e^{-\\lambda \\tau}}{\\lambda \\tau} - e^{- \\lambda \\tau}\\right) \n",
    "\\end{equation}\n",
    "$$\n",
    "\n",
    "Onde $\\beta_1, \\beta_2, \\beta_3 e \\lambda$ são as constantes do modelos, e $\\tau$ é o prazo associado à taxa *spot* $r(\\tau)$. Podemos ver este modelo como um caso particular do Svensson, onde $\\beta_4 = \\lambda_2 = 0$.\n"
   ]
  },
  {
   "cell_type": "code",
   "execution_count": null,
   "metadata": {
    "id": "io0SHAeC695P"
   },
   "outputs": [],
   "source": []
  },
  {
   "cell_type": "markdown",
   "metadata": {
    "id": "ruHtwsbE695Q"
   },
   "source": [
    "## Bootstrapping\n",
    "\n",
    "A construção da curva de juros de uma classe de ativos de renda fixa é derivada da cotação de mercado de tais ativos. Como mensionado anteriormente, a ETTJ é uma relação entre a taxa de cupom zero e uma maturidade.\n",
    "\n",
    "Entretanto, diversos ativos apresentam pagamentos intermediários de cupom, e sua taxa interna de tetorno (TIR) não reflete, portanto, a taxa de cupom zero. O método utilizado para extrair uma taxa de cupom zero a partir de ativos que pagam cupons periódicos é chamado de ***bootstrapping***.\n",
    "\n",
    "O princípio básico deste métodose apoia no fato de que um título que paga cupom em $N$ períodos pode ser decomposto em $N$ títulos de cupom zero. Caso o título mais curto não possua mais pagamento de cupom intermediário, sua taxa de retorno será uma taxa *zero-coupon* no vencimento desse título. A partir dessa taxa *zero-coupon* obtida, calcula-se a taxa *zero-coupon* no vencimento de um segundo título, cujo único pagamento intermediário ocorra na mesma data do vencimento do primeiro título. Seguindo esse método sucessivamente, é possível extrair a taxa zero cupom nos vencimentos dos respectivos cupons de juros."
   ]
  },
  {
   "cell_type": "markdown",
   "metadata": {
    "id": "H_TX3bUc695Q"
   },
   "source": [
    "**Exemplo**\n",
    "\n",
    "A tabela a seguir mostra o vencimento e o preço unitário de quatro títulos prefixados com valor de face de R\\$ 1000,00 e pagamentos de cupom semestral de 10% a.a. (padrão exponencial).\n",
    "\n",
    "Vencimentos (meses) | PU\n",
    "--------------------|---\n",
    " 6| 1000\n",
    " 12| 996\n",
    " 18|991\n",
    " 24|987\n",
    " **Tabela 1** - Vencimentos e preços unitários para os títulos do exemplo.\n",
    "\n",
    "O título com vencimento em 6 meses é zero cupmo por definição e, por ser negociado ao par, sua taxa de retorno de 10% a.a. é igual à taxa zero cupom para o período de 6 meses. \n",
    "\n",
    "Considerando o preço unitário e o fluxo de pagamento futuro do título com vencimento em 12 meses e a taxa zero cupom para o período de 6 meses, pode-se calcular a taxa zero cupom de 12 meses $r_2$ da seguinte forma:\n",
    "\n",
    "$$ 996 = \\frac{48.8088}{(1+0.10)^{\\frac{6}{12}}} +\n",
    "\\frac{1048.8088}{(1+r_2)^{\\frac{12}{12}}}$$\n",
    "\n",
    "Resolvendo esta equação obtemos $r_2 = 10.46\\%$ a.a.\n",
    "\n",
    "Considerando o preço untário e o fluxo de pagamento futuro do título com vencimento em 18 meses e a taxa zero cupom para o período de 6 a 12 meses, pode-se calcular a taxa zero cupom de 18 meses:\n",
    "\n",
    "$$ 991 = \\frac{48.8088}{(1+0.10)^{\\frac{6}{12}}} + \\frac{48.8088}{(1+0.1046)^{\\frac{12}{12}}} + \n",
    "\\frac{1048.8088}{(1+r_3)^{\\frac{18}{12}}} $$\n",
    "\n",
    "Resolvendo esta equação obtemos $r_3 = 10.73\\%$ a.a.\n",
    "\n",
    "Por fim, considerando o preço unitário e o fluxo de pagamento futuro do título com vencimento em 24 meses e a taxa zero cupom para os períodos de 6, 12 e 18 meses, pode-se calcular a taxa zero cupom de 24 meses da seguinte forma:\n",
    "\n",
    "$$ 987 = \\frac{48.8088}{(1+0.10)^{\\frac{6}{12}}} + \\frac{48.8088}{(1+0.1046)^{\\frac{12}{12}}} + \n",
    "\\frac{48.8088}{(1+0.1073)^{\\frac{18}{12}}}  + \n",
    "\\frac{1048.8088}{(1+r_4)^{\\frac{24}{12}}} $$\n",
    "\n",
    "Resolvendo esta equação obtemos $r_4 = 10.81\\%$ a.a.\n",
    "\n",
    "A tabela a seguir sumariza os resultados obtidos a partir do método *bootstrapping*:\n",
    "\n",
    "Vencimentos (meses) | Taxa zero cupom (a.a.)\n",
    "--------------------|---\n",
    "  6| 10.00%\n",
    " 12| 10.46%\n",
    " 18| 10.73%\n",
    " 24| 10.81%\n",
    " \n",
    " \n",
    " **Tabela 2** - Taxas *spot* extraídas a partir do método *bootstrapping*."
   ]
  },
  {
   "cell_type": "code",
   "execution_count": null,
   "metadata": {
    "id": "1NUWh4Rc695Q"
   },
   "outputs": [],
   "source": []
  },
  {
   "cell_type": "markdown",
   "metadata": {
    "id": "XMLf5fsV695R"
   },
   "source": []
  }
 ],
 "metadata": {
  "colab": {
   "name": "Aula 16 - ETTJ.ipynb",
   "provenance": []
  },
  "kernelspec": {
   "display_name": "Python 3 (ipykernel)",
   "language": "python",
   "name": "python3"
  },
  "language_info": {
   "codemirror_mode": {
    "name": "ipython",
    "version": 3
   },
   "file_extension": ".py",
   "mimetype": "text/x-python",
   "name": "python",
   "nbconvert_exporter": "python",
   "pygments_lexer": "ipython3",
   "version": "3.9.6"
  }
 },
 "nbformat": 4,
 "nbformat_minor": 1
}
