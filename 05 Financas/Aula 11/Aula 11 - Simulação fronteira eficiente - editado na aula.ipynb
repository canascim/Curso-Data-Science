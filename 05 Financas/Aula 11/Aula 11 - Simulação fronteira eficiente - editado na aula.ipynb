{
 "cells": [
  {
   "cell_type": "markdown",
   "metadata": {},
   "source": [
    "### Grupos\n",
    "\n",
    "1. \n",
    "2. \n",
    "3.\n",
    "4.\n",
    "5.\n",
    "6.\n",
    "7.\n",
    "\n",
    "### Atividades\n",
    "\n",
    "1. Ler as bases de preços diários\n",
    "2. Calcular retornos relativos diários (HP=1)\n",
    "3. Calcular retorno médio e desvio padrão de cada ativo\n",
    "4. Calcular matriz de covariância dos ativos\n",
    "5. Plotar os ativos num gráfico de dispersão: retorno x risco\n",
    "6. Definir pesos para os ativos e compor em uma carteira. Calcular o retorno e o risco desta carteira\n",
    "7. Simular diversos conjuntos de pesos aleatoriamente e plotar no gráfico de dispersão estas carteiras\n",
    "\n",
    "### Dicas\n",
    "\n",
    "1. Defina funções para ler as bases ao invés de repetir os códigos.\n",
    "2. Utilize as funções do Pandas - .mean(), .cov(), .shift(), etc.\n",
    "3. Verifique os resultados a cada cálculo.\n",
    "4. Para multiplicação matricial, utilize: np.dot()\n",
    "5. Para simular valores aleatórios, utilize: np.ramdon.ramdon()"
   ]
  },
  {
   "cell_type": "code",
   "execution_count": 41,
   "metadata": {},
   "outputs": [],
   "source": [
    "# Bibliotecas\n",
    "import numpy as np\n",
    "import pandas as pd\n",
    "from matplotlib import pyplot as plt\n",
    "from sklearn.linear_model import LinearRegression\n",
    "import scipy.optimize as solver"
   ]
  },
  {
   "cell_type": "code",
   "execution_count": 42,
   "metadata": {
    "colab": {
     "base_uri": "https://localhost:8080/",
     "height": 475
    },
    "executionInfo": {
     "elapsed": 355,
     "status": "error",
     "timestamp": 1639696536204,
     "user": {
      "displayName": "Gustavo Previatto",
      "photoUrl": "https://lh3.googleusercontent.com/a-/AOh14GjObmSR4ca42p9ql2BFwTDO-JKvFQe5-jaQaAMvsA=s64",
      "userId": "00510215832706198465"
     },
     "user_tz": 180
    },
    "id": "tQNopJIwhPe1",
    "outputId": "0ad2189a-b1dc-4e78-c45a-de2c5cb533e5"
   },
   "outputs": [],
   "source": [
    "# Ler e tratar as bases\n",
    "def read_infoMoney(file_name):\n",
    "    df = pd.read_csv(file_name, sep=',', thousands='.', decimal=',')\n",
    "    df = df[['DATA', 'FECHAMENTO']]\n",
    "    df = df.set_index('DATA')\n",
    "    \n",
    "    return df\n",
    "\n"
   ]
  },
  {
   "cell_type": "code",
   "execution_count": 44,
   "metadata": {},
   "outputs": [],
   "source": [
    "# Dicionário de ativos\n",
    "assets = {'IBOV':  'Ibovespa (IBOV) - Histórico  InfoMoney.csv',\n",
    "          'PETR4': 'Petrobras PETR4 - Histórico  InfoMoney.csv',\n",
    "          'MRFG3': 'Marfrig MRFG3 - Histórico  InfoMoney.csv',\n",
    "          'MGLU3': 'Magazine Luiza MGLU3 - Histórico  InfoMoney.csv',\n",
    "          'BBAS3': 'Banco do Brasil BBAS3 - Histórico  InfoMoney.csv',\n",
    "          'BBDC3': 'Bradesco BBDC3 - Histórico  InfoMoney.csv',\n",
    "          'ITUB3': 'Itaú Unibanco ITUB3 - Histórico  InfoMoney.csv',\n",
    "          'VALE3': 'Vale S.A. VALE3 - Histórico  InfoMoney.csv'}\n"
   ]
  },
  {
   "cell_type": "code",
   "execution_count": 45,
   "metadata": {},
   "outputs": [],
   "source": [
    "# Consolidando os dados em um único DF\n",
    "df_assets = pd.DataFrame()\n",
    "for i in assets:\n",
    "    df_assets[i] = read_infoMoney(assets[i])['FECHAMENTO']\n"
   ]
  },
  {
   "cell_type": "code",
   "execution_count": 37,
   "metadata": {},
   "outputs": [
    {
     "data": {
      "text/html": [
       "<div>\n",
       "<style scoped>\n",
       "    .dataframe tbody tr th:only-of-type {\n",
       "        vertical-align: middle;\n",
       "    }\n",
       "\n",
       "    .dataframe tbody tr th {\n",
       "        vertical-align: top;\n",
       "    }\n",
       "\n",
       "    .dataframe thead th {\n",
       "        text-align: right;\n",
       "    }\n",
       "</style>\n",
       "<table border=\"1\" class=\"dataframe\">\n",
       "  <thead>\n",
       "    <tr style=\"text-align: right;\">\n",
       "      <th></th>\n",
       "    </tr>\n",
       "  </thead>\n",
       "  <tbody>\n",
       "  </tbody>\n",
       "</table>\n",
       "</div>"
      ],
      "text/plain": [
       "Empty DataFrame\n",
       "Columns: []\n",
       "Index: []"
      ]
     },
     "execution_count": 37,
     "metadata": {},
     "output_type": "execute_result"
    }
   ],
   "source": [
    "df_assets"
   ]
  },
  {
   "cell_type": "code",
   "execution_count": 85,
   "metadata": {
    "id": "_z3JgnAVhPe3"
   },
   "outputs": [],
   "source": [
    "def calc_return(df, hp):\n",
    "    df_returns = df / df.shift(-hp) - 1\n",
    "    df_returns = df_returns.dropna()\n",
    "    \n",
    "    return df_returns\n",
    "    \n",
    "df_returns = calc_return(df_assets, 1)\n",
    "\n"
   ]
  },
  {
   "cell_type": "code",
   "execution_count": 86,
   "metadata": {},
   "outputs": [],
   "source": [
    "# Cálculo da correlação entre os ativos\n",
    "correl_matrix = df_returns.corr()\n",
    "\n",
    "cov_matrix = df_returns.cov()\n",
    "\n",
    "# Cálculo do retorno e desvio padrão dos ativos\n",
    "mi = df_returns.mean() # média\n",
    "sigma = df_returns.std() # desvio padrão\n"
   ]
  },
  {
   "cell_type": "markdown",
   "metadata": {},
   "source": [
    "\n",
    "# nossa solução \n",
    "# Cálculo do retorno e desvio padrão dos ativos\n",
    "mi =  # média\n",
    "sigma =  # desvio padrão\n",
    "\n",
    "lista_media = list()\n",
    "for i in assets:\n",
    "    df_assets[i].mean()\n",
    "    lista_media.append\n",
    "    \n",
    "print(lista_media)\n"
   ]
  },
  {
   "cell_type": "code",
   "execution_count": 87,
   "metadata": {},
   "outputs": [
    {
     "data": {
      "image/png": "[encoded data removed]",
      "text/plain": [
       "<Figure size 1152x576 with 1 Axes>"
      ]
     },
     "metadata": {
      "needs_background": "light"
     },
     "output_type": "display_data"
    }
   ],
   "source": [
    "## Nossa solução\n",
    "# Gráfico dos ativos: retorno x risco\n",
    "\n",
    "plt.figure(figsize = (16,8))\n",
    "\n",
    "plt.scatter(sigma, mi)\n",
    "\n",
    "plt.xlabel(\"risco\")\n",
    "plt.ylabel(\"retorno\")\n",
    "plt.show()"
   ]
  },
  {
   "cell_type": "code",
   "execution_count": 88,
   "metadata": {},
   "outputs": [
    {
     "data": {
      "image/png": "[encoded data removed]",
      "text/plain": [
       "<Figure size 1152x576 with 1 Axes>"
      ]
     },
     "metadata": {
      "needs_background": "light"
     },
     "output_type": "display_data"
    }
   ],
   "source": [
    "# Gráfico dos ativos: retorno x risco\n",
    "plt.figure(figsize = (16,8))\n",
    "plt.scatter(sigma, mi) # eixo x: risco; eixo y: retorno\n",
    "plt.xlabel(\"Risco (desvio padrão)\")\n",
    "plt.ylabel(\"Retorno (média)\")\n",
    "for i, name in enumerate(mi.index.values): # atribuindo nomes aos pontos\n",
    "    plt.annotate(name, (sigma[i], mi[i]))\n",
    "plt.show()\n"
   ]
  },
  {
   "cell_type": "markdown",
   "metadata": {
    "colab": {
     "base_uri": "https://localhost:8080/",
     "height": 247
    },
    "executionInfo": {
     "elapsed": 7,
     "status": "error",
     "timestamp": 1639696401637,
     "user": {
      "displayName": "Gustavo Previatto",
      "photoUrl": "https://lh3.googleusercontent.com/a-/AOh14GjObmSR4ca42p9ql2BFwTDO-JKvFQe5-jaQaAMvsA=s64",
      "userId": "00510215832706198465"
     },
     "user_tz": 180
    },
    "id": "YO3rclLShPe6",
    "outputId": "09e3a856-7656-4b12-fe8f-0ee90ff6ebd9"
   },
   "source": [
    "# Nossa solução\n",
    "# Compondo uma carteira \n",
    "w1 = 0.1\n",
    "w2 = 0.1\n",
    "w3 = 0.1\n",
    "w4 = 0.1\n",
    "w5 = 0.1\n",
    "w6 = 0.1\n",
    "w7 = 0.1\n",
    "w8 = 0.3\n",
    "\n",
    "retorno = mi[0]*w1 + mi[1]*w2 + mi[2]*w3 + mi[3]*w4 + mi[4]*w5 + mi[5]*w6 + mi[6]*w7 + mi[7]*w8\n",
    "\n",
    "print ( 'retorno', retorno)\n",
    "\n",
    "sigma_P = np.sqrt(W_A*2 * sigma_A2 + W_B2 * sigma_B2 + W_C2 * sigma_C*2 + 2*W_A*W_B*cov_AB + 2*W_A*W_C*cov_AC  + 2*W_B*W_C*cov_BC)\n"
   ]
  },
  {
   "cell_type": "code",
   "execution_count": 89,
   "metadata": {},
   "outputs": [
    {
     "data": {
      "text/plain": [
       "array([0.125, 0.125, 0.125, 0.125, 0.125, 0.125, 0.125, 0.125])"
      ]
     },
     "execution_count": 89,
     "metadata": {},
     "output_type": "execute_result"
    }
   ],
   "source": [
    "# Compondo uma carteira \n",
    "# Defino pesos iguais # pode mudar, desde que a soma dos pesos seja = 1\n",
    "w = np.array([1/len(mi)]* len(mi))\n",
    "w"
   ]
  },
  {
   "cell_type": "code",
   "execution_count": 90,
   "metadata": {},
   "outputs": [
    {
     "data": {
      "text/plain": [
       "-0.002104827942313361"
      ]
     },
     "execution_count": 90,
     "metadata": {},
     "output_type": "execute_result"
    }
   ],
   "source": [
    "# Cálculo de retorno e risco da carteira\n",
    "mi_P = np.sum(w*mi)\n",
    "\n",
    "mi_P"
   ]
  },
  {
   "cell_type": "code",
   "execution_count": 91,
   "metadata": {},
   "outputs": [
    {
     "name": "stdout",
     "output_type": "stream",
     "text": [
      "Retorno esperado: -0.2105%, risco: 1.6406%\n"
     ]
    }
   ],
   "source": [
    "sigma_P = np.sqrt(np.dot(w, np.dot(cov_matrix, w)))\n",
    "\n",
    "print(f'Retorno esperado: {round(mi_P*100, 4)}%, risco: {round(sigma_P*100, 4)}%')\n",
    "   "
   ]
  },
  {
   "cell_type": "code",
   "execution_count": 92,
   "metadata": {},
   "outputs": [
    {
     "data": {
      "image/png": "[encoded data removed]",
      "text/plain": [
       "<Figure size 1152x576 with 1 Axes>"
      ]
     },
     "metadata": {
      "needs_background": "light"
     },
     "output_type": "display_data"
    }
   ],
   "source": [
    "# Simulando carteiras com pesos diferentes\n",
    "n = len(mi)\n",
    "\n",
    "mi_sim = []\n",
    "sigma_sim = []\n",
    "\n",
    "for i in range(10000):\n",
    "    \n",
    "    # Simulando pesos\n",
    "    w = np.random.random(n)\n",
    "    w = w/np.sum(w) #  Normalizo para somar 1\n",
    "    \n",
    "    # Cálculo de risco e retorno\n",
    "    mi_sim.append( np.sum(w*mi) )\n",
    "    sigma_sim.append( np.sqrt(np.dot(w, np.dot(cov_matrix, w))) )\n",
    "    \n",
    "# Gráfico\n",
    "plt.figure(figsize = (16,8))\n",
    "plt.scatter(sigma_sim, mi_sim) # eixo x: risco; eixo y: retorno\n",
    "plt.xlabel(\"Risco (desvio padrão)\")\n",
    "plt.ylabel(\"Retorno (média)\")\n",
    "\n",
    "plt.show()  \n",
    "\n",
    "\n",
    "\n"
   ]
  },
  {
   "cell_type": "markdown",
   "metadata": {},
   "source": [
    "## Otimização de portfólio\n",
    "\n",
    "Todo processo de otimização necessita da elaboração de uma função objetiva e da definição de um conjunto de restrições (se houver). Por exemplo, podemos minimizar uma função custo ou maximizar uma função de lucro. No nosso caso, utilizando a teoria de portfólio de Markowitz, desejamos uma das duas coisas:\n",
    "- minimizar a volatilidade da carteira ou\n",
    "- maximizar os retornos esperados\n",
    "\n",
    "Analisaremos adiante cada um dos casos."
   ]
  },
  {
   "cell_type": "markdown",
   "metadata": {},
   "source": [
    "### Minimizar a volatilidade\n",
    "\n",
    "Neste caso, desejamos obter um conjunto de pesos para os ativos da análise, tais que o risco da carteira ponderada por estes pesos seja o menor possível. Podemos escrever este objetivo da seguinte forma:\n",
    "\n",
    "$$ min F(w) = \\sqrt{\\sum_{i=1}^N \\sum_{j=1}^N W_i \\cdot W_j \\cdot COV_{i,j}} $$\n",
    "\n",
    "Contudo, devemos considerar nossas restrições. A primeira delas refere-se aos valores dos pesos. Por definição, estes devem sempre somar 1. Portanto:\n",
    "\n",
    "$$\\sum_{i=1}^N W_i = 1 $$\n",
    "\n",
    "ou\n",
    "\n",
    "$$\\sum_{i=1}^N W_i - 1 = 0 $$\n",
    "\n",
    "A segunda restrição refere-se ao retorno desejado para a carteira, $\\mu$. Para que este objetivo seja alcançado, podemos definir:\n",
    "\n",
    "$$\\sum_{i=1}^N W_i r_i = \\mu $$\n",
    "\n",
    "ou\n",
    "\n",
    "$$\\sum_{i=1}^N W_i r_i - \\mu = 0 $$\n",
    "\n",
    "Por fim, precisamos que os pesos possuam valores positivos e sejam menores que 100\\%:\n",
    "\n",
    "$$ w_i >= 0, \\forall i=1,...,n $$\n",
    "$$ w_i <= 1, \\forall i=1,...,n $$\n",
    "\n",
    "O que o cálculo numérico realiza é uma busca para encontrar o melhor conjunto de pesos para cada ativo que garanta que as restrições são respeitadas e que se tenha o menor risco possível."
   ]
  },
  {
   "cell_type": "markdown",
   "metadata": {},
   "source": [
    "---\n",
    "\n",
    "Biblioteca Python utilizada para otimização:\n",
    "\n",
    "https://docs.scipy.org/doc/scipy/reference/generated/scipy.optimize.minimize.html\n",
    "\n",
    "---\n"
   ]
  },
  {
   "cell_type": "code",
   "execution_count": null,
   "metadata": {},
   "outputs": [],
   "source": [
    "# Definindo função objetivo\n",
    "def f_obj_min_risk(w):\n",
    "    return np.sqrt(np.dot(w, np.dot(cov_matrix, w)))\n",
    "\n",
    "# Definindo valor inicial\n",
    "w_ini = np.array([1/len(mi)]* len(mi)) "
   ]
  },
  {
   "cell_type": "code",
   "execution_count": null,
   "metadata": {},
   "outputs": [],
   "source": [
    "# Definindo o retorno desejado\n",
    "ret = 0.004\n",
    "\n",
    "# Definindo restrições\n",
    "constraints = [{'type': 'eq', 'fun': lambda x: sum(x) - 1}, # primeira restrição\n",
    "               {'type': 'eq', 'fun': lambda x: sum(x*mi) - ret}] # segunda restrição\n",
    "\n",
    "# Definindo limites para os pesos\n",
    "bounds = tuple((0, 1) for x in range(len(w))) "
   ]
  },
  {
   "cell_type": "code",
   "execution_count": null,
   "metadata": {},
   "outputs": [],
   "source": [
    "result = solver.minimize(f_obj_min_risk, w_ini, constraints=constraints, bounds=bounds, \n",
    "                         method='SLSQP')\n",
    "result"
   ]
  },
  {
   "cell_type": "code",
   "execution_count": null,
   "metadata": {},
   "outputs": [],
   "source": [
    "pesos = [round(w*100, 2) for w in result.x]\n",
    "print(f'Pesos (%): {pesos}\\nRisco portfólio (%): {round(result.fun*100,2)}')"
   ]
  },
  {
   "cell_type": "code",
   "execution_count": null,
   "metadata": {},
   "outputs": [],
   "source": [
    "# Simulando para diversos retornos (buscando a fronteira eficiente)\n",
    "ret_range = np.arange(0.0, 0.008, 0.0001)\n",
    "sigma_sim = []\n",
    "\n",
    "for ret in ret_range:\n",
    "    constraints = [{'type': 'eq', 'fun': lambda x: sum(x) - 1}, # primeira restrição\n",
    "                   {'type': 'eq', 'fun': lambda x: sum(x*mi) - ret}] # segunda restrição\n",
    "    \n",
    "    result = solver.minimize(f_obj_min_risk, w_ini, constraints=constraints, bounds=bounds, \n",
    "                         method='SLSQP')\n",
    "    sigma_sim.append(result.fun)\n",
    "    \n",
    "plt.plot(sigma_sim, ret_range, '--')"
   ]
  },
  {
   "cell_type": "markdown",
   "metadata": {},
   "source": [
    "### Maximizar o retorno\n",
    "Neste caso, fixamos a volatilidade desejada $\\sigma_P$ e definimos a função objetivo para ampliar os retornos calculados a partir dos pesos. O problema de otimização pode ser rezumido por:\n",
    "\n",
    "$$ max F(w) = \\sum_{i=1}^N W_i r_i $$\n",
    "\n",
    "Sujeito a:\n",
    "\n",
    "$$\\sqrt{\\sum_{i=1}^N \\sum_{j=1}^N W_i \\cdot W_j \\cdot COV_{i,j}} = \\sigma_P $$\n",
    "$$\\sum_{i=1}^N W_i - 1 = 0 $$\n",
    "$$ w_i >= 0, \\forall i=1,...,n $$\n",
    "$$ w_i <= 1, \\forall i=1,...,n $$\n",
    "\n",
    "Nas bibliotecas existentes, os problemas de otimização sempre são descritas como minimização. Mas isto não é um problema, pois podemos simplesmente inverter o sinal da função objetivo:\n",
    "\n",
    "$$ min F(w) = - \\sum_{i=1}^N W_i r_i $$"
   ]
  },
  {
   "cell_type": "code",
   "execution_count": null,
   "metadata": {
    "id": "XnwlfcHChPe9"
   },
   "outputs": [],
   "source": [
    "# Definindo função objetivo\n",
    "\n",
    "# Definindo valor inicial\n",
    "\n",
    "# Definindo o retorno desejado\n",
    "\n",
    "# Definindo restrições\n",
    "\n",
    "# Definindo limites para os pesos\n"
   ]
  },
  {
   "cell_type": "code",
   "execution_count": null,
   "metadata": {},
   "outputs": [],
   "source": [
    "# Imprime resultado\n"
   ]
  },
  {
   "cell_type": "code",
   "execution_count": null,
   "metadata": {},
   "outputs": [],
   "source": [
    "# Simulando para diversos riscos (buscando a fronteira eficiente)\n"
   ]
  },
  {
   "cell_type": "code",
   "execution_count": null,
   "metadata": {},
   "outputs": [],
   "source": [
    "# Gráfico \n"
   ]
  }
 ],
 "metadata": {
  "colab": {
   "name": "Aula 11 - Atividade Teoria de portfólio, beta e CAPM.ipynb",
   "provenance": []
  },
  "kernelspec": {
   "display_name": "Python 3",
   "language": "python",
   "name": "python3"
  },
  "language_info": {
   "codemirror_mode": {
    "name": "ipython",
    "version": 3
   },
   "file_extension": ".py",
   "mimetype": "text/x-python",
   "name": "python",
   "nbconvert_exporter": "python",
   "pygments_lexer": "ipython3",
   "version": "3.8.8"
  }
 },
 "nbformat": 4,
 "nbformat_minor": 1
}
