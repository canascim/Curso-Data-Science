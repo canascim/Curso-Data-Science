{
 "cells": [
  {
   "cell_type": "markdown",
   "metadata": {
    "id": "1NVmikgMg6Lv"
   },
   "source": [
    "# Inflação e Política Monetária"
   ]
  },
  {
   "cell_type": "markdown",
   "metadata": {
    "id": "wmiTffvZg6L0"
   },
   "source": [
    "Após completar este capítulo, você será capaz de:\n",
    "\n",
    "- Compreender os fundamentos da política monetária\n",
    "- Compreender o conceito de inflação\n",
    "- Compreender o conceito de taxa básica de juros\n",
    "- Compreender e distinguir taxa nominal e taxa efetiva\n",
    "- Calcular composição de taxas"
   ]
  },
  {
   "cell_type": "markdown",
   "metadata": {
    "id": "J_0S7wKeg6L2"
   },
   "source": [
    "## Atividade\n",
    "\n",
    "Leia a notícia apresentada (disponível no Drive) e reflita sobre as seguintes perguntas:\n",
    "\n",
    "1. A inflação está acima ou abaixo do esperado? Como você explica esta afirmação?\n",
    "2. Qual tipo de política monetária o governo atual tem aplicado (ou tentado aplicar)?\n",
    "3. Dada a previsão das instituições financeiras, você prefere um investimento com taxa real pré-definida ou taxa nominal?"
   ]
  },
  {
   "cell_type": "markdown",
   "metadata": {
    "id": "9ZpfKeiDg6L2"
   },
   "source": [
    "## 1. Macroeconomia\n",
    "\n",
    "### Objetivos\n",
    "\n",
    "- Crescimento da renda e emprego;\n",
    "- Estabilização dos preços;\n",
    "- Equilíbrio das contas externas;\n",
    "- Distribuição justa da renda.\n",
    "\n",
    "### Principais instrumentos\n",
    "\n",
    "- Taxa de juros;\n",
    "- Gasto público;\n",
    "- Impostos;\n",
    "- Taxa de câmbio.\n",
    "\n",
    "### Tripé da Política Macroeconômica\n",
    "\n",
    "- Política fiscal: superávit fiscal primário, equilíbrio fiscal (diferença entre despesas e receitas);\n",
    "- Política monetária: sistema de metas de inflação, controle da inflação, taxa meta selic;\n",
    "- Política cambial: taxa de câmbio flutuante, equilíbrio externo.\n",
    "\n",
    "### Tipos de Políticas Macroeconômicas\n",
    "\n",
    "- Expansionistas (Ex: redução dos juros, aumento do gasto público, redução de impostos, etc);\n",
    "-  Contracionistas (Ex: aumento dos juros, redução do gasto público, aumento de impostos, etc);\n",
    "-  Neutras (Ex: aumento do gasto público/aumento de impostos, etc)."
   ]
  },
  {
   "cell_type": "markdown",
   "metadata": {
    "id": "qpJyMNReg6L3"
   },
   "source": [
    "## 2. O que é inflação?\n",
    "\n",
    "A Inflação refere-se a um aumento contínuo e generalizado dos preços. Ela representa a desvalorização do dinheiro no tempo e implica diminuição do **poder de compra** da moeda.\n",
    "\n",
    "Ela é calculada pelos índices de preços, comumente chamados de índices de inflação.\n",
    "A taxa de inflação é a variação percentual no nível de preços entre dois períodos.\n",
    "\n",
    "O efeito oposto à inflação é chamado de **deflação** (redução contínua e generalizada dos preços).\n",
    "\n",
    "https://www.ibge.gov.br/explica/inflacao.php\n",
    "\n",
    "Série histórica do IPCA mensal desde 1980:\n",
    "![Série histórica do IPCA mensal](Imagens/02_01_Serie_IPCA_mensal.png)\n",
    "\n",
    "\n",
    "Série histórica do IPCA e Selic anual desde 1995:\n",
    "![Série histórica do IPCA anual](Imagens/02_01_Serie_IPCA_SELIC.png)"
   ]
  },
  {
   "cell_type": "markdown",
   "metadata": {
    "id": "13TRLUPEg6L4"
   },
   "source": [
    "\n",
    "### 2.1. Índices de preços\n",
    "\n",
    "O objetivo de um índice é medir a variação de preços de uma cesta de produtos e serviços consumida pela população. O resultado mostra se os preços aumentaram ou diminuíram de um mês para o outro.\n",
    "\n",
    "Há 29 índices de preços no Brasil, sendo divididos em:\n",
    "- Índices de Preços ao Consumidor (IPC)\n",
    "- Índices Gerais de Preços (IGP)\n",
    "\n",
    "**Índices de Preços ao Consumidor** (IPC) são uma medida do custo médio dos bens e serviços adquiridos por um consumidor típico. \n",
    "\n",
    "Ele, em geral, é calculado mensalmente e serve para monitorar variações no custo de vida ao longo do tempo.\n",
    "\n",
    "**Índices Gerais de Preços** (IGPs) registram a inflação de preços desde matérias primas agrícolas e industriais até bens e serviços finais\n",
    "\n",
    "Os IGPs são compostos pelos índices IPA (índice de preços por atacado), o IPC (índice de preços ao consumidor) e o INCC (índice nacional de custos da construção), com poderações de 60%, 30% e 10% respectivamente.\n",
    "\n",
    "Índices mais utilizados\n",
    "- **IPCA**: Índice Nacional de Preços ao Consumidor Amplo, aponta a variação do custo de vida médio de famílias com renda mensal de 1 e 40 salários mínimos, é calculado e divulgado pelo IBGE;\n",
    "- **IPCA-15**: difere do IPCA apenas no período de coleta, que abrange, em geral, do dia 16 do mês anterior ao dia 15 do mês de referência. Funciona como uma prévia do IPCA;\n",
    "- **IGP-M**: o Índice Geral de Preços do Mercado, calculado pela Fundação Getulio Vargas - FGV, é formado por três índices diversos que medem os preços por atacado (IPA-M), ao consumidor (IPC-M), e de construção (INCC). O IGP-M é comumente usado para contratos de aluguel, seguros de saúde e reajustes de tarifas públicas; e\n",
    "- **IPC-Fipe**: o Índice de Preços ao Consumidor, calculado pela Fundação Instituto de Pesquisas Econômicas - FIPE, mede a variação de preços no Município de São Paulo. Ele aponta a variação do custo de vida médio de famílias com renda de 1 a 10 salários mínimos.\n",
    "\n",
    "\n",
    "[Histórico IPCA](https://www.idinheiro.com.br/tabelas/tabela-ipca/)\n",
    "\n",
    "[Histórico IPCA mensal](https://www.ibge.gov.br/estatisticas/economicas/precos-e-custos/9256-indice-nacional-de-precos-ao-consumidor-amplo.html?t=series-historicas&utm_source=landing&utm_medium=explica&utm_campaign=inflacao#plano-real-mes)\n",
    "\n"
   ]
  },
  {
   "cell_type": "markdown",
   "metadata": {
    "id": "pF8rr_3Mg6L5"
   },
   "source": [
    "### 2.1. Taxa Nominal e Efetiva\n",
    "\n",
    "A **taxa nominal** de juros contempla os efeitos da inflação. Ela representa o valor que será pago ao final do período analisado.\n",
    "\n",
    "Em contratos como empréstimos, ela é calculada levando em consideração além da inflação o spread comercial da operação e o risco de crédito com tomador.\n",
    "\n",
    "A **taxa real** de juros, não tem o efeito inflacionário, por isso ela tende a ser menor que a taxa nominal. Ela representa o quanto de fato será valorizado acima da inflação.\n",
    "\n",
    "A taxa de inflação pode ser dada pela diferença entre a taxa de juros real e nominal.\n",
    "\n",
    "$$  (1 + i_N) = (1 + i_{Infl}) \\cdot (1 + i_R)$$\n",
    "\n",
    "Sendo:\n",
    "\n",
    "- $i_N$ = taxa nominal\n",
    "- $i_{Infl}$ = taxa de inflação\n",
    "- $i_R$ = taxa real\n",
    "\n",
    "**Exemplo 1**\n",
    "\n",
    "Imagine que você investiu R$ 100 mil a uma taxa de 10%, por um ano. Nesse período a inflação foi de 5%\n",
    "Dá para dizer que você ficou 10% mais rico?*"
   ]
  },
  {
   "cell_type": "code",
   "execution_count": 2,
   "metadata": {
    "colab": {
     "base_uri": "https://localhost:8080/"
    },
    "executionInfo": {
     "elapsed": 4,
     "status": "ok",
     "timestamp": 1637970017609,
     "user": {
      "displayName": "Gustavo Previatto",
      "photoUrl": "https://lh3.googleusercontent.com/a-/AOh14GjObmSR4ca42p9ql2BFwTDO-JKvFQe5-jaQaAMvsA=s64",
      "userId": "00510215832706198465"
     },
     "user_tz": 180
    },
    "id": "7Q9m4UmYg6L6",
    "outputId": "ac50d0a9-ecaa-4724-fed2-d9ac88120e41"
   },
   "outputs": [
    {
     "data": {
      "text/plain": [
       "4.76"
      ]
     },
     "execution_count": 2,
     "metadata": {},
     "output_type": "execute_result"
    }
   ],
   "source": [
    "round(((1 + 0.1) / (1 + 0.05) - 1) * 100, 2)"
   ]
  },
  {
   "cell_type": "markdown",
   "metadata": {
    "id": "nwDXsk10g6L8"
   },
   "source": [
    "## 4. Taxa Básica de Juros\n",
    "\n",
    "A Taxa Meta Selic, também é conhecida como taxa básica de juros. É a taxa oficial de juros brasileira, definida pelo Conselho Monetário Nacional (CMN) no Comitê de Política Monetária (COPOM), que ocorre a cada 45 dias.\n",
    "\n",
    "![Escher - Drawing hands](Imagens/02_01_Escher_DrawingHands.jpg)\n",
    "\n",
    "Além disso, ela foi criada no Brasil em março de 1999 e é considerada a taxa que ajuda controlar a inflação. Quando a inflação cresce, o governo aumenta a taxa Meta Selic. Com isso, ele induz a redução do consumo (uma vez que vale mais a pena manter e aplicar seu dinheiro do que gastá-lo comprando bens de consumo). Com a redução de demanda, os preços tendem a cair e, portanto, a inflação tende a cair.\n",
    "\n",
    "![Ciclo de controle de inflação](Imagens/02_02_Ciclo_Inflação.JPG)\n",
    "\n",
    "\n",
    "[Histórico da meta de inflação](https://www.bcb.gov.br/controleinflacao/historicometas)\n",
    "\n",
    "\n",
    "Histórico de Meta Selic\n",
    "![Histórico de Meta Selic](Imagens/02_05_Meta_Selic.png)\n",
    "\n",
    "https://www.bcb.gov.br/controleinflacao/taxaselic\n",
    "\n",
    "\n",
    "Outro conceito relacionado à taxa básica de juros se refere ao risco das operações. A taxa básica de juros é considerada a **taxa livre de risco** (*risk free rate*), pois representa apenas a valorização mínima do dinheiro no tempo, desconsiderando *spreads* comerciais e de risco de crédito.\n",
    "\n",
    "## Exercícios\n",
    "\n",
    "1. [Lista 1 - Taxa nominal e efetiva] (link para o exercicio 1 no LMS)\n",
    "2. [Lista 2 - Política monetária] (link para o exercicio 1 no LMS)\n",
    "\n",
    "\n",
    "## Referências\n",
    "\n",
    "- NETO ASSAF, Alexandre. Matemática Financeira e suas Aplicações, Editora Atlas, 12ªedição, 2012.\n",
    "- Menezes, Marcio de. Matemática Financeira .IesdeBrasil, 2009.\n",
    "- [IBGE Explica: Inflação](https://www.ibge.gov.br/explica/inflacao.php)\n",
    "- [Banco Central: O que é inflação](https://www.bcb.gov.br/controleinflacao/oqueinflacao)\n",
    "- [Histórico Taxa de juros](https://www.bcb.gov.br/controleinflacao/historicotaxasjuros)\n"
   ]
  },
  {
   "cell_type": "code",
   "execution_count": null,
   "metadata": {
    "id": "d0Adgo53g6L9"
   },
   "outputs": [],
   "source": []
  },
  {
   "cell_type": "code",
   "execution_count": null,
   "metadata": {
    "id": "IWNdV6hWg6L-"
   },
   "outputs": [],
   "source": []
  }
 ],
 "metadata": {
  "colab": {
   "name": "Aula 02 - Inflação e Política Monetária.ipynb",
   "provenance": []
  },
  "kernelspec": {
   "display_name": "Python 3 (ipykernel)",
   "language": "python",
   "name": "python3"
  },
  "language_info": {
   "codemirror_mode": {
    "name": "ipython",
    "version": 3
   },
   "file_extension": ".py",
   "mimetype": "text/x-python",
   "name": "python",
   "nbconvert_exporter": "python",
   "pygments_lexer": "ipython3",
   "version": "3.9.6"
  }
 },
 "nbformat": 4,
 "nbformat_minor": 1
}
