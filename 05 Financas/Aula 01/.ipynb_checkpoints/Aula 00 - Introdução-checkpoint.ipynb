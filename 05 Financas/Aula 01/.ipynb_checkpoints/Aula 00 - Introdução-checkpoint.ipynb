{
 "cells": [
  {
   "cell_type": "markdown",
   "metadata": {},
   "source": [
    "# Finanças? 💰"
   ]
  },
  {
   "cell_type": "markdown",
   "metadata": {},
   "source": [
    "https://www.mentimeter.com/app\n",
    "\n",
    "https://www.menti.com/xcy1ja4qpb"
   ]
  },
  {
   "cell_type": "markdown",
   "metadata": {},
   "source": [
    "![Mapa mental de finanças](Imagens/00_01_Finanças_mapa.png)"
   ]
  },
  {
   "cell_type": "markdown",
   "metadata": {},
   "source": [
    "## 1. A professora 👩\n",
    "\n",
    "**Larissa dos Anjos Miyagi**\n",
    "\n",
    "- E-mail: larissamiyagi@gmail.com\n",
    "- Linkedin: https://www.linkedin.com/in/larissa-miyagi/\n",
    "\n",
    "Resumo acadêmico:\n",
    "\n",
    "- Bacharela em Matemática Aplicada e Computacional (IME-USP)\n",
    "- Pós-graduação em Produtos Financeiros e Gestão de Risco (FIA)\n",
    "- FRM candidate\n",
    "\n",
    "Resumo profissional:\n",
    "- Itaú Unibanco - Analista III de modelagem e estudos quantitativos\n",
    "- Itaú Unibanco - Analista III de validação de modelos de risco de mercado\n",
    "- Itaú Unibanco - Analista I de desenvolvimento de sistemas de risco de mercado\n",
    "- JP Morgan - Estagiária de risco em TI e segurança de informação"
   ]
  },
  {
   "cell_type": "markdown",
   "metadata": {},
   "source": [
    "## 2. Aulas e material 📚📖📓💻\n",
    "\n",
    "Materiais:\n",
    "- [Google Drive da turma](https://drive.google.com/drive/folders/10SQQANCpDOWAT_BI9J6dI011iYkvCOcB?usp=sharing)\n",
    "- [Canal anônimo](https://forms.gle/cEjFs94mYN7XKEqB9)\n",
    "- Aulas gravadas\n",
    "\n",
    "Informações adicionais:\n",
    "- Forms de feedback (metade e final do módulo)\n",
    "- Presença\n",
    "- Formato das aulas e atividades\n",
    "- Conceitos: Macroeconomia, Produtos, Risco, Gestão de portfólio, Modelos e Tópicos adicionais"
   ]
  },
  {
   "cell_type": "markdown",
   "metadata": {},
   "source": [
    "## 3. Avaliação 🧾🏆\n",
    "\n",
    "- 6 atividades com peso igual;\n",
    "- 1 para cada conceito;\n",
    "- Formatos diversos: prova, trabalho em grupo e projeto;\n",
    "- Entregar via Class;"
   ]
  },
  {
   "cell_type": "markdown",
   "metadata": {},
   "source": [
    "## 4. Conhecendo os alunos\n",
    "\n",
    "\n",
    "https://forms.gle/baoGDhTLcm4xrb9v7"
   ]
  },
  {
   "cell_type": "code",
   "execution_count": null,
   "metadata": {},
   "outputs": [],
   "source": []
  }
 ],
 "metadata": {
  "kernelspec": {
   "display_name": "Python 3 (ipykernel)",
   "language": "python",
   "name": "python3"
  },
  "language_info": {
   "codemirror_mode": {
    "name": "ipython",
    "version": 3
   },
   "file_extension": ".py",
   "mimetype": "text/x-python",
   "name": "python",
   "nbconvert_exporter": "python",
   "pygments_lexer": "ipython3",
   "version": "3.9.6"
  }
 },
 "nbformat": 4,
 "nbformat_minor": 4
}
