{
 "cells": [
  {
   "cell_type": "markdown",
   "metadata": {},
   "source": [
    "Imagine o caso em que duas pessoas decidem guardar dinheiro, A vai guardar 100 reais por mês durante 30 anos, B vai guardar 1000 reais por 10 anos."
   ]
  },
  {
   "cell_type": "code",
   "execution_count": 1,
   "metadata": {
    "ExecuteTime": {
     "end_time": "2021-11-25T00:35:17.604568Z",
     "start_time": "2021-11-25T00:35:17.581587Z"
    }
   },
   "outputs": [
    {
     "data": {
      "text/plain": [
       "36000"
      ]
     },
     "execution_count": 1,
     "metadata": {},
     "output_type": "execute_result"
    }
   ],
   "source": [
    "C=100\n",
    "anos=30\n",
    "\n",
    "C*anos*12"
   ]
  },
  {
   "cell_type": "code",
   "execution_count": 2,
   "metadata": {
    "ExecuteTime": {
     "end_time": "2021-11-25T00:35:45.279443Z",
     "start_time": "2021-11-25T00:35:45.267444Z"
    }
   },
   "outputs": [
    {
     "data": {
      "text/plain": [
       "120000"
      ]
     },
     "execution_count": 2,
     "metadata": {},
     "output_type": "execute_result"
    }
   ],
   "source": [
    "C=1000\n",
    "anos=10\n",
    "\n",
    "C*anos*12"
   ]
  },
  {
   "cell_type": "code",
   "execution_count": null,
   "metadata": {},
   "outputs": [],
   "source": [
    "Fica claro que B consegue juntar mais dinheiro, mas e se ambos investissem em um produto que paga 10% a.a.?"
   ]
  },
  {
   "cell_type": "code",
   "execution_count": 5,
   "metadata": {
    "ExecuteTime": {
     "end_time": "2021-11-25T00:37:57.880035Z",
     "start_time": "2021-11-25T00:37:57.868018Z"
    }
   },
   "outputs": [],
   "source": [
    "taxa_aa = 0.1\n",
    "# vamos transformar em taxa mensal"
   ]
  },
  {
   "cell_type": "markdown",
   "metadata": {},
   "source": [
    "$$ i_{desejada} = [(1 + i_{original})^{ \\frac{n_{desejado}}{n_{original}} } - 1] \\cdot 100\\%$$"
   ]
  },
  {
   "cell_type": "code",
   "execution_count": 7,
   "metadata": {
    "ExecuteTime": {
     "end_time": "2021-11-25T00:38:11.549246Z",
     "start_time": "2021-11-25T00:38:11.542247Z"
    }
   },
   "outputs": [
    {
     "data": {
      "text/plain": [
       "0.007974140428903764"
      ]
     },
     "execution_count": 7,
     "metadata": {},
     "output_type": "execute_result"
    }
   ],
   "source": [
    "taxa_am = (1 + taxa_aa)**(1/12) - 1\n",
    "taxa_am"
   ]
  },
  {
   "cell_type": "code",
   "execution_count": 29,
   "metadata": {
    "ExecuteTime": {
     "end_time": "2021-11-25T00:48:31.598383Z",
     "start_time": "2021-11-25T00:48:31.581220Z"
    }
   },
   "outputs": [],
   "source": [
    "# vamos fazer uma função pra calcular o retorno total destes investimentos mensais\n",
    "\n",
    "def calcula_juros_periodo(C, anos, taxa):\n",
    "    valor_acum = C\n",
    "    \n",
    "    for ano in range(anos):\n",
    "        for mes in range(12):\n",
    "            valor_acum = valor_acum * (1 + taxa) + C\n",
    "#             print(valor_acum)\n",
    "    print(f\"Valor investido ao mês {C}, taxa mês: {taxa}, período: {anos}, Valor Acumulado: {round(valor_acum, 2)}\")\n",
    "    "
   ]
  },
  {
   "cell_type": "code",
   "execution_count": 33,
   "metadata": {
    "ExecuteTime": {
     "end_time": "2021-11-25T00:49:53.692646Z",
     "start_time": "2021-11-25T00:49:53.685643Z"
    }
   },
   "outputs": [
    {
     "name": "stdout",
     "output_type": "stream",
     "text": [
      "Valor investido ao mês 100, taxa mês: 0.008, período: 30, Valor Acumulado: 209402.45\n"
     ]
    }
   ],
   "source": [
    "# Aplicando para A\n",
    "calcula_juros_periodo(100, 30, 0.008)"
   ]
  },
  {
   "cell_type": "code",
   "execution_count": 32,
   "metadata": {
    "ExecuteTime": {
     "end_time": "2021-11-25T00:49:03.098807Z",
     "start_time": "2021-11-25T00:49:03.085874Z"
    }
   },
   "outputs": [
    {
     "name": "stdout",
     "output_type": "stream",
     "text": [
      "Valor investido ao mês 1000, taxa mês: 0.007974140428903764, período: 10, Valor Acumulado: 202457.6\n"
     ]
    }
   ],
   "source": [
    "# Aplicando para B\n",
    "calcula_juros_periodo(1000, 10, 0.008)"
   ]
  },
  {
   "cell_type": "code",
   "execution_count": 34,
   "metadata": {
    "ExecuteTime": {
     "end_time": "2021-11-25T00:50:00.445137Z",
     "start_time": "2021-11-25T00:50:00.436138Z"
    }
   },
   "outputs": [
    {
     "name": "stdout",
     "output_type": "stream",
     "text": [
      "Valor investido ao mês 100, taxa mês: 0.009, período: 30, Valor Acumulado: 271031.38\n"
     ]
    }
   ],
   "source": [
    "# Repare que o valor acumulado é muito sensível à taxa\n",
    "calcula_juros_periodo(100, 30, 0.009)"
   ]
  }
 ],
 "metadata": {
  "kernelspec": {
   "display_name": "Python 3",
   "language": "python",
   "name": "python3"
  },
  "language_info": {
   "codemirror_mode": {
    "name": "ipython",
    "version": 3
   },
   "file_extension": ".py",
   "mimetype": "text/x-python",
   "name": "python",
   "nbconvert_exporter": "python",
   "pygments_lexer": "ipython3",
   "version": "3.8.3"
  }
 },
 "nbformat": 4,
 "nbformat_minor": 4
}
