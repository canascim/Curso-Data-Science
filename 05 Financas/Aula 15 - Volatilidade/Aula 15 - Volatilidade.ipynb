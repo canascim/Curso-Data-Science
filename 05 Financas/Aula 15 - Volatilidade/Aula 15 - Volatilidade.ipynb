{
 "cells": [
  {
   "cell_type": "markdown",
   "metadata": {},
   "source": [
    "### Volatilidade histórica\n",
    "A Volatilidade histórica simples é uma forma fácil de se obter uma estimativa de Volatilidade, utiliza-se do desvio padrão\n",
    "de retornos de períodos determinados. \n",
    "Por exemplo, pode-se utilizar retornos diários ou mensais para se obter a Volatilidade anual.\n",
    "\n",
    "Dada uma lista com os $n$ preços históricos de um ativo, $X$, vamos chamar de $x_i$ o preço de cada dia.\n",
    "\n",
    "Calculamos a série de log retornos:\n",
    "\n",
    "$$u_i = ln(\\frac{x_i}{x_{i-1}})$$\n",
    "\n",
    "Agora com a série $U$ de log retornos, vamos calcular seu desvio padrão:\n",
    "\n",
    "$$\\sigma^{2} = \\frac{1}{n-1} \\sum_{i=1}^{n} (u_i - \\bar{u})^2$$\n",
    "\n",
    "Sendo $\\sigma$ a Volatilidade diária do nosso ativo. Podemos multiplicar por $ \\sqrt{252}$ para obter a Volatilidade anual."
   ]
  },
  {
   "cell_type": "code",
   "execution_count": 103,
   "metadata": {
    "ExecuteTime": {
     "end_time": "2022-01-16T19:26:09.384843Z",
     "start_time": "2022-01-16T19:26:09.369842Z"
    }
   },
   "outputs": [],
   "source": [
    "pd.options.display.float_format = '{:20,.10f}'.format"
   ]
  },
  {
   "cell_type": "code",
   "execution_count": 57,
   "metadata": {
    "ExecuteTime": {
     "end_time": "2022-01-16T19:04:53.702207Z",
     "start_time": "2022-01-16T19:04:53.473456Z"
    }
   },
   "outputs": [],
   "source": [
    "#primeiro vamos coletar alguns dados\n",
    "\n",
    "import numpy as np\n",
    "import pandas as pd\n",
    "import matplotlib.pyplot as plt\n",
    "\n",
    "import yfinance as yf\n",
    "\n",
    "stocks = yf.Ticker(\"MGLU3.SA\")\n",
    "hist = stocks.history(period=\"12mo\")"
   ]
  },
  {
   "cell_type": "code",
   "execution_count": 58,
   "metadata": {
    "ExecuteTime": {
     "end_time": "2022-01-16T19:04:54.396214Z",
     "start_time": "2022-01-16T19:04:54.382213Z"
    }
   },
   "outputs": [
    {
     "data": {
      "text/html": [
       "<div>\n",
       "<style scoped>\n",
       "    .dataframe tbody tr th:only-of-type {\n",
       "        vertical-align: middle;\n",
       "    }\n",
       "\n",
       "    .dataframe tbody tr th {\n",
       "        vertical-align: top;\n",
       "    }\n",
       "\n",
       "    .dataframe thead th {\n",
       "        text-align: right;\n",
       "    }\n",
       "</style>\n",
       "<table border=\"1\" class=\"dataframe\">\n",
       "  <thead>\n",
       "    <tr style=\"text-align: right;\">\n",
       "      <th></th>\n",
       "      <th>Open</th>\n",
       "      <th>High</th>\n",
       "      <th>Low</th>\n",
       "      <th>Close</th>\n",
       "      <th>Volume</th>\n",
       "      <th>Dividends</th>\n",
       "      <th>Stock Splits</th>\n",
       "    </tr>\n",
       "    <tr>\n",
       "      <th>Date</th>\n",
       "      <th></th>\n",
       "      <th></th>\n",
       "      <th></th>\n",
       "      <th></th>\n",
       "      <th></th>\n",
       "      <th></th>\n",
       "      <th></th>\n",
       "    </tr>\n",
       "  </thead>\n",
       "  <tbody>\n",
       "    <tr>\n",
       "      <th>2021-01-14</th>\n",
       "      <td>24.132499</td>\n",
       "      <td>24.142492</td>\n",
       "      <td>23.482970</td>\n",
       "      <td>23.712803</td>\n",
       "      <td>25548400</td>\n",
       "      <td>0.0</td>\n",
       "      <td>0</td>\n",
       "    </tr>\n",
       "    <tr>\n",
       "      <th>2021-01-15</th>\n",
       "      <td>23.712804</td>\n",
       "      <td>24.092529</td>\n",
       "      <td>23.333080</td>\n",
       "      <td>23.942636</td>\n",
       "      <td>32761100</td>\n",
       "      <td>0.0</td>\n",
       "      <td>0</td>\n",
       "    </tr>\n",
       "    <tr>\n",
       "      <th>2021-01-18</th>\n",
       "      <td>24.032572</td>\n",
       "      <td>24.632137</td>\n",
       "      <td>23.892674</td>\n",
       "      <td>24.432283</td>\n",
       "      <td>24257200</td>\n",
       "      <td>0.0</td>\n",
       "      <td>0</td>\n",
       "    </tr>\n",
       "    <tr>\n",
       "      <th>2021-01-19</th>\n",
       "      <td>24.522217</td>\n",
       "      <td>24.931920</td>\n",
       "      <td>23.802738</td>\n",
       "      <td>24.062550</td>\n",
       "      <td>21025600</td>\n",
       "      <td>0.0</td>\n",
       "      <td>0</td>\n",
       "    </tr>\n",
       "    <tr>\n",
       "      <th>2021-01-20</th>\n",
       "      <td>24.162478</td>\n",
       "      <td>25.511500</td>\n",
       "      <td>24.102522</td>\n",
       "      <td>25.401579</td>\n",
       "      <td>48089300</td>\n",
       "      <td>0.0</td>\n",
       "      <td>0</td>\n",
       "    </tr>\n",
       "    <tr>\n",
       "      <th>...</th>\n",
       "      <td>...</td>\n",
       "      <td>...</td>\n",
       "      <td>...</td>\n",
       "      <td>...</td>\n",
       "      <td>...</td>\n",
       "      <td>...</td>\n",
       "      <td>...</td>\n",
       "    </tr>\n",
       "    <tr>\n",
       "      <th>2022-01-10</th>\n",
       "      <td>6.140000</td>\n",
       "      <td>6.150000</td>\n",
       "      <td>5.740000</td>\n",
       "      <td>5.740000</td>\n",
       "      <td>114384500</td>\n",
       "      <td>0.0</td>\n",
       "      <td>0</td>\n",
       "    </tr>\n",
       "    <tr>\n",
       "      <th>2022-01-11</th>\n",
       "      <td>5.750000</td>\n",
       "      <td>6.010000</td>\n",
       "      <td>5.720000</td>\n",
       "      <td>5.870000</td>\n",
       "      <td>142963700</td>\n",
       "      <td>0.0</td>\n",
       "      <td>0</td>\n",
       "    </tr>\n",
       "    <tr>\n",
       "      <th>2022-01-12</th>\n",
       "      <td>5.900000</td>\n",
       "      <td>6.370000</td>\n",
       "      <td>5.780000</td>\n",
       "      <td>6.310000</td>\n",
       "      <td>127342800</td>\n",
       "      <td>0.0</td>\n",
       "      <td>0</td>\n",
       "    </tr>\n",
       "    <tr>\n",
       "      <th>2022-01-13</th>\n",
       "      <td>6.250000</td>\n",
       "      <td>6.280000</td>\n",
       "      <td>5.900000</td>\n",
       "      <td>6.090000</td>\n",
       "      <td>129178200</td>\n",
       "      <td>0.0</td>\n",
       "      <td>0</td>\n",
       "    </tr>\n",
       "    <tr>\n",
       "      <th>2022-01-14</th>\n",
       "      <td>6.110000</td>\n",
       "      <td>6.420000</td>\n",
       "      <td>6.080000</td>\n",
       "      <td>6.330000</td>\n",
       "      <td>104045500</td>\n",
       "      <td>0.0</td>\n",
       "      <td>0</td>\n",
       "    </tr>\n",
       "  </tbody>\n",
       "</table>\n",
       "<p>249 rows × 7 columns</p>\n",
       "</div>"
      ],
      "text/plain": [
       "                 Open       High        Low      Close     Volume  Dividends  \\\n",
       "Date                                                                           \n",
       "2021-01-14  24.132499  24.142492  23.482970  23.712803   25548400        0.0   \n",
       "2021-01-15  23.712804  24.092529  23.333080  23.942636   32761100        0.0   \n",
       "2021-01-18  24.032572  24.632137  23.892674  24.432283   24257200        0.0   \n",
       "2021-01-19  24.522217  24.931920  23.802738  24.062550   21025600        0.0   \n",
       "2021-01-20  24.162478  25.511500  24.102522  25.401579   48089300        0.0   \n",
       "...               ...        ...        ...        ...        ...        ...   \n",
       "2022-01-10   6.140000   6.150000   5.740000   5.740000  114384500        0.0   \n",
       "2022-01-11   5.750000   6.010000   5.720000   5.870000  142963700        0.0   \n",
       "2022-01-12   5.900000   6.370000   5.780000   6.310000  127342800        0.0   \n",
       "2022-01-13   6.250000   6.280000   5.900000   6.090000  129178200        0.0   \n",
       "2022-01-14   6.110000   6.420000   6.080000   6.330000  104045500        0.0   \n",
       "\n",
       "            Stock Splits  \n",
       "Date                      \n",
       "2021-01-14             0  \n",
       "2021-01-15             0  \n",
       "2021-01-18             0  \n",
       "2021-01-19             0  \n",
       "2021-01-20             0  \n",
       "...                  ...  \n",
       "2022-01-10             0  \n",
       "2022-01-11             0  \n",
       "2022-01-12             0  \n",
       "2022-01-13             0  \n",
       "2022-01-14             0  \n",
       "\n",
       "[249 rows x 7 columns]"
      ]
     },
     "execution_count": 58,
     "metadata": {},
     "output_type": "execute_result"
    }
   ],
   "source": [
    "hist"
   ]
  },
  {
   "cell_type": "code",
   "execution_count": 259,
   "metadata": {
    "ExecuteTime": {
     "end_time": "2022-01-16T23:09:36.825534Z",
     "start_time": "2022-01-16T23:09:36.812546Z"
    }
   },
   "outputs": [
    {
     "data": {
      "text/html": [
       "<div>\n",
       "<style scoped>\n",
       "    .dataframe tbody tr th:only-of-type {\n",
       "        vertical-align: middle;\n",
       "    }\n",
       "\n",
       "    .dataframe tbody tr th {\n",
       "        vertical-align: top;\n",
       "    }\n",
       "\n",
       "    .dataframe thead th {\n",
       "        text-align: right;\n",
       "    }\n",
       "</style>\n",
       "<table border=\"1\" class=\"dataframe\">\n",
       "  <thead>\n",
       "    <tr style=\"text-align: right;\">\n",
       "      <th></th>\n",
       "      <th>Date</th>\n",
       "      <th>Preco</th>\n",
       "    </tr>\n",
       "  </thead>\n",
       "  <tbody>\n",
       "    <tr>\n",
       "      <th>0</th>\n",
       "      <td>2021-01-14</td>\n",
       "      <td>23.7128028870</td>\n",
       "    </tr>\n",
       "    <tr>\n",
       "      <th>1</th>\n",
       "      <td>2021-01-15</td>\n",
       "      <td>23.9426364899</td>\n",
       "    </tr>\n",
       "    <tr>\n",
       "      <th>2</th>\n",
       "      <td>2021-01-18</td>\n",
       "      <td>24.4322834015</td>\n",
       "    </tr>\n",
       "    <tr>\n",
       "      <th>3</th>\n",
       "      <td>2021-01-19</td>\n",
       "      <td>24.0625495911</td>\n",
       "    </tr>\n",
       "    <tr>\n",
       "      <th>4</th>\n",
       "      <td>2021-01-20</td>\n",
       "      <td>25.4015789032</td>\n",
       "    </tr>\n",
       "    <tr>\n",
       "      <th>...</th>\n",
       "      <td>...</td>\n",
       "      <td>...</td>\n",
       "    </tr>\n",
       "    <tr>\n",
       "      <th>244</th>\n",
       "      <td>2022-01-10</td>\n",
       "      <td>5.7399997711</td>\n",
       "    </tr>\n",
       "    <tr>\n",
       "      <th>245</th>\n",
       "      <td>2022-01-11</td>\n",
       "      <td>5.8699998856</td>\n",
       "    </tr>\n",
       "    <tr>\n",
       "      <th>246</th>\n",
       "      <td>2022-01-12</td>\n",
       "      <td>6.3099999428</td>\n",
       "    </tr>\n",
       "    <tr>\n",
       "      <th>247</th>\n",
       "      <td>2022-01-13</td>\n",
       "      <td>6.0900001526</td>\n",
       "    </tr>\n",
       "    <tr>\n",
       "      <th>248</th>\n",
       "      <td>2022-01-14</td>\n",
       "      <td>6.3299999237</td>\n",
       "    </tr>\n",
       "  </tbody>\n",
       "</table>\n",
       "<p>249 rows × 2 columns</p>\n",
       "</div>"
      ],
      "text/plain": [
       "          Date                Preco\n",
       "0   2021-01-14        23.7128028870\n",
       "1   2021-01-15        23.9426364899\n",
       "2   2021-01-18        24.4322834015\n",
       "3   2021-01-19        24.0625495911\n",
       "4   2021-01-20        25.4015789032\n",
       "..         ...                  ...\n",
       "244 2022-01-10         5.7399997711\n",
       "245 2022-01-11         5.8699998856\n",
       "246 2022-01-12         6.3099999428\n",
       "247 2022-01-13         6.0900001526\n",
       "248 2022-01-14         6.3299999237\n",
       "\n",
       "[249 rows x 2 columns]"
      ]
     },
     "execution_count": 259,
     "metadata": {},
     "output_type": "execute_result"
    }
   ],
   "source": [
    "#preparar\n",
    "df = hist[['Close']].copy()\n",
    "df.columns = ['Preco']\n",
    "df.reset_index(inplace=True)\n",
    "df['Date'] = pd.to_datetime( df['Date'])\n",
    "df"
   ]
  },
  {
   "cell_type": "code",
   "execution_count": 260,
   "metadata": {
    "ExecuteTime": {
     "end_time": "2022-01-16T23:09:40.022242Z",
     "start_time": "2022-01-16T23:09:39.998251Z"
    }
   },
   "outputs": [
    {
     "data": {
      "text/html": [
       "<div>\n",
       "<style scoped>\n",
       "    .dataframe tbody tr th:only-of-type {\n",
       "        vertical-align: middle;\n",
       "    }\n",
       "\n",
       "    .dataframe tbody tr th {\n",
       "        vertical-align: top;\n",
       "    }\n",
       "\n",
       "    .dataframe thead th {\n",
       "        text-align: right;\n",
       "    }\n",
       "</style>\n",
       "<table border=\"1\" class=\"dataframe\">\n",
       "  <thead>\n",
       "    <tr style=\"text-align: right;\">\n",
       "      <th></th>\n",
       "      <th>Date</th>\n",
       "      <th>Preco</th>\n",
       "      <th>PD1</th>\n",
       "      <th>LgRet</th>\n",
       "    </tr>\n",
       "  </thead>\n",
       "  <tbody>\n",
       "    <tr>\n",
       "      <th>0</th>\n",
       "      <td>2021-01-14</td>\n",
       "      <td>23.7128028870</td>\n",
       "      <td>NaN</td>\n",
       "      <td>NaN</td>\n",
       "    </tr>\n",
       "    <tr>\n",
       "      <th>1</th>\n",
       "      <td>2021-01-15</td>\n",
       "      <td>23.9426364899</td>\n",
       "      <td>23.7128028870</td>\n",
       "      <td>0.0096457147</td>\n",
       "    </tr>\n",
       "    <tr>\n",
       "      <th>2</th>\n",
       "      <td>2021-01-18</td>\n",
       "      <td>24.4322834015</td>\n",
       "      <td>23.9426364899</td>\n",
       "      <td>0.0202445249</td>\n",
       "    </tr>\n",
       "    <tr>\n",
       "      <th>3</th>\n",
       "      <td>2021-01-19</td>\n",
       "      <td>24.0625495911</td>\n",
       "      <td>24.4322834015</td>\n",
       "      <td>-0.0152486750</td>\n",
       "    </tr>\n",
       "    <tr>\n",
       "      <th>4</th>\n",
       "      <td>2021-01-20</td>\n",
       "      <td>25.4015789032</td>\n",
       "      <td>24.0625495911</td>\n",
       "      <td>0.0541546607</td>\n",
       "    </tr>\n",
       "    <tr>\n",
       "      <th>...</th>\n",
       "      <td>...</td>\n",
       "      <td>...</td>\n",
       "      <td>...</td>\n",
       "      <td>...</td>\n",
       "    </tr>\n",
       "    <tr>\n",
       "      <th>244</th>\n",
       "      <td>2022-01-10</td>\n",
       "      <td>5.7399997711</td>\n",
       "      <td>6.2199997902</td>\n",
       "      <td>-0.0803107026</td>\n",
       "    </tr>\n",
       "    <tr>\n",
       "      <th>245</th>\n",
       "      <td>2022-01-11</td>\n",
       "      <td>5.8699998856</td>\n",
       "      <td>5.7399997711</td>\n",
       "      <td>0.0223954439</td>\n",
       "    </tr>\n",
       "    <tr>\n",
       "      <th>246</th>\n",
       "      <td>2022-01-12</td>\n",
       "      <td>6.3099999428</td>\n",
       "      <td>5.8699998856</td>\n",
       "      <td>0.0722810531</td>\n",
       "    </tr>\n",
       "    <tr>\n",
       "      <th>247</th>\n",
       "      <td>2022-01-13</td>\n",
       "      <td>6.0900001526</td>\n",
       "      <td>6.3099999428</td>\n",
       "      <td>-0.0354875607</td>\n",
       "    </tr>\n",
       "    <tr>\n",
       "      <th>248</th>\n",
       "      <td>2022-01-14</td>\n",
       "      <td>6.3299999237</td>\n",
       "      <td>6.0900001526</td>\n",
       "      <td>0.0386521173</td>\n",
       "    </tr>\n",
       "  </tbody>\n",
       "</table>\n",
       "<p>249 rows × 4 columns</p>\n",
       "</div>"
      ],
      "text/plain": [
       "          Date                Preco                  PD1                LgRet\n",
       "0   2021-01-14        23.7128028870                  NaN                  NaN\n",
       "1   2021-01-15        23.9426364899        23.7128028870         0.0096457147\n",
       "2   2021-01-18        24.4322834015        23.9426364899         0.0202445249\n",
       "3   2021-01-19        24.0625495911        24.4322834015        -0.0152486750\n",
       "4   2021-01-20        25.4015789032        24.0625495911         0.0541546607\n",
       "..         ...                  ...                  ...                  ...\n",
       "244 2022-01-10         5.7399997711         6.2199997902        -0.0803107026\n",
       "245 2022-01-11         5.8699998856         5.7399997711         0.0223954439\n",
       "246 2022-01-12         6.3099999428         5.8699998856         0.0722810531\n",
       "247 2022-01-13         6.0900001526         6.3099999428        -0.0354875607\n",
       "248 2022-01-14         6.3299999237         6.0900001526         0.0386521173\n",
       "\n",
       "[249 rows x 4 columns]"
      ]
     },
     "execution_count": 260,
     "metadata": {},
     "output_type": "execute_result"
    }
   ],
   "source": [
    "df['PD1'] = df['Preco'].shift(1)\n",
    "df['LgRet'] = np.log(df['Preco']/df['PD1'])\n",
    "df"
   ]
  },
  {
   "cell_type": "code",
   "execution_count": 287,
   "metadata": {
    "ExecuteTime": {
     "end_time": "2022-01-16T23:32:21.137811Z",
     "start_time": "2022-01-16T23:32:21.123221Z"
    }
   },
   "outputs": [
    {
     "data": {
      "text/plain": [
       "0.001375623255153521"
      ]
     },
     "execution_count": 287,
     "metadata": {},
     "output_type": "execute_result"
    }
   ],
   "source": [
    "variancia = df['LgRet'].var()\n",
    "variancia"
   ]
  },
  {
   "cell_type": "code",
   "execution_count": 288,
   "metadata": {
    "ExecuteTime": {
     "end_time": "2022-01-16T23:32:22.039227Z",
     "start_time": "2022-01-16T23:32:22.020975Z"
    }
   },
   "outputs": [
    {
     "data": {
      "text/plain": [
       "0.037089395454139196"
      ]
     },
     "execution_count": 288,
     "metadata": {},
     "output_type": "execute_result"
    }
   ],
   "source": [
    "vol1 = np.sqrt(variancia)\n",
    "vol1"
   ]
  },
  {
   "cell_type": "code",
   "execution_count": 289,
   "metadata": {
    "ExecuteTime": {
     "end_time": "2022-01-16T23:32:23.079398Z",
     "start_time": "2022-01-16T23:32:23.067396Z"
    }
   },
   "outputs": [
    {
     "data": {
      "text/plain": [
       "0.5887758998962911"
      ]
     },
     "execution_count": 289,
     "metadata": {},
     "output_type": "execute_result"
    }
   ],
   "source": [
    "vol1 * np.sqrt(252)"
   ]
  },
  {
   "cell_type": "markdown",
   "metadata": {},
   "source": [
    "#### Algumas simplificações:\n",
    "\n",
    "É possível simplificar um pouco o cálculo se adotarmos algumas premissas:\n",
    "\n",
    "- A média de retornos é igual a 0\n",
    "- Usar $n$ ao invés de $n-1$\n",
    "\n",
    "Com estas alterações, nossa fórmula se torna:\n",
    "\n",
    "$$\\sigma^{2} = \\frac{1}{n} \\sum_{i=1}^{n} u_i^2$$\n",
    "\n",
    "Repare que é basicamente uma média simples do quadrado dos retornos."
   ]
  },
  {
   "cell_type": "code",
   "execution_count": 264,
   "metadata": {
    "ExecuteTime": {
     "end_time": "2022-01-16T23:09:59.641333Z",
     "start_time": "2022-01-16T23:09:59.623334Z"
    }
   },
   "outputs": [
    {
     "data": {
      "text/plain": [
       "0.03732051357246292"
      ]
     },
     "execution_count": 264,
     "metadata": {},
     "output_type": "execute_result"
    }
   ],
   "source": [
    "vol2 = np.sqrt((df['LgRet']**2).sum()/249)\n",
    "vol2"
   ]
  },
  {
   "cell_type": "code",
   "execution_count": 265,
   "metadata": {
    "ExecuteTime": {
     "end_time": "2022-01-16T23:10:00.728579Z",
     "start_time": "2022-01-16T23:10:00.718599Z"
    }
   },
   "outputs": [
    {
     "data": {
      "text/plain": [
       "0.5924447862836857"
      ]
     },
     "execution_count": 265,
     "metadata": {},
     "output_type": "execute_result"
    }
   ],
   "source": [
    "vol2 * np.sqrt(252)"
   ]
  },
  {
   "cell_type": "code",
   "execution_count": 266,
   "metadata": {
    "ExecuteTime": {
     "end_time": "2022-01-16T23:10:01.552160Z",
     "start_time": "2022-01-16T23:10:01.544161Z"
    },
    "scrolled": true
   },
   "outputs": [
    {
     "data": {
      "text/plain": [
       "0.36688863873945987"
      ]
     },
     "execution_count": 266,
     "metadata": {},
     "output_type": "execute_result"
    }
   ],
   "source": [
    "(vol2 * np.sqrt(252) - np.sqrt(variancia) * np.sqrt(252))*100"
   ]
  },
  {
   "cell_type": "markdown",
   "metadata": {},
   "source": [
    "#### Críticas ao modelo Simples\n",
    "\n",
    "A crítica óbvia, claro, é que o modelo é simples, ele pressupõe que movimentos acontecidos no passado em momentos\n",
    "diferentes tem mesmo peso na determinação do futuro. \n",
    "\n",
    "Por exemplo, se um ativo teve um dia em que seu retorno foi de 9%, \n",
    "não haverá diferença caso este dia tenha ocorrido ontem ou há 3 meses.\n",
    "\n",
    "Vamos tentar evoluir nosso modelo de forma a tentar incorporar algumas soluções.\n",
    "\n",
    "\n",
    "\n",
    "### 2.2 Média móvel exponencial ponderada EWMA\n",
    "\n",
    "Para resolver a questão de que dados de dias mais antigos deveriam ter menor influência na Volatilidade, define-se um modelo\n",
    "que pondera os retornos usando pesos com decaimento exponencial. Ou seja, o dia mais recente tem um peso maior no cálculo e \n",
    "os dias anteriores terão pesos menores.\n",
    "\n",
    "Esse modelo é chamado Exponentially Weighted Moving Average (EWMA) e para controlar estes pesos é introduzido o parâmetro $\\lambda$ que é chamado de parâmetro de suavização (smoothing paramenter). \n",
    "\n",
    "![Modelos de Volatilidade](E:\\gusta\\Documents\\GitHub\\financas\\Imagens\\14_02_EWMA.png)\n",
    "\n",
    "Repare na figura que cada retorno utiliza pesos de valores diferentes, determinados por $\\lambda$.\n",
    "\n",
    "De forma que ao considerar todos os pesos teremos:\n",
    "\n",
    "$$\\sigma^{2} = \\sum_{i=0}^{n} u_i^2 (1-\\lambda)\\lambda^i$$\n",
    "\n",
    "\n",
    "\n",
    "é importante notar a ordem dos índices, que deve ser invertida, o índice 0 será o período mais recente, 1 o do período anterior e assim sucessivamente.\n",
    "\n",
    "Uma vantagem da EWMA é que ela pode ser calculada de forma recursiva:\n",
    "\n",
    "$$\\sigma_i^{2} = (1-\\lambda)u_{i-1}^2 + \\lambda \\sigma_{i-1}^2$$\n",
    "\n",
    "O valor de $\\sigma^2$ no tempo $i$ é definido pelo valor de $\\sigma^2$ no período anterior + o retorno do período anterior, ponderados por $\\lambda$.\n"
   ]
  },
  {
   "cell_type": "code",
   "execution_count": 291,
   "metadata": {
    "ExecuteTime": {
     "end_time": "2022-01-16T23:34:21.961750Z",
     "start_time": "2022-01-16T23:34:21.939766Z"
    }
   },
   "outputs": [
    {
     "data": {
      "text/html": [
       "<div>\n",
       "<style scoped>\n",
       "    .dataframe tbody tr th:only-of-type {\n",
       "        vertical-align: middle;\n",
       "    }\n",
       "\n",
       "    .dataframe tbody tr th {\n",
       "        vertical-align: top;\n",
       "    }\n",
       "\n",
       "    .dataframe thead th {\n",
       "        text-align: right;\n",
       "    }\n",
       "</style>\n",
       "<table border=\"1\" class=\"dataframe\">\n",
       "  <thead>\n",
       "    <tr style=\"text-align: right;\">\n",
       "      <th></th>\n",
       "      <th>Date</th>\n",
       "      <th>Preco</th>\n",
       "      <th>PD1</th>\n",
       "      <th>LgRet</th>\n",
       "      <th>u2</th>\n",
       "      <th>delta</th>\n",
       "      <th>peso</th>\n",
       "      <th>pre_vol</th>\n",
       "    </tr>\n",
       "  </thead>\n",
       "  <tbody>\n",
       "    <tr>\n",
       "      <th>0</th>\n",
       "      <td>2021-01-14</td>\n",
       "      <td>23.7128028870</td>\n",
       "      <td>NaN</td>\n",
       "      <td>NaN</td>\n",
       "      <td>NaN</td>\n",
       "      <td>248</td>\n",
       "      <td>0.0000000000</td>\n",
       "      <td>NaN</td>\n",
       "    </tr>\n",
       "    <tr>\n",
       "      <th>1</th>\n",
       "      <td>2021-01-15</td>\n",
       "      <td>23.9426364899</td>\n",
       "      <td>23.7128028870</td>\n",
       "      <td>0.0096457147</td>\n",
       "      <td>0.0000930398</td>\n",
       "      <td>247</td>\n",
       "      <td>0.0000000000</td>\n",
       "      <td>0.0000000000</td>\n",
       "    </tr>\n",
       "    <tr>\n",
       "      <th>2</th>\n",
       "      <td>2021-01-18</td>\n",
       "      <td>24.4322834015</td>\n",
       "      <td>23.9426364899</td>\n",
       "      <td>0.0202445249</td>\n",
       "      <td>0.0004098408</td>\n",
       "      <td>246</td>\n",
       "      <td>0.0000000000</td>\n",
       "      <td>0.0000000000</td>\n",
       "    </tr>\n",
       "    <tr>\n",
       "      <th>3</th>\n",
       "      <td>2021-01-19</td>\n",
       "      <td>24.0625495911</td>\n",
       "      <td>24.4322834015</td>\n",
       "      <td>-0.0152486750</td>\n",
       "      <td>0.0002325221</td>\n",
       "      <td>245</td>\n",
       "      <td>0.0000000000</td>\n",
       "      <td>0.0000000000</td>\n",
       "    </tr>\n",
       "    <tr>\n",
       "      <th>4</th>\n",
       "      <td>2021-01-20</td>\n",
       "      <td>25.4015789032</td>\n",
       "      <td>24.0625495911</td>\n",
       "      <td>0.0541546607</td>\n",
       "      <td>0.0029327273</td>\n",
       "      <td>244</td>\n",
       "      <td>0.0000000000</td>\n",
       "      <td>0.0000000000</td>\n",
       "    </tr>\n",
       "    <tr>\n",
       "      <th>...</th>\n",
       "      <td>...</td>\n",
       "      <td>...</td>\n",
       "      <td>...</td>\n",
       "      <td>...</td>\n",
       "      <td>...</td>\n",
       "      <td>...</td>\n",
       "      <td>...</td>\n",
       "      <td>...</td>\n",
       "    </tr>\n",
       "    <tr>\n",
       "      <th>244</th>\n",
       "      <td>2022-01-10</td>\n",
       "      <td>5.7399997711</td>\n",
       "      <td>6.2199997902</td>\n",
       "      <td>-0.0803107026</td>\n",
       "      <td>0.0064498089</td>\n",
       "      <td>4</td>\n",
       "      <td>0.0468449376</td>\n",
       "      <td>0.0003021409</td>\n",
       "    </tr>\n",
       "    <tr>\n",
       "      <th>245</th>\n",
       "      <td>2022-01-11</td>\n",
       "      <td>5.8699998856</td>\n",
       "      <td>5.7399997711</td>\n",
       "      <td>0.0223954439</td>\n",
       "      <td>0.0005015559</td>\n",
       "      <td>3</td>\n",
       "      <td>0.0498350400</td>\n",
       "      <td>0.0000249951</td>\n",
       "    </tr>\n",
       "    <tr>\n",
       "      <th>246</th>\n",
       "      <td>2022-01-12</td>\n",
       "      <td>6.3099999428</td>\n",
       "      <td>5.8699998856</td>\n",
       "      <td>0.0722810531</td>\n",
       "      <td>0.0052245506</td>\n",
       "      <td>2</td>\n",
       "      <td>0.0530160000</td>\n",
       "      <td>0.0002769848</td>\n",
       "    </tr>\n",
       "    <tr>\n",
       "      <th>247</th>\n",
       "      <td>2022-01-13</td>\n",
       "      <td>6.0900001526</td>\n",
       "      <td>6.3099999428</td>\n",
       "      <td>-0.0354875607</td>\n",
       "      <td>0.0012593670</td>\n",
       "      <td>1</td>\n",
       "      <td>0.0564000000</td>\n",
       "      <td>0.0000710283</td>\n",
       "    </tr>\n",
       "    <tr>\n",
       "      <th>248</th>\n",
       "      <td>2022-01-14</td>\n",
       "      <td>6.3299999237</td>\n",
       "      <td>6.0900001526</td>\n",
       "      <td>0.0386521173</td>\n",
       "      <td>0.0014939862</td>\n",
       "      <td>0</td>\n",
       "      <td>0.0600000000</td>\n",
       "      <td>0.0000896392</td>\n",
       "    </tr>\n",
       "  </tbody>\n",
       "</table>\n",
       "<p>249 rows × 8 columns</p>\n",
       "</div>"
      ],
      "text/plain": [
       "          Date                Preco                  PD1                LgRet  \\\n",
       "0   2021-01-14        23.7128028870                  NaN                  NaN   \n",
       "1   2021-01-15        23.9426364899        23.7128028870         0.0096457147   \n",
       "2   2021-01-18        24.4322834015        23.9426364899         0.0202445249   \n",
       "3   2021-01-19        24.0625495911        24.4322834015        -0.0152486750   \n",
       "4   2021-01-20        25.4015789032        24.0625495911         0.0541546607   \n",
       "..         ...                  ...                  ...                  ...   \n",
       "244 2022-01-10         5.7399997711         6.2199997902        -0.0803107026   \n",
       "245 2022-01-11         5.8699998856         5.7399997711         0.0223954439   \n",
       "246 2022-01-12         6.3099999428         5.8699998856         0.0722810531   \n",
       "247 2022-01-13         6.0900001526         6.3099999428        -0.0354875607   \n",
       "248 2022-01-14         6.3299999237         6.0900001526         0.0386521173   \n",
       "\n",
       "                      u2  delta                 peso              pre_vol  \n",
       "0                    NaN    248         0.0000000000                  NaN  \n",
       "1           0.0000930398    247         0.0000000000         0.0000000000  \n",
       "2           0.0004098408    246         0.0000000000         0.0000000000  \n",
       "3           0.0002325221    245         0.0000000000         0.0000000000  \n",
       "4           0.0029327273    244         0.0000000000         0.0000000000  \n",
       "..                   ...    ...                  ...                  ...  \n",
       "244         0.0064498089      4         0.0468449376         0.0003021409  \n",
       "245         0.0005015559      3         0.0498350400         0.0000249951  \n",
       "246         0.0052245506      2         0.0530160000         0.0002769848  \n",
       "247         0.0012593670      1         0.0564000000         0.0000710283  \n",
       "248         0.0014939862      0         0.0600000000         0.0000896392  \n",
       "\n",
       "[249 rows x 8 columns]"
      ]
     },
     "execution_count": 291,
     "metadata": {},
     "output_type": "execute_result"
    }
   ],
   "source": [
    "df['u2'] = df['LgRet']**2\n",
    "df"
   ]
  },
  {
   "cell_type": "code",
   "execution_count": 292,
   "metadata": {
    "ExecuteTime": {
     "end_time": "2022-01-16T23:34:30.964892Z",
     "start_time": "2022-01-16T23:34:30.941864Z"
    }
   },
   "outputs": [
    {
     "data": {
      "text/html": [
       "<div>\n",
       "<style scoped>\n",
       "    .dataframe tbody tr th:only-of-type {\n",
       "        vertical-align: middle;\n",
       "    }\n",
       "\n",
       "    .dataframe tbody tr th {\n",
       "        vertical-align: top;\n",
       "    }\n",
       "\n",
       "    .dataframe thead th {\n",
       "        text-align: right;\n",
       "    }\n",
       "</style>\n",
       "<table border=\"1\" class=\"dataframe\">\n",
       "  <thead>\n",
       "    <tr style=\"text-align: right;\">\n",
       "      <th></th>\n",
       "      <th>Date</th>\n",
       "      <th>Preco</th>\n",
       "      <th>PD1</th>\n",
       "      <th>LgRet</th>\n",
       "      <th>u2</th>\n",
       "      <th>delta</th>\n",
       "      <th>peso</th>\n",
       "      <th>pre_vol</th>\n",
       "    </tr>\n",
       "  </thead>\n",
       "  <tbody>\n",
       "    <tr>\n",
       "      <th>0</th>\n",
       "      <td>2021-01-14</td>\n",
       "      <td>23.7128028870</td>\n",
       "      <td>NaN</td>\n",
       "      <td>NaN</td>\n",
       "      <td>NaN</td>\n",
       "      <td>248</td>\n",
       "      <td>0.0000000000</td>\n",
       "      <td>NaN</td>\n",
       "    </tr>\n",
       "    <tr>\n",
       "      <th>1</th>\n",
       "      <td>2021-01-15</td>\n",
       "      <td>23.9426364899</td>\n",
       "      <td>23.7128028870</td>\n",
       "      <td>0.0096457147</td>\n",
       "      <td>0.0000930398</td>\n",
       "      <td>247</td>\n",
       "      <td>0.0000000000</td>\n",
       "      <td>0.0000000000</td>\n",
       "    </tr>\n",
       "    <tr>\n",
       "      <th>2</th>\n",
       "      <td>2021-01-18</td>\n",
       "      <td>24.4322834015</td>\n",
       "      <td>23.9426364899</td>\n",
       "      <td>0.0202445249</td>\n",
       "      <td>0.0004098408</td>\n",
       "      <td>246</td>\n",
       "      <td>0.0000000000</td>\n",
       "      <td>0.0000000000</td>\n",
       "    </tr>\n",
       "    <tr>\n",
       "      <th>3</th>\n",
       "      <td>2021-01-19</td>\n",
       "      <td>24.0625495911</td>\n",
       "      <td>24.4322834015</td>\n",
       "      <td>-0.0152486750</td>\n",
       "      <td>0.0002325221</td>\n",
       "      <td>245</td>\n",
       "      <td>0.0000000000</td>\n",
       "      <td>0.0000000000</td>\n",
       "    </tr>\n",
       "    <tr>\n",
       "      <th>4</th>\n",
       "      <td>2021-01-20</td>\n",
       "      <td>25.4015789032</td>\n",
       "      <td>24.0625495911</td>\n",
       "      <td>0.0541546607</td>\n",
       "      <td>0.0029327273</td>\n",
       "      <td>244</td>\n",
       "      <td>0.0000000000</td>\n",
       "      <td>0.0000000000</td>\n",
       "    </tr>\n",
       "    <tr>\n",
       "      <th>...</th>\n",
       "      <td>...</td>\n",
       "      <td>...</td>\n",
       "      <td>...</td>\n",
       "      <td>...</td>\n",
       "      <td>...</td>\n",
       "      <td>...</td>\n",
       "      <td>...</td>\n",
       "      <td>...</td>\n",
       "    </tr>\n",
       "    <tr>\n",
       "      <th>244</th>\n",
       "      <td>2022-01-10</td>\n",
       "      <td>5.7399997711</td>\n",
       "      <td>6.2199997902</td>\n",
       "      <td>-0.0803107026</td>\n",
       "      <td>0.0064498089</td>\n",
       "      <td>4</td>\n",
       "      <td>0.0468449376</td>\n",
       "      <td>0.0003021409</td>\n",
       "    </tr>\n",
       "    <tr>\n",
       "      <th>245</th>\n",
       "      <td>2022-01-11</td>\n",
       "      <td>5.8699998856</td>\n",
       "      <td>5.7399997711</td>\n",
       "      <td>0.0223954439</td>\n",
       "      <td>0.0005015559</td>\n",
       "      <td>3</td>\n",
       "      <td>0.0498350400</td>\n",
       "      <td>0.0000249951</td>\n",
       "    </tr>\n",
       "    <tr>\n",
       "      <th>246</th>\n",
       "      <td>2022-01-12</td>\n",
       "      <td>6.3099999428</td>\n",
       "      <td>5.8699998856</td>\n",
       "      <td>0.0722810531</td>\n",
       "      <td>0.0052245506</td>\n",
       "      <td>2</td>\n",
       "      <td>0.0530160000</td>\n",
       "      <td>0.0002769848</td>\n",
       "    </tr>\n",
       "    <tr>\n",
       "      <th>247</th>\n",
       "      <td>2022-01-13</td>\n",
       "      <td>6.0900001526</td>\n",
       "      <td>6.3099999428</td>\n",
       "      <td>-0.0354875607</td>\n",
       "      <td>0.0012593670</td>\n",
       "      <td>1</td>\n",
       "      <td>0.0564000000</td>\n",
       "      <td>0.0000710283</td>\n",
       "    </tr>\n",
       "    <tr>\n",
       "      <th>248</th>\n",
       "      <td>2022-01-14</td>\n",
       "      <td>6.3299999237</td>\n",
       "      <td>6.0900001526</td>\n",
       "      <td>0.0386521173</td>\n",
       "      <td>0.0014939862</td>\n",
       "      <td>0</td>\n",
       "      <td>0.0600000000</td>\n",
       "      <td>0.0000896392</td>\n",
       "    </tr>\n",
       "  </tbody>\n",
       "</table>\n",
       "<p>249 rows × 8 columns</p>\n",
       "</div>"
      ],
      "text/plain": [
       "          Date                Preco                  PD1                LgRet  \\\n",
       "0   2021-01-14        23.7128028870                  NaN                  NaN   \n",
       "1   2021-01-15        23.9426364899        23.7128028870         0.0096457147   \n",
       "2   2021-01-18        24.4322834015        23.9426364899         0.0202445249   \n",
       "3   2021-01-19        24.0625495911        24.4322834015        -0.0152486750   \n",
       "4   2021-01-20        25.4015789032        24.0625495911         0.0541546607   \n",
       "..         ...                  ...                  ...                  ...   \n",
       "244 2022-01-10         5.7399997711         6.2199997902        -0.0803107026   \n",
       "245 2022-01-11         5.8699998856         5.7399997711         0.0223954439   \n",
       "246 2022-01-12         6.3099999428         5.8699998856         0.0722810531   \n",
       "247 2022-01-13         6.0900001526         6.3099999428        -0.0354875607   \n",
       "248 2022-01-14         6.3299999237         6.0900001526         0.0386521173   \n",
       "\n",
       "                      u2  delta                 peso              pre_vol  \n",
       "0                    NaN    248         0.0000000000                  NaN  \n",
       "1           0.0000930398    247         0.0000000000         0.0000000000  \n",
       "2           0.0004098408    246         0.0000000000         0.0000000000  \n",
       "3           0.0002325221    245         0.0000000000         0.0000000000  \n",
       "4           0.0029327273    244         0.0000000000         0.0000000000  \n",
       "..                   ...    ...                  ...                  ...  \n",
       "244         0.0064498089      4         0.0468449376         0.0003021409  \n",
       "245         0.0005015559      3         0.0498350400         0.0000249951  \n",
       "246         0.0052245506      2         0.0530160000         0.0002769848  \n",
       "247         0.0012593670      1         0.0564000000         0.0000710283  \n",
       "248         0.0014939862      0         0.0600000000         0.0000896392  \n",
       "\n",
       "[249 rows x 8 columns]"
      ]
     },
     "execution_count": 292,
     "metadata": {},
     "output_type": "execute_result"
    }
   ],
   "source": [
    "import datetime as dt\n",
    "lmbda = 0.94\n",
    "#df['delta'] = abs(df['Date'].dt.date - dt.date(2022, 1, 14)).dt.days\n",
    "n = len(df['u2'])\n",
    "df['delta'] = np.arange(n-1, -1, -1)\n",
    "df\n"
   ]
  },
  {
   "cell_type": "code",
   "execution_count": 293,
   "metadata": {
    "ExecuteTime": {
     "end_time": "2022-01-16T23:34:36.738517Z",
     "start_time": "2022-01-16T23:34:36.720001Z"
    }
   },
   "outputs": [
    {
     "data": {
      "text/html": [
       "<div>\n",
       "<style scoped>\n",
       "    .dataframe tbody tr th:only-of-type {\n",
       "        vertical-align: middle;\n",
       "    }\n",
       "\n",
       "    .dataframe tbody tr th {\n",
       "        vertical-align: top;\n",
       "    }\n",
       "\n",
       "    .dataframe thead th {\n",
       "        text-align: right;\n",
       "    }\n",
       "</style>\n",
       "<table border=\"1\" class=\"dataframe\">\n",
       "  <thead>\n",
       "    <tr style=\"text-align: right;\">\n",
       "      <th></th>\n",
       "      <th>Date</th>\n",
       "      <th>Preco</th>\n",
       "      <th>PD1</th>\n",
       "      <th>LgRet</th>\n",
       "      <th>u2</th>\n",
       "      <th>delta</th>\n",
       "      <th>peso</th>\n",
       "      <th>pre_vol</th>\n",
       "    </tr>\n",
       "  </thead>\n",
       "  <tbody>\n",
       "    <tr>\n",
       "      <th>0</th>\n",
       "      <td>2021-01-14</td>\n",
       "      <td>23.7128028870</td>\n",
       "      <td>NaN</td>\n",
       "      <td>NaN</td>\n",
       "      <td>NaN</td>\n",
       "      <td>248</td>\n",
       "      <td>0.0000000130</td>\n",
       "      <td>NaN</td>\n",
       "    </tr>\n",
       "    <tr>\n",
       "      <th>1</th>\n",
       "      <td>2021-01-15</td>\n",
       "      <td>23.9426364899</td>\n",
       "      <td>23.7128028870</td>\n",
       "      <td>0.0096457147</td>\n",
       "      <td>0.0000930398</td>\n",
       "      <td>247</td>\n",
       "      <td>0.0000000138</td>\n",
       "      <td>0.0000000000</td>\n",
       "    </tr>\n",
       "    <tr>\n",
       "      <th>2</th>\n",
       "      <td>2021-01-18</td>\n",
       "      <td>24.4322834015</td>\n",
       "      <td>23.9426364899</td>\n",
       "      <td>0.0202445249</td>\n",
       "      <td>0.0004098408</td>\n",
       "      <td>246</td>\n",
       "      <td>0.0000000147</td>\n",
       "      <td>0.0000000000</td>\n",
       "    </tr>\n",
       "    <tr>\n",
       "      <th>3</th>\n",
       "      <td>2021-01-19</td>\n",
       "      <td>24.0625495911</td>\n",
       "      <td>24.4322834015</td>\n",
       "      <td>-0.0152486750</td>\n",
       "      <td>0.0002325221</td>\n",
       "      <td>245</td>\n",
       "      <td>0.0000000156</td>\n",
       "      <td>0.0000000000</td>\n",
       "    </tr>\n",
       "    <tr>\n",
       "      <th>4</th>\n",
       "      <td>2021-01-20</td>\n",
       "      <td>25.4015789032</td>\n",
       "      <td>24.0625495911</td>\n",
       "      <td>0.0541546607</td>\n",
       "      <td>0.0029327273</td>\n",
       "      <td>244</td>\n",
       "      <td>0.0000000166</td>\n",
       "      <td>0.0000000000</td>\n",
       "    </tr>\n",
       "    <tr>\n",
       "      <th>...</th>\n",
       "      <td>...</td>\n",
       "      <td>...</td>\n",
       "      <td>...</td>\n",
       "      <td>...</td>\n",
       "      <td>...</td>\n",
       "      <td>...</td>\n",
       "      <td>...</td>\n",
       "      <td>...</td>\n",
       "    </tr>\n",
       "    <tr>\n",
       "      <th>244</th>\n",
       "      <td>2022-01-10</td>\n",
       "      <td>5.7399997711</td>\n",
       "      <td>6.2199997902</td>\n",
       "      <td>-0.0803107026</td>\n",
       "      <td>0.0064498089</td>\n",
       "      <td>4</td>\n",
       "      <td>0.0468449376</td>\n",
       "      <td>0.0003021409</td>\n",
       "    </tr>\n",
       "    <tr>\n",
       "      <th>245</th>\n",
       "      <td>2022-01-11</td>\n",
       "      <td>5.8699998856</td>\n",
       "      <td>5.7399997711</td>\n",
       "      <td>0.0223954439</td>\n",
       "      <td>0.0005015559</td>\n",
       "      <td>3</td>\n",
       "      <td>0.0498350400</td>\n",
       "      <td>0.0000249951</td>\n",
       "    </tr>\n",
       "    <tr>\n",
       "      <th>246</th>\n",
       "      <td>2022-01-12</td>\n",
       "      <td>6.3099999428</td>\n",
       "      <td>5.8699998856</td>\n",
       "      <td>0.0722810531</td>\n",
       "      <td>0.0052245506</td>\n",
       "      <td>2</td>\n",
       "      <td>0.0530160000</td>\n",
       "      <td>0.0002769848</td>\n",
       "    </tr>\n",
       "    <tr>\n",
       "      <th>247</th>\n",
       "      <td>2022-01-13</td>\n",
       "      <td>6.0900001526</td>\n",
       "      <td>6.3099999428</td>\n",
       "      <td>-0.0354875607</td>\n",
       "      <td>0.0012593670</td>\n",
       "      <td>1</td>\n",
       "      <td>0.0564000000</td>\n",
       "      <td>0.0000710283</td>\n",
       "    </tr>\n",
       "    <tr>\n",
       "      <th>248</th>\n",
       "      <td>2022-01-14</td>\n",
       "      <td>6.3299999237</td>\n",
       "      <td>6.0900001526</td>\n",
       "      <td>0.0386521173</td>\n",
       "      <td>0.0014939862</td>\n",
       "      <td>0</td>\n",
       "      <td>0.0600000000</td>\n",
       "      <td>0.0000896392</td>\n",
       "    </tr>\n",
       "  </tbody>\n",
       "</table>\n",
       "<p>249 rows × 8 columns</p>\n",
       "</div>"
      ],
      "text/plain": [
       "          Date                Preco                  PD1                LgRet  \\\n",
       "0   2021-01-14        23.7128028870                  NaN                  NaN   \n",
       "1   2021-01-15        23.9426364899        23.7128028870         0.0096457147   \n",
       "2   2021-01-18        24.4322834015        23.9426364899         0.0202445249   \n",
       "3   2021-01-19        24.0625495911        24.4322834015        -0.0152486750   \n",
       "4   2021-01-20        25.4015789032        24.0625495911         0.0541546607   \n",
       "..         ...                  ...                  ...                  ...   \n",
       "244 2022-01-10         5.7399997711         6.2199997902        -0.0803107026   \n",
       "245 2022-01-11         5.8699998856         5.7399997711         0.0223954439   \n",
       "246 2022-01-12         6.3099999428         5.8699998856         0.0722810531   \n",
       "247 2022-01-13         6.0900001526         6.3099999428        -0.0354875607   \n",
       "248 2022-01-14         6.3299999237         6.0900001526         0.0386521173   \n",
       "\n",
       "                      u2  delta                 peso              pre_vol  \n",
       "0                    NaN    248         0.0000000130                  NaN  \n",
       "1           0.0000930398    247         0.0000000138         0.0000000000  \n",
       "2           0.0004098408    246         0.0000000147         0.0000000000  \n",
       "3           0.0002325221    245         0.0000000156         0.0000000000  \n",
       "4           0.0029327273    244         0.0000000166         0.0000000000  \n",
       "..                   ...    ...                  ...                  ...  \n",
       "244         0.0064498089      4         0.0468449376         0.0003021409  \n",
       "245         0.0005015559      3         0.0498350400         0.0000249951  \n",
       "246         0.0052245506      2         0.0530160000         0.0002769848  \n",
       "247         0.0012593670      1         0.0564000000         0.0000710283  \n",
       "248         0.0014939862      0         0.0600000000         0.0000896392  \n",
       "\n",
       "[249 rows x 8 columns]"
      ]
     },
     "execution_count": 293,
     "metadata": {},
     "output_type": "execute_result"
    }
   ],
   "source": [
    "df['peso'] = (1-lmbda )* np.power(lmbda, df['delta'])\n",
    "\n",
    "df"
   ]
  },
  {
   "cell_type": "code",
   "execution_count": 294,
   "metadata": {
    "ExecuteTime": {
     "end_time": "2022-01-16T23:34:55.663336Z",
     "start_time": "2022-01-16T23:34:55.643336Z"
    }
   },
   "outputs": [
    {
     "data": {
      "text/html": [
       "<div>\n",
       "<style scoped>\n",
       "    .dataframe tbody tr th:only-of-type {\n",
       "        vertical-align: middle;\n",
       "    }\n",
       "\n",
       "    .dataframe tbody tr th {\n",
       "        vertical-align: top;\n",
       "    }\n",
       "\n",
       "    .dataframe thead th {\n",
       "        text-align: right;\n",
       "    }\n",
       "</style>\n",
       "<table border=\"1\" class=\"dataframe\">\n",
       "  <thead>\n",
       "    <tr style=\"text-align: right;\">\n",
       "      <th></th>\n",
       "      <th>Date</th>\n",
       "      <th>Preco</th>\n",
       "      <th>PD1</th>\n",
       "      <th>LgRet</th>\n",
       "      <th>u2</th>\n",
       "      <th>delta</th>\n",
       "      <th>peso</th>\n",
       "      <th>pre_vol</th>\n",
       "    </tr>\n",
       "  </thead>\n",
       "  <tbody>\n",
       "    <tr>\n",
       "      <th>0</th>\n",
       "      <td>2021-01-14</td>\n",
       "      <td>23.7128028870</td>\n",
       "      <td>NaN</td>\n",
       "      <td>NaN</td>\n",
       "      <td>NaN</td>\n",
       "      <td>248</td>\n",
       "      <td>0.0000000130</td>\n",
       "      <td>NaN</td>\n",
       "    </tr>\n",
       "    <tr>\n",
       "      <th>1</th>\n",
       "      <td>2021-01-15</td>\n",
       "      <td>23.9426364899</td>\n",
       "      <td>23.7128028870</td>\n",
       "      <td>0.0096457147</td>\n",
       "      <td>0.0000930398</td>\n",
       "      <td>247</td>\n",
       "      <td>0.0000000138</td>\n",
       "      <td>0.0000000000</td>\n",
       "    </tr>\n",
       "    <tr>\n",
       "      <th>2</th>\n",
       "      <td>2021-01-18</td>\n",
       "      <td>24.4322834015</td>\n",
       "      <td>23.9426364899</td>\n",
       "      <td>0.0202445249</td>\n",
       "      <td>0.0004098408</td>\n",
       "      <td>246</td>\n",
       "      <td>0.0000000147</td>\n",
       "      <td>0.0000000000</td>\n",
       "    </tr>\n",
       "    <tr>\n",
       "      <th>3</th>\n",
       "      <td>2021-01-19</td>\n",
       "      <td>24.0625495911</td>\n",
       "      <td>24.4322834015</td>\n",
       "      <td>-0.0152486750</td>\n",
       "      <td>0.0002325221</td>\n",
       "      <td>245</td>\n",
       "      <td>0.0000000156</td>\n",
       "      <td>0.0000000000</td>\n",
       "    </tr>\n",
       "    <tr>\n",
       "      <th>4</th>\n",
       "      <td>2021-01-20</td>\n",
       "      <td>25.4015789032</td>\n",
       "      <td>24.0625495911</td>\n",
       "      <td>0.0541546607</td>\n",
       "      <td>0.0029327273</td>\n",
       "      <td>244</td>\n",
       "      <td>0.0000000166</td>\n",
       "      <td>0.0000000000</td>\n",
       "    </tr>\n",
       "    <tr>\n",
       "      <th>...</th>\n",
       "      <td>...</td>\n",
       "      <td>...</td>\n",
       "      <td>...</td>\n",
       "      <td>...</td>\n",
       "      <td>...</td>\n",
       "      <td>...</td>\n",
       "      <td>...</td>\n",
       "      <td>...</td>\n",
       "    </tr>\n",
       "    <tr>\n",
       "      <th>244</th>\n",
       "      <td>2022-01-10</td>\n",
       "      <td>5.7399997711</td>\n",
       "      <td>6.2199997902</td>\n",
       "      <td>-0.0803107026</td>\n",
       "      <td>0.0064498089</td>\n",
       "      <td>4</td>\n",
       "      <td>0.0468449376</td>\n",
       "      <td>0.0003021409</td>\n",
       "    </tr>\n",
       "    <tr>\n",
       "      <th>245</th>\n",
       "      <td>2022-01-11</td>\n",
       "      <td>5.8699998856</td>\n",
       "      <td>5.7399997711</td>\n",
       "      <td>0.0223954439</td>\n",
       "      <td>0.0005015559</td>\n",
       "      <td>3</td>\n",
       "      <td>0.0498350400</td>\n",
       "      <td>0.0000249951</td>\n",
       "    </tr>\n",
       "    <tr>\n",
       "      <th>246</th>\n",
       "      <td>2022-01-12</td>\n",
       "      <td>6.3099999428</td>\n",
       "      <td>5.8699998856</td>\n",
       "      <td>0.0722810531</td>\n",
       "      <td>0.0052245506</td>\n",
       "      <td>2</td>\n",
       "      <td>0.0530160000</td>\n",
       "      <td>0.0002769848</td>\n",
       "    </tr>\n",
       "    <tr>\n",
       "      <th>247</th>\n",
       "      <td>2022-01-13</td>\n",
       "      <td>6.0900001526</td>\n",
       "      <td>6.3099999428</td>\n",
       "      <td>-0.0354875607</td>\n",
       "      <td>0.0012593670</td>\n",
       "      <td>1</td>\n",
       "      <td>0.0564000000</td>\n",
       "      <td>0.0000710283</td>\n",
       "    </tr>\n",
       "    <tr>\n",
       "      <th>248</th>\n",
       "      <td>2022-01-14</td>\n",
       "      <td>6.3299999237</td>\n",
       "      <td>6.0900001526</td>\n",
       "      <td>0.0386521173</td>\n",
       "      <td>0.0014939862</td>\n",
       "      <td>0</td>\n",
       "      <td>0.0600000000</td>\n",
       "      <td>0.0000896392</td>\n",
       "    </tr>\n",
       "  </tbody>\n",
       "</table>\n",
       "<p>249 rows × 8 columns</p>\n",
       "</div>"
      ],
      "text/plain": [
       "          Date                Preco                  PD1                LgRet  \\\n",
       "0   2021-01-14        23.7128028870                  NaN                  NaN   \n",
       "1   2021-01-15        23.9426364899        23.7128028870         0.0096457147   \n",
       "2   2021-01-18        24.4322834015        23.9426364899         0.0202445249   \n",
       "3   2021-01-19        24.0625495911        24.4322834015        -0.0152486750   \n",
       "4   2021-01-20        25.4015789032        24.0625495911         0.0541546607   \n",
       "..         ...                  ...                  ...                  ...   \n",
       "244 2022-01-10         5.7399997711         6.2199997902        -0.0803107026   \n",
       "245 2022-01-11         5.8699998856         5.7399997711         0.0223954439   \n",
       "246 2022-01-12         6.3099999428         5.8699998856         0.0722810531   \n",
       "247 2022-01-13         6.0900001526         6.3099999428        -0.0354875607   \n",
       "248 2022-01-14         6.3299999237         6.0900001526         0.0386521173   \n",
       "\n",
       "                      u2  delta                 peso              pre_vol  \n",
       "0                    NaN    248         0.0000000130                  NaN  \n",
       "1           0.0000930398    247         0.0000000138         0.0000000000  \n",
       "2           0.0004098408    246         0.0000000147         0.0000000000  \n",
       "3           0.0002325221    245         0.0000000156         0.0000000000  \n",
       "4           0.0029327273    244         0.0000000166         0.0000000000  \n",
       "..                   ...    ...                  ...                  ...  \n",
       "244         0.0064498089      4         0.0468449376         0.0003021409  \n",
       "245         0.0005015559      3         0.0498350400         0.0000249951  \n",
       "246         0.0052245506      2         0.0530160000         0.0002769848  \n",
       "247         0.0012593670      1         0.0564000000         0.0000710283  \n",
       "248         0.0014939862      0         0.0600000000         0.0000896392  \n",
       "\n",
       "[249 rows x 8 columns]"
      ]
     },
     "execution_count": 294,
     "metadata": {},
     "output_type": "execute_result"
    }
   ],
   "source": [
    "df['pre_vol'] = df['peso'] * df['u2']\n",
    "df\n"
   ]
  },
  {
   "cell_type": "code",
   "execution_count": 296,
   "metadata": {
    "ExecuteTime": {
     "end_time": "2022-01-16T23:35:02.956521Z",
     "start_time": "2022-01-16T23:35:02.947521Z"
    }
   },
   "outputs": [
    {
     "data": {
      "text/plain": [
       "0.05190373011014053"
      ]
     },
     "execution_count": 296,
     "metadata": {},
     "output_type": "execute_result"
    }
   ],
   "source": [
    "vol3 = np.sqrt(df['pre_vol'].sum())\n",
    "vol3"
   ]
  },
  {
   "cell_type": "code",
   "execution_count": 295,
   "metadata": {
    "ExecuteTime": {
     "end_time": "2022-01-16T23:34:58.467895Z",
     "start_time": "2022-01-16T23:34:58.369866Z"
    }
   },
   "outputs": [
    {
     "data": {
      "text/plain": [
       "<AxesSubplot:>"
      ]
     },
     "execution_count": 295,
     "metadata": {},
     "output_type": "execute_result"
    },
    {
     "data": {
      "image/png": "[encoded data removed]",
      "text/plain": [
       "<Figure size 432x288 with 1 Axes>"
      ]
     },
     "metadata": {
      "needs_background": "light"
     },
     "output_type": "display_data"
    }
   ],
   "source": [
    "df['LgRet'].plot()"
   ]
  },
  {
   "cell_type": "code",
   "execution_count": 297,
   "metadata": {
    "ExecuteTime": {
     "end_time": "2022-01-16T23:35:15.547498Z",
     "start_time": "2022-01-16T23:35:15.533521Z"
    }
   },
   "outputs": [
    {
     "data": {
      "text/plain": [
       "0.8239461719282819"
      ]
     },
     "execution_count": 297,
     "metadata": {},
     "output_type": "execute_result"
    }
   ],
   "source": [
    "vol3 * np.sqrt(252)"
   ]
  },
  {
   "cell_type": "markdown",
   "metadata": {},
   "source": [
    "## 3. Volatilidade Implícita (IV)\n",
    "\n",
    "Sabemos que o valor de um ativo é reflexo do consenso dos participantes com relação ao seu desempenho esperado.\n",
    "E que podemos considerar até certo ponto que os mercados são eficientes. Então seria possível usar o próprio mercado para \n",
    "estimar a Volatilidade do ativo?\n",
    "\n",
    "\n",
    "Vamos lembrar da equação de Black-Scholes-Merton (BSM) para o preço de uma call/put europeia.\n",
    "\n",
    "\n",
    "$$  c = S_0 N(d_1) - K e^{-rT} N(d_2) $$\n",
    "\n",
    "e \n",
    "\n",
    "$$ p = K e^{-rT} N(-d_2) - S_0 N(-d_1) $$\n",
    "\n",
    "Onde:\n",
    "\n",
    "$$ d_1 = \\frac{ ln(S_0/K) + (r + \\sigma^2/2) T }{ \\sigma \\sqrt T} $$\n",
    "\n",
    "$$ d_2 = \\frac{ ln(S_0/K) + (r - \\sigma^2/2) T }{ \\sigma \\sqrt T} = d_1 - \\sigma \\sqrt T $$\n",
    "\n",
    "Em que:\n",
    "\n",
    "A função *N(x)* é a função de distribuição de probabilidade cumulativa para uma variável com distribuição normal padrão. \n",
    "\n",
    "- As variáveis *c* e *p* são o preço da opção de compra e da de venda europeias, \n",
    "*S_0* é o preço da ação no tempo zero, \n",
    "- *K* é o preço de exercício (*strike*), \n",
    "- *r* é a taxa de juros livre de risco com capitalização contínua,\n",
    "- $\\sigma$ é a volatilidade do preço da ação e \n",
    "- *T* é o tempo até a maturidade da opção.\n",
    "\n",
    "Perceba que os preços das opções dependem de $\\sigma$, um valor de volatividade para o ativo objeto.\n",
    "\n",
    "Ao invés de usar BSM para obter o preço da opção, nós podemos usar os preços de mercado de uma opção para estimar a Volatilidade que gerou tal preço.\n",
    "\n",
    "O processo não é simples pois seria difícil isolar $\\sigma$ em BSM. Mas é possível usar etapas de otimização da função \n",
    "BSM variando $\\sigma$ até obter um valor aproximado da opção e dessa forma, usar retornar o $\\sigma$."
   ]
  },
  {
   "cell_type": "code",
   "execution_count": 327,
   "metadata": {
    "ExecuteTime": {
     "end_time": "2022-01-17T00:25:13.315325Z",
     "start_time": "2022-01-17T00:25:13.296325Z"
    }
   },
   "outputs": [
    {
     "data": {
      "text/plain": [
       "0.08846864798760819"
      ]
     },
     "execution_count": 327,
     "metadata": {},
     "output_type": "execute_result"
    }
   ],
   "source": [
    "r = np.log(1 + 0.0925)\n",
    "r"
   ]
  },
  {
   "cell_type": "code",
   "execution_count": 379,
   "metadata": {
    "ExecuteTime": {
     "end_time": "2022-01-17T01:01:14.437663Z",
     "start_time": "2022-01-17T01:01:14.425662Z"
    }
   },
   "outputs": [
    {
     "name": "stdout",
     "output_type": "stream",
     "text": [
      "taxa livre de risco 0.08846864798760819\n",
      "preço da ação 6.33\n",
      "preço da opção 0.06\n",
      "Strike 6.99\n",
      "Tempo 0.01984126984126984\n"
     ]
    }
   ],
   "source": [
    "#MGLU3\n",
    "\n",
    "print('taxa livre de risco', r)\n",
    "print('preço da ação', 6.33)\n",
    "print('preço da opção', 0.06)\n",
    "print('Strike', 6.99)\n",
    "print('Tempo', 5/252)"
   ]
  },
  {
   "cell_type": "code",
   "execution_count": 390,
   "metadata": {
    "ExecuteTime": {
     "end_time": "2022-01-17T01:07:09.210115Z",
     "start_time": "2022-01-17T01:07:09.207112Z"
    }
   },
   "outputs": [],
   "source": [
    "option = BSM('call', 6.33, 6.99,0, r, 25/252, S_ativo=0.27 )"
   ]
  },
  {
   "cell_type": "code",
   "execution_count": 391,
   "metadata": {
    "ExecuteTime": {
     "end_time": "2022-01-17T01:07:10.355485Z",
     "start_time": "2022-01-17T01:07:10.339487Z"
    }
   },
   "outputs": [
    {
     "data": {
      "text/plain": [
       "0.6196627053760406"
      ]
     },
     "execution_count": 391,
     "metadata": {},
     "output_type": "execute_result"
    }
   ],
   "source": [
    "option.vol_impl_()"
   ]
  },
  {
   "cell_type": "code",
   "execution_count": 300,
   "metadata": {
    "ExecuteTime": {
     "end_time": "2022-01-16T23:41:36.503412Z",
     "start_time": "2022-01-16T23:41:34.802963Z"
    }
   },
   "outputs": [],
   "source": [
    "\n",
    "from   scipy.stats import norm\n",
    "from   scipy.stats import mvn\n",
    "import numpy       as     np\n",
    "\n",
    "class BSM:\n",
    "    def __init__(self, callput, S, K, sigma=0, r, tau, qrf=None, S_ativo=None):\n",
    "        self.callput = callput\n",
    "        self.S = S\n",
    "        self.K = K\n",
    "        self.sigma = sigma\n",
    "        self.r = r\n",
    "        self.tau = tau\n",
    "        self.S_ativo = S_ativo\n",
    "        if qrf is None:\n",
    "            self.qrf = r\n",
    "        else:\n",
    "            self.qrf = qrf\n",
    "        \n",
    "    \n",
    "    def vol_impl_(self):\n",
    "        if self.S_ativo is None:\n",
    "            return 0\n",
    "        else:\n",
    "            sigma_aux = (np.sqrt(abs(np.log(self.S / self.K) + self.r * self.tau) *\\\n",
    "                         2 / self.tau))\n",
    "                \n",
    "            d1_aux = ((np.log(self.S/self.K) +\\\n",
    "                  (self.qrf + sigma_aux**2 / 2) * self.tau) /\\\n",
    "                  (sigma_aux * np.sqrt(self.tau)))\n",
    "                \n",
    "            d2_aux = d1_aux - sigma_aux * np.sqrt(self.tau)\n",
    "            \n",
    "            if ((self.callput.lower() == 'c') or (self.callput.lower() == 'call')):\n",
    "                preco_aux = (self.S * np.exp((self.qrf -  self.r) * self.tau) *\\\n",
    "                             norm.cdf(d1_aux) - self.K * np.exp(-self.r * self.tau) *\\\n",
    "                             norm.cdf(d2_aux))\n",
    "            elif ((self.callput.lower() == 'p') or (self.callput.lower() == 'put')):\n",
    "                preco_aux = ((self.K * np.exp(-self.r * self.tau) *\\\n",
    "                             norm.cdf(-d2_aux)) - self.S * np.exp((self.qrf -  self.r) *\\\n",
    "                             self.tau) * norm.cdf(-d1_aux))\n",
    "                                                                  \n",
    "            vega_aux = (self.S * np.exp((self.qrf - self.r) * self.tau) * norm.pdf(d1_aux) *\\\n",
    "                        np.sqrt(self.tau))\n",
    "                \n",
    "            min_diff = abs(self.S_ativo - preco_aux)\n",
    "            \n",
    "            eps = 0.0001\n",
    "            \n",
    "            while ((abs(self.S_ativo - preco_aux) >= eps) and (abs(self.S_ativo - preco_aux) <= min_diff)):\n",
    "                sigma_aux = sigma_aux - (preco_aux - self.S_ativo) / vega_aux\n",
    "                \n",
    "                d1_aux = ((np.log(self.S/self.K) +\\\n",
    "                          (self.qrf + sigma_aux**2 / 2) * self.tau) /\\\n",
    "                          (sigma_aux * np.sqrt(self.tau)))\n",
    "                \n",
    "                d2_aux = d1_aux - sigma_aux * np.sqrt(self.tau)\n",
    "                \n",
    "                if ((self.callput.lower() == 'c') or (self.callput.lower() == 'call')):\n",
    "                    preco_aux = (self.S * np.exp((self.qrf -  self.r) * self.tau) *\\\n",
    "                                 norm.cdf(d1_aux) - self.K * np.exp(-self.r * self.tau) *\\\n",
    "                                 norm.cdf(d2_aux))\n",
    "                elif ((self.callput.lower() == 'p') or (self.callput.lower() == 'put')):\n",
    "                    preco_aux = ((self.K * np.exp(-self.r * self.tau) *\\\n",
    "                                  norm.cdf(-d2_aux)) - self.S * np.exp((self.qrf -  self.r) *\\\n",
    "                                  self.tau) * norm.cdf(-d1_aux))\n",
    "                                                                       \n",
    "                vega_aux = (self.S * np.exp((self.qrf - self.r) * self.tau) * norm.pdf(d1_aux) *\\\n",
    "                            np.sqrt(self.tau))\n",
    "                    \n",
    "                min_diff = abs(self.S_ativo - preco_aux)\n",
    "                \n",
    "            if abs(self.S_ativo - preco_aux) <= eps:\n",
    "                return sigma_aux\n",
    "            else:\n",
    "                return 'Não encontrado!'\n"
   ]
  },
  {
   "cell_type": "code",
   "execution_count": 403,
   "metadata": {
    "ExecuteTime": {
     "end_time": "2022-01-17T01:09:58.306878Z",
     "start_time": "2022-01-17T01:09:58.296855Z"
    }
   },
   "outputs": [],
   "source": [
    "import numpy as np\n",
    "from scipy.stats import norm # distribuição normal\n",
    "\n",
    "def calcula_iv(S, K, r, T, tipo, preco_atual):\n",
    "    sigmas = np.arange(0.001, 3, 0.001)\n",
    "    eps = 0.001\n",
    "    for sigma in sigmas:\n",
    "        if preco_atual - calc_BS(S, K, r, T, sigma, tipo)<eps:\n",
    "            return sigma\n",
    "\n",
    "def calc_BS(S, K, r, T, sigma, tipo):\n",
    "    # Cálculo do d1\n",
    "    d1 = (np.log(S/K) + (r + sigma**2/2)*T) / sigma*np.sqrt(T)\n",
    "    # Cálculo do d2\n",
    "    d2 = d1 - sigma*np.sqrt(T)\n",
    "    \n",
    "    if tipo == 'call':\n",
    "        # Preço se for call (opção de compra)\n",
    "        price = S*norm.cdf(d1) - K*np.exp(-r*T)*norm.cdf(d2)\n",
    "    elif tipo == 'put':\n",
    "        # preço se for put (opção de venda)\n",
    "        price = K*np.exp(-r*T)*norm.cdf(-d2) - S*norm.cdf(-d1)\n",
    "    else:\n",
    "        # Não sei o tipo, não calculo\n",
    "        price = None\n",
    "    \n",
    "    return price # Preço/prêmio"
   ]
  },
  {
   "cell_type": "code",
   "execution_count": 404,
   "metadata": {
    "ExecuteTime": {
     "end_time": "2022-01-17T01:09:59.410139Z",
     "start_time": "2022-01-17T01:09:59.309108Z"
    }
   },
   "outputs": [
    {
     "data": {
      "text/plain": [
       "0.651"
      ]
     },
     "execution_count": 404,
     "metadata": {},
     "output_type": "execute_result"
    }
   ],
   "source": [
    "calcula_iv(6.33, 6.99, r, 25/252, 'call', 0.27)"
   ]
  },
  {
   "cell_type": "code",
   "execution_count": 406,
   "metadata": {
    "ExecuteTime": {
     "end_time": "2022-01-17T01:10:06.002162Z",
     "start_time": "2022-01-17T01:10:05.994165Z"
    }
   },
   "outputs": [
    {
     "data": {
      "text/plain": [
       "0.2691661658293403"
      ]
     },
     "execution_count": 406,
     "metadata": {},
     "output_type": "execute_result"
    }
   ],
   "source": [
    "calc_BS(6.33, 6.99, r, 25/252, 0.651, 'call')"
   ]
  }
 ],
 "metadata": {
  "kernelspec": {
   "display_name": "Python 3",
   "language": "python",
   "name": "python3"
  },
  "language_info": {
   "codemirror_mode": {
    "name": "ipython",
    "version": 3
   },
   "file_extension": ".py",
   "mimetype": "text/x-python",
   "name": "python",
   "nbconvert_exporter": "python",
   "pygments_lexer": "ipython3",
   "version": "3.8.5"
  }
 },
 "nbformat": 4,
 "nbformat_minor": 5
}
