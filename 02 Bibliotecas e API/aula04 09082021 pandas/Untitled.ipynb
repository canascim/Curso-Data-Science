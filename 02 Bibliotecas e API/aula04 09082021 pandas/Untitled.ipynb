{
 "cells": [
  {
   "cell_type": "code",
   "execution_count": 1,
   "id": "7c223f91",
   "metadata": {},
   "outputs": [],
   "source": [
    "import numpy as np\n",
    "import pandas as pd"
   ]
  },
  {
   "cell_type": "code",
   "execution_count": 2,
   "id": "d7235e46",
   "metadata": {},
   "outputs": [
    {
     "data": {
      "text/html": [
       "<div>\n",
       "<style scoped>\n",
       "    .dataframe tbody tr th:only-of-type {\n",
       "        vertical-align: middle;\n",
       "    }\n",
       "\n",
       "    .dataframe tbody tr th {\n",
       "        vertical-align: top;\n",
       "    }\n",
       "\n",
       "    .dataframe thead th {\n",
       "        text-align: right;\n",
       "    }\n",
       "</style>\n",
       "<table border=\"1\" class=\"dataframe\">\n",
       "  <thead>\n",
       "    <tr style=\"text-align: right;\">\n",
       "      <th></th>\n",
       "      <th>Nomes Professores</th>\n",
       "      <th>Número de alunos</th>\n",
       "      <th>Número de aulas dadas</th>\n",
       "    </tr>\n",
       "  </thead>\n",
       "  <tbody>\n",
       "    <tr>\n",
       "      <th>0</th>\n",
       "      <td>Renata</td>\n",
       "      <td>12</td>\n",
       "      <td>4</td>\n",
       "    </tr>\n",
       "    <tr>\n",
       "      <th>1</th>\n",
       "      <td>Pedro</td>\n",
       "      <td>18</td>\n",
       "      <td>12</td>\n",
       "    </tr>\n",
       "    <tr>\n",
       "      <th>2</th>\n",
       "      <td>Alexandre</td>\n",
       "      <td>15</td>\n",
       "      <td>6</td>\n",
       "    </tr>\n",
       "  </tbody>\n",
       "</table>\n",
       "</div>"
      ],
      "text/plain": [
       "  Nomes Professores  Número de alunos  Número de aulas dadas\n",
       "0            Renata                12                      4\n",
       "1             Pedro                18                     12\n",
       "2         Alexandre                15                      6"
      ]
     },
     "execution_count": 2,
     "metadata": {},
     "output_type": "execute_result"
    }
   ],
   "source": [
    "# Dataframe a partir de um dicionário\n",
    "\n",
    "dados_lets_code = {'Nomes Professores': ['Renata', 'Pedro', 'Alexandre'], 'Número de alunos':  [12, 18, 15], 'Número de aulas dadas': [4, 12, 6]}\n",
    "\n",
    "df = pd.DataFrame(dados_lets_code)\n",
    "df"
   ]
  },
  {
   "cell_type": "code",
   "execution_count": 3,
   "id": "41c88d62",
   "metadata": {},
   "outputs": [
    {
     "data": {
      "text/html": [
       "<div>\n",
       "<style scoped>\n",
       "    .dataframe tbody tr th:only-of-type {\n",
       "        vertical-align: middle;\n",
       "    }\n",
       "\n",
       "    .dataframe tbody tr th {\n",
       "        vertical-align: top;\n",
       "    }\n",
       "\n",
       "    .dataframe thead th {\n",
       "        text-align: right;\n",
       "    }\n",
       "</style>\n",
       "<table border=\"1\" class=\"dataframe\">\n",
       "  <thead>\n",
       "    <tr style=\"text-align: right;\">\n",
       "      <th></th>\n",
       "      <th>lista1</th>\n",
       "    </tr>\n",
       "  </thead>\n",
       "  <tbody>\n",
       "    <tr>\n",
       "      <th>0</th>\n",
       "      <td>0</td>\n",
       "    </tr>\n",
       "    <tr>\n",
       "      <th>1</th>\n",
       "      <td>1</td>\n",
       "    </tr>\n",
       "    <tr>\n",
       "      <th>2</th>\n",
       "      <td>2</td>\n",
       "    </tr>\n",
       "  </tbody>\n",
       "</table>\n",
       "</div>"
      ],
      "text/plain": [
       "   lista1\n",
       "0       0\n",
       "1       1\n",
       "2       2"
      ]
     },
     "execution_count": 3,
     "metadata": {},
     "output_type": "execute_result"
    }
   ],
   "source": [
    "dados_1 = {'lista1':[0,1,2]}\n",
    "df_dados_1 = pd.DataFrame(dados_1)\n",
    "df_dados_1"
   ]
  },
  {
   "cell_type": "code",
   "execution_count": 4,
   "id": "30eed10d",
   "metadata": {},
   "outputs": [
    {
     "data": {
      "text/plain": [
       "[0, 1]"
      ]
     },
     "execution_count": 4,
     "metadata": {},
     "output_type": "execute_result"
    }
   ],
   "source": [
    "lista2 = [0,1]\n",
    "lista2"
   ]
  },
  {
   "cell_type": "code",
   "execution_count": 5,
   "id": "dca4ebcb",
   "metadata": {},
   "outputs": [
    {
     "name": "stdout",
     "output_type": "stream",
     "text": [
      "[0, 1]\n"
     ]
    }
   ],
   "source": [
    "print(lista2)"
   ]
  },
  {
   "cell_type": "code",
   "execution_count": 6,
   "id": "9319472f",
   "metadata": {},
   "outputs": [
    {
     "data": {
      "text/html": [
       "<div>\n",
       "<style scoped>\n",
       "    .dataframe tbody tr th:only-of-type {\n",
       "        vertical-align: middle;\n",
       "    }\n",
       "\n",
       "    .dataframe tbody tr th {\n",
       "        vertical-align: top;\n",
       "    }\n",
       "\n",
       "    .dataframe thead th {\n",
       "        text-align: right;\n",
       "    }\n",
       "</style>\n",
       "<table border=\"1\" class=\"dataframe\">\n",
       "  <thead>\n",
       "    <tr style=\"text-align: right;\">\n",
       "      <th></th>\n",
       "      <th>lista_2</th>\n",
       "    </tr>\n",
       "  </thead>\n",
       "  <tbody>\n",
       "    <tr>\n",
       "      <th>0</th>\n",
       "      <td>0</td>\n",
       "    </tr>\n",
       "    <tr>\n",
       "      <th>1</th>\n",
       "      <td>1</td>\n",
       "    </tr>\n",
       "  </tbody>\n",
       "</table>\n",
       "</div>"
      ],
      "text/plain": [
       "   lista_2\n",
       "0        0\n",
       "1        1"
      ]
     },
     "execution_count": 6,
     "metadata": {},
     "output_type": "execute_result"
    }
   ],
   "source": [
    "dados_2 = {'lista_2':lista2}\n",
    "df_dados_2 = pd.DataFrame(dados_2)\n",
    "df_dados_2"
   ]
  },
  {
   "cell_type": "markdown",
   "id": "741206b0",
   "metadata": {},
   "source": [
    "{'model_name': 'Logistic Regression',\n",
    " 'estimator' : LogisticRegression(random_state = random_seed)},\n",
    "{'model_name': 'KNN',\n",
    " 'estimator' : KNeighborsClassifier()},\n",
    "{'model_name': 'Decision Tree',\n",
    " 'estimator' : DecisionTreeClassifier(random_state = random_seed)},\n",
    "{'model_name': 'Random Forest',\n",
    " 'estimator' : RandomForestClassifier(random_state = random_seed)}, \n",
    "{'model_name': 'XGBoost',\n",
    " 'estimator' : XGBClassifier(random_state = random_seed)}"
   ]
  },
  {
   "cell_type": "code",
   "execution_count": 7,
   "id": "768703cc",
   "metadata": {},
   "outputs": [
    {
     "data": {
      "text/plain": [
       "['Logistic Regression', 'KNN', 'Decision Tree', 'Random Forest', 'XGBoost']"
      ]
     },
     "execution_count": 7,
     "metadata": {},
     "output_type": "execute_result"
    }
   ],
   "source": [
    "labels = ['Logistic Regression', 'KNN', 'Decision Tree', 'Random Forest', 'XGBoost']\n",
    "    \n",
    "labels"
   ]
  },
  {
   "cell_type": "code",
   "execution_count": 8,
   "id": "7e97b7cb",
   "metadata": {},
   "outputs": [],
   "source": [
    "listateste = list()\n",
    "listateste1= list()"
   ]
  },
  {
   "cell_type": "code",
   "execution_count": 9,
   "id": "39c3d973",
   "metadata": {},
   "outputs": [
    {
     "data": {
      "text/plain": [
       "[1, 2]"
      ]
     },
     "execution_count": 9,
     "metadata": {},
     "output_type": "execute_result"
    }
   ],
   "source": [
    "a=1\n",
    "b=2\n",
    "listateste.append(a)\n",
    "listateste.append(b)\n",
    "listateste\n"
   ]
  },
  {
   "cell_type": "code",
   "execution_count": 10,
   "id": "29ca6f58",
   "metadata": {},
   "outputs": [
    {
     "data": {
      "text/plain": [
       "[[1, 2]]"
      ]
     },
     "execution_count": 10,
     "metadata": {},
     "output_type": "execute_result"
    }
   ],
   "source": [
    "listateste1.append(listateste)\n",
    "listateste = list()\n",
    "listateste1"
   ]
  },
  {
   "cell_type": "code",
   "execution_count": 11,
   "id": "fb4318da",
   "metadata": {},
   "outputs": [
    {
     "name": "stdout",
     "output_type": "stream",
     "text": [
      "[[1, 2]]\n"
     ]
    }
   ],
   "source": [
    "print(listateste1)"
   ]
  },
  {
   "cell_type": "code",
   "execution_count": 12,
   "id": "9ebbe06b",
   "metadata": {},
   "outputs": [],
   "source": [
    "def cria_conta(numero, titular, saldo, limite):\n",
    "   conta = {\"numero\": numero, \"titular\": titular, \"saldo\": saldo, \"limite\": limite}\n",
    "   return conta"
   ]
  },
  {
   "cell_type": "code",
   "execution_count": 13,
   "id": "40fe68ae",
   "metadata": {},
   "outputs": [],
   "source": [
    "a = cria_conta(1, 'ze', 0, 2)"
   ]
  },
  {
   "cell_type": "code",
   "execution_count": 14,
   "id": "cf3cf822",
   "metadata": {},
   "outputs": [
    {
     "name": "stdout",
     "output_type": "stream",
     "text": [
      "{'numero': 1, 'titular': 'ze', 'saldo': 0, 'limite': 2}\n"
     ]
    }
   ],
   "source": [
    "print(a)"
   ]
  },
  {
   "cell_type": "code",
   "execution_count": 15,
   "id": "2344728a",
   "metadata": {},
   "outputs": [
    {
     "data": {
      "text/plain": [
       "dict"
      ]
     },
     "execution_count": 15,
     "metadata": {},
     "output_type": "execute_result"
    }
   ],
   "source": [
    "type(a)"
   ]
  },
  {
   "cell_type": "code",
   "execution_count": 16,
   "id": "b406aa1a",
   "metadata": {},
   "outputs": [],
   "source": [
    "def cria_conta(numero, titular, saldo, limite):\n",
    "   conta = [numero, titular, saldo, limite]\n",
    "   return conta"
   ]
  },
  {
   "cell_type": "code",
   "execution_count": 17,
   "id": "d65a3ca7",
   "metadata": {},
   "outputs": [],
   "source": [
    "a = cria_conta(1, 'ze', 0, 2)"
   ]
  },
  {
   "cell_type": "code",
   "execution_count": 18,
   "id": "de555102",
   "metadata": {},
   "outputs": [
    {
     "name": "stdout",
     "output_type": "stream",
     "text": [
      "[1, 'ze', 0, 2]\n"
     ]
    }
   ],
   "source": [
    "print(a)"
   ]
  },
  {
   "cell_type": "code",
   "execution_count": 19,
   "id": "202d83db",
   "metadata": {},
   "outputs": [
    {
     "name": "stdout",
     "output_type": "stream",
     "text": [
      "10\n",
      "15\n"
     ]
    }
   ],
   "source": [
    "def multiplos_valores():\n",
    "  x = 10\n",
    "  y = 15\n",
    "  return x, y\n",
    "a, b = multiplos_valores()\n",
    "print(a) # 10\n",
    "print(b) # 15"
   ]
  },
  {
   "cell_type": "code",
   "execution_count": 54,
   "id": "c585803a",
   "metadata": {},
   "outputs": [],
   "source": [
    "def multiplos_valores():\n",
    "  x = 10\n",
    "  y = 15\n",
    "  return x,y\n",
    "#a = multiplos_valores()\n",
    "#print(a) # 10\n"
   ]
  },
  {
   "cell_type": "code",
   "execution_count": 55,
   "id": "ae2205b6",
   "metadata": {},
   "outputs": [],
   "source": [
    "def multiplos_valores2():\n",
    "    b = multiplos_valores\n",
    "    return b"
   ]
  },
  {
   "cell_type": "code",
   "execution_count": 56,
   "id": "169feff9",
   "metadata": {},
   "outputs": [
    {
     "name": "stdout",
     "output_type": "stream",
     "text": [
      "15\n"
     ]
    }
   ],
   "source": [
    "print(b)"
   ]
  },
  {
   "cell_type": "code",
   "execution_count": 52,
   "id": "99ab4a85",
   "metadata": {},
   "outputs": [
    {
     "name": "stdout",
     "output_type": "stream",
     "text": [
      "<function multiplos_valores at 0x00000270DE5BCC10>\n"
     ]
    }
   ],
   "source": [
    "c = multiplos_valores2()\n",
    "print(c)"
   ]
  },
  {
   "cell_type": "code",
   "execution_count": null,
   "id": "08d1a6c0",
   "metadata": {},
   "outputs": [],
   "source": []
  },
  {
   "cell_type": "code",
   "execution_count": 21,
   "id": "ca2e31b6",
   "metadata": {},
   "outputs": [
    {
     "ename": "NameError",
     "evalue": "name 'listdef' is not defined",
     "output_type": "error",
     "traceback": [
      "\u001b[1;31m---------------------------------------------------------------------------\u001b[0m",
      "\u001b[1;31mNameError\u001b[0m                                 Traceback (most recent call last)",
      "\u001b[1;32m~\\AppData\\Local\\Temp/ipykernel_10684/2355971284.py\u001b[0m in \u001b[0;36m<module>\u001b[1;34m\u001b[0m\n\u001b[0;32m      5\u001b[0m \u001b[1;33m\u001b[0m\u001b[0m\n\u001b[0;32m      6\u001b[0m \u001b[0mlista_def\u001b[0m\u001b[1;33m(\u001b[0m\u001b[1;33m)\u001b[0m\u001b[1;33m\u001b[0m\u001b[1;33m\u001b[0m\u001b[0m\n\u001b[1;32m----> 7\u001b[1;33m \u001b[0mprint\u001b[0m\u001b[1;33m(\u001b[0m\u001b[0mlistdef\u001b[0m\u001b[1;33m)\u001b[0m\u001b[1;33m\u001b[0m\u001b[1;33m\u001b[0m\u001b[0m\n\u001b[0m",
      "\u001b[1;31mNameError\u001b[0m: name 'listdef' is not defined"
     ]
    }
   ],
   "source": [
    "def  lista_def():\n",
    "    listdef = list()\n",
    "    listdef.append(a)\n",
    "    return listdef\n",
    "\n",
    "lista_def()\n",
    "print(listdef)"
   ]
  },
  {
   "cell_type": "code",
   "execution_count": null,
   "id": "3fa160ea",
   "metadata": {},
   "outputs": [],
   "source": [
    "a"
   ]
  },
  {
   "cell_type": "code",
   "execution_count": 22,
   "id": "e034c889",
   "metadata": {},
   "outputs": [
    {
     "ename": "NameError",
     "evalue": "name 'y_true' is not defined",
     "output_type": "error",
     "traceback": [
      "\u001b[1;31m---------------------------------------------------------------------------\u001b[0m",
      "\u001b[1;31mNameError\u001b[0m                                 Traceback (most recent call last)",
      "\u001b[1;32m~\\AppData\\Local\\Temp/ipykernel_10684/4276167317.py\u001b[0m in \u001b[0;36m<module>\u001b[1;34m\u001b[0m\n\u001b[0;32m      1\u001b[0m \u001b[1;31m# Confusion Matrix\u001b[0m\u001b[1;33m\u001b[0m\u001b[1;33m\u001b[0m\u001b[1;33m\u001b[0m\u001b[0m\n\u001b[0;32m      2\u001b[0m \u001b[1;32mfrom\u001b[0m \u001b[0msklearn\u001b[0m\u001b[1;33m.\u001b[0m\u001b[0mmetrics\u001b[0m \u001b[1;32mimport\u001b[0m \u001b[0mconfusion_matrix\u001b[0m\u001b[1;33m\u001b[0m\u001b[1;33m\u001b[0m\u001b[0m\n\u001b[1;32m----> 3\u001b[1;33m \u001b[0mconfusion_matrix\u001b[0m\u001b[1;33m(\u001b[0m\u001b[0my_true\u001b[0m\u001b[1;33m,\u001b[0m \u001b[0my_pred\u001b[0m\u001b[1;33m)\u001b[0m\u001b[1;33m\u001b[0m\u001b[1;33m\u001b[0m\u001b[0m\n\u001b[0m\u001b[0;32m      4\u001b[0m \u001b[1;31m# Accuracy\u001b[0m\u001b[1;33m\u001b[0m\u001b[1;33m\u001b[0m\u001b[1;33m\u001b[0m\u001b[0m\n\u001b[0;32m      5\u001b[0m \u001b[1;32mfrom\u001b[0m \u001b[0msklearn\u001b[0m\u001b[1;33m.\u001b[0m\u001b[0mmetrics\u001b[0m \u001b[1;32mimport\u001b[0m \u001b[0maccuracy_score\u001b[0m\u001b[1;33m\u001b[0m\u001b[1;33m\u001b[0m\u001b[0m\n",
      "\u001b[1;31mNameError\u001b[0m: name 'y_true' is not defined"
     ]
    }
   ],
   "source": [
    "# Confusion Matrix\n",
    "from sklearn.metrics import confusion_matrix\n",
    "confusion_matrix(y_true, y_pred)\n",
    "# Accuracy\n",
    "from sklearn.metrics import accuracy_score\n",
    "accuracy_score(y_true, y_pred)\n",
    "# Recall\n",
    "from sklearn.metrics import recall_score\n",
    "recall_score(y_true, y_pred, average=None)\n",
    "# Precision\n",
    "from sklearn.metrics import precision_score\n",
    "precision_score(y_true, y_pred, average=None)"
   ]
  },
  {
   "cell_type": "code",
   "execution_count": null,
   "id": "97d43afb",
   "metadata": {},
   "outputs": [],
   "source": [
    "# Method 1: sklearn\n",
    "from sklearn.metrics import f1_score\n",
    "f1_score(y_true, y_pred, average=None)\n",
    "# Method 2: Manual Calculation\n",
    "F1 = 2 * (precision * recall) / (precision + recall)\n",
    "# Method 3: Classification report [BONUS]\n",
    "from sklearn.metrics import classification_report\n",
    "print(classification_report(y_true, y_pred, target_names=target_names))"
   ]
  },
  {
   "cell_type": "code",
   "execution_count": 23,
   "id": "6cce3bfc",
   "metadata": {},
   "outputs": [
    {
     "name": "stdout",
     "output_type": "stream",
     "text": [
      "listaa [0]\n",
      "listab [1]\n",
      "listac [2]\n"
     ]
    }
   ],
   "source": [
    "listaa = list()\n",
    "listab = list()\n",
    "listac = list()\n",
    "\n",
    "listaa.append(0)\n",
    "listab.append(1)\n",
    "listac.append(2)\n",
    "\n",
    "print('listaa', listaa)\n",
    "print('listab', listab)\n",
    "print('listac', listac)"
   ]
  },
  {
   "cell_type": "code",
   "execution_count": 24,
   "id": "f0d0d008",
   "metadata": {},
   "outputs": [
    {
     "name": "stdout",
     "output_type": "stream",
     "text": [
      "oi\n"
     ]
    }
   ],
   "source": [
    "print('oi')"
   ]
  },
  {
   "cell_type": "code",
   "execution_count": 32,
   "id": "f6812f66",
   "metadata": {},
   "outputs": [],
   "source": [
    "import nltk\n",
    "from nltk.stem.porter import *"
   ]
  },
  {
   "cell_type": "code",
   "execution_count": 33,
   "id": "76b0b7e7",
   "metadata": {},
   "outputs": [],
   "source": [
    "stemmer = PorterStemmer()\n",
    "stemmer = nltk.stem.RSLPStemmer()\n"
   ]
  },
  {
   "cell_type": "code",
   "execution_count": 34,
   "id": "d19cd9f5",
   "metadata": {},
   "outputs": [
    {
     "data": {
      "text/plain": [
       "['saying', 'writing', 'running', 'ate', 'worked']"
      ]
     },
     "execution_count": 34,
     "metadata": {},
     "output_type": "execute_result"
    }
   ],
   "source": [
    "words = ['saying', 'writing', 'running', 'ate', 'worked']\n",
    "\n",
    "stem_words = []\n",
    "for w in words:\n",
    "    s_words = stemmer.stem(w)\n",
    "    stem_words.append(s_words)\n",
    "    \n",
    "stem_words"
   ]
  },
  {
   "cell_type": "code",
   "execution_count": 35,
   "id": "4fdcca0e",
   "metadata": {},
   "outputs": [
    {
     "data": {
      "text/plain": [
       "['independenc', 'independ', 'independ', 'independ']"
      ]
     },
     "execution_count": 35,
     "metadata": {},
     "output_type": "execute_result"
    }
   ],
   "source": [
    "words = ['independencia', 'independente', 'independência', 'independentemente']\n",
    "\n",
    "stem_words = []\n",
    "for w in words:\n",
    "    s_words = stemmer.stem(w)\n",
    "    stem_words.append(s_words)\n",
    "    \n",
    "stem_words"
   ]
  },
  {
   "cell_type": "code",
   "execution_count": 36,
   "id": "630bcf25",
   "metadata": {},
   "outputs": [
    {
     "data": {
      "text/plain": [
       "'copi'"
      ]
     },
     "execution_count": 36,
     "metadata": {},
     "output_type": "execute_result"
    }
   ],
   "source": [
    "stemmer.stem(\"copiar\")\n"
   ]
  },
  {
   "cell_type": "code",
   "execution_count": 37,
   "id": "c33cb844",
   "metadata": {},
   "outputs": [
    {
     "data": {
      "text/plain": [
       "'voc'"
      ]
     },
     "execution_count": 37,
     "metadata": {},
     "output_type": "execute_result"
    }
   ],
   "source": [
    "stemmer.stem(\"você\")\n"
   ]
  },
  {
   "cell_type": "code",
   "execution_count": 38,
   "id": "61564e93",
   "metadata": {},
   "outputs": [
    {
     "data": {
      "text/plain": [
       "'voc'"
      ]
     },
     "execution_count": 38,
     "metadata": {},
     "output_type": "execute_result"
    }
   ],
   "source": [
    "stemmer.stem(\"voce\")"
   ]
  },
  {
   "cell_type": "code",
   "execution_count": 39,
   "id": "eb2ec911",
   "metadata": {},
   "outputs": [
    {
     "data": {
      "text/plain": [
       "'voc'"
      ]
     },
     "execution_count": 39,
     "metadata": {},
     "output_type": "execute_result"
    }
   ],
   "source": [
    "stemmer.stem(\"voce\")"
   ]
  },
  {
   "cell_type": "code",
   "execution_count": 57,
   "id": "0a9b2e82",
   "metadata": {},
   "outputs": [
    {
     "name": "stdout",
     "output_type": "stream",
     "text": [
      "oi\n"
     ]
    }
   ],
   "source": [
    "print('oi')"
   ]
  },
  {
   "cell_type": "code",
   "execution_count": null,
   "id": "207edad4",
   "metadata": {},
   "outputs": [],
   "source": []
  },
  {
   "cell_type": "code",
   "execution_count": null,
   "id": "598939d6",
   "metadata": {},
   "outputs": [],
   "source": []
  },
  {
   "cell_type": "code",
   "execution_count": null,
   "id": "0f0b1da2",
   "metadata": {},
   "outputs": [],
   "source": []
  },
  {
   "cell_type": "code",
   "execution_count": null,
   "id": "3fe6f49b",
   "metadata": {},
   "outputs": [],
   "source": []
  }
 ],
 "metadata": {
  "kernelspec": {
   "display_name": "Python 3 (ipykernel)",
   "language": "python",
   "name": "python3"
  },
  "language_info": {
   "codemirror_mode": {
    "name": "ipython",
    "version": 3
   },
   "file_extension": ".py",
   "mimetype": "text/x-python",
   "name": "python",
   "nbconvert_exporter": "python",
   "pygments_lexer": "ipython3",
   "version": "3.9.6"
  }
 },
 "nbformat": 4,
 "nbformat_minor": 5
}
