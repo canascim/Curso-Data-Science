{
 "cells": [
  {
   "cell_type": "code",
   "execution_count": 1,
   "id": "3d391145",
   "metadata": {},
   "outputs": [],
   "source": [
    "import pandas as pd\n",
    "import numpy as np\n",
    "import random"
   ]
  },
  {
   "cell_type": "code",
   "execution_count": 21,
   "id": "ef63537c",
   "metadata": {},
   "outputs": [],
   "source": [
    "nome = list()\n",
    "bimestre_1 = list()\n",
    "bimestre_2 = list()\n",
    "bimestre_3 = list()\n",
    "bimestre_4 = list()\n",
    "\n",
    "df_alunos = pd.DataFrame.from_dict({\n",
    "        'nome':nome, '1o bimestre':bimestre_1,'2o bimestre':bimestre_2, '3o bimestre':bimestre_3 , '4o bimestre':bimestre_4 })"
   ]
  },
  {
   "cell_type": "code",
   "execution_count": 24,
   "id": "3d452cb7",
   "metadata": {},
   "outputs": [],
   "source": [
    "\n",
    "nome.append('Joao')"
   ]
  },
  {
   "cell_type": "code",
   "execution_count": 27,
   "id": "ebb9b843",
   "metadata": {},
   "outputs": [
    {
     "data": {
      "text/html": [
       "<div>\n",
       "<style scoped>\n",
       "    .dataframe tbody tr th:only-of-type {\n",
       "        vertical-align: middle;\n",
       "    }\n",
       "\n",
       "    .dataframe tbody tr th {\n",
       "        vertical-align: top;\n",
       "    }\n",
       "\n",
       "    .dataframe thead th {\n",
       "        text-align: right;\n",
       "    }\n",
       "</style>\n",
       "<table border=\"1\" class=\"dataframe\">\n",
       "  <thead>\n",
       "    <tr style=\"text-align: right;\">\n",
       "      <th></th>\n",
       "      <th>nome</th>\n",
       "      <th>1o bimestre</th>\n",
       "      <th>2o bimestre</th>\n",
       "      <th>3o bimestre</th>\n",
       "      <th>4o bimestre</th>\n",
       "    </tr>\n",
       "  </thead>\n",
       "  <tbody>\n",
       "  </tbody>\n",
       "</table>\n",
       "</div>"
      ],
      "text/plain": [
       "Empty DataFrame\n",
       "Columns: [nome, 1o bimestre, 2o bimestre, 3o bimestre, 4o bimestre]\n",
       "Index: []"
      ]
     },
     "execution_count": 27,
     "metadata": {},
     "output_type": "execute_result"
    }
   ],
   "source": [
    "df_alunos"
   ]
  },
  {
   "cell_type": "code",
   "execution_count": null,
   "id": "6aeeb49d",
   "metadata": {},
   "outputs": [],
   "source": [
    "lista-nome= list()"
   ]
  },
  {
   "cell_type": "code",
   "execution_count": null,
   "id": "03535756",
   "metadata": {},
   "outputs": [],
   "source": [
    "lista-nome.append('carlos')"
   ]
  },
  {
   "cell_type": "code",
   "execution_count": null,
   "id": "5acb4218",
   "metadata": {},
   "outputs": [],
   "source": [
    "array-nome = np.array(array-nome)"
   ]
  },
  {
   "cell_type": "code",
   "execution_count": null,
   "id": "5525e042",
   "metadata": {},
   "outputs": [],
   "source": [
    "array-nome"
   ]
  },
  {
   "cell_type": "code",
   "execution_count": null,
   "id": "8687c954",
   "metadata": {},
   "outputs": [],
   "source": [
    "serienome = pd.Series(lista-nome)"
   ]
  },
  {
   "cell_type": "code",
   "execution_count": null,
   "id": "dacb2f87",
   "metadata": {},
   "outputs": [],
   "source": [
    "serienome"
   ]
  },
  {
   "cell_type": "code",
   "execution_count": null,
   "id": "7335f914",
   "metadata": {},
   "outputs": [],
   "source": [
    "labels = ['a', 'b', 'c']\n",
    "valores= [8, 7, 9]\n",
    "serie = pd.Series(data=valores, index=labels)\n",
    "serie"
   ]
  },
  {
   "cell_type": "code",
   "execution_count": null,
   "id": "05bb7670",
   "metadata": {},
   "outputs": [],
   "source": [
    "print('oi')"
   ]
  },
  {
   "cell_type": "code",
   "execution_count": null,
   "id": "cd4fd4ee",
   "metadata": {},
   "outputs": [],
   "source": []
  }
 ],
 "metadata": {
  "kernelspec": {
   "display_name": "Python 3",
   "language": "python",
   "name": "python3"
  },
  "language_info": {
   "codemirror_mode": {
    "name": "ipython",
    "version": 3
   },
   "file_extension": ".py",
   "mimetype": "text/x-python",
   "name": "python",
   "nbconvert_exporter": "python",
   "pygments_lexer": "ipython3",
   "version": "3.8.8"
  }
 },
 "nbformat": 4,
 "nbformat_minor": 5
}
