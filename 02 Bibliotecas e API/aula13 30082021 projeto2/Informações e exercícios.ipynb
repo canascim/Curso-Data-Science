{
 "cells": [
  {
   "cell_type": "markdown",
   "id": "587822f0",
   "metadata": {
    "ExecuteTime": {
     "end_time": "2021-08-30T22:15:13.410980Z",
     "start_time": "2021-08-30T22:15:13.399981Z"
    }
   },
   "source": [
    "# Informações"
   ]
  },
  {
   "cell_type": "markdown",
   "id": "3749df45",
   "metadata": {},
   "source": [
    "- Dia 03/09: PROVA\n",
    "    - 4 questões que envolvem dataframe e visualização de dados, principalmente\n",
    "- Dia 01/09: Dúvidas, revião e exercícios\n",
    "\n",
    "- Dia 30/08: Mini projeto 2 e a entrega será feita até 05/09\n",
    "    - As notas serão disponibilizadas pelo github\n"
   ]
  },
  {
   "cell_type": "code",
   "execution_count": null,
   "id": "53b96f42",
   "metadata": {},
   "outputs": [],
   "source": []
  }
 ],
 "metadata": {
  "kernelspec": {
   "display_name": "Python 3",
   "language": "python",
   "name": "python3"
  },
  "language_info": {
   "codemirror_mode": {
    "name": "ipython",
    "version": 3
   },
   "file_extension": ".py",
   "mimetype": "text/x-python",
   "name": "python",
   "nbconvert_exporter": "python",
   "pygments_lexer": "ipython3",
   "version": "3.9.5"
  },
  "varInspector": {
   "cols": {
    "lenName": 16,
    "lenType": 16,
    "lenVar": 40
   },
   "kernels_config": {
    "python": {
     "delete_cmd_postfix": "",
     "delete_cmd_prefix": "del ",
     "library": "var_list.py",
     "varRefreshCmd": "print(var_dic_list())"
    },
    "r": {
     "delete_cmd_postfix": ") ",
     "delete_cmd_prefix": "rm(",
     "library": "var_list.r",
     "varRefreshCmd": "cat(var_dic_list()) "
    }
   },
   "types_to_exclude": [
    "module",
    "function",
    "builtin_function_or_method",
    "instance",
    "_Feature"
   ],
   "window_display": false
  }
 },
 "nbformat": 4,
 "nbformat_minor": 5
}
