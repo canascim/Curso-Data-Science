{
 "cells": [
  {
   "cell_type": "markdown",
   "id": "50d6896e",
   "metadata": {},
   "source": [
    "## Dúvidas"
   ]
  },
  {
   "cell_type": "code",
   "execution_count": 2,
   "id": "86b18c2e",
   "metadata": {},
   "outputs": [],
   "source": [
    "import numpy as np\n",
    "import pandas as pd\n",
    "import scipy.special"
   ]
  },
  {
   "cell_type": "markdown",
   "id": "f5e67dd5",
   "metadata": {},
   "source": [
    "## exercicio 6 lista series-pandas(ver no exercicio)\n",
    "\n",
    "Questão #6 Vale 10 Enunciado Crie um array com números entre 1 e 10, com passo 1. Em seguida, embaralhe esses números utilizando o método shuffle do Numpy. Crie uma lista com o fatorial desses números, nessa nova ordem (após o embaralhamento). Por fim, crie uma Series cujo os valores são os fatoriais (embaralhados) e os índices são os números associados ao fatorial.\n",
    "\n",
    "Exemplo de saída\n",
    "\n",
    "3 6 5 120 1 1 9 362880 4 24 7 5040 10 3628800 2 2 6 720 8 40320 dtype: int64"
   ]
  },
  {
   "cell_type": "markdown",
   "id": "83e633a9",
   "metadata": {},
   "source": [
    "# Dúvida:\n",
    "A maneira como foi feita o import está correta?"
   ]
  },
  {
   "cell_type": "code",
   "execution_count": null,
   "id": "e315a822",
   "metadata": {},
   "outputs": [],
   "source": [
    "\n",
    "from numpy.random import default_rng\n",
    "rng = default_rng()                                               ###duvida, está correto este import?\n",
    "vals = rng.standard_normal(10)\n",
    "more_vals = rng.standard_normal(10)\n",
    "\n",
    "#Crie um array com números entre 1 e 10\n",
    "array1_10 = np.array([1,2,3,4,5,6,7,8,9,10])\n",
    "#array1_10\n",
    "\n",
    "#embaralhe esses números utilizando o método shuffle do Numpy\n",
    "np.random.shuffle(array1_10)\n",
    "#array1_10\n",
    "\n",
    "#Crie uma lista com o fatorial desses números, nessa nova ordem (após o embaralhamento)\n",
    "array1_10_factorial = scipy.special.factorial(array1_10)\n",
    "#array1_10_factorial\n",
    "\n",
    "#crie uma Series cujo os valores são os fatoriais (embaralhados) e os índices são os números associados ao fatorial\n",
    "s_embaralhados = pd.Series(data=array1_10_factorial, index=array1_10)\n",
    "s_embaralhados"
   ]
  },
  {
   "cell_type": "markdown",
   "id": "1fdf3bbb",
   "metadata": {},
   "source": [
    "## Mini Projeto \n"
   ]
  },
  {
   "cell_type": "markdown",
   "id": "b165d899",
   "metadata": {},
   "source": [
    "Questão: #Criar coluna \"Total\" somando o valor de todos os ativos por investidor\n",
    "\n",
    "minha solução: São 7 colunas.  Somei as colunas usando:\n",
    "df_consolidado1['Total'] = df_consolidado1['Ativo01'] + df_consolidado1['Ativo02'] +  df_consolidado1['Ativo03'] + df_consolidado1['Ativo04'] + df_consolidado1['Ativo05'] + df_consolidado1['Ativo06']+ df_consolidado1['Ativo07']\n",
    "\n",
    "\n",
    "minhã dúvida: Existe algum comando que eu possa citar o intervalo das colunas  ele somará sem eu precisar escrever o nome de todas as colunas?\n"
   ]
  },
  {
   "cell_type": "markdown",
   "id": "ac1ba2fe",
   "metadata": {},
   "source": [
    "Questão: Criar coluna \"Media\" com a média das notas 1 e 2\n",
    "minha solução:\n",
    "df_consolidado1['Media'] =(df_consolidado1['Nota1'] + df_consolidado1['Nota2'])/2 \n",
    "\n",
    "minha dúvida: Tentei usar a função mean() para dar como argumento as duas colunas e ela fazer a média. Tem alguma função que faça isso?"
   ]
  },
  {
   "cell_type": "code",
   "execution_count": 3,
   "id": "18097169",
   "metadata": {},
   "outputs": [],
   "source": [
    "df = pd.DataFrame({'email':['kkk@gmail.com','aa@yahoo.com']})\n",
    "\n"
   ]
  },
  {
   "cell_type": "code",
   "execution_count": 4,
   "id": "3de8ffb2",
   "metadata": {},
   "outputs": [
    {
     "data": {
      "text/html": [
       "<div>\n",
       "<style scoped>\n",
       "    .dataframe tbody tr th:only-of-type {\n",
       "        vertical-align: middle;\n",
       "    }\n",
       "\n",
       "    .dataframe tbody tr th {\n",
       "        vertical-align: top;\n",
       "    }\n",
       "\n",
       "    .dataframe thead th {\n",
       "        text-align: right;\n",
       "    }\n",
       "</style>\n",
       "<table border=\"1\" class=\"dataframe\">\n",
       "  <thead>\n",
       "    <tr style=\"text-align: right;\">\n",
       "      <th></th>\n",
       "      <th>email</th>\n",
       "    </tr>\n",
       "  </thead>\n",
       "  <tbody>\n",
       "    <tr>\n",
       "      <th>0</th>\n",
       "      <td>kkk@gmail.com</td>\n",
       "    </tr>\n",
       "    <tr>\n",
       "      <th>1</th>\n",
       "      <td>aa@yahoo.com</td>\n",
       "    </tr>\n",
       "  </tbody>\n",
       "</table>\n",
       "</div>"
      ],
      "text/plain": [
       "           email\n",
       "0  kkk@gmail.com\n",
       "1   aa@yahoo.com"
      ]
     },
     "execution_count": 4,
     "metadata": {},
     "output_type": "execute_result"
    }
   ],
   "source": [
    "df"
   ]
  },
  {
   "cell_type": "code",
   "execution_count": 22,
   "id": "e7446a53",
   "metadata": {},
   "outputs": [],
   "source": [
    "df['domain'] = df['email'].str.split('@', expand=False).str[1]\n",
    "#df['domain'] = df['email'].str.split('@')"
   ]
  },
  {
   "cell_type": "code",
   "execution_count": 23,
   "id": "e8354130",
   "metadata": {},
   "outputs": [
    {
     "data": {
      "text/html": [
       "<div>\n",
       "<style scoped>\n",
       "    .dataframe tbody tr th:only-of-type {\n",
       "        vertical-align: middle;\n",
       "    }\n",
       "\n",
       "    .dataframe tbody tr th {\n",
       "        vertical-align: top;\n",
       "    }\n",
       "\n",
       "    .dataframe thead th {\n",
       "        text-align: right;\n",
       "    }\n",
       "</style>\n",
       "<table border=\"1\" class=\"dataframe\">\n",
       "  <thead>\n",
       "    <tr style=\"text-align: right;\">\n",
       "      <th></th>\n",
       "      <th>email</th>\n",
       "      <th>domain</th>\n",
       "    </tr>\n",
       "  </thead>\n",
       "  <tbody>\n",
       "    <tr>\n",
       "      <th>0</th>\n",
       "      <td>kkk@gmail.com</td>\n",
       "      <td>gmail.com</td>\n",
       "    </tr>\n",
       "    <tr>\n",
       "      <th>1</th>\n",
       "      <td>aa@yahoo.com</td>\n",
       "      <td>yahoo.com</td>\n",
       "    </tr>\n",
       "  </tbody>\n",
       "</table>\n",
       "</div>"
      ],
      "text/plain": [
       "           email     domain\n",
       "0  kkk@gmail.com  gmail.com\n",
       "1   aa@yahoo.com  yahoo.com"
      ]
     },
     "execution_count": 23,
     "metadata": {},
     "output_type": "execute_result"
    }
   ],
   "source": [
    "df"
   ]
  },
  {
   "cell_type": "code",
   "execution_count": 28,
   "id": "8bc7b1f4",
   "metadata": {},
   "outputs": [
    {
     "data": {
      "text/html": [
       "<div>\n",
       "<style scoped>\n",
       "    .dataframe tbody tr th:only-of-type {\n",
       "        vertical-align: middle;\n",
       "    }\n",
       "\n",
       "    .dataframe tbody tr th {\n",
       "        vertical-align: top;\n",
       "    }\n",
       "\n",
       "    .dataframe thead th {\n",
       "        text-align: right;\n",
       "    }\n",
       "</style>\n",
       "<table border=\"1\" class=\"dataframe\">\n",
       "  <thead>\n",
       "    <tr style=\"text-align: right;\">\n",
       "      <th></th>\n",
       "      <th>email</th>\n",
       "      <th>domain</th>\n",
       "    </tr>\n",
       "  </thead>\n",
       "  <tbody>\n",
       "    <tr>\n",
       "      <th>0</th>\n",
       "      <td>kkk@gmail.com</td>\n",
       "      <td>carlos.com</td>\n",
       "    </tr>\n",
       "    <tr>\n",
       "      <th>1</th>\n",
       "      <td>aa@yahoo.com</td>\n",
       "      <td>yahoo.com</td>\n",
       "    </tr>\n",
       "  </tbody>\n",
       "</table>\n",
       "</div>"
      ],
      "text/plain": [
       "           email      domain\n",
       "0  kkk@gmail.com  carlos.com\n",
       "1   aa@yahoo.com   yahoo.com"
      ]
     },
     "execution_count": 28,
     "metadata": {},
     "output_type": "execute_result"
    }
   ],
   "source": [
    "df.replace('gmail.com','carlos.com')"
   ]
  },
  {
   "cell_type": "code",
   "execution_count": 29,
   "id": "855ec5f0",
   "metadata": {},
   "outputs": [
    {
     "name": "stdout",
     "output_type": "stream",
     "text": [
      "ola\n"
     ]
    }
   ],
   "source": [
    "print('ola')"
   ]
  },
  {
   "cell_type": "code",
   "execution_count": null,
   "id": "dabc4c50",
   "metadata": {},
   "outputs": [],
   "source": []
  }
 ],
 "metadata": {
  "kernelspec": {
   "display_name": "Python 3 (ipykernel)",
   "language": "python",
   "name": "python3"
  },
  "language_info": {
   "codemirror_mode": {
    "name": "ipython",
    "version": 3
   },
   "file_extension": ".py",
   "mimetype": "text/x-python",
   "name": "python",
   "nbconvert_exporter": "python",
   "pygments_lexer": "ipython3",
   "version": "3.9.6"
  }
 },
 "nbformat": 4,
 "nbformat_minor": 5
}
