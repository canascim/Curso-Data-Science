{
 "cells": [
  {
   "cell_type": "code",
   "execution_count": 2,
   "id": "1cd3a8ee",
   "metadata": {},
   "outputs": [],
   "source": [
    "import pandas as pd\n",
    "import numpy as np\n",
    "import matplotlib.pyplot as plt\n",
    "import seaborn as sns\n",
    "import plotly.express as px\n",
    "%matplotlib inline\n",
    "import missingno as msno"
   ]
  },
  {
   "cell_type": "markdown",
   "id": "c65c4ad4",
   "metadata": {},
   "source": [
    "Questão 1\n",
    "Dado o dataset gas.csv, carregue-o em um DataFrame e, em seguida:\n",
    "\n",
    "Visualize suas cinco primeiras linhas e imprima suas colunas.\n",
    "Obtenha a emissão mínima e máxima de gases ao longo de todo o período de observação.\n",
    "Crie uma nova coluna no DataFrame que contenha apenas o ano (como int) presente na coluna DATE.\n",
    "Faça um agrupamento no DataFrame com o intuito de obter qual foi o ano que apresentou, em média, uma emissão máxima de gases.\n",
    "Crie um gráfico de barras que apresente a emissão média de gases entre os anos de 1980 e 2019."
   ]
  },
  {
   "cell_type": "code",
   "execution_count": 286,
   "id": "849ca761",
   "metadata": {},
   "outputs": [
    {
     "data": {
      "text/html": [
       "<div>\n",
       "<style scoped>\n",
       "    .dataframe tbody tr th:only-of-type {\n",
       "        vertical-align: middle;\n",
       "    }\n",
       "\n",
       "    .dataframe tbody tr th {\n",
       "        vertical-align: top;\n",
       "    }\n",
       "\n",
       "    .dataframe thead th {\n",
       "        text-align: right;\n",
       "    }\n",
       "</style>\n",
       "<table border=\"1\" class=\"dataframe\">\n",
       "  <thead>\n",
       "    <tr style=\"text-align: right;\">\n",
       "      <th></th>\n",
       "      <th>DATE</th>\n",
       "      <th>IPG2211A2N</th>\n",
       "    </tr>\n",
       "  </thead>\n",
       "  <tbody>\n",
       "    <tr>\n",
       "      <th>0</th>\n",
       "      <td>1939-01-01</td>\n",
       "      <td>3.3842</td>\n",
       "    </tr>\n",
       "    <tr>\n",
       "      <th>1</th>\n",
       "      <td>1939-02-01</td>\n",
       "      <td>3.4100</td>\n",
       "    </tr>\n",
       "    <tr>\n",
       "      <th>2</th>\n",
       "      <td>1939-03-01</td>\n",
       "      <td>3.4875</td>\n",
       "    </tr>\n",
       "    <tr>\n",
       "      <th>3</th>\n",
       "      <td>1939-04-01</td>\n",
       "      <td>3.5133</td>\n",
       "    </tr>\n",
       "    <tr>\n",
       "      <th>4</th>\n",
       "      <td>1939-05-01</td>\n",
       "      <td>3.5133</td>\n",
       "    </tr>\n",
       "  </tbody>\n",
       "</table>\n",
       "</div>"
      ],
      "text/plain": [
       "         DATE  IPG2211A2N\n",
       "0  1939-01-01      3.3842\n",
       "1  1939-02-01      3.4100\n",
       "2  1939-03-01      3.4875\n",
       "3  1939-04-01      3.5133\n",
       "4  1939-05-01      3.5133"
      ]
     },
     "execution_count": 286,
     "metadata": {},
     "output_type": "execute_result"
    }
   ],
   "source": [
    "#Visualize suas cinco primeiras linhas e imprima suas colunas.\n",
    "df_gas = pd.read_csv('gas.csv')\n",
    "df_gas.head(5)"
   ]
  },
  {
   "cell_type": "code",
   "execution_count": 331,
   "id": "a465a624",
   "metadata": {},
   "outputs": [
    {
     "data": {
      "text/plain": [
       "<AxesSubplot:>"
      ]
     },
     "execution_count": 331,
     "metadata": {},
     "output_type": "execute_result"
    },
    {
     "data": {
      "image/png": "[encoded data removed]",
      "text/plain": [
       "<Figure size 1800x720 with 2 Axes>"
      ]
     },
     "metadata": {
      "needs_background": "light"
     },
     "output_type": "display_data"
    }
   ],
   "source": [
    "msno.matrix(df_gas)"
   ]
  },
  {
   "cell_type": "code",
   "execution_count": 287,
   "id": "9bd6f260",
   "metadata": {},
   "outputs": [
    {
     "data": {
      "text/html": [
       "<div>\n",
       "<style scoped>\n",
       "    .dataframe tbody tr th:only-of-type {\n",
       "        vertical-align: middle;\n",
       "    }\n",
       "\n",
       "    .dataframe tbody tr th {\n",
       "        vertical-align: top;\n",
       "    }\n",
       "\n",
       "    .dataframe thead th {\n",
       "        text-align: right;\n",
       "    }\n",
       "</style>\n",
       "<table border=\"1\" class=\"dataframe\">\n",
       "  <thead>\n",
       "    <tr style=\"text-align: right;\">\n",
       "      <th></th>\n",
       "      <th>DATE</th>\n",
       "      <th>IPG2211A2N</th>\n",
       "    </tr>\n",
       "  </thead>\n",
       "  <tbody>\n",
       "    <tr>\n",
       "      <th>0</th>\n",
       "      <td>1939-01-01</td>\n",
       "      <td>3.3842</td>\n",
       "    </tr>\n",
       "    <tr>\n",
       "      <th>1</th>\n",
       "      <td>1939-02-01</td>\n",
       "      <td>3.4100</td>\n",
       "    </tr>\n",
       "    <tr>\n",
       "      <th>2</th>\n",
       "      <td>1939-03-01</td>\n",
       "      <td>3.4875</td>\n",
       "    </tr>\n",
       "    <tr>\n",
       "      <th>3</th>\n",
       "      <td>1939-04-01</td>\n",
       "      <td>3.5133</td>\n",
       "    </tr>\n",
       "    <tr>\n",
       "      <th>4</th>\n",
       "      <td>1939-05-01</td>\n",
       "      <td>3.5133</td>\n",
       "    </tr>\n",
       "    <tr>\n",
       "      <th>...</th>\n",
       "      <td>...</td>\n",
       "      <td>...</td>\n",
       "    </tr>\n",
       "    <tr>\n",
       "      <th>960</th>\n",
       "      <td>2019-01-01</td>\n",
       "      <td>123.7687</td>\n",
       "    </tr>\n",
       "    <tr>\n",
       "      <th>961</th>\n",
       "      <td>2019-02-01</td>\n",
       "      <td>113.0736</td>\n",
       "    </tr>\n",
       "    <tr>\n",
       "      <th>962</th>\n",
       "      <td>2019-03-01</td>\n",
       "      <td>106.6538</td>\n",
       "    </tr>\n",
       "    <tr>\n",
       "      <th>963</th>\n",
       "      <td>2019-04-01</td>\n",
       "      <td>88.6460</td>\n",
       "    </tr>\n",
       "    <tr>\n",
       "      <th>964</th>\n",
       "      <td>2019-05-01</td>\n",
       "      <td>92.3776</td>\n",
       "    </tr>\n",
       "  </tbody>\n",
       "</table>\n",
       "<p>965 rows × 2 columns</p>\n",
       "</div>"
      ],
      "text/plain": [
       "           DATE  IPG2211A2N\n",
       "0    1939-01-01      3.3842\n",
       "1    1939-02-01      3.4100\n",
       "2    1939-03-01      3.4875\n",
       "3    1939-04-01      3.5133\n",
       "4    1939-05-01      3.5133\n",
       "..          ...         ...\n",
       "960  2019-01-01    123.7687\n",
       "961  2019-02-01    113.0736\n",
       "962  2019-03-01    106.6538\n",
       "963  2019-04-01     88.6460\n",
       "964  2019-05-01     92.3776\n",
       "\n",
       "[965 rows x 2 columns]"
      ]
     },
     "execution_count": 287,
     "metadata": {},
     "output_type": "execute_result"
    }
   ],
   "source": [
    "df_gas"
   ]
  },
  {
   "cell_type": "code",
   "execution_count": 342,
   "id": "fa33b312",
   "metadata": {},
   "outputs": [
    {
     "data": {
      "text/html": [
       "<div>\n",
       "<style scoped>\n",
       "    .dataframe tbody tr th:only-of-type {\n",
       "        vertical-align: middle;\n",
       "    }\n",
       "\n",
       "    .dataframe tbody tr th {\n",
       "        vertical-align: top;\n",
       "    }\n",
       "\n",
       "    .dataframe thead th {\n",
       "        text-align: right;\n",
       "    }\n",
       "</style>\n",
       "<table border=\"1\" class=\"dataframe\">\n",
       "  <thead>\n",
       "    <tr style=\"text-align: right;\">\n",
       "      <th></th>\n",
       "      <th>DATE</th>\n",
       "      <th>IPG2211A2N</th>\n",
       "      <th>ano</th>\n",
       "      <th>ano_int</th>\n",
       "    </tr>\n",
       "  </thead>\n",
       "  <tbody>\n",
       "  </tbody>\n",
       "</table>\n",
       "</div>"
      ],
      "text/plain": [
       "Empty DataFrame\n",
       "Columns: [DATE, IPG2211A2N, ano, ano_int]\n",
       "Index: []"
      ]
     },
     "execution_count": 342,
     "metadata": {},
     "output_type": "execute_result"
    }
   ],
   "source": [
    "df_gas[df_gas.duplicated('DATE')]"
   ]
  },
  {
   "cell_type": "code",
   "execution_count": 343,
   "id": "77934960",
   "metadata": {},
   "outputs": [
    {
     "data": {
      "text/plain": [
       "DATE          2019-05-01\n",
       "IPG2211A2N      128.9071\n",
       "ano                 2019\n",
       "ano_int             2019\n",
       "dtype: object"
      ]
     },
     "execution_count": 343,
     "metadata": {},
     "output_type": "execute_result"
    }
   ],
   "source": [
    "#Obtenha a emissão mínima e máxima de gases ao longo de todo o período de observação.\n",
    "df_gas.max()"
   ]
  },
  {
   "cell_type": "code",
   "execution_count": 344,
   "id": "a9cb95a1",
   "metadata": {},
   "outputs": [
    {
     "data": {
      "text/plain": [
       "DATE          1939-01-01\n",
       "IPG2211A2N        3.3842\n",
       "ano                 1939\n",
       "ano_int             1939\n",
       "dtype: object"
      ]
     },
     "execution_count": 344,
     "metadata": {},
     "output_type": "execute_result"
    }
   ],
   "source": [
    "df_gas.min()"
   ]
  },
  {
   "cell_type": "code",
   "execution_count": 345,
   "id": "d52a73b4",
   "metadata": {},
   "outputs": [
    {
     "name": "stdout",
     "output_type": "stream",
     "text": [
      "<class 'pandas.core.frame.DataFrame'>\n",
      "RangeIndex: 965 entries, 0 to 964\n",
      "Data columns (total 4 columns):\n",
      " #   Column      Non-Null Count  Dtype  \n",
      "---  ------      --------------  -----  \n",
      " 0   DATE        965 non-null    object \n",
      " 1   IPG2211A2N  965 non-null    float64\n",
      " 2   ano         965 non-null    object \n",
      " 3   ano_int     965 non-null    int32  \n",
      "dtypes: float64(1), int32(1), object(2)\n",
      "memory usage: 26.5+ KB\n"
     ]
    }
   ],
   "source": [
    "#Crie uma nova coluna no DataFrame que contenha apenas o ano (como int) presente na coluna DATE.\n",
    "df_gas.info()"
   ]
  },
  {
   "cell_type": "code",
   "execution_count": 346,
   "id": "6b074d6b",
   "metadata": {},
   "outputs": [],
   "source": [
    "df_gas['ano'] = df_gas['DATE'].str.split('-').str.get(0)"
   ]
  },
  {
   "cell_type": "code",
   "execution_count": 347,
   "id": "ffbfffc4",
   "metadata": {},
   "outputs": [
    {
     "data": {
      "text/html": [
       "<div>\n",
       "<style scoped>\n",
       "    .dataframe tbody tr th:only-of-type {\n",
       "        vertical-align: middle;\n",
       "    }\n",
       "\n",
       "    .dataframe tbody tr th {\n",
       "        vertical-align: top;\n",
       "    }\n",
       "\n",
       "    .dataframe thead th {\n",
       "        text-align: right;\n",
       "    }\n",
       "</style>\n",
       "<table border=\"1\" class=\"dataframe\">\n",
       "  <thead>\n",
       "    <tr style=\"text-align: right;\">\n",
       "      <th></th>\n",
       "      <th>DATE</th>\n",
       "      <th>IPG2211A2N</th>\n",
       "      <th>ano</th>\n",
       "      <th>ano_int</th>\n",
       "    </tr>\n",
       "  </thead>\n",
       "  <tbody>\n",
       "    <tr>\n",
       "      <th>0</th>\n",
       "      <td>1939-01-01</td>\n",
       "      <td>3.3842</td>\n",
       "      <td>1939</td>\n",
       "      <td>1939</td>\n",
       "    </tr>\n",
       "    <tr>\n",
       "      <th>1</th>\n",
       "      <td>1939-02-01</td>\n",
       "      <td>3.4100</td>\n",
       "      <td>1939</td>\n",
       "      <td>1939</td>\n",
       "    </tr>\n",
       "    <tr>\n",
       "      <th>2</th>\n",
       "      <td>1939-03-01</td>\n",
       "      <td>3.4875</td>\n",
       "      <td>1939</td>\n",
       "      <td>1939</td>\n",
       "    </tr>\n",
       "    <tr>\n",
       "      <th>3</th>\n",
       "      <td>1939-04-01</td>\n",
       "      <td>3.5133</td>\n",
       "      <td>1939</td>\n",
       "      <td>1939</td>\n",
       "    </tr>\n",
       "    <tr>\n",
       "      <th>4</th>\n",
       "      <td>1939-05-01</td>\n",
       "      <td>3.5133</td>\n",
       "      <td>1939</td>\n",
       "      <td>1939</td>\n",
       "    </tr>\n",
       "    <tr>\n",
       "      <th>...</th>\n",
       "      <td>...</td>\n",
       "      <td>...</td>\n",
       "      <td>...</td>\n",
       "      <td>...</td>\n",
       "    </tr>\n",
       "    <tr>\n",
       "      <th>960</th>\n",
       "      <td>2019-01-01</td>\n",
       "      <td>123.7687</td>\n",
       "      <td>2019</td>\n",
       "      <td>2019</td>\n",
       "    </tr>\n",
       "    <tr>\n",
       "      <th>961</th>\n",
       "      <td>2019-02-01</td>\n",
       "      <td>113.0736</td>\n",
       "      <td>2019</td>\n",
       "      <td>2019</td>\n",
       "    </tr>\n",
       "    <tr>\n",
       "      <th>962</th>\n",
       "      <td>2019-03-01</td>\n",
       "      <td>106.6538</td>\n",
       "      <td>2019</td>\n",
       "      <td>2019</td>\n",
       "    </tr>\n",
       "    <tr>\n",
       "      <th>963</th>\n",
       "      <td>2019-04-01</td>\n",
       "      <td>88.6460</td>\n",
       "      <td>2019</td>\n",
       "      <td>2019</td>\n",
       "    </tr>\n",
       "    <tr>\n",
       "      <th>964</th>\n",
       "      <td>2019-05-01</td>\n",
       "      <td>92.3776</td>\n",
       "      <td>2019</td>\n",
       "      <td>2019</td>\n",
       "    </tr>\n",
       "  </tbody>\n",
       "</table>\n",
       "<p>965 rows × 4 columns</p>\n",
       "</div>"
      ],
      "text/plain": [
       "           DATE  IPG2211A2N   ano  ano_int\n",
       "0    1939-01-01      3.3842  1939     1939\n",
       "1    1939-02-01      3.4100  1939     1939\n",
       "2    1939-03-01      3.4875  1939     1939\n",
       "3    1939-04-01      3.5133  1939     1939\n",
       "4    1939-05-01      3.5133  1939     1939\n",
       "..          ...         ...   ...      ...\n",
       "960  2019-01-01    123.7687  2019     2019\n",
       "961  2019-02-01    113.0736  2019     2019\n",
       "962  2019-03-01    106.6538  2019     2019\n",
       "963  2019-04-01     88.6460  2019     2019\n",
       "964  2019-05-01     92.3776  2019     2019\n",
       "\n",
       "[965 rows x 4 columns]"
      ]
     },
     "execution_count": 347,
     "metadata": {},
     "output_type": "execute_result"
    }
   ],
   "source": [
    "df_gas"
   ]
  },
  {
   "cell_type": "code",
   "execution_count": 348,
   "id": "4522eb19",
   "metadata": {},
   "outputs": [],
   "source": [
    "df_gas['ano_int'] = df_gas['ano'].astype('int')"
   ]
  },
  {
   "cell_type": "code",
   "execution_count": 349,
   "id": "c2adeb42",
   "metadata": {},
   "outputs": [
    {
     "name": "stdout",
     "output_type": "stream",
     "text": [
      "<class 'pandas.core.frame.DataFrame'>\n",
      "RangeIndex: 965 entries, 0 to 964\n",
      "Data columns (total 4 columns):\n",
      " #   Column      Non-Null Count  Dtype  \n",
      "---  ------      --------------  -----  \n",
      " 0   DATE        965 non-null    object \n",
      " 1   IPG2211A2N  965 non-null    float64\n",
      " 2   ano         965 non-null    object \n",
      " 3   ano_int     965 non-null    int32  \n",
      "dtypes: float64(1), int32(1), object(2)\n",
      "memory usage: 26.5+ KB\n"
     ]
    }
   ],
   "source": [
    "df_gas.info()"
   ]
  },
  {
   "cell_type": "code",
   "execution_count": 350,
   "id": "9f2fd20c",
   "metadata": {},
   "outputs": [
    {
     "data": {
      "text/plain": [
       "[ano_int\n",
       " 2018    105.929333\n",
       " 2019    104.903940\n",
       " 2014    103.507850\n",
       " 2010    102.757867\n",
       " 2015    102.741442\n",
       "            ...    \n",
       " 1943      5.530525\n",
       " 1942      5.005225\n",
       " 1941      4.456242\n",
       " 1940      3.950358\n",
       " 1939      3.582217\n",
       " Name: IPG2211A2N, Length: 81, dtype: float64]"
      ]
     },
     "execution_count": 350,
     "metadata": {},
     "output_type": "execute_result"
    }
   ],
   "source": [
    "#Faça um agrupamento no DataFrame com o intuito de obter qual foi o ano que apresentou, em média, uma emissão máxima de gases.\n",
    "\n",
    "[df_gas.groupby('ano_int')['IPG2211A2N'].mean().sort_values(ascending=False)]"
   ]
  },
  {
   "cell_type": "code",
   "execution_count": null,
   "id": "ebe6fdbf",
   "metadata": {},
   "outputs": [],
   "source": [
    "#Crie um gráfico de barras que apresente a emissão média de gases entre os anos de 1980 e 2019."
   ]
  },
  {
   "cell_type": "code",
   "execution_count": 351,
   "id": "65b35318",
   "metadata": {},
   "outputs": [
    {
     "data": {
      "text/plain": [
       "ano_int\n",
       "2018    105.929333\n",
       "2019    104.903940\n",
       "2014    103.507850\n",
       "2010    102.757867\n",
       "2015    102.741442\n",
       "           ...    \n",
       "1943      5.530525\n",
       "1942      5.005225\n",
       "1941      4.456242\n",
       "1940      3.950358\n",
       "1939      3.582217\n",
       "Name: IPG2211A2N, Length: 81, dtype: float64"
      ]
     },
     "execution_count": 351,
     "metadata": {},
     "output_type": "execute_result"
    }
   ],
   "source": [
    "df_gas.groupby('ano_int')['IPG2211A2N'].mean().sort_values(ascending=False)"
   ]
  },
  {
   "cell_type": "code",
   "execution_count": 352,
   "id": "7b9f04c6",
   "metadata": {},
   "outputs": [
    {
     "data": {
      "text/plain": [
       "ano_int\n",
       "1939      3.582217\n",
       "1940      3.950358\n",
       "1941      4.456242\n",
       "1942      5.005225\n",
       "1943      5.530525\n",
       "           ...    \n",
       "2015    102.741442\n",
       "2016    102.296433\n",
       "2017    101.516308\n",
       "2018    105.929333\n",
       "2019    104.903940\n",
       "Name: IPG2211A2N, Length: 81, dtype: float64"
      ]
     },
     "execution_count": 352,
     "metadata": {},
     "output_type": "execute_result"
    }
   ],
   "source": [
    "df_gas.groupby('ano_int')['IPG2211A2N'].mean()"
   ]
  },
  {
   "cell_type": "code",
   "execution_count": 353,
   "id": "f5ae0753",
   "metadata": {},
   "outputs": [
    {
     "data": {
      "text/html": [
       "<div>\n",
       "<style scoped>\n",
       "    .dataframe tbody tr th:only-of-type {\n",
       "        vertical-align: middle;\n",
       "    }\n",
       "\n",
       "    .dataframe tbody tr th {\n",
       "        vertical-align: top;\n",
       "    }\n",
       "\n",
       "    .dataframe thead th {\n",
       "        text-align: right;\n",
       "    }\n",
       "</style>\n",
       "<table border=\"1\" class=\"dataframe\">\n",
       "  <thead>\n",
       "    <tr style=\"text-align: right;\">\n",
       "      <th></th>\n",
       "      <th>DATE</th>\n",
       "      <th>IPG2211A2N</th>\n",
       "      <th>ano</th>\n",
       "      <th>ano_int</th>\n",
       "    </tr>\n",
       "  </thead>\n",
       "  <tbody>\n",
       "    <tr>\n",
       "      <th>504</th>\n",
       "      <td>1981-01-01</td>\n",
       "      <td>69.2715</td>\n",
       "      <td>1981</td>\n",
       "      <td>1981</td>\n",
       "    </tr>\n",
       "    <tr>\n",
       "      <th>505</th>\n",
       "      <td>1981-02-01</td>\n",
       "      <td>63.6341</td>\n",
       "      <td>1981</td>\n",
       "      <td>1981</td>\n",
       "    </tr>\n",
       "    <tr>\n",
       "      <th>506</th>\n",
       "      <td>1981-03-01</td>\n",
       "      <td>60.1027</td>\n",
       "      <td>1981</td>\n",
       "      <td>1981</td>\n",
       "    </tr>\n",
       "    <tr>\n",
       "      <th>507</th>\n",
       "      <td>1981-04-01</td>\n",
       "      <td>54.1446</td>\n",
       "      <td>1981</td>\n",
       "      <td>1981</td>\n",
       "    </tr>\n",
       "    <tr>\n",
       "      <th>508</th>\n",
       "      <td>1981-05-01</td>\n",
       "      <td>52.2484</td>\n",
       "      <td>1981</td>\n",
       "      <td>1981</td>\n",
       "    </tr>\n",
       "    <tr>\n",
       "      <th>...</th>\n",
       "      <td>...</td>\n",
       "      <td>...</td>\n",
       "      <td>...</td>\n",
       "      <td>...</td>\n",
       "    </tr>\n",
       "    <tr>\n",
       "      <th>955</th>\n",
       "      <td>2018-08-01</td>\n",
       "      <td>113.2758</td>\n",
       "      <td>2018</td>\n",
       "      <td>2018</td>\n",
       "    </tr>\n",
       "    <tr>\n",
       "      <th>956</th>\n",
       "      <td>2018-09-01</td>\n",
       "      <td>101.5656</td>\n",
       "      <td>2018</td>\n",
       "      <td>2018</td>\n",
       "    </tr>\n",
       "    <tr>\n",
       "      <th>957</th>\n",
       "      <td>2018-10-01</td>\n",
       "      <td>95.3203</td>\n",
       "      <td>2018</td>\n",
       "      <td>2018</td>\n",
       "    </tr>\n",
       "    <tr>\n",
       "      <th>958</th>\n",
       "      <td>2018-11-01</td>\n",
       "      <td>103.5750</td>\n",
       "      <td>2018</td>\n",
       "      <td>2018</td>\n",
       "    </tr>\n",
       "    <tr>\n",
       "      <th>959</th>\n",
       "      <td>2018-12-01</td>\n",
       "      <td>112.9498</td>\n",
       "      <td>2018</td>\n",
       "      <td>2018</td>\n",
       "    </tr>\n",
       "  </tbody>\n",
       "</table>\n",
       "<p>456 rows × 4 columns</p>\n",
       "</div>"
      ],
      "text/plain": [
       "           DATE  IPG2211A2N   ano  ano_int\n",
       "504  1981-01-01     69.2715  1981     1981\n",
       "505  1981-02-01     63.6341  1981     1981\n",
       "506  1981-03-01     60.1027  1981     1981\n",
       "507  1981-04-01     54.1446  1981     1981\n",
       "508  1981-05-01     52.2484  1981     1981\n",
       "..          ...         ...   ...      ...\n",
       "955  2018-08-01    113.2758  2018     2018\n",
       "956  2018-09-01    101.5656  2018     2018\n",
       "957  2018-10-01     95.3203  2018     2018\n",
       "958  2018-11-01    103.5750  2018     2018\n",
       "959  2018-12-01    112.9498  2018     2018\n",
       "\n",
       "[456 rows x 4 columns]"
      ]
     },
     "execution_count": 353,
     "metadata": {},
     "output_type": "execute_result"
    }
   ],
   "source": [
    "(df_gas[df_gas['IPG2211A2N'].mean() and ((df_gas['ano_int'] > 1980) & (df_gas['ano_int'] < 2019))])"
   ]
  },
  {
   "cell_type": "code",
   "execution_count": 354,
   "id": "9b374bb7",
   "metadata": {},
   "outputs": [
    {
     "data": {
      "text/html": [
       "<div>\n",
       "<style scoped>\n",
       "    .dataframe tbody tr th:only-of-type {\n",
       "        vertical-align: middle;\n",
       "    }\n",
       "\n",
       "    .dataframe tbody tr th {\n",
       "        vertical-align: top;\n",
       "    }\n",
       "\n",
       "    .dataframe thead th {\n",
       "        text-align: right;\n",
       "    }\n",
       "</style>\n",
       "<table border=\"1\" class=\"dataframe\">\n",
       "  <thead>\n",
       "    <tr style=\"text-align: right;\">\n",
       "      <th></th>\n",
       "      <th>DATE</th>\n",
       "      <th>IPG2211A2N</th>\n",
       "      <th>ano</th>\n",
       "      <th>ano_int</th>\n",
       "    </tr>\n",
       "  </thead>\n",
       "  <tbody>\n",
       "    <tr>\n",
       "      <th>504</th>\n",
       "      <td>1981-01-01</td>\n",
       "      <td>69.2715</td>\n",
       "      <td>1981</td>\n",
       "      <td>1981</td>\n",
       "    </tr>\n",
       "    <tr>\n",
       "      <th>505</th>\n",
       "      <td>1981-02-01</td>\n",
       "      <td>63.6341</td>\n",
       "      <td>1981</td>\n",
       "      <td>1981</td>\n",
       "    </tr>\n",
       "    <tr>\n",
       "      <th>506</th>\n",
       "      <td>1981-03-01</td>\n",
       "      <td>60.1027</td>\n",
       "      <td>1981</td>\n",
       "      <td>1981</td>\n",
       "    </tr>\n",
       "    <tr>\n",
       "      <th>507</th>\n",
       "      <td>1981-04-01</td>\n",
       "      <td>54.1446</td>\n",
       "      <td>1981</td>\n",
       "      <td>1981</td>\n",
       "    </tr>\n",
       "    <tr>\n",
       "      <th>508</th>\n",
       "      <td>1981-05-01</td>\n",
       "      <td>52.2484</td>\n",
       "      <td>1981</td>\n",
       "      <td>1981</td>\n",
       "    </tr>\n",
       "    <tr>\n",
       "      <th>...</th>\n",
       "      <td>...</td>\n",
       "      <td>...</td>\n",
       "      <td>...</td>\n",
       "      <td>...</td>\n",
       "    </tr>\n",
       "    <tr>\n",
       "      <th>955</th>\n",
       "      <td>2018-08-01</td>\n",
       "      <td>113.2758</td>\n",
       "      <td>2018</td>\n",
       "      <td>2018</td>\n",
       "    </tr>\n",
       "    <tr>\n",
       "      <th>956</th>\n",
       "      <td>2018-09-01</td>\n",
       "      <td>101.5656</td>\n",
       "      <td>2018</td>\n",
       "      <td>2018</td>\n",
       "    </tr>\n",
       "    <tr>\n",
       "      <th>957</th>\n",
       "      <td>2018-10-01</td>\n",
       "      <td>95.3203</td>\n",
       "      <td>2018</td>\n",
       "      <td>2018</td>\n",
       "    </tr>\n",
       "    <tr>\n",
       "      <th>958</th>\n",
       "      <td>2018-11-01</td>\n",
       "      <td>103.5750</td>\n",
       "      <td>2018</td>\n",
       "      <td>2018</td>\n",
       "    </tr>\n",
       "    <tr>\n",
       "      <th>959</th>\n",
       "      <td>2018-12-01</td>\n",
       "      <td>112.9498</td>\n",
       "      <td>2018</td>\n",
       "      <td>2018</td>\n",
       "    </tr>\n",
       "  </tbody>\n",
       "</table>\n",
       "<p>456 rows × 4 columns</p>\n",
       "</div>"
      ],
      "text/plain": [
       "           DATE  IPG2211A2N   ano  ano_int\n",
       "504  1981-01-01     69.2715  1981     1981\n",
       "505  1981-02-01     63.6341  1981     1981\n",
       "506  1981-03-01     60.1027  1981     1981\n",
       "507  1981-04-01     54.1446  1981     1981\n",
       "508  1981-05-01     52.2484  1981     1981\n",
       "..          ...         ...   ...      ...\n",
       "955  2018-08-01    113.2758  2018     2018\n",
       "956  2018-09-01    101.5656  2018     2018\n",
       "957  2018-10-01     95.3203  2018     2018\n",
       "958  2018-11-01    103.5750  2018     2018\n",
       "959  2018-12-01    112.9498  2018     2018\n",
       "\n",
       "[456 rows x 4 columns]"
      ]
     },
     "execution_count": 354,
     "metadata": {},
     "output_type": "execute_result"
    }
   ],
   "source": [
    "df_gas_1980_2019 = (df_gas[df_gas['IPG2211A2N'].mean() and ((df_gas['ano_int'] > 1980) & (df_gas['ano_int'] < 2019))])\n",
    "df_gas_1980_2019"
   ]
  },
  {
   "cell_type": "code",
   "execution_count": 355,
   "id": "393c7014",
   "metadata": {},
   "outputs": [
    {
     "data": {
      "text/plain": [
       "ano_int\n",
       "1981     58.948483\n",
       "1982     56.980392\n",
       "1983     57.401850\n",
       "1984     60.807350\n",
       "1985     62.316367\n",
       "1986     62.873992\n",
       "1987     65.911900\n",
       "1988     69.902892\n",
       "1989     72.088675\n",
       "1990     73.530758\n",
       "1991     75.345025\n",
       "1992     75.346367\n",
       "1993     77.906133\n",
       "1994     79.488975\n",
       "1995     82.311408\n",
       "1996     84.642417\n",
       "1997     84.487450\n",
       "1998     86.798358\n",
       "1999     89.457433\n",
       "2000     92.027008\n",
       "2001     91.696283\n",
       "2002     94.367975\n",
       "2003     95.967900\n",
       "2004     97.391417\n",
       "2005     99.505958\n",
       "2006     99.165692\n",
       "2007    102.280083\n",
       "2008    101.928092\n",
       "2009     99.029517\n",
       "2010    102.757867\n",
       "2011    102.373875\n",
       "2012     99.999983\n",
       "2013    102.204350\n",
       "2014    103.507850\n",
       "2015    102.741442\n",
       "2016    102.296433\n",
       "2017    101.516308\n",
       "2018    105.929333\n",
       "Name: IPG2211A2N, dtype: float64"
      ]
     },
     "execution_count": 355,
     "metadata": {},
     "output_type": "execute_result"
    }
   ],
   "source": [
    "df_gas_1980_2019.groupby('ano_int')['IPG2211A2N'].mean()"
   ]
  },
  {
   "cell_type": "code",
   "execution_count": 356,
   "id": "f47d9d48",
   "metadata": {},
   "outputs": [
    {
     "data": {
      "text/plain": [
       "Int64Index([1981, 1982, 1983, 1984, 1985, 1986, 1987, 1988, 1989, 1990, 1991,\n",
       "            1992, 1993, 1994, 1995, 1996, 1997, 1998, 1999, 2000, 2001, 2002,\n",
       "            2003, 2004, 2005, 2006, 2007, 2008, 2009, 2010, 2011, 2012, 2013,\n",
       "            2014, 2015, 2016, 2017, 2018],\n",
       "           dtype='int64', name='ano_int')"
      ]
     },
     "execution_count": 356,
     "metadata": {},
     "output_type": "execute_result"
    }
   ],
   "source": [
    "df_gas_1980_2019.groupby('ano_int')['IPG2211A2N'].mean().index"
   ]
  },
  {
   "cell_type": "code",
   "execution_count": 357,
   "id": "706c74ab",
   "metadata": {},
   "outputs": [
    {
     "data": {
      "text/plain": [
       "array([ 58.94848333,  56.98039167,  57.40185   ,  60.80735   ,\n",
       "        62.31636667,  62.87399167,  65.9119    ,  69.90289167,\n",
       "        72.088675  ,  73.53075833,  75.345025  ,  75.34636667,\n",
       "        77.90613333,  79.488975  ,  82.31140833,  84.64241667,\n",
       "        84.48745   ,  86.79835833,  89.45743333,  92.02700833,\n",
       "        91.69628333,  94.367975  ,  95.9679    ,  97.39141667,\n",
       "        99.50595833,  99.16569167, 102.28008333, 101.92809167,\n",
       "        99.02951667, 102.75786667, 102.373875  ,  99.99998333,\n",
       "       102.20435   , 103.50785   , 102.74144167, 102.29643333,\n",
       "       101.51630833, 105.92933333])"
      ]
     },
     "execution_count": 357,
     "metadata": {},
     "output_type": "execute_result"
    }
   ],
   "source": [
    "df_gas_1980_2019.groupby('ano_int')['IPG2211A2N'].mean().values"
   ]
  },
  {
   "cell_type": "code",
   "execution_count": 358,
   "id": "e0024ca4",
   "metadata": {},
   "outputs": [
    {
     "data": {
      "text/plain": [
       "Int64Index([1981, 1982, 1983, 1984, 1985, 1986, 1987, 1988, 1989, 1990, 1991,\n",
       "            1992, 1993, 1994, 1995, 1996, 1997, 1998, 1999, 2000, 2001, 2002,\n",
       "            2003, 2004, 2005, 2006, 2007, 2008, 2009, 2010, 2011, 2012, 2013,\n",
       "            2014, 2015, 2016, 2017, 2018],\n",
       "           dtype='int64', name='ano_int')"
      ]
     },
     "execution_count": 358,
     "metadata": {},
     "output_type": "execute_result"
    }
   ],
   "source": [
    "x = df_gas_1980_2019.groupby('ano_int')['IPG2211A2N'].mean().index\n",
    "x"
   ]
  },
  {
   "cell_type": "code",
   "execution_count": 359,
   "id": "a883a747",
   "metadata": {},
   "outputs": [
    {
     "data": {
      "text/plain": [
       "array([ 58.94848333,  56.98039167,  57.40185   ,  60.80735   ,\n",
       "        62.31636667,  62.87399167,  65.9119    ,  69.90289167,\n",
       "        72.088675  ,  73.53075833,  75.345025  ,  75.34636667,\n",
       "        77.90613333,  79.488975  ,  82.31140833,  84.64241667,\n",
       "        84.48745   ,  86.79835833,  89.45743333,  92.02700833,\n",
       "        91.69628333,  94.367975  ,  95.9679    ,  97.39141667,\n",
       "        99.50595833,  99.16569167, 102.28008333, 101.92809167,\n",
       "        99.02951667, 102.75786667, 102.373875  ,  99.99998333,\n",
       "       102.20435   , 103.50785   , 102.74144167, 102.29643333,\n",
       "       101.51630833, 105.92933333])"
      ]
     },
     "execution_count": 359,
     "metadata": {},
     "output_type": "execute_result"
    }
   ],
   "source": [
    "y= df_gas_1980_2019.groupby('ano_int')['IPG2211A2N'].mean().values\n",
    "y"
   ]
  },
  {
   "cell_type": "code",
   "execution_count": 360,
   "id": "a4286ca1",
   "metadata": {},
   "outputs": [
    {
     "data": {
      "application/vnd.plotly.v1+json": {
       "config": {
        "plotlyServerURL": "https://plot.ly"
       },
       "data": [
        {
         "alignmentgroup": "True",
         "hovertemplate": "x=%{x}<br>y=%{y}<extra></extra>",
         "legendgroup": "",
         "marker": {
          "color": [
           "purple",
           "red",
           "green",
           "blue",
           "yellow",
           "brown",
           "silver",
           "gold",
           "white",
           "purple",
           "red",
           "green",
           "blue",
           "yellow",
           "brown",
           "silver",
           "gold",
           "white",
           "purple",
           "red",
           "green",
           "blue",
           "yellow",
           "brown",
           "silver",
           "gold",
           "white",
           "purple",
           "red",
           "green",
           "blue",
           "yellow",
           "brown",
           "silver",
           "gold",
           "white",
           "purple",
           "red"
          ],
          "pattern": {
           "shape": ""
          }
         },
         "name": "",
         "offsetgroup": "",
         "orientation": "v",
         "showlegend": false,
         "textposition": "auto",
         "type": "bar",
         "x": [
          1981,
          1982,
          1983,
          1984,
          1985,
          1986,
          1987,
          1988,
          1989,
          1990,
          1991,
          1992,
          1993,
          1994,
          1995,
          1996,
          1997,
          1998,
          1999,
          2000,
          2001,
          2002,
          2003,
          2004,
          2005,
          2006,
          2007,
          2008,
          2009,
          2010,
          2011,
          2012,
          2013,
          2014,
          2015,
          2016,
          2017,
          2018
         ],
         "xaxis": "x",
         "y": [
          58.948483333333336,
          56.98039166666667,
          57.401849999999996,
          60.80735000000001,
          62.31636666666666,
          62.87399166666666,
          65.9119,
          69.90289166666666,
          72.088675,
          73.53075833333334,
          75.345025,
          75.34636666666667,
          77.90613333333333,
          79.488975,
          82.31140833333333,
          84.64241666666668,
          84.48745,
          86.79835833333334,
          89.45743333333333,
          92.02700833333334,
          91.69628333333333,
          94.367975,
          95.9679,
          97.39141666666667,
          99.50595833333334,
          99.16569166666666,
          102.28008333333332,
          101.92809166666666,
          99.02951666666667,
          102.75786666666666,
          102.373875,
          99.99998333333333,
          102.20434999999999,
          103.50785,
          102.74144166666667,
          102.29643333333333,
          101.51630833333333,
          105.92933333333333
         ],
         "yaxis": "y"
        }
       ],
       "layout": {
        "bargap": 0.5,
        "barmode": "relative",
        "height": 500,
        "legend": {
         "tracegroupgap": 0
        },
        "margin": {
         "t": 60
        },
        "template": {
         "data": {
          "bar": [
           {
            "error_x": {
             "color": "#2a3f5f"
            },
            "error_y": {
             "color": "#2a3f5f"
            },
            "marker": {
             "line": {
              "color": "#E5ECF6",
              "width": 0.5
             },
             "pattern": {
              "fillmode": "overlay",
              "size": 10,
              "solidity": 0.2
             }
            },
            "type": "bar"
           }
          ],
          "barpolar": [
           {
            "marker": {
             "line": {
              "color": "#E5ECF6",
              "width": 0.5
             },
             "pattern": {
              "fillmode": "overlay",
              "size": 10,
              "solidity": 0.2
             }
            },
            "type": "barpolar"
           }
          ],
          "carpet": [
           {
            "aaxis": {
             "endlinecolor": "#2a3f5f",
             "gridcolor": "white",
             "linecolor": "white",
             "minorgridcolor": "white",
             "startlinecolor": "#2a3f5f"
            },
            "baxis": {
             "endlinecolor": "#2a3f5f",
             "gridcolor": "white",
             "linecolor": "white",
             "minorgridcolor": "white",
             "startlinecolor": "#2a3f5f"
            },
            "type": "carpet"
           }
          ],
          "choropleth": [
           {
            "colorbar": {
             "outlinewidth": 0,
             "ticks": ""
            },
            "type": "choropleth"
           }
          ],
          "contour": [
           {
            "colorbar": {
             "outlinewidth": 0,
             "ticks": ""
            },
            "colorscale": [
             [
              0,
              "#0d0887"
             ],
             [
              0.1111111111111111,
              "#46039f"
             ],
             [
              0.2222222222222222,
              "#7201a8"
             ],
             [
              0.3333333333333333,
              "#9c179e"
             ],
             [
              0.4444444444444444,
              "#bd3786"
             ],
             [
              0.5555555555555556,
              "#d8576b"
             ],
             [
              0.6666666666666666,
              "#ed7953"
             ],
             [
              0.7777777777777778,
              "#fb9f3a"
             ],
             [
              0.8888888888888888,
              "#fdca26"
             ],
             [
              1,
              "#f0f921"
             ]
            ],
            "type": "contour"
           }
          ],
          "contourcarpet": [
           {
            "colorbar": {
             "outlinewidth": 0,
             "ticks": ""
            },
            "type": "contourcarpet"
           }
          ],
          "heatmap": [
           {
            "colorbar": {
             "outlinewidth": 0,
             "ticks": ""
            },
            "colorscale": [
             [
              0,
              "#0d0887"
             ],
             [
              0.1111111111111111,
              "#46039f"
             ],
             [
              0.2222222222222222,
              "#7201a8"
             ],
             [
              0.3333333333333333,
              "#9c179e"
             ],
             [
              0.4444444444444444,
              "#bd3786"
             ],
             [
              0.5555555555555556,
              "#d8576b"
             ],
             [
              0.6666666666666666,
              "#ed7953"
             ],
             [
              0.7777777777777778,
              "#fb9f3a"
             ],
             [
              0.8888888888888888,
              "#fdca26"
             ],
             [
              1,
              "#f0f921"
             ]
            ],
            "type": "heatmap"
           }
          ],
          "heatmapgl": [
           {
            "colorbar": {
             "outlinewidth": 0,
             "ticks": ""
            },
            "colorscale": [
             [
              0,
              "#0d0887"
             ],
             [
              0.1111111111111111,
              "#46039f"
             ],
             [
              0.2222222222222222,
              "#7201a8"
             ],
             [
              0.3333333333333333,
              "#9c179e"
             ],
             [
              0.4444444444444444,
              "#bd3786"
             ],
             [
              0.5555555555555556,
              "#d8576b"
             ],
             [
              0.6666666666666666,
              "#ed7953"
             ],
             [
              0.7777777777777778,
              "#fb9f3a"
             ],
             [
              0.8888888888888888,
              "#fdca26"
             ],
             [
              1,
              "#f0f921"
             ]
            ],
            "type": "heatmapgl"
           }
          ],
          "histogram": [
           {
            "marker": {
             "pattern": {
              "fillmode": "overlay",
              "size": 10,
              "solidity": 0.2
             }
            },
            "type": "histogram"
           }
          ],
          "histogram2d": [
           {
            "colorbar": {
             "outlinewidth": 0,
             "ticks": ""
            },
            "colorscale": [
             [
              0,
              "#0d0887"
             ],
             [
              0.1111111111111111,
              "#46039f"
             ],
             [
              0.2222222222222222,
              "#7201a8"
             ],
             [
              0.3333333333333333,
              "#9c179e"
             ],
             [
              0.4444444444444444,
              "#bd3786"
             ],
             [
              0.5555555555555556,
              "#d8576b"
             ],
             [
              0.6666666666666666,
              "#ed7953"
             ],
             [
              0.7777777777777778,
              "#fb9f3a"
             ],
             [
              0.8888888888888888,
              "#fdca26"
             ],
             [
              1,
              "#f0f921"
             ]
            ],
            "type": "histogram2d"
           }
          ],
          "histogram2dcontour": [
           {
            "colorbar": {
             "outlinewidth": 0,
             "ticks": ""
            },
            "colorscale": [
             [
              0,
              "#0d0887"
             ],
             [
              0.1111111111111111,
              "#46039f"
             ],
             [
              0.2222222222222222,
              "#7201a8"
             ],
             [
              0.3333333333333333,
              "#9c179e"
             ],
             [
              0.4444444444444444,
              "#bd3786"
             ],
             [
              0.5555555555555556,
              "#d8576b"
             ],
             [
              0.6666666666666666,
              "#ed7953"
             ],
             [
              0.7777777777777778,
              "#fb9f3a"
             ],
             [
              0.8888888888888888,
              "#fdca26"
             ],
             [
              1,
              "#f0f921"
             ]
            ],
            "type": "histogram2dcontour"
           }
          ],
          "mesh3d": [
           {
            "colorbar": {
             "outlinewidth": 0,
             "ticks": ""
            },
            "type": "mesh3d"
           }
          ],
          "parcoords": [
           {
            "line": {
             "colorbar": {
              "outlinewidth": 0,
              "ticks": ""
             }
            },
            "type": "parcoords"
           }
          ],
          "pie": [
           {
            "automargin": true,
            "type": "pie"
           }
          ],
          "scatter": [
           {
            "marker": {
             "colorbar": {
              "outlinewidth": 0,
              "ticks": ""
             }
            },
            "type": "scatter"
           }
          ],
          "scatter3d": [
           {
            "line": {
             "colorbar": {
              "outlinewidth": 0,
              "ticks": ""
             }
            },
            "marker": {
             "colorbar": {
              "outlinewidth": 0,
              "ticks": ""
             }
            },
            "type": "scatter3d"
           }
          ],
          "scattercarpet": [
           {
            "marker": {
             "colorbar": {
              "outlinewidth": 0,
              "ticks": ""
             }
            },
            "type": "scattercarpet"
           }
          ],
          "scattergeo": [
           {
            "marker": {
             "colorbar": {
              "outlinewidth": 0,
              "ticks": ""
             }
            },
            "type": "scattergeo"
           }
          ],
          "scattergl": [
           {
            "marker": {
             "colorbar": {
              "outlinewidth": 0,
              "ticks": ""
             }
            },
            "type": "scattergl"
           }
          ],
          "scattermapbox": [
           {
            "marker": {
             "colorbar": {
              "outlinewidth": 0,
              "ticks": ""
             }
            },
            "type": "scattermapbox"
           }
          ],
          "scatterpolar": [
           {
            "marker": {
             "colorbar": {
              "outlinewidth": 0,
              "ticks": ""
             }
            },
            "type": "scatterpolar"
           }
          ],
          "scatterpolargl": [
           {
            "marker": {
             "colorbar": {
              "outlinewidth": 0,
              "ticks": ""
             }
            },
            "type": "scatterpolargl"
           }
          ],
          "scatterternary": [
           {
            "marker": {
             "colorbar": {
              "outlinewidth": 0,
              "ticks": ""
             }
            },
            "type": "scatterternary"
           }
          ],
          "surface": [
           {
            "colorbar": {
             "outlinewidth": 0,
             "ticks": ""
            },
            "colorscale": [
             [
              0,
              "#0d0887"
             ],
             [
              0.1111111111111111,
              "#46039f"
             ],
             [
              0.2222222222222222,
              "#7201a8"
             ],
             [
              0.3333333333333333,
              "#9c179e"
             ],
             [
              0.4444444444444444,
              "#bd3786"
             ],
             [
              0.5555555555555556,
              "#d8576b"
             ],
             [
              0.6666666666666666,
              "#ed7953"
             ],
             [
              0.7777777777777778,
              "#fb9f3a"
             ],
             [
              0.8888888888888888,
              "#fdca26"
             ],
             [
              1,
              "#f0f921"
             ]
            ],
            "type": "surface"
           }
          ],
          "table": [
           {
            "cells": {
             "fill": {
              "color": "#EBF0F8"
             },
             "line": {
              "color": "white"
             }
            },
            "header": {
             "fill": {
              "color": "#C8D4E3"
             },
             "line": {
              "color": "white"
             }
            },
            "type": "table"
           }
          ]
         },
         "layout": {
          "annotationdefaults": {
           "arrowcolor": "#2a3f5f",
           "arrowhead": 0,
           "arrowwidth": 1
          },
          "autotypenumbers": "strict",
          "coloraxis": {
           "colorbar": {
            "outlinewidth": 0,
            "ticks": ""
           }
          },
          "colorscale": {
           "diverging": [
            [
             0,
             "#8e0152"
            ],
            [
             0.1,
             "#c51b7d"
            ],
            [
             0.2,
             "#de77ae"
            ],
            [
             0.3,
             "#f1b6da"
            ],
            [
             0.4,
             "#fde0ef"
            ],
            [
             0.5,
             "#f7f7f7"
            ],
            [
             0.6,
             "#e6f5d0"
            ],
            [
             0.7,
             "#b8e186"
            ],
            [
             0.8,
             "#7fbc41"
            ],
            [
             0.9,
             "#4d9221"
            ],
            [
             1,
             "#276419"
            ]
           ],
           "sequential": [
            [
             0,
             "#0d0887"
            ],
            [
             0.1111111111111111,
             "#46039f"
            ],
            [
             0.2222222222222222,
             "#7201a8"
            ],
            [
             0.3333333333333333,
             "#9c179e"
            ],
            [
             0.4444444444444444,
             "#bd3786"
            ],
            [
             0.5555555555555556,
             "#d8576b"
            ],
            [
             0.6666666666666666,
             "#ed7953"
            ],
            [
             0.7777777777777778,
             "#fb9f3a"
            ],
            [
             0.8888888888888888,
             "#fdca26"
            ],
            [
             1,
             "#f0f921"
            ]
           ],
           "sequentialminus": [
            [
             0,
             "#0d0887"
            ],
            [
             0.1111111111111111,
             "#46039f"
            ],
            [
             0.2222222222222222,
             "#7201a8"
            ],
            [
             0.3333333333333333,
             "#9c179e"
            ],
            [
             0.4444444444444444,
             "#bd3786"
            ],
            [
             0.5555555555555556,
             "#d8576b"
            ],
            [
             0.6666666666666666,
             "#ed7953"
            ],
            [
             0.7777777777777778,
             "#fb9f3a"
            ],
            [
             0.8888888888888888,
             "#fdca26"
            ],
            [
             1,
             "#f0f921"
            ]
           ]
          },
          "colorway": [
           "#636efa",
           "#EF553B",
           "#00cc96",
           "#ab63fa",
           "#FFA15A",
           "#19d3f3",
           "#FF6692",
           "#B6E880",
           "#FF97FF",
           "#FECB52"
          ],
          "font": {
           "color": "#2a3f5f"
          },
          "geo": {
           "bgcolor": "white",
           "lakecolor": "white",
           "landcolor": "#E5ECF6",
           "showlakes": true,
           "showland": true,
           "subunitcolor": "white"
          },
          "hoverlabel": {
           "align": "left"
          },
          "hovermode": "closest",
          "mapbox": {
           "style": "light"
          },
          "paper_bgcolor": "white",
          "plot_bgcolor": "#E5ECF6",
          "polar": {
           "angularaxis": {
            "gridcolor": "white",
            "linecolor": "white",
            "ticks": ""
           },
           "bgcolor": "#E5ECF6",
           "radialaxis": {
            "gridcolor": "white",
            "linecolor": "white",
            "ticks": ""
           }
          },
          "scene": {
           "xaxis": {
            "backgroundcolor": "#E5ECF6",
            "gridcolor": "white",
            "gridwidth": 2,
            "linecolor": "white",
            "showbackground": true,
            "ticks": "",
            "zerolinecolor": "white"
           },
           "yaxis": {
            "backgroundcolor": "#E5ECF6",
            "gridcolor": "white",
            "gridwidth": 2,
            "linecolor": "white",
            "showbackground": true,
            "ticks": "",
            "zerolinecolor": "white"
           },
           "zaxis": {
            "backgroundcolor": "#E5ECF6",
            "gridcolor": "white",
            "gridwidth": 2,
            "linecolor": "white",
            "showbackground": true,
            "ticks": "",
            "zerolinecolor": "white"
           }
          },
          "shapedefaults": {
           "line": {
            "color": "#2a3f5f"
           }
          },
          "ternary": {
           "aaxis": {
            "gridcolor": "white",
            "linecolor": "white",
            "ticks": ""
           },
           "baxis": {
            "gridcolor": "white",
            "linecolor": "white",
            "ticks": ""
           },
           "bgcolor": "#E5ECF6",
           "caxis": {
            "gridcolor": "white",
            "linecolor": "white",
            "ticks": ""
           }
          },
          "title": {
           "x": 0.05
          },
          "xaxis": {
           "automargin": true,
           "gridcolor": "white",
           "linecolor": "white",
           "ticks": "",
           "title": {
            "standoff": 15
           },
           "zerolinecolor": "white",
           "zerolinewidth": 2
          },
          "yaxis": {
           "automargin": true,
           "gridcolor": "white",
           "linecolor": "white",
           "ticks": "",
           "title": {
            "standoff": 15
           },
           "zerolinecolor": "white",
           "zerolinewidth": 2
          }
         }
        },
        "width": 700,
        "xaxis": {
         "anchor": "y",
         "domain": [
          0,
          1
         ],
         "title": {
          "text": "x"
         }
        },
        "yaxis": {
         "anchor": "x",
         "domain": [
          0,
          1
         ],
         "title": {
          "text": "y"
         }
        }
       }
      },
      "text/html": [
       "<div>                            <div id=\"6e7b1731-618e-425d-a583-3a93f4694f78\" class=\"plotly-graph-div\" style=\"height:500px; width:700px;\"></div>            <script type=\"text/javascript\">                require([\"plotly\"], function(Plotly) {                    window.PLOTLYENV=window.PLOTLYENV || {};                                    if (document.getElementById(\"6e7b1731-618e-425d-a583-3a93f4694f78\")) {                    Plotly.newPlot(                        \"6e7b1731-618e-425d-a583-3a93f4694f78\",                        [{\"alignmentgroup\":\"True\",\"hovertemplate\":\"x=%{x}<br>y=%{y}<extra></extra>\",\"legendgroup\":\"\",\"marker\":{\"color\":[\"purple\",\"red\",\"green\",\"blue\",\"yellow\",\"brown\",\"silver\",\"gold\",\"white\",\"purple\",\"red\",\"green\",\"blue\",\"yellow\",\"brown\",\"silver\",\"gold\",\"white\",\"purple\",\"red\",\"green\",\"blue\",\"yellow\",\"brown\",\"silver\",\"gold\",\"white\",\"purple\",\"red\",\"green\",\"blue\",\"yellow\",\"brown\",\"silver\",\"gold\",\"white\",\"purple\",\"red\"],\"pattern\":{\"shape\":\"\"}},\"name\":\"\",\"offsetgroup\":\"\",\"orientation\":\"v\",\"showlegend\":false,\"textposition\":\"auto\",\"type\":\"bar\",\"x\":[1981,1982,1983,1984,1985,1986,1987,1988,1989,1990,1991,1992,1993,1994,1995,1996,1997,1998,1999,2000,2001,2002,2003,2004,2005,2006,2007,2008,2009,2010,2011,2012,2013,2014,2015,2016,2017,2018],\"xaxis\":\"x\",\"y\":[58.948483333333336,56.98039166666667,57.401849999999996,60.80735000000001,62.31636666666666,62.87399166666666,65.9119,69.90289166666666,72.088675,73.53075833333334,75.345025,75.34636666666667,77.90613333333333,79.488975,82.31140833333333,84.64241666666668,84.48745,86.79835833333334,89.45743333333333,92.02700833333334,91.69628333333333,94.367975,95.9679,97.39141666666667,99.50595833333334,99.16569166666666,102.28008333333332,101.92809166666666,99.02951666666667,102.75786666666666,102.373875,99.99998333333333,102.20434999999999,103.50785,102.74144166666667,102.29643333333333,101.51630833333333,105.92933333333333],\"yaxis\":\"y\"}],                        {\"bargap\":0.5,\"barmode\":\"relative\",\"height\":500,\"legend\":{\"tracegroupgap\":0},\"margin\":{\"t\":60},\"template\":{\"data\":{\"bar\":[{\"error_x\":{\"color\":\"#2a3f5f\"},\"error_y\":{\"color\":\"#2a3f5f\"},\"marker\":{\"line\":{\"color\":\"#E5ECF6\",\"width\":0.5},\"pattern\":{\"fillmode\":\"overlay\",\"size\":10,\"solidity\":0.2}},\"type\":\"bar\"}],\"barpolar\":[{\"marker\":{\"line\":{\"color\":\"#E5ECF6\",\"width\":0.5},\"pattern\":{\"fillmode\":\"overlay\",\"size\":10,\"solidity\":0.2}},\"type\":\"barpolar\"}],\"carpet\":[{\"aaxis\":{\"endlinecolor\":\"#2a3f5f\",\"gridcolor\":\"white\",\"linecolor\":\"white\",\"minorgridcolor\":\"white\",\"startlinecolor\":\"#2a3f5f\"},\"baxis\":{\"endlinecolor\":\"#2a3f5f\",\"gridcolor\":\"white\",\"linecolor\":\"white\",\"minorgridcolor\":\"white\",\"startlinecolor\":\"#2a3f5f\"},\"type\":\"carpet\"}],\"choropleth\":[{\"colorbar\":{\"outlinewidth\":0,\"ticks\":\"\"},\"type\":\"choropleth\"}],\"contour\":[{\"colorbar\":{\"outlinewidth\":0,\"ticks\":\"\"},\"colorscale\":[[0.0,\"#0d0887\"],[0.1111111111111111,\"#46039f\"],[0.2222222222222222,\"#7201a8\"],[0.3333333333333333,\"#9c179e\"],[0.4444444444444444,\"#bd3786\"],[0.5555555555555556,\"#d8576b\"],[0.6666666666666666,\"#ed7953\"],[0.7777777777777778,\"#fb9f3a\"],[0.8888888888888888,\"#fdca26\"],[1.0,\"#f0f921\"]],\"type\":\"contour\"}],\"contourcarpet\":[{\"colorbar\":{\"outlinewidth\":0,\"ticks\":\"\"},\"type\":\"contourcarpet\"}],\"heatmap\":[{\"colorbar\":{\"outlinewidth\":0,\"ticks\":\"\"},\"colorscale\":[[0.0,\"#0d0887\"],[0.1111111111111111,\"#46039f\"],[0.2222222222222222,\"#7201a8\"],[0.3333333333333333,\"#9c179e\"],[0.4444444444444444,\"#bd3786\"],[0.5555555555555556,\"#d8576b\"],[0.6666666666666666,\"#ed7953\"],[0.7777777777777778,\"#fb9f3a\"],[0.8888888888888888,\"#fdca26\"],[1.0,\"#f0f921\"]],\"type\":\"heatmap\"}],\"heatmapgl\":[{\"colorbar\":{\"outlinewidth\":0,\"ticks\":\"\"},\"colorscale\":[[0.0,\"#0d0887\"],[0.1111111111111111,\"#46039f\"],[0.2222222222222222,\"#7201a8\"],[0.3333333333333333,\"#9c179e\"],[0.4444444444444444,\"#bd3786\"],[0.5555555555555556,\"#d8576b\"],[0.6666666666666666,\"#ed7953\"],[0.7777777777777778,\"#fb9f3a\"],[0.8888888888888888,\"#fdca26\"],[1.0,\"#f0f921\"]],\"type\":\"heatmapgl\"}],\"histogram\":[{\"marker\":{\"pattern\":{\"fillmode\":\"overlay\",\"size\":10,\"solidity\":0.2}},\"type\":\"histogram\"}],\"histogram2d\":[{\"colorbar\":{\"outlinewidth\":0,\"ticks\":\"\"},\"colorscale\":[[0.0,\"#0d0887\"],[0.1111111111111111,\"#46039f\"],[0.2222222222222222,\"#7201a8\"],[0.3333333333333333,\"#9c179e\"],[0.4444444444444444,\"#bd3786\"],[0.5555555555555556,\"#d8576b\"],[0.6666666666666666,\"#ed7953\"],[0.7777777777777778,\"#fb9f3a\"],[0.8888888888888888,\"#fdca26\"],[1.0,\"#f0f921\"]],\"type\":\"histogram2d\"}],\"histogram2dcontour\":[{\"colorbar\":{\"outlinewidth\":0,\"ticks\":\"\"},\"colorscale\":[[0.0,\"#0d0887\"],[0.1111111111111111,\"#46039f\"],[0.2222222222222222,\"#7201a8\"],[0.3333333333333333,\"#9c179e\"],[0.4444444444444444,\"#bd3786\"],[0.5555555555555556,\"#d8576b\"],[0.6666666666666666,\"#ed7953\"],[0.7777777777777778,\"#fb9f3a\"],[0.8888888888888888,\"#fdca26\"],[1.0,\"#f0f921\"]],\"type\":\"histogram2dcontour\"}],\"mesh3d\":[{\"colorbar\":{\"outlinewidth\":0,\"ticks\":\"\"},\"type\":\"mesh3d\"}],\"parcoords\":[{\"line\":{\"colorbar\":{\"outlinewidth\":0,\"ticks\":\"\"}},\"type\":\"parcoords\"}],\"pie\":[{\"automargin\":true,\"type\":\"pie\"}],\"scatter\":[{\"marker\":{\"colorbar\":{\"outlinewidth\":0,\"ticks\":\"\"}},\"type\":\"scatter\"}],\"scatter3d\":[{\"line\":{\"colorbar\":{\"outlinewidth\":0,\"ticks\":\"\"}},\"marker\":{\"colorbar\":{\"outlinewidth\":0,\"ticks\":\"\"}},\"type\":\"scatter3d\"}],\"scattercarpet\":[{\"marker\":{\"colorbar\":{\"outlinewidth\":0,\"ticks\":\"\"}},\"type\":\"scattercarpet\"}],\"scattergeo\":[{\"marker\":{\"colorbar\":{\"outlinewidth\":0,\"ticks\":\"\"}},\"type\":\"scattergeo\"}],\"scattergl\":[{\"marker\":{\"colorbar\":{\"outlinewidth\":0,\"ticks\":\"\"}},\"type\":\"scattergl\"}],\"scattermapbox\":[{\"marker\":{\"colorbar\":{\"outlinewidth\":0,\"ticks\":\"\"}},\"type\":\"scattermapbox\"}],\"scatterpolar\":[{\"marker\":{\"colorbar\":{\"outlinewidth\":0,\"ticks\":\"\"}},\"type\":\"scatterpolar\"}],\"scatterpolargl\":[{\"marker\":{\"colorbar\":{\"outlinewidth\":0,\"ticks\":\"\"}},\"type\":\"scatterpolargl\"}],\"scatterternary\":[{\"marker\":{\"colorbar\":{\"outlinewidth\":0,\"ticks\":\"\"}},\"type\":\"scatterternary\"}],\"surface\":[{\"colorbar\":{\"outlinewidth\":0,\"ticks\":\"\"},\"colorscale\":[[0.0,\"#0d0887\"],[0.1111111111111111,\"#46039f\"],[0.2222222222222222,\"#7201a8\"],[0.3333333333333333,\"#9c179e\"],[0.4444444444444444,\"#bd3786\"],[0.5555555555555556,\"#d8576b\"],[0.6666666666666666,\"#ed7953\"],[0.7777777777777778,\"#fb9f3a\"],[0.8888888888888888,\"#fdca26\"],[1.0,\"#f0f921\"]],\"type\":\"surface\"}],\"table\":[{\"cells\":{\"fill\":{\"color\":\"#EBF0F8\"},\"line\":{\"color\":\"white\"}},\"header\":{\"fill\":{\"color\":\"#C8D4E3\"},\"line\":{\"color\":\"white\"}},\"type\":\"table\"}]},\"layout\":{\"annotationdefaults\":{\"arrowcolor\":\"#2a3f5f\",\"arrowhead\":0,\"arrowwidth\":1},\"autotypenumbers\":\"strict\",\"coloraxis\":{\"colorbar\":{\"outlinewidth\":0,\"ticks\":\"\"}},\"colorscale\":{\"diverging\":[[0,\"#8e0152\"],[0.1,\"#c51b7d\"],[0.2,\"#de77ae\"],[0.3,\"#f1b6da\"],[0.4,\"#fde0ef\"],[0.5,\"#f7f7f7\"],[0.6,\"#e6f5d0\"],[0.7,\"#b8e186\"],[0.8,\"#7fbc41\"],[0.9,\"#4d9221\"],[1,\"#276419\"]],\"sequential\":[[0.0,\"#0d0887\"],[0.1111111111111111,\"#46039f\"],[0.2222222222222222,\"#7201a8\"],[0.3333333333333333,\"#9c179e\"],[0.4444444444444444,\"#bd3786\"],[0.5555555555555556,\"#d8576b\"],[0.6666666666666666,\"#ed7953\"],[0.7777777777777778,\"#fb9f3a\"],[0.8888888888888888,\"#fdca26\"],[1.0,\"#f0f921\"]],\"sequentialminus\":[[0.0,\"#0d0887\"],[0.1111111111111111,\"#46039f\"],[0.2222222222222222,\"#7201a8\"],[0.3333333333333333,\"#9c179e\"],[0.4444444444444444,\"#bd3786\"],[0.5555555555555556,\"#d8576b\"],[0.6666666666666666,\"#ed7953\"],[0.7777777777777778,\"#fb9f3a\"],[0.8888888888888888,\"#fdca26\"],[1.0,\"#f0f921\"]]},\"colorway\":[\"#636efa\",\"#EF553B\",\"#00cc96\",\"#ab63fa\",\"#FFA15A\",\"#19d3f3\",\"#FF6692\",\"#B6E880\",\"#FF97FF\",\"#FECB52\"],\"font\":{\"color\":\"#2a3f5f\"},\"geo\":{\"bgcolor\":\"white\",\"lakecolor\":\"white\",\"landcolor\":\"#E5ECF6\",\"showlakes\":true,\"showland\":true,\"subunitcolor\":\"white\"},\"hoverlabel\":{\"align\":\"left\"},\"hovermode\":\"closest\",\"mapbox\":{\"style\":\"light\"},\"paper_bgcolor\":\"white\",\"plot_bgcolor\":\"#E5ECF6\",\"polar\":{\"angularaxis\":{\"gridcolor\":\"white\",\"linecolor\":\"white\",\"ticks\":\"\"},\"bgcolor\":\"#E5ECF6\",\"radialaxis\":{\"gridcolor\":\"white\",\"linecolor\":\"white\",\"ticks\":\"\"}},\"scene\":{\"xaxis\":{\"backgroundcolor\":\"#E5ECF6\",\"gridcolor\":\"white\",\"gridwidth\":2,\"linecolor\":\"white\",\"showbackground\":true,\"ticks\":\"\",\"zerolinecolor\":\"white\"},\"yaxis\":{\"backgroundcolor\":\"#E5ECF6\",\"gridcolor\":\"white\",\"gridwidth\":2,\"linecolor\":\"white\",\"showbackground\":true,\"ticks\":\"\",\"zerolinecolor\":\"white\"},\"zaxis\":{\"backgroundcolor\":\"#E5ECF6\",\"gridcolor\":\"white\",\"gridwidth\":2,\"linecolor\":\"white\",\"showbackground\":true,\"ticks\":\"\",\"zerolinecolor\":\"white\"}},\"shapedefaults\":{\"line\":{\"color\":\"#2a3f5f\"}},\"ternary\":{\"aaxis\":{\"gridcolor\":\"white\",\"linecolor\":\"white\",\"ticks\":\"\"},\"baxis\":{\"gridcolor\":\"white\",\"linecolor\":\"white\",\"ticks\":\"\"},\"bgcolor\":\"#E5ECF6\",\"caxis\":{\"gridcolor\":\"white\",\"linecolor\":\"white\",\"ticks\":\"\"}},\"title\":{\"x\":0.05},\"xaxis\":{\"automargin\":true,\"gridcolor\":\"white\",\"linecolor\":\"white\",\"ticks\":\"\",\"title\":{\"standoff\":15},\"zerolinecolor\":\"white\",\"zerolinewidth\":2},\"yaxis\":{\"automargin\":true,\"gridcolor\":\"white\",\"linecolor\":\"white\",\"ticks\":\"\",\"title\":{\"standoff\":15},\"zerolinecolor\":\"white\",\"zerolinewidth\":2}}},\"width\":700,\"xaxis\":{\"anchor\":\"y\",\"domain\":[0.0,1.0],\"title\":{\"text\":\"x\"}},\"yaxis\":{\"anchor\":\"x\",\"domain\":[0.0,1.0],\"title\":{\"text\":\"y\"}}},                        {\"responsive\": true}                    ).then(function(){\n",
       "                            \n",
       "var gd = document.getElementById('6e7b1731-618e-425d-a583-3a93f4694f78');\n",
       "var x = new MutationObserver(function (mutations, observer) {{\n",
       "        var display = window.getComputedStyle(gd).display;\n",
       "        if (!display || display === 'none') {{\n",
       "            console.log([gd, 'removed!']);\n",
       "            Plotly.purge(gd);\n",
       "            observer.disconnect();\n",
       "        }}\n",
       "}});\n",
       "\n",
       "// Listen for the removal of the full notebook cells\n",
       "var notebookContainer = gd.closest('#notebook-container');\n",
       "if (notebookContainer) {{\n",
       "    x.observe(notebookContainer, {childList: true});\n",
       "}}\n",
       "\n",
       "// Listen for the clearing of the current output cell\n",
       "var outputEl = gd.closest('.output');\n",
       "if (outputEl) {{\n",
       "    x.observe(outputEl, {childList: true});\n",
       "}}\n",
       "\n",
       "                        })                };                });            </script>        </div>"
      ]
     },
     "metadata": {},
     "output_type": "display_data"
    }
   ],
   "source": [
    "fig = px.bar(x = df_gas_1980_2019.groupby('ano_int')['IPG2211A2N'].mean().index , y= df_gas_1980_2019.groupby('ano_int')['IPG2211A2N'].mean().values)\n",
    "fig.update_layout(width=700, height=500, bargap=0.5)\n",
    "fig.update_traces(marker_color='green')\n",
    "#fig.update_traces(marker_color=['purple', 'red', 'green', 'blue', 'yellow', 'brown', 'silver', 'gold', 'white', 'purple', 'red', 'green', 'blue', 'yellow', 'brown', 'silver', 'gold', 'white'])\n",
    "fig.update_traces(marker_color=['purple', 'red', 'green', 'blue', 'yellow', 'brown', 'silver', 'gold', 'white', 'purple', 'red', 'green', 'blue', 'yellow', 'brown', 'silver', 'gold', 'white','purple', 'red', 'green', 'blue', 'yellow', 'brown', 'silver', 'gold', 'white', 'purple', 'red', 'green', 'blue', 'yellow', 'brown', 'silver', 'gold', 'white', 'purple', 'red'])\n",
    "fig.show()\n"
   ]
  },
  {
   "cell_type": "markdown",
   "id": "01128095",
   "metadata": {},
   "source": [
    "Questão #2\n",
    "Vale\n",
    "10\n",
    "Enunciado\n",
    "Questão 2\n",
    "Com a tabela de vendas de jogos de vídeo-games (videogames.csv), indique:\n",
    "\n",
    "Quais jogos estão no Top 10 de Vendas Globais nas plataformas PS3, Wii, X360 e PC.\n",
    "A proporção (percentual) de jogos criados por gênero, em: a) tabela; b)gráfico de barras; c) gráfico de pizza.\n",
    "Um gráfico de linha com a quantidade de vendas, em média, por ano, separadas pelas plataformas PS3, Wii, X360 e PSP.\n"
   ]
  },
  {
   "cell_type": "code",
   "execution_count": 3,
   "id": "e2db930e",
   "metadata": {},
   "outputs": [
    {
     "data": {
      "text/html": [
       "<div>\n",
       "<style scoped>\n",
       "    .dataframe tbody tr th:only-of-type {\n",
       "        vertical-align: middle;\n",
       "    }\n",
       "\n",
       "    .dataframe tbody tr th {\n",
       "        vertical-align: top;\n",
       "    }\n",
       "\n",
       "    .dataframe thead th {\n",
       "        text-align: right;\n",
       "    }\n",
       "</style>\n",
       "<table border=\"1\" class=\"dataframe\">\n",
       "  <thead>\n",
       "    <tr style=\"text-align: right;\">\n",
       "      <th></th>\n",
       "      <th>Rank</th>\n",
       "      <th>Name</th>\n",
       "      <th>Platform</th>\n",
       "      <th>Year</th>\n",
       "      <th>Genre</th>\n",
       "      <th>Publisher</th>\n",
       "      <th>NA_Sales</th>\n",
       "      <th>EU_Sales</th>\n",
       "      <th>JP_Sales</th>\n",
       "      <th>Other_Sales</th>\n",
       "      <th>Global_Sales</th>\n",
       "    </tr>\n",
       "  </thead>\n",
       "  <tbody>\n",
       "    <tr>\n",
       "      <th>0</th>\n",
       "      <td>1</td>\n",
       "      <td>Wii Sports</td>\n",
       "      <td>Wii</td>\n",
       "      <td>2006.0</td>\n",
       "      <td>Sports</td>\n",
       "      <td>Nintendo</td>\n",
       "      <td>41.49</td>\n",
       "      <td>29.02</td>\n",
       "      <td>3.77</td>\n",
       "      <td>8.46</td>\n",
       "      <td>82.74</td>\n",
       "    </tr>\n",
       "    <tr>\n",
       "      <th>1</th>\n",
       "      <td>2</td>\n",
       "      <td>Super Mario Bros.</td>\n",
       "      <td>NES</td>\n",
       "      <td>1985.0</td>\n",
       "      <td>Platform</td>\n",
       "      <td>Nintendo</td>\n",
       "      <td>29.08</td>\n",
       "      <td>3.58</td>\n",
       "      <td>6.81</td>\n",
       "      <td>0.77</td>\n",
       "      <td>40.24</td>\n",
       "    </tr>\n",
       "    <tr>\n",
       "      <th>2</th>\n",
       "      <td>3</td>\n",
       "      <td>Mario Kart Wii</td>\n",
       "      <td>Wii</td>\n",
       "      <td>2008.0</td>\n",
       "      <td>Racing</td>\n",
       "      <td>Nintendo</td>\n",
       "      <td>15.85</td>\n",
       "      <td>12.88</td>\n",
       "      <td>3.79</td>\n",
       "      <td>3.31</td>\n",
       "      <td>35.82</td>\n",
       "    </tr>\n",
       "    <tr>\n",
       "      <th>3</th>\n",
       "      <td>4</td>\n",
       "      <td>Wii Sports Resort</td>\n",
       "      <td>Wii</td>\n",
       "      <td>2009.0</td>\n",
       "      <td>Sports</td>\n",
       "      <td>Nintendo</td>\n",
       "      <td>15.75</td>\n",
       "      <td>11.01</td>\n",
       "      <td>3.28</td>\n",
       "      <td>2.96</td>\n",
       "      <td>33.00</td>\n",
       "    </tr>\n",
       "    <tr>\n",
       "      <th>4</th>\n",
       "      <td>5</td>\n",
       "      <td>Pokemon Red/Pokemon Blue</td>\n",
       "      <td>GB</td>\n",
       "      <td>1996.0</td>\n",
       "      <td>Role-Playing</td>\n",
       "      <td>Nintendo</td>\n",
       "      <td>11.27</td>\n",
       "      <td>8.89</td>\n",
       "      <td>10.22</td>\n",
       "      <td>1.00</td>\n",
       "      <td>31.37</td>\n",
       "    </tr>\n",
       "    <tr>\n",
       "      <th>...</th>\n",
       "      <td>...</td>\n",
       "      <td>...</td>\n",
       "      <td>...</td>\n",
       "      <td>...</td>\n",
       "      <td>...</td>\n",
       "      <td>...</td>\n",
       "      <td>...</td>\n",
       "      <td>...</td>\n",
       "      <td>...</td>\n",
       "      <td>...</td>\n",
       "      <td>...</td>\n",
       "    </tr>\n",
       "    <tr>\n",
       "      <th>16593</th>\n",
       "      <td>16596</td>\n",
       "      <td>Woody Woodpecker in Crazy Castle 5</td>\n",
       "      <td>GBA</td>\n",
       "      <td>2002.0</td>\n",
       "      <td>Platform</td>\n",
       "      <td>Kemco</td>\n",
       "      <td>0.01</td>\n",
       "      <td>0.00</td>\n",
       "      <td>0.00</td>\n",
       "      <td>0.00</td>\n",
       "      <td>0.01</td>\n",
       "    </tr>\n",
       "    <tr>\n",
       "      <th>16594</th>\n",
       "      <td>16597</td>\n",
       "      <td>Men in Black II: Alien Escape</td>\n",
       "      <td>GC</td>\n",
       "      <td>2003.0</td>\n",
       "      <td>Shooter</td>\n",
       "      <td>Infogrames</td>\n",
       "      <td>0.01</td>\n",
       "      <td>0.00</td>\n",
       "      <td>0.00</td>\n",
       "      <td>0.00</td>\n",
       "      <td>0.01</td>\n",
       "    </tr>\n",
       "    <tr>\n",
       "      <th>16595</th>\n",
       "      <td>16598</td>\n",
       "      <td>SCORE International Baja 1000: The Official Game</td>\n",
       "      <td>PS2</td>\n",
       "      <td>2008.0</td>\n",
       "      <td>Racing</td>\n",
       "      <td>Activision</td>\n",
       "      <td>0.00</td>\n",
       "      <td>0.00</td>\n",
       "      <td>0.00</td>\n",
       "      <td>0.00</td>\n",
       "      <td>0.01</td>\n",
       "    </tr>\n",
       "    <tr>\n",
       "      <th>16596</th>\n",
       "      <td>16599</td>\n",
       "      <td>Know How 2</td>\n",
       "      <td>DS</td>\n",
       "      <td>2010.0</td>\n",
       "      <td>Puzzle</td>\n",
       "      <td>7G//AMES</td>\n",
       "      <td>0.00</td>\n",
       "      <td>0.01</td>\n",
       "      <td>0.00</td>\n",
       "      <td>0.00</td>\n",
       "      <td>0.01</td>\n",
       "    </tr>\n",
       "    <tr>\n",
       "      <th>16597</th>\n",
       "      <td>16600</td>\n",
       "      <td>Spirits &amp; Spells</td>\n",
       "      <td>GBA</td>\n",
       "      <td>2003.0</td>\n",
       "      <td>Platform</td>\n",
       "      <td>Wanadoo</td>\n",
       "      <td>0.01</td>\n",
       "      <td>0.00</td>\n",
       "      <td>0.00</td>\n",
       "      <td>0.00</td>\n",
       "      <td>0.01</td>\n",
       "    </tr>\n",
       "  </tbody>\n",
       "</table>\n",
       "<p>16598 rows × 11 columns</p>\n",
       "</div>"
      ],
      "text/plain": [
       "        Rank                                              Name Platform  \\\n",
       "0          1                                        Wii Sports      Wii   \n",
       "1          2                                 Super Mario Bros.      NES   \n",
       "2          3                                    Mario Kart Wii      Wii   \n",
       "3          4                                 Wii Sports Resort      Wii   \n",
       "4          5                          Pokemon Red/Pokemon Blue       GB   \n",
       "...      ...                                               ...      ...   \n",
       "16593  16596                Woody Woodpecker in Crazy Castle 5      GBA   \n",
       "16594  16597                     Men in Black II: Alien Escape       GC   \n",
       "16595  16598  SCORE International Baja 1000: The Official Game      PS2   \n",
       "16596  16599                                        Know How 2       DS   \n",
       "16597  16600                                  Spirits & Spells      GBA   \n",
       "\n",
       "         Year         Genre   Publisher  NA_Sales  EU_Sales  JP_Sales  \\\n",
       "0      2006.0        Sports    Nintendo     41.49     29.02      3.77   \n",
       "1      1985.0      Platform    Nintendo     29.08      3.58      6.81   \n",
       "2      2008.0        Racing    Nintendo     15.85     12.88      3.79   \n",
       "3      2009.0        Sports    Nintendo     15.75     11.01      3.28   \n",
       "4      1996.0  Role-Playing    Nintendo     11.27      8.89     10.22   \n",
       "...       ...           ...         ...       ...       ...       ...   \n",
       "16593  2002.0      Platform       Kemco      0.01      0.00      0.00   \n",
       "16594  2003.0       Shooter  Infogrames      0.01      0.00      0.00   \n",
       "16595  2008.0        Racing  Activision      0.00      0.00      0.00   \n",
       "16596  2010.0        Puzzle    7G//AMES      0.00      0.01      0.00   \n",
       "16597  2003.0      Platform     Wanadoo      0.01      0.00      0.00   \n",
       "\n",
       "       Other_Sales  Global_Sales  \n",
       "0             8.46         82.74  \n",
       "1             0.77         40.24  \n",
       "2             3.31         35.82  \n",
       "3             2.96         33.00  \n",
       "4             1.00         31.37  \n",
       "...            ...           ...  \n",
       "16593         0.00          0.01  \n",
       "16594         0.00          0.01  \n",
       "16595         0.00          0.01  \n",
       "16596         0.00          0.01  \n",
       "16597         0.00          0.01  \n",
       "\n",
       "[16598 rows x 11 columns]"
      ]
     },
     "execution_count": 3,
     "metadata": {},
     "output_type": "execute_result"
    }
   ],
   "source": [
    "#Quais jogos estão no Top 10 de Vendas Globais nas plataformas PS3, Wii, X360 e PC.\n",
    "\n",
    "df_videogame= pd.read_csv('videogame.csv')\n",
    "df_videogame"
   ]
  },
  {
   "cell_type": "code",
   "execution_count": 4,
   "id": "f9cfe821",
   "metadata": {},
   "outputs": [
    {
     "data": {
      "text/plain": [
       "<AxesSubplot:>"
      ]
     },
     "execution_count": 4,
     "metadata": {},
     "output_type": "execute_result"
    },
    {
     "data": {
      "image/png": "[encoded data removed]",
      "text/plain": [
       "<Figure size 1800x720 with 2 Axes>"
      ]
     },
     "metadata": {
      "needs_background": "light"
     },
     "output_type": "display_data"
    }
   ],
   "source": [
    "msno.matrix(df_videogame)"
   ]
  },
  {
   "cell_type": "code",
   "execution_count": 5,
   "id": "2b396835",
   "metadata": {},
   "outputs": [
    {
     "name": "stdout",
     "output_type": "stream",
     "text": [
      "<class 'pandas.core.frame.DataFrame'>\n",
      "RangeIndex: 16598 entries, 0 to 16597\n",
      "Data columns (total 11 columns):\n",
      " #   Column        Non-Null Count  Dtype  \n",
      "---  ------        --------------  -----  \n",
      " 0   Rank          16598 non-null  int64  \n",
      " 1   Name          16598 non-null  object \n",
      " 2   Platform      16598 non-null  object \n",
      " 3   Year          16327 non-null  float64\n",
      " 4   Genre         16598 non-null  object \n",
      " 5   Publisher     16540 non-null  object \n",
      " 6   NA_Sales      16598 non-null  float64\n",
      " 7   EU_Sales      16598 non-null  float64\n",
      " 8   JP_Sales      16598 non-null  float64\n",
      " 9   Other_Sales   16598 non-null  float64\n",
      " 10  Global_Sales  16598 non-null  float64\n",
      "dtypes: float64(6), int64(1), object(4)\n",
      "memory usage: 1.4+ MB\n"
     ]
    }
   ],
   "source": [
    "df_videogame.info()"
   ]
  },
  {
   "cell_type": "code",
   "execution_count": 6,
   "id": "52b3c7b7",
   "metadata": {},
   "outputs": [
    {
     "data": {
      "text/plain": [
       "False    16327\n",
       "True       271\n",
       "Name: Year, dtype: int64"
      ]
     },
     "execution_count": 6,
     "metadata": {},
     "output_type": "execute_result"
    }
   ],
   "source": [
    "df_videogame['Year'].isnull().value_counts()"
   ]
  },
  {
   "cell_type": "code",
   "execution_count": 7,
   "id": "a451b1cf",
   "metadata": {},
   "outputs": [
    {
     "data": {
      "text/plain": [
       "2009.0    1431\n",
       "2008.0    1428\n",
       "2010.0    1259\n",
       "2007.0    1202\n",
       "2011.0    1139\n",
       "2006.0    1008\n",
       "2005.0     941\n",
       "2002.0     829\n",
       "2003.0     775\n",
       "2004.0     763\n",
       "2012.0     657\n",
       "2015.0     614\n",
       "2014.0     582\n",
       "2013.0     546\n",
       "2001.0     482\n",
       "1998.0     379\n",
       "2000.0     349\n",
       "2016.0     344\n",
       "1999.0     338\n",
       "1997.0     289\n",
       "NaN        271\n",
       "1996.0     263\n",
       "1995.0     219\n",
       "1994.0     121\n",
       "1993.0      60\n",
       "1981.0      46\n",
       "1992.0      43\n",
       "1991.0      41\n",
       "1982.0      36\n",
       "1986.0      21\n",
       "1989.0      17\n",
       "1983.0      17\n",
       "1990.0      16\n",
       "1987.0      16\n",
       "1988.0      15\n",
       "1985.0      14\n",
       "1984.0      14\n",
       "1980.0       9\n",
       "2017.0       3\n",
       "2020.0       1\n",
       "Name: Year, dtype: int64"
      ]
     },
     "execution_count": 7,
     "metadata": {},
     "output_type": "execute_result"
    }
   ],
   "source": [
    "df_videogame['Year'].value_counts(dropna=False)"
   ]
  },
  {
   "cell_type": "code",
   "execution_count": 8,
   "id": "d04f2ffe",
   "metadata": {},
   "outputs": [
    {
     "data": {
      "text/html": [
       "<div>\n",
       "<style scoped>\n",
       "    .dataframe tbody tr th:only-of-type {\n",
       "        vertical-align: middle;\n",
       "    }\n",
       "\n",
       "    .dataframe tbody tr th {\n",
       "        vertical-align: top;\n",
       "    }\n",
       "\n",
       "    .dataframe thead th {\n",
       "        text-align: right;\n",
       "    }\n",
       "</style>\n",
       "<table border=\"1\" class=\"dataframe\">\n",
       "  <thead>\n",
       "    <tr style=\"text-align: right;\">\n",
       "      <th></th>\n",
       "      <th>Rank</th>\n",
       "      <th>Name</th>\n",
       "      <th>Platform</th>\n",
       "      <th>Year</th>\n",
       "      <th>Genre</th>\n",
       "      <th>Publisher</th>\n",
       "      <th>NA_Sales</th>\n",
       "      <th>EU_Sales</th>\n",
       "      <th>JP_Sales</th>\n",
       "      <th>Other_Sales</th>\n",
       "      <th>Global_Sales</th>\n",
       "    </tr>\n",
       "  </thead>\n",
       "  <tbody>\n",
       "    <tr>\n",
       "      <th>179</th>\n",
       "      <td>180</td>\n",
       "      <td>Madden NFL 2004</td>\n",
       "      <td>PS2</td>\n",
       "      <td>NaN</td>\n",
       "      <td>Sports</td>\n",
       "      <td>Electronic Arts</td>\n",
       "      <td>4.26</td>\n",
       "      <td>0.26</td>\n",
       "      <td>0.01</td>\n",
       "      <td>0.71</td>\n",
       "      <td>5.23</td>\n",
       "    </tr>\n",
       "    <tr>\n",
       "      <th>377</th>\n",
       "      <td>378</td>\n",
       "      <td>FIFA Soccer 2004</td>\n",
       "      <td>PS2</td>\n",
       "      <td>NaN</td>\n",
       "      <td>Sports</td>\n",
       "      <td>Electronic Arts</td>\n",
       "      <td>0.59</td>\n",
       "      <td>2.36</td>\n",
       "      <td>0.04</td>\n",
       "      <td>0.51</td>\n",
       "      <td>3.49</td>\n",
       "    </tr>\n",
       "    <tr>\n",
       "      <th>431</th>\n",
       "      <td>432</td>\n",
       "      <td>LEGO Batman: The Videogame</td>\n",
       "      <td>Wii</td>\n",
       "      <td>NaN</td>\n",
       "      <td>Action</td>\n",
       "      <td>Warner Bros. Interactive Entertainment</td>\n",
       "      <td>1.86</td>\n",
       "      <td>1.02</td>\n",
       "      <td>0.00</td>\n",
       "      <td>0.29</td>\n",
       "      <td>3.17</td>\n",
       "    </tr>\n",
       "    <tr>\n",
       "      <th>470</th>\n",
       "      <td>471</td>\n",
       "      <td>wwe Smackdown vs. Raw 2006</td>\n",
       "      <td>PS2</td>\n",
       "      <td>NaN</td>\n",
       "      <td>Fighting</td>\n",
       "      <td>NaN</td>\n",
       "      <td>1.57</td>\n",
       "      <td>1.02</td>\n",
       "      <td>0.00</td>\n",
       "      <td>0.41</td>\n",
       "      <td>3.00</td>\n",
       "    </tr>\n",
       "    <tr>\n",
       "      <th>607</th>\n",
       "      <td>608</td>\n",
       "      <td>Space Invaders</td>\n",
       "      <td>2600</td>\n",
       "      <td>NaN</td>\n",
       "      <td>Shooter</td>\n",
       "      <td>Atari</td>\n",
       "      <td>2.36</td>\n",
       "      <td>0.14</td>\n",
       "      <td>0.00</td>\n",
       "      <td>0.03</td>\n",
       "      <td>2.53</td>\n",
       "    </tr>\n",
       "    <tr>\n",
       "      <th>...</th>\n",
       "      <td>...</td>\n",
       "      <td>...</td>\n",
       "      <td>...</td>\n",
       "      <td>...</td>\n",
       "      <td>...</td>\n",
       "      <td>...</td>\n",
       "      <td>...</td>\n",
       "      <td>...</td>\n",
       "      <td>...</td>\n",
       "      <td>...</td>\n",
       "      <td>...</td>\n",
       "    </tr>\n",
       "    <tr>\n",
       "      <th>16307</th>\n",
       "      <td>16310</td>\n",
       "      <td>Freaky Flyers</td>\n",
       "      <td>GC</td>\n",
       "      <td>NaN</td>\n",
       "      <td>Racing</td>\n",
       "      <td>Unknown</td>\n",
       "      <td>0.01</td>\n",
       "      <td>0.00</td>\n",
       "      <td>0.00</td>\n",
       "      <td>0.00</td>\n",
       "      <td>0.01</td>\n",
       "    </tr>\n",
       "    <tr>\n",
       "      <th>16327</th>\n",
       "      <td>16330</td>\n",
       "      <td>Inversion</td>\n",
       "      <td>PC</td>\n",
       "      <td>NaN</td>\n",
       "      <td>Shooter</td>\n",
       "      <td>Namco Bandai Games</td>\n",
       "      <td>0.01</td>\n",
       "      <td>0.00</td>\n",
       "      <td>0.00</td>\n",
       "      <td>0.00</td>\n",
       "      <td>0.01</td>\n",
       "    </tr>\n",
       "    <tr>\n",
       "      <th>16366</th>\n",
       "      <td>16369</td>\n",
       "      <td>Hakuouki: Shinsengumi Kitan</td>\n",
       "      <td>PS3</td>\n",
       "      <td>NaN</td>\n",
       "      <td>Adventure</td>\n",
       "      <td>Unknown</td>\n",
       "      <td>0.01</td>\n",
       "      <td>0.00</td>\n",
       "      <td>0.00</td>\n",
       "      <td>0.00</td>\n",
       "      <td>0.01</td>\n",
       "    </tr>\n",
       "    <tr>\n",
       "      <th>16427</th>\n",
       "      <td>16430</td>\n",
       "      <td>Virtua Quest</td>\n",
       "      <td>GC</td>\n",
       "      <td>NaN</td>\n",
       "      <td>Role-Playing</td>\n",
       "      <td>Unknown</td>\n",
       "      <td>0.01</td>\n",
       "      <td>0.00</td>\n",
       "      <td>0.00</td>\n",
       "      <td>0.00</td>\n",
       "      <td>0.01</td>\n",
       "    </tr>\n",
       "    <tr>\n",
       "      <th>16493</th>\n",
       "      <td>16496</td>\n",
       "      <td>The Smurfs</td>\n",
       "      <td>3DS</td>\n",
       "      <td>NaN</td>\n",
       "      <td>Action</td>\n",
       "      <td>Unknown</td>\n",
       "      <td>0.00</td>\n",
       "      <td>0.01</td>\n",
       "      <td>0.00</td>\n",
       "      <td>0.00</td>\n",
       "      <td>0.01</td>\n",
       "    </tr>\n",
       "  </tbody>\n",
       "</table>\n",
       "<p>271 rows × 11 columns</p>\n",
       "</div>"
      ],
      "text/plain": [
       "        Rank                         Name Platform  Year         Genre  \\\n",
       "179      180              Madden NFL 2004      PS2   NaN        Sports   \n",
       "377      378             FIFA Soccer 2004      PS2   NaN        Sports   \n",
       "431      432   LEGO Batman: The Videogame      Wii   NaN        Action   \n",
       "470      471   wwe Smackdown vs. Raw 2006      PS2   NaN      Fighting   \n",
       "607      608               Space Invaders     2600   NaN       Shooter   \n",
       "...      ...                          ...      ...   ...           ...   \n",
       "16307  16310                Freaky Flyers       GC   NaN        Racing   \n",
       "16327  16330                    Inversion       PC   NaN       Shooter   \n",
       "16366  16369  Hakuouki: Shinsengumi Kitan      PS3   NaN     Adventure   \n",
       "16427  16430                 Virtua Quest       GC   NaN  Role-Playing   \n",
       "16493  16496                   The Smurfs      3DS   NaN        Action   \n",
       "\n",
       "                                    Publisher  NA_Sales  EU_Sales  JP_Sales  \\\n",
       "179                           Electronic Arts      4.26      0.26      0.01   \n",
       "377                           Electronic Arts      0.59      2.36      0.04   \n",
       "431    Warner Bros. Interactive Entertainment      1.86      1.02      0.00   \n",
       "470                                       NaN      1.57      1.02      0.00   \n",
       "607                                     Atari      2.36      0.14      0.00   \n",
       "...                                       ...       ...       ...       ...   \n",
       "16307                                 Unknown      0.01      0.00      0.00   \n",
       "16327                      Namco Bandai Games      0.01      0.00      0.00   \n",
       "16366                                 Unknown      0.01      0.00      0.00   \n",
       "16427                                 Unknown      0.01      0.00      0.00   \n",
       "16493                                 Unknown      0.00      0.01      0.00   \n",
       "\n",
       "       Other_Sales  Global_Sales  \n",
       "179           0.71          5.23  \n",
       "377           0.51          3.49  \n",
       "431           0.29          3.17  \n",
       "470           0.41          3.00  \n",
       "607           0.03          2.53  \n",
       "...            ...           ...  \n",
       "16307         0.00          0.01  \n",
       "16327         0.00          0.01  \n",
       "16366         0.00          0.01  \n",
       "16427         0.00          0.01  \n",
       "16493         0.00          0.01  \n",
       "\n",
       "[271 rows x 11 columns]"
      ]
     },
     "execution_count": 8,
     "metadata": {},
     "output_type": "execute_result"
    }
   ],
   "source": [
    "df_videogame[(df_videogame['Year'].isna())]"
   ]
  },
  {
   "cell_type": "code",
   "execution_count": 9,
   "id": "b774c91a",
   "metadata": {},
   "outputs": [
    {
     "data": {
      "text/plain": [
       "Wii     35\n",
       "PS2     34\n",
       "X360    30\n",
       "DS      30\n",
       "PS3     25\n",
       "XB      21\n",
       "2600    17\n",
       "PC      17\n",
       "PSP     16\n",
       "GC      14\n",
       "GBA     11\n",
       "3DS      9\n",
       "PS       7\n",
       "N64      3\n",
       "GB       1\n",
       "PSV      1\n",
       "Name: Platform, dtype: int64"
      ]
     },
     "execution_count": 9,
     "metadata": {},
     "output_type": "execute_result"
    }
   ],
   "source": [
    "df_videogame[(df_videogame['Year'].isna())]['Platform'].value_counts()"
   ]
  },
  {
   "cell_type": "code",
   "execution_count": 10,
   "id": "f57561e2",
   "metadata": {},
   "outputs": [
    {
     "data": {
      "text/html": [
       "<div>\n",
       "<style scoped>\n",
       "    .dataframe tbody tr th:only-of-type {\n",
       "        vertical-align: middle;\n",
       "    }\n",
       "\n",
       "    .dataframe tbody tr th {\n",
       "        vertical-align: top;\n",
       "    }\n",
       "\n",
       "    .dataframe thead th {\n",
       "        text-align: right;\n",
       "    }\n",
       "</style>\n",
       "<table border=\"1\" class=\"dataframe\">\n",
       "  <thead>\n",
       "    <tr style=\"text-align: right;\">\n",
       "      <th></th>\n",
       "      <th>Rank</th>\n",
       "      <th>Name</th>\n",
       "      <th>Platform</th>\n",
       "      <th>Year</th>\n",
       "      <th>Genre</th>\n",
       "      <th>Publisher</th>\n",
       "      <th>NA_Sales</th>\n",
       "      <th>EU_Sales</th>\n",
       "      <th>JP_Sales</th>\n",
       "      <th>Other_Sales</th>\n",
       "      <th>Global_Sales</th>\n",
       "    </tr>\n",
       "  </thead>\n",
       "  <tbody>\n",
       "    <tr>\n",
       "      <th>1988</th>\n",
       "      <td>1990</td>\n",
       "      <td>Guinness World Records: The Videogame</td>\n",
       "      <td>Wii</td>\n",
       "      <td>2008.0</td>\n",
       "      <td>Action</td>\n",
       "      <td>Warner Bros. Interactive Entertainment</td>\n",
       "      <td>0.46</td>\n",
       "      <td>0.47</td>\n",
       "      <td>0.00</td>\n",
       "      <td>0.11</td>\n",
       "      <td>1.04</td>\n",
       "    </tr>\n",
       "    <tr>\n",
       "      <th>1991</th>\n",
       "      <td>1993</td>\n",
       "      <td>Dragon Ball Z: Budokai Tenkaichi 3</td>\n",
       "      <td>Wii</td>\n",
       "      <td>2007.0</td>\n",
       "      <td>Fighting</td>\n",
       "      <td>Atari</td>\n",
       "      <td>0.33</td>\n",
       "      <td>0.37</td>\n",
       "      <td>0.26</td>\n",
       "      <td>0.09</td>\n",
       "      <td>1.04</td>\n",
       "    </tr>\n",
       "    <tr>\n",
       "      <th>2017</th>\n",
       "      <td>2019</td>\n",
       "      <td>Epic Mickey 2: The Power of Two</td>\n",
       "      <td>Wii</td>\n",
       "      <td>2012.0</td>\n",
       "      <td>Action</td>\n",
       "      <td>Disney Interactive Studios</td>\n",
       "      <td>0.72</td>\n",
       "      <td>0.23</td>\n",
       "      <td>0.00</td>\n",
       "      <td>0.08</td>\n",
       "      <td>1.03</td>\n",
       "    </tr>\n",
       "  </tbody>\n",
       "</table>\n",
       "</div>"
      ],
      "text/plain": [
       "      Rank                                   Name Platform    Year     Genre  \\\n",
       "1988  1990  Guinness World Records: The Videogame      Wii  2008.0    Action   \n",
       "1991  1993     Dragon Ball Z: Budokai Tenkaichi 3      Wii  2007.0  Fighting   \n",
       "2017  2019        Epic Mickey 2: The Power of Two      Wii  2012.0    Action   \n",
       "\n",
       "                                   Publisher  NA_Sales  EU_Sales  JP_Sales  \\\n",
       "1988  Warner Bros. Interactive Entertainment      0.46      0.47      0.00   \n",
       "1991                                   Atari      0.33      0.37      0.26   \n",
       "2017              Disney Interactive Studios      0.72      0.23      0.00   \n",
       "\n",
       "      Other_Sales  Global_Sales  \n",
       "1988         0.11          1.04  \n",
       "1991         0.09          1.04  \n",
       "2017         0.08          1.03  "
      ]
     },
     "execution_count": 10,
     "metadata": {},
     "output_type": "execute_result"
    }
   ],
   "source": [
    "#df_videogame[(df_videogame['Year'] ) & (df_videogame['Platform'] == 'Wii')]\n",
    "df_videogame[(df_videogame['Platform'] == 'Wii') & (df_videogame['Year'].value_counts() )]\n"
   ]
  },
  {
   "cell_type": "code",
   "execution_count": 11,
   "id": "4dca4ba5",
   "metadata": {},
   "outputs": [
    {
     "data": {
      "text/html": [
       "<div>\n",
       "<style scoped>\n",
       "    .dataframe tbody tr th:only-of-type {\n",
       "        vertical-align: middle;\n",
       "    }\n",
       "\n",
       "    .dataframe tbody tr th {\n",
       "        vertical-align: top;\n",
       "    }\n",
       "\n",
       "    .dataframe thead th {\n",
       "        text-align: right;\n",
       "    }\n",
       "</style>\n",
       "<table border=\"1\" class=\"dataframe\">\n",
       "  <thead>\n",
       "    <tr style=\"text-align: right;\">\n",
       "      <th></th>\n",
       "      <th>Rank</th>\n",
       "      <th>Name</th>\n",
       "      <th>Platform</th>\n",
       "      <th>Year</th>\n",
       "      <th>Genre</th>\n",
       "      <th>Publisher</th>\n",
       "      <th>NA_Sales</th>\n",
       "      <th>EU_Sales</th>\n",
       "      <th>JP_Sales</th>\n",
       "      <th>Other_Sales</th>\n",
       "      <th>Global_Sales</th>\n",
       "    </tr>\n",
       "  </thead>\n",
       "  <tbody>\n",
       "    <tr>\n",
       "      <th>1989</th>\n",
       "      <td>1991</td>\n",
       "      <td>MVP Baseball 2003</td>\n",
       "      <td>PS2</td>\n",
       "      <td>2003.0</td>\n",
       "      <td>Sports</td>\n",
       "      <td>Electronic Arts</td>\n",
       "      <td>0.51</td>\n",
       "      <td>0.40</td>\n",
       "      <td>0.0</td>\n",
       "      <td>0.13</td>\n",
       "      <td>1.04</td>\n",
       "    </tr>\n",
       "    <tr>\n",
       "      <th>1998</th>\n",
       "      <td>2000</td>\n",
       "      <td>Dance Dance Revolution SuperNOVA</td>\n",
       "      <td>PS2</td>\n",
       "      <td>2006.0</td>\n",
       "      <td>Simulation</td>\n",
       "      <td>Konami Digital Entertainment</td>\n",
       "      <td>0.87</td>\n",
       "      <td>0.03</td>\n",
       "      <td>0.0</td>\n",
       "      <td>0.14</td>\n",
       "      <td>1.04</td>\n",
       "    </tr>\n",
       "  </tbody>\n",
       "</table>\n",
       "</div>"
      ],
      "text/plain": [
       "      Rank                              Name Platform    Year       Genre  \\\n",
       "1989  1991                 MVP Baseball 2003      PS2  2003.0      Sports   \n",
       "1998  2000  Dance Dance Revolution SuperNOVA      PS2  2006.0  Simulation   \n",
       "\n",
       "                         Publisher  NA_Sales  EU_Sales  JP_Sales  Other_Sales  \\\n",
       "1989               Electronic Arts      0.51      0.40       0.0         0.13   \n",
       "1998  Konami Digital Entertainment      0.87      0.03       0.0         0.14   \n",
       "\n",
       "      Global_Sales  \n",
       "1989          1.04  \n",
       "1998          1.04  "
      ]
     },
     "execution_count": 11,
     "metadata": {},
     "output_type": "execute_result"
    }
   ],
   "source": [
    "df_videogame[(df_videogame['Platform'] == 'PS2') & (df_videogame['Year'].value_counts() )]"
   ]
  },
  {
   "cell_type": "code",
   "execution_count": 12,
   "id": "45c90058",
   "metadata": {},
   "outputs": [
    {
     "data": {
      "text/html": [
       "<div>\n",
       "<style scoped>\n",
       "    .dataframe tbody tr th:only-of-type {\n",
       "        vertical-align: middle;\n",
       "    }\n",
       "\n",
       "    .dataframe tbody tr th {\n",
       "        vertical-align: top;\n",
       "    }\n",
       "\n",
       "    .dataframe thead th {\n",
       "        text-align: right;\n",
       "    }\n",
       "</style>\n",
       "<table border=\"1\" class=\"dataframe\">\n",
       "  <thead>\n",
       "    <tr style=\"text-align: right;\">\n",
       "      <th></th>\n",
       "      <th>Rank</th>\n",
       "      <th>Name</th>\n",
       "      <th>Platform</th>\n",
       "      <th>Year</th>\n",
       "      <th>Genre</th>\n",
       "      <th>Publisher</th>\n",
       "      <th>NA_Sales</th>\n",
       "      <th>EU_Sales</th>\n",
       "      <th>JP_Sales</th>\n",
       "      <th>Other_Sales</th>\n",
       "      <th>Global_Sales</th>\n",
       "    </tr>\n",
       "  </thead>\n",
       "  <tbody>\n",
       "    <tr>\n",
       "      <th>1983</th>\n",
       "      <td>1985</td>\n",
       "      <td>Sonic the Hedgehog</td>\n",
       "      <td>X360</td>\n",
       "      <td>2006.0</td>\n",
       "      <td>Platform</td>\n",
       "      <td>Sega</td>\n",
       "      <td>0.44</td>\n",
       "      <td>0.49</td>\n",
       "      <td>0.0</td>\n",
       "      <td>0.11</td>\n",
       "      <td>1.05</td>\n",
       "    </tr>\n",
       "    <tr>\n",
       "      <th>2003</th>\n",
       "      <td>2005</td>\n",
       "      <td>LEGO Indiana Jones 2: The Adventure Continues</td>\n",
       "      <td>X360</td>\n",
       "      <td>2009.0</td>\n",
       "      <td>Action</td>\n",
       "      <td>Activision</td>\n",
       "      <td>0.62</td>\n",
       "      <td>0.33</td>\n",
       "      <td>0.0</td>\n",
       "      <td>0.09</td>\n",
       "      <td>1.04</td>\n",
       "    </tr>\n",
       "  </tbody>\n",
       "</table>\n",
       "</div>"
      ],
      "text/plain": [
       "      Rank                                           Name Platform    Year  \\\n",
       "1983  1985                             Sonic the Hedgehog     X360  2006.0   \n",
       "2003  2005  LEGO Indiana Jones 2: The Adventure Continues     X360  2009.0   \n",
       "\n",
       "         Genre   Publisher  NA_Sales  EU_Sales  JP_Sales  Other_Sales  \\\n",
       "1983  Platform        Sega      0.44      0.49       0.0         0.11   \n",
       "2003    Action  Activision      0.62      0.33       0.0         0.09   \n",
       "\n",
       "      Global_Sales  \n",
       "1983          1.05  \n",
       "2003          1.04  "
      ]
     },
     "execution_count": 12,
     "metadata": {},
     "output_type": "execute_result"
    }
   ],
   "source": [
    "df_videogame[(df_videogame['Platform'] == 'X360') & (df_videogame['Year'].value_counts() )]"
   ]
  },
  {
   "cell_type": "code",
   "execution_count": 13,
   "id": "07eca37e",
   "metadata": {},
   "outputs": [],
   "source": [
    "df_videogame['Year']= df_videogame['Year'].fillna(2006)"
   ]
  },
  {
   "cell_type": "code",
   "execution_count": 14,
   "id": "f163023f",
   "metadata": {},
   "outputs": [
    {
     "data": {
      "text/html": [
       "<div>\n",
       "<style scoped>\n",
       "    .dataframe tbody tr th:only-of-type {\n",
       "        vertical-align: middle;\n",
       "    }\n",
       "\n",
       "    .dataframe tbody tr th {\n",
       "        vertical-align: top;\n",
       "    }\n",
       "\n",
       "    .dataframe thead th {\n",
       "        text-align: right;\n",
       "    }\n",
       "</style>\n",
       "<table border=\"1\" class=\"dataframe\">\n",
       "  <thead>\n",
       "    <tr style=\"text-align: right;\">\n",
       "      <th></th>\n",
       "      <th>Rank</th>\n",
       "      <th>Name</th>\n",
       "      <th>Platform</th>\n",
       "      <th>Year</th>\n",
       "      <th>Genre</th>\n",
       "      <th>Publisher</th>\n",
       "      <th>NA_Sales</th>\n",
       "      <th>EU_Sales</th>\n",
       "      <th>JP_Sales</th>\n",
       "      <th>Other_Sales</th>\n",
       "      <th>Global_Sales</th>\n",
       "    </tr>\n",
       "  </thead>\n",
       "  <tbody>\n",
       "  </tbody>\n",
       "</table>\n",
       "</div>"
      ],
      "text/plain": [
       "Empty DataFrame\n",
       "Columns: [Rank, Name, Platform, Year, Genre, Publisher, NA_Sales, EU_Sales, JP_Sales, Other_Sales, Global_Sales]\n",
       "Index: []"
      ]
     },
     "execution_count": 14,
     "metadata": {},
     "output_type": "execute_result"
    }
   ],
   "source": [
    "df_videogame[(df_videogame['Year'].isna())]"
   ]
  },
  {
   "cell_type": "code",
   "execution_count": 16,
   "id": "9511ac96",
   "metadata": {},
   "outputs": [
    {
     "data": {
      "text/plain": [
       "<AxesSubplot:>"
      ]
     },
     "execution_count": 16,
     "metadata": {},
     "output_type": "execute_result"
    },
    {
     "data": {
      "image/png": "[encoded data removed]",
      "text/plain": [
       "<Figure size 1800x720 with 2 Axes>"
      ]
     },
     "metadata": {
      "needs_background": "light"
     },
     "output_type": "display_data"
    }
   ],
   "source": [
    "msno.matrix(df_videogame)"
   ]
  },
  {
   "cell_type": "code",
   "execution_count": 17,
   "id": "17c2c898",
   "metadata": {},
   "outputs": [
    {
     "data": {
      "text/html": [
       "<div>\n",
       "<style scoped>\n",
       "    .dataframe tbody tr th:only-of-type {\n",
       "        vertical-align: middle;\n",
       "    }\n",
       "\n",
       "    .dataframe tbody tr th {\n",
       "        vertical-align: top;\n",
       "    }\n",
       "\n",
       "    .dataframe thead th {\n",
       "        text-align: right;\n",
       "    }\n",
       "</style>\n",
       "<table border=\"1\" class=\"dataframe\">\n",
       "  <thead>\n",
       "    <tr style=\"text-align: right;\">\n",
       "      <th></th>\n",
       "      <th>Rank</th>\n",
       "      <th>Name</th>\n",
       "      <th>Platform</th>\n",
       "      <th>Year</th>\n",
       "      <th>Genre</th>\n",
       "      <th>Publisher</th>\n",
       "      <th>NA_Sales</th>\n",
       "      <th>EU_Sales</th>\n",
       "      <th>JP_Sales</th>\n",
       "      <th>Other_Sales</th>\n",
       "      <th>Global_Sales</th>\n",
       "    </tr>\n",
       "  </thead>\n",
       "  <tbody>\n",
       "    <tr>\n",
       "      <th>470</th>\n",
       "      <td>471</td>\n",
       "      <td>wwe Smackdown vs. Raw 2006</td>\n",
       "      <td>PS2</td>\n",
       "      <td>2006.0</td>\n",
       "      <td>Fighting</td>\n",
       "      <td>NaN</td>\n",
       "      <td>1.57</td>\n",
       "      <td>1.02</td>\n",
       "      <td>0.00</td>\n",
       "      <td>0.41</td>\n",
       "      <td>3.00</td>\n",
       "    </tr>\n",
       "    <tr>\n",
       "      <th>1303</th>\n",
       "      <td>1305</td>\n",
       "      <td>Triple Play 99</td>\n",
       "      <td>PS</td>\n",
       "      <td>2006.0</td>\n",
       "      <td>Sports</td>\n",
       "      <td>NaN</td>\n",
       "      <td>0.81</td>\n",
       "      <td>0.55</td>\n",
       "      <td>0.00</td>\n",
       "      <td>0.10</td>\n",
       "      <td>1.46</td>\n",
       "    </tr>\n",
       "    <tr>\n",
       "      <th>1662</th>\n",
       "      <td>1664</td>\n",
       "      <td>Shrek / Shrek 2 2-in-1 Gameboy Advance Video</td>\n",
       "      <td>GBA</td>\n",
       "      <td>2007.0</td>\n",
       "      <td>Misc</td>\n",
       "      <td>NaN</td>\n",
       "      <td>0.87</td>\n",
       "      <td>0.32</td>\n",
       "      <td>0.00</td>\n",
       "      <td>0.02</td>\n",
       "      <td>1.21</td>\n",
       "    </tr>\n",
       "    <tr>\n",
       "      <th>2222</th>\n",
       "      <td>2224</td>\n",
       "      <td>Bentley's Hackpack</td>\n",
       "      <td>GBA</td>\n",
       "      <td>2005.0</td>\n",
       "      <td>Misc</td>\n",
       "      <td>NaN</td>\n",
       "      <td>0.67</td>\n",
       "      <td>0.25</td>\n",
       "      <td>0.00</td>\n",
       "      <td>0.02</td>\n",
       "      <td>0.93</td>\n",
       "    </tr>\n",
       "    <tr>\n",
       "      <th>3159</th>\n",
       "      <td>3161</td>\n",
       "      <td>Nicktoons Collection: Game Boy Advance Video V...</td>\n",
       "      <td>GBA</td>\n",
       "      <td>2004.0</td>\n",
       "      <td>Misc</td>\n",
       "      <td>NaN</td>\n",
       "      <td>0.46</td>\n",
       "      <td>0.17</td>\n",
       "      <td>0.00</td>\n",
       "      <td>0.01</td>\n",
       "      <td>0.64</td>\n",
       "    </tr>\n",
       "    <tr>\n",
       "      <th>3166</th>\n",
       "      <td>3168</td>\n",
       "      <td>SpongeBob SquarePants: Game Boy Advance Video ...</td>\n",
       "      <td>GBA</td>\n",
       "      <td>2004.0</td>\n",
       "      <td>Misc</td>\n",
       "      <td>NaN</td>\n",
       "      <td>0.46</td>\n",
       "      <td>0.17</td>\n",
       "      <td>0.00</td>\n",
       "      <td>0.01</td>\n",
       "      <td>0.64</td>\n",
       "    </tr>\n",
       "    <tr>\n",
       "      <th>3766</th>\n",
       "      <td>3768</td>\n",
       "      <td>SpongeBob SquarePants: Game Boy Advance Video ...</td>\n",
       "      <td>GBA</td>\n",
       "      <td>2004.0</td>\n",
       "      <td>Misc</td>\n",
       "      <td>NaN</td>\n",
       "      <td>0.38</td>\n",
       "      <td>0.14</td>\n",
       "      <td>0.00</td>\n",
       "      <td>0.01</td>\n",
       "      <td>0.53</td>\n",
       "    </tr>\n",
       "    <tr>\n",
       "      <th>4145</th>\n",
       "      <td>4147</td>\n",
       "      <td>Sonic the Hedgehog</td>\n",
       "      <td>PS3</td>\n",
       "      <td>2006.0</td>\n",
       "      <td>Platform</td>\n",
       "      <td>NaN</td>\n",
       "      <td>0.00</td>\n",
       "      <td>0.48</td>\n",
       "      <td>0.00</td>\n",
       "      <td>0.00</td>\n",
       "      <td>0.48</td>\n",
       "    </tr>\n",
       "    <tr>\n",
       "      <th>4526</th>\n",
       "      <td>4528</td>\n",
       "      <td>The Fairly Odd Parents: Game Boy Advance Video...</td>\n",
       "      <td>GBA</td>\n",
       "      <td>2004.0</td>\n",
       "      <td>Misc</td>\n",
       "      <td>NaN</td>\n",
       "      <td>0.31</td>\n",
       "      <td>0.11</td>\n",
       "      <td>0.00</td>\n",
       "      <td>0.01</td>\n",
       "      <td>0.43</td>\n",
       "    </tr>\n",
       "    <tr>\n",
       "      <th>4635</th>\n",
       "      <td>4637</td>\n",
       "      <td>The Fairly Odd Parents: Game Boy Advance Video...</td>\n",
       "      <td>GBA</td>\n",
       "      <td>2004.0</td>\n",
       "      <td>Misc</td>\n",
       "      <td>NaN</td>\n",
       "      <td>0.30</td>\n",
       "      <td>0.11</td>\n",
       "      <td>0.00</td>\n",
       "      <td>0.01</td>\n",
       "      <td>0.42</td>\n",
       "    </tr>\n",
       "    <tr>\n",
       "      <th>5302</th>\n",
       "      <td>5304</td>\n",
       "      <td>Dragon Ball Z: Budokai Tenkaichi 2 (JP sales)</td>\n",
       "      <td>Wii</td>\n",
       "      <td>2006.0</td>\n",
       "      <td>Action</td>\n",
       "      <td>NaN</td>\n",
       "      <td>0.15</td>\n",
       "      <td>0.05</td>\n",
       "      <td>0.14</td>\n",
       "      <td>0.01</td>\n",
       "      <td>0.35</td>\n",
       "    </tr>\n",
       "    <tr>\n",
       "      <th>5647</th>\n",
       "      <td>5649</td>\n",
       "      <td>Cartoon Network Collection: Game Boy Advance V...</td>\n",
       "      <td>GBA</td>\n",
       "      <td>2005.0</td>\n",
       "      <td>Misc</td>\n",
       "      <td>NaN</td>\n",
       "      <td>0.23</td>\n",
       "      <td>0.08</td>\n",
       "      <td>0.00</td>\n",
       "      <td>0.01</td>\n",
       "      <td>0.32</td>\n",
       "    </tr>\n",
       "    <tr>\n",
       "      <th>6272</th>\n",
       "      <td>6274</td>\n",
       "      <td>The Legend of Zelda: The Minish Cap(weekly JP ...</td>\n",
       "      <td>GBA</td>\n",
       "      <td>2006.0</td>\n",
       "      <td>Action</td>\n",
       "      <td>NaN</td>\n",
       "      <td>0.00</td>\n",
       "      <td>0.00</td>\n",
       "      <td>0.27</td>\n",
       "      <td>0.01</td>\n",
       "      <td>0.27</td>\n",
       "    </tr>\n",
       "    <tr>\n",
       "      <th>6437</th>\n",
       "      <td>6439</td>\n",
       "      <td>Sonic X: Game Boy Advance Video Volume 1</td>\n",
       "      <td>GBA</td>\n",
       "      <td>2004.0</td>\n",
       "      <td>Misc</td>\n",
       "      <td>NaN</td>\n",
       "      <td>0.19</td>\n",
       "      <td>0.07</td>\n",
       "      <td>0.00</td>\n",
       "      <td>0.00</td>\n",
       "      <td>0.27</td>\n",
       "    </tr>\n",
       "    <tr>\n",
       "      <th>6562</th>\n",
       "      <td>6564</td>\n",
       "      <td>Dora the Explorer: Game Boy Advance Video Volu...</td>\n",
       "      <td>GBA</td>\n",
       "      <td>2004.0</td>\n",
       "      <td>Misc</td>\n",
       "      <td>NaN</td>\n",
       "      <td>0.18</td>\n",
       "      <td>0.07</td>\n",
       "      <td>0.00</td>\n",
       "      <td>0.00</td>\n",
       "      <td>0.26</td>\n",
       "    </tr>\n",
       "    <tr>\n",
       "      <th>6648</th>\n",
       "      <td>6650</td>\n",
       "      <td>Cartoon Network Collection: Game Boy Advance V...</td>\n",
       "      <td>GBA</td>\n",
       "      <td>2004.0</td>\n",
       "      <td>Misc</td>\n",
       "      <td>NaN</td>\n",
       "      <td>0.18</td>\n",
       "      <td>0.07</td>\n",
       "      <td>0.00</td>\n",
       "      <td>0.00</td>\n",
       "      <td>0.25</td>\n",
       "    </tr>\n",
       "    <tr>\n",
       "      <th>6849</th>\n",
       "      <td>6851</td>\n",
       "      <td>All Grown Up!: Game Boy Advance Video Volume 1</td>\n",
       "      <td>GBA</td>\n",
       "      <td>2004.0</td>\n",
       "      <td>Misc</td>\n",
       "      <td>NaN</td>\n",
       "      <td>0.17</td>\n",
       "      <td>0.06</td>\n",
       "      <td>0.00</td>\n",
       "      <td>0.00</td>\n",
       "      <td>0.24</td>\n",
       "    </tr>\n",
       "    <tr>\n",
       "      <th>7208</th>\n",
       "      <td>7210</td>\n",
       "      <td>Nicktoons Collection: Game Boy Advance Video V...</td>\n",
       "      <td>GBA</td>\n",
       "      <td>2004.0</td>\n",
       "      <td>Misc</td>\n",
       "      <td>NaN</td>\n",
       "      <td>0.16</td>\n",
       "      <td>0.06</td>\n",
       "      <td>0.00</td>\n",
       "      <td>0.00</td>\n",
       "      <td>0.22</td>\n",
       "    </tr>\n",
       "    <tr>\n",
       "      <th>7351</th>\n",
       "      <td>7353</td>\n",
       "      <td>Yu Yu Hakusho: Dark Tournament</td>\n",
       "      <td>PS2</td>\n",
       "      <td>2006.0</td>\n",
       "      <td>Fighting</td>\n",
       "      <td>NaN</td>\n",
       "      <td>0.10</td>\n",
       "      <td>0.08</td>\n",
       "      <td>0.00</td>\n",
       "      <td>0.03</td>\n",
       "      <td>0.21</td>\n",
       "    </tr>\n",
       "    <tr>\n",
       "      <th>7470</th>\n",
       "      <td>7472</td>\n",
       "      <td>SpongeBob SquarePants: Game Boy Advance Video ...</td>\n",
       "      <td>GBA</td>\n",
       "      <td>2004.0</td>\n",
       "      <td>Misc</td>\n",
       "      <td>NaN</td>\n",
       "      <td>0.15</td>\n",
       "      <td>0.05</td>\n",
       "      <td>0.00</td>\n",
       "      <td>0.00</td>\n",
       "      <td>0.21</td>\n",
       "    </tr>\n",
       "    <tr>\n",
       "      <th>7953</th>\n",
       "      <td>7955</td>\n",
       "      <td>Thomas the Tank Engine &amp; Friends</td>\n",
       "      <td>GBA</td>\n",
       "      <td>2004.0</td>\n",
       "      <td>Adventure</td>\n",
       "      <td>NaN</td>\n",
       "      <td>0.13</td>\n",
       "      <td>0.05</td>\n",
       "      <td>0.00</td>\n",
       "      <td>0.00</td>\n",
       "      <td>0.19</td>\n",
       "    </tr>\n",
       "    <tr>\n",
       "      <th>8330</th>\n",
       "      <td>8332</td>\n",
       "      <td>Dragon Ball GT: Game Boy Advance Video Volume 1</td>\n",
       "      <td>GBA</td>\n",
       "      <td>2004.0</td>\n",
       "      <td>Misc</td>\n",
       "      <td>NaN</td>\n",
       "      <td>0.12</td>\n",
       "      <td>0.05</td>\n",
       "      <td>0.00</td>\n",
       "      <td>0.00</td>\n",
       "      <td>0.17</td>\n",
       "    </tr>\n",
       "    <tr>\n",
       "      <th>8341</th>\n",
       "      <td>8343</td>\n",
       "      <td>Codename: Kids Next Door: Game Boy Advance Vid...</td>\n",
       "      <td>GBA</td>\n",
       "      <td>2004.0</td>\n",
       "      <td>Misc</td>\n",
       "      <td>NaN</td>\n",
       "      <td>0.12</td>\n",
       "      <td>0.05</td>\n",
       "      <td>0.00</td>\n",
       "      <td>0.00</td>\n",
       "      <td>0.17</td>\n",
       "    </tr>\n",
       "    <tr>\n",
       "      <th>8368</th>\n",
       "      <td>8370</td>\n",
       "      <td>Teenage Mutant Ninja Turtles: Game Boy Advance...</td>\n",
       "      <td>GBA</td>\n",
       "      <td>2004.0</td>\n",
       "      <td>Misc</td>\n",
       "      <td>NaN</td>\n",
       "      <td>0.12</td>\n",
       "      <td>0.04</td>\n",
       "      <td>0.00</td>\n",
       "      <td>0.00</td>\n",
       "      <td>0.17</td>\n",
       "    </tr>\n",
       "    <tr>\n",
       "      <th>8503</th>\n",
       "      <td>8505</td>\n",
       "      <td>Stronghold 3</td>\n",
       "      <td>PC</td>\n",
       "      <td>2011.0</td>\n",
       "      <td>Strategy</td>\n",
       "      <td>NaN</td>\n",
       "      <td>0.06</td>\n",
       "      <td>0.10</td>\n",
       "      <td>0.00</td>\n",
       "      <td>0.00</td>\n",
       "      <td>0.16</td>\n",
       "    </tr>\n",
       "    <tr>\n",
       "      <th>8770</th>\n",
       "      <td>8772</td>\n",
       "      <td>Cartoon Network Collection: Game Boy Advance V...</td>\n",
       "      <td>GBA</td>\n",
       "      <td>2005.0</td>\n",
       "      <td>Misc</td>\n",
       "      <td>NaN</td>\n",
       "      <td>0.11</td>\n",
       "      <td>0.04</td>\n",
       "      <td>0.00</td>\n",
       "      <td>0.00</td>\n",
       "      <td>0.15</td>\n",
       "    </tr>\n",
       "    <tr>\n",
       "      <th>8848</th>\n",
       "      <td>8850</td>\n",
       "      <td>Pokémon: Johto Photo Finish: Game Boy Advance ...</td>\n",
       "      <td>GBA</td>\n",
       "      <td>2004.0</td>\n",
       "      <td>Misc</td>\n",
       "      <td>NaN</td>\n",
       "      <td>0.11</td>\n",
       "      <td>0.04</td>\n",
       "      <td>0.00</td>\n",
       "      <td>0.00</td>\n",
       "      <td>0.15</td>\n",
       "    </tr>\n",
       "    <tr>\n",
       "      <th>8896</th>\n",
       "      <td>8898</td>\n",
       "      <td>Strawberry Shortcake: Game Boy Advance Video V...</td>\n",
       "      <td>GBA</td>\n",
       "      <td>2004.0</td>\n",
       "      <td>Misc</td>\n",
       "      <td>NaN</td>\n",
       "      <td>0.11</td>\n",
       "      <td>0.04</td>\n",
       "      <td>0.00</td>\n",
       "      <td>0.00</td>\n",
       "      <td>0.15</td>\n",
       "    </tr>\n",
       "    <tr>\n",
       "      <th>9517</th>\n",
       "      <td>9519</td>\n",
       "      <td>Farming Simulator 2011</td>\n",
       "      <td>PC</td>\n",
       "      <td>2010.0</td>\n",
       "      <td>Simulation</td>\n",
       "      <td>NaN</td>\n",
       "      <td>0.00</td>\n",
       "      <td>0.13</td>\n",
       "      <td>0.00</td>\n",
       "      <td>0.00</td>\n",
       "      <td>0.13</td>\n",
       "    </tr>\n",
       "    <tr>\n",
       "      <th>9749</th>\n",
       "      <td>9751</td>\n",
       "      <td>Super Robot Wars OG Saga: Masou Kishin II - Re...</td>\n",
       "      <td>PSP</td>\n",
       "      <td>2006.0</td>\n",
       "      <td>Strategy</td>\n",
       "      <td>NaN</td>\n",
       "      <td>0.00</td>\n",
       "      <td>0.00</td>\n",
       "      <td>0.12</td>\n",
       "      <td>0.00</td>\n",
       "      <td>0.12</td>\n",
       "    </tr>\n",
       "    <tr>\n",
       "      <th>10382</th>\n",
       "      <td>10384</td>\n",
       "      <td>Disney Channel Collection Vol. 1</td>\n",
       "      <td>GBA</td>\n",
       "      <td>2004.0</td>\n",
       "      <td>Misc</td>\n",
       "      <td>NaN</td>\n",
       "      <td>0.08</td>\n",
       "      <td>0.03</td>\n",
       "      <td>0.00</td>\n",
       "      <td>0.00</td>\n",
       "      <td>0.11</td>\n",
       "    </tr>\n",
       "    <tr>\n",
       "      <th>10494</th>\n",
       "      <td>10496</td>\n",
       "      <td>Atsumare! Power Pro Kun no DS Koushien</td>\n",
       "      <td>DS</td>\n",
       "      <td>2006.0</td>\n",
       "      <td>Sports</td>\n",
       "      <td>NaN</td>\n",
       "      <td>0.00</td>\n",
       "      <td>0.00</td>\n",
       "      <td>0.10</td>\n",
       "      <td>0.00</td>\n",
       "      <td>0.10</td>\n",
       "    </tr>\n",
       "    <tr>\n",
       "      <th>11076</th>\n",
       "      <td>11078</td>\n",
       "      <td>Action Man-Operation Extreme</td>\n",
       "      <td>PS</td>\n",
       "      <td>2006.0</td>\n",
       "      <td>Action</td>\n",
       "      <td>NaN</td>\n",
       "      <td>0.05</td>\n",
       "      <td>0.03</td>\n",
       "      <td>0.00</td>\n",
       "      <td>0.01</td>\n",
       "      <td>0.09</td>\n",
       "    </tr>\n",
       "    <tr>\n",
       "      <th>11526</th>\n",
       "      <td>11528</td>\n",
       "      <td>Cartoon Network Collection: Game Boy Advance V...</td>\n",
       "      <td>GBA</td>\n",
       "      <td>2004.0</td>\n",
       "      <td>Misc</td>\n",
       "      <td>NaN</td>\n",
       "      <td>0.06</td>\n",
       "      <td>0.02</td>\n",
       "      <td>0.00</td>\n",
       "      <td>0.00</td>\n",
       "      <td>0.08</td>\n",
       "    </tr>\n",
       "    <tr>\n",
       "      <th>12487</th>\n",
       "      <td>12489</td>\n",
       "      <td>Chou Soujuu Mecha MG</td>\n",
       "      <td>DS</td>\n",
       "      <td>2006.0</td>\n",
       "      <td>Simulation</td>\n",
       "      <td>NaN</td>\n",
       "      <td>0.00</td>\n",
       "      <td>0.00</td>\n",
       "      <td>0.06</td>\n",
       "      <td>0.00</td>\n",
       "      <td>0.06</td>\n",
       "    </tr>\n",
       "    <tr>\n",
       "      <th>12517</th>\n",
       "      <td>12519</td>\n",
       "      <td>Prinny: Can I Really Be The Hero? (US sales)</td>\n",
       "      <td>PSP</td>\n",
       "      <td>2006.0</td>\n",
       "      <td>Action</td>\n",
       "      <td>NaN</td>\n",
       "      <td>0.06</td>\n",
       "      <td>0.00</td>\n",
       "      <td>0.00</td>\n",
       "      <td>0.00</td>\n",
       "      <td>0.06</td>\n",
       "    </tr>\n",
       "    <tr>\n",
       "      <th>13278</th>\n",
       "      <td>13280</td>\n",
       "      <td>Monster Hunter Frontier Online</td>\n",
       "      <td>PS3</td>\n",
       "      <td>2006.0</td>\n",
       "      <td>Role-Playing</td>\n",
       "      <td>NaN</td>\n",
       "      <td>0.00</td>\n",
       "      <td>0.00</td>\n",
       "      <td>0.05</td>\n",
       "      <td>0.00</td>\n",
       "      <td>0.05</td>\n",
       "    </tr>\n",
       "    <tr>\n",
       "      <th>13672</th>\n",
       "      <td>13674</td>\n",
       "      <td>B.L.U.E.: Legend of Water</td>\n",
       "      <td>PS</td>\n",
       "      <td>2006.0</td>\n",
       "      <td>Adventure</td>\n",
       "      <td>NaN</td>\n",
       "      <td>0.00</td>\n",
       "      <td>0.00</td>\n",
       "      <td>0.04</td>\n",
       "      <td>0.00</td>\n",
       "      <td>0.04</td>\n",
       "    </tr>\n",
       "    <tr>\n",
       "      <th>13962</th>\n",
       "      <td>13964</td>\n",
       "      <td>World of Tanks</td>\n",
       "      <td>X360</td>\n",
       "      <td>2006.0</td>\n",
       "      <td>Shooter</td>\n",
       "      <td>NaN</td>\n",
       "      <td>0.00</td>\n",
       "      <td>0.03</td>\n",
       "      <td>0.00</td>\n",
       "      <td>0.00</td>\n",
       "      <td>0.04</td>\n",
       "    </tr>\n",
       "    <tr>\n",
       "      <th>14087</th>\n",
       "      <td>14089</td>\n",
       "      <td>Housekeeping</td>\n",
       "      <td>DS</td>\n",
       "      <td>2006.0</td>\n",
       "      <td>Action</td>\n",
       "      <td>NaN</td>\n",
       "      <td>0.00</td>\n",
       "      <td>0.00</td>\n",
       "      <td>0.04</td>\n",
       "      <td>0.00</td>\n",
       "      <td>0.04</td>\n",
       "    </tr>\n",
       "    <tr>\n",
       "      <th>14296</th>\n",
       "      <td>14299</td>\n",
       "      <td>Bikkuriman Daijiten</td>\n",
       "      <td>DS</td>\n",
       "      <td>2006.0</td>\n",
       "      <td>Misc</td>\n",
       "      <td>NaN</td>\n",
       "      <td>0.00</td>\n",
       "      <td>0.00</td>\n",
       "      <td>0.03</td>\n",
       "      <td>0.00</td>\n",
       "      <td>0.03</td>\n",
       "    </tr>\n",
       "    <tr>\n",
       "      <th>14311</th>\n",
       "      <td>14314</td>\n",
       "      <td>Silverlicious</td>\n",
       "      <td>DS</td>\n",
       "      <td>2012.0</td>\n",
       "      <td>Action</td>\n",
       "      <td>NaN</td>\n",
       "      <td>0.03</td>\n",
       "      <td>0.00</td>\n",
       "      <td>0.00</td>\n",
       "      <td>0.00</td>\n",
       "      <td>0.03</td>\n",
       "    </tr>\n",
       "    <tr>\n",
       "      <th>14698</th>\n",
       "      <td>14701</td>\n",
       "      <td>UK Truck Simulator</td>\n",
       "      <td>PC</td>\n",
       "      <td>2010.0</td>\n",
       "      <td>Simulation</td>\n",
       "      <td>NaN</td>\n",
       "      <td>0.00</td>\n",
       "      <td>0.03</td>\n",
       "      <td>0.00</td>\n",
       "      <td>0.00</td>\n",
       "      <td>0.03</td>\n",
       "    </tr>\n",
       "    <tr>\n",
       "      <th>14942</th>\n",
       "      <td>14945</td>\n",
       "      <td>Umineko no Naku Koro ni San: Shinjitsu to Gens...</td>\n",
       "      <td>PS3</td>\n",
       "      <td>2006.0</td>\n",
       "      <td>Adventure</td>\n",
       "      <td>NaN</td>\n",
       "      <td>0.00</td>\n",
       "      <td>0.00</td>\n",
       "      <td>0.02</td>\n",
       "      <td>0.00</td>\n",
       "      <td>0.02</td>\n",
       "    </tr>\n",
       "    <tr>\n",
       "      <th>15056</th>\n",
       "      <td>15059</td>\n",
       "      <td>Xia-Xia</td>\n",
       "      <td>DS</td>\n",
       "      <td>2012.0</td>\n",
       "      <td>Platform</td>\n",
       "      <td>NaN</td>\n",
       "      <td>0.00</td>\n",
       "      <td>0.02</td>\n",
       "      <td>0.00</td>\n",
       "      <td>0.00</td>\n",
       "      <td>0.02</td>\n",
       "    </tr>\n",
       "    <tr>\n",
       "      <th>15261</th>\n",
       "      <td>15264</td>\n",
       "      <td>Mario Tennis</td>\n",
       "      <td>3DS</td>\n",
       "      <td>2006.0</td>\n",
       "      <td>Sports</td>\n",
       "      <td>NaN</td>\n",
       "      <td>0.00</td>\n",
       "      <td>0.00</td>\n",
       "      <td>0.02</td>\n",
       "      <td>0.00</td>\n",
       "      <td>0.02</td>\n",
       "    </tr>\n",
       "    <tr>\n",
       "      <th>15325</th>\n",
       "      <td>15328</td>\n",
       "      <td>Nicktoons Collection: Game Boy Advance Video V...</td>\n",
       "      <td>GBA</td>\n",
       "      <td>2005.0</td>\n",
       "      <td>Misc</td>\n",
       "      <td>NaN</td>\n",
       "      <td>0.01</td>\n",
       "      <td>0.01</td>\n",
       "      <td>0.00</td>\n",
       "      <td>0.00</td>\n",
       "      <td>0.02</td>\n",
       "    </tr>\n",
       "    <tr>\n",
       "      <th>15353</th>\n",
       "      <td>15356</td>\n",
       "      <td>Demolition Company: Gold Edition</td>\n",
       "      <td>PC</td>\n",
       "      <td>2011.0</td>\n",
       "      <td>Simulation</td>\n",
       "      <td>NaN</td>\n",
       "      <td>0.00</td>\n",
       "      <td>0.02</td>\n",
       "      <td>0.00</td>\n",
       "      <td>0.00</td>\n",
       "      <td>0.02</td>\n",
       "    </tr>\n",
       "    <tr>\n",
       "      <th>15788</th>\n",
       "      <td>15791</td>\n",
       "      <td>Moshi, Kono Sekai ni Kami-sama ga Iru to suru ...</td>\n",
       "      <td>PSV</td>\n",
       "      <td>2016.0</td>\n",
       "      <td>Adventure</td>\n",
       "      <td>NaN</td>\n",
       "      <td>0.00</td>\n",
       "      <td>0.00</td>\n",
       "      <td>0.02</td>\n",
       "      <td>0.00</td>\n",
       "      <td>0.02</td>\n",
       "    </tr>\n",
       "    <tr>\n",
       "      <th>15915</th>\n",
       "      <td>15918</td>\n",
       "      <td>Dream Dancer</td>\n",
       "      <td>DS</td>\n",
       "      <td>2006.0</td>\n",
       "      <td>Misc</td>\n",
       "      <td>NaN</td>\n",
       "      <td>0.01</td>\n",
       "      <td>0.00</td>\n",
       "      <td>0.00</td>\n",
       "      <td>0.00</td>\n",
       "      <td>0.02</td>\n",
       "    </tr>\n",
       "    <tr>\n",
       "      <th>16191</th>\n",
       "      <td>16194</td>\n",
       "      <td>Homeworld Remastered Collection</td>\n",
       "      <td>PC</td>\n",
       "      <td>2006.0</td>\n",
       "      <td>Strategy</td>\n",
       "      <td>NaN</td>\n",
       "      <td>0.00</td>\n",
       "      <td>0.01</td>\n",
       "      <td>0.00</td>\n",
       "      <td>0.00</td>\n",
       "      <td>0.01</td>\n",
       "    </tr>\n",
       "    <tr>\n",
       "      <th>16198</th>\n",
       "      <td>16201</td>\n",
       "      <td>AKB1/48: Idol to Guam de Koishitara...</td>\n",
       "      <td>X360</td>\n",
       "      <td>2006.0</td>\n",
       "      <td>Misc</td>\n",
       "      <td>NaN</td>\n",
       "      <td>0.00</td>\n",
       "      <td>0.00</td>\n",
       "      <td>0.01</td>\n",
       "      <td>0.00</td>\n",
       "      <td>0.01</td>\n",
       "    </tr>\n",
       "    <tr>\n",
       "      <th>16208</th>\n",
       "      <td>16211</td>\n",
       "      <td>Super Robot Monkey Team: Game Boy Advance Vide...</td>\n",
       "      <td>GBA</td>\n",
       "      <td>2005.0</td>\n",
       "      <td>Misc</td>\n",
       "      <td>NaN</td>\n",
       "      <td>0.01</td>\n",
       "      <td>0.00</td>\n",
       "      <td>0.00</td>\n",
       "      <td>0.00</td>\n",
       "      <td>0.01</td>\n",
       "    </tr>\n",
       "    <tr>\n",
       "      <th>16229</th>\n",
       "      <td>16232</td>\n",
       "      <td>Brothers in Arms: Furious 4</td>\n",
       "      <td>X360</td>\n",
       "      <td>2006.0</td>\n",
       "      <td>Shooter</td>\n",
       "      <td>NaN</td>\n",
       "      <td>0.01</td>\n",
       "      <td>0.00</td>\n",
       "      <td>0.00</td>\n",
       "      <td>0.00</td>\n",
       "      <td>0.01</td>\n",
       "    </tr>\n",
       "    <tr>\n",
       "      <th>16367</th>\n",
       "      <td>16370</td>\n",
       "      <td>Dance with Devils</td>\n",
       "      <td>PSV</td>\n",
       "      <td>2016.0</td>\n",
       "      <td>Action</td>\n",
       "      <td>NaN</td>\n",
       "      <td>0.00</td>\n",
       "      <td>0.00</td>\n",
       "      <td>0.01</td>\n",
       "      <td>0.00</td>\n",
       "      <td>0.01</td>\n",
       "    </tr>\n",
       "    <tr>\n",
       "      <th>16494</th>\n",
       "      <td>16497</td>\n",
       "      <td>Legends of Oz: Dorothy's Return</td>\n",
       "      <td>3DS</td>\n",
       "      <td>2014.0</td>\n",
       "      <td>Puzzle</td>\n",
       "      <td>NaN</td>\n",
       "      <td>0.00</td>\n",
       "      <td>0.01</td>\n",
       "      <td>0.00</td>\n",
       "      <td>0.00</td>\n",
       "      <td>0.01</td>\n",
       "    </tr>\n",
       "    <tr>\n",
       "      <th>16543</th>\n",
       "      <td>16546</td>\n",
       "      <td>Driving Simulator 2011</td>\n",
       "      <td>PC</td>\n",
       "      <td>2011.0</td>\n",
       "      <td>Racing</td>\n",
       "      <td>NaN</td>\n",
       "      <td>0.00</td>\n",
       "      <td>0.01</td>\n",
       "      <td>0.00</td>\n",
       "      <td>0.00</td>\n",
       "      <td>0.01</td>\n",
       "    </tr>\n",
       "    <tr>\n",
       "      <th>16553</th>\n",
       "      <td>16556</td>\n",
       "      <td>Bound By Flame</td>\n",
       "      <td>X360</td>\n",
       "      <td>2014.0</td>\n",
       "      <td>Role-Playing</td>\n",
       "      <td>NaN</td>\n",
       "      <td>0.00</td>\n",
       "      <td>0.01</td>\n",
       "      <td>0.00</td>\n",
       "      <td>0.00</td>\n",
       "      <td>0.01</td>\n",
       "    </tr>\n",
       "  </tbody>\n",
       "</table>\n",
       "</div>"
      ],
      "text/plain": [
       "        Rank                                               Name Platform  \\\n",
       "470      471                         wwe Smackdown vs. Raw 2006      PS2   \n",
       "1303    1305                                     Triple Play 99       PS   \n",
       "1662    1664       Shrek / Shrek 2 2-in-1 Gameboy Advance Video      GBA   \n",
       "2222    2224                                 Bentley's Hackpack      GBA   \n",
       "3159    3161  Nicktoons Collection: Game Boy Advance Video V...      GBA   \n",
       "3166    3168  SpongeBob SquarePants: Game Boy Advance Video ...      GBA   \n",
       "3766    3768  SpongeBob SquarePants: Game Boy Advance Video ...      GBA   \n",
       "4145    4147                                 Sonic the Hedgehog      PS3   \n",
       "4526    4528  The Fairly Odd Parents: Game Boy Advance Video...      GBA   \n",
       "4635    4637  The Fairly Odd Parents: Game Boy Advance Video...      GBA   \n",
       "5302    5304      Dragon Ball Z: Budokai Tenkaichi 2 (JP sales)      Wii   \n",
       "5647    5649  Cartoon Network Collection: Game Boy Advance V...      GBA   \n",
       "6272    6274  The Legend of Zelda: The Minish Cap(weekly JP ...      GBA   \n",
       "6437    6439           Sonic X: Game Boy Advance Video Volume 1      GBA   \n",
       "6562    6564  Dora the Explorer: Game Boy Advance Video Volu...      GBA   \n",
       "6648    6650  Cartoon Network Collection: Game Boy Advance V...      GBA   \n",
       "6849    6851     All Grown Up!: Game Boy Advance Video Volume 1      GBA   \n",
       "7208    7210  Nicktoons Collection: Game Boy Advance Video V...      GBA   \n",
       "7351    7353                     Yu Yu Hakusho: Dark Tournament      PS2   \n",
       "7470    7472  SpongeBob SquarePants: Game Boy Advance Video ...      GBA   \n",
       "7953    7955                   Thomas the Tank Engine & Friends      GBA   \n",
       "8330    8332    Dragon Ball GT: Game Boy Advance Video Volume 1      GBA   \n",
       "8341    8343  Codename: Kids Next Door: Game Boy Advance Vid...      GBA   \n",
       "8368    8370  Teenage Mutant Ninja Turtles: Game Boy Advance...      GBA   \n",
       "8503    8505                                       Stronghold 3       PC   \n",
       "8770    8772  Cartoon Network Collection: Game Boy Advance V...      GBA   \n",
       "8848    8850  Pokémon: Johto Photo Finish: Game Boy Advance ...      GBA   \n",
       "8896    8898  Strawberry Shortcake: Game Boy Advance Video V...      GBA   \n",
       "9517    9519                             Farming Simulator 2011       PC   \n",
       "9749    9751  Super Robot Wars OG Saga: Masou Kishin II - Re...      PSP   \n",
       "10382  10384                   Disney Channel Collection Vol. 1      GBA   \n",
       "10494  10496             Atsumare! Power Pro Kun no DS Koushien       DS   \n",
       "11076  11078                       Action Man-Operation Extreme       PS   \n",
       "11526  11528  Cartoon Network Collection: Game Boy Advance V...      GBA   \n",
       "12487  12489                               Chou Soujuu Mecha MG       DS   \n",
       "12517  12519       Prinny: Can I Really Be The Hero? (US sales)      PSP   \n",
       "13278  13280                     Monster Hunter Frontier Online      PS3   \n",
       "13672  13674                          B.L.U.E.: Legend of Water       PS   \n",
       "13962  13964                                     World of Tanks     X360   \n",
       "14087  14089                                       Housekeeping       DS   \n",
       "14296  14299                                Bikkuriman Daijiten       DS   \n",
       "14311  14314                                      Silverlicious       DS   \n",
       "14698  14701                                 UK Truck Simulator       PC   \n",
       "14942  14945  Umineko no Naku Koro ni San: Shinjitsu to Gens...      PS3   \n",
       "15056  15059                                            Xia-Xia       DS   \n",
       "15261  15264                                       Mario Tennis      3DS   \n",
       "15325  15328  Nicktoons Collection: Game Boy Advance Video V...      GBA   \n",
       "15353  15356                   Demolition Company: Gold Edition       PC   \n",
       "15788  15791  Moshi, Kono Sekai ni Kami-sama ga Iru to suru ...      PSV   \n",
       "15915  15918                                       Dream Dancer       DS   \n",
       "16191  16194                    Homeworld Remastered Collection       PC   \n",
       "16198  16201             AKB1/48: Idol to Guam de Koishitara...     X360   \n",
       "16208  16211  Super Robot Monkey Team: Game Boy Advance Vide...      GBA   \n",
       "16229  16232                        Brothers in Arms: Furious 4     X360   \n",
       "16367  16370                                  Dance with Devils      PSV   \n",
       "16494  16497                    Legends of Oz: Dorothy's Return      3DS   \n",
       "16543  16546                             Driving Simulator 2011       PC   \n",
       "16553  16556                                     Bound By Flame     X360   \n",
       "\n",
       "         Year         Genre Publisher  NA_Sales  EU_Sales  JP_Sales  \\\n",
       "470    2006.0      Fighting       NaN      1.57      1.02      0.00   \n",
       "1303   2006.0        Sports       NaN      0.81      0.55      0.00   \n",
       "1662   2007.0          Misc       NaN      0.87      0.32      0.00   \n",
       "2222   2005.0          Misc       NaN      0.67      0.25      0.00   \n",
       "3159   2004.0          Misc       NaN      0.46      0.17      0.00   \n",
       "3166   2004.0          Misc       NaN      0.46      0.17      0.00   \n",
       "3766   2004.0          Misc       NaN      0.38      0.14      0.00   \n",
       "4145   2006.0      Platform       NaN      0.00      0.48      0.00   \n",
       "4526   2004.0          Misc       NaN      0.31      0.11      0.00   \n",
       "4635   2004.0          Misc       NaN      0.30      0.11      0.00   \n",
       "5302   2006.0        Action       NaN      0.15      0.05      0.14   \n",
       "5647   2005.0          Misc       NaN      0.23      0.08      0.00   \n",
       "6272   2006.0        Action       NaN      0.00      0.00      0.27   \n",
       "6437   2004.0          Misc       NaN      0.19      0.07      0.00   \n",
       "6562   2004.0          Misc       NaN      0.18      0.07      0.00   \n",
       "6648   2004.0          Misc       NaN      0.18      0.07      0.00   \n",
       "6849   2004.0          Misc       NaN      0.17      0.06      0.00   \n",
       "7208   2004.0          Misc       NaN      0.16      0.06      0.00   \n",
       "7351   2006.0      Fighting       NaN      0.10      0.08      0.00   \n",
       "7470   2004.0          Misc       NaN      0.15      0.05      0.00   \n",
       "7953   2004.0     Adventure       NaN      0.13      0.05      0.00   \n",
       "8330   2004.0          Misc       NaN      0.12      0.05      0.00   \n",
       "8341   2004.0          Misc       NaN      0.12      0.05      0.00   \n",
       "8368   2004.0          Misc       NaN      0.12      0.04      0.00   \n",
       "8503   2011.0      Strategy       NaN      0.06      0.10      0.00   \n",
       "8770   2005.0          Misc       NaN      0.11      0.04      0.00   \n",
       "8848   2004.0          Misc       NaN      0.11      0.04      0.00   \n",
       "8896   2004.0          Misc       NaN      0.11      0.04      0.00   \n",
       "9517   2010.0    Simulation       NaN      0.00      0.13      0.00   \n",
       "9749   2006.0      Strategy       NaN      0.00      0.00      0.12   \n",
       "10382  2004.0          Misc       NaN      0.08      0.03      0.00   \n",
       "10494  2006.0        Sports       NaN      0.00      0.00      0.10   \n",
       "11076  2006.0        Action       NaN      0.05      0.03      0.00   \n",
       "11526  2004.0          Misc       NaN      0.06      0.02      0.00   \n",
       "12487  2006.0    Simulation       NaN      0.00      0.00      0.06   \n",
       "12517  2006.0        Action       NaN      0.06      0.00      0.00   \n",
       "13278  2006.0  Role-Playing       NaN      0.00      0.00      0.05   \n",
       "13672  2006.0     Adventure       NaN      0.00      0.00      0.04   \n",
       "13962  2006.0       Shooter       NaN      0.00      0.03      0.00   \n",
       "14087  2006.0        Action       NaN      0.00      0.00      0.04   \n",
       "14296  2006.0          Misc       NaN      0.00      0.00      0.03   \n",
       "14311  2012.0        Action       NaN      0.03      0.00      0.00   \n",
       "14698  2010.0    Simulation       NaN      0.00      0.03      0.00   \n",
       "14942  2006.0     Adventure       NaN      0.00      0.00      0.02   \n",
       "15056  2012.0      Platform       NaN      0.00      0.02      0.00   \n",
       "15261  2006.0        Sports       NaN      0.00      0.00      0.02   \n",
       "15325  2005.0          Misc       NaN      0.01      0.01      0.00   \n",
       "15353  2011.0    Simulation       NaN      0.00      0.02      0.00   \n",
       "15788  2016.0     Adventure       NaN      0.00      0.00      0.02   \n",
       "15915  2006.0          Misc       NaN      0.01      0.00      0.00   \n",
       "16191  2006.0      Strategy       NaN      0.00      0.01      0.00   \n",
       "16198  2006.0          Misc       NaN      0.00      0.00      0.01   \n",
       "16208  2005.0          Misc       NaN      0.01      0.00      0.00   \n",
       "16229  2006.0       Shooter       NaN      0.01      0.00      0.00   \n",
       "16367  2016.0        Action       NaN      0.00      0.00      0.01   \n",
       "16494  2014.0        Puzzle       NaN      0.00      0.01      0.00   \n",
       "16543  2011.0        Racing       NaN      0.00      0.01      0.00   \n",
       "16553  2014.0  Role-Playing       NaN      0.00      0.01      0.00   \n",
       "\n",
       "       Other_Sales  Global_Sales  \n",
       "470           0.41          3.00  \n",
       "1303          0.10          1.46  \n",
       "1662          0.02          1.21  \n",
       "2222          0.02          0.93  \n",
       "3159          0.01          0.64  \n",
       "3166          0.01          0.64  \n",
       "3766          0.01          0.53  \n",
       "4145          0.00          0.48  \n",
       "4526          0.01          0.43  \n",
       "4635          0.01          0.42  \n",
       "5302          0.01          0.35  \n",
       "5647          0.01          0.32  \n",
       "6272          0.01          0.27  \n",
       "6437          0.00          0.27  \n",
       "6562          0.00          0.26  \n",
       "6648          0.00          0.25  \n",
       "6849          0.00          0.24  \n",
       "7208          0.00          0.22  \n",
       "7351          0.03          0.21  \n",
       "7470          0.00          0.21  \n",
       "7953          0.00          0.19  \n",
       "8330          0.00          0.17  \n",
       "8341          0.00          0.17  \n",
       "8368          0.00          0.17  \n",
       "8503          0.00          0.16  \n",
       "8770          0.00          0.15  \n",
       "8848          0.00          0.15  \n",
       "8896          0.00          0.15  \n",
       "9517          0.00          0.13  \n",
       "9749          0.00          0.12  \n",
       "10382         0.00          0.11  \n",
       "10494         0.00          0.10  \n",
       "11076         0.01          0.09  \n",
       "11526         0.00          0.08  \n",
       "12487         0.00          0.06  \n",
       "12517         0.00          0.06  \n",
       "13278         0.00          0.05  \n",
       "13672         0.00          0.04  \n",
       "13962         0.00          0.04  \n",
       "14087         0.00          0.04  \n",
       "14296         0.00          0.03  \n",
       "14311         0.00          0.03  \n",
       "14698         0.00          0.03  \n",
       "14942         0.00          0.02  \n",
       "15056         0.00          0.02  \n",
       "15261         0.00          0.02  \n",
       "15325         0.00          0.02  \n",
       "15353         0.00          0.02  \n",
       "15788         0.00          0.02  \n",
       "15915         0.00          0.02  \n",
       "16191         0.00          0.01  \n",
       "16198         0.00          0.01  \n",
       "16208         0.00          0.01  \n",
       "16229         0.00          0.01  \n",
       "16367         0.00          0.01  \n",
       "16494         0.00          0.01  \n",
       "16543         0.00          0.01  \n",
       "16553         0.00          0.01  "
      ]
     },
     "execution_count": 17,
     "metadata": {},
     "output_type": "execute_result"
    }
   ],
   "source": [
    "df_videogame[(df_videogame['Publisher'].isna())]"
   ]
  },
  {
   "cell_type": "code",
   "execution_count": 18,
   "id": "bf6ba17f",
   "metadata": {},
   "outputs": [
    {
     "data": {
      "text/plain": [
       "WayForward Technologies         1\n",
       "Ertain                          1\n",
       "Marvel Entertainment            1\n",
       "Phantagram                      1\n",
       "The Learning Company            1\n",
       "Vap                             1\n",
       "Altron                          1\n",
       "Team17 Software                 1\n",
       "Pow                             1\n",
       "Navarre Corp                    1\n",
       "MediaQuest                      1\n",
       "Max Five                        1\n",
       "Monte Christo Multimedia        1\n",
       "Pony Canyon                     1\n",
       "Riverhillsoft                   1\n",
       "Summitsoft                      1\n",
       "Playmore                        1\n",
       "MLB.com                         1\n",
       "Kool Kizz                       1\n",
       "iWin                            1\n",
       "Aria                            1\n",
       "T&E Soft                        1\n",
       "Phantom EFX                     1\n",
       "NDA Productions                 1\n",
       "Gameloft                        1\n",
       "Simon & Schuster Interactive    1\n",
       "PopTop Software                 1\n",
       "TOHO                            1\n",
       "PM Studios                      1\n",
       "GameTek                         1\n",
       "Type-Moon                       1\n",
       "Enjoy Gaming ltd.               1\n",
       "Interplay Productions           1\n",
       "inXile Entertainment            1\n",
       "Image Epoch                     1\n",
       "Culture Publishers              1\n",
       "Evolution Games                 1\n",
       "Griffin International           1\n",
       "Hearty Robin                    1\n",
       "Nippon Amuse                    1\n",
       "Origin Systems                  1\n",
       "Seventh Chord                   1\n",
       "Mitsui                          1\n",
       "Milestone                       1\n",
       "Abylight                        1\n",
       "Glams                           1\n",
       "Locus                           1\n",
       "Warp                            1\n",
       "Elite                           1\n",
       "UIG Entertainment               1\n",
       "Name: Publisher, dtype: int64"
      ]
     },
     "execution_count": 18,
     "metadata": {},
     "output_type": "execute_result"
    }
   ],
   "source": [
    "df_videogame['Publisher'].value_counts(dropna=False).tail(50)"
   ]
  },
  {
   "cell_type": "code",
   "execution_count": 19,
   "id": "d801346c",
   "metadata": {},
   "outputs": [
    {
     "data": {
      "text/plain": [
       "Electronic Arts                 1351\n",
       "Activision                       975\n",
       "Namco Bandai Games               932\n",
       "Ubisoft                          921\n",
       "Konami Digital Entertainment     832\n",
       "                                ... \n",
       "Glams                              1\n",
       "Locus                              1\n",
       "Warp                               1\n",
       "Elite                              1\n",
       "UIG Entertainment                  1\n",
       "Name: Publisher, Length: 579, dtype: int64"
      ]
     },
     "execution_count": 19,
     "metadata": {},
     "output_type": "execute_result"
    }
   ],
   "source": [
    "df_videogame['Publisher'].value_counts(dropna=False)\n",
    "                                                        "
   ]
  },
  {
   "cell_type": "code",
   "execution_count": 20,
   "id": "139bd9ab",
   "metadata": {},
   "outputs": [
    {
     "data": {
      "text/plain": [
       "Electronic Arts                           1351\n",
       "Activision                                 975\n",
       "Namco Bandai Games                         932\n",
       "Ubisoft                                    921\n",
       "Konami Digital Entertainment               832\n",
       "THQ                                        715\n",
       "Nintendo                                   703\n",
       "Sony Computer Entertainment                683\n",
       "Sega                                       639\n",
       "Take-Two Interactive                       413\n",
       "Capcom                                     381\n",
       "Atari                                      363\n",
       "Tecmo Koei                                 338\n",
       "Square Enix                                233\n",
       "Warner Bros. Interactive Entertainment     232\n",
       "Disney Interactive Studios                 218\n",
       "Unknown                                    203\n",
       "Eidos Interactive                          198\n",
       "Midway Games                               198\n",
       "505 Games                                  192\n",
       "Microsoft Game Studios                     189\n",
       "Acclaim Entertainment                      184\n",
       "D3Publisher                                184\n",
       "Vivendi Games                              164\n",
       "Codemasters                                152\n",
       "Idea Factory                               129\n",
       "Deep Silver                                122\n",
       "Nippon Ichi Software                       105\n",
       "Zoo Digital Publishing                     104\n",
       "Majesco Entertainment                       92\n",
       "LucasArts                                   90\n",
       "Rising Star Games                           86\n",
       "Hudson Soft                                 81\n",
       "Banpresto                                   73\n",
       "Crave Entertainment                         71\n",
       "Bethesda Softworks                          71\n",
       "Atlus                                       67\n",
       "Infogrames                                  62\n",
       "Virgin Interactive                          62\n",
       "5pb                                         61\n",
       "Ignition Entertainment                      61\n",
       "NaN                                         58\n",
       "Focus Home Interactive                      58\n",
       "Marvelous Interactive                       56\n",
       "Empire Interactive                          52\n",
       "SquareSoft                                  52\n",
       "Kadokawa Shoten                             50\n",
       "Destineer                                   45\n",
       "GT Interactive                              45\n",
       "DTP Entertainment                           45\n",
       "Name: Publisher, dtype: int64"
      ]
     },
     "execution_count": 20,
     "metadata": {},
     "output_type": "execute_result"
    }
   ],
   "source": [
    "df_videogame['Publisher'].value_counts(dropna=False).head(50)"
   ]
  },
  {
   "cell_type": "code",
   "execution_count": 21,
   "id": "4e80a098",
   "metadata": {},
   "outputs": [],
   "source": [
    "df_videogame['Publisher']= df_videogame['Publisher'].fillna('Glams')"
   ]
  },
  {
   "cell_type": "code",
   "execution_count": 22,
   "id": "265b34cf",
   "metadata": {},
   "outputs": [
    {
     "data": {
      "text/html": [
       "<div>\n",
       "<style scoped>\n",
       "    .dataframe tbody tr th:only-of-type {\n",
       "        vertical-align: middle;\n",
       "    }\n",
       "\n",
       "    .dataframe tbody tr th {\n",
       "        vertical-align: top;\n",
       "    }\n",
       "\n",
       "    .dataframe thead th {\n",
       "        text-align: right;\n",
       "    }\n",
       "</style>\n",
       "<table border=\"1\" class=\"dataframe\">\n",
       "  <thead>\n",
       "    <tr style=\"text-align: right;\">\n",
       "      <th></th>\n",
       "      <th>Rank</th>\n",
       "      <th>Name</th>\n",
       "      <th>Platform</th>\n",
       "      <th>Year</th>\n",
       "      <th>Genre</th>\n",
       "      <th>Publisher</th>\n",
       "      <th>NA_Sales</th>\n",
       "      <th>EU_Sales</th>\n",
       "      <th>JP_Sales</th>\n",
       "      <th>Other_Sales</th>\n",
       "      <th>Global_Sales</th>\n",
       "    </tr>\n",
       "  </thead>\n",
       "  <tbody>\n",
       "  </tbody>\n",
       "</table>\n",
       "</div>"
      ],
      "text/plain": [
       "Empty DataFrame\n",
       "Columns: [Rank, Name, Platform, Year, Genre, Publisher, NA_Sales, EU_Sales, JP_Sales, Other_Sales, Global_Sales]\n",
       "Index: []"
      ]
     },
     "execution_count": 22,
     "metadata": {},
     "output_type": "execute_result"
    }
   ],
   "source": [
    "df_videogame[(df_videogame['Publisher'].isna())]"
   ]
  },
  {
   "cell_type": "code",
   "execution_count": 23,
   "id": "cd374c0e",
   "metadata": {},
   "outputs": [
    {
     "data": {
      "text/plain": [
       "<AxesSubplot:>"
      ]
     },
     "execution_count": 23,
     "metadata": {},
     "output_type": "execute_result"
    },
    {
     "data": {
      "image/png": "[encoded data removed]",
      "text/plain": [
       "<Figure size 1800x720 with 2 Axes>"
      ]
     },
     "metadata": {
      "needs_background": "light"
     },
     "output_type": "display_data"
    }
   ],
   "source": [
    "msno.matrix(df_videogame)"
   ]
  },
  {
   "cell_type": "code",
   "execution_count": null,
   "id": "5c817f38",
   "metadata": {},
   "outputs": [],
   "source": [
    "#Quais jogos estão no Top 10 de Vendas Globais nas plataformas PS3, Wii, X360 e PC."
   ]
  },
  {
   "cell_type": "code",
   "execution_count": 29,
   "id": "2246a880",
   "metadata": {},
   "outputs": [
    {
     "data": {
      "text/html": [
       "<div>\n",
       "<style scoped>\n",
       "    .dataframe tbody tr th:only-of-type {\n",
       "        vertical-align: middle;\n",
       "    }\n",
       "\n",
       "    .dataframe tbody tr th {\n",
       "        vertical-align: top;\n",
       "    }\n",
       "\n",
       "    .dataframe thead th {\n",
       "        text-align: right;\n",
       "    }\n",
       "</style>\n",
       "<table border=\"1\" class=\"dataframe\">\n",
       "  <thead>\n",
       "    <tr style=\"text-align: right;\">\n",
       "      <th></th>\n",
       "      <th>Rank</th>\n",
       "      <th>Name</th>\n",
       "      <th>Platform</th>\n",
       "      <th>Year</th>\n",
       "      <th>Genre</th>\n",
       "      <th>Publisher</th>\n",
       "      <th>NA_Sales</th>\n",
       "      <th>EU_Sales</th>\n",
       "      <th>JP_Sales</th>\n",
       "      <th>Other_Sales</th>\n",
       "      <th>Global_Sales</th>\n",
       "    </tr>\n",
       "  </thead>\n",
       "  <tbody>\n",
       "    <tr>\n",
       "      <th>0</th>\n",
       "      <td>1</td>\n",
       "      <td>Wii Sports</td>\n",
       "      <td>Wii</td>\n",
       "      <td>2006.0</td>\n",
       "      <td>Sports</td>\n",
       "      <td>Nintendo</td>\n",
       "      <td>41.49</td>\n",
       "      <td>29.02</td>\n",
       "      <td>3.77</td>\n",
       "      <td>8.46</td>\n",
       "      <td>82.74</td>\n",
       "    </tr>\n",
       "    <tr>\n",
       "      <th>1</th>\n",
       "      <td>2</td>\n",
       "      <td>Super Mario Bros.</td>\n",
       "      <td>NES</td>\n",
       "      <td>1985.0</td>\n",
       "      <td>Platform</td>\n",
       "      <td>Nintendo</td>\n",
       "      <td>29.08</td>\n",
       "      <td>3.58</td>\n",
       "      <td>6.81</td>\n",
       "      <td>0.77</td>\n",
       "      <td>40.24</td>\n",
       "    </tr>\n",
       "    <tr>\n",
       "      <th>2</th>\n",
       "      <td>3</td>\n",
       "      <td>Mario Kart Wii</td>\n",
       "      <td>Wii</td>\n",
       "      <td>2008.0</td>\n",
       "      <td>Racing</td>\n",
       "      <td>Nintendo</td>\n",
       "      <td>15.85</td>\n",
       "      <td>12.88</td>\n",
       "      <td>3.79</td>\n",
       "      <td>3.31</td>\n",
       "      <td>35.82</td>\n",
       "    </tr>\n",
       "    <tr>\n",
       "      <th>3</th>\n",
       "      <td>4</td>\n",
       "      <td>Wii Sports Resort</td>\n",
       "      <td>Wii</td>\n",
       "      <td>2009.0</td>\n",
       "      <td>Sports</td>\n",
       "      <td>Nintendo</td>\n",
       "      <td>15.75</td>\n",
       "      <td>11.01</td>\n",
       "      <td>3.28</td>\n",
       "      <td>2.96</td>\n",
       "      <td>33.00</td>\n",
       "    </tr>\n",
       "    <tr>\n",
       "      <th>4</th>\n",
       "      <td>5</td>\n",
       "      <td>Pokemon Red/Pokemon Blue</td>\n",
       "      <td>GB</td>\n",
       "      <td>1996.0</td>\n",
       "      <td>Role-Playing</td>\n",
       "      <td>Nintendo</td>\n",
       "      <td>11.27</td>\n",
       "      <td>8.89</td>\n",
       "      <td>10.22</td>\n",
       "      <td>1.00</td>\n",
       "      <td>31.37</td>\n",
       "    </tr>\n",
       "    <tr>\n",
       "      <th>...</th>\n",
       "      <td>...</td>\n",
       "      <td>...</td>\n",
       "      <td>...</td>\n",
       "      <td>...</td>\n",
       "      <td>...</td>\n",
       "      <td>...</td>\n",
       "      <td>...</td>\n",
       "      <td>...</td>\n",
       "      <td>...</td>\n",
       "      <td>...</td>\n",
       "      <td>...</td>\n",
       "    </tr>\n",
       "    <tr>\n",
       "      <th>16593</th>\n",
       "      <td>16596</td>\n",
       "      <td>Woody Woodpecker in Crazy Castle 5</td>\n",
       "      <td>GBA</td>\n",
       "      <td>2002.0</td>\n",
       "      <td>Platform</td>\n",
       "      <td>Kemco</td>\n",
       "      <td>0.01</td>\n",
       "      <td>0.00</td>\n",
       "      <td>0.00</td>\n",
       "      <td>0.00</td>\n",
       "      <td>0.01</td>\n",
       "    </tr>\n",
       "    <tr>\n",
       "      <th>16594</th>\n",
       "      <td>16597</td>\n",
       "      <td>Men in Black II: Alien Escape</td>\n",
       "      <td>GC</td>\n",
       "      <td>2003.0</td>\n",
       "      <td>Shooter</td>\n",
       "      <td>Infogrames</td>\n",
       "      <td>0.01</td>\n",
       "      <td>0.00</td>\n",
       "      <td>0.00</td>\n",
       "      <td>0.00</td>\n",
       "      <td>0.01</td>\n",
       "    </tr>\n",
       "    <tr>\n",
       "      <th>16595</th>\n",
       "      <td>16598</td>\n",
       "      <td>SCORE International Baja 1000: The Official Game</td>\n",
       "      <td>PS2</td>\n",
       "      <td>2008.0</td>\n",
       "      <td>Racing</td>\n",
       "      <td>Activision</td>\n",
       "      <td>0.00</td>\n",
       "      <td>0.00</td>\n",
       "      <td>0.00</td>\n",
       "      <td>0.00</td>\n",
       "      <td>0.01</td>\n",
       "    </tr>\n",
       "    <tr>\n",
       "      <th>16596</th>\n",
       "      <td>16599</td>\n",
       "      <td>Know How 2</td>\n",
       "      <td>DS</td>\n",
       "      <td>2010.0</td>\n",
       "      <td>Puzzle</td>\n",
       "      <td>7G//AMES</td>\n",
       "      <td>0.00</td>\n",
       "      <td>0.01</td>\n",
       "      <td>0.00</td>\n",
       "      <td>0.00</td>\n",
       "      <td>0.01</td>\n",
       "    </tr>\n",
       "    <tr>\n",
       "      <th>16597</th>\n",
       "      <td>16600</td>\n",
       "      <td>Spirits &amp; Spells</td>\n",
       "      <td>GBA</td>\n",
       "      <td>2003.0</td>\n",
       "      <td>Platform</td>\n",
       "      <td>Wanadoo</td>\n",
       "      <td>0.01</td>\n",
       "      <td>0.00</td>\n",
       "      <td>0.00</td>\n",
       "      <td>0.00</td>\n",
       "      <td>0.01</td>\n",
       "    </tr>\n",
       "  </tbody>\n",
       "</table>\n",
       "<p>16598 rows × 11 columns</p>\n",
       "</div>"
      ],
      "text/plain": [
       "        Rank                                              Name Platform  \\\n",
       "0          1                                        Wii Sports      Wii   \n",
       "1          2                                 Super Mario Bros.      NES   \n",
       "2          3                                    Mario Kart Wii      Wii   \n",
       "3          4                                 Wii Sports Resort      Wii   \n",
       "4          5                          Pokemon Red/Pokemon Blue       GB   \n",
       "...      ...                                               ...      ...   \n",
       "16593  16596                Woody Woodpecker in Crazy Castle 5      GBA   \n",
       "16594  16597                     Men in Black II: Alien Escape       GC   \n",
       "16595  16598  SCORE International Baja 1000: The Official Game      PS2   \n",
       "16596  16599                                        Know How 2       DS   \n",
       "16597  16600                                  Spirits & Spells      GBA   \n",
       "\n",
       "         Year         Genre   Publisher  NA_Sales  EU_Sales  JP_Sales  \\\n",
       "0      2006.0        Sports    Nintendo     41.49     29.02      3.77   \n",
       "1      1985.0      Platform    Nintendo     29.08      3.58      6.81   \n",
       "2      2008.0        Racing    Nintendo     15.85     12.88      3.79   \n",
       "3      2009.0        Sports    Nintendo     15.75     11.01      3.28   \n",
       "4      1996.0  Role-Playing    Nintendo     11.27      8.89     10.22   \n",
       "...       ...           ...         ...       ...       ...       ...   \n",
       "16593  2002.0      Platform       Kemco      0.01      0.00      0.00   \n",
       "16594  2003.0       Shooter  Infogrames      0.01      0.00      0.00   \n",
       "16595  2008.0        Racing  Activision      0.00      0.00      0.00   \n",
       "16596  2010.0        Puzzle    7G//AMES      0.00      0.01      0.00   \n",
       "16597  2003.0      Platform     Wanadoo      0.01      0.00      0.00   \n",
       "\n",
       "       Other_Sales  Global_Sales  \n",
       "0             8.46         82.74  \n",
       "1             0.77         40.24  \n",
       "2             3.31         35.82  \n",
       "3             2.96         33.00  \n",
       "4             1.00         31.37  \n",
       "...            ...           ...  \n",
       "16593         0.00          0.01  \n",
       "16594         0.00          0.01  \n",
       "16595         0.00          0.01  \n",
       "16596         0.00          0.01  \n",
       "16597         0.00          0.01  \n",
       "\n",
       "[16598 rows x 11 columns]"
      ]
     },
     "execution_count": 29,
     "metadata": {},
     "output_type": "execute_result"
    }
   ],
   "source": [
    "df_videogame"
   ]
  },
  {
   "cell_type": "code",
   "execution_count": 31,
   "id": "c3e4c328",
   "metadata": {},
   "outputs": [
    {
     "data": {
      "text/html": [
       "<div>\n",
       "<style scoped>\n",
       "    .dataframe tbody tr th:only-of-type {\n",
       "        vertical-align: middle;\n",
       "    }\n",
       "\n",
       "    .dataframe tbody tr th {\n",
       "        vertical-align: top;\n",
       "    }\n",
       "\n",
       "    .dataframe thead th {\n",
       "        text-align: right;\n",
       "    }\n",
       "</style>\n",
       "<table border=\"1\" class=\"dataframe\">\n",
       "  <thead>\n",
       "    <tr style=\"text-align: right;\">\n",
       "      <th></th>\n",
       "      <th></th>\n",
       "      <th>Global_Sales</th>\n",
       "    </tr>\n",
       "    <tr>\n",
       "      <th>Platform</th>\n",
       "      <th>Name</th>\n",
       "      <th></th>\n",
       "    </tr>\n",
       "  </thead>\n",
       "  <tbody>\n",
       "    <tr>\n",
       "      <th rowspan=\"5\" valign=\"top\">2600</th>\n",
       "      <th>Action Force</th>\n",
       "      <td>0.54</td>\n",
       "    </tr>\n",
       "    <tr>\n",
       "      <th>Adventure</th>\n",
       "      <td>1.30</td>\n",
       "    </tr>\n",
       "    <tr>\n",
       "      <th>Adventures of Tron</th>\n",
       "      <td>0.67</td>\n",
       "    </tr>\n",
       "    <tr>\n",
       "      <th>Air Raid</th>\n",
       "      <td>0.77</td>\n",
       "    </tr>\n",
       "    <tr>\n",
       "      <th>Air-Sea Battle</th>\n",
       "      <td>0.98</td>\n",
       "    </tr>\n",
       "    <tr>\n",
       "      <th>...</th>\n",
       "      <th>...</th>\n",
       "      <td>...</td>\n",
       "    </tr>\n",
       "    <tr>\n",
       "      <th rowspan=\"5\" valign=\"top\">XOne</th>\n",
       "      <th>Wolfenstein: The Old Blood</th>\n",
       "      <td>0.15</td>\n",
       "    </tr>\n",
       "    <tr>\n",
       "      <th>XCOM 2</th>\n",
       "      <td>0.02</td>\n",
       "    </tr>\n",
       "    <tr>\n",
       "      <th>Zombie Army Trilogy</th>\n",
       "      <td>0.10</td>\n",
       "    </tr>\n",
       "    <tr>\n",
       "      <th>Zoo Tycoon (2013)</th>\n",
       "      <td>0.34</td>\n",
       "    </tr>\n",
       "    <tr>\n",
       "      <th>Zumba Fitness: World Party</th>\n",
       "      <td>0.23</td>\n",
       "    </tr>\n",
       "  </tbody>\n",
       "</table>\n",
       "<p>16593 rows × 1 columns</p>\n",
       "</div>"
      ],
      "text/plain": [
       "                                     Global_Sales\n",
       "Platform Name                                    \n",
       "2600     Action Force                        0.54\n",
       "         Adventure                           1.30\n",
       "         Adventures of Tron                  0.67\n",
       "         Air Raid                            0.77\n",
       "         Air-Sea Battle                      0.98\n",
       "...                                           ...\n",
       "XOne     Wolfenstein: The Old Blood          0.15\n",
       "         XCOM 2                              0.02\n",
       "         Zombie Army Trilogy                 0.10\n",
       "         Zoo Tycoon (2013)                   0.34\n",
       "         Zumba Fitness: World Party          0.23\n",
       "\n",
       "[16593 rows x 1 columns]"
      ]
     },
     "execution_count": 31,
     "metadata": {},
     "output_type": "execute_result"
    }
   ],
   "source": [
    "df_videogame.groupby(['Platform', 'Name'])[['Global_Sales']]. median()"
   ]
  },
  {
   "cell_type": "code",
   "execution_count": 33,
   "id": "6b1957cf",
   "metadata": {},
   "outputs": [
    {
     "data": {
      "text/html": [
       "<div>\n",
       "<style scoped>\n",
       "    .dataframe tbody tr th:only-of-type {\n",
       "        vertical-align: middle;\n",
       "    }\n",
       "\n",
       "    .dataframe tbody tr th {\n",
       "        vertical-align: top;\n",
       "    }\n",
       "\n",
       "    .dataframe thead th {\n",
       "        text-align: right;\n",
       "    }\n",
       "</style>\n",
       "<table border=\"1\" class=\"dataframe\">\n",
       "  <thead>\n",
       "    <tr style=\"text-align: right;\">\n",
       "      <th></th>\n",
       "      <th></th>\n",
       "      <th>Global_Sales</th>\n",
       "    </tr>\n",
       "    <tr>\n",
       "      <th>Platform</th>\n",
       "      <th>Name</th>\n",
       "      <th></th>\n",
       "    </tr>\n",
       "  </thead>\n",
       "  <tbody>\n",
       "    <tr>\n",
       "      <th rowspan=\"5\" valign=\"top\">2600</th>\n",
       "      <th>Action Force</th>\n",
       "      <td>0.54</td>\n",
       "    </tr>\n",
       "    <tr>\n",
       "      <th>Adventure</th>\n",
       "      <td>1.30</td>\n",
       "    </tr>\n",
       "    <tr>\n",
       "      <th>Adventures of Tron</th>\n",
       "      <td>0.67</td>\n",
       "    </tr>\n",
       "    <tr>\n",
       "      <th>Air Raid</th>\n",
       "      <td>0.77</td>\n",
       "    </tr>\n",
       "    <tr>\n",
       "      <th>Air-Sea Battle</th>\n",
       "      <td>0.98</td>\n",
       "    </tr>\n",
       "    <tr>\n",
       "      <th>...</th>\n",
       "      <th>...</th>\n",
       "      <td>...</td>\n",
       "    </tr>\n",
       "    <tr>\n",
       "      <th rowspan=\"5\" valign=\"top\">XOne</th>\n",
       "      <th>Wolfenstein: The Old Blood</th>\n",
       "      <td>0.15</td>\n",
       "    </tr>\n",
       "    <tr>\n",
       "      <th>XCOM 2</th>\n",
       "      <td>0.02</td>\n",
       "    </tr>\n",
       "    <tr>\n",
       "      <th>Zombie Army Trilogy</th>\n",
       "      <td>0.10</td>\n",
       "    </tr>\n",
       "    <tr>\n",
       "      <th>Zoo Tycoon (2013)</th>\n",
       "      <td>0.34</td>\n",
       "    </tr>\n",
       "    <tr>\n",
       "      <th>Zumba Fitness: World Party</th>\n",
       "      <td>0.23</td>\n",
       "    </tr>\n",
       "  </tbody>\n",
       "</table>\n",
       "<p>16593 rows × 1 columns</p>\n",
       "</div>"
      ],
      "text/plain": [
       "                                     Global_Sales\n",
       "Platform Name                                    \n",
       "2600     Action Force                        0.54\n",
       "         Adventure                           1.30\n",
       "         Adventures of Tron                  0.67\n",
       "         Air Raid                            0.77\n",
       "         Air-Sea Battle                      0.98\n",
       "...                                           ...\n",
       "XOne     Wolfenstein: The Old Blood          0.15\n",
       "         XCOM 2                              0.02\n",
       "         Zombie Army Trilogy                 0.10\n",
       "         Zoo Tycoon (2013)                   0.34\n",
       "         Zumba Fitness: World Party          0.23\n",
       "\n",
       "[16593 rows x 1 columns]"
      ]
     },
     "execution_count": 33,
     "metadata": {},
     "output_type": "execute_result"
    }
   ],
   "source": [
    "df_videogame.groupby(['Platform', 'Name'])[['Global_Sales']]. median()\n",
    "#df_videogame['Platform'] == 'Wii'"
   ]
  },
  {
   "cell_type": "markdown",
   "id": "c2371ea8",
   "metadata": {},
   "source": [
    "#(df_videogame['Platform'] == 'PS3')\n",
    "#df_videogame[['Name', 'Global_Sales']]\n",
    "\n",
    "#Não rodar o comando abaixo pois ele trava a máquina\n",
    "#df_videogame[(df_videogame['Platform'] == 'PS3')  & (df_videogame[['Name', 'Global_Sales']])]"
   ]
  },
  {
   "cell_type": "code",
   "execution_count": 40,
   "id": "2210c1b6",
   "metadata": {},
   "outputs": [
    {
     "data": {
      "text/plain": [
       "Series([], Name: Global_Sales, dtype: float64)"
      ]
     },
     "execution_count": 40,
     "metadata": {},
     "output_type": "execute_result"
    }
   ],
   "source": [
    "lista = ['PS3']\n",
    "df_videogame[df_videogame['Platform'].isin(lista)]. groupby('Name')['Global_Sales'].max()\n"
   ]
  },
  {
   "cell_type": "code",
   "execution_count": 29,
   "id": "57746eac",
   "metadata": {},
   "outputs": [
    {
     "data": {
      "text/plain": [
       "0         True\n",
       "1        False\n",
       "2         True\n",
       "3         True\n",
       "4        False\n",
       "         ...  \n",
       "16593    False\n",
       "16594    False\n",
       "16595    False\n",
       "16596    False\n",
       "16597    False\n",
       "Name: Platform, Length: 16598, dtype: bool"
      ]
     },
     "execution_count": 29,
     "metadata": {},
     "output_type": "execute_result"
    }
   ],
   "source": [
    "df_videogame['Platform'] =='Wii'"
   ]
  },
  {
   "cell_type": "code",
   "execution_count": 46,
   "id": "0b217a9f",
   "metadata": {},
   "outputs": [
    {
     "data": {
      "text/html": [
       "<div>\n",
       "<style scoped>\n",
       "    .dataframe tbody tr th:only-of-type {\n",
       "        vertical-align: middle;\n",
       "    }\n",
       "\n",
       "    .dataframe tbody tr th {\n",
       "        vertical-align: top;\n",
       "    }\n",
       "\n",
       "    .dataframe thead th {\n",
       "        text-align: right;\n",
       "    }\n",
       "</style>\n",
       "<table border=\"1\" class=\"dataframe\">\n",
       "  <thead>\n",
       "    <tr style=\"text-align: right;\">\n",
       "      <th></th>\n",
       "      <th>Global_Sales</th>\n",
       "    </tr>\n",
       "    <tr>\n",
       "      <th>Name</th>\n",
       "      <th></th>\n",
       "    </tr>\n",
       "  </thead>\n",
       "  <tbody>\n",
       "    <tr>\n",
       "      <th>'98 Koshien</th>\n",
       "      <td>0.410</td>\n",
       "    </tr>\n",
       "    <tr>\n",
       "      <th>.hack//G.U. Vol.1//Rebirth</th>\n",
       "      <td>0.170</td>\n",
       "    </tr>\n",
       "    <tr>\n",
       "      <th>.hack//G.U. Vol.2//Reminisce</th>\n",
       "      <td>0.230</td>\n",
       "    </tr>\n",
       "    <tr>\n",
       "      <th>.hack//G.U. Vol.2//Reminisce (jp sales)</th>\n",
       "      <td>0.160</td>\n",
       "    </tr>\n",
       "    <tr>\n",
       "      <th>.hack//G.U. Vol.3//Redemption</th>\n",
       "      <td>0.170</td>\n",
       "    </tr>\n",
       "    <tr>\n",
       "      <th>...</th>\n",
       "      <td>...</td>\n",
       "    </tr>\n",
       "    <tr>\n",
       "      <th>thinkSMART: Chess for Kids</th>\n",
       "      <td>0.010</td>\n",
       "    </tr>\n",
       "    <tr>\n",
       "      <th>uDraw Studio</th>\n",
       "      <td>2.460</td>\n",
       "    </tr>\n",
       "    <tr>\n",
       "      <th>uDraw Studio: Instant Artist</th>\n",
       "      <td>0.105</td>\n",
       "    </tr>\n",
       "    <tr>\n",
       "      <th>wwe Smackdown vs. Raw 2006</th>\n",
       "      <td>3.000</td>\n",
       "    </tr>\n",
       "    <tr>\n",
       "      <th>¡Shin Chan Flipa en colores!</th>\n",
       "      <td>0.140</td>\n",
       "    </tr>\n",
       "  </tbody>\n",
       "</table>\n",
       "<p>11493 rows × 1 columns</p>\n",
       "</div>"
      ],
      "text/plain": [
       "                                         Global_Sales\n",
       "Name                                                 \n",
       "'98 Koshien                                     0.410\n",
       ".hack//G.U. Vol.1//Rebirth                      0.170\n",
       ".hack//G.U. Vol.2//Reminisce                    0.230\n",
       ".hack//G.U. Vol.2//Reminisce (jp sales)         0.160\n",
       ".hack//G.U. Vol.3//Redemption                   0.170\n",
       "...                                               ...\n",
       "thinkSMART: Chess for Kids                      0.010\n",
       "uDraw Studio                                    2.460\n",
       "uDraw Studio: Instant Artist                    0.105\n",
       "wwe Smackdown vs. Raw 2006                      3.000\n",
       "¡Shin Chan Flipa en colores!                    0.140\n",
       "\n",
       "[11493 rows x 1 columns]"
      ]
     },
     "execution_count": 46,
     "metadata": {},
     "output_type": "execute_result"
    }
   ],
   "source": [
    "df_videogame.groupby(['Name'])[['Global_Sales']].mean()"
   ]
  },
  {
   "cell_type": "code",
   "execution_count": null,
   "id": "b17e1c76",
   "metadata": {},
   "outputs": [],
   "source": []
  },
  {
   "cell_type": "code",
   "execution_count": null,
   "id": "8108eb5c",
   "metadata": {},
   "outputs": [],
   "source": []
  },
  {
   "cell_type": "code",
   "execution_count": 440,
   "id": "a70a59ae",
   "metadata": {},
   "outputs": [
    {
     "data": {
      "text/plain": [
       "Rank   Name                                                       Platform  Year    Genre       Publisher              NA_Sales  EU_Sales  JP_Sales  Other_Sales  Global_Sales\n",
       "1      Wii Sports                                                 Wii       2006.0  Sports      Nintendo               41.49     29.02     3.77      8.46         82.74           1\n",
       "227    Animal Crossing: City Folk                                 Wii       2008.0  Simulation  Nintendo               1.87      1.12      1.32      0.37         4.68            1\n",
       "9      New Super Mario Bros. Wii                                  Wii       2009.0  Platform    Nintendo               14.59     7.06      4.70      2.26         28.62           1\n",
       "14     Wii Fit                                                    Wii       2007.0  Sports      Nintendo               8.94      8.03      3.60      2.15         22.72           1\n",
       "15     Wii Fit Plus                                               Wii       2009.0  Sports      Nintendo               9.09      8.59      2.53      1.79         22.00           1\n",
       "                                                                                                                                                                                 ..\n",
       "16555  Mahou Sensei Negima!? Neo-Pactio Fight!!                   Wii       2007.0  Fighting    Marvelous Interactive  0.00      0.00      0.01      0.00         0.01            1\n",
       "16576  Mini Desktop Racing                                        Wii       2007.0  Racing      Popcorn Arcade         0.01      0.00      0.00      0.00         0.01            1\n",
       "16577  Yattaman Wii: BikkuriDokkiri Machine de Mou Race da Koron  Wii       2008.0  Racing      Takara Tomy            0.00      0.00      0.01      0.00         0.01            1\n",
       "16468  Help Wanted: 50 Wacky Jobs (jp sales)                      Wii       2008.0  Simulation  Hudson Soft            0.00      0.01      0.01      0.00         0.01            1\n",
       "16584  Fit & Fun                                                  Wii       2011.0  Sports      Unknown                0.00      0.01      0.00      0.00         0.01            1\n",
       "Length: 1290, dtype: int64"
      ]
     },
     "execution_count": 440,
     "metadata": {},
     "output_type": "execute_result"
    }
   ],
   "source": [
    "df_videogame[df_videogame['Platform'] == 'Wii'].value_counts().sort_values(ascending=False)\n"
   ]
  },
  {
   "cell_type": "code",
   "execution_count": 441,
   "id": "1e9dce2b",
   "metadata": {},
   "outputs": [],
   "source": [
    "#df_videogame[df_videogame['Platform'] == 'Wii']\n"
   ]
  },
  {
   "cell_type": "code",
   "execution_count": null,
   "id": "b82107ab",
   "metadata": {},
   "outputs": [],
   "source": [
    "#df_videogame.groupby(['Platform'])['Global_Sales'].max()"
   ]
  },
  {
   "cell_type": "code",
   "execution_count": null,
   "id": "a614e002",
   "metadata": {},
   "outputs": [],
   "source": []
  },
  {
   "cell_type": "code",
   "execution_count": 47,
   "id": "c060017a",
   "metadata": {},
   "outputs": [
    {
     "data": {
      "text/plain": [
       "Action          0.199783\n",
       "Sports          0.141342\n",
       "Misc            0.104772\n",
       "Role-Playing    0.089649\n",
       "Shooter         0.078925\n",
       "Adventure       0.077479\n",
       "Racing          0.075250\n",
       "Platform        0.053380\n",
       "Simulation      0.052235\n",
       "Fighting        0.051090\n",
       "Strategy        0.041029\n",
       "Puzzle          0.035064\n",
       "Name: Genre, dtype: float64"
      ]
     },
     "execution_count": 47,
     "metadata": {},
     "output_type": "execute_result"
    }
   ],
   "source": [
    "#A proporção (percentual) de jogos criados por gênero, em: a) tabela; b)gráfico de barras; c) gráfico de pizza.\n",
    "\n",
    "#a) tabela\n",
    "df_videogame['Genre'].value_counts(normalize=True)\n"
   ]
  },
  {
   "cell_type": "code",
   "execution_count": 49,
   "id": "9b8fc941",
   "metadata": {},
   "outputs": [
    {
     "data": {
      "text/plain": [
       "<AxesSubplot:>"
      ]
     },
     "execution_count": 49,
     "metadata": {},
     "output_type": "execute_result"
    },
    {
     "data": {
      "image/png": "[encoded data removed]",
      "text/plain": [
       "<Figure size 1152x576 with 1 Axes>"
      ]
     },
     "metadata": {
      "needs_background": "light"
     },
     "output_type": "display_data"
    }
   ],
   "source": [
    "#b)gráfico de barras\n",
    "df_videogame['Genre'].value_counts(normalize=True).plot.bar(figsize=(16,8))"
   ]
  },
  {
   "cell_type": "code",
   "execution_count": 50,
   "id": "e083a07b",
   "metadata": {},
   "outputs": [
    {
     "data": {
      "text/plain": [
       "<AxesSubplot:ylabel='Genre'>"
      ]
     },
     "execution_count": 50,
     "metadata": {},
     "output_type": "execute_result"
    },
    {
     "data": {
      "image/png": "[encoded data removed]",
      "text/plain": [
       "<Figure size 432x288 with 1 Axes>"
      ]
     },
     "metadata": {},
     "output_type": "display_data"
    }
   ],
   "source": [
    "# c) gráfico de pizza.\n",
    "# gráfico de pizza das espécies de pinguins dos dados\n",
    "# quantos pinguins de cada espécies\n",
    "\n",
    "# penguins['species'].value_counts().plot.pie(autopct='%1.1f%%')\n",
    "# OU\n",
    "#penguins['species'].value_counts().plot(kind='pie',autopct='%1.2f%%')\n",
    "\n",
    "\n",
    "df_videogame['Genre'].value_counts().plot.pie(autopct='%1.1f%%')"
   ]
  },
  {
   "cell_type": "code",
   "execution_count": 51,
   "id": "8ce54ea0",
   "metadata": {},
   "outputs": [
    {
     "data": {
      "text/plain": [
       "<AxesSubplot:ylabel='Genre'>"
      ]
     },
     "execution_count": 51,
     "metadata": {},
     "output_type": "execute_result"
    },
    {
     "data": {
      "image/png": "[encoded data removed]",
      "text/plain": [
       "<Figure size 432x288 with 1 Axes>"
      ]
     },
     "metadata": {},
     "output_type": "display_data"
    }
   ],
   "source": [
    "df_videogame['Genre'].value_counts().plot(kind='pie',autopct='%1.2f%%')"
   ]
  },
  {
   "cell_type": "code",
   "execution_count": 55,
   "id": "37b6d306",
   "metadata": {},
   "outputs": [
    {
     "data": {
      "text/html": [
       "<div>\n",
       "<style scoped>\n",
       "    .dataframe tbody tr th:only-of-type {\n",
       "        vertical-align: middle;\n",
       "    }\n",
       "\n",
       "    .dataframe tbody tr th {\n",
       "        vertical-align: top;\n",
       "    }\n",
       "\n",
       "    .dataframe thead th {\n",
       "        text-align: right;\n",
       "    }\n",
       "</style>\n",
       "<table border=\"1\" class=\"dataframe\">\n",
       "  <thead>\n",
       "    <tr style=\"text-align: right;\">\n",
       "      <th></th>\n",
       "      <th>Rank</th>\n",
       "      <th>Name</th>\n",
       "      <th>Platform</th>\n",
       "      <th>Year</th>\n",
       "      <th>Genre</th>\n",
       "      <th>Publisher</th>\n",
       "      <th>NA_Sales</th>\n",
       "      <th>EU_Sales</th>\n",
       "      <th>JP_Sales</th>\n",
       "      <th>Other_Sales</th>\n",
       "      <th>Global_Sales</th>\n",
       "    </tr>\n",
       "  </thead>\n",
       "  <tbody>\n",
       "  </tbody>\n",
       "</table>\n",
       "</div>"
      ],
      "text/plain": [
       "Empty DataFrame\n",
       "Columns: [Rank, Name, Platform, Year, Genre, Publisher, NA_Sales, EU_Sales, JP_Sales, Other_Sales, Global_Sales]\n",
       "Index: []"
      ]
     },
     "execution_count": 55,
     "metadata": {},
     "output_type": "execute_result"
    }
   ],
   "source": [
    "#Um gráfico de linha com a quantidade de vendas, em média, por ano, separadas pelas plataformas PS3, Wii, X360 e PSP.\n",
    "\n",
    "#(df_videogame['Platform'] == 'PS3')\n",
    "#(df_videogame['Global_Sales'].mean())\n",
    "\n",
    "df_videogame[(df_videogame['Platform'] == 'PS3') & (df_videogame['Platform'] == 'PS3')]"
   ]
  },
  {
   "cell_type": "code",
   "execution_count": null,
   "id": "6bab517e",
   "metadata": {},
   "outputs": [],
   "source": []
  },
  {
   "cell_type": "markdown",
   "id": "280d4800",
   "metadata": {},
   "source": [
    "Questão #3\n",
    "Vale\n",
    "10\n",
    "Enunciado\n",
    "Questão 3\n",
    "Considerando os dados do dataset fish.csv, faça uma análise exploratória dos dados, criando:\n",
    "\n",
    "Vários gráficos (em uma mesma figura) combinando cada par de característica (feature) dos peixes, e atribuindo uma cor diferente para cada espécie.\n",
    "Crie um gráfico de distribuição da largura dos peixes (Width). Não deixe de incluir o KDE.\n",
    "Crie um mapa de calor que apresente a correlação entre cada feature do peixe. Anote os dados no gráfico e utilize o cmap=coolwarm."
   ]
  },
  {
   "cell_type": "code",
   "execution_count": 57,
   "id": "d007a69e",
   "metadata": {},
   "outputs": [
    {
     "data": {
      "text/html": [
       "<div>\n",
       "<style scoped>\n",
       "    .dataframe tbody tr th:only-of-type {\n",
       "        vertical-align: middle;\n",
       "    }\n",
       "\n",
       "    .dataframe tbody tr th {\n",
       "        vertical-align: top;\n",
       "    }\n",
       "\n",
       "    .dataframe thead th {\n",
       "        text-align: right;\n",
       "    }\n",
       "</style>\n",
       "<table border=\"1\" class=\"dataframe\">\n",
       "  <thead>\n",
       "    <tr style=\"text-align: right;\">\n",
       "      <th></th>\n",
       "      <th>Species</th>\n",
       "      <th>Weight</th>\n",
       "      <th>Length1</th>\n",
       "      <th>Length2</th>\n",
       "      <th>Length3</th>\n",
       "      <th>Height</th>\n",
       "      <th>Width</th>\n",
       "    </tr>\n",
       "  </thead>\n",
       "  <tbody>\n",
       "    <tr>\n",
       "      <th>0</th>\n",
       "      <td>Bream</td>\n",
       "      <td>242.0</td>\n",
       "      <td>23.2</td>\n",
       "      <td>25.4</td>\n",
       "      <td>30.0</td>\n",
       "      <td>11.5200</td>\n",
       "      <td>4.0200</td>\n",
       "    </tr>\n",
       "    <tr>\n",
       "      <th>1</th>\n",
       "      <td>Bream</td>\n",
       "      <td>290.0</td>\n",
       "      <td>24.0</td>\n",
       "      <td>26.3</td>\n",
       "      <td>31.2</td>\n",
       "      <td>12.4800</td>\n",
       "      <td>4.3056</td>\n",
       "    </tr>\n",
       "    <tr>\n",
       "      <th>2</th>\n",
       "      <td>Bream</td>\n",
       "      <td>340.0</td>\n",
       "      <td>23.9</td>\n",
       "      <td>26.5</td>\n",
       "      <td>31.1</td>\n",
       "      <td>12.3778</td>\n",
       "      <td>4.6961</td>\n",
       "    </tr>\n",
       "    <tr>\n",
       "      <th>3</th>\n",
       "      <td>Bream</td>\n",
       "      <td>363.0</td>\n",
       "      <td>26.3</td>\n",
       "      <td>29.0</td>\n",
       "      <td>33.5</td>\n",
       "      <td>12.7300</td>\n",
       "      <td>4.4555</td>\n",
       "    </tr>\n",
       "    <tr>\n",
       "      <th>4</th>\n",
       "      <td>Bream</td>\n",
       "      <td>430.0</td>\n",
       "      <td>26.5</td>\n",
       "      <td>29.0</td>\n",
       "      <td>34.0</td>\n",
       "      <td>12.4440</td>\n",
       "      <td>5.1340</td>\n",
       "    </tr>\n",
       "    <tr>\n",
       "      <th>...</th>\n",
       "      <td>...</td>\n",
       "      <td>...</td>\n",
       "      <td>...</td>\n",
       "      <td>...</td>\n",
       "      <td>...</td>\n",
       "      <td>...</td>\n",
       "      <td>...</td>\n",
       "    </tr>\n",
       "    <tr>\n",
       "      <th>154</th>\n",
       "      <td>Smelt</td>\n",
       "      <td>12.2</td>\n",
       "      <td>11.5</td>\n",
       "      <td>12.2</td>\n",
       "      <td>13.4</td>\n",
       "      <td>2.0904</td>\n",
       "      <td>1.3936</td>\n",
       "    </tr>\n",
       "    <tr>\n",
       "      <th>155</th>\n",
       "      <td>Smelt</td>\n",
       "      <td>13.4</td>\n",
       "      <td>11.7</td>\n",
       "      <td>12.4</td>\n",
       "      <td>13.5</td>\n",
       "      <td>2.4300</td>\n",
       "      <td>1.2690</td>\n",
       "    </tr>\n",
       "    <tr>\n",
       "      <th>156</th>\n",
       "      <td>Smelt</td>\n",
       "      <td>12.2</td>\n",
       "      <td>12.1</td>\n",
       "      <td>13.0</td>\n",
       "      <td>13.8</td>\n",
       "      <td>2.2770</td>\n",
       "      <td>1.2558</td>\n",
       "    </tr>\n",
       "    <tr>\n",
       "      <th>157</th>\n",
       "      <td>Smelt</td>\n",
       "      <td>19.7</td>\n",
       "      <td>13.2</td>\n",
       "      <td>14.3</td>\n",
       "      <td>15.2</td>\n",
       "      <td>2.8728</td>\n",
       "      <td>2.0672</td>\n",
       "    </tr>\n",
       "    <tr>\n",
       "      <th>158</th>\n",
       "      <td>Smelt</td>\n",
       "      <td>19.9</td>\n",
       "      <td>13.8</td>\n",
       "      <td>15.0</td>\n",
       "      <td>16.2</td>\n",
       "      <td>2.9322</td>\n",
       "      <td>1.8792</td>\n",
       "    </tr>\n",
       "  </tbody>\n",
       "</table>\n",
       "<p>159 rows × 7 columns</p>\n",
       "</div>"
      ],
      "text/plain": [
       "    Species  Weight  Length1  Length2  Length3   Height   Width\n",
       "0     Bream   242.0     23.2     25.4     30.0  11.5200  4.0200\n",
       "1     Bream   290.0     24.0     26.3     31.2  12.4800  4.3056\n",
       "2     Bream   340.0     23.9     26.5     31.1  12.3778  4.6961\n",
       "3     Bream   363.0     26.3     29.0     33.5  12.7300  4.4555\n",
       "4     Bream   430.0     26.5     29.0     34.0  12.4440  5.1340\n",
       "..      ...     ...      ...      ...      ...      ...     ...\n",
       "154   Smelt    12.2     11.5     12.2     13.4   2.0904  1.3936\n",
       "155   Smelt    13.4     11.7     12.4     13.5   2.4300  1.2690\n",
       "156   Smelt    12.2     12.1     13.0     13.8   2.2770  1.2558\n",
       "157   Smelt    19.7     13.2     14.3     15.2   2.8728  2.0672\n",
       "158   Smelt    19.9     13.8     15.0     16.2   2.9322  1.8792\n",
       "\n",
       "[159 rows x 7 columns]"
      ]
     },
     "execution_count": 57,
     "metadata": {},
     "output_type": "execute_result"
    }
   ],
   "source": [
    "df_fish = pd.read_csv('fish.csv')\n",
    "df_fish"
   ]
  },
  {
   "cell_type": "code",
   "execution_count": 58,
   "id": "3cb69c40",
   "metadata": {},
   "outputs": [
    {
     "data": {
      "text/plain": [
       "<bound method DataFrame.corr of     Species  Weight  Length1  Length2  Length3   Height   Width\n",
       "0     Bream   242.0     23.2     25.4     30.0  11.5200  4.0200\n",
       "1     Bream   290.0     24.0     26.3     31.2  12.4800  4.3056\n",
       "2     Bream   340.0     23.9     26.5     31.1  12.3778  4.6961\n",
       "3     Bream   363.0     26.3     29.0     33.5  12.7300  4.4555\n",
       "4     Bream   430.0     26.5     29.0     34.0  12.4440  5.1340\n",
       "..      ...     ...      ...      ...      ...      ...     ...\n",
       "154   Smelt    12.2     11.5     12.2     13.4   2.0904  1.3936\n",
       "155   Smelt    13.4     11.7     12.4     13.5   2.4300  1.2690\n",
       "156   Smelt    12.2     12.1     13.0     13.8   2.2770  1.2558\n",
       "157   Smelt    19.7     13.2     14.3     15.2   2.8728  2.0672\n",
       "158   Smelt    19.9     13.8     15.0     16.2   2.9322  1.8792\n",
       "\n",
       "[159 rows x 7 columns]>"
      ]
     },
     "execution_count": 58,
     "metadata": {},
     "output_type": "execute_result"
    }
   ],
   "source": [
    "# correlação entre os comprimentos dos peixes\n",
    "df_fish.corr"
   ]
  },
  {
   "cell_type": "code",
   "execution_count": 60,
   "id": "60a12bcc",
   "metadata": {},
   "outputs": [
    {
     "data": {
      "text/plain": [
       "<AxesSubplot:>"
      ]
     },
     "execution_count": 60,
     "metadata": {},
     "output_type": "execute_result"
    },
    {
     "data": {
      "image/png": "[encoded data removed]",
      "text/plain": [
       "<Figure size 432x288 with 2 Axes>"
      ]
     },
     "metadata": {
      "needs_background": "light"
     },
     "output_type": "display_data"
    }
   ],
   "source": [
    "# mapa de calor da correlação acima\n",
    "sns.heatmap(df_fish.corr(), annot=True, cmap='coolwarm')"
   ]
  },
  {
   "cell_type": "code",
   "execution_count": 61,
   "id": "44c54b8d",
   "metadata": {},
   "outputs": [
    {
     "data": {
      "text/plain": [
       "<seaborn.axisgrid.FacetGrid at 0x1eaff160c70>"
      ]
     },
     "execution_count": 61,
     "metadata": {},
     "output_type": "execute_result"
    },
    {
     "data": {
      "image/png": "[encoded data removed]",
      "text/plain": [
       "<Figure size 360x360 with 1 Axes>"
      ]
     },
     "metadata": {
      "needs_background": "light"
     },
     "output_type": "display_data"
    }
   ],
   "source": [
    "# distribuição dos pesos \n",
    "\n",
    "sns.displot(data=df_fish, x='Weight', kde=True)"
   ]
  },
  {
   "cell_type": "code",
   "execution_count": 64,
   "id": "eed60709",
   "metadata": {},
   "outputs": [
    {
     "data": {
      "text/plain": [
       "<seaborn.axisgrid.FacetGrid at 0x1ea83d81fd0>"
      ]
     },
     "execution_count": 64,
     "metadata": {},
     "output_type": "execute_result"
    },
    {
     "data": {
      "image/png": "[encoded data removed]",
      "text/plain": [
       "<Figure size 360x360 with 1 Axes>"
      ]
     },
     "metadata": {
      "needs_background": "light"
     },
     "output_type": "display_data"
    }
   ],
   "source": [
    "# distribuição das larguras\n",
    "\n",
    "sns.displot(data=df_fish, x='Width', kde=True)"
   ]
  },
  {
   "cell_type": "code",
   "execution_count": 63,
   "id": "a24b704e",
   "metadata": {},
   "outputs": [
    {
     "data": {
      "text/plain": [
       "<seaborn.axisgrid.PairGrid at 0x1eaffe9b2e0>"
      ]
     },
     "execution_count": 63,
     "metadata": {},
     "output_type": "execute_result"
    },
    {
     "data": {
      "image/png": "[encoded data removed]",
      "text/plain": [
       "<Figure size 1163.25x1080 with 42 Axes>"
      ]
     },
     "metadata": {
      "needs_background": "light"
     },
     "output_type": "display_data"
    }
   ],
   "source": [
    "#  relação de todos dos comprimentos em uma única figura\n",
    "\n",
    "sns.pairplot(data=df_fish, hue='Species')"
   ]
  },
  {
   "cell_type": "markdown",
   "id": "fae5a9a3",
   "metadata": {},
   "source": [
    "Questão #4\n",
    "Vale\n",
    "10\n",
    "Enunciado\n",
    "Questão 4\n",
    "Utilize os dados do arquivo salaries.csv para explorar as diferenças salariais entre homens e mulheres que estão em um mesmo posto. Por exemplo, Female Managers e Male Managers.\n",
    "\n",
    "Datasets para utilizar na Avaliação"
   ]
  },
  {
   "cell_type": "markdown",
   "id": "bb9ace41",
   "metadata": {},
   "source": [
    "## Parece que o arquivo está incompleto."
   ]
  },
  {
   "cell_type": "code",
   "execution_count": 71,
   "id": "2365781d",
   "metadata": {},
   "outputs": [
    {
     "data": {
      "text/html": [
       "<div>\n",
       "<style scoped>\n",
       "    .dataframe tbody tr th:only-of-type {\n",
       "        vertical-align: middle;\n",
       "    }\n",
       "\n",
       "    .dataframe tbody tr th {\n",
       "        vertical-align: top;\n",
       "    }\n",
       "\n",
       "    .dataframe thead th {\n",
       "        text-align: right;\n",
       "    }\n",
       "</style>\n",
       "<table border=\"1\" class=\"dataframe\">\n",
       "  <thead>\n",
       "    <tr style=\"text-align: right;\">\n",
       "      <th></th>\n",
       "      <th>year;females;femalesmanagers;femaleprofessionals;femaletechniciansandtradesworkers;femalecommunityandpersonalserviceworkers;femaleclericalandadministrativeworkers;femalesalesworkers;femalemachineryoperatorsanddrivers;femalelabourers;males;malemanagers;maleprofessionals;maletechniciansandtradesworkers;malecommunityandpersonalserviceworkers;maleclericalandadministrativeworkers;malesalesworkers;malemachineryoperatorsanddrivers;malelabourers;persons;personmanagers;personprofessionals;persontechniciansandtradesworkers;personcommunityandpersonalserviceworkers;personclericalandadministrativeworkers;personsalesworkers;personmachineryoperatorsanddrivers;personlabourers</th>\n",
       "    </tr>\n",
       "  </thead>\n",
       "  <tbody>\n",
       "    <tr>\n",
       "      <th>0</th>\n",
       "      <td>2004;Females;26.14;29.02;17.9;18.01;19.98;14.7...</td>\n",
       "    </tr>\n",
       "    <tr>\n",
       "      <th>1</th>\n",
       "      <td>2005;Females;28.1;30;18.86;18.2;20.95;15.39;21...</td>\n",
       "    </tr>\n",
       "    <tr>\n",
       "      <th>2</th>\n",
       "      <td>2006;Females;28.6;30.56;19.64;18.84;21.73;16.1...</td>\n",
       "    </tr>\n",
       "    <tr>\n",
       "      <th>3</th>\n",
       "      <td>2007;Females;36.43;31.93;20.98;19.85;23.27;16....</td>\n",
       "    </tr>\n",
       "    <tr>\n",
       "      <th>4</th>\n",
       "      <td>2008;Females;32.68;32.93;20.3;20.97;23.67;17.4...</td>\n",
       "    </tr>\n",
       "    <tr>\n",
       "      <th>5</th>\n",
       "      <td>2009;Females;33.3;34.72;20.19;21;23.81;18.02;2...</td>\n",
       "    </tr>\n",
       "    <tr>\n",
       "      <th>6</th>\n",
       "      <td>2010;Females;34.41;35.52;22.86;21.97;25.74;19....</td>\n",
       "    </tr>\n",
       "    <tr>\n",
       "      <th>7</th>\n",
       "      <td>2011;Females;35.22;36.48;23.19;23.25;26.85;19....</td>\n",
       "    </tr>\n",
       "    <tr>\n",
       "      <th>8</th>\n",
       "      <td>2012;Females;36.24;37.72;23.95;23.52;28.35;20....</td>\n",
       "    </tr>\n",
       "    <tr>\n",
       "      <th>9</th>\n",
       "      <td>2013;Females;37.26;38.95;23.9;24.5;28.38;21.61...</td>\n",
       "    </tr>\n",
       "    <tr>\n",
       "      <th>10</th>\n",
       "      <td>2014;Females;42.63;44.13;27.86;25.01;31.52;22....</td>\n",
       "    </tr>\n",
       "    <tr>\n",
       "      <th>11</th>\n",
       "      <td>2015;Females;42.12;44.75;27.5;26.87;31.68;22.9...</td>\n",
       "    </tr>\n",
       "    <tr>\n",
       "      <th>12</th>\n",
       "      <td>2016;Females;44.35;45.17;26.28;26.54;32.35;23....</td>\n",
       "    </tr>\n",
       "    <tr>\n",
       "      <th>13</th>\n",
       "      <td>2017;Females;46.02;47.04;28.3;27.84;33.54;26.1...</td>\n",
       "    </tr>\n",
       "  </tbody>\n",
       "</table>\n",
       "</div>"
      ],
      "text/plain": [
       "   year;females;femalesmanagers;femaleprofessionals;femaletechniciansandtradesworkers;femalecommunityandpersonalserviceworkers;femaleclericalandadministrativeworkers;femalesalesworkers;femalemachineryoperatorsanddrivers;femalelabourers;males;malemanagers;maleprofessionals;maletechniciansandtradesworkers;malecommunityandpersonalserviceworkers;maleclericalandadministrativeworkers;malesalesworkers;malemachineryoperatorsanddrivers;malelabourers;persons;personmanagers;personprofessionals;persontechniciansandtradesworkers;personcommunityandpersonalserviceworkers;personclericalandadministrativeworkers;personsalesworkers;personmachineryoperatorsanddrivers;personlabourers\n",
       "0   2004;Females;26.14;29.02;17.9;18.01;19.98;14.7...                                                                                                                                                                                                                                                                                                                                                                                                                                                                                                                                                                                                                                          \n",
       "1   2005;Females;28.1;30;18.86;18.2;20.95;15.39;21...                                                                                                                                                                                                                                                                                                                                                                                                                                                                                                                                                                                                                                          \n",
       "2   2006;Females;28.6;30.56;19.64;18.84;21.73;16.1...                                                                                                                                                                                                                                                                                                                                                                                                                                                                                                                                                                                                                                          \n",
       "3   2007;Females;36.43;31.93;20.98;19.85;23.27;16....                                                                                                                                                                                                                                                                                                                                                                                                                                                                                                                                                                                                                                          \n",
       "4   2008;Females;32.68;32.93;20.3;20.97;23.67;17.4...                                                                                                                                                                                                                                                                                                                                                                                                                                                                                                                                                                                                                                          \n",
       "5   2009;Females;33.3;34.72;20.19;21;23.81;18.02;2...                                                                                                                                                                                                                                                                                                                                                                                                                                                                                                                                                                                                                                          \n",
       "6   2010;Females;34.41;35.52;22.86;21.97;25.74;19....                                                                                                                                                                                                                                                                                                                                                                                                                                                                                                                                                                                                                                          \n",
       "7   2011;Females;35.22;36.48;23.19;23.25;26.85;19....                                                                                                                                                                                                                                                                                                                                                                                                                                                                                                                                                                                                                                          \n",
       "8   2012;Females;36.24;37.72;23.95;23.52;28.35;20....                                                                                                                                                                                                                                                                                                                                                                                                                                                                                                                                                                                                                                          \n",
       "9   2013;Females;37.26;38.95;23.9;24.5;28.38;21.61...                                                                                                                                                                                                                                                                                                                                                                                                                                                                                                                                                                                                                                          \n",
       "10  2014;Females;42.63;44.13;27.86;25.01;31.52;22....                                                                                                                                                                                                                                                                                                                                                                                                                                                                                                                                                                                                                                          \n",
       "11  2015;Females;42.12;44.75;27.5;26.87;31.68;22.9...                                                                                                                                                                                                                                                                                                                                                                                                                                                                                                                                                                                                                                          \n",
       "12  2016;Females;44.35;45.17;26.28;26.54;32.35;23....                                                                                                                                                                                                                                                                                                                                                                                                                                                                                                                                                                                                                                          \n",
       "13  2017;Females;46.02;47.04;28.3;27.84;33.54;26.1...                                                                                                                                                                                                                                                                                                                                                                                                                                                                                                                                                                                                                                          "
      ]
     },
     "execution_count": 71,
     "metadata": {},
     "output_type": "execute_result"
    }
   ],
   "source": [
    "df_salarios = pd.read_csv('salarios.csv')\n",
    "df_salarios"
   ]
  },
  {
   "cell_type": "code",
   "execution_count": null,
   "id": "024ffc24",
   "metadata": {},
   "outputs": [],
   "source": []
  },
  {
   "cell_type": "code",
   "execution_count": 70,
   "id": "2217f945",
   "metadata": {},
   "outputs": [
    {
     "name": "stdout",
     "output_type": "stream",
     "text": [
      "<class 'pandas.core.frame.DataFrame'>\n",
      "RangeIndex: 14 entries, 0 to 13\n",
      "Data columns (total 1 columns):\n",
      " #   Column                                                                                                                                                                                                                                                                                                                                                                                                                                                                                                                                                                                                                                                                                        Non-Null Count  Dtype \n",
      "---  ------                                                                                                                                                                                                                                                                                                                                                                                                                                                                                                                                                                                                                                                                                        --------------  ----- \n",
      " 0   year;females;femalesmanagers;femaleprofessionals;femaletechniciansandtradesworkers;femalecommunityandpersonalserviceworkers;femaleclericalandadministrativeworkers;femalesalesworkers;femalemachineryoperatorsanddrivers;femalelabourers;males;malemanagers;maleprofessionals;maletechniciansandtradesworkers;malecommunityandpersonalserviceworkers;maleclericalandadministrativeworkers;malesalesworkers;malemachineryoperatorsanddrivers;malelabourers;persons;personmanagers;personprofessionals;persontechniciansandtradesworkers;personcommunityandpersonalserviceworkers;personclericalandadministrativeworkers;personsalesworkers;personmachineryoperatorsanddrivers;personlabourers  14 non-null     object\n",
      "dtypes: object(1)\n",
      "memory usage: 240.0+ bytes\n"
     ]
    }
   ],
   "source": [
    "df_salarios.info()"
   ]
  },
  {
   "cell_type": "code",
   "execution_count": null,
   "id": "04bf0a83",
   "metadata": {},
   "outputs": [],
   "source": []
  }
 ],
 "metadata": {
  "kernelspec": {
   "display_name": "Python 3 (ipykernel)",
   "language": "python",
   "name": "python3"
  },
  "language_info": {
   "codemirror_mode": {
    "name": "ipython",
    "version": 3
   },
   "file_extension": ".py",
   "mimetype": "text/x-python",
   "name": "python",
   "nbconvert_exporter": "python",
   "pygments_lexer": "ipython3",
   "version": "3.9.6"
  }
 },
 "nbformat": 4,
 "nbformat_minor": 5
}
