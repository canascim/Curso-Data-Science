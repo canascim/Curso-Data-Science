{
 "cells": [
  {
   "cell_type": "code",
   "execution_count": 1,
   "id": "1cd3a8ee",
   "metadata": {},
   "outputs": [],
   "source": [
    "import pandas as pd\n",
    "import numpy as np\n",
    "import matplotlib.pyplot as plt\n",
    "import seaborn as sns"
   ]
  },
  {
   "cell_type": "markdown",
   "id": "c65c4ad4",
   "metadata": {},
   "source": [
    "Questão 1\n",
    "Dado o dataset gas.csv, carregue-o em um DataFrame e, em seguida:\n",
    "\n",
    "Visualize suas cinco primeiras linhas e imprima suas colunas.\n",
    "Obtenha a emissão mínima e máxima de gases ao longo de todo o período de observação.\n",
    "Crie uma nova coluna no DataFrame que contenha apenas o ano (como int) presente na coluna DATE.\n",
    "Faça um agrupamento no DataFrame com o intuito de obter qual foi o ano que apresentou, em média, uma emissão máxima de gases.\n",
    "Crie um gráfico de barras que apresente a emissão média de gases entre os anos de 1980 e 2019."
   ]
  },
  {
   "cell_type": "code",
   "execution_count": 2,
   "id": "849ca761",
   "metadata": {},
   "outputs": [
    {
     "data": {
      "text/html": [
       "<div>\n",
       "<style scoped>\n",
       "    .dataframe tbody tr th:only-of-type {\n",
       "        vertical-align: middle;\n",
       "    }\n",
       "\n",
       "    .dataframe tbody tr th {\n",
       "        vertical-align: top;\n",
       "    }\n",
       "\n",
       "    .dataframe thead th {\n",
       "        text-align: right;\n",
       "    }\n",
       "</style>\n",
       "<table border=\"1\" class=\"dataframe\">\n",
       "  <thead>\n",
       "    <tr style=\"text-align: right;\">\n",
       "      <th></th>\n",
       "      <th>DATE</th>\n",
       "      <th>IPG2211A2N</th>\n",
       "    </tr>\n",
       "  </thead>\n",
       "  <tbody>\n",
       "    <tr>\n",
       "      <th>0</th>\n",
       "      <td>1939-01-01</td>\n",
       "      <td>3.3842</td>\n",
       "    </tr>\n",
       "    <tr>\n",
       "      <th>1</th>\n",
       "      <td>1939-02-01</td>\n",
       "      <td>3.4100</td>\n",
       "    </tr>\n",
       "    <tr>\n",
       "      <th>2</th>\n",
       "      <td>1939-03-01</td>\n",
       "      <td>3.4875</td>\n",
       "    </tr>\n",
       "    <tr>\n",
       "      <th>3</th>\n",
       "      <td>1939-04-01</td>\n",
       "      <td>3.5133</td>\n",
       "    </tr>\n",
       "    <tr>\n",
       "      <th>4</th>\n",
       "      <td>1939-05-01</td>\n",
       "      <td>3.5133</td>\n",
       "    </tr>\n",
       "  </tbody>\n",
       "</table>\n",
       "</div>"
      ],
      "text/plain": [
       "         DATE  IPG2211A2N\n",
       "0  1939-01-01      3.3842\n",
       "1  1939-02-01      3.4100\n",
       "2  1939-03-01      3.4875\n",
       "3  1939-04-01      3.5133\n",
       "4  1939-05-01      3.5133"
      ]
     },
     "execution_count": 2,
     "metadata": {},
     "output_type": "execute_result"
    }
   ],
   "source": [
    "#Visualize suas cinco primeiras linhas e imprima suas colunas.\n",
    "df_gas = pd.read_csv('gas.csv')\n",
    "df_gas.head(5)"
   ]
  },
  {
   "cell_type": "code",
   "execution_count": 3,
   "id": "77934960",
   "metadata": {},
   "outputs": [
    {
     "data": {
      "text/plain": [
       "DATE          2019-05-01\n",
       "IPG2211A2N      128.9071\n",
       "dtype: object"
      ]
     },
     "execution_count": 3,
     "metadata": {},
     "output_type": "execute_result"
    }
   ],
   "source": [
    "#Obtenha a emissão mínima e máxima de gases ao longo de todo o período de observação.\n",
    "df_gas.max()"
   ]
  },
  {
   "cell_type": "code",
   "execution_count": 4,
   "id": "a9cb95a1",
   "metadata": {},
   "outputs": [
    {
     "data": {
      "text/plain": [
       "DATE          1939-01-01\n",
       "IPG2211A2N        3.3842\n",
       "dtype: object"
      ]
     },
     "execution_count": 4,
     "metadata": {},
     "output_type": "execute_result"
    }
   ],
   "source": [
    "df_gas.min()"
   ]
  },
  {
   "cell_type": "code",
   "execution_count": 5,
   "id": "d52a73b4",
   "metadata": {},
   "outputs": [
    {
     "name": "stdout",
     "output_type": "stream",
     "text": [
      "<class 'pandas.core.frame.DataFrame'>\n",
      "RangeIndex: 965 entries, 0 to 964\n",
      "Data columns (total 2 columns):\n",
      " #   Column      Non-Null Count  Dtype  \n",
      "---  ------      --------------  -----  \n",
      " 0   DATE        965 non-null    object \n",
      " 1   IPG2211A2N  965 non-null    float64\n",
      "dtypes: float64(1), object(1)\n",
      "memory usage: 15.2+ KB\n"
     ]
    }
   ],
   "source": [
    "#Crie uma nova coluna no DataFrame que contenha apenas o ano (como int) presente na coluna DATE.\n",
    "df_gas.info()"
   ]
  },
  {
   "cell_type": "code",
   "execution_count": 6,
   "id": "6b074d6b",
   "metadata": {},
   "outputs": [],
   "source": [
    "df_gas['ano'] = df_gas['DATE'].str.split('-').str.get(0)"
   ]
  },
  {
   "cell_type": "code",
   "execution_count": 7,
   "id": "ffbfffc4",
   "metadata": {},
   "outputs": [
    {
     "data": {
      "text/html": [
       "<div>\n",
       "<style scoped>\n",
       "    .dataframe tbody tr th:only-of-type {\n",
       "        vertical-align: middle;\n",
       "    }\n",
       "\n",
       "    .dataframe tbody tr th {\n",
       "        vertical-align: top;\n",
       "    }\n",
       "\n",
       "    .dataframe thead th {\n",
       "        text-align: right;\n",
       "    }\n",
       "</style>\n",
       "<table border=\"1\" class=\"dataframe\">\n",
       "  <thead>\n",
       "    <tr style=\"text-align: right;\">\n",
       "      <th></th>\n",
       "      <th>DATE</th>\n",
       "      <th>IPG2211A2N</th>\n",
       "      <th>ano</th>\n",
       "    </tr>\n",
       "  </thead>\n",
       "  <tbody>\n",
       "    <tr>\n",
       "      <th>0</th>\n",
       "      <td>1939-01-01</td>\n",
       "      <td>3.3842</td>\n",
       "      <td>1939</td>\n",
       "    </tr>\n",
       "    <tr>\n",
       "      <th>1</th>\n",
       "      <td>1939-02-01</td>\n",
       "      <td>3.4100</td>\n",
       "      <td>1939</td>\n",
       "    </tr>\n",
       "    <tr>\n",
       "      <th>2</th>\n",
       "      <td>1939-03-01</td>\n",
       "      <td>3.4875</td>\n",
       "      <td>1939</td>\n",
       "    </tr>\n",
       "    <tr>\n",
       "      <th>3</th>\n",
       "      <td>1939-04-01</td>\n",
       "      <td>3.5133</td>\n",
       "      <td>1939</td>\n",
       "    </tr>\n",
       "    <tr>\n",
       "      <th>4</th>\n",
       "      <td>1939-05-01</td>\n",
       "      <td>3.5133</td>\n",
       "      <td>1939</td>\n",
       "    </tr>\n",
       "    <tr>\n",
       "      <th>...</th>\n",
       "      <td>...</td>\n",
       "      <td>...</td>\n",
       "      <td>...</td>\n",
       "    </tr>\n",
       "    <tr>\n",
       "      <th>960</th>\n",
       "      <td>2019-01-01</td>\n",
       "      <td>123.7687</td>\n",
       "      <td>2019</td>\n",
       "    </tr>\n",
       "    <tr>\n",
       "      <th>961</th>\n",
       "      <td>2019-02-01</td>\n",
       "      <td>113.0736</td>\n",
       "      <td>2019</td>\n",
       "    </tr>\n",
       "    <tr>\n",
       "      <th>962</th>\n",
       "      <td>2019-03-01</td>\n",
       "      <td>106.6538</td>\n",
       "      <td>2019</td>\n",
       "    </tr>\n",
       "    <tr>\n",
       "      <th>963</th>\n",
       "      <td>2019-04-01</td>\n",
       "      <td>88.6460</td>\n",
       "      <td>2019</td>\n",
       "    </tr>\n",
       "    <tr>\n",
       "      <th>964</th>\n",
       "      <td>2019-05-01</td>\n",
       "      <td>92.3776</td>\n",
       "      <td>2019</td>\n",
       "    </tr>\n",
       "  </tbody>\n",
       "</table>\n",
       "<p>965 rows × 3 columns</p>\n",
       "</div>"
      ],
      "text/plain": [
       "           DATE  IPG2211A2N   ano\n",
       "0    1939-01-01      3.3842  1939\n",
       "1    1939-02-01      3.4100  1939\n",
       "2    1939-03-01      3.4875  1939\n",
       "3    1939-04-01      3.5133  1939\n",
       "4    1939-05-01      3.5133  1939\n",
       "..          ...         ...   ...\n",
       "960  2019-01-01    123.7687  2019\n",
       "961  2019-02-01    113.0736  2019\n",
       "962  2019-03-01    106.6538  2019\n",
       "963  2019-04-01     88.6460  2019\n",
       "964  2019-05-01     92.3776  2019\n",
       "\n",
       "[965 rows x 3 columns]"
      ]
     },
     "execution_count": 7,
     "metadata": {},
     "output_type": "execute_result"
    }
   ],
   "source": [
    "df_gas"
   ]
  },
  {
   "cell_type": "code",
   "execution_count": 8,
   "id": "d957d8fc",
   "metadata": {},
   "outputs": [
    {
     "name": "stdout",
     "output_type": "stream",
     "text": [
      "<class 'pandas.core.frame.DataFrame'>\n",
      "RangeIndex: 965 entries, 0 to 964\n",
      "Data columns (total 3 columns):\n",
      " #   Column      Non-Null Count  Dtype  \n",
      "---  ------      --------------  -----  \n",
      " 0   DATE        965 non-null    object \n",
      " 1   IPG2211A2N  965 non-null    float64\n",
      " 2   ano         965 non-null    object \n",
      "dtypes: float64(1), object(2)\n",
      "memory usage: 22.7+ KB\n"
     ]
    }
   ],
   "source": [
    "df_gas.info()"
   ]
  },
  {
   "cell_type": "code",
   "execution_count": 9,
   "id": "4522eb19",
   "metadata": {},
   "outputs": [],
   "source": [
    "df_gas['ano_int'] = df_gas['ano'].astype('int')"
   ]
  },
  {
   "cell_type": "code",
   "execution_count": 10,
   "id": "c2adeb42",
   "metadata": {},
   "outputs": [
    {
     "data": {
      "text/html": [
       "<div>\n",
       "<style scoped>\n",
       "    .dataframe tbody tr th:only-of-type {\n",
       "        vertical-align: middle;\n",
       "    }\n",
       "\n",
       "    .dataframe tbody tr th {\n",
       "        vertical-align: top;\n",
       "    }\n",
       "\n",
       "    .dataframe thead th {\n",
       "        text-align: right;\n",
       "    }\n",
       "</style>\n",
       "<table border=\"1\" class=\"dataframe\">\n",
       "  <thead>\n",
       "    <tr style=\"text-align: right;\">\n",
       "      <th></th>\n",
       "      <th>DATE</th>\n",
       "      <th>IPG2211A2N</th>\n",
       "      <th>ano</th>\n",
       "      <th>ano_int</th>\n",
       "    </tr>\n",
       "  </thead>\n",
       "  <tbody>\n",
       "    <tr>\n",
       "      <th>0</th>\n",
       "      <td>1939-01-01</td>\n",
       "      <td>3.3842</td>\n",
       "      <td>1939</td>\n",
       "      <td>1939</td>\n",
       "    </tr>\n",
       "    <tr>\n",
       "      <th>1</th>\n",
       "      <td>1939-02-01</td>\n",
       "      <td>3.4100</td>\n",
       "      <td>1939</td>\n",
       "      <td>1939</td>\n",
       "    </tr>\n",
       "    <tr>\n",
       "      <th>2</th>\n",
       "      <td>1939-03-01</td>\n",
       "      <td>3.4875</td>\n",
       "      <td>1939</td>\n",
       "      <td>1939</td>\n",
       "    </tr>\n",
       "    <tr>\n",
       "      <th>3</th>\n",
       "      <td>1939-04-01</td>\n",
       "      <td>3.5133</td>\n",
       "      <td>1939</td>\n",
       "      <td>1939</td>\n",
       "    </tr>\n",
       "    <tr>\n",
       "      <th>4</th>\n",
       "      <td>1939-05-01</td>\n",
       "      <td>3.5133</td>\n",
       "      <td>1939</td>\n",
       "      <td>1939</td>\n",
       "    </tr>\n",
       "    <tr>\n",
       "      <th>...</th>\n",
       "      <td>...</td>\n",
       "      <td>...</td>\n",
       "      <td>...</td>\n",
       "      <td>...</td>\n",
       "    </tr>\n",
       "    <tr>\n",
       "      <th>960</th>\n",
       "      <td>2019-01-01</td>\n",
       "      <td>123.7687</td>\n",
       "      <td>2019</td>\n",
       "      <td>2019</td>\n",
       "    </tr>\n",
       "    <tr>\n",
       "      <th>961</th>\n",
       "      <td>2019-02-01</td>\n",
       "      <td>113.0736</td>\n",
       "      <td>2019</td>\n",
       "      <td>2019</td>\n",
       "    </tr>\n",
       "    <tr>\n",
       "      <th>962</th>\n",
       "      <td>2019-03-01</td>\n",
       "      <td>106.6538</td>\n",
       "      <td>2019</td>\n",
       "      <td>2019</td>\n",
       "    </tr>\n",
       "    <tr>\n",
       "      <th>963</th>\n",
       "      <td>2019-04-01</td>\n",
       "      <td>88.6460</td>\n",
       "      <td>2019</td>\n",
       "      <td>2019</td>\n",
       "    </tr>\n",
       "    <tr>\n",
       "      <th>964</th>\n",
       "      <td>2019-05-01</td>\n",
       "      <td>92.3776</td>\n",
       "      <td>2019</td>\n",
       "      <td>2019</td>\n",
       "    </tr>\n",
       "  </tbody>\n",
       "</table>\n",
       "<p>965 rows × 4 columns</p>\n",
       "</div>"
      ],
      "text/plain": [
       "           DATE  IPG2211A2N   ano  ano_int\n",
       "0    1939-01-01      3.3842  1939     1939\n",
       "1    1939-02-01      3.4100  1939     1939\n",
       "2    1939-03-01      3.4875  1939     1939\n",
       "3    1939-04-01      3.5133  1939     1939\n",
       "4    1939-05-01      3.5133  1939     1939\n",
       "..          ...         ...   ...      ...\n",
       "960  2019-01-01    123.7687  2019     2019\n",
       "961  2019-02-01    113.0736  2019     2019\n",
       "962  2019-03-01    106.6538  2019     2019\n",
       "963  2019-04-01     88.6460  2019     2019\n",
       "964  2019-05-01     92.3776  2019     2019\n",
       "\n",
       "[965 rows x 4 columns]"
      ]
     },
     "execution_count": 10,
     "metadata": {},
     "output_type": "execute_result"
    }
   ],
   "source": [
    "df_gas"
   ]
  },
  {
   "cell_type": "code",
   "execution_count": 11,
   "id": "5313fdac",
   "metadata": {},
   "outputs": [
    {
     "name": "stdout",
     "output_type": "stream",
     "text": [
      "<class 'pandas.core.frame.DataFrame'>\n",
      "RangeIndex: 965 entries, 0 to 964\n",
      "Data columns (total 4 columns):\n",
      " #   Column      Non-Null Count  Dtype  \n",
      "---  ------      --------------  -----  \n",
      " 0   DATE        965 non-null    object \n",
      " 1   IPG2211A2N  965 non-null    float64\n",
      " 2   ano         965 non-null    object \n",
      " 3   ano_int     965 non-null    int32  \n",
      "dtypes: float64(1), int32(1), object(2)\n",
      "memory usage: 26.5+ KB\n"
     ]
    }
   ],
   "source": [
    "df_gas.info()"
   ]
  },
  {
   "cell_type": "code",
   "execution_count": 12,
   "id": "9f2fd20c",
   "metadata": {},
   "outputs": [
    {
     "data": {
      "text/plain": [
       "[ano_int\n",
       " 2018    128.9071\n",
       " 2014    124.0216\n",
       " 2019    123.7687\n",
       " 2015    119.9317\n",
       " 2011    119.7475\n",
       "           ...   \n",
       " 1943      5.7867\n",
       " 1942      5.2700\n",
       " 1941      4.7533\n",
       " 1940      4.1592\n",
       " 1939      3.7458\n",
       " Name: IPG2211A2N, Length: 81, dtype: float64]"
      ]
     },
     "execution_count": 12,
     "metadata": {},
     "output_type": "execute_result"
    }
   ],
   "source": [
    "#Faça um agrupamento no DataFrame com o intuito de obter qual foi o ano que apresentou, em média, uma emissão máxima de gases.\n",
    "\n",
    "[df_gas.groupby('ano_int')['IPG2211A2N'].max().sort_values(ascending=False)]"
   ]
  },
  {
   "cell_type": "code",
   "execution_count": null,
   "id": "9b94638f",
   "metadata": {},
   "outputs": [],
   "source": []
  },
  {
   "cell_type": "code",
   "execution_count": 13,
   "id": "8080764e",
   "metadata": {},
   "outputs": [
    {
     "data": {
      "text/plain": [
       "54.44395854922286"
      ]
     },
     "execution_count": 13,
     "metadata": {},
     "output_type": "execute_result"
    }
   ],
   "source": [
    "#Crie um gráfico de barras que apresente a emissão média de gases entre os anos de 1980 e 2019.\n",
    "#df_gas[(df_gas['ano_int'] > 1980) & (df_gas['ano_int'] < 2019)].mean(), 'IPG2211A2N'\n",
    "#df_gas[(df_gas['ano_int'] > 1980) & (df_gas['ano_int'] < 2019)].value_counts()\n",
    "#df_gas[(df_gas['ano_int'] > 1980)\n",
    "#df_gas['IPG2211A2N'].mean()\n",
    "#df_gas[(df_gas.groupby('ano_int')['IPG2211A2N'].mean()) & (df_gas['ano_int'] > 1980) & (df_gas['ano_int'] < 2019)]\n",
    "#((df_gas['ano_int'] > 1980) & (df_gas['ano_int'] < 2019))\n",
    "#(df_gas['ano_int'] > 1980) & (df_gas['ano_int'] < 2019)\n",
    "#df_gas.groupby('ano_int')['IPG2211A2N'].mean()\n",
    "#df_gas.groupby('ano_int')[(df_gas['ano_int'] > 1980) & (df_gas['ano_int'] < 2019)]\n",
    "#df_gas.groupby('ano_int')['IPG2211A2N'].mean().agg({''})\n",
    "#.agg({'Survived':['sum','count']}) # agregar\n",
    "\n",
    "(df_gas[(df_gas['ano_int'] > 1980) & (df_gas['ano_int'] < 2019)])\n",
    "\n",
    "(df_gas['IPG2211A2N'].mean())\n",
    "\n",
    "#df_gas[(df_gas[(df_gas['ano_int'] > 1980) & (df_gas['ano_int'] < 2019)]) & (df_gas['IPG2211A2N'].mean())]"
   ]
  },
  {
   "cell_type": "code",
   "execution_count": null,
   "id": "0fec2e77",
   "metadata": {},
   "outputs": [],
   "source": []
  },
  {
   "cell_type": "markdown",
   "id": "01128095",
   "metadata": {},
   "source": [
    "Questão #2\n",
    "Vale\n",
    "10\n",
    "Enunciado\n",
    "Questão 2\n",
    "Com a tabela de vendas de jogos de vídeo-games (videogames.csv), indique:\n",
    "\n",
    "Quais jogos estão no Top 10 de Vendas Globais nas plataformas PS3, Wii, X360 e PC.\n",
    "A proporção (percentual) de jogos criados por gênero, em: a) tabela; b)gráfico de barras; c) gráfico de pizza.\n",
    "Um gráfico de linha com a quantidade de vendas, em média, por ano, separadas pelas plataformas PS3, Wii, X360 e PSP.\n"
   ]
  },
  {
   "cell_type": "code",
   "execution_count": 14,
   "id": "e2db930e",
   "metadata": {},
   "outputs": [
    {
     "data": {
      "text/html": [
       "<div>\n",
       "<style scoped>\n",
       "    .dataframe tbody tr th:only-of-type {\n",
       "        vertical-align: middle;\n",
       "    }\n",
       "\n",
       "    .dataframe tbody tr th {\n",
       "        vertical-align: top;\n",
       "    }\n",
       "\n",
       "    .dataframe thead th {\n",
       "        text-align: right;\n",
       "    }\n",
       "</style>\n",
       "<table border=\"1\" class=\"dataframe\">\n",
       "  <thead>\n",
       "    <tr style=\"text-align: right;\">\n",
       "      <th></th>\n",
       "      <th>Rank</th>\n",
       "      <th>Name</th>\n",
       "      <th>Platform</th>\n",
       "      <th>Year</th>\n",
       "      <th>Genre</th>\n",
       "      <th>Publisher</th>\n",
       "      <th>NA_Sales</th>\n",
       "      <th>EU_Sales</th>\n",
       "      <th>JP_Sales</th>\n",
       "      <th>Other_Sales</th>\n",
       "      <th>Global_Sales</th>\n",
       "    </tr>\n",
       "  </thead>\n",
       "  <tbody>\n",
       "    <tr>\n",
       "      <th>0</th>\n",
       "      <td>1</td>\n",
       "      <td>Wii Sports</td>\n",
       "      <td>Wii</td>\n",
       "      <td>2006.0</td>\n",
       "      <td>Sports</td>\n",
       "      <td>Nintendo</td>\n",
       "      <td>41.49</td>\n",
       "      <td>29.02</td>\n",
       "      <td>3.77</td>\n",
       "      <td>8.46</td>\n",
       "      <td>82.74</td>\n",
       "    </tr>\n",
       "    <tr>\n",
       "      <th>1</th>\n",
       "      <td>2</td>\n",
       "      <td>Super Mario Bros.</td>\n",
       "      <td>NES</td>\n",
       "      <td>1985.0</td>\n",
       "      <td>Platform</td>\n",
       "      <td>Nintendo</td>\n",
       "      <td>29.08</td>\n",
       "      <td>3.58</td>\n",
       "      <td>6.81</td>\n",
       "      <td>0.77</td>\n",
       "      <td>40.24</td>\n",
       "    </tr>\n",
       "    <tr>\n",
       "      <th>2</th>\n",
       "      <td>3</td>\n",
       "      <td>Mario Kart Wii</td>\n",
       "      <td>Wii</td>\n",
       "      <td>2008.0</td>\n",
       "      <td>Racing</td>\n",
       "      <td>Nintendo</td>\n",
       "      <td>15.85</td>\n",
       "      <td>12.88</td>\n",
       "      <td>3.79</td>\n",
       "      <td>3.31</td>\n",
       "      <td>35.82</td>\n",
       "    </tr>\n",
       "    <tr>\n",
       "      <th>3</th>\n",
       "      <td>4</td>\n",
       "      <td>Wii Sports Resort</td>\n",
       "      <td>Wii</td>\n",
       "      <td>2009.0</td>\n",
       "      <td>Sports</td>\n",
       "      <td>Nintendo</td>\n",
       "      <td>15.75</td>\n",
       "      <td>11.01</td>\n",
       "      <td>3.28</td>\n",
       "      <td>2.96</td>\n",
       "      <td>33.00</td>\n",
       "    </tr>\n",
       "    <tr>\n",
       "      <th>4</th>\n",
       "      <td>5</td>\n",
       "      <td>Pokemon Red/Pokemon Blue</td>\n",
       "      <td>GB</td>\n",
       "      <td>1996.0</td>\n",
       "      <td>Role-Playing</td>\n",
       "      <td>Nintendo</td>\n",
       "      <td>11.27</td>\n",
       "      <td>8.89</td>\n",
       "      <td>10.22</td>\n",
       "      <td>1.00</td>\n",
       "      <td>31.37</td>\n",
       "    </tr>\n",
       "    <tr>\n",
       "      <th>...</th>\n",
       "      <td>...</td>\n",
       "      <td>...</td>\n",
       "      <td>...</td>\n",
       "      <td>...</td>\n",
       "      <td>...</td>\n",
       "      <td>...</td>\n",
       "      <td>...</td>\n",
       "      <td>...</td>\n",
       "      <td>...</td>\n",
       "      <td>...</td>\n",
       "      <td>...</td>\n",
       "    </tr>\n",
       "    <tr>\n",
       "      <th>16593</th>\n",
       "      <td>16596</td>\n",
       "      <td>Woody Woodpecker in Crazy Castle 5</td>\n",
       "      <td>GBA</td>\n",
       "      <td>2002.0</td>\n",
       "      <td>Platform</td>\n",
       "      <td>Kemco</td>\n",
       "      <td>0.01</td>\n",
       "      <td>0.00</td>\n",
       "      <td>0.00</td>\n",
       "      <td>0.00</td>\n",
       "      <td>0.01</td>\n",
       "    </tr>\n",
       "    <tr>\n",
       "      <th>16594</th>\n",
       "      <td>16597</td>\n",
       "      <td>Men in Black II: Alien Escape</td>\n",
       "      <td>GC</td>\n",
       "      <td>2003.0</td>\n",
       "      <td>Shooter</td>\n",
       "      <td>Infogrames</td>\n",
       "      <td>0.01</td>\n",
       "      <td>0.00</td>\n",
       "      <td>0.00</td>\n",
       "      <td>0.00</td>\n",
       "      <td>0.01</td>\n",
       "    </tr>\n",
       "    <tr>\n",
       "      <th>16595</th>\n",
       "      <td>16598</td>\n",
       "      <td>SCORE International Baja 1000: The Official Game</td>\n",
       "      <td>PS2</td>\n",
       "      <td>2008.0</td>\n",
       "      <td>Racing</td>\n",
       "      <td>Activision</td>\n",
       "      <td>0.00</td>\n",
       "      <td>0.00</td>\n",
       "      <td>0.00</td>\n",
       "      <td>0.00</td>\n",
       "      <td>0.01</td>\n",
       "    </tr>\n",
       "    <tr>\n",
       "      <th>16596</th>\n",
       "      <td>16599</td>\n",
       "      <td>Know How 2</td>\n",
       "      <td>DS</td>\n",
       "      <td>2010.0</td>\n",
       "      <td>Puzzle</td>\n",
       "      <td>7G//AMES</td>\n",
       "      <td>0.00</td>\n",
       "      <td>0.01</td>\n",
       "      <td>0.00</td>\n",
       "      <td>0.00</td>\n",
       "      <td>0.01</td>\n",
       "    </tr>\n",
       "    <tr>\n",
       "      <th>16597</th>\n",
       "      <td>16600</td>\n",
       "      <td>Spirits &amp; Spells</td>\n",
       "      <td>GBA</td>\n",
       "      <td>2003.0</td>\n",
       "      <td>Platform</td>\n",
       "      <td>Wanadoo</td>\n",
       "      <td>0.01</td>\n",
       "      <td>0.00</td>\n",
       "      <td>0.00</td>\n",
       "      <td>0.00</td>\n",
       "      <td>0.01</td>\n",
       "    </tr>\n",
       "  </tbody>\n",
       "</table>\n",
       "<p>16598 rows × 11 columns</p>\n",
       "</div>"
      ],
      "text/plain": [
       "        Rank                                              Name Platform  \\\n",
       "0          1                                        Wii Sports      Wii   \n",
       "1          2                                 Super Mario Bros.      NES   \n",
       "2          3                                    Mario Kart Wii      Wii   \n",
       "3          4                                 Wii Sports Resort      Wii   \n",
       "4          5                          Pokemon Red/Pokemon Blue       GB   \n",
       "...      ...                                               ...      ...   \n",
       "16593  16596                Woody Woodpecker in Crazy Castle 5      GBA   \n",
       "16594  16597                     Men in Black II: Alien Escape       GC   \n",
       "16595  16598  SCORE International Baja 1000: The Official Game      PS2   \n",
       "16596  16599                                        Know How 2       DS   \n",
       "16597  16600                                  Spirits & Spells      GBA   \n",
       "\n",
       "         Year         Genre   Publisher  NA_Sales  EU_Sales  JP_Sales  \\\n",
       "0      2006.0        Sports    Nintendo     41.49     29.02      3.77   \n",
       "1      1985.0      Platform    Nintendo     29.08      3.58      6.81   \n",
       "2      2008.0        Racing    Nintendo     15.85     12.88      3.79   \n",
       "3      2009.0        Sports    Nintendo     15.75     11.01      3.28   \n",
       "4      1996.0  Role-Playing    Nintendo     11.27      8.89     10.22   \n",
       "...       ...           ...         ...       ...       ...       ...   \n",
       "16593  2002.0      Platform       Kemco      0.01      0.00      0.00   \n",
       "16594  2003.0       Shooter  Infogrames      0.01      0.00      0.00   \n",
       "16595  2008.0        Racing  Activision      0.00      0.00      0.00   \n",
       "16596  2010.0        Puzzle    7G//AMES      0.00      0.01      0.00   \n",
       "16597  2003.0      Platform     Wanadoo      0.01      0.00      0.00   \n",
       "\n",
       "       Other_Sales  Global_Sales  \n",
       "0             8.46         82.74  \n",
       "1             0.77         40.24  \n",
       "2             3.31         35.82  \n",
       "3             2.96         33.00  \n",
       "4             1.00         31.37  \n",
       "...            ...           ...  \n",
       "16593         0.00          0.01  \n",
       "16594         0.00          0.01  \n",
       "16595         0.00          0.01  \n",
       "16596         0.00          0.01  \n",
       "16597         0.00          0.01  \n",
       "\n",
       "[16598 rows x 11 columns]"
      ]
     },
     "execution_count": 14,
     "metadata": {},
     "output_type": "execute_result"
    }
   ],
   "source": [
    "#Quais jogos estão no Top 10 de Vendas Globais nas plataformas PS3, Wii, X360 e PC.\n",
    "\n",
    "df_videogame= pd.read_csv('videogame.csv')\n",
    "df_videogame"
   ]
  },
  {
   "cell_type": "code",
   "execution_count": 20,
   "id": "a70a59ae",
   "metadata": {},
   "outputs": [
    {
     "name": "stdout",
     "output_type": "stream",
     "text": [
      "ola\n"
     ]
    }
   ],
   "source": [
    "#df_videogame.groupby(['Platform'= 3dO])[['Name'==]].count()\n",
    "#atletas.groupby(['NOC'])[['Name']].count()\n",
    "#atletas['NOC'].loc[atletas['NOC']=='Brazil'].count()\n",
    "#df_videogame['Platform'].loc[df_videogame['Platform']== 'PS3'].count()\n",
    "\n",
    "#df_videogame[df_videogame['Platform'] == 'PS3'].value_counts(ascending =False)\n",
    "#df_videogame.groupby(['Platform', 'Name']) ['Global_Sales'].sum()\n",
    "\n",
    "#df_videogame['Genre']\n",
    "\n",
    "print('ola')"
   ]
  },
  {
   "cell_type": "code",
   "execution_count": 16,
   "id": "c060017a",
   "metadata": {},
   "outputs": [
    {
     "data": {
      "text/plain": [
       "Action          0.199783\n",
       "Sports          0.141342\n",
       "Misc            0.104772\n",
       "Role-Playing    0.089649\n",
       "Shooter         0.078925\n",
       "Adventure       0.077479\n",
       "Racing          0.075250\n",
       "Platform        0.053380\n",
       "Simulation      0.052235\n",
       "Fighting        0.051090\n",
       "Strategy        0.041029\n",
       "Puzzle          0.035064\n",
       "Name: Genre, dtype: float64"
      ]
     },
     "execution_count": 16,
     "metadata": {},
     "output_type": "execute_result"
    }
   ],
   "source": [
    "#A proporção (percentual) de jogos criados por gênero, em: a) tabela; b)gráfico de barras; c) gráfico de pizza.\n",
    "\n",
    "df_videogame['Genre'].value_counts(normalize=True)\n"
   ]
  },
  {
   "cell_type": "code",
   "execution_count": 17,
   "id": "9b8fc941",
   "metadata": {},
   "outputs": [
    {
     "data": {
      "text/plain": [
       "<BarContainer object of 16598 artists>"
      ]
     },
     "execution_count": 17,
     "metadata": {},
     "output_type": "execute_result"
    },
    {
     "data": {
      "image/png": "[encoded data removed]",
      "text/plain": [
       "<Figure size 432x288 with 1 Axes>"
      ]
     },
     "metadata": {
      "needs_background": "light"
     },
     "output_type": "display_data"
    }
   ],
   "source": [
    "plt.bar(x='Genre',height='Name', data=df_videogame, alpha=0.5)"
   ]
  },
  {
   "cell_type": "code",
   "execution_count": 18,
   "id": "37b6d306",
   "metadata": {},
   "outputs": [],
   "source": [
    "#Um gráfico de linha com a quantidade de vendas, em média, por ano, separadas pelas plataformas PS3, Wii, X360 e PSP."
   ]
  },
  {
   "cell_type": "code",
   "execution_count": null,
   "id": "6bab517e",
   "metadata": {},
   "outputs": [],
   "source": []
  },
  {
   "cell_type": "markdown",
   "id": "280d4800",
   "metadata": {},
   "source": [
    "Questão #3\n",
    "Vale\n",
    "10\n",
    "Enunciado\n",
    "Questão 3\n",
    "Considerando os dados do dataset fish.csv, faça uma análise exploratória dos dados, criando:\n",
    "\n",
    "Vários gráficos (em uma mesma figura) combinando cada par de característica (feature) dos peixes, e atribuindo uma cor diferente para cada espécie.\n",
    "Crie um gráfico de distribuição da largura dos peixes (Width). Não deixe de incluir o KDE.\n",
    "Crie um mapa de calor que apresente a correlação entre cada feature do peixe. Anote os dados no gráfico e utilize o cmap=coolwarm."
   ]
  },
  {
   "cell_type": "markdown",
   "id": "fae5a9a3",
   "metadata": {},
   "source": [
    "Questão #4\n",
    "Vale\n",
    "10\n",
    "Enunciado\n",
    "Questão 4\n",
    "Utilize os dados do arquivo salaries.csv para explorar as diferenças salariais entre homens e mulheres que estão em um mesmo posto. Por exemplo, Female Managers e Male Managers.\n",
    "\n",
    "Datasets para utilizar na Avaliação"
   ]
  }
 ],
 "metadata": {
  "kernelspec": {
   "display_name": "Python 3",
   "language": "python",
   "name": "python3"
  },
  "language_info": {
   "codemirror_mode": {
    "name": "ipython",
    "version": 3
   },
   "file_extension": ".py",
   "mimetype": "text/x-python",
   "name": "python",
   "nbconvert_exporter": "python",
   "pygments_lexer": "ipython3",
   "version": "3.8.8"
  }
 },
 "nbformat": 4,
 "nbformat_minor": 5
}
