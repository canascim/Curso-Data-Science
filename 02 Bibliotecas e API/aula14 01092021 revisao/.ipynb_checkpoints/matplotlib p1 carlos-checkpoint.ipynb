{
 "cells": [
  {
   "cell_type": "code",
   "execution_count": null,
   "id": "864bd1bc",
   "metadata": {},
   "outputs": [],
   "source": [
    "import pandas as pd\n",
    "import numpy as np\n",
    "import matplotlib.pyplot as plt\n",
    "import seaborn as sns"
   ]
  },
  {
   "cell_type": "code",
   "execution_count": 10,
   "id": "d824261b",
   "metadata": {},
   "outputs": [
    {
     "data": {
      "text/html": [
       "<div>\n",
       "<style scoped>\n",
       "    .dataframe tbody tr th:only-of-type {\n",
       "        vertical-align: middle;\n",
       "    }\n",
       "\n",
       "    .dataframe tbody tr th {\n",
       "        vertical-align: top;\n",
       "    }\n",
       "\n",
       "    .dataframe thead th {\n",
       "        text-align: right;\n",
       "    }\n",
       "</style>\n",
       "<table border=\"1\" class=\"dataframe\">\n",
       "  <thead>\n",
       "    <tr style=\"text-align: right;\">\n",
       "      <th></th>\n",
       "      <th>Rank</th>\n",
       "      <th>Team/NOC</th>\n",
       "      <th>Gold</th>\n",
       "      <th>Silver</th>\n",
       "      <th>Bronze</th>\n",
       "      <th>Total</th>\n",
       "      <th>Rank by Total</th>\n",
       "    </tr>\n",
       "  </thead>\n",
       "  <tbody>\n",
       "    <tr>\n",
       "      <th>0</th>\n",
       "      <td>1.0</td>\n",
       "      <td>United States of America</td>\n",
       "      <td>39.0</td>\n",
       "      <td>41.0</td>\n",
       "      <td>33.0</td>\n",
       "      <td>113.0</td>\n",
       "      <td>1.0</td>\n",
       "    </tr>\n",
       "    <tr>\n",
       "      <th>1</th>\n",
       "      <td>2.0</td>\n",
       "      <td>People's Republic of China</td>\n",
       "      <td>38.0</td>\n",
       "      <td>32.0</td>\n",
       "      <td>18.0</td>\n",
       "      <td>88.0</td>\n",
       "      <td>2.0</td>\n",
       "    </tr>\n",
       "    <tr>\n",
       "      <th>2</th>\n",
       "      <td>3.0</td>\n",
       "      <td>Japan</td>\n",
       "      <td>27.0</td>\n",
       "      <td>14.0</td>\n",
       "      <td>17.0</td>\n",
       "      <td>58.0</td>\n",
       "      <td>5.0</td>\n",
       "    </tr>\n",
       "    <tr>\n",
       "      <th>3</th>\n",
       "      <td>4.0</td>\n",
       "      <td>Great Britain</td>\n",
       "      <td>22.0</td>\n",
       "      <td>21.0</td>\n",
       "      <td>22.0</td>\n",
       "      <td>NaN</td>\n",
       "      <td>4.0</td>\n",
       "    </tr>\n",
       "    <tr>\n",
       "      <th>4</th>\n",
       "      <td>5.0</td>\n",
       "      <td>ROC</td>\n",
       "      <td>20.0</td>\n",
       "      <td>28.0</td>\n",
       "      <td>23.0</td>\n",
       "      <td>71.0</td>\n",
       "      <td>3.0</td>\n",
       "    </tr>\n",
       "    <tr>\n",
       "      <th>...</th>\n",
       "      <td>...</td>\n",
       "      <td>...</td>\n",
       "      <td>...</td>\n",
       "      <td>...</td>\n",
       "      <td>...</td>\n",
       "      <td>...</td>\n",
       "      <td>...</td>\n",
       "    </tr>\n",
       "    <tr>\n",
       "      <th>88</th>\n",
       "      <td>86.0</td>\n",
       "      <td>Ghana</td>\n",
       "      <td>0.0</td>\n",
       "      <td>0.0</td>\n",
       "      <td>1.0</td>\n",
       "      <td>1.0</td>\n",
       "      <td>77.0</td>\n",
       "    </tr>\n",
       "    <tr>\n",
       "      <th>89</th>\n",
       "      <td>86.0</td>\n",
       "      <td>Grenada</td>\n",
       "      <td>0.0</td>\n",
       "      <td>0.0</td>\n",
       "      <td>1.0</td>\n",
       "      <td>1.0</td>\n",
       "      <td>77.0</td>\n",
       "    </tr>\n",
       "    <tr>\n",
       "      <th>90</th>\n",
       "      <td>86.0</td>\n",
       "      <td>Kuwait</td>\n",
       "      <td>0.0</td>\n",
       "      <td>0.0</td>\n",
       "      <td>1.0</td>\n",
       "      <td>1.0</td>\n",
       "      <td>77.0</td>\n",
       "    </tr>\n",
       "    <tr>\n",
       "      <th>91</th>\n",
       "      <td>86.0</td>\n",
       "      <td>Republic of Moldova</td>\n",
       "      <td>0.0</td>\n",
       "      <td>0.0</td>\n",
       "      <td>1.0</td>\n",
       "      <td>1.0</td>\n",
       "      <td>NaN</td>\n",
       "    </tr>\n",
       "    <tr>\n",
       "      <th>92</th>\n",
       "      <td>86.0</td>\n",
       "      <td>Syrian Arab Republic</td>\n",
       "      <td>0.0</td>\n",
       "      <td>0.0</td>\n",
       "      <td>1.0</td>\n",
       "      <td>1.0</td>\n",
       "      <td>77.0</td>\n",
       "    </tr>\n",
       "  </tbody>\n",
       "</table>\n",
       "<p>93 rows × 7 columns</p>\n",
       "</div>"
      ],
      "text/plain": [
       "    Rank                    Team/NOC  Gold  Silver  Bronze  Total  \\\n",
       "0    1.0    United States of America  39.0    41.0    33.0  113.0   \n",
       "1    2.0  People's Republic of China  38.0    32.0    18.0   88.0   \n",
       "2    3.0                       Japan  27.0    14.0    17.0   58.0   \n",
       "3    4.0               Great Britain  22.0    21.0    22.0    NaN   \n",
       "4    5.0                         ROC  20.0    28.0    23.0   71.0   \n",
       "..   ...                         ...   ...     ...     ...    ...   \n",
       "88  86.0                       Ghana   0.0     0.0     1.0    1.0   \n",
       "89  86.0                     Grenada   0.0     0.0     1.0    1.0   \n",
       "90  86.0                      Kuwait   0.0     0.0     1.0    1.0   \n",
       "91  86.0         Republic of Moldova   0.0     0.0     1.0    1.0   \n",
       "92  86.0        Syrian Arab Republic   0.0     0.0     1.0    1.0   \n",
       "\n",
       "    Rank by Total  \n",
       "0             1.0  \n",
       "1             2.0  \n",
       "2             5.0  \n",
       "3             4.0  \n",
       "4             3.0  \n",
       "..            ...  \n",
       "88           77.0  \n",
       "89           77.0  \n",
       "90           77.0  \n",
       "91            NaN  \n",
       "92           77.0  \n",
       "\n",
       "[93 rows x 7 columns]"
      ]
     },
     "execution_count": 10,
     "metadata": {},
     "output_type": "execute_result"
    }
   ],
   "source": [
    "medalhas = pd.read_excel('C:/Users/carlo/OneDrive - Kumon América do Sul/kumon/treinamentos/externo/letscode/modulo 02 Bibliotecas e API/materiais de aulas/aula14 01092021 revisao/medalhas.xlsx')\n",
    "medalhas\n"
   ]
  },
  {
   "cell_type": "code",
   "execution_count": 11,
   "id": "028d3a31",
   "metadata": {},
   "outputs": [
    {
     "data": {
      "text/plain": [
       "Rank             3\n",
       "Team/NOC         0\n",
       "Gold             9\n",
       "Silver           8\n",
       "Bronze           7\n",
       "Total            8\n",
       "Rank by Total    7\n",
       "dtype: int64"
      ]
     },
     "execution_count": 11,
     "metadata": {},
     "output_type": "execute_result"
    }
   ],
   "source": [
    "medalhas.isna().sum()\n"
   ]
  },
  {
   "cell_type": "code",
   "execution_count": 12,
   "id": "792a1b44",
   "metadata": {},
   "outputs": [
    {
     "data": {
      "text/html": [
       "<div>\n",
       "<style scoped>\n",
       "    .dataframe tbody tr th:only-of-type {\n",
       "        vertical-align: middle;\n",
       "    }\n",
       "\n",
       "    .dataframe tbody tr th {\n",
       "        vertical-align: top;\n",
       "    }\n",
       "\n",
       "    .dataframe thead th {\n",
       "        text-align: right;\n",
       "    }\n",
       "</style>\n",
       "<table border=\"1\" class=\"dataframe\">\n",
       "  <thead>\n",
       "    <tr style=\"text-align: right;\">\n",
       "      <th></th>\n",
       "      <th>Rank</th>\n",
       "      <th>Team/NOC</th>\n",
       "      <th>Gold</th>\n",
       "      <th>Silver</th>\n",
       "      <th>Bronze</th>\n",
       "      <th>Total</th>\n",
       "      <th>Rank by Total</th>\n",
       "    </tr>\n",
       "  </thead>\n",
       "  <tbody>\n",
       "    <tr>\n",
       "      <th>65</th>\n",
       "      <td>66.0</td>\n",
       "      <td>Colombia</td>\n",
       "      <td>NaN</td>\n",
       "      <td>4.0</td>\n",
       "      <td>1.0</td>\n",
       "      <td>5.0</td>\n",
       "      <td>42.0</td>\n",
       "    </tr>\n",
       "    <tr>\n",
       "      <th>66</th>\n",
       "      <td>67.0</td>\n",
       "      <td>Azerbaijan</td>\n",
       "      <td>NaN</td>\n",
       "      <td>3.0</td>\n",
       "      <td>4.0</td>\n",
       "      <td>7.0</td>\n",
       "      <td>33.0</td>\n",
       "    </tr>\n",
       "    <tr>\n",
       "      <th>67</th>\n",
       "      <td>68.0</td>\n",
       "      <td>Dominican Republic</td>\n",
       "      <td>NaN</td>\n",
       "      <td>3.0</td>\n",
       "      <td>2.0</td>\n",
       "      <td>5.0</td>\n",
       "      <td>42.0</td>\n",
       "    </tr>\n",
       "    <tr>\n",
       "      <th>68</th>\n",
       "      <td>NaN</td>\n",
       "      <td>Armenia</td>\n",
       "      <td>NaN</td>\n",
       "      <td>2.0</td>\n",
       "      <td>2.0</td>\n",
       "      <td>4.0</td>\n",
       "      <td>47.0</td>\n",
       "    </tr>\n",
       "    <tr>\n",
       "      <th>69</th>\n",
       "      <td>70.0</td>\n",
       "      <td>Kyrgyzstan</td>\n",
       "      <td>NaN</td>\n",
       "      <td>2.0</td>\n",
       "      <td>1.0</td>\n",
       "      <td>3.0</td>\n",
       "      <td>60.0</td>\n",
       "    </tr>\n",
       "    <tr>\n",
       "      <th>70</th>\n",
       "      <td>71.0</td>\n",
       "      <td>Mongolia</td>\n",
       "      <td>NaN</td>\n",
       "      <td>1.0</td>\n",
       "      <td>3.0</td>\n",
       "      <td>4.0</td>\n",
       "      <td>47.0</td>\n",
       "    </tr>\n",
       "    <tr>\n",
       "      <th>71</th>\n",
       "      <td>72.0</td>\n",
       "      <td>Argentina</td>\n",
       "      <td>NaN</td>\n",
       "      <td>1.0</td>\n",
       "      <td>2.0</td>\n",
       "      <td>3.0</td>\n",
       "      <td>60.0</td>\n",
       "    </tr>\n",
       "    <tr>\n",
       "      <th>72</th>\n",
       "      <td>72.0</td>\n",
       "      <td>San Marino</td>\n",
       "      <td>NaN</td>\n",
       "      <td>1.0</td>\n",
       "      <td>2.0</td>\n",
       "      <td>3.0</td>\n",
       "      <td>60.0</td>\n",
       "    </tr>\n",
       "    <tr>\n",
       "      <th>73</th>\n",
       "      <td>74.0</td>\n",
       "      <td>Jordan</td>\n",
       "      <td>NaN</td>\n",
       "      <td>1.0</td>\n",
       "      <td>1.0</td>\n",
       "      <td>2.0</td>\n",
       "      <td>66.0</td>\n",
       "    </tr>\n",
       "  </tbody>\n",
       "</table>\n",
       "</div>"
      ],
      "text/plain": [
       "    Rank            Team/NOC  Gold  Silver  Bronze  Total  Rank by Total\n",
       "65  66.0            Colombia   NaN     4.0     1.0    5.0           42.0\n",
       "66  67.0          Azerbaijan   NaN     3.0     4.0    7.0           33.0\n",
       "67  68.0  Dominican Republic   NaN     3.0     2.0    5.0           42.0\n",
       "68   NaN             Armenia   NaN     2.0     2.0    4.0           47.0\n",
       "69  70.0          Kyrgyzstan   NaN     2.0     1.0    3.0           60.0\n",
       "70  71.0            Mongolia   NaN     1.0     3.0    4.0           47.0\n",
       "71  72.0           Argentina   NaN     1.0     2.0    3.0           60.0\n",
       "72  72.0          San Marino   NaN     1.0     2.0    3.0           60.0\n",
       "73  74.0              Jordan   NaN     1.0     1.0    2.0           66.0"
      ]
     },
     "execution_count": 12,
     "metadata": {},
     "output_type": "execute_result"
    }
   ],
   "source": [
    "medalhas.loc[medalhas['Gold'].isnull()]"
   ]
  },
  {
   "cell_type": "code",
   "execution_count": 13,
   "id": "826e7f6f",
   "metadata": {},
   "outputs": [
    {
     "data": {
      "text/plain": [
       "65   NaN\n",
       "66   NaN\n",
       "67   NaN\n",
       "68   NaN\n",
       "69   NaN\n",
       "70   NaN\n",
       "71   NaN\n",
       "72   NaN\n",
       "73   NaN\n",
       "Name: Gold, dtype: float64"
      ]
     },
     "execution_count": 13,
     "metadata": {},
     "output_type": "execute_result"
    }
   ],
   "source": [
    "medalhas.loc[medalhas['Gold'].isnull(), 'Gold']"
   ]
  },
  {
   "cell_type": "code",
   "execution_count": 14,
   "id": "0bcfa186",
   "metadata": {},
   "outputs": [],
   "source": [
    "medalhas.loc[medalhas['Gold'].isnull(), 'Gold'] = 0"
   ]
  },
  {
   "cell_type": "code",
   "execution_count": 15,
   "id": "bca3c8c0",
   "metadata": {},
   "outputs": [
    {
     "data": {
      "text/html": [
       "<div>\n",
       "<style scoped>\n",
       "    .dataframe tbody tr th:only-of-type {\n",
       "        vertical-align: middle;\n",
       "    }\n",
       "\n",
       "    .dataframe tbody tr th {\n",
       "        vertical-align: top;\n",
       "    }\n",
       "\n",
       "    .dataframe thead th {\n",
       "        text-align: right;\n",
       "    }\n",
       "</style>\n",
       "<table border=\"1\" class=\"dataframe\">\n",
       "  <thead>\n",
       "    <tr style=\"text-align: right;\">\n",
       "      <th></th>\n",
       "      <th>Rank</th>\n",
       "      <th>Team/NOC</th>\n",
       "      <th>Gold</th>\n",
       "      <th>Silver</th>\n",
       "      <th>Bronze</th>\n",
       "      <th>Total</th>\n",
       "      <th>Rank by Total</th>\n",
       "    </tr>\n",
       "  </thead>\n",
       "  <tbody>\n",
       "  </tbody>\n",
       "</table>\n",
       "</div>"
      ],
      "text/plain": [
       "Empty DataFrame\n",
       "Columns: [Rank, Team/NOC, Gold, Silver, Bronze, Total, Rank by Total]\n",
       "Index: []"
      ]
     },
     "execution_count": 15,
     "metadata": {},
     "output_type": "execute_result"
    }
   ],
   "source": [
    "medalhas.loc[medalhas['Gold'].isnull()]"
   ]
  },
  {
   "cell_type": "code",
   "execution_count": 24,
   "id": "2cb91ea0",
   "metadata": {},
   "outputs": [
    {
     "data": {
      "text/plain": [
       "0     39.0\n",
       "1     38.0\n",
       "2     27.0\n",
       "3     22.0\n",
       "4     20.0\n",
       "      ... \n",
       "88     0.0\n",
       "89     0.0\n",
       "90     0.0\n",
       "91     0.0\n",
       "92     0.0\n",
       "Name: Gold, Length: 93, dtype: float64"
      ]
     },
     "execution_count": 24,
     "metadata": {},
     "output_type": "execute_result"
    }
   ],
   "source": [
    "medalhas['Gold']"
   ]
  },
  {
   "cell_type": "code",
   "execution_count": 17,
   "id": "f51e41f4",
   "metadata": {
    "scrolled": true
   },
   "outputs": [
    {
     "data": {
      "text/html": [
       "<div>\n",
       "<style scoped>\n",
       "    .dataframe tbody tr th:only-of-type {\n",
       "        vertical-align: middle;\n",
       "    }\n",
       "\n",
       "    .dataframe tbody tr th {\n",
       "        vertical-align: top;\n",
       "    }\n",
       "\n",
       "    .dataframe thead th {\n",
       "        text-align: right;\n",
       "    }\n",
       "</style>\n",
       "<table border=\"1\" class=\"dataframe\">\n",
       "  <thead>\n",
       "    <tr style=\"text-align: right;\">\n",
       "      <th></th>\n",
       "      <th>Rank</th>\n",
       "      <th>Team/NOC</th>\n",
       "      <th>Gold</th>\n",
       "      <th>Silver</th>\n",
       "      <th>Bronze</th>\n",
       "      <th>Total</th>\n",
       "      <th>Rank by Total</th>\n",
       "    </tr>\n",
       "  </thead>\n",
       "  <tbody>\n",
       "    <tr>\n",
       "      <th>39.0</th>\n",
       "      <td>39.0</td>\n",
       "      <td>Israel</td>\n",
       "      <td>2.0</td>\n",
       "      <td>0.0</td>\n",
       "      <td>2.0</td>\n",
       "      <td>NaN</td>\n",
       "      <td>47.0</td>\n",
       "    </tr>\n",
       "    <tr>\n",
       "      <th>38.0</th>\n",
       "      <td>39.0</td>\n",
       "      <td>Ireland</td>\n",
       "      <td>2.0</td>\n",
       "      <td>0.0</td>\n",
       "      <td>2.0</td>\n",
       "      <td>4.0</td>\n",
       "      <td>47.0</td>\n",
       "    </tr>\n",
       "    <tr>\n",
       "      <th>27.0</th>\n",
       "      <td>28.0</td>\n",
       "      <td>Serbia</td>\n",
       "      <td>3.0</td>\n",
       "      <td>1.0</td>\n",
       "      <td>5.0</td>\n",
       "      <td>NaN</td>\n",
       "      <td>26.0</td>\n",
       "    </tr>\n",
       "    <tr>\n",
       "      <th>22.0</th>\n",
       "      <td>23.0</td>\n",
       "      <td>Sweden</td>\n",
       "      <td>3.0</td>\n",
       "      <td>6.0</td>\n",
       "      <td>0.0</td>\n",
       "      <td>9.0</td>\n",
       "      <td>26.0</td>\n",
       "    </tr>\n",
       "    <tr>\n",
       "      <th>20.0</th>\n",
       "      <td>21.0</td>\n",
       "      <td>Jamaica</td>\n",
       "      <td>4.0</td>\n",
       "      <td>1.0</td>\n",
       "      <td>4.0</td>\n",
       "      <td>9.0</td>\n",
       "      <td>NaN</td>\n",
       "    </tr>\n",
       "    <tr>\n",
       "      <th>...</th>\n",
       "      <td>...</td>\n",
       "      <td>...</td>\n",
       "      <td>...</td>\n",
       "      <td>...</td>\n",
       "      <td>...</td>\n",
       "      <td>...</td>\n",
       "      <td>...</td>\n",
       "    </tr>\n",
       "    <tr>\n",
       "      <th>0.0</th>\n",
       "      <td>1.0</td>\n",
       "      <td>United States of America</td>\n",
       "      <td>39.0</td>\n",
       "      <td>41.0</td>\n",
       "      <td>33.0</td>\n",
       "      <td>113.0</td>\n",
       "      <td>1.0</td>\n",
       "    </tr>\n",
       "    <tr>\n",
       "      <th>0.0</th>\n",
       "      <td>1.0</td>\n",
       "      <td>United States of America</td>\n",
       "      <td>39.0</td>\n",
       "      <td>41.0</td>\n",
       "      <td>33.0</td>\n",
       "      <td>113.0</td>\n",
       "      <td>1.0</td>\n",
       "    </tr>\n",
       "    <tr>\n",
       "      <th>0.0</th>\n",
       "      <td>1.0</td>\n",
       "      <td>United States of America</td>\n",
       "      <td>39.0</td>\n",
       "      <td>41.0</td>\n",
       "      <td>33.0</td>\n",
       "      <td>113.0</td>\n",
       "      <td>1.0</td>\n",
       "    </tr>\n",
       "    <tr>\n",
       "      <th>0.0</th>\n",
       "      <td>1.0</td>\n",
       "      <td>United States of America</td>\n",
       "      <td>39.0</td>\n",
       "      <td>41.0</td>\n",
       "      <td>33.0</td>\n",
       "      <td>113.0</td>\n",
       "      <td>1.0</td>\n",
       "    </tr>\n",
       "    <tr>\n",
       "      <th>0.0</th>\n",
       "      <td>1.0</td>\n",
       "      <td>United States of America</td>\n",
       "      <td>39.0</td>\n",
       "      <td>41.0</td>\n",
       "      <td>33.0</td>\n",
       "      <td>113.0</td>\n",
       "      <td>1.0</td>\n",
       "    </tr>\n",
       "  </tbody>\n",
       "</table>\n",
       "<p>93 rows × 7 columns</p>\n",
       "</div>"
      ],
      "text/plain": [
       "      Rank                  Team/NOC  Gold  Silver  Bronze  Total  \\\n",
       "39.0  39.0                    Israel   2.0     0.0     2.0    NaN   \n",
       "38.0  39.0                   Ireland   2.0     0.0     2.0    4.0   \n",
       "27.0  28.0                    Serbia   3.0     1.0     5.0    NaN   \n",
       "22.0  23.0                    Sweden   3.0     6.0     0.0    9.0   \n",
       "20.0  21.0                   Jamaica   4.0     1.0     4.0    9.0   \n",
       "...    ...                       ...   ...     ...     ...    ...   \n",
       "0.0    1.0  United States of America  39.0    41.0    33.0  113.0   \n",
       "0.0    1.0  United States of America  39.0    41.0    33.0  113.0   \n",
       "0.0    1.0  United States of America  39.0    41.0    33.0  113.0   \n",
       "0.0    1.0  United States of America  39.0    41.0    33.0  113.0   \n",
       "0.0    1.0  United States of America  39.0    41.0    33.0  113.0   \n",
       "\n",
       "      Rank by Total  \n",
       "39.0           47.0  \n",
       "38.0           47.0  \n",
       "27.0           26.0  \n",
       "22.0           26.0  \n",
       "20.0            NaN  \n",
       "...             ...  \n",
       "0.0             1.0  \n",
       "0.0             1.0  \n",
       "0.0             1.0  \n",
       "0.0             1.0  \n",
       "0.0             1.0  \n",
       "\n",
       "[93 rows x 7 columns]"
      ]
     },
     "execution_count": 17,
     "metadata": {},
     "output_type": "execute_result"
    }
   ],
   "source": [
    "medalhas.loc[medalhas['Gold']]"
   ]
  },
  {
   "cell_type": "code",
   "execution_count": 19,
   "id": "7ef8761f",
   "metadata": {},
   "outputs": [
    {
     "data": {
      "text/plain": [
       "0     39.0\n",
       "1     38.0\n",
       "2     27.0\n",
       "3     22.0\n",
       "4     20.0\n",
       "      ... \n",
       "88     0.0\n",
       "89     0.0\n",
       "90     0.0\n",
       "91     0.0\n",
       "92     0.0\n",
       "Name: Gold, Length: 93, dtype: float64"
      ]
     },
     "execution_count": 19,
     "metadata": {},
     "output_type": "execute_result"
    }
   ],
   "source": [
    "medalhas['Gold']"
   ]
  },
  {
   "cell_type": "code",
   "execution_count": 21,
   "id": "80d213c7",
   "metadata": {},
   "outputs": [
    {
     "data": {
      "text/html": [
       "<div>\n",
       "<style scoped>\n",
       "    .dataframe tbody tr th:only-of-type {\n",
       "        vertical-align: middle;\n",
       "    }\n",
       "\n",
       "    .dataframe tbody tr th {\n",
       "        vertical-align: top;\n",
       "    }\n",
       "\n",
       "    .dataframe thead th {\n",
       "        text-align: right;\n",
       "    }\n",
       "</style>\n",
       "<table border=\"1\" class=\"dataframe\">\n",
       "  <thead>\n",
       "    <tr style=\"text-align: right;\">\n",
       "      <th></th>\n",
       "      <th>Name</th>\n",
       "      <th>NOC</th>\n",
       "      <th>Discipline</th>\n",
       "    </tr>\n",
       "  </thead>\n",
       "  <tbody>\n",
       "    <tr>\n",
       "      <th>0</th>\n",
       "      <td>AALERUD Katrine</td>\n",
       "      <td>Norway</td>\n",
       "      <td>Cycling Road</td>\n",
       "    </tr>\n",
       "    <tr>\n",
       "      <th>1</th>\n",
       "      <td>ABAD Nestor</td>\n",
       "      <td>Spain</td>\n",
       "      <td>Artistic Gymnastics</td>\n",
       "    </tr>\n",
       "    <tr>\n",
       "      <th>2</th>\n",
       "      <td>ABAGNALE Giovanni</td>\n",
       "      <td>Italy</td>\n",
       "      <td>Rowing</td>\n",
       "    </tr>\n",
       "    <tr>\n",
       "      <th>3</th>\n",
       "      <td>ABALDE Alberto</td>\n",
       "      <td>Spain</td>\n",
       "      <td>Basketball</td>\n",
       "    </tr>\n",
       "    <tr>\n",
       "      <th>4</th>\n",
       "      <td>ABALDE Tamara</td>\n",
       "      <td>Spain</td>\n",
       "      <td>Basketball</td>\n",
       "    </tr>\n",
       "    <tr>\n",
       "      <th>...</th>\n",
       "      <td>...</td>\n",
       "      <td>...</td>\n",
       "      <td>...</td>\n",
       "    </tr>\n",
       "    <tr>\n",
       "      <th>11080</th>\n",
       "      <td>ZWICKER Martin Detlef</td>\n",
       "      <td>Germany</td>\n",
       "      <td>Hockey</td>\n",
       "    </tr>\n",
       "    <tr>\n",
       "      <th>11081</th>\n",
       "      <td>ZWOLINSKA Klaudia</td>\n",
       "      <td>Poland</td>\n",
       "      <td>Canoe Slalom</td>\n",
       "    </tr>\n",
       "    <tr>\n",
       "      <th>11082</th>\n",
       "      <td>ZYKOVA Yulia</td>\n",
       "      <td>ROC</td>\n",
       "      <td>Shooting</td>\n",
       "    </tr>\n",
       "    <tr>\n",
       "      <th>11083</th>\n",
       "      <td>ZYUZINA Ekaterina</td>\n",
       "      <td>ROC</td>\n",
       "      <td>Sailing</td>\n",
       "    </tr>\n",
       "    <tr>\n",
       "      <th>11084</th>\n",
       "      <td>ZYZANSKA Sylwia</td>\n",
       "      <td>Poland</td>\n",
       "      <td>Archery</td>\n",
       "    </tr>\n",
       "  </tbody>\n",
       "</table>\n",
       "<p>11085 rows × 3 columns</p>\n",
       "</div>"
      ],
      "text/plain": [
       "                        Name      NOC           Discipline\n",
       "0            AALERUD Katrine   Norway         Cycling Road\n",
       "1                ABAD Nestor    Spain  Artistic Gymnastics\n",
       "2          ABAGNALE Giovanni    Italy               Rowing\n",
       "3             ABALDE Alberto    Spain           Basketball\n",
       "4              ABALDE Tamara    Spain           Basketball\n",
       "...                      ...      ...                  ...\n",
       "11080  ZWICKER Martin Detlef  Germany               Hockey\n",
       "11081      ZWOLINSKA Klaudia   Poland         Canoe Slalom\n",
       "11082           ZYKOVA Yulia      ROC             Shooting\n",
       "11083      ZYUZINA Ekaterina      ROC              Sailing\n",
       "11084        ZYZANSKA Sylwia   Poland              Archery\n",
       "\n",
       "[11085 rows x 3 columns]"
      ]
     },
     "execution_count": 21,
     "metadata": {},
     "output_type": "execute_result"
    }
   ],
   "source": [
    "atletas = pd.read_excel('C:/Users/carlo/OneDrive - Kumon América do Sul/kumon/treinamentos/externo/letscode/modulo 02 Bibliotecas e API/materiais de aulas/aula14 01092021 revisao/atletas.xlsx')\n",
    "atletas"
   ]
  },
  {
   "cell_type": "code",
   "execution_count": 23,
   "id": "95668f40",
   "metadata": {},
   "outputs": [
    {
     "data": {
      "text/html": [
       "<div>\n",
       "<style scoped>\n",
       "    .dataframe tbody tr th:only-of-type {\n",
       "        vertical-align: middle;\n",
       "    }\n",
       "\n",
       "    .dataframe tbody tr th {\n",
       "        vertical-align: top;\n",
       "    }\n",
       "\n",
       "    .dataframe thead th {\n",
       "        text-align: right;\n",
       "    }\n",
       "</style>\n",
       "<table border=\"1\" class=\"dataframe\">\n",
       "  <thead>\n",
       "    <tr style=\"text-align: right;\">\n",
       "      <th></th>\n",
       "      <th>Name</th>\n",
       "      <th>NOC</th>\n",
       "      <th>Discipline</th>\n",
       "    </tr>\n",
       "  </thead>\n",
       "  <tbody>\n",
       "    <tr>\n",
       "      <th>96</th>\n",
       "      <td>ADAO de SA Mateus Daniel</td>\n",
       "      <td>Brazil</td>\n",
       "      <td>Athletics</td>\n",
       "    </tr>\n",
       "    <tr>\n",
       "      <th>134</th>\n",
       "      <td>AGUIAR Mayra</td>\n",
       "      <td>Brazil</td>\n",
       "      <td>Judo</td>\n",
       "    </tr>\n",
       "    <tr>\n",
       "      <th>218</th>\n",
       "      <td>ALBRECHT Samuel</td>\n",
       "      <td>Brazil</td>\n",
       "      <td>Sailing</td>\n",
       "    </tr>\n",
       "    <tr>\n",
       "      <th>262</th>\n",
       "      <td>ALINE</td>\n",
       "      <td>Brazil</td>\n",
       "      <td>Football</td>\n",
       "    </tr>\n",
       "    <tr>\n",
       "      <th>309</th>\n",
       "      <td>ALTHEMAN Maria Suelen</td>\n",
       "      <td>Brazil</td>\n",
       "      <td>Judo</td>\n",
       "    </tr>\n",
       "    <tr>\n",
       "      <th>...</th>\n",
       "      <td>...</td>\n",
       "      <td>...</td>\n",
       "      <td>...</td>\n",
       "    </tr>\n",
       "    <tr>\n",
       "      <th>10696</th>\n",
       "      <td>WU Felipe Almeida</td>\n",
       "      <td>Brazil</td>\n",
       "      <td>Shooting</td>\n",
       "    </tr>\n",
       "    <tr>\n",
       "      <th>10754</th>\n",
       "      <td>YAMADA Jessica</td>\n",
       "      <td>Brazil</td>\n",
       "      <td>Table Tennis</td>\n",
       "    </tr>\n",
       "    <tr>\n",
       "      <th>10940</th>\n",
       "      <td>ZANELLATO Rafaela</td>\n",
       "      <td>Brazil</td>\n",
       "      <td>Rugby Sevens</td>\n",
       "    </tr>\n",
       "    <tr>\n",
       "      <th>10941</th>\n",
       "      <td>ZANETTI Arthur</td>\n",
       "      <td>Brazil</td>\n",
       "      <td>Artistic Gymnastics</td>\n",
       "    </tr>\n",
       "    <tr>\n",
       "      <th>10952</th>\n",
       "      <td>ZARIF Jorge</td>\n",
       "      <td>Brazil</td>\n",
       "      <td>Sailing</td>\n",
       "    </tr>\n",
       "  </tbody>\n",
       "</table>\n",
       "<p>291 rows × 3 columns</p>\n",
       "</div>"
      ],
      "text/plain": [
       "                           Name     NOC           Discipline\n",
       "96     ADAO de SA Mateus Daniel  Brazil            Athletics\n",
       "134                AGUIAR Mayra  Brazil                 Judo\n",
       "218             ALBRECHT Samuel  Brazil              Sailing\n",
       "262                       ALINE  Brazil             Football\n",
       "309       ALTHEMAN Maria Suelen  Brazil                 Judo\n",
       "...                         ...     ...                  ...\n",
       "10696         WU Felipe Almeida  Brazil             Shooting\n",
       "10754            YAMADA Jessica  Brazil         Table Tennis\n",
       "10940         ZANELLATO Rafaela  Brazil         Rugby Sevens\n",
       "10941            ZANETTI Arthur  Brazil  Artistic Gymnastics\n",
       "10952               ZARIF Jorge  Brazil              Sailing\n",
       "\n",
       "[291 rows x 3 columns]"
      ]
     },
     "execution_count": 23,
     "metadata": {},
     "output_type": "execute_result"
    }
   ],
   "source": [
    "atletas[atletas['NOC']=='Brazil']\n",
    "#atletas['NOC']=='Brazil'"
   ]
  },
  {
   "cell_type": "code",
   "execution_count": 25,
   "id": "1201f811",
   "metadata": {},
   "outputs": [],
   "source": [
    "import pandas as pd\n",
    "import datetime as dt\n",
    "# Carregando os dados da bolsa já utilzados\n",
    "\n",
    "ibov = pd.read_csv('https://raw.githubusercontent.com/renatapink/DSdegree/master/Modulo2/Aula04/BVSP.csv')\n"
   ]
  },
  {
   "cell_type": "code",
   "execution_count": 28,
   "id": "a5de95eb",
   "metadata": {},
   "outputs": [
    {
     "data": {
      "text/html": [
       "<div>\n",
       "<style scoped>\n",
       "    .dataframe tbody tr th:only-of-type {\n",
       "        vertical-align: middle;\n",
       "    }\n",
       "\n",
       "    .dataframe tbody tr th {\n",
       "        vertical-align: top;\n",
       "    }\n",
       "\n",
       "    .dataframe thead th {\n",
       "        text-align: right;\n",
       "    }\n",
       "</style>\n",
       "<table border=\"1\" class=\"dataframe\">\n",
       "  <thead>\n",
       "    <tr style=\"text-align: right;\">\n",
       "      <th></th>\n",
       "      <th>Date</th>\n",
       "      <th>Open</th>\n",
       "      <th>High</th>\n",
       "      <th>Low</th>\n",
       "      <th>Close</th>\n",
       "      <th>Adj Close</th>\n",
       "      <th>Volume</th>\n",
       "      <th>variacao</th>\n",
       "      <th>var_dia</th>\n",
       "      <th>day_name</th>\n",
       "      <th>month_name</th>\n",
       "      <th>dia</th>\n",
       "      <th>mes</th>\n",
       "      <th>ano</th>\n",
       "    </tr>\n",
       "  </thead>\n",
       "  <tbody>\n",
       "    <tr>\n",
       "      <th>0</th>\n",
       "      <td>2021-01-04</td>\n",
       "      <td>119024.0</td>\n",
       "      <td>120354.0</td>\n",
       "      <td>118062.0</td>\n",
       "      <td>118558.0</td>\n",
       "      <td>118558.0</td>\n",
       "      <td>8741400.0</td>\n",
       "      <td>-466.0</td>\n",
       "      <td>negativa</td>\n",
       "      <td>Monday</td>\n",
       "      <td>January</td>\n",
       "      <td>4</td>\n",
       "      <td>1</td>\n",
       "      <td>2021</td>\n",
       "    </tr>\n",
       "    <tr>\n",
       "      <th>1</th>\n",
       "      <td>2021-01-05</td>\n",
       "      <td>118835.0</td>\n",
       "      <td>119790.0</td>\n",
       "      <td>116756.0</td>\n",
       "      <td>119223.0</td>\n",
       "      <td>119223.0</td>\n",
       "      <td>9257100.0</td>\n",
       "      <td>388.0</td>\n",
       "      <td>positiva</td>\n",
       "      <td>Tuesday</td>\n",
       "      <td>January</td>\n",
       "      <td>5</td>\n",
       "      <td>1</td>\n",
       "      <td>2021</td>\n",
       "    </tr>\n",
       "    <tr>\n",
       "      <th>2</th>\n",
       "      <td>2021-01-06</td>\n",
       "      <td>119377.0</td>\n",
       "      <td>120924.0</td>\n",
       "      <td>118917.0</td>\n",
       "      <td>119851.0</td>\n",
       "      <td>119851.0</td>\n",
       "      <td>11638200.0</td>\n",
       "      <td>474.0</td>\n",
       "      <td>positiva</td>\n",
       "      <td>Wednesday</td>\n",
       "      <td>January</td>\n",
       "      <td>6</td>\n",
       "      <td>1</td>\n",
       "      <td>2021</td>\n",
       "    </tr>\n",
       "    <tr>\n",
       "      <th>3</th>\n",
       "      <td>2021-01-07</td>\n",
       "      <td>119103.0</td>\n",
       "      <td>121983.0</td>\n",
       "      <td>119101.0</td>\n",
       "      <td>121956.0</td>\n",
       "      <td>121956.0</td>\n",
       "      <td>11774800.0</td>\n",
       "      <td>2853.0</td>\n",
       "      <td>positiva</td>\n",
       "      <td>Thursday</td>\n",
       "      <td>January</td>\n",
       "      <td>7</td>\n",
       "      <td>1</td>\n",
       "      <td>2021</td>\n",
       "    </tr>\n",
       "    <tr>\n",
       "      <th>4</th>\n",
       "      <td>2021-01-08</td>\n",
       "      <td>122387.0</td>\n",
       "      <td>125324.0</td>\n",
       "      <td>122386.0</td>\n",
       "      <td>125077.0</td>\n",
       "      <td>125077.0</td>\n",
       "      <td>11085800.0</td>\n",
       "      <td>2690.0</td>\n",
       "      <td>positiva</td>\n",
       "      <td>Friday</td>\n",
       "      <td>January</td>\n",
       "      <td>8</td>\n",
       "      <td>1</td>\n",
       "      <td>2021</td>\n",
       "    </tr>\n",
       "    <tr>\n",
       "      <th>...</th>\n",
       "      <td>...</td>\n",
       "      <td>...</td>\n",
       "      <td>...</td>\n",
       "      <td>...</td>\n",
       "      <td>...</td>\n",
       "      <td>...</td>\n",
       "      <td>...</td>\n",
       "      <td>...</td>\n",
       "      <td>...</td>\n",
       "      <td>...</td>\n",
       "      <td>...</td>\n",
       "      <td>...</td>\n",
       "      <td>...</td>\n",
       "      <td>...</td>\n",
       "    </tr>\n",
       "    <tr>\n",
       "      <th>143</th>\n",
       "      <td>2021-08-02</td>\n",
       "      <td>121803.0</td>\n",
       "      <td>124536.0</td>\n",
       "      <td>121797.0</td>\n",
       "      <td>122516.0</td>\n",
       "      <td>122516.0</td>\n",
       "      <td>8565400.0</td>\n",
       "      <td>713.0</td>\n",
       "      <td>positiva</td>\n",
       "      <td>Monday</td>\n",
       "      <td>August</td>\n",
       "      <td>2</td>\n",
       "      <td>8</td>\n",
       "      <td>2021</td>\n",
       "    </tr>\n",
       "    <tr>\n",
       "      <th>144</th>\n",
       "      <td>2021-08-03</td>\n",
       "      <td>122516.0</td>\n",
       "      <td>123765.0</td>\n",
       "      <td>120807.0</td>\n",
       "      <td>123577.0</td>\n",
       "      <td>123577.0</td>\n",
       "      <td>9391300.0</td>\n",
       "      <td>1061.0</td>\n",
       "      <td>positiva</td>\n",
       "      <td>Tuesday</td>\n",
       "      <td>August</td>\n",
       "      <td>3</td>\n",
       "      <td>8</td>\n",
       "      <td>2021</td>\n",
       "    </tr>\n",
       "    <tr>\n",
       "      <th>145</th>\n",
       "      <td>2021-08-04</td>\n",
       "      <td>123577.0</td>\n",
       "      <td>123587.0</td>\n",
       "      <td>121072.0</td>\n",
       "      <td>121801.0</td>\n",
       "      <td>121801.0</td>\n",
       "      <td>9164200.0</td>\n",
       "      <td>-1776.0</td>\n",
       "      <td>negativa</td>\n",
       "      <td>Wednesday</td>\n",
       "      <td>August</td>\n",
       "      <td>4</td>\n",
       "      <td>8</td>\n",
       "      <td>2021</td>\n",
       "    </tr>\n",
       "    <tr>\n",
       "      <th>146</th>\n",
       "      <td>2021-08-05</td>\n",
       "      <td>121801.0</td>\n",
       "      <td>123541.0</td>\n",
       "      <td>121128.0</td>\n",
       "      <td>121633.0</td>\n",
       "      <td>121633.0</td>\n",
       "      <td>10913000.0</td>\n",
       "      <td>-168.0</td>\n",
       "      <td>negativa</td>\n",
       "      <td>Thursday</td>\n",
       "      <td>August</td>\n",
       "      <td>5</td>\n",
       "      <td>8</td>\n",
       "      <td>2021</td>\n",
       "    </tr>\n",
       "    <tr>\n",
       "      <th>147</th>\n",
       "      <td>2021-08-06</td>\n",
       "      <td>121633.0</td>\n",
       "      <td>123287.0</td>\n",
       "      <td>121568.0</td>\n",
       "      <td>122810.0</td>\n",
       "      <td>122810.0</td>\n",
       "      <td>7499200.0</td>\n",
       "      <td>1177.0</td>\n",
       "      <td>positiva</td>\n",
       "      <td>Friday</td>\n",
       "      <td>August</td>\n",
       "      <td>6</td>\n",
       "      <td>8</td>\n",
       "      <td>2021</td>\n",
       "    </tr>\n",
       "  </tbody>\n",
       "</table>\n",
       "<p>148 rows × 14 columns</p>\n",
       "</div>"
      ],
      "text/plain": [
       "          Date      Open      High       Low     Close  Adj Close      Volume  \\\n",
       "0   2021-01-04  119024.0  120354.0  118062.0  118558.0   118558.0   8741400.0   \n",
       "1   2021-01-05  118835.0  119790.0  116756.0  119223.0   119223.0   9257100.0   \n",
       "2   2021-01-06  119377.0  120924.0  118917.0  119851.0   119851.0  11638200.0   \n",
       "3   2021-01-07  119103.0  121983.0  119101.0  121956.0   121956.0  11774800.0   \n",
       "4   2021-01-08  122387.0  125324.0  122386.0  125077.0   125077.0  11085800.0   \n",
       "..         ...       ...       ...       ...       ...        ...         ...   \n",
       "143 2021-08-02  121803.0  124536.0  121797.0  122516.0   122516.0   8565400.0   \n",
       "144 2021-08-03  122516.0  123765.0  120807.0  123577.0   123577.0   9391300.0   \n",
       "145 2021-08-04  123577.0  123587.0  121072.0  121801.0   121801.0   9164200.0   \n",
       "146 2021-08-05  121801.0  123541.0  121128.0  121633.0   121633.0  10913000.0   \n",
       "147 2021-08-06  121633.0  123287.0  121568.0  122810.0   122810.0   7499200.0   \n",
       "\n",
       "     variacao   var_dia   day_name month_name  dia  mes   ano  \n",
       "0      -466.0  negativa     Monday    January    4    1  2021  \n",
       "1       388.0  positiva    Tuesday    January    5    1  2021  \n",
       "2       474.0  positiva  Wednesday    January    6    1  2021  \n",
       "3      2853.0  positiva   Thursday    January    7    1  2021  \n",
       "4      2690.0  positiva     Friday    January    8    1  2021  \n",
       "..        ...       ...        ...        ...  ...  ...   ...  \n",
       "143     713.0  positiva     Monday     August    2    8  2021  \n",
       "144    1061.0  positiva    Tuesday     August    3    8  2021  \n",
       "145   -1776.0  negativa  Wednesday     August    4    8  2021  \n",
       "146    -168.0  negativa   Thursday     August    5    8  2021  \n",
       "147    1177.0  positiva     Friday     August    6    8  2021  \n",
       "\n",
       "[148 rows x 14 columns]"
      ]
     },
     "execution_count": 28,
     "metadata": {},
     "output_type": "execute_result"
    }
   ],
   "source": [
    "ibov"
   ]
  },
  {
   "cell_type": "code",
   "execution_count": 26,
   "id": "db7dad46",
   "metadata": {},
   "outputs": [],
   "source": [
    "ibov['Date'] = pd.to_datetime(ibov['Date'])\n",
    "ibov['variacao'] = ibov['Close'] - ibov['Open']\n",
    "ibov.loc[ibov['variacao'] > 0, 'var_dia'] = 'positiva'\n",
    "ibov.loc[ibov['variacao'] < 0, 'var_dia'] = 'negativa'\n",
    "ibov['day_name'] = ibov['Date'].dt.day_name()\n",
    "ibov['month_name'] = ibov['Date'].dt.month_name()\n",
    "ibov['dia'] = ibov['Date'].dt.day\n",
    "ibov['mes'] = ibov['Date'].dt.month\n",
    "ibov['ano'] = ibov['Date'].dt.year\n"
   ]
  },
  {
   "cell_type": "code",
   "execution_count": 29,
   "id": "3ed1dd41",
   "metadata": {},
   "outputs": [
    {
     "name": "stdout",
     "output_type": "stream",
     "text": [
      "<class 'pandas.core.frame.DataFrame'>\n",
      "RangeIndex: 148 entries, 0 to 147\n",
      "Data columns (total 14 columns):\n",
      " #   Column      Non-Null Count  Dtype         \n",
      "---  ------      --------------  -----         \n",
      " 0   Date        148 non-null    datetime64[ns]\n",
      " 1   Open        147 non-null    float64       \n",
      " 2   High        147 non-null    float64       \n",
      " 3   Low         147 non-null    float64       \n",
      " 4   Close       147 non-null    float64       \n",
      " 5   Adj Close   147 non-null    float64       \n",
      " 6   Volume      147 non-null    float64       \n",
      " 7   variacao    147 non-null    float64       \n",
      " 8   var_dia     147 non-null    object        \n",
      " 9   day_name    148 non-null    object        \n",
      " 10  month_name  148 non-null    object        \n",
      " 11  dia         148 non-null    int64         \n",
      " 12  mes         148 non-null    int64         \n",
      " 13  ano         148 non-null    int64         \n",
      "dtypes: datetime64[ns](1), float64(7), int64(3), object(3)\n",
      "memory usage: 16.3+ KB\n"
     ]
    }
   ],
   "source": [
    "ibov.info()"
   ]
  },
  {
   "cell_type": "code",
   "execution_count": 30,
   "id": "8b7869b7",
   "metadata": {},
   "outputs": [
    {
     "data": {
      "text/html": [
       "<div>\n",
       "<style scoped>\n",
       "    .dataframe tbody tr th:only-of-type {\n",
       "        vertical-align: middle;\n",
       "    }\n",
       "\n",
       "    .dataframe tbody tr th {\n",
       "        vertical-align: top;\n",
       "    }\n",
       "\n",
       "    .dataframe thead th {\n",
       "        text-align: right;\n",
       "    }\n",
       "</style>\n",
       "<table border=\"1\" class=\"dataframe\">\n",
       "  <thead>\n",
       "    <tr style=\"text-align: right;\">\n",
       "      <th></th>\n",
       "      <th>Date</th>\n",
       "      <th>Open</th>\n",
       "      <th>High</th>\n",
       "      <th>Low</th>\n",
       "      <th>Close</th>\n",
       "      <th>Adj Close</th>\n",
       "      <th>Volume</th>\n",
       "      <th>variacao</th>\n",
       "      <th>var_dia</th>\n",
       "      <th>day_name</th>\n",
       "      <th>month_name</th>\n",
       "      <th>dia</th>\n",
       "      <th>mes</th>\n",
       "      <th>ano</th>\n",
       "    </tr>\n",
       "  </thead>\n",
       "  <tbody>\n",
       "    <tr>\n",
       "      <th>0</th>\n",
       "      <td>2021-01-04</td>\n",
       "      <td>119024.0</td>\n",
       "      <td>120354.0</td>\n",
       "      <td>118062.0</td>\n",
       "      <td>118558.0</td>\n",
       "      <td>118558.0</td>\n",
       "      <td>8741400.0</td>\n",
       "      <td>-466.0</td>\n",
       "      <td>negativa</td>\n",
       "      <td>Monday</td>\n",
       "      <td>January</td>\n",
       "      <td>4</td>\n",
       "      <td>1</td>\n",
       "      <td>2021</td>\n",
       "    </tr>\n",
       "    <tr>\n",
       "      <th>1</th>\n",
       "      <td>2021-01-05</td>\n",
       "      <td>118835.0</td>\n",
       "      <td>119790.0</td>\n",
       "      <td>116756.0</td>\n",
       "      <td>119223.0</td>\n",
       "      <td>119223.0</td>\n",
       "      <td>9257100.0</td>\n",
       "      <td>388.0</td>\n",
       "      <td>positiva</td>\n",
       "      <td>Tuesday</td>\n",
       "      <td>January</td>\n",
       "      <td>5</td>\n",
       "      <td>1</td>\n",
       "      <td>2021</td>\n",
       "    </tr>\n",
       "    <tr>\n",
       "      <th>2</th>\n",
       "      <td>2021-01-06</td>\n",
       "      <td>119377.0</td>\n",
       "      <td>120924.0</td>\n",
       "      <td>118917.0</td>\n",
       "      <td>119851.0</td>\n",
       "      <td>119851.0</td>\n",
       "      <td>11638200.0</td>\n",
       "      <td>474.0</td>\n",
       "      <td>positiva</td>\n",
       "      <td>Wednesday</td>\n",
       "      <td>January</td>\n",
       "      <td>6</td>\n",
       "      <td>1</td>\n",
       "      <td>2021</td>\n",
       "    </tr>\n",
       "    <tr>\n",
       "      <th>3</th>\n",
       "      <td>2021-01-07</td>\n",
       "      <td>119103.0</td>\n",
       "      <td>121983.0</td>\n",
       "      <td>119101.0</td>\n",
       "      <td>121956.0</td>\n",
       "      <td>121956.0</td>\n",
       "      <td>11774800.0</td>\n",
       "      <td>2853.0</td>\n",
       "      <td>positiva</td>\n",
       "      <td>Thursday</td>\n",
       "      <td>January</td>\n",
       "      <td>7</td>\n",
       "      <td>1</td>\n",
       "      <td>2021</td>\n",
       "    </tr>\n",
       "    <tr>\n",
       "      <th>4</th>\n",
       "      <td>2021-01-08</td>\n",
       "      <td>122387.0</td>\n",
       "      <td>125324.0</td>\n",
       "      <td>122386.0</td>\n",
       "      <td>125077.0</td>\n",
       "      <td>125077.0</td>\n",
       "      <td>11085800.0</td>\n",
       "      <td>2690.0</td>\n",
       "      <td>positiva</td>\n",
       "      <td>Friday</td>\n",
       "      <td>January</td>\n",
       "      <td>8</td>\n",
       "      <td>1</td>\n",
       "      <td>2021</td>\n",
       "    </tr>\n",
       "    <tr>\n",
       "      <th>...</th>\n",
       "      <td>...</td>\n",
       "      <td>...</td>\n",
       "      <td>...</td>\n",
       "      <td>...</td>\n",
       "      <td>...</td>\n",
       "      <td>...</td>\n",
       "      <td>...</td>\n",
       "      <td>...</td>\n",
       "      <td>...</td>\n",
       "      <td>...</td>\n",
       "      <td>...</td>\n",
       "      <td>...</td>\n",
       "      <td>...</td>\n",
       "      <td>...</td>\n",
       "    </tr>\n",
       "    <tr>\n",
       "      <th>143</th>\n",
       "      <td>2021-08-02</td>\n",
       "      <td>121803.0</td>\n",
       "      <td>124536.0</td>\n",
       "      <td>121797.0</td>\n",
       "      <td>122516.0</td>\n",
       "      <td>122516.0</td>\n",
       "      <td>8565400.0</td>\n",
       "      <td>713.0</td>\n",
       "      <td>positiva</td>\n",
       "      <td>Monday</td>\n",
       "      <td>August</td>\n",
       "      <td>2</td>\n",
       "      <td>8</td>\n",
       "      <td>2021</td>\n",
       "    </tr>\n",
       "    <tr>\n",
       "      <th>144</th>\n",
       "      <td>2021-08-03</td>\n",
       "      <td>122516.0</td>\n",
       "      <td>123765.0</td>\n",
       "      <td>120807.0</td>\n",
       "      <td>123577.0</td>\n",
       "      <td>123577.0</td>\n",
       "      <td>9391300.0</td>\n",
       "      <td>1061.0</td>\n",
       "      <td>positiva</td>\n",
       "      <td>Tuesday</td>\n",
       "      <td>August</td>\n",
       "      <td>3</td>\n",
       "      <td>8</td>\n",
       "      <td>2021</td>\n",
       "    </tr>\n",
       "    <tr>\n",
       "      <th>145</th>\n",
       "      <td>2021-08-04</td>\n",
       "      <td>123577.0</td>\n",
       "      <td>123587.0</td>\n",
       "      <td>121072.0</td>\n",
       "      <td>121801.0</td>\n",
       "      <td>121801.0</td>\n",
       "      <td>9164200.0</td>\n",
       "      <td>-1776.0</td>\n",
       "      <td>negativa</td>\n",
       "      <td>Wednesday</td>\n",
       "      <td>August</td>\n",
       "      <td>4</td>\n",
       "      <td>8</td>\n",
       "      <td>2021</td>\n",
       "    </tr>\n",
       "    <tr>\n",
       "      <th>146</th>\n",
       "      <td>2021-08-05</td>\n",
       "      <td>121801.0</td>\n",
       "      <td>123541.0</td>\n",
       "      <td>121128.0</td>\n",
       "      <td>121633.0</td>\n",
       "      <td>121633.0</td>\n",
       "      <td>10913000.0</td>\n",
       "      <td>-168.0</td>\n",
       "      <td>negativa</td>\n",
       "      <td>Thursday</td>\n",
       "      <td>August</td>\n",
       "      <td>5</td>\n",
       "      <td>8</td>\n",
       "      <td>2021</td>\n",
       "    </tr>\n",
       "    <tr>\n",
       "      <th>147</th>\n",
       "      <td>2021-08-06</td>\n",
       "      <td>121633.0</td>\n",
       "      <td>123287.0</td>\n",
       "      <td>121568.0</td>\n",
       "      <td>122810.0</td>\n",
       "      <td>122810.0</td>\n",
       "      <td>7499200.0</td>\n",
       "      <td>1177.0</td>\n",
       "      <td>positiva</td>\n",
       "      <td>Friday</td>\n",
       "      <td>August</td>\n",
       "      <td>6</td>\n",
       "      <td>8</td>\n",
       "      <td>2021</td>\n",
       "    </tr>\n",
       "  </tbody>\n",
       "</table>\n",
       "<p>148 rows × 14 columns</p>\n",
       "</div>"
      ],
      "text/plain": [
       "          Date      Open      High       Low     Close  Adj Close      Volume  \\\n",
       "0   2021-01-04  119024.0  120354.0  118062.0  118558.0   118558.0   8741400.0   \n",
       "1   2021-01-05  118835.0  119790.0  116756.0  119223.0   119223.0   9257100.0   \n",
       "2   2021-01-06  119377.0  120924.0  118917.0  119851.0   119851.0  11638200.0   \n",
       "3   2021-01-07  119103.0  121983.0  119101.0  121956.0   121956.0  11774800.0   \n",
       "4   2021-01-08  122387.0  125324.0  122386.0  125077.0   125077.0  11085800.0   \n",
       "..         ...       ...       ...       ...       ...        ...         ...   \n",
       "143 2021-08-02  121803.0  124536.0  121797.0  122516.0   122516.0   8565400.0   \n",
       "144 2021-08-03  122516.0  123765.0  120807.0  123577.0   123577.0   9391300.0   \n",
       "145 2021-08-04  123577.0  123587.0  121072.0  121801.0   121801.0   9164200.0   \n",
       "146 2021-08-05  121801.0  123541.0  121128.0  121633.0   121633.0  10913000.0   \n",
       "147 2021-08-06  121633.0  123287.0  121568.0  122810.0   122810.0   7499200.0   \n",
       "\n",
       "     variacao   var_dia   day_name month_name  dia  mes   ano  \n",
       "0      -466.0  negativa     Monday    January    4    1  2021  \n",
       "1       388.0  positiva    Tuesday    January    5    1  2021  \n",
       "2       474.0  positiva  Wednesday    January    6    1  2021  \n",
       "3      2853.0  positiva   Thursday    January    7    1  2021  \n",
       "4      2690.0  positiva     Friday    January    8    1  2021  \n",
       "..        ...       ...        ...        ...  ...  ...   ...  \n",
       "143     713.0  positiva     Monday     August    2    8  2021  \n",
       "144    1061.0  positiva    Tuesday     August    3    8  2021  \n",
       "145   -1776.0  negativa  Wednesday     August    4    8  2021  \n",
       "146    -168.0  negativa   Thursday     August    5    8  2021  \n",
       "147    1177.0  positiva     Friday     August    6    8  2021  \n",
       "\n",
       "[148 rows x 14 columns]"
      ]
     },
     "execution_count": 30,
     "metadata": {},
     "output_type": "execute_result"
    }
   ],
   "source": [
    "ibov"
   ]
  },
  {
   "cell_type": "code",
   "execution_count": 32,
   "id": "66b6e8b6",
   "metadata": {},
   "outputs": [],
   "source": [
    "ibov.to_csv('BVSP2.csv', index=False)"
   ]
  },
  {
   "cell_type": "code",
   "execution_count": 33,
   "id": "e0dad5cc",
   "metadata": {},
   "outputs": [
    {
     "data": {
      "text/html": [
       "<div>\n",
       "<style scoped>\n",
       "    .dataframe tbody tr th:only-of-type {\n",
       "        vertical-align: middle;\n",
       "    }\n",
       "\n",
       "    .dataframe tbody tr th {\n",
       "        vertical-align: top;\n",
       "    }\n",
       "\n",
       "    .dataframe thead th {\n",
       "        text-align: right;\n",
       "    }\n",
       "</style>\n",
       "<table border=\"1\" class=\"dataframe\">\n",
       "  <thead>\n",
       "    <tr style=\"text-align: right;\">\n",
       "      <th></th>\n",
       "      <th>Open</th>\n",
       "      <th>High</th>\n",
       "      <th>Low</th>\n",
       "      <th>Close</th>\n",
       "      <th>Adj Close</th>\n",
       "      <th>Volume</th>\n",
       "      <th>variacao</th>\n",
       "      <th>dia</th>\n",
       "      <th>mes</th>\n",
       "      <th>ano</th>\n",
       "    </tr>\n",
       "  </thead>\n",
       "  <tbody>\n",
       "    <tr>\n",
       "      <th>count</th>\n",
       "      <td>147.000000</td>\n",
       "      <td>147.000000</td>\n",
       "      <td>147.000000</td>\n",
       "      <td>147.000000</td>\n",
       "      <td>147.000000</td>\n",
       "      <td>1.470000e+02</td>\n",
       "      <td>147.000000</td>\n",
       "      <td>148.000000</td>\n",
       "      <td>148.000000</td>\n",
       "      <td>148.0</td>\n",
       "    </tr>\n",
       "    <tr>\n",
       "      <th>mean</th>\n",
       "      <td>121167.809524</td>\n",
       "      <td>122191.557823</td>\n",
       "      <td>120114.013605</td>\n",
       "      <td>121189.006803</td>\n",
       "      <td>121189.006803</td>\n",
       "      <td>8.911701e+06</td>\n",
       "      <td>21.197279</td>\n",
       "      <td>15.358108</td>\n",
       "      <td>4.202703</td>\n",
       "      <td>2021.0</td>\n",
       "    </tr>\n",
       "    <tr>\n",
       "      <th>std</th>\n",
       "      <td>5217.723071</td>\n",
       "      <td>4953.621399</td>\n",
       "      <td>5381.975013</td>\n",
       "      <td>5209.982386</td>\n",
       "      <td>5209.982386</td>\n",
       "      <td>2.836334e+06</td>\n",
       "      <td>1483.589513</td>\n",
       "      <td>8.847929</td>\n",
       "      <td>2.076626</td>\n",
       "      <td>0.0</td>\n",
       "    </tr>\n",
       "    <tr>\n",
       "      <th>min</th>\n",
       "      <td>110036.000000</td>\n",
       "      <td>112398.000000</td>\n",
       "      <td>107319.000000</td>\n",
       "      <td>110035.000000</td>\n",
       "      <td>110035.000000</td>\n",
       "      <td>0.000000e+00</td>\n",
       "      <td>-5720.000000</td>\n",
       "      <td>1.000000</td>\n",
       "      <td>1.000000</td>\n",
       "      <td>2021.0</td>\n",
       "    </tr>\n",
       "    <tr>\n",
       "      <th>25%</th>\n",
       "      <td>117642.500000</td>\n",
       "      <td>118831.000000</td>\n",
       "      <td>116752.000000</td>\n",
       "      <td>117647.000000</td>\n",
       "      <td>117647.000000</td>\n",
       "      <td>7.763050e+06</td>\n",
       "      <td>-927.000000</td>\n",
       "      <td>7.750000</td>\n",
       "      <td>2.750000</td>\n",
       "      <td>2021.0</td>\n",
       "    </tr>\n",
       "    <tr>\n",
       "      <th>50%</th>\n",
       "      <td>120645.000000</td>\n",
       "      <td>121498.000000</td>\n",
       "      <td>119841.000000</td>\n",
       "      <td>120701.000000</td>\n",
       "      <td>120701.000000</td>\n",
       "      <td>8.741400e+06</td>\n",
       "      <td>165.000000</td>\n",
       "      <td>15.000000</td>\n",
       "      <td>4.000000</td>\n",
       "      <td>2021.0</td>\n",
       "    </tr>\n",
       "    <tr>\n",
       "      <th>75%</th>\n",
       "      <td>125494.500000</td>\n",
       "      <td>126209.000000</td>\n",
       "      <td>124482.000000</td>\n",
       "      <td>125494.500000</td>\n",
       "      <td>125494.500000</td>\n",
       "      <td>9.974100e+06</td>\n",
       "      <td>1018.500000</td>\n",
       "      <td>23.000000</td>\n",
       "      <td>6.000000</td>\n",
       "      <td>2021.0</td>\n",
       "    </tr>\n",
       "    <tr>\n",
       "      <th>max</th>\n",
       "      <td>130776.000000</td>\n",
       "      <td>131190.000000</td>\n",
       "      <td>129526.000000</td>\n",
       "      <td>130776.000000</td>\n",
       "      <td>130776.000000</td>\n",
       "      <td>2.176870e+07</td>\n",
       "      <td>3432.000000</td>\n",
       "      <td>31.000000</td>\n",
       "      <td>8.000000</td>\n",
       "      <td>2021.0</td>\n",
       "    </tr>\n",
       "  </tbody>\n",
       "</table>\n",
       "</div>"
      ],
      "text/plain": [
       "                Open           High            Low          Close  \\\n",
       "count     147.000000     147.000000     147.000000     147.000000   \n",
       "mean   121167.809524  122191.557823  120114.013605  121189.006803   \n",
       "std      5217.723071    4953.621399    5381.975013    5209.982386   \n",
       "min    110036.000000  112398.000000  107319.000000  110035.000000   \n",
       "25%    117642.500000  118831.000000  116752.000000  117647.000000   \n",
       "50%    120645.000000  121498.000000  119841.000000  120701.000000   \n",
       "75%    125494.500000  126209.000000  124482.000000  125494.500000   \n",
       "max    130776.000000  131190.000000  129526.000000  130776.000000   \n",
       "\n",
       "           Adj Close        Volume     variacao         dia         mes  \\\n",
       "count     147.000000  1.470000e+02   147.000000  148.000000  148.000000   \n",
       "mean   121189.006803  8.911701e+06    21.197279   15.358108    4.202703   \n",
       "std      5209.982386  2.836334e+06  1483.589513    8.847929    2.076626   \n",
       "min    110035.000000  0.000000e+00 -5720.000000    1.000000    1.000000   \n",
       "25%    117647.000000  7.763050e+06  -927.000000    7.750000    2.750000   \n",
       "50%    120701.000000  8.741400e+06   165.000000   15.000000    4.000000   \n",
       "75%    125494.500000  9.974100e+06  1018.500000   23.000000    6.000000   \n",
       "max    130776.000000  2.176870e+07  3432.000000   31.000000    8.000000   \n",
       "\n",
       "          ano  \n",
       "count   148.0  \n",
       "mean   2021.0  \n",
       "std       0.0  \n",
       "min    2021.0  \n",
       "25%    2021.0  \n",
       "50%    2021.0  \n",
       "75%    2021.0  \n",
       "max    2021.0  "
      ]
     },
     "execution_count": 33,
     "metadata": {},
     "output_type": "execute_result"
    }
   ],
   "source": [
    "ibov.describe()"
   ]
  },
  {
   "cell_type": "code",
   "execution_count": 35,
   "id": "83d2528f",
   "metadata": {},
   "outputs": [
    {
     "data": {
      "text/plain": [
       "<AxesSubplot:>"
      ]
     },
     "execution_count": 35,
     "metadata": {},
     "output_type": "execute_result"
    },
    {
     "data": {
      "image/png": "[encoded data removed]",
      "text/plain": [
       "<Figure size 432x288 with 1 Axes>"
      ]
     },
     "metadata": {
      "needs_background": "light"
     },
     "output_type": "display_data"
    }
   ],
   "source": [
    "ibov['Open'].plot()\n"
   ]
  },
  {
   "cell_type": "code",
   "execution_count": 36,
   "id": "fa1d9476",
   "metadata": {},
   "outputs": [
    {
     "data": {
      "text/plain": [
       "<AxesSubplot:xlabel='Date'>"
      ]
     },
     "execution_count": 36,
     "metadata": {},
     "output_type": "execute_result"
    },
    {
     "data": {
      "image/png": "[encoded data removed]",
      "text/plain": [
       "<Figure size 1152x432 with 1 Axes>"
      ]
     },
     "metadata": {
      "needs_background": "light"
     },
     "output_type": "display_data"
    }
   ],
   "source": [
    "ibov.set_index('Date')['Open'].plot(figsize=(16, 6), grid=True)"
   ]
  },
  {
   "cell_type": "code",
   "execution_count": 37,
   "id": "f9dd4704",
   "metadata": {},
   "outputs": [],
   "source": [
    "import matplotlib.pyplot as plt"
   ]
  },
  {
   "cell_type": "code",
   "execution_count": 38,
   "id": "f9540872",
   "metadata": {},
   "outputs": [],
   "source": [
    "%matplotlib inline"
   ]
  },
  {
   "cell_type": "code",
   "execution_count": 39,
   "id": "4d957ffb",
   "metadata": {},
   "outputs": [
    {
     "name": "stdout",
     "output_type": "stream",
     "text": [
      "<class 'matplotlib.figure.Figure'>\n",
      "<class 'matplotlib.axes._subplots.AxesSubplot'>\n"
     ]
    },
    {
     "data": {
      "image/png": "[encoded data removed]",
      "text/plain": [
       "<Figure size 432x288 with 1 Axes>"
      ]
     },
     "metadata": {
      "needs_background": "light"
     },
     "output_type": "display_data"
    }
   ],
   "source": [
    "fig, ax = plt.subplots()    # criar um gráfico. Tudo relacionado a figura é o fig, tudo relacionado ao eixo é o ax\n",
    "print(type(fig))\n",
    "print(type(ax))"
   ]
  },
  {
   "cell_type": "code",
   "execution_count": 42,
   "id": "51e91a33",
   "metadata": {},
   "outputs": [
    {
     "data": {
      "image/png": "[encoded data removed]",
      "text/plain": [
       "<Figure size 432x288 with 1 Axes>"
      ]
     },
     "metadata": {
      "needs_background": "light"
     },
     "output_type": "display_data"
    }
   ],
   "source": [
    "fig, ax = plt.subplots()\n",
    "\n",
    "x = np.random.randint(1, 10, size=10)\n",
    "y = 2 * x\n",
    "\n",
    "plt.plot(x, y)\n",
    "\n",
    "plt.show()"
   ]
  },
  {
   "cell_type": "code",
   "execution_count": 45,
   "id": "7c124268",
   "metadata": {},
   "outputs": [
    {
     "data": {
      "image/png": "[encoded data removed]",
      "text/plain": [
       "<Figure size 432x288 with 1 Axes>"
      ]
     },
     "metadata": {
      "needs_background": "light"
     },
     "output_type": "display_data"
    }
   ],
   "source": [
    "fig, ax = plt.subplots()\n",
    "\n",
    "x = np.linspace(1, 10, 1000)\n",
    "y = 2 * x\n",
    "\n",
    "plt.plot(x, np.cos(x))  # gráfico padrão\n",
    "plt.plot(x, np.sin(x), linestyle='--', color='r')\n",
    "plt.plot(x, y, linestyle='-', color='blue')\n",
    "plt.plot(x, x+3, linestyle=':', color='g')\n",
    "plt.plot(x, np.log(x), color='0.75', linestyle='-.')\n",
    "plt.plot(x, x, color='#FFDD44', linestyle='dashed')\n",
    "\n",
    "plt.show()"
   ]
  },
  {
   "cell_type": "code",
   "execution_count": 46,
   "id": "6ec00b79",
   "metadata": {},
   "outputs": [
    {
     "data": {
      "image/png": "[encoded data removed]",
      "text/plain": [
       "<Figure size 432x288 with 1 Axes>"
      ]
     },
     "metadata": {
      "needs_background": "light"
     },
     "output_type": "display_data"
    }
   ],
   "source": [
    "fig, ax = plt.subplots()\n",
    "\n",
    "x = np.linspace(1, 10, 1000)\n",
    "y = 2 * x\n",
    "\n",
    "plt.plot(x, np.cos(x))  # gráfico padrão\n",
    "plt.plot(x, np.sin(x), linestyle='--', color='r')\n",
    "plt.plot(x, y, linestyle='-', color='blue')\n",
    "plt.plot(x, x+3, linestyle=':', color='g')\n",
    "plt.plot(x, np.log(x), color='0.75', linestyle='-.')\n",
    "plt.plot(x, x, color='#FFDD44', linestyle='dashed')\n",
    "\n",
    "# ajuste do limite do gráfico\n",
    "plt.xlim(0, 11) \n",
    "plt.ylim(-1.5, 10)\n",
    "\n",
    "plt.show()\n"
   ]
  },
  {
   "cell_type": "code",
   "execution_count": 49,
   "id": "2b60c2bf",
   "metadata": {},
   "outputs": [
    {
     "data": {
      "image/png": "[encoded data removed]",
      "text/plain": [
       "<Figure size 1152x432 with 1 Axes>"
      ]
     },
     "metadata": {},
     "output_type": "display_data"
    }
   ],
   "source": [
    "# plt.figure(figsize=(16,6)) # colocar antes de desenhar ---> altera o tamanho do gráfico\n",
    "\n",
    "fig, ax = plt.subplots(facecolor='lightgray', figsize=(16,6))\n",
    "\n",
    "plt.plot(x, np.sin(x), label='y=seno(x)', marker='o')\n",
    "plt.plot(x, np.cos(x), label='y=cos(x)', color='yellow')\n",
    "\n",
    "plt.title('Função seno e cosseno', color='red') # adiciona o título\n",
    "\n",
    "plt.xlabel('eixo x \"x-axis\"') # adicionando o nome dos eixos\n",
    "plt.ylabel('eixo y \"y-axis\"')\n",
    "\n",
    "plt.legend(loc='upper left') # descrever o elemento do gráfico (legenda)\n",
    "\n",
    "plt.grid() # adicionando grade\n",
    "\n",
    "plt.axhline(-0.15, color= 'purple') # adicionando uma linha horizontal\n",
    "\n",
    "plt.xticks(rotation = 45) # rotacionando as marcações do eixo x\n",
    "\n",
    "ax.text(2,-0.75,'Texto')\n",
    "\n",
    "plt.show()"
   ]
  },
  {
   "cell_type": "code",
   "execution_count": 50,
   "id": "2334db04",
   "metadata": {},
   "outputs": [
    {
     "data": {
      "image/png": "[encoded data removed]",
      "text/plain": [
       "<Figure size 432x288 with 1 Axes>"
      ]
     },
     "metadata": {
      "needs_background": "light"
     },
     "output_type": "display_data"
    }
   ],
   "source": [
    "values = np.cumsum(np.random.randn(1000,1)) # série\n",
    "\n",
    "plt.plot(values)\n",
    "plt.show()"
   ]
  },
  {
   "cell_type": "code",
   "execution_count": 54,
   "id": "1aaf1271",
   "metadata": {},
   "outputs": [
    {
     "data": {
      "text/plain": [
       "<BarContainer object of 5 artists>"
      ]
     },
     "execution_count": 54,
     "metadata": {},
     "output_type": "execute_result"
    },
    {
     "data": {
      "image/png": "[encoded data removed]",
      "text/plain": [
       "<Figure size 432x288 with 1 Axes>"
      ]
     },
     "metadata": {
      "needs_background": "light"
     },
     "output_type": "display_data"
    }
   ],
   "source": [
    "height = [3, 12, 5, 18, 45]   #height = altura\n",
    "bars = ('A', 'B', 'C', 'D', 'E')  #bars = nome da barra\n",
    "y_pos = np.arange(len(bars)) # array de índice\n",
    "plt.bar(y_pos, height) # criar o gráfico de barras na "
   ]
  },
  {
   "cell_type": "code",
   "execution_count": 55,
   "id": "9b8e5a09",
   "metadata": {},
   "outputs": [
    {
     "data": {
      "image/png": "[encoded data removed]",
      "text/plain": [
       "<Figure size 432x288 with 1 Axes>"
      ]
     },
     "metadata": {
      "needs_background": "light"
     },
     "output_type": "display_data"
    }
   ],
   "source": [
    "height = [3, 12, 5, 18, 45]   #height = altura\n",
    "bars = ('A', 'B', 'C', 'D', 'E')  #bars = nome da barra\n",
    "y_pos = np.arange(len(bars)) # array de índice\n",
    "\n",
    "plt.bar(y_pos, height) # criar o gráfico de barras na \n",
    "\n",
    "# trocar valores dos marcadores do eixo x pelos rótulos A, B,C, D, E\n",
    "plt.xticks(y_pos, bars)\n",
    "\n",
    "plt.show()"
   ]
  },
  {
   "cell_type": "code",
   "execution_count": 56,
   "id": "dc8a22cd",
   "metadata": {},
   "outputs": [
    {
     "data": {
      "image/png": "[encoded data removed]",
      "text/plain": [
       "<Figure size 432x288 with 1 Axes>"
      ]
     },
     "metadata": {
      "needs_background": "light"
     },
     "output_type": "display_data"
    }
   ],
   "source": [
    "height = [3, 12, 5, 18, 45]\n",
    "bars = ('A', 'B', 'C', 'D', 'E')\n",
    "y_pos = np.arange(len(bars))  # arrya de índice\n",
    "\n",
    "plt.barh(y_pos, height)  # criar o gráfico de barras na vertical\n",
    "\n",
    "# trocar valores dos marcadores do eixo y pelos rótulos A, B,C, D, E\n",
    "plt.yticks(y_pos, bars, color='red')\n",
    "plt.xticks(color='red', rotation=45)\n",
    "\n",
    "plt.show()"
   ]
  },
  {
   "cell_type": "code",
   "execution_count": 59,
   "id": "6680f833",
   "metadata": {},
   "outputs": [
    {
     "data": {
      "text/plain": [
       "<BarContainer object of 5 artists>"
      ]
     },
     "execution_count": 59,
     "metadata": {},
     "output_type": "execute_result"
    },
    {
     "data": {
      "image/png": "[encoded data removed]",
      "text/plain": [
       "<Figure size 432x288 with 1 Axes>"
      ]
     },
     "metadata": {
      "needs_background": "light"
     },
     "output_type": "display_data"
    }
   ],
   "source": [
    "labels = ['G1', 'G2', 'G3', 'G4', 'G5']\n",
    "men_means = [20, 35, 30, 35, 27]\n",
    "women_means = [25, 32, 34, 20, 25]\n",
    "men_std = [2, 3, 4, 1, 2]\n",
    "women_std = [3, 5, 2, 3, 3]\n",
    "width = 0.35  #width = largura   \n",
    "\n",
    "fig, ax = plt.subplots()\n",
    "\n",
    "ax.bar(labels, men_means, width, yerr=men_std, label='Homens')  # yerr barra de erros\n",
    "ax.bar(labels, women_means, width, yerr=women_std, label='Mulheres', bottom=men_means)\n"
   ]
  },
  {
   "cell_type": "code",
   "execution_count": 63,
   "id": "88897b54",
   "metadata": {},
   "outputs": [
    {
     "data": {
      "image/png": "[encoded data removed]",
      "text/plain": [
       "<Figure size 432x288 with 1 Axes>"
      ]
     },
     "metadata": {
      "needs_background": "light"
     },
     "output_type": "display_data"
    }
   ],
   "source": [
    "labels = ['G1', 'G2', 'G3', 'G4', 'G5']\n",
    "men_means = [20, 35, 30, 35, 27]\n",
    "women_means = [25, 32, 34, 20, 25]\n",
    "men_std = [2, 3, 4, 1, 2]\n",
    "women_std = [3, 5, 2, 3, 3]\n",
    "width = 0.35  #width = largura   \n",
    "\n",
    "fig, ax = plt.subplots()\n",
    "\n",
    "ax.bar(labels, men_means, width, yerr=men_std, label='Homens')\n",
    "ax.bar(labels, women_means, width, yerr=women_std, label='Mulheres', bottom=men_means)\n",
    "\n",
    "plt.grid()"
   ]
  },
  {
   "cell_type": "code",
   "execution_count": 66,
   "id": "5cd0b886",
   "metadata": {},
   "outputs": [
    {
     "data": {
      "text/plain": [
       "Text(0, 0.5, 'Pontuação')"
      ]
     },
     "execution_count": 66,
     "metadata": {},
     "output_type": "execute_result"
    },
    {
     "data": {
      "image/png": "[encoded data removed]",
      "text/plain": [
       "<Figure size 432x288 with 1 Axes>"
      ]
     },
     "metadata": {
      "needs_background": "light"
     },
     "output_type": "display_data"
    }
   ],
   "source": [
    "labels = ['G1', 'G2', 'G3', 'G4', 'G5']\n",
    "men_means = [20, 35, 30, 35, 27]\n",
    "women_means = [25, 32, 34, 20, 25]\n",
    "men_std = [2, 3, 4, 1, 2]\n",
    "women_std = [3, 5, 2, 3, 3]\n",
    "width = 0.35  #width = largura   \n",
    "\n",
    "fig, ax = plt.subplots()\n",
    "\n",
    "ax.bar(labels, men_means, width, yerr=men_std, label='Homens')\n",
    "ax.bar(labels, women_means, width, yerr=women_std, label='Mulheres', bottom=men_means)  \n",
    "# plt.grid()\n",
    "\n",
    "ax.set_title('Pontuação') #título\n",
    "ax.legend()\n",
    "ax.set_ylabel('Pontuação')\n"
   ]
  },
  {
   "cell_type": "code",
   "execution_count": 67,
   "id": "0697998e",
   "metadata": {},
   "outputs": [
    {
     "data": {
      "text/plain": [
       "([<matplotlib.patches.Wedge at 0x157b2b5c280>,\n",
       "  <matplotlib.patches.Wedge at 0x157b2b5c760>,\n",
       "  <matplotlib.patches.Wedge at 0x157b2b5cbe0>,\n",
       "  <matplotlib.patches.Wedge at 0x157b2b6b070>],\n",
       " [Text(0.8600146261281999, 0.6858387877960626, ''),\n",
       "  Text(-0.42095177560159874, 1.0162674857624154, ''),\n",
       "  Text(-1.0162674808358718, 0.42095178749532736, ''),\n",
       "  Text(-0.12316099315989873, -1.0930834230578503, '')])"
      ]
     },
     "execution_count": 67,
     "metadata": {},
     "output_type": "execute_result"
    },
    {
     "data": {
      "image/png": "[encoded data removed]",
      "text/plain": [
       "<Figure size 432x288 with 1 Axes>"
      ]
     },
     "metadata": {},
     "output_type": "display_data"
    }
   ],
   "source": [
    "names = ['Grupo 1', 'Grupo 2', 'Grupo 3', 'Grupo 4']\n",
    "values = [12, 11, 3, 30]\n",
    "explode= (0, 0.1, 0, 0) # fatia\n",
    "\n",
    "plt.pie(values)\n"
   ]
  },
  {
   "cell_type": "code",
   "execution_count": 71,
   "id": "567a31b9",
   "metadata": {},
   "outputs": [
    {
     "data": {
      "image/png": "[encoded data removed]",
      "text/plain": [
       "<Figure size 432x288 with 1 Axes>"
      ]
     },
     "metadata": {},
     "output_type": "display_data"
    }
   ],
   "source": [
    "names = ['Grupo 1', 'Grupo 2', 'Grupo 3', 'Grupo 4']\n",
    "values = [12, 11, 3, 30]\n",
    "\n",
    "\n",
    "plt.pie(values, labels=names)\n",
    "\n",
    "plt.show()"
   ]
  },
  {
   "cell_type": "code",
   "execution_count": 74,
   "id": "b5751f0f",
   "metadata": {},
   "outputs": [
    {
     "data": {
      "text/plain": [
       "([<matplotlib.patches.Wedge at 0x157b3e7d040>,\n",
       "  <matplotlib.patches.Wedge at 0x157b3e7d4c0>,\n",
       "  <matplotlib.patches.Wedge at 0x157b3e7d8e0>,\n",
       "  <matplotlib.patches.Wedge at 0x157b3e7dd00>],\n",
       " [Text(0.8600146261281999, 0.6858387877960626, 'Grupo 1'),\n",
       "  Text(-0.4974884620746167, 1.2010433922646728, 'Grupo 2'),\n",
       "  Text(-1.0162674808358718, 0.42095178749532736, 'Grupo 3'),\n",
       "  Text(-0.12316099315989873, -1.0930834230578503, 'Grupo 4')])"
      ]
     },
     "execution_count": 74,
     "metadata": {},
     "output_type": "execute_result"
    },
    {
     "data": {
      "image/png": "[encoded data removed]",
      "text/plain": [
       "<Figure size 432x288 with 1 Axes>"
      ]
     },
     "metadata": {},
     "output_type": "display_data"
    }
   ],
   "source": [
    "names = ['Grupo 1', 'Grupo 2', 'Grupo 3', 'Grupo 4']\n",
    "values = [12, 11, 3, 30]\n",
    "explode= (0, 0.2, 0, 0) # fatia\n",
    "\n",
    "plt.pie(values, labels=names, explode=explode)\n"
   ]
  },
  {
   "cell_type": "code",
   "execution_count": 75,
   "id": "cb10dcaf",
   "metadata": {},
   "outputs": [
    {
     "data": {
      "image/png": "[encoded data removed]",
      "text/plain": [
       "<Figure size 432x288 with 1 Axes>"
      ]
     },
     "metadata": {},
     "output_type": "display_data"
    }
   ],
   "source": [
    "ames = ['Grupo 1', 'Grupo 2', 'Grupo 3', 'Grupo 4']\n",
    "values = [12, 11, 3, 30]\n",
    "explode= (0, 0.1, 0, 0) # fatia\n",
    "\n",
    "plt.pie(values, labels=names, explode=explode, shadow=True, startangle=90)\n",
    "\n",
    "\n",
    "plt.show()"
   ]
  },
  {
   "cell_type": "code",
   "execution_count": 76,
   "id": "fc09331c",
   "metadata": {},
   "outputs": [
    {
     "data": {
      "image/png": "[encoded data removed]",
      "text/plain": [
       "<Figure size 432x288 with 1 Axes>"
      ]
     },
     "metadata": {},
     "output_type": "display_data"
    }
   ],
   "source": [
    "ames = ['Grupo 1', 'Grupo 2', 'Grupo 3', 'Grupo 4']\n",
    "values = [12, 11, 3, 30]\n",
    "explode= (0, 0.1, 0, 0) # fatia\n",
    "\n",
    "plt.pie(values, labels=names, explode=explode, shadow=True, startangle=180)\n",
    "\n",
    "\n",
    "plt.show()"
   ]
  },
  {
   "cell_type": "code",
   "execution_count": 78,
   "id": "ee0033d6",
   "metadata": {},
   "outputs": [
    {
     "data": {
      "image/png": "[encoded data removed]",
      "text/plain": [
       "<Figure size 432x288 with 1 Axes>"
      ]
     },
     "metadata": {},
     "output_type": "display_data"
    }
   ],
   "source": [
    "names = ['Grupo 1', 'Grupo 2', 'Grupo 3', 'Grupo 4']\n",
    "values = [12, 11, 3, 30]\n",
    "explode= (0, 0.1, 0, 0) # fatia\n",
    "\n",
    "plt.pie(values, labels=names, explode=explode, shadow=True, startangle=30)\n",
    "\n",
    "\n",
    "plt.show()"
   ]
  },
  {
   "cell_type": "code",
   "execution_count": 79,
   "id": "0f99d4a0",
   "metadata": {},
   "outputs": [
    {
     "data": {
      "image/png": "[encoded data removed]",
      "text/plain": [
       "<Figure size 432x288 with 1 Axes>"
      ]
     },
     "metadata": {},
     "output_type": "display_data"
    }
   ],
   "source": [
    "names = ['Grupo 1', 'Grupo 2', 'Grupo 3', 'Grupo 4']\n",
    "values = [12, 11, 3, 30]\n",
    "explode= (0, 0.1, 0, 0) # fatia\n",
    "\n",
    "plt.pie(values, labels=names, explode=explode, shadow=True, startangle=30, autopct='%1.1f%%')\n",
    "\n",
    "\n",
    "plt.show()"
   ]
  },
  {
   "cell_type": "code",
   "execution_count": 80,
   "id": "bfa8ab8f",
   "metadata": {},
   "outputs": [
    {
     "data": {
      "image/png": "[encoded data removed]",
      "text/plain": [
       "<Figure size 432x288 with 1 Axes>"
      ]
     },
     "metadata": {},
     "output_type": "display_data"
    }
   ],
   "source": [
    "names = ['Grupo 1', 'Grupo 2', 'Grupo 3', 'Grupo 4']\n",
    "values = [12, 11, 3, 30]\n",
    "explode= (0, 0.1, 0, 0) # fatia\n",
    "\n",
    "plt.pie(values, labels=names, explode=explode, shadow=True, startangle=30, autopct='%1.1f%%')  # autopct coloca as porcentagens\n",
    "\n",
    "plt.axis('equal')  #para deixar  proporcional\n",
    "\n",
    "plt.show()"
   ]
  },
  {
   "cell_type": "code",
   "execution_count": 81,
   "id": "bb032ec7",
   "metadata": {},
   "outputs": [
    {
     "data": {
      "image/png": "[encoded data removed]",
      "text/plain": [
       "<Figure size 432x288 with 1 Axes>"
      ]
     },
     "metadata": {
      "needs_background": "light"
     },
     "output_type": "display_data"
    }
   ],
   "source": [
    "# criando os dados (distribuição)\n",
    "mu, sigma = 100, 15\n",
    "x = mu + sigma * np.random.randn(10000)\n",
    "\n",
    "# histograma\n",
    "n, bins, patches = plt.hist(x, 50, density=True, facecolor='g', alpha=0.75)\n",
    "\n",
    "plt.xlabel('Smarts')\n",
    "plt.ylabel('Probability')\n",
    "plt.title('Histogram of IQ')\n",
    "plt.text(60, .025, r'$\\mu=100,\\ \\sigma=15$') # adiciona o texto. caracter especial\n",
    "plt.xlim(40, 160) # ajusta limites dos eixos\n",
    "plt.ylim(0, 0.03)\n",
    "plt.grid(True)\n",
    "plt.show()"
   ]
  },
  {
   "cell_type": "code",
   "execution_count": 82,
   "id": "22aa0eb0",
   "metadata": {},
   "outputs": [
    {
     "data": {
      "image/png": "[encoded data removed]",
      "text/plain": [
       "<Figure size 432x288 with 1 Axes>"
      ]
     },
     "metadata": {
      "needs_background": "light"
     },
     "output_type": "display_data"
    }
   ],
   "source": [
    "## Criando os dados\n",
    "spread = np.random.rand(50) * 100\n",
    "center = np.ones(25) * 50\n",
    "flier_high = np.random.rand(10) * 100 + 100\n",
    "flier_low = np.random.rand(10) * -100\n",
    "data = np.concatenate((spread, center, flier_high, flier_low))\n",
    "\n",
    "# Boxplot\n",
    "fig1, ax1 = plt.subplots()\n",
    "ax1.set_title('Basic Plot')\n",
    "ax1.boxplot(data)\n",
    "\n",
    "plt.show()"
   ]
  },
  {
   "cell_type": "code",
   "execution_count": 83,
   "id": "ef1ce2b8",
   "metadata": {},
   "outputs": [
    {
     "data": {
      "image/png": "[encoded data removed]",
      "text/plain": [
       "<Figure size 432x288 with 1 Axes>"
      ]
     },
     "metadata": {
      "needs_background": "light"
     },
     "output_type": "display_data"
    }
   ],
   "source": [
    "# criando dados\n",
    "x = range(1, 6)\n",
    "y = [1, 4, 6, 8, 4]\n",
    "\n",
    "plt.fill_between(x, y) # preenchendo a área\n",
    "plt.show()"
   ]
  },
  {
   "cell_type": "code",
   "execution_count": 84,
   "id": "87b41828",
   "metadata": {},
   "outputs": [
    {
     "data": {
      "text/html": [
       "<div>\n",
       "<style scoped>\n",
       "    .dataframe tbody tr th:only-of-type {\n",
       "        vertical-align: middle;\n",
       "    }\n",
       "\n",
       "    .dataframe tbody tr th {\n",
       "        vertical-align: top;\n",
       "    }\n",
       "\n",
       "    .dataframe thead th {\n",
       "        text-align: right;\n",
       "    }\n",
       "</style>\n",
       "<table border=\"1\" class=\"dataframe\">\n",
       "  <thead>\n",
       "    <tr style=\"text-align: right;\">\n",
       "      <th></th>\n",
       "      <th>Date</th>\n",
       "      <th>Open</th>\n",
       "      <th>High</th>\n",
       "      <th>Low</th>\n",
       "      <th>Close</th>\n",
       "      <th>Adj Close</th>\n",
       "      <th>Volume</th>\n",
       "      <th>variacao</th>\n",
       "      <th>var_dia</th>\n",
       "      <th>day_name</th>\n",
       "      <th>month_name</th>\n",
       "      <th>dia</th>\n",
       "      <th>mes</th>\n",
       "      <th>ano</th>\n",
       "    </tr>\n",
       "  </thead>\n",
       "  <tbody>\n",
       "    <tr>\n",
       "      <th>0</th>\n",
       "      <td>2021-01-04</td>\n",
       "      <td>119024.0</td>\n",
       "      <td>120354.0</td>\n",
       "      <td>118062.0</td>\n",
       "      <td>118558.0</td>\n",
       "      <td>118558.0</td>\n",
       "      <td>8741400.0</td>\n",
       "      <td>-466.0</td>\n",
       "      <td>negativa</td>\n",
       "      <td>Monday</td>\n",
       "      <td>January</td>\n",
       "      <td>4</td>\n",
       "      <td>1</td>\n",
       "      <td>2021</td>\n",
       "    </tr>\n",
       "    <tr>\n",
       "      <th>1</th>\n",
       "      <td>2021-01-05</td>\n",
       "      <td>118835.0</td>\n",
       "      <td>119790.0</td>\n",
       "      <td>116756.0</td>\n",
       "      <td>119223.0</td>\n",
       "      <td>119223.0</td>\n",
       "      <td>9257100.0</td>\n",
       "      <td>388.0</td>\n",
       "      <td>positiva</td>\n",
       "      <td>Tuesday</td>\n",
       "      <td>January</td>\n",
       "      <td>5</td>\n",
       "      <td>1</td>\n",
       "      <td>2021</td>\n",
       "    </tr>\n",
       "    <tr>\n",
       "      <th>2</th>\n",
       "      <td>2021-01-06</td>\n",
       "      <td>119377.0</td>\n",
       "      <td>120924.0</td>\n",
       "      <td>118917.0</td>\n",
       "      <td>119851.0</td>\n",
       "      <td>119851.0</td>\n",
       "      <td>11638200.0</td>\n",
       "      <td>474.0</td>\n",
       "      <td>positiva</td>\n",
       "      <td>Wednesday</td>\n",
       "      <td>January</td>\n",
       "      <td>6</td>\n",
       "      <td>1</td>\n",
       "      <td>2021</td>\n",
       "    </tr>\n",
       "    <tr>\n",
       "      <th>3</th>\n",
       "      <td>2021-01-07</td>\n",
       "      <td>119103.0</td>\n",
       "      <td>121983.0</td>\n",
       "      <td>119101.0</td>\n",
       "      <td>121956.0</td>\n",
       "      <td>121956.0</td>\n",
       "      <td>11774800.0</td>\n",
       "      <td>2853.0</td>\n",
       "      <td>positiva</td>\n",
       "      <td>Thursday</td>\n",
       "      <td>January</td>\n",
       "      <td>7</td>\n",
       "      <td>1</td>\n",
       "      <td>2021</td>\n",
       "    </tr>\n",
       "    <tr>\n",
       "      <th>4</th>\n",
       "      <td>2021-01-08</td>\n",
       "      <td>122387.0</td>\n",
       "      <td>125324.0</td>\n",
       "      <td>122386.0</td>\n",
       "      <td>125077.0</td>\n",
       "      <td>125077.0</td>\n",
       "      <td>11085800.0</td>\n",
       "      <td>2690.0</td>\n",
       "      <td>positiva</td>\n",
       "      <td>Friday</td>\n",
       "      <td>January</td>\n",
       "      <td>8</td>\n",
       "      <td>1</td>\n",
       "      <td>2021</td>\n",
       "    </tr>\n",
       "    <tr>\n",
       "      <th>...</th>\n",
       "      <td>...</td>\n",
       "      <td>...</td>\n",
       "      <td>...</td>\n",
       "      <td>...</td>\n",
       "      <td>...</td>\n",
       "      <td>...</td>\n",
       "      <td>...</td>\n",
       "      <td>...</td>\n",
       "      <td>...</td>\n",
       "      <td>...</td>\n",
       "      <td>...</td>\n",
       "      <td>...</td>\n",
       "      <td>...</td>\n",
       "      <td>...</td>\n",
       "    </tr>\n",
       "    <tr>\n",
       "      <th>143</th>\n",
       "      <td>2021-08-02</td>\n",
       "      <td>121803.0</td>\n",
       "      <td>124536.0</td>\n",
       "      <td>121797.0</td>\n",
       "      <td>122516.0</td>\n",
       "      <td>122516.0</td>\n",
       "      <td>8565400.0</td>\n",
       "      <td>713.0</td>\n",
       "      <td>positiva</td>\n",
       "      <td>Monday</td>\n",
       "      <td>August</td>\n",
       "      <td>2</td>\n",
       "      <td>8</td>\n",
       "      <td>2021</td>\n",
       "    </tr>\n",
       "    <tr>\n",
       "      <th>144</th>\n",
       "      <td>2021-08-03</td>\n",
       "      <td>122516.0</td>\n",
       "      <td>123765.0</td>\n",
       "      <td>120807.0</td>\n",
       "      <td>123577.0</td>\n",
       "      <td>123577.0</td>\n",
       "      <td>9391300.0</td>\n",
       "      <td>1061.0</td>\n",
       "      <td>positiva</td>\n",
       "      <td>Tuesday</td>\n",
       "      <td>August</td>\n",
       "      <td>3</td>\n",
       "      <td>8</td>\n",
       "      <td>2021</td>\n",
       "    </tr>\n",
       "    <tr>\n",
       "      <th>145</th>\n",
       "      <td>2021-08-04</td>\n",
       "      <td>123577.0</td>\n",
       "      <td>123587.0</td>\n",
       "      <td>121072.0</td>\n",
       "      <td>121801.0</td>\n",
       "      <td>121801.0</td>\n",
       "      <td>9164200.0</td>\n",
       "      <td>-1776.0</td>\n",
       "      <td>negativa</td>\n",
       "      <td>Wednesday</td>\n",
       "      <td>August</td>\n",
       "      <td>4</td>\n",
       "      <td>8</td>\n",
       "      <td>2021</td>\n",
       "    </tr>\n",
       "    <tr>\n",
       "      <th>146</th>\n",
       "      <td>2021-08-05</td>\n",
       "      <td>121801.0</td>\n",
       "      <td>123541.0</td>\n",
       "      <td>121128.0</td>\n",
       "      <td>121633.0</td>\n",
       "      <td>121633.0</td>\n",
       "      <td>10913000.0</td>\n",
       "      <td>-168.0</td>\n",
       "      <td>negativa</td>\n",
       "      <td>Thursday</td>\n",
       "      <td>August</td>\n",
       "      <td>5</td>\n",
       "      <td>8</td>\n",
       "      <td>2021</td>\n",
       "    </tr>\n",
       "    <tr>\n",
       "      <th>147</th>\n",
       "      <td>2021-08-06</td>\n",
       "      <td>121633.0</td>\n",
       "      <td>123287.0</td>\n",
       "      <td>121568.0</td>\n",
       "      <td>122810.0</td>\n",
       "      <td>122810.0</td>\n",
       "      <td>7499200.0</td>\n",
       "      <td>1177.0</td>\n",
       "      <td>positiva</td>\n",
       "      <td>Friday</td>\n",
       "      <td>August</td>\n",
       "      <td>6</td>\n",
       "      <td>8</td>\n",
       "      <td>2021</td>\n",
       "    </tr>\n",
       "  </tbody>\n",
       "</table>\n",
       "<p>148 rows × 14 columns</p>\n",
       "</div>"
      ],
      "text/plain": [
       "          Date      Open      High       Low     Close  Adj Close      Volume  \\\n",
       "0   2021-01-04  119024.0  120354.0  118062.0  118558.0   118558.0   8741400.0   \n",
       "1   2021-01-05  118835.0  119790.0  116756.0  119223.0   119223.0   9257100.0   \n",
       "2   2021-01-06  119377.0  120924.0  118917.0  119851.0   119851.0  11638200.0   \n",
       "3   2021-01-07  119103.0  121983.0  119101.0  121956.0   121956.0  11774800.0   \n",
       "4   2021-01-08  122387.0  125324.0  122386.0  125077.0   125077.0  11085800.0   \n",
       "..         ...       ...       ...       ...       ...        ...         ...   \n",
       "143 2021-08-02  121803.0  124536.0  121797.0  122516.0   122516.0   8565400.0   \n",
       "144 2021-08-03  122516.0  123765.0  120807.0  123577.0   123577.0   9391300.0   \n",
       "145 2021-08-04  123577.0  123587.0  121072.0  121801.0   121801.0   9164200.0   \n",
       "146 2021-08-05  121801.0  123541.0  121128.0  121633.0   121633.0  10913000.0   \n",
       "147 2021-08-06  121633.0  123287.0  121568.0  122810.0   122810.0   7499200.0   \n",
       "\n",
       "     variacao   var_dia   day_name month_name  dia  mes   ano  \n",
       "0      -466.0  negativa     Monday    January    4    1  2021  \n",
       "1       388.0  positiva    Tuesday    January    5    1  2021  \n",
       "2       474.0  positiva  Wednesday    January    6    1  2021  \n",
       "3      2853.0  positiva   Thursday    January    7    1  2021  \n",
       "4      2690.0  positiva     Friday    January    8    1  2021  \n",
       "..        ...       ...        ...        ...  ...  ...   ...  \n",
       "143     713.0  positiva     Monday     August    2    8  2021  \n",
       "144    1061.0  positiva    Tuesday     August    3    8  2021  \n",
       "145   -1776.0  negativa  Wednesday     August    4    8  2021  \n",
       "146    -168.0  negativa   Thursday     August    5    8  2021  \n",
       "147    1177.0  positiva     Friday     August    6    8  2021  \n",
       "\n",
       "[148 rows x 14 columns]"
      ]
     },
     "execution_count": 84,
     "metadata": {},
     "output_type": "execute_result"
    }
   ],
   "source": [
    "ibov"
   ]
  },
  {
   "cell_type": "code",
   "execution_count": 85,
   "id": "20827feb",
   "metadata": {},
   "outputs": [
    {
     "data": {
      "image/png": "[encoded data removed]",
      "text/plain": [
       "<Figure size 432x288 with 1 Axes>"
      ]
     },
     "metadata": {
      "needs_background": "light"
     },
     "output_type": "display_data"
    }
   ],
   "source": [
    "x = ibov['Open']\n",
    "y = ibov['Close']\n",
    "\n",
    "plt.scatter(x, y)    #plt.scatter => gráfico de dispersão\n",
    "\n",
    "plt.show()"
   ]
  },
  {
   "cell_type": "code",
   "execution_count": 86,
   "id": "0b892fb7",
   "metadata": {},
   "outputs": [
    {
     "data": {
      "image/png": "[encoded data removed]",
      "text/plain": [
       "<Figure size 720x432 with 1 Axes>"
      ]
     },
     "metadata": {
      "needs_background": "light"
     },
     "output_type": "display_data"
    }
   ],
   "source": [
    "from mpl_toolkits.mplot3d import Axes3D\n",
    "\n",
    "fig = plt.figure(figsize=(10, 6))\n",
    "ax = fig.add_subplot(111, projection='3d')\n",
    "\n",
    "ax.scatter(ibov['mes'], ibov['Open'], ibov['Close'], s=30)\n",
    "ax.set(xlabel='mes', ylabel='Open', zlabel='Close')\n",
    "\n",
    "plt.xticks(np.arange(1, 12, step=1))\n",
    "plt.show()"
   ]
  },
  {
   "cell_type": "code",
   "execution_count": null,
   "id": "2e5ca167",
   "metadata": {},
   "outputs": [],
   "source": []
  }
 ],
 "metadata": {
  "kernelspec": {
   "display_name": "Python 3",
   "language": "python",
   "name": "python3"
  },
  "language_info": {
   "codemirror_mode": {
    "name": "ipython",
    "version": 3
   },
   "file_extension": ".py",
   "mimetype": "text/x-python",
   "name": "python",
   "nbconvert_exporter": "python",
   "pygments_lexer": "ipython3",
   "version": "3.8.8"
  }
 },
 "nbformat": 4,
 "nbformat_minor": 5
}
