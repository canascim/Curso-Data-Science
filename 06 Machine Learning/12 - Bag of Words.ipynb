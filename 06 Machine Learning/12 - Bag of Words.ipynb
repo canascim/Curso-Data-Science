{
 "cells": [
  {
   "cell_type": "markdown",
   "metadata": {
    "id": "quGXtsq9vK29"
   },
   "source": [
    "# 12 - Processamento de Linguagem Natural\n",
    "\n",
    "Na aula de hoje, vamos explorar os seguintes tópicos em Python:\n",
    "\n",
    "- 1) Exemplo Aula Anterior\n",
    "- 2) Exercícios Aula Anterior\n",
    "- 3) Transformações dos Textos e Modelagem\n",
    "- 4) Word Embedding\n",
    "- 5) Exercícios"
   ]
  },
  {
   "cell_type": "markdown",
   "metadata": {
    "id": "d4jcb2p8vK3C"
   },
   "source": [
    "<img src=\"https://i1.wp.com/thedatascientist.com/wp-content/uploads/2018/09/data_science_wordcloud.png?fit=1584%2C1008&ssl=1\" width=800>"
   ]
  },
  {
   "cell_type": "markdown",
   "metadata": {
    "id": "Z-3P2YIZvK3D"
   },
   "source": [
    "##   "
   ]
  },
  {
   "cell_type": "markdown",
   "metadata": {},
   "source": [
    "## Exemplo - Aula Anterior"
   ]
  },
  {
   "cell_type": "markdown",
   "metadata": {
    "id": "orLnf3VPvK3T"
   },
   "source": [
    "Vamos agora já começar a práticar com os nossos dados de exemplo:"
   ]
  },
  {
   "cell_type": "code",
   "execution_count": 16,
   "metadata": {
    "id": "zfEZZflLvK3U"
   },
   "outputs": [
    {
     "name": "stderr",
     "output_type": "stream",
     "text": [
      "[nltk_data] Downloading package punkt to\n",
      "[nltk_data]     C:\\Users\\sandro.saorin\\AppData\\Roaming\\nltk_data...\n",
      "[nltk_data]   Unzipping tokenizers\\punkt.zip.\n",
      "[nltk_data] Downloading package stopwords to\n",
      "[nltk_data]     C:\\Users\\sandro.saorin\\AppData\\Roaming\\nltk_data...\n",
      "[nltk_data]   Unzipping corpora\\stopwords.zip.\n",
      "[nltk_data] Downloading package rslp to\n",
      "[nltk_data]     C:\\Users\\sandro.saorin\\AppData\\Roaming\\nltk_data...\n",
      "[nltk_data]   Unzipping stemmers\\rslp.zip.\n"
     ]
    }
   ],
   "source": [
    "import pandas as pd\n",
    "import numpy as np\n",
    "import matplotlib.pyplot as plt\n",
    "import seaborn as sns\n",
    "\n",
    "import nltk\n",
    "nltk.download('punkt')\n",
    "nltk.download('stopwords')\n",
    "nltk.download('rslp')\n",
    "from nltk.corpus import stopwords \n",
    "from nltk.tokenize import word_tokenize\n",
    "from nltk.stem.porter import *\n",
    "from nltk.stem import SnowballStemmer\n",
    "import re"
   ]
  },
  {
   "cell_type": "code",
   "execution_count": 8,
   "metadata": {
    "id": "blFkmxN8vK3U"
   },
   "outputs": [],
   "source": [
    "movies = pd.read_csv('./datasets/movies.csv', index_col=0)"
   ]
  },
  {
   "cell_type": "markdown",
   "metadata": {
    "id": "cPZShmQVvK3U"
   },
   "source": [
    "Nosso exemplo será uma Análise de Sentimento em Críticas de Filmes, onde vamos identificar se a crítica foi boa ou não:"
   ]
  },
  {
   "cell_type": "code",
   "execution_count": 9,
   "metadata": {
    "colab": {
     "base_uri": "https://localhost:8080/",
     "height": 206
    },
    "executionInfo": {
     "elapsed": 18,
     "status": "ok",
     "timestamp": 1642102002565,
     "user": {
      "displayName": "Alexandre Lima Santiago de Pinho",
      "photoUrl": "https://lh3.googleusercontent.com/a/default-user=s64",
      "userId": "08604687895817407219"
     },
     "user_tz": 180
    },
    "id": "FXtA5BgivK3V",
    "outputId": "683e65fe-d9db-4f26-c4b7-afe3e152629f"
   },
   "outputs": [
    {
     "data": {
      "text/html": [
       "<div>\n",
       "<style scoped>\n",
       "    .dataframe tbody tr th:only-of-type {\n",
       "        vertical-align: middle;\n",
       "    }\n",
       "\n",
       "    .dataframe tbody tr th {\n",
       "        vertical-align: top;\n",
       "    }\n",
       "\n",
       "    .dataframe thead th {\n",
       "        text-align: right;\n",
       "    }\n",
       "</style>\n",
       "<table border=\"1\" class=\"dataframe\">\n",
       "  <thead>\n",
       "    <tr style=\"text-align: right;\">\n",
       "      <th></th>\n",
       "      <th>text</th>\n",
       "      <th>label</th>\n",
       "    </tr>\n",
       "  </thead>\n",
       "  <tbody>\n",
       "    <tr>\n",
       "      <th>0</th>\n",
       "      <td>I grew up (b. 1965) watching and loving the Th...</td>\n",
       "      <td>0</td>\n",
       "    </tr>\n",
       "    <tr>\n",
       "      <th>1</th>\n",
       "      <td>When I put this movie in my DVD player, and sa...</td>\n",
       "      <td>0</td>\n",
       "    </tr>\n",
       "    <tr>\n",
       "      <th>2</th>\n",
       "      <td>Why do people who do not know what a particula...</td>\n",
       "      <td>0</td>\n",
       "    </tr>\n",
       "    <tr>\n",
       "      <th>3</th>\n",
       "      <td>Even though I have great interest in Biblical ...</td>\n",
       "      <td>0</td>\n",
       "    </tr>\n",
       "    <tr>\n",
       "      <th>4</th>\n",
       "      <td>Im a die hard Dads Army fan and nothing will e...</td>\n",
       "      <td>1</td>\n",
       "    </tr>\n",
       "  </tbody>\n",
       "</table>\n",
       "</div>"
      ],
      "text/plain": [
       "                                                text  label\n",
       "0  I grew up (b. 1965) watching and loving the Th...      0\n",
       "1  When I put this movie in my DVD player, and sa...      0\n",
       "2  Why do people who do not know what a particula...      0\n",
       "3  Even though I have great interest in Biblical ...      0\n",
       "4  Im a die hard Dads Army fan and nothing will e...      1"
      ]
     },
     "execution_count": 9,
     "metadata": {},
     "output_type": "execute_result"
    }
   ],
   "source": [
    "movies.head()"
   ]
  },
  {
   "cell_type": "code",
   "execution_count": 10,
   "metadata": {
    "colab": {
     "base_uri": "https://localhost:8080/"
    },
    "executionInfo": {
     "elapsed": 17,
     "status": "ok",
     "timestamp": 1642102002566,
     "user": {
      "displayName": "Alexandre Lima Santiago de Pinho",
      "photoUrl": "https://lh3.googleusercontent.com/a/default-user=s64",
      "userId": "08604687895817407219"
     },
     "user_tz": 180
    },
    "id": "-Zj5W-invK3V",
    "outputId": "6b4cd890-5672-48d8-b4b7-8c08776a1cb2",
    "scrolled": true
   },
   "outputs": [
    {
     "name": "stdout",
     "output_type": "stream",
     "text": [
      "<class 'pandas.core.frame.DataFrame'>\n",
      "Int64Index: 50000 entries, 0 to 4999\n",
      "Data columns (total 2 columns):\n",
      " #   Column  Non-Null Count  Dtype \n",
      "---  ------  --------------  ----- \n",
      " 0   text    50000 non-null  object\n",
      " 1   label   50000 non-null  int64 \n",
      "dtypes: int64(1), object(1)\n",
      "memory usage: 1.1+ MB\n"
     ]
    }
   ],
   "source": [
    "movies.info()"
   ]
  },
  {
   "cell_type": "code",
   "execution_count": 11,
   "metadata": {
    "colab": {
     "base_uri": "https://localhost:8080/"
    },
    "executionInfo": {
     "elapsed": 14,
     "status": "ok",
     "timestamp": 1642102002567,
     "user": {
      "displayName": "Alexandre Lima Santiago de Pinho",
      "photoUrl": "https://lh3.googleusercontent.com/a/default-user=s64",
      "userId": "08604687895817407219"
     },
     "user_tz": 180
    },
    "id": "Lr7xxovyvK3V",
    "outputId": "4109a17d-d7e6-404f-8927-83909374df91"
   },
   "outputs": [
    {
     "data": {
      "text/plain": [
       "0    25000\n",
       "1    25000\n",
       "Name: label, dtype: int64"
      ]
     },
     "execution_count": 11,
     "metadata": {},
     "output_type": "execute_result"
    }
   ],
   "source": [
    "movies['label'].value_counts()"
   ]
  },
  {
   "cell_type": "markdown",
   "metadata": {
    "id": "CnsQhNt4vK3W"
   },
   "source": [
    "A nossa base de dados tem 50 mil linhas e levando em consideração que as críticas são sobre filmes diversos, a quantidade de palavras disponíveis nos textos será muito grande. Para economizar tempo de aula com processamneto dos textos e modelagem, iremos criar uma amostra com 10% da base:"
   ]
  },
  {
   "cell_type": "code",
   "execution_count": 12,
   "metadata": {
    "id": "S1SS7IHovK3W"
   },
   "outputs": [],
   "source": [
    "movies_sample = movies.sample(frac=0.1, replace=False)"
   ]
  },
  {
   "cell_type": "code",
   "execution_count": 13,
   "metadata": {
    "colab": {
     "base_uri": "https://localhost:8080/"
    },
    "executionInfo": {
     "elapsed": 12,
     "status": "ok",
     "timestamp": 1642102002568,
     "user": {
      "displayName": "Alexandre Lima Santiago de Pinho",
      "photoUrl": "https://lh3.googleusercontent.com/a/default-user=s64",
      "userId": "08604687895817407219"
     },
     "user_tz": 180
    },
    "id": "P63vX65SvK3W",
    "outputId": "1808c4a2-2cf0-44ae-b983-4b432a2bed07",
    "scrolled": true
   },
   "outputs": [
    {
     "data": {
      "text/plain": [
       "(50000, 2)"
      ]
     },
     "execution_count": 13,
     "metadata": {},
     "output_type": "execute_result"
    }
   ],
   "source": [
    "movies.shape"
   ]
  },
  {
   "cell_type": "code",
   "execution_count": 14,
   "metadata": {
    "colab": {
     "base_uri": "https://localhost:8080/"
    },
    "executionInfo": {
     "elapsed": 254,
     "status": "ok",
     "timestamp": 1642102009747,
     "user": {
      "displayName": "Alexandre Lima Santiago de Pinho",
      "photoUrl": "https://lh3.googleusercontent.com/a/default-user=s64",
      "userId": "08604687895817407219"
     },
     "user_tz": 180
    },
    "id": "z_TtikRNvK3W",
    "outputId": "6edcf161-ad2c-42a5-8717-09aaa5ff86a0"
   },
   "outputs": [
    {
     "data": {
      "text/plain": [
       "(5000, 2)"
      ]
     },
     "execution_count": 14,
     "metadata": {},
     "output_type": "execute_result"
    }
   ],
   "source": [
    "movies_sample.shape"
   ]
  },
  {
   "cell_type": "markdown",
   "metadata": {},
   "source": [
    "Definindo o pipeline de preprocessamento dos textos:"
   ]
  },
  {
   "cell_type": "code",
   "execution_count": 17,
   "metadata": {},
   "outputs": [],
   "source": [
    "stopwords = set(stopwords.words('english'))\n",
    "\n",
    "stemmer = PorterStemmer()\n",
    "\n",
    "# Pipeline - Text Preprocessing\n",
    "def preprocessing(string):\n",
    "    ###\n",
    "    # Remove links with http/https\n",
    "#     string = re.sub(r'http\\S+', '', string, flags=re.MULTILINE)\n",
    "#     ###\n",
    "#     # Remove hashtags\n",
    "#     string = re.sub(r'#(\\w+)', '', string, flags=re.MULTILINE)\n",
    "#     ###\n",
    "#     # Remove mentions\n",
    "#     string = re.sub(r'@(\\w+)', '', string, flags=re.MULTILINE)\n",
    "    ###\n",
    "    # Remove Numbers\n",
    "    string = re.sub(r'\\d', '', string)\n",
    "    ###\n",
    "    # Remove Special Characters\n",
    "    string = re.sub(r\"[^a-zA-Z0-9]+\", ' ', string)\n",
    "    ###\n",
    "    # Lowercase words\n",
    "    string = string.lower()\n",
    "    ###\n",
    "    # Word Tokenize\n",
    "    words = word_tokenize(string)\n",
    "    ###\n",
    "    # Remove Stopwords\n",
    "    filtered_words = []\n",
    "    for w in words:\n",
    "        if w not in stopwords:\n",
    "            filtered_words.append(w)\n",
    "    ###\n",
    "    # Stemming Words\n",
    "    stem_words = []\n",
    "    for w in filtered_words:\n",
    "        s_words = stemmer.stem(w)\n",
    "        stem_words.append(s_words)\n",
    "    ###\n",
    "    return stem_words"
   ]
  },
  {
   "cell_type": "markdown",
   "metadata": {
    "id": "sWTp65uzvK3W"
   },
   "source": [
    "Agora iremos aplicar o nosso processamento dos textos:"
   ]
  },
  {
   "cell_type": "code",
   "execution_count": 18,
   "metadata": {
    "id": "rptbThYTvK3W"
   },
   "outputs": [],
   "source": [
    "movies_sample[\"filtered_words\"] = movies_sample['text'].apply(lambda x: preprocessing(x))\n",
    "\n",
    "# Normalmente depois do processamento juntamos as palavras novamente em uma só string\n",
    "\n",
    "movies_sample['join_words'] = movies_sample['filtered_words'].apply(lambda x: ' '.join(x))"
   ]
  },
  {
   "cell_type": "code",
   "execution_count": 19,
   "metadata": {
    "id": "bs7kQjBrvK3X",
    "outputId": "1326a036-c09a-45d1-fead-d851cb443c16"
   },
   "outputs": [
    {
     "data": {
      "text/html": [
       "<div>\n",
       "<style scoped>\n",
       "    .dataframe tbody tr th:only-of-type {\n",
       "        vertical-align: middle;\n",
       "    }\n",
       "\n",
       "    .dataframe tbody tr th {\n",
       "        vertical-align: top;\n",
       "    }\n",
       "\n",
       "    .dataframe thead th {\n",
       "        text-align: right;\n",
       "    }\n",
       "</style>\n",
       "<table border=\"1\" class=\"dataframe\">\n",
       "  <thead>\n",
       "    <tr style=\"text-align: right;\">\n",
       "      <th></th>\n",
       "      <th>text</th>\n",
       "      <th>label</th>\n",
       "      <th>filtered_words</th>\n",
       "      <th>join_words</th>\n",
       "    </tr>\n",
       "  </thead>\n",
       "  <tbody>\n",
       "    <tr>\n",
       "      <th>2153</th>\n",
       "      <td>Ingrid Bergman is a temporarily impoverished P...</td>\n",
       "      <td>1</td>\n",
       "      <td>[ingrid, bergman, temporarili, impoverish, pol...</td>\n",
       "      <td>ingrid bergman temporarili impoverish polish c...</td>\n",
       "    </tr>\n",
       "    <tr>\n",
       "      <th>11922</th>\n",
       "      <td>I've Seen The Beginning Of The Muppet Movie, B...</td>\n",
       "      <td>1</td>\n",
       "      <td>[seen, begin, muppet, movi, half, watch, mr, k...</td>\n",
       "      <td>seen begin muppet movi half watch mr kelli fri...</td>\n",
       "    </tr>\n",
       "    <tr>\n",
       "      <th>9846</th>\n",
       "      <td>\"Female Convict Scorpion - Beast Stable\", the ...</td>\n",
       "      <td>1</td>\n",
       "      <td>[femal, convict, scorpion, beast, stabl, third...</td>\n",
       "      <td>femal convict scorpion beast stabl third seri ...</td>\n",
       "    </tr>\n",
       "    <tr>\n",
       "      <th>39097</th>\n",
       "      <td>Talk about over acting...!!!! not just by Govi...</td>\n",
       "      <td>0</td>\n",
       "      <td>[talk, act, govinda, also, salman, lara, direc...</td>\n",
       "      <td>talk act govinda also salman lara direct aw fi...</td>\n",
       "    </tr>\n",
       "    <tr>\n",
       "      <th>16608</th>\n",
       "      <td>Joe Rogan's whole act is profanity laced with ...</td>\n",
       "      <td>0</td>\n",
       "      <td>[joe, rogan, whole, act, profan, lace, bile, p...</td>\n",
       "      <td>joe rogan whole act profan lace bile pot smoke...</td>\n",
       "    </tr>\n",
       "  </tbody>\n",
       "</table>\n",
       "</div>"
      ],
      "text/plain": [
       "                                                    text  label  \\\n",
       "2153   Ingrid Bergman is a temporarily impoverished P...      1   \n",
       "11922  I've Seen The Beginning Of The Muppet Movie, B...      1   \n",
       "9846   \"Female Convict Scorpion - Beast Stable\", the ...      1   \n",
       "39097  Talk about over acting...!!!! not just by Govi...      0   \n",
       "16608  Joe Rogan's whole act is profanity laced with ...      0   \n",
       "\n",
       "                                          filtered_words  \\\n",
       "2153   [ingrid, bergman, temporarili, impoverish, pol...   \n",
       "11922  [seen, begin, muppet, movi, half, watch, mr, k...   \n",
       "9846   [femal, convict, scorpion, beast, stabl, third...   \n",
       "39097  [talk, act, govinda, also, salman, lara, direc...   \n",
       "16608  [joe, rogan, whole, act, profan, lace, bile, p...   \n",
       "\n",
       "                                              join_words  \n",
       "2153   ingrid bergman temporarili impoverish polish c...  \n",
       "11922  seen begin muppet movi half watch mr kelli fri...  \n",
       "9846   femal convict scorpion beast stabl third seri ...  \n",
       "39097  talk act govinda also salman lara direct aw fi...  \n",
       "16608  joe rogan whole act profan lace bile pot smoke...  "
      ]
     },
     "execution_count": 19,
     "metadata": {},
     "output_type": "execute_result"
    }
   ],
   "source": [
    "movies_sample.head()"
   ]
  },
  {
   "cell_type": "markdown",
   "metadata": {
    "id": "X762MkqVvK3X"
   },
   "source": [
    "##   "
   ]
  },
  {
   "cell_type": "markdown",
   "metadata": {
    "id": "of3cypEwvK3X"
   },
   "source": [
    "## Exercícios da última aula"
   ]
  },
  {
   "cell_type": "markdown",
   "metadata": {
    "id": "THrZo1sivK3X"
   },
   "source": [
    "Desenvolvimento dos exercícios em um notebook a parte."
   ]
  },
  {
   "cell_type": "markdown",
   "metadata": {
    "id": "HiEtZLpzvK3X"
   },
   "source": [
    "## "
   ]
  },
  {
   "cell_type": "markdown",
   "metadata": {
    "id": "UEKdnx6PvK3X"
   },
   "source": [
    "## Corpus"
   ]
  },
  {
   "cell_type": "markdown",
   "metadata": {
    "id": "F67iAUStvK3X"
   },
   "source": [
    "É importante ressaltar que a escolha das etapas de pré-processamento não é algo óbvio, dado que há muitas escolhas possíveis acerca do que se fazer para pré-processar os dados. Assim, o indicado é treinar diferentes modelos testando diferentes combinações das técnicas de pré-processamento, até que o melhor procedimento seja encontrado!\n",
    "\n",
    "**Nomenclatura**: o conjunto de mensagens pré-processadas é chamado de **Corpus**."
   ]
  },
  {
   "cell_type": "markdown",
   "metadata": {
    "id": "ru8csWZuvK3Y"
   },
   "source": [
    "## Vocabulário\n",
    "\n",
    "O vocabulário do corpus nada mais é do que uma listagem das palavras individuais que aparecem no corpus. Para encontrar o vocabulário, basta contarmos a aparição de cada palavra isolada no corpus. Ao fim, teremos N palavras únicas que compõem nosso vocabulário."
   ]
  },
  {
   "cell_type": "markdown",
   "metadata": {
    "id": "lHq5dN5TvK3Y"
   },
   "source": [
    "##  "
   ]
  },
  {
   "cell_type": "markdown",
   "metadata": {
    "id": "cDgtMo9DvK3Y"
   },
   "source": [
    "## Bag of Words"
   ]
  },
  {
   "cell_type": "markdown",
   "metadata": {
    "id": "bxpjemv_vK3Y"
   },
   "source": [
    "**Bag of Words** é o processo onde traduzimos o texto já tratado para uma representação numérica que faça sentido para o modelo de *Machine Learning* consiga interpretá-lo.\n",
    "\n",
    "As transformações mais comuns em NLP são **CountVectorizer** e **TF-IDF**"
   ]
  },
  {
   "cell_type": "markdown",
   "metadata": {
    "id": "HkvebzFavK3Y"
   },
   "source": [
    "##  "
   ]
  },
  {
   "cell_type": "markdown",
   "metadata": {
    "id": "SH7ZyhIyvK3Y"
   },
   "source": [
    "## CountVectorizer "
   ]
  },
  {
   "cell_type": "markdown",
   "metadata": {
    "id": "6MLLdvAYvK3Y"
   },
   "source": [
    "Após estudarmos o vocabulário, vamos efetivamente montar o modelo de bag-of-words. Este modelo funciona da seguinte forma:\n",
    "\n",
    "- Pegue uma frase do corpus;\n",
    "- Crie um vetor N-dimensional de inteiros (onde N é o número de palavras do vocabulário);\n",
    "- Cada componente do vetor corresponde a uma palavra do vocabulário, segundo a ordem que as palavras aparecem no vocabulário.\n",
    "- Preencha esse vetor com zeros (todas suas componentes serão 0);\n",
    "- Para cada palavra da frase, mude a componente correspondente do vetor para 1;\n",
    "- Faça isso para todas as frases do corpus;\n",
    "\n",
    "Ao fim do processo acima para todas as frases do corpus (supomos que sejam M frases), nós empilhamos os respectivos vetores, de modo que teremos uma matriz de M linhas e N colunas. E essa matriz é o modelo final de bag-of-words, que por ser uma matriz numérica, pode ser facilmente usada como input pros modelos de machine learning!\n",
    "\n",
    "Pra exemplificar o procedimento, vamos a um exemplo: suponha que nossa base de treino contenha as seguintes 3 frases **(M = 3)**:\n",
    "\n",
    "[\"Yay can't wait to party together!\",<br>\n",
    " 'You got called a tool?',<br>\n",
    " 'Still chance there. If you search hard you will get it..let have a try :)']\n",
    "\n",
    "Após o pre-processamento inicial das frases, o corpus final fica sendo:\n",
    "\n",
    "['yay cant wait party together',<br>\n",
    " 'get call tool',<br>\n",
    " 'still chance search hard get itlet try']\n",
    "\n",
    "Olhando pro corpus, é fácil ver que nosso vocabulário é:\n",
    "\n",
    "['wait',\n",
    " 'itlet',\n",
    " 'get',\n",
    " 'still',\n",
    " 'search',\n",
    " 'call',\n",
    " 'yay',\n",
    " 'cant',\n",
    " 'together',\n",
    " 'tool',\n",
    " 'hard',\n",
    " 'try',\n",
    " 'chance',\n",
    " 'party']\n",
    "\n",
    "É útil deixarmos o vocabulário em ordem alfabética:\n",
    "\n",
    "['call',\n",
    " 'cant',\n",
    " 'chance',\n",
    " 'get',\n",
    " 'hard',\n",
    " 'itlet',\n",
    " 'party',\n",
    " 'search',\n",
    " 'still',\n",
    " 'together',\n",
    " 'tool',\n",
    " 'try',\n",
    " 'wait',\n",
    " 'yay']\n",
    " \n",
    "Temos **N = 14** palavras no vocabulário. \n",
    "\n",
    "O one-hot encoding de cada uma das frases do corpus irá, então, produzir um **vetor 14-dimensional** de 1 e 0, com 1 nas posições respectivas às palavras no vocabulário. Vamos entender:\n",
    "\n",
    "Para a frase \"yay cant wait party together\", teremos um vetor com o numero 1 nas posições 13, 1, 12, 6, e 9 (respectivamente as posições de \"yay\", \"cant\", \"wait\", \"party\" e \"together\"), de forma que temos o vetor:\n",
    "\n",
    "> \"yay cant wait party together\"\" --> [0, 1, 0, 0, 0, 0, 1, 0, 0, 1, 0, 0, 1, 1]\n",
    "\n",
    "Analogamente, para as outras duas frases, teremos os vetores:\n",
    "\n",
    "> \"get call tool\" --> [1, 0, 0, 1, 0, 0, 0, 0, 0, 0, 1, 0, 0, 0]\n",
    "\n",
    "> \"still chance search hard get itlet try\" --> [0, 0, 1, 1, 1, 1, 0, 1, 1, 0, 0, 1, 0, 0]\n",
    "\n",
    "\n",
    "Finalmente, o modelo de bag-of-words (BoW) final é a **matriz de dimensão 3 x 14 (M = 3 frases no corpus, N = 14 palavras no vocabulário)**, obtida ao empilhar os vetores:\n",
    "  \n",
    "$ BoW = \\begin{pmatrix}\n",
    "0 & 1 & 0 & 0 & 0 & 0 & 1 & 0 & 0 & 1 & 0 & 0 & 1 & 1 \\\\\n",
    "1 & 0 & 0 & 1 & 0 & 0 & 0 & 0 & 0 & 0 & 1 & 0 & 0 & 0 \\\\\n",
    "0 & 0 & 1 & 1 & 1 & 1 & 0 & 1 & 1 & 0 & 0 & 1 & 0 & 0\n",
    "\\end{pmatrix} $\n",
    "\n",
    "Esse é o processo conhecido por [CountVectorizer](https://scikit-learn.org/stable/modules/generated/sklearn.feature_extraction.text.CountVectorizer.html)\n",
    "\n",
    "Naturalmente, tanto nosso corpus quanto nosso vocabulário serão muito maiores que os desse exemplo simples. Mas, o procedimento é exatamente o mesmo, e no final, teremos exatamente o mesmo output do modelo de bag-of-words: uma matriz M x N de 0 e 1, prontinha pra ser input dos modelos de machine learning!"
   ]
  },
  {
   "cell_type": "markdown",
   "metadata": {
    "id": "v9tilTl4vK3Z"
   },
   "source": [
    "Vamos definir primeiro X e y:"
   ]
  },
  {
   "cell_type": "code",
   "execution_count": 20,
   "metadata": {
    "id": "OMA5VXqcvK3Z"
   },
   "outputs": [],
   "source": [
    "X = movies_sample['join_words']\n",
    "y = movies_sample['label']"
   ]
  },
  {
   "cell_type": "code",
   "execution_count": 21,
   "metadata": {
    "id": "2CVxxs_mvK3Z"
   },
   "outputs": [],
   "source": [
    "from sklearn.model_selection import train_test_split\n",
    "\n",
    "X_train, X_test, y_train, y_test = train_test_split(X, \n",
    "                                                     y, \n",
    "                                                     test_size = 0.3, \n",
    "                                                     random_state = 42)"
   ]
  },
  {
   "cell_type": "code",
   "execution_count": 22,
   "metadata": {
    "id": "4nuK6FWLvK3Z"
   },
   "outputs": [],
   "source": [
    "from sklearn.feature_extraction.text import CountVectorizer"
   ]
  },
  {
   "cell_type": "code",
   "execution_count": 23,
   "metadata": {
    "id": "YPS6Rt4VvK3a"
   },
   "outputs": [],
   "source": [
    "cv = CountVectorizer()"
   ]
  },
  {
   "cell_type": "code",
   "execution_count": 24,
   "metadata": {
    "id": "A8v1yA4CvK3a"
   },
   "outputs": [],
   "source": [
    "X_train_cv = cv.fit_transform(X_train).toarray()\n",
    "X_test_cv = cv.transform(X_test).toarray()"
   ]
  },
  {
   "cell_type": "code",
   "execution_count": 25,
   "metadata": {
    "colab": {
     "base_uri": "https://localhost:8080/"
    },
    "executionInfo": {
     "elapsed": 274,
     "status": "ok",
     "timestamp": 1642102066231,
     "user": {
      "displayName": "Alexandre Lima Santiago de Pinho",
      "photoUrl": "https://lh3.googleusercontent.com/a/default-user=s64",
      "userId": "08604687895817407219"
     },
     "user_tz": 180
    },
    "id": "x-R0al95vK3a",
    "outputId": "8482a809-320e-4167-b4c4-fe192f28c12c",
    "scrolled": true
   },
   "outputs": [
    {
     "data": {
      "text/plain": [
       "array([[0, 0, 0, ..., 0, 0, 0],\n",
       "       [0, 0, 0, ..., 0, 0, 0],\n",
       "       [0, 0, 0, ..., 0, 0, 0],\n",
       "       ...,\n",
       "       [0, 0, 0, ..., 0, 0, 0],\n",
       "       [0, 0, 0, ..., 0, 0, 0],\n",
       "       [0, 0, 0, ..., 0, 0, 0]], dtype=int64)"
      ]
     },
     "execution_count": 25,
     "metadata": {},
     "output_type": "execute_result"
    }
   ],
   "source": [
    "X_train_cv"
   ]
  },
  {
   "cell_type": "markdown",
   "metadata": {
    "id": "02J6yIO9vK3a"
   },
   "source": [
    "Vamos fazer uma função para testar diversos tipos de modelos:"
   ]
  },
  {
   "cell_type": "code",
   "execution_count": 26,
   "metadata": {
    "id": "nygRidV9vK3a"
   },
   "outputs": [],
   "source": [
    "random_seed = 42\n",
    "\n",
    "from sklearn.ensemble import RandomForestClassifier, AdaBoostClassifier\n",
    "from sklearn.metrics import accuracy_score, precision_score, recall_score, f1_score\n",
    "from sklearn.tree import DecisionTreeClassifier\n",
    "from sklearn.linear_model import LogisticRegression\n",
    "\n",
    "list_models = [\n",
    "{'model_name': 'Logistic Regression',\n",
    " 'estimator' : LogisticRegression(random_state = random_seed, \n",
    "                                  solver = 'lbfgs')},\n",
    "{'model_name': 'Decision Tree',\n",
    " 'estimator' : DecisionTreeClassifier(random_state = random_seed)},\n",
    "{'model_name': 'Random Forest',\n",
    " 'estimator' : RandomForestClassifier(random_state = random_seed)}, \n",
    "{'model_name': 'AdaBoost',\n",
    " 'estimator' : AdaBoostClassifier(random_state = random_seed)}\n",
    "]"
   ]
  },
  {
   "cell_type": "code",
   "execution_count": 27,
   "metadata": {
    "id": "MPzXrzonvK3a"
   },
   "outputs": [],
   "source": [
    "from sklearn import metrics\n",
    "from sklearn.metrics import accuracy_score, precision_score, recall_score, f1_score\n",
    "\n",
    "def test_models_plot_roc_auc_curve(model_list, col_model_name, col_model, X_train, X_test, y_train, y_test):\n",
    "    for mdl in model_list:\n",
    "        model = mdl[col_model]\n",
    "        model.fit(X_train, y_train)\n",
    "        y_predict = model.predict(X_test)\n",
    "        fpr, tpr, thresholds = metrics.roc_curve(y_test, model.predict_proba(X_test)[:,1])\n",
    "        auc = metrics.roc_auc_score(y_test, model.predict(X_test))\n",
    "        plt.plot(fpr, tpr, label='%s ROC (AUC = %0.2f)' % (mdl[col_model_name], auc))\n",
    "        print(\"Model      : %s\" % mdl[col_model_name])\n",
    "        print(\"Accuracy   : %0.4f \" %  accuracy_score(y_test, y_predict))\n",
    "        print(\"Precision  : %0.4f \" % precision_score(y_test, y_predict, average='weighted'))\n",
    "        print(\"Recall     : %0.4f \" % recall_score(y_test, y_predict, average='weighted'))\n",
    "        print(\"F1 - Score : %0.4f \" % f1_score(y_test, y_predict, average='weighted'))\n",
    "        print(\"ROC - AUC  : %0.4f \" % auc)\n",
    "        print(\"======================\")\n",
    "    plt.plot([0, 1], [0, 1],'r--')\n",
    "    plt.xlim([0.0, 1.0])\n",
    "    plt.ylim([0.0, 1.05])\n",
    "    plt.xlabel('False Positive Rate')\n",
    "    plt.ylabel('True Positive Rate')\n",
    "    plt.title('ROC-AUC curve')\n",
    "    plt.legend(loc=\"lower right\")\n",
    "    plt.show()"
   ]
  },
  {
   "cell_type": "code",
   "execution_count": 28,
   "metadata": {
    "colab": {
     "base_uri": "https://localhost:8080/",
     "height": 940
    },
    "executionInfo": {
     "elapsed": 118102,
     "status": "ok",
     "timestamp": 1642102201003,
     "user": {
      "displayName": "Alexandre Lima Santiago de Pinho",
      "photoUrl": "https://lh3.googleusercontent.com/a/default-user=s64",
      "userId": "08604687895817407219"
     },
     "user_tz": 180
    },
    "id": "DwOInsLavK3b",
    "outputId": "df991c48-bddc-4536-9d66-9a3deca0ec19"
   },
   "outputs": [
    {
     "name": "stderr",
     "output_type": "stream",
     "text": [
      "C:\\Users\\sandro.saorin\\anaconda3\\lib\\site-packages\\sklearn\\linear_model\\_logistic.py:763: ConvergenceWarning: lbfgs failed to converge (status=1):\n",
      "STOP: TOTAL NO. of ITERATIONS REACHED LIMIT.\n",
      "\n",
      "Increase the number of iterations (max_iter) or scale the data as shown in:\n",
      "    https://scikit-learn.org/stable/modules/preprocessing.html\n",
      "Please also refer to the documentation for alternative solver options:\n",
      "    https://scikit-learn.org/stable/modules/linear_model.html#logistic-regression\n",
      "  n_iter_i = _check_optimize_result(\n"
     ]
    },
    {
     "name": "stdout",
     "output_type": "stream",
     "text": [
      "Model      : Logistic Regression\n",
      "Accuracy   : 0.8420 \n",
      "Precision  : 0.8424 \n",
      "Recall     : 0.8420 \n",
      "F1 - Score : 0.8420 \n",
      "ROC - AUC  : 0.8422 \n",
      "======================\n",
      "Model      : Decision Tree\n",
      "Accuracy   : 0.7093 \n",
      "Precision  : 0.7094 \n",
      "Recall     : 0.7093 \n",
      "F1 - Score : 0.7091 \n",
      "ROC - AUC  : 0.7089 \n",
      "======================\n",
      "Model      : Random Forest\n",
      "Accuracy   : 0.8420 \n",
      "Precision  : 0.8420 \n",
      "Recall     : 0.8420 \n",
      "F1 - Score : 0.8420 \n",
      "ROC - AUC  : 0.8419 \n",
      "======================\n",
      "Model      : AdaBoost\n",
      "Accuracy   : 0.7960 \n",
      "Precision  : 0.7966 \n",
      "Recall     : 0.7960 \n",
      "F1 - Score : 0.7960 \n",
      "ROC - AUC  : 0.7963 \n",
      "======================\n"
     ]
    },
    {
     "data": {
      "image/png": "[encoded data removed]",
      "text/plain": [
       "<Figure size 432x288 with 1 Axes>"
      ]
     },
     "metadata": {
      "needs_background": "light"
     },
     "output_type": "display_data"
    }
   ],
   "source": [
    "\n",
    "test_models_plot_roc_auc_curve(list_models,\n",
    "                               \"model_name\",\n",
    "                               \"estimator\",\n",
    "                               X_train_cv,\n",
    "                               X_test_cv,\n",
    "                               y_train,\n",
    "                               y_test)"
   ]
  },
  {
   "cell_type": "markdown",
   "metadata": {
    "id": "49Uo6O6IvK3b"
   },
   "source": [
    "##  "
   ]
  },
  {
   "cell_type": "markdown",
   "metadata": {
    "id": "ysEKTx4TvK3b"
   },
   "source": [
    "## TF-IDF"
   ]
  },
  {
   "cell_type": "markdown",
   "metadata": {
    "id": "U3Yrp50vvK3b"
   },
   "source": [
    "**Term Frequency and Inverse Document Frequency** é uma tranformação muito conhecida, onde avaliamos a relevância das palavras pelo **Frequência dos Termos** multiplicado pelo **Inverso da Frequência nos Documentos**, onde **documento** é cada um dos textos dentro de um Dataset. Vamos entender cada um dos termos:\n",
    "\n",
    "> **TF - Term Frequency**: é a frequência de vezes que um termo/palavra aparece em cada um dos documentos analisados (isso nos ajuda a avaliar a relevância daquela palavra);\n",
    "\n",
    "> **IDF - Inverse Document Frequency**: aqui avaliamos em quantos documentos o termo/palavra aparece (dessa forma conseguimos entender a sua influência em identificar os textos);\n",
    "\n",
    "O TF acredito que seja bem claro o entendimento, mas o IDF pode ser um pouco confuso, então vamos explicar da seguinte forma:\n",
    "<br><br>\n",
    "Imagina que temos diversos textos (documents) sobre esportes e queremos classificar os textos de acordo com os esportes tratados (futebol, basquete e etc). Se uma palavra aparecer em todos os textos qual a relevância dela na identificação do texto? Mínima (Por exemplo a palavra esporte em textos que só falam sobre esporte).\n",
    "<br><br>\n",
    "Por outro lado, se a palavra esgrima aparece em apenas um dos documentos (ou poucos deles), ela vai ser importante para a identificação daquele texto!\n",
    "<br><br>\n",
    "Resumindo o conceito de TF-IDF em diagrama, temos que:"
   ]
  },
  {
   "cell_type": "markdown",
   "metadata": {
    "id": "Cs7QiZFlvK3b"
   },
   "source": [
    "<img src=\"https://www.researchgate.net/profile/Haider-Al-Khateeb/publication/291950178/figure/fig1/AS:330186932408324@1455734107458/Term-Frequency-Inverse-Document-Frequency-TF-IDF.png\" width=800>"
   ]
  },
  {
   "cell_type": "markdown",
   "metadata": {
    "id": "uIUkdbUlvK3c"
   },
   "source": [
    "Vamos aplicá-lo na prática:"
   ]
  },
  {
   "cell_type": "code",
   "execution_count": 29,
   "metadata": {
    "id": "JlSbvIOlvK3c"
   },
   "outputs": [],
   "source": [
    "from sklearn.feature_extraction.text import TfidfVectorizer\n",
    "\n",
    "tfidf = TfidfVectorizer(use_idf = True)"
   ]
  },
  {
   "cell_type": "code",
   "execution_count": 30,
   "metadata": {
    "id": "lvuBaW5YvK3c"
   },
   "outputs": [],
   "source": [
    "X_train_tfidf = tfidf.fit_transform(X_train).todense()\n",
    "X_test_tfidf  = tfidf.transform(X_test).todense()"
   ]
  },
  {
   "cell_type": "code",
   "execution_count": 31,
   "metadata": {
    "colab": {
     "base_uri": "https://localhost:8080/"
    },
    "executionInfo": {
     "elapsed": 6,
     "status": "ok",
     "timestamp": 1642102263862,
     "user": {
      "displayName": "Alexandre Lima Santiago de Pinho",
      "photoUrl": "https://lh3.googleusercontent.com/a/default-user=s64",
      "userId": "08604687895817407219"
     },
     "user_tz": 180
    },
    "id": "dYslgTMQvK3c",
    "outputId": "af73861b-b43e-40ca-efd9-58ddf72fbf4c"
   },
   "outputs": [
    {
     "data": {
      "text/plain": [
       "matrix([[0., 0., 0., ..., 0., 0., 0.],\n",
       "        [0., 0., 0., ..., 0., 0., 0.],\n",
       "        [0., 0., 0., ..., 0., 0., 0.],\n",
       "        ...,\n",
       "        [0., 0., 0., ..., 0., 0., 0.],\n",
       "        [0., 0., 0., ..., 0., 0., 0.],\n",
       "        [0., 0., 0., ..., 0., 0., 0.]])"
      ]
     },
     "execution_count": 31,
     "metadata": {},
     "output_type": "execute_result"
    }
   ],
   "source": [
    "X_train_tfidf"
   ]
  },
  {
   "cell_type": "code",
   "execution_count": 32,
   "metadata": {
    "colab": {
     "base_uri": "https://localhost:8080/",
     "height": 1000
    },
    "executionInfo": {
     "elapsed": 109406,
     "status": "ok",
     "timestamp": 1642102375811,
     "user": {
      "displayName": "Alexandre Lima Santiago de Pinho",
      "photoUrl": "https://lh3.googleusercontent.com/a/default-user=s64",
      "userId": "08604687895817407219"
     },
     "user_tz": 180
    },
    "id": "2uMTISpzvK3c",
    "outputId": "26bf8121-d575-445d-df2a-2b8c1cd70c5e"
   },
   "outputs": [
    {
     "name": "stdout",
     "output_type": "stream",
     "text": [
      "Model      : Logistic Regression\n",
      "Accuracy   : 0.8607 \n",
      "Precision  : 0.8615 \n",
      "Recall     : 0.8607 \n",
      "F1 - Score : 0.8607 \n",
      "ROC - AUC  : 0.8610 \n",
      "======================\n",
      "Model      : Decision Tree\n",
      "Accuracy   : 0.7173 \n",
      "Precision  : 0.7176 \n",
      "Recall     : 0.7173 \n",
      "F1 - Score : 0.7173 \n",
      "ROC - AUC  : 0.7175 \n",
      "======================\n",
      "Model      : Random Forest\n",
      "Accuracy   : 0.8440 \n",
      "Precision  : 0.8440 \n",
      "Recall     : 0.8440 \n",
      "F1 - Score : 0.8440 \n",
      "ROC - AUC  : 0.8439 \n",
      "======================\n",
      "Model      : AdaBoost\n",
      "Accuracy   : 0.8000 \n",
      "Precision  : 0.8004 \n",
      "Recall     : 0.8000 \n",
      "F1 - Score : 0.8000 \n",
      "ROC - AUC  : 0.8002 \n",
      "======================\n"
     ]
    },
    {
     "data": {
      "image/png": "[encoded data removed]",
      "text/plain": [
       "<Figure size 432x288 with 1 Axes>"
      ]
     },
     "metadata": {
      "needs_background": "light"
     },
     "output_type": "display_data"
    }
   ],
   "source": [
    "test_models_plot_roc_auc_curve(list_models,\n",
    "                               \"model_name\",\n",
    "                               \"estimator\",\n",
    "                               X_train_tfidf,\n",
    "                               X_test_tfidf,\n",
    "                               y_train,\n",
    "                               y_test)"
   ]
  },
  {
   "cell_type": "markdown",
   "metadata": {
    "id": "8T6VQJ-YvK3c"
   },
   "source": [
    "##  "
   ]
  },
  {
   "cell_type": "markdown",
   "metadata": {},
   "source": [
    "# Word Embedding"
   ]
  },
  {
   "cell_type": "markdown",
   "metadata": {},
   "source": [
    "O __word Embedding__ é uma técnica bem interessante e mais avançada em NLP, consiste em não só utlizar as frequências das palavras como visto no __CountVectorizer__ e __TF-IDF__, mas nesse caso leva em consideração todo o contexto do texto analisado, montando uma mapa de características de determinada palavra que podemos representar como um vetor (multidimensional).<br>\n",
    "<br>\n",
    "Existem diversos modelos de __Word Embedding__, onde daremos uma atenção especial para o __Word2Vec__.\n",
    "\n",
    "<br><br>\n",
    "## Word2Vec\n",
    "\n",
    "O __word2Vec__ é uma arquitetura de _Word Embeddings_ que utliza duas arquiteturas de redes neurais para fazer a transformação entre as palavras e contexto em um vetor de características (Não se preocupem ainda não vamos entrar na questão da rede neural em si).As arquiteturas que compôe o __Word2Vec__ são:\n",
    "\n",
    "- __CBOW__ (__Continuous Bag of Words__): Consiste de um modelo tenta predizer a palavra alvo (ou palavra central) a partir de palavras vizinhas (ou também chamado de palavras de contexto) dentro de uma janela de quantas palavras de contexto serão utilizadas. Por exemplo:"
   ]
  },
  {
   "cell_type": "code",
   "execution_count": 33,
   "metadata": {},
   "outputs": [
    {
     "name": "stdout",
     "output_type": "stream",
     "text": [
      "Hoje vai fazer sol pela manhã com pancadas de chuva a tarde\n",
      "\n",
      "Predições a partir das palavras de contexto - janela = 2 palavras:\n",
      "([Hoje, fazer], vai)\n",
      "([vai, sol], fazer)\n",
      "([fazer, pela], sol)\n",
      "([sol, manhã], pela)\n",
      "([pela, com], manhã)\n",
      "([manhã, pancadas], com)\n",
      "([com, de], pancadas)\n",
      "([pancadas, chuva], de)\n",
      "([de, a], chuva)\n",
      "([chuva, tarde], a)\n"
     ]
    }
   ],
   "source": [
    "# Imagine a frase a seguir\n",
    "print(\"Hoje vai fazer sol pela manhã com pancadas de chuva a tarde\\n\")\n",
    "\n",
    "# Para uma janela de 2 palavras de contexto e seguindo a notação ([palavras de contexto], palavra alvo), temos que:\n",
    "print(\"Predições a partir das palavras de contexto - janela = 2 palavras:\")\n",
    "print(\"([Hoje, fazer], vai)\")\n",
    "print(\"([vai, sol], fazer)\")\n",
    "print(\"([fazer, pela], sol)\")\n",
    "print(\"([sol, manhã], pela)\")\n",
    "print(\"([pela, com], manhã)\")\n",
    "print(\"([manhã, pancadas], com)\")\n",
    "print(\"([com, de], pancadas)\")\n",
    "print(\"([pancadas, chuva], de)\")\n",
    "print(\"([de, a], chuva)\")\n",
    "print(\"([chuva, tarde], a)\")"
   ]
  },
  {
   "cell_type": "markdown",
   "metadata": {},
   "source": [
    "- __Skip-Gram__: Seria o processo inverso ao _CBOW_, onde a partir da palavra alvo, o modelo tanta predizer as palavras de contexto (vizinhas). Exemplo:"
   ]
  },
  {
   "cell_type": "code",
   "execution_count": 34,
   "metadata": {},
   "outputs": [
    {
     "name": "stdout",
     "output_type": "stream",
     "text": [
      "Predições a partir das palavra alvo:\n",
      "(vai, [Hoje, fazer])\n",
      "(fazer, [vai, sol])\n",
      "(sol, [fazer, pela])\n",
      "(pela, [sol, manhã])\n",
      "(manhã, [pela, com])\n",
      "(com, [manhã, pancadas])\n",
      "(pancadas, [com, de])\n",
      "(de, [pancadas, chuva])\n",
      "(chuva, [de, a])\n",
      "(a, [chuva, tarde])\n"
     ]
    }
   ],
   "source": [
    "# Para uma janela de 2 palavras de contexto e seguindo a notação ([palavras de contexto], palavra alvo), temos que:\n",
    "print(\"Predições a partir das palavra alvo:\")\n",
    "print(\"(vai, [Hoje, fazer])\")\n",
    "print(\"(fazer, [vai, sol])\")\n",
    "print(\"(sol, [fazer, pela])\")\n",
    "print(\"(pela, [sol, manhã])\")\n",
    "print(\"(manhã, [pela, com])\")\n",
    "print(\"(com, [manhã, pancadas])\")\n",
    "print(\"(pancadas, [com, de])\")\n",
    "print(\"(de, [pancadas, chuva])\")\n",
    "print(\"(chuva, [de, a])\")\n",
    "print(\"(a, [chuva, tarde])\")"
   ]
  },
  {
   "cell_type": "markdown",
   "metadata": {},
   "source": [
    "Então a partir da combinação dessas duas arquiteturas que o modelo consegue montar o vetor de características para cada uma das palavras e conseguimos fazer algumas aplicações por similaridade."
   ]
  },
  {
   "cell_type": "code",
   "execution_count": 4,
   "metadata": {},
   "outputs": [
    {
     "name": "stdout",
     "output_type": "stream",
     "text": [
      "Collecting gensim\n",
      "  Downloading gensim-4.1.2-cp39-cp39-win_amd64.whl (24.0 MB)\n",
      "Requirement already satisfied: scipy>=0.18.1 in c:\\users\\sandro.saorin\\anaconda3\\lib\\site-packages (from gensim) (1.7.1)\n",
      "Collecting smart-open>=1.8.1\n",
      "  Downloading smart_open-5.2.1-py3-none-any.whl (58 kB)\n",
      "Requirement already satisfied: numpy>=1.17.0 in c:\\users\\sandro.saorin\\anaconda3\\lib\\site-packages (from gensim) (1.20.3)\n",
      "Collecting Cython==0.29.23\n",
      "  Downloading Cython-0.29.23-cp39-cp39-win_amd64.whl (1.7 MB)\n",
      "Installing collected packages: smart-open, Cython, gensim\n",
      "  Attempting uninstall: Cython\n",
      "    Found existing installation: Cython 0.29.24\n",
      "    Uninstalling Cython-0.29.24:\n",
      "      Successfully uninstalled Cython-0.29.24\n",
      "Successfully installed Cython-0.29.23 gensim-4.1.2 smart-open-5.2.1\n"
     ]
    }
   ],
   "source": [
    "# instalando o gensim\n",
    "!pip install gensim"
   ]
  },
  {
   "cell_type": "code",
   "execution_count": 35,
   "metadata": {},
   "outputs": [],
   "source": [
    "from gensim.models import Word2Vec"
   ]
  },
  {
   "cell_type": "code",
   "execution_count": 36,
   "metadata": {
    "id": "S1SS7IHovK3W"
   },
   "outputs": [],
   "source": [
    "movies_sample2 = movies.sample(frac=0.002, replace=False)"
   ]
  },
  {
   "cell_type": "code",
   "execution_count": 37,
   "metadata": {
    "colab": {
     "base_uri": "https://localhost:8080/"
    },
    "executionInfo": {
     "elapsed": 254,
     "status": "ok",
     "timestamp": 1642102009747,
     "user": {
      "displayName": "Alexandre Lima Santiago de Pinho",
      "photoUrl": "https://lh3.googleusercontent.com/a/default-user=s64",
      "userId": "08604687895817407219"
     },
     "user_tz": 180
    },
    "id": "z_TtikRNvK3W",
    "outputId": "6edcf161-ad2c-42a5-8717-09aaa5ff86a0"
   },
   "outputs": [
    {
     "data": {
      "text/plain": [
       "(100, 2)"
      ]
     },
     "execution_count": 37,
     "metadata": {},
     "output_type": "execute_result"
    }
   ],
   "source": [
    "movies_sample2.shape"
   ]
  },
  {
   "cell_type": "markdown",
   "metadata": {
    "id": "sWTp65uzvK3W"
   },
   "source": [
    "Agora iremos aplicar o nosso processamento dos textos:"
   ]
  },
  {
   "cell_type": "code",
   "execution_count": 38,
   "metadata": {
    "id": "rptbThYTvK3W"
   },
   "outputs": [],
   "source": [
    "movies_sample2[\"filtered_words\"] = movies_sample2['text'].apply(lambda x: preprocessing(x))\n",
    "\n",
    "# Normalmente depois do processamento juntamos as palavras novamente em uma só string\n",
    "\n",
    "movies_sample2['join_words'] = movies_sample2['filtered_words'].apply(lambda x: ' '.join(x))"
   ]
  },
  {
   "cell_type": "code",
   "execution_count": 39,
   "metadata": {
    "id": "bs7kQjBrvK3X",
    "outputId": "1326a036-c09a-45d1-fead-d851cb443c16"
   },
   "outputs": [
    {
     "data": {
      "text/html": [
       "<div>\n",
       "<style scoped>\n",
       "    .dataframe tbody tr th:only-of-type {\n",
       "        vertical-align: middle;\n",
       "    }\n",
       "\n",
       "    .dataframe tbody tr th {\n",
       "        vertical-align: top;\n",
       "    }\n",
       "\n",
       "    .dataframe thead th {\n",
       "        text-align: right;\n",
       "    }\n",
       "</style>\n",
       "<table border=\"1\" class=\"dataframe\">\n",
       "  <thead>\n",
       "    <tr style=\"text-align: right;\">\n",
       "      <th></th>\n",
       "      <th>text</th>\n",
       "      <th>label</th>\n",
       "      <th>filtered_words</th>\n",
       "      <th>join_words</th>\n",
       "    </tr>\n",
       "  </thead>\n",
       "  <tbody>\n",
       "    <tr>\n",
       "      <th>2466</th>\n",
       "      <td>Arthur Askey's great skill as a comic was in t...</td>\n",
       "      <td>0</td>\n",
       "      <td>[arthur, askey, great, skill, comic, way, comm...</td>\n",
       "      <td>arthur askey great skill comic way commun publ...</td>\n",
       "    </tr>\n",
       "    <tr>\n",
       "      <th>20487</th>\n",
       "      <td>Another in the they don't make em like that ca...</td>\n",
       "      <td>1</td>\n",
       "      <td>[anoth, make, em, like, categori, stori, famil...</td>\n",
       "      <td>anoth make em like categori stori famili real ...</td>\n",
       "    </tr>\n",
       "    <tr>\n",
       "      <th>33236</th>\n",
       "      <td>I think that my favorite part of this movie, t...</td>\n",
       "      <td>0</td>\n",
       "      <td>[think, favorit, part, movi, one, exemplifi, s...</td>\n",
       "      <td>think favorit part movi one exemplifi sheer po...</td>\n",
       "    </tr>\n",
       "    <tr>\n",
       "      <th>13608</th>\n",
       "      <td>If it wasn't for the performances of Barry Dia...</td>\n",
       "      <td>0</td>\n",
       "      <td>[perform, barri, diamond, art, evan, clueless,...</td>\n",
       "      <td>perform barri diamond art evan clueless stoner...</td>\n",
       "    </tr>\n",
       "    <tr>\n",
       "      <th>25402</th>\n",
       "      <td>Disregard the plot and enjoy Fred Astaire doin...</td>\n",
       "      <td>1</td>\n",
       "      <td>[disregard, plot, enjoy, fred, astair, foggi, ...</td>\n",
       "      <td>disregard plot enjoy fred astair foggi day sev...</td>\n",
       "    </tr>\n",
       "  </tbody>\n",
       "</table>\n",
       "</div>"
      ],
      "text/plain": [
       "                                                    text  label  \\\n",
       "2466   Arthur Askey's great skill as a comic was in t...      0   \n",
       "20487  Another in the they don't make em like that ca...      1   \n",
       "33236  I think that my favorite part of this movie, t...      0   \n",
       "13608  If it wasn't for the performances of Barry Dia...      0   \n",
       "25402  Disregard the plot and enjoy Fred Astaire doin...      1   \n",
       "\n",
       "                                          filtered_words  \\\n",
       "2466   [arthur, askey, great, skill, comic, way, comm...   \n",
       "20487  [anoth, make, em, like, categori, stori, famil...   \n",
       "33236  [think, favorit, part, movi, one, exemplifi, s...   \n",
       "13608  [perform, barri, diamond, art, evan, clueless,...   \n",
       "25402  [disregard, plot, enjoy, fred, astair, foggi, ...   \n",
       "\n",
       "                                              join_words  \n",
       "2466   arthur askey great skill comic way commun publ...  \n",
       "20487  anoth make em like categori stori famili real ...  \n",
       "33236  think favorit part movi one exemplifi sheer po...  \n",
       "13608  perform barri diamond art evan clueless stoner...  \n",
       "25402  disregard plot enjoy fred astair foggi day sev...  "
      ]
     },
     "execution_count": 39,
     "metadata": {},
     "output_type": "execute_result"
    }
   ],
   "source": [
    "movies_sample2.head()"
   ]
  },
  {
   "cell_type": "code",
   "execution_count": 46,
   "metadata": {},
   "outputs": [
    {
     "data": {
      "text/plain": [
       "<PandasArray>\n",
       "[                                                                                                                                                                                                                                                                                                                                                                                                                                                                                                                                                                                                                                                                                                                                                                                                                                                                                                                                                                                                                                                                                                                                                                                                                                                                                                                                                                ['ingrid', 'bergman', 'temporarili', 'impoverish', 'polish', 'countess', 'pari', 'find', 'pursu', 'franc', 'popular', 'gener', 'glamor', 'count', 'top', 'engag', 'shoe', 'magnat', 'failproof', 'premis', 'entrain', 'one', 'deliri', 'plot', 'movi', 'histori', 'backroom', 'polit', 'machin', 'gener', 'handler', 'down', 'balloonist', 'ecstat', 'bastil', 'day', 'throng', 'heart', 'gorgeous', 'photograph', 'film', 'frantic', 'upstair', 'downstair', 'intrigu', 'involv', 'randi', 'servant', 'slightli', 'restrain', 'aristocrat', 'ye', 'rule', 'game', 'redux', 'even', 'gaston', 'modot', 'jealou', 'gamekeep', 'rule', 'put', 'appear', 'gypsi', 'capo', 'less', 'thing', 'happen', 'littl', 'thick', 'fast', 'toward', 'end', 'result', 'confus', 'non', 'french', 'speaker', 'heck', 'elena', 'men', 'anoth', 'deepli', 'human', 'renoir', 'masterpiec'],\n",
       "                                                                                                                                                                                                                                                                                                                                                                                                                                                                                                                                                                                                                                                                                                                                                                                                                                                                                                                                                                                                                                                                                                                                                                                                                                                                                                                                                                                                                                                                                                                                                                                                                           ['seen', 'begin', 'muppet', 'movi', 'half', 'watch', 'mr', 'kelli', 'friend', 'hous', 'song', 'best', 'muppet', 'hilari', 'learn', 'believ', 'end', 'rainbow', 'anyon', 'make', 'matter', 'small', 'matter', 'green', 'includ', 'trailer', 'br', 'br', 'kermit', 'favorit', 'protagonist', 'mean', 'describ', 'main', 'charact', 'muppet', 'mel', 'brook', 'amaz', 'play', 'professor', 'max', 'krassman', 'scene', 'miss', 'piggi', 'save', 'kermit', 'kung', 'fu', 'guy', 'cool', 'br', 'br', 'muppet', 'movi', 'best', 'jim', 'henson', 'film', 'hilari', 'charact', 'peopl', 'cherish', 'success', 'film'],\n",
       "                                                                                                                                                                                                                                                                                                                                                                                                                                                                                                                                                                                                                                                                                                                                                                                                                                                                                                                                                                                                                                                                                                                                          ['femal', 'convict', 'scorpion', 'beast', 'stabl', 'third', 'seri', 'magnific', 'piec', 'pulp', 'sleaz', 'closer', 'tone', 'subject', 'nikkatsu', 'violent', 'pinker', 'scorpion', 'entri', 'stunningli', 'photograph', 'direct', 'lurid', 'enthusiasm', 'popul', 'rogu', 'galleri', 'villain', 'degener', 'shinya', 'ito', 'director', 'first', 'instal', 'return', 'surreal', 'fabl', 'begin', 'scorpion', 'meiko', 'kaji', 'cut', 'arm', 'cop', 'handcuf', 'flee', 'tokyo', 'subway', 'said', 'arm', 'still', 'swing', 'wrist', 'take', 'refug', 'red', 'light', 'district', 'befriend', 'prostitut', 'first', 'seen', 'seen', 'incestu', 'intercours', 'brother', 'end', 'impregn', 'scorpion', 'desir', 'protect', 'unfortun', 'woman', 'eventu', 'expos', 'ident', 'hell', 'break', 'loos', 'beaten', 'sexual', 'assault', 'lock', 'insid', 'bizarr', 'bird', 'cage', 'villain', 'lair', 'love', 'everyth', 'hypnot', 'nihilist', 'emot', 'touch', 'movi', 'superior', 'three', 'first', 'scorpion', 'film', 'featur', 'one', 'great', 'scene', 'anoth', 'recommend', 'highli', 'enough'],\n",
       "                                                                                                                                                                                                                                                                                                                                                                                                                                                                                                                                                                                                                                                                                                                                                                                                                                                                                                                                                                                                                                                                                                                                                                                                                                                                                                                                                                                                                                                                                                                                 ['talk', 'act', 'govinda', 'also', 'salman', 'lara', 'direct', 'aw', 'first', 'half', 'hour', 'would', 'pretti', 'much', 'want', 'switch', 'movi', 'movi', 'real', 'stinker', 'mark', 'word', 'br', 'br', 'like', 'govinda', 'comedi', 'role', 'like', 'haseena', 'maan', 'jaayegi', 'jodi', 'akhiyon', 'se', 'goli', 'maar', 'ji', 'desh', 'mein', 'ganga', 'rehta', 'hai', 'compar', 'salman', 'khan', 'comedi', 'role', 'suck', 'know', 'comedi', 'good', 'comedi', 'role', 'andaz', 'apna', 'apna', 'brilliant', 'next', 'amir', 'khan', 'br', 'br', 'mani', 'overli', 'done', 'stupidli', 'unfunni', 'scene', 'movi', 'make', 'want', 'take', 'dvd', 'burn', 'one', 'els', 'hous', 'watch', 'ever'],\n",
       "                                                                                                                                                                                                                                                                                                                                                                                                                                                                                                                                                                                                                                                                                                                                                                                                                                                                                                                                                                                                                                                                                                                                                                                                                                                                                                                                                                                                                                                                                                                                                                                                                  ['joe', 'rogan', 'whole', 'act', 'profan', 'lace', 'bile', 'pot', 'smoker', 'enter', 'fear', 'factor', 'think', 'joke', 'said', 'would', 'egg', 'peopl', 'know', 'stupid', 'peopl', 'go', 'produc', 'show', 'explain', 'go', 'premis', 'play', 'prank', 'unsuspect', 'contest', 'see', 'far', 'go', 'level', 'evil', 'involv', 'littl', 'twist', 'mr', 'rogan', 'special', 'fill', 'rant', 'someon', 'good', 'regular', 'human', 'be', 'found', 'offens', 'stuff', 'heard', 'talent', 'comedian', 'eddi', 'murphi', 'chri', 'rock', 'rogan', 'even', 'five', 'minut', 'set', 'n', 'word', 'overal', 'ignor', 'special'],\n",
       " ['never', 'read', 'sarah', 'water', 'novel', 'watch', 'tip', 'velvet', 'heard', 'fingersmith', 'flip', 'l', 'word', 'websit', 'storylin', 'fingersmith', 'interest', 'yet', 'pass', 'away', 'think', 'lesbian', 'victorian', 'period', 'never', 'end', 'well', 'enough', 'lesbo', 'seri', 'movi', 'go', 'br', 'br', 'howev', 'christma', 'local', 'dvd', 'store', 'gave', 'fingersmith', 'discount', 'brought', 'dvd', 'life', 'never', 'colour', 'br', 'br', 'mini', 'seri', 'deserv', 'cherish', 'prais', 'act', 'great', 'call', 'rare', 'salli', 'hawkin', 'elain', 'cassidi', 'rupert', 'evan', 'imelda', 'staunton', 'mani', 'name', 'brought', 'light', 'dark', 'charact', 'littl', 'gestur', 'littl', 'look', 'littl', 'touch', 'made', 'charact', 'real', 'viewer', 'help', 'take', 'home', 'keep', 'close', 'br', 'br', 'fingersmith', 'set', 'victorian', 'area', 'stori', 'sue', 'thief', 'love', 'live', 'famili', 'pick', 'pocket', 'littl', 'know', 'fate', 'link', 'maud', 'lili', 'somewhat', 'shi', 'timid', 'girl', 'grow', 'mansion', 'mile', 'mile', 'away', 'maud', 'mother', 'left', 'fortun', 'maud', 'touch', 'unless', 'marri', 'worst', 'maud', 'uncl', 'make', 'sure', 'never', 'keep', 'prison', 'hous', 'br', 'br', 'enter', 'mr', 'gentlement', 'charm', 'good', 'look', 'thief', 'heart', 'bad', 'want', 'maud', 'fortun', 'order', 'set', 'sue', 'maud', 'lili', 'maid', 'ask', 'sue', 'persuad', 'maud', 'elop', 'time', 'goe', 'thing', 'would', 'simpl', 'sue', 'fall', 'love', 'maud', 'br', 'br', 'thing', 'would', 'simpl', 'stori', 'told', 'wish', 'spoil', 'would', 'like', 'stop', 'asur', 'everyth', 'twist', 'turn', 'even', 'awar', 'happen', 'happen', 'question', 'would', 'happen', 'next', 'top', 'stori', 'fill', 'passion', 'unlik', 'other', 'self', 'search', 'sexual', 'question', 'oh', 'god', 'like', 'girl', 'moment', 'girl', 'fingersmith', 'buri', 'deep', 'dark', 'bare', 'abl', 'care', 'stori', 'twist', 'plot', 'move', 'smooth', 'water', 'run', 'passion', 'strang', 'calm', 'br', 'br', 'week', 'pass', 'sinc', 'watch', 'fingersmith', 'yet', 'maud', 'eye', 'still', 'haunt', 'sue', 'word', 'still', 'warm', 'heart', 'pearl', 'pearl', 'pearl', 'said', 'pearl'],\n",
       "                                                                                                                                                                                                                                                                                                                                                                                                                                                                                                                                                                                                                                                                                                                                                                                                                                                                                                                                                                                                                                                                                                                                                                                                                                                                                                                                                                                                                                                                                                                                                                            ['movi', 'potenti', 'handl', 'differ', 'need', 'differ', 'director', 'certain', 'perhap', 'differ', 'lead', 'ladi', 'understand', 'minni', 'driver', 'charact', 'least', 'play', 'complet', 'unbeliev', 'believ', 'would', 'like', 'perform', 'movi', 'either', 'probabl', 'abandon', 'director', 'incap', 'deliv', 'director', 'tri', 'get', 'write', 'still', 'watch', 'think', 'would', 'hate', 'shoe', 'tri', 'act', 'someth', 'understand', 'well', 'proceed', 'affair', 'begin', 'son', 'still', 'watch', 'begin', 'profoundli', 'embarrass', 'everyon', 'involv', 'enterpris', 'enjoy', 'watch', 'movi', 'miss', 'mark', 'big', 'way', 'watch', 'one'],\n",
       "                                                                                                                                                                                                                                                                                                                                                                                                                                                                                                                                                                                                                                                                                                                                                                                                                                                                                                                                                                                                                                                                                                                                                                                                                                                                                                                                                                                                                                                                                                     ['even', 'wors', 'origin', 'game', 'death', 'jumbl', 'incoher', 'storylin', 'lead', 'billi', 'lo', 'fall', 'helicopt', 'ground', 'kill', 'left', 'follow', 'younger', 'brother', 'bobbi', 'lo', 'start', 'follow', 'bruce', 'lee', 'clone', 'film', 'kill', 'one', 'us', 'follow', 'anoth', 'one', 'thirti', 'minut', 'stori', 'main', 'reason', 'watch', 'one', 'bobbi', 'lo', 'fight', 'lion', 'quit', 'obvious', 'guy', 'lion', 'costum', 'jang', 'lee', 'hwang', 'also', 'villain', 'usual', 'pretti', 'awesom', 'screen', 'time', 'significantli', 'small', 'mainli', 'watch', 'origin', 'game', 'death', 'part', 'bruce', 'lee', 'box', 'set', 'wonder', 'includ', 'lee', 'finish', 'work', 'one', 'would', 'buy', 'otherwis'],\n",
       "                                                                                                                                                                                                                                                                                                                                                                                                                                                                                                                                                                                                                                                                                                                                                                                                                                                                                                                                                                                                                                                                                                                                                                                                                                                                                                                                                                                                                                                                                                                                                                                                                                                                                   ['wow', 'love', 'movi', 'film', 'fill', 'plot', 'twist', 'good', 'act', 'great', 'stori', 'surpris', 'end', 'complet', 'honest', 'movi', 'overli', 'gori', 'contain', 'gore', 'though', 'psycholog', 'side', 'read', 'internet', 'film', 'cost', 'dollar', 'shoot', 'day', 'amaz', 'someon', 'want', 'think', 'love', 'great', 'film', 'make', 'start', 'terror', 'thriller', 'slowli', 'transform', 'someth', 'bit', 'twist', 'even', 'bit', 'sinist', 'much', 'say', 'without', 'give', 'away', 'plot', 'point', 'movi', 'went', 'beyond', 'expect'],\n",
       "                                                                                                                                                                                                                                                                                                                                                                                                                                                                                                                                                                                                                                                                                                                                                                                                                                                                                                                                                                                      ['exactli', 'point', 'pretend', 'con', 'peopl', 'thing', 'like', 'ski', 'pass', 'pizza', 'fail', 'see', 'point', 'clever', 'origin', 'strike', 'extrem', 'pointless', 'br', 'br', 'skyler', 'stone', 'seem', 'earth', 'even', 'nice', 'guy', 'littl', 'charisma', 'anyon', 'could', 'show', 'br', 'br', 'wors', 'thing', 'piec', 'crap', 'fact', 'lot', 'phone', 'call', 'reenact', 'appar', 'con', 'poor', 'peopl', 'end', 'phone', 'also', 'con', 'audienc', 'enough', 'time', 'read', 'disclaim', 'flicker', 'across', 'screen', 'half', 'second', 'begin', 'end', 'show', 'br', 'br', 'also', 'claim', 'live', 'whole', 'life', 'lie', 'one', 'could', 'live', 'live', 'like', 'fact', 'say', 'yet', 'anoth', 'con', 'get', 'show', 'watch', 'also', 'one', 'fabric', 'blatant', 'piec', 'bull', 'hit', 'ever', 'heard', 'guy', 'br', 'br', 'make', 'think', 'go', 'troubl', 'exampl', 'write', 'record', 'song', 'get', 'someon', 'pain', 'huge', 'pictur', 'two', 'mate', 'get', 'danc', 'lesson', 'actual', 'travel', 'ski', 'resort', 'actual', 'worth', 'get', 'free', 'ski', 'pass', 'food', 'free', 'point', 'aw', 'lot', 'troubl', 'go', 'ski', 'pass', 'bit', 'snow', 'br', 'br', 'far', 'comedi', 'goe', 'bottom', 'barrel', 'stuff']]\n",
       "Length: 10, dtype: object"
      ]
     },
     "execution_count": 46,
     "metadata": {},
     "output_type": "execute_result"
    }
   ],
   "source": [
    "movies_sample['filtered_words'][:10].array"
   ]
  },
  {
   "cell_type": "code",
   "execution_count": 68,
   "metadata": {},
   "outputs": [],
   "source": [
    "sentences = movies_sample['filtered_words'][:3].array"
   ]
  },
  {
   "cell_type": "code",
   "execution_count": 69,
   "metadata": {},
   "outputs": [],
   "source": [
    "model = Word2Vec(sentences, min_count=1)"
   ]
  },
  {
   "cell_type": "code",
   "execution_count": 70,
   "metadata": {},
   "outputs": [
    {
     "name": "stdout",
     "output_type": "stream",
     "text": [
      "Word2Vec(vocab=225, vector_size=100, alpha=0.025)\n"
     ]
    }
   ],
   "source": [
    "print(model)"
   ]
  },
  {
   "cell_type": "code",
   "execution_count": 71,
   "metadata": {},
   "outputs": [
    {
     "data": {
      "text/plain": [
       "['scorpion',\n",
       " 'movi',\n",
       " 'br',\n",
       " 'film',\n",
       " 'muppet',\n",
       " 'end',\n",
       " 'seen',\n",
       " 'first',\n",
       " 'matter',\n",
       " 'one',\n",
       " 'villain',\n",
       " 'rule',\n",
       " 'arm',\n",
       " 'charact',\n",
       " 'photograph',\n",
       " 'anoth',\n",
       " 'begin',\n",
       " 'kermit',\n",
       " 'gener',\n",
       " 'best',\n",
       " 'hilari',\n",
       " 'scene',\n",
       " 'gypsi',\n",
       " 'thick',\n",
       " 'french',\n",
       " 'non',\n",
       " 'confus',\n",
       " 'result',\n",
       " 'trailer',\n",
       " 'toward',\n",
       " 'fast',\n",
       " 'littl',\n",
       " 'anyon',\n",
       " 'happen',\n",
       " 'speaker',\n",
       " 'appear',\n",
       " 'rainbow',\n",
       " 'thing',\n",
       " 'less',\n",
       " 'capo',\n",
       " 'song',\n",
       " 'believ',\n",
       " 'hous',\n",
       " 'includ',\n",
       " 'friend',\n",
       " 'kelli',\n",
       " 'mr',\n",
       " 'watch',\n",
       " 'small',\n",
       " 'half',\n",
       " 'green',\n",
       " 'put',\n",
       " 'heck',\n",
       " 'masterpiec',\n",
       " 'renoir',\n",
       " 'human',\n",
       " 'make',\n",
       " 'learn',\n",
       " 'men',\n",
       " 'elena',\n",
       " 'deepli',\n",
       " 'enough',\n",
       " 'gamekeep',\n",
       " 'machin',\n",
       " 'backroom',\n",
       " 'histori',\n",
       " 'plot',\n",
       " 'deliri',\n",
       " 'entrain',\n",
       " 'premis',\n",
       " 'failproof',\n",
       " 'magnat',\n",
       " 'shoe',\n",
       " 'engag',\n",
       " 'top',\n",
       " 'count',\n",
       " 'glamor',\n",
       " 'popular',\n",
       " 'franc',\n",
       " 'pursu',\n",
       " 'find',\n",
       " 'pari',\n",
       " 'countess',\n",
       " 'polish',\n",
       " 'impoverish',\n",
       " 'temporarili',\n",
       " 'bergman',\n",
       " 'polit',\n",
       " 'handler',\n",
       " 'jealou',\n",
       " 'down',\n",
       " 'modot',\n",
       " 'favorit',\n",
       " 'even',\n",
       " 'redux',\n",
       " 'game',\n",
       " 'ye',\n",
       " 'aristocrat',\n",
       " 'restrain',\n",
       " 'slightli',\n",
       " 'servant',\n",
       " 'randi',\n",
       " 'involv',\n",
       " 'intrigu',\n",
       " 'downstair',\n",
       " 'upstair',\n",
       " 'frantic',\n",
       " 'gorgeous',\n",
       " 'heart',\n",
       " 'throng',\n",
       " 'day',\n",
       " 'bastil',\n",
       " 'ecstat',\n",
       " 'balloonist',\n",
       " 'gaston',\n",
       " 'main',\n",
       " 'protagonist',\n",
       " 'red',\n",
       " 'unfortun',\n",
       " 'protect',\n",
       " 'desir',\n",
       " 'impregn',\n",
       " 'brother',\n",
       " 'intercours',\n",
       " 'incestu',\n",
       " 'prostitut',\n",
       " 'befriend',\n",
       " 'district',\n",
       " 'light',\n",
       " 'refug',\n",
       " 'meiko',\n",
       " 'take',\n",
       " 'wrist',\n",
       " 'swing',\n",
       " 'still',\n",
       " 'said',\n",
       " 'subway',\n",
       " 'tokyo',\n",
       " 'flee',\n",
       " 'handcuf',\n",
       " 'cop',\n",
       " 'cut',\n",
       " 'woman',\n",
       " 'eventu',\n",
       " 'expos',\n",
       " 'ident',\n",
       " 'recommend',\n",
       " 'great',\n",
       " 'featur',\n",
       " 'three',\n",
       " 'superior',\n",
       " 'touch',\n",
       " 'emot',\n",
       " 'nihilist',\n",
       " 'hypnot',\n",
       " 'everyth',\n",
       " 'love',\n",
       " 'lair',\n",
       " 'cage',\n",
       " 'bird',\n",
       " 'bizarr',\n",
       " 'insid',\n",
       " 'lock',\n",
       " 'assault',\n",
       " 'sexual',\n",
       " 'beaten',\n",
       " 'loos',\n",
       " 'break',\n",
       " 'hell',\n",
       " 'kaji',\n",
       " 'fabl',\n",
       " 'mean',\n",
       " 'kung',\n",
       " 'beast',\n",
       " 'convict',\n",
       " 'femal',\n",
       " 'success',\n",
       " 'cherish',\n",
       " 'peopl',\n",
       " 'henson',\n",
       " 'jim',\n",
       " 'cool',\n",
       " 'guy',\n",
       " 'fu',\n",
       " 'save',\n",
       " 'surreal',\n",
       " 'piggi',\n",
       " 'miss',\n",
       " 'krassman',\n",
       " 'max',\n",
       " 'professor',\n",
       " 'play',\n",
       " 'amaz',\n",
       " 'brook',\n",
       " 'mel',\n",
       " 'highli',\n",
       " 'describ',\n",
       " 'stabl',\n",
       " 'third',\n",
       " 'seri',\n",
       " 'magnific',\n",
       " 'return',\n",
       " 'instal',\n",
       " 'director',\n",
       " 'ito',\n",
       " 'shinya',\n",
       " 'degener',\n",
       " 'galleri',\n",
       " 'rogu',\n",
       " 'popul',\n",
       " 'enthusiasm',\n",
       " 'lurid',\n",
       " 'direct',\n",
       " 'stunningli',\n",
       " 'entri',\n",
       " 'pinker',\n",
       " 'violent',\n",
       " 'nikkatsu',\n",
       " 'subject',\n",
       " 'tone',\n",
       " 'closer',\n",
       " 'sleaz',\n",
       " 'pulp',\n",
       " 'piec',\n",
       " 'ingrid']"
      ]
     },
     "execution_count": 71,
     "metadata": {},
     "output_type": "execute_result"
    }
   ],
   "source": [
    "# Sumarizando o Vocabulario\n",
    "words = list(model.wv.index_to_key)\n",
    "words"
   ]
  },
  {
   "cell_type": "code",
   "execution_count": 73,
   "metadata": {},
   "outputs": [
    {
     "name": "stdout",
     "output_type": "stream",
     "text": [
      "[('surreal', 0.2657181918621063), ('thing', 0.24859844148159027), ('gamekeep', 0.23208896815776825), ('touch', 0.22617430984973907), ('nihilist', 0.22449493408203125), ('non', 0.20516452193260193), ('seen', 0.1916402280330658), ('mel', 0.1897554099559784), ('put', 0.1837090104818344), ('learn', 0.18066935241222382)]\n"
     ]
    }
   ],
   "source": [
    "print(model.wv.most_similar('closer'))"
   ]
  },
  {
   "cell_type": "code",
   "execution_count": 74,
   "metadata": {},
   "outputs": [],
   "source": [
    "X = model.wv[words]"
   ]
  },
  {
   "cell_type": "code",
   "execution_count": 75,
   "metadata": {},
   "outputs": [],
   "source": [
    "from sklearn.decomposition import PCA"
   ]
  },
  {
   "cell_type": "code",
   "execution_count": 76,
   "metadata": {},
   "outputs": [],
   "source": [
    "pca = PCA(n_components = 2, random_state = 42)\n",
    "result = pca.fit_transform(X)"
   ]
  },
  {
   "cell_type": "code",
   "execution_count": 78,
   "metadata": {
    "scrolled": false
   },
   "outputs": [
    {
     "data": {
      "image/png": "[encoded data removed]",
      "text/plain": [
       "<Figure size 1152x864 with 1 Axes>"
      ]
     },
     "metadata": {
      "needs_background": "light"
     },
     "output_type": "display_data"
    }
   ],
   "source": [
    "plt.figure(figsize=(16, 12))\n",
    "\n",
    "plt.scatter(result[:, 0], result[:, 1])\n",
    "\n",
    "for i, word in enumerate(words):\n",
    "    plt.annotate(word, xy=(result[i, 0], result[i, 1]))\n",
    "    \n",
    "plt.show()"
   ]
  },
  {
   "cell_type": "markdown",
   "metadata": {},
   "source": [
    "## "
   ]
  },
  {
   "cell_type": "markdown",
   "metadata": {},
   "source": [
    "### Quantas componentes precisamos do PCA para ter um nível de confiança dos dados?"
   ]
  },
  {
   "cell_type": "code",
   "execution_count": 81,
   "metadata": {},
   "outputs": [
    {
     "data": {
      "image/png": "[encoded data removed]",
      "text/plain": [
       "<Figure size 576x360 with 1 Axes>"
      ]
     },
     "metadata": {
      "needs_background": "light"
     },
     "output_type": "display_data"
    }
   ],
   "source": [
    "# Pca sem setar a quantidade de componentes\n",
    "pca = PCA().fit(X)\n",
    "\n",
    "# plot da curva\n",
    "plt.figure(figsize=(8,5))\n",
    "\n",
    "# numero de componentes\n",
    "ncomp = np.arange(1, np.shape(X)[1]+1)\n",
    "\n",
    "# Plot\n",
    "plt.plot(ncomp, np.cumsum(pca.explained_variance_ratio_), 'ro-')\n",
    "plt.xlabel('Número de Componentes', fontsize=20)\n",
    "plt.ylabel('Variância Acumulada', fontsize=20);\n",
    "plt.xticks(color='k', size=20)\n",
    "plt.yticks(color='k', size=20)\n",
    "plt.grid()\n",
    "plt.show()"
   ]
  },
  {
   "cell_type": "markdown",
   "metadata": {},
   "source": [
    "## "
   ]
  },
  {
   "cell_type": "markdown",
   "metadata": {
    "id": "zLFfMhksvK3c"
   },
   "source": [
    "## Exercícios"
   ]
  },
  {
   "cell_type": "markdown",
   "metadata": {
    "id": "yawR-PoKvK3d"
   },
   "source": [
    "**1)** Utilizando os dados de tweets vamos avaliar com modelos de Machine Learning se os tweets são de desastres ou não. Essa base é um dataset conhecido do Kaggle, onde vocês podem ter mais detalhes [clicando aqui](https://www.kaggle.com/c/nlp-getting-started/overview)."
   ]
  },
  {
   "cell_type": "code",
   "execution_count": null,
   "metadata": {
    "id": "yc2q3H-lvK3d"
   },
   "outputs": [],
   "source": []
  },
  {
   "cell_type": "code",
   "execution_count": null,
   "metadata": {
    "id": "YlUAv8KMvK3d"
   },
   "outputs": [],
   "source": []
  },
  {
   "cell_type": "code",
   "execution_count": null,
   "metadata": {
    "id": "BnmlFvH3vK3d"
   },
   "outputs": [],
   "source": []
  }
 ],
 "metadata": {
  "colab": {
   "name": "Aula 12.1 - Bag of Words.ipynb",
   "provenance": []
  },
  "kernelspec": {
   "display_name": "Python 3 (ipykernel)",
   "language": "python",
   "name": "python3"
  },
  "language_info": {
   "codemirror_mode": {
    "name": "ipython",
    "version": 3
   },
   "file_extension": ".py",
   "mimetype": "text/x-python",
   "name": "python",
   "nbconvert_exporter": "python",
   "pygments_lexer": "ipython3",
   "version": "3.9.6"
  }
 },
 "nbformat": 4,
 "nbformat_minor": 1
}
