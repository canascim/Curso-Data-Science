{
 "cells": [
  {
   "cell_type": "markdown",
   "metadata": {
    "id": "m49XRXNFtljW"
   },
   "source": [
    "<img src=\"data:image/jpeg;base64,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\" width=1000>"
   ]
  },
  {
   "cell_type": "markdown",
   "metadata": {
    "id": "reW0Nqy-tljg"
   },
   "source": [
    "# 09 - Tópicos Avançados de Machine Learning II\n",
    "\n",
    "Nessa aula, iremos tratar dos seguintes conteúdos:\n",
    "- Escolha de Hiperparâmetros (tunagem de Modelos);\n",
    "- Bases Desbalanceadas."
   ]
  },
  {
   "cell_type": "markdown",
   "metadata": {
    "id": "2N2MVr09tljg"
   },
   "source": [
    "##   "
   ]
  },
  {
   "cell_type": "markdown",
   "metadata": {
    "id": "a2i1zaPVtljh"
   },
   "source": [
    "## Escolha de Hiperparâmetros\n",
    "\n",
    "Vamos ver na aula de hoje, como aprimorarmos os nosso modelo, onde já temos um modelo __baseline__ e uma __certa métrica__ com __boa performance__, mas vamos buscar refinar ainda mais a __escolha de parâmetros__ de forma a verificar se com outra combinações de parâmetros, se é possível __otimizar a performance do modelo__.<br><br>\n",
    "\n",
    "### Entendendo os Hiperparâmetros\n",
    "\n",
    "Antes de partimos para as técnicas de escolha de hiperparâmetros e otimização do nosso modelo, vamos começar entendendo que tipos de parâmetros temos disponíveis. No exemplo veremos os principais parâmetros de __modelos de Árvores__, mais especificamente no __RandomForest__:"
   ]
  },
  {
   "cell_type": "code",
   "execution_count": 1,
   "metadata": {
    "executionInfo": {
     "elapsed": 1670,
     "status": "ok",
     "timestamp": 1645650164743,
     "user": {
      "displayName": "Alexandre Belisário Duarte Leite de Andrade",
      "photoUrl": "https://lh3.googleusercontent.com/a/default-user=s64",
      "userId": "06422495712914238666"
     },
     "user_tz": 180
    },
    "id": "mcjhi5p7tlji"
   },
   "outputs": [],
   "source": [
    "import pandas as pd\n",
    "import numpy as np\n",
    "import seaborn as sns\n",
    "import matplotlib.pyplot as plt\n",
    "from pprint import pprint\n",
    "\n",
    "from sklearn.ensemble import RandomForestClassifier"
   ]
  },
  {
   "cell_type": "code",
   "execution_count": 2,
   "metadata": {
    "executionInfo": {
     "elapsed": 6,
     "status": "ok",
     "timestamp": 1645650164743,
     "user": {
      "displayName": "Alexandre Belisário Duarte Leite de Andrade",
      "photoUrl": "https://lh3.googleusercontent.com/a/default-user=s64",
      "userId": "06422495712914238666"
     },
     "user_tz": 180
    },
    "id": "T-7-8B9ftljj"
   },
   "outputs": [],
   "source": [
    "model = RandomForestClassifier(random_state=42)"
   ]
  },
  {
   "cell_type": "code",
   "execution_count": 4,
   "metadata": {
    "colab": {
     "base_uri": "https://localhost:8080/"
    },
    "executionInfo": {
     "elapsed": 288,
     "status": "ok",
     "timestamp": 1645650169605,
     "user": {
      "displayName": "Alexandre Belisário Duarte Leite de Andrade",
      "photoUrl": "https://lh3.googleusercontent.com/a/default-user=s64",
      "userId": "06422495712914238666"
     },
     "user_tz": 180
    },
    "id": "TWGpShiQtljk",
    "outputId": "4dbb53ef-61d5-46bf-ea06-eba3f5568646"
   },
   "outputs": [
    {
     "name": "stdout",
     "output_type": "stream",
     "text": [
      "'Parâmetros da RandomForest:'\n",
      "{'bootstrap': True,\n",
      " 'ccp_alpha': 0.0,\n",
      " 'class_weight': None,\n",
      " 'criterion': 'gini',\n",
      " 'max_depth': None,\n",
      " 'max_features': 'auto',\n",
      " 'max_leaf_nodes': None,\n",
      " 'max_samples': None,\n",
      " 'min_impurity_decrease': 0.0,\n",
      " 'min_samples_leaf': 1,\n",
      " 'min_samples_split': 2,\n",
      " 'min_weight_fraction_leaf': 0.0,\n",
      " 'n_estimators': 100,\n",
      " 'n_jobs': None,\n",
      " 'oob_score': False,\n",
      " 'random_state': 42,\n",
      " 'verbose': 0,\n",
      " 'warm_start': False}\n"
     ]
    }
   ],
   "source": [
    "pprint(\"Parâmetros da RandomForest:\")\n",
    "pprint(model.get_params())"
   ]
  },
  {
   "cell_type": "markdown",
   "metadata": {
    "id": "pOdniOePtljl"
   },
   "source": [
    "Vamos enttender o significado dos parâmtetros que vamos mexer:\n",
    "\n",
    "- __n_estimators__: São o número de árvores utilizada na floresta aleatória;\n",
    "- __criterion__: O Critério de cálculo para a separação dos nós (onde vimos o 'gini' e a 'entropy');\n",
    "- __max_depth__: Profundidade máxima da árvore;\n",
    "- __min_samples_split__: Quantidade mínima de dados em um nó antes da separação nas folhas;\n",
    "- __min_samples_leaf__: Quantidade mínima de dados em uma folha após a separação."
   ]
  },
  {
   "cell_type": "markdown",
   "metadata": {
    "id": "Xzrp-8ewtljm"
   },
   "source": [
    "##   "
   ]
  },
  {
   "cell_type": "markdown",
   "metadata": {
    "id": "ziLIKmUMtljm"
   },
   "source": [
    "## Técnicas de Otimização"
   ]
  },
  {
   "cell_type": "markdown",
   "metadata": {
    "id": "mwEOF1-Ztljn"
   },
   "source": [
    "Hoje iremos trabalhar com duas técnicas de otimização de modelos bem conhecidas e largamente utilizadas que são o __GridSearchCV__ e o __RandomizedSearchCV__:\n",
    "\n",
    "### GridsearchCV\n",
    "\n",
    "O GridSearchCV é uma técnica onde determinado os parâmetros que queremos testar no nosso modelo, ele vai __testar todas as combinações de cada um dos parâmetros__ e realizar um __Cross Validation__ para cada combinações e calcular uma dada métrica. A combinação que apresentar o __melhor desempenho da métrica__ será a __combinação otimizada__ para o nosso modelo <br><br>\n",
    "\n",
    "__Importante!:__ Perceba que treinar __todas as combinações possíveis__ vai decorrer de um custo computacional muito alto, dessa forma apesar de ser a técnica mais utilizada, não é a melhor técnica a ser aplicada.\n",
    "\n",
    "### RandomizedSearchCV\n",
    "\n",
    "A ideia por trás do RandomizedSearchCV é análoga ao GridSearchCV, mas ao invés de testar todas as combinações de parâmetros, o RandomizedSearchCV testa __algumas combinações aleatórias dos parâmetros__, onde definimos a quantidade de iterações desse processo ele irá processar. A partir das combinações, o RandomizedSearchCV realiza o mesmo processo do GridSearchCV, faz o __Cross Validation__ e __calcula a métrica de acompanhamento__, por fim defini qual a melhor combinação de parâmetros.\n",
    "\n",
    "<img src=\"https://media.springernature.com/original/springer-static/image/chp%3A10.1007%2F978-3-030-05318-5_1/MediaObjects/453309_1_En_1_Fig1_HTML.png\" width=800>"
   ]
  },
  {
   "cell_type": "markdown",
   "metadata": {
    "id": "D4o8aMGUtljo"
   },
   "source": [
    "Vamos voltar no exercício para a qualidade do vinho tinto no dataset _winequality-red.csv_:"
   ]
  },
  {
   "cell_type": "code",
   "execution_count": 5,
   "metadata": {
    "colab": {
     "base_uri": "https://localhost:8080/",
     "height": 329
    },
    "executionInfo": {
     "elapsed": 689,
     "status": "error",
     "timestamp": 1645650177436,
     "user": {
      "displayName": "Alexandre Belisário Duarte Leite de Andrade",
      "photoUrl": "https://lh3.googleusercontent.com/a/default-user=s64",
      "userId": "06422495712914238666"
     },
     "user_tz": 180
    },
    "id": "y20zxmjEtljo",
    "outputId": "dd03fb66-0919-43aa-fb59-6acb23c40ebb"
   },
   "outputs": [
    {
     "ename": "FileNotFoundError",
     "evalue": "ignored",
     "output_type": "error",
     "traceback": [
      "\u001b[0;31m---------------------------------------------------------------------------\u001b[0m",
      "\u001b[0;31mFileNotFoundError\u001b[0m                         Traceback (most recent call last)",
      "\u001b[0;32m<ipython-input-5-0d47864475ea>\u001b[0m in \u001b[0;36m<module>\u001b[0;34m()\u001b[0m\n\u001b[0;32m----> 1\u001b[0;31m \u001b[0mwine\u001b[0m \u001b[0;34m=\u001b[0m \u001b[0mpd\u001b[0m\u001b[0;34m.\u001b[0m\u001b[0mread_csv\u001b[0m\u001b[0;34m(\u001b[0m\u001b[0;34m'./datasets/winequality-red.csv'\u001b[0m\u001b[0;34m)\u001b[0m\u001b[0;34m\u001b[0m\u001b[0;34m\u001b[0m\u001b[0m\n\u001b[0m\u001b[1;32m      2\u001b[0m \u001b[0mwine\u001b[0m\u001b[0;34m.\u001b[0m\u001b[0mhead\u001b[0m\u001b[0;34m(\u001b[0m\u001b[0;34m)\u001b[0m\u001b[0;34m\u001b[0m\u001b[0;34m\u001b[0m\u001b[0m\n",
      "\u001b[0;32m/usr/local/lib/python3.7/dist-packages/pandas/util/_decorators.py\u001b[0m in \u001b[0;36mwrapper\u001b[0;34m(*args, **kwargs)\u001b[0m\n\u001b[1;32m    309\u001b[0m                     \u001b[0mstacklevel\u001b[0m\u001b[0;34m=\u001b[0m\u001b[0mstacklevel\u001b[0m\u001b[0;34m,\u001b[0m\u001b[0;34m\u001b[0m\u001b[0;34m\u001b[0m\u001b[0m\n\u001b[1;32m    310\u001b[0m                 )\n\u001b[0;32m--> 311\u001b[0;31m             \u001b[0;32mreturn\u001b[0m \u001b[0mfunc\u001b[0m\u001b[0;34m(\u001b[0m\u001b[0;34m*\u001b[0m\u001b[0margs\u001b[0m\u001b[0;34m,\u001b[0m \u001b[0;34m**\u001b[0m\u001b[0mkwargs\u001b[0m\u001b[0;34m)\u001b[0m\u001b[0;34m\u001b[0m\u001b[0;34m\u001b[0m\u001b[0m\n\u001b[0m\u001b[1;32m    312\u001b[0m \u001b[0;34m\u001b[0m\u001b[0m\n\u001b[1;32m    313\u001b[0m         \u001b[0;32mreturn\u001b[0m \u001b[0mwrapper\u001b[0m\u001b[0;34m\u001b[0m\u001b[0;34m\u001b[0m\u001b[0m\n",
      "\u001b[0;32m/usr/local/lib/python3.7/dist-packages/pandas/io/parsers/readers.py\u001b[0m in \u001b[0;36mread_csv\u001b[0;34m(filepath_or_buffer, sep, delimiter, header, names, index_col, usecols, squeeze, prefix, mangle_dupe_cols, dtype, engine, converters, true_values, false_values, skipinitialspace, skiprows, skipfooter, nrows, na_values, keep_default_na, na_filter, verbose, skip_blank_lines, parse_dates, infer_datetime_format, keep_date_col, date_parser, dayfirst, cache_dates, iterator, chunksize, compression, thousands, decimal, lineterminator, quotechar, quoting, doublequote, escapechar, comment, encoding, encoding_errors, dialect, error_bad_lines, warn_bad_lines, on_bad_lines, delim_whitespace, low_memory, memory_map, float_precision, storage_options)\u001b[0m\n\u001b[1;32m    584\u001b[0m     \u001b[0mkwds\u001b[0m\u001b[0;34m.\u001b[0m\u001b[0mupdate\u001b[0m\u001b[0;34m(\u001b[0m\u001b[0mkwds_defaults\u001b[0m\u001b[0;34m)\u001b[0m\u001b[0;34m\u001b[0m\u001b[0;34m\u001b[0m\u001b[0m\n\u001b[1;32m    585\u001b[0m \u001b[0;34m\u001b[0m\u001b[0m\n\u001b[0;32m--> 586\u001b[0;31m     \u001b[0;32mreturn\u001b[0m \u001b[0m_read\u001b[0m\u001b[0;34m(\u001b[0m\u001b[0mfilepath_or_buffer\u001b[0m\u001b[0;34m,\u001b[0m \u001b[0mkwds\u001b[0m\u001b[0;34m)\u001b[0m\u001b[0;34m\u001b[0m\u001b[0;34m\u001b[0m\u001b[0m\n\u001b[0m\u001b[1;32m    587\u001b[0m \u001b[0;34m\u001b[0m\u001b[0m\n\u001b[1;32m    588\u001b[0m \u001b[0;34m\u001b[0m\u001b[0m\n",
      "\u001b[0;32m/usr/local/lib/python3.7/dist-packages/pandas/io/parsers/readers.py\u001b[0m in \u001b[0;36m_read\u001b[0;34m(filepath_or_buffer, kwds)\u001b[0m\n\u001b[1;32m    480\u001b[0m \u001b[0;34m\u001b[0m\u001b[0m\n\u001b[1;32m    481\u001b[0m     \u001b[0;31m# Create the parser.\u001b[0m\u001b[0;34m\u001b[0m\u001b[0;34m\u001b[0m\u001b[0;34m\u001b[0m\u001b[0m\n\u001b[0;32m--> 482\u001b[0;31m     \u001b[0mparser\u001b[0m \u001b[0;34m=\u001b[0m \u001b[0mTextFileReader\u001b[0m\u001b[0;34m(\u001b[0m\u001b[0mfilepath_or_buffer\u001b[0m\u001b[0;34m,\u001b[0m \u001b[0;34m**\u001b[0m\u001b[0mkwds\u001b[0m\u001b[0;34m)\u001b[0m\u001b[0;34m\u001b[0m\u001b[0;34m\u001b[0m\u001b[0m\n\u001b[0m\u001b[1;32m    483\u001b[0m \u001b[0;34m\u001b[0m\u001b[0m\n\u001b[1;32m    484\u001b[0m     \u001b[0;32mif\u001b[0m \u001b[0mchunksize\u001b[0m \u001b[0;32mor\u001b[0m \u001b[0miterator\u001b[0m\u001b[0;34m:\u001b[0m\u001b[0;34m\u001b[0m\u001b[0;34m\u001b[0m\u001b[0m\n",
      "\u001b[0;32m/usr/local/lib/python3.7/dist-packages/pandas/io/parsers/readers.py\u001b[0m in \u001b[0;36m__init__\u001b[0;34m(self, f, engine, **kwds)\u001b[0m\n\u001b[1;32m    809\u001b[0m             \u001b[0mself\u001b[0m\u001b[0;34m.\u001b[0m\u001b[0moptions\u001b[0m\u001b[0;34m[\u001b[0m\u001b[0;34m\"has_index_names\"\u001b[0m\u001b[0;34m]\u001b[0m \u001b[0;34m=\u001b[0m \u001b[0mkwds\u001b[0m\u001b[0;34m[\u001b[0m\u001b[0;34m\"has_index_names\"\u001b[0m\u001b[0;34m]\u001b[0m\u001b[0;34m\u001b[0m\u001b[0;34m\u001b[0m\u001b[0m\n\u001b[1;32m    810\u001b[0m \u001b[0;34m\u001b[0m\u001b[0m\n\u001b[0;32m--> 811\u001b[0;31m         \u001b[0mself\u001b[0m\u001b[0;34m.\u001b[0m\u001b[0m_engine\u001b[0m \u001b[0;34m=\u001b[0m \u001b[0mself\u001b[0m\u001b[0;34m.\u001b[0m\u001b[0m_make_engine\u001b[0m\u001b[0;34m(\u001b[0m\u001b[0mself\u001b[0m\u001b[0;34m.\u001b[0m\u001b[0mengine\u001b[0m\u001b[0;34m)\u001b[0m\u001b[0;34m\u001b[0m\u001b[0;34m\u001b[0m\u001b[0m\n\u001b[0m\u001b[1;32m    812\u001b[0m \u001b[0;34m\u001b[0m\u001b[0m\n\u001b[1;32m    813\u001b[0m     \u001b[0;32mdef\u001b[0m \u001b[0mclose\u001b[0m\u001b[0;34m(\u001b[0m\u001b[0mself\u001b[0m\u001b[0;34m)\u001b[0m\u001b[0;34m:\u001b[0m\u001b[0;34m\u001b[0m\u001b[0;34m\u001b[0m\u001b[0m\n",
      "\u001b[0;32m/usr/local/lib/python3.7/dist-packages/pandas/io/parsers/readers.py\u001b[0m in \u001b[0;36m_make_engine\u001b[0;34m(self, engine)\u001b[0m\n\u001b[1;32m   1038\u001b[0m             )\n\u001b[1;32m   1039\u001b[0m         \u001b[0;31m# error: Too many arguments for \"ParserBase\"\u001b[0m\u001b[0;34m\u001b[0m\u001b[0;34m\u001b[0m\u001b[0;34m\u001b[0m\u001b[0m\n\u001b[0;32m-> 1040\u001b[0;31m         \u001b[0;32mreturn\u001b[0m \u001b[0mmapping\u001b[0m\u001b[0;34m[\u001b[0m\u001b[0mengine\u001b[0m\u001b[0;34m]\u001b[0m\u001b[0;34m(\u001b[0m\u001b[0mself\u001b[0m\u001b[0;34m.\u001b[0m\u001b[0mf\u001b[0m\u001b[0;34m,\u001b[0m \u001b[0;34m**\u001b[0m\u001b[0mself\u001b[0m\u001b[0;34m.\u001b[0m\u001b[0moptions\u001b[0m\u001b[0;34m)\u001b[0m  \u001b[0;31m# type: ignore[call-arg]\u001b[0m\u001b[0;34m\u001b[0m\u001b[0;34m\u001b[0m\u001b[0m\n\u001b[0m\u001b[1;32m   1041\u001b[0m \u001b[0;34m\u001b[0m\u001b[0m\n\u001b[1;32m   1042\u001b[0m     \u001b[0;32mdef\u001b[0m \u001b[0m_failover_to_python\u001b[0m\u001b[0;34m(\u001b[0m\u001b[0mself\u001b[0m\u001b[0;34m)\u001b[0m\u001b[0;34m:\u001b[0m\u001b[0;34m\u001b[0m\u001b[0;34m\u001b[0m\u001b[0m\n",
      "\u001b[0;32m/usr/local/lib/python3.7/dist-packages/pandas/io/parsers/c_parser_wrapper.py\u001b[0m in \u001b[0;36m__init__\u001b[0;34m(self, src, **kwds)\u001b[0m\n\u001b[1;32m     49\u001b[0m \u001b[0;34m\u001b[0m\u001b[0m\n\u001b[1;32m     50\u001b[0m         \u001b[0;31m# open handles\u001b[0m\u001b[0;34m\u001b[0m\u001b[0;34m\u001b[0m\u001b[0;34m\u001b[0m\u001b[0m\n\u001b[0;32m---> 51\u001b[0;31m         \u001b[0mself\u001b[0m\u001b[0;34m.\u001b[0m\u001b[0m_open_handles\u001b[0m\u001b[0;34m(\u001b[0m\u001b[0msrc\u001b[0m\u001b[0;34m,\u001b[0m \u001b[0mkwds\u001b[0m\u001b[0;34m)\u001b[0m\u001b[0;34m\u001b[0m\u001b[0;34m\u001b[0m\u001b[0m\n\u001b[0m\u001b[1;32m     52\u001b[0m         \u001b[0;32massert\u001b[0m \u001b[0mself\u001b[0m\u001b[0;34m.\u001b[0m\u001b[0mhandles\u001b[0m \u001b[0;32mis\u001b[0m \u001b[0;32mnot\u001b[0m \u001b[0;32mNone\u001b[0m\u001b[0;34m\u001b[0m\u001b[0;34m\u001b[0m\u001b[0m\n\u001b[1;32m     53\u001b[0m \u001b[0;34m\u001b[0m\u001b[0m\n",
      "\u001b[0;32m/usr/local/lib/python3.7/dist-packages/pandas/io/parsers/base_parser.py\u001b[0m in \u001b[0;36m_open_handles\u001b[0;34m(self, src, kwds)\u001b[0m\n\u001b[1;32m    227\u001b[0m             \u001b[0mmemory_map\u001b[0m\u001b[0;34m=\u001b[0m\u001b[0mkwds\u001b[0m\u001b[0;34m.\u001b[0m\u001b[0mget\u001b[0m\u001b[0;34m(\u001b[0m\u001b[0;34m\"memory_map\"\u001b[0m\u001b[0;34m,\u001b[0m \u001b[0;32mFalse\u001b[0m\u001b[0;34m)\u001b[0m\u001b[0;34m,\u001b[0m\u001b[0;34m\u001b[0m\u001b[0;34m\u001b[0m\u001b[0m\n\u001b[1;32m    228\u001b[0m             \u001b[0mstorage_options\u001b[0m\u001b[0;34m=\u001b[0m\u001b[0mkwds\u001b[0m\u001b[0;34m.\u001b[0m\u001b[0mget\u001b[0m\u001b[0;34m(\u001b[0m\u001b[0;34m\"storage_options\"\u001b[0m\u001b[0;34m,\u001b[0m \u001b[0;32mNone\u001b[0m\u001b[0;34m)\u001b[0m\u001b[0;34m,\u001b[0m\u001b[0;34m\u001b[0m\u001b[0;34m\u001b[0m\u001b[0m\n\u001b[0;32m--> 229\u001b[0;31m             \u001b[0merrors\u001b[0m\u001b[0;34m=\u001b[0m\u001b[0mkwds\u001b[0m\u001b[0;34m.\u001b[0m\u001b[0mget\u001b[0m\u001b[0;34m(\u001b[0m\u001b[0;34m\"encoding_errors\"\u001b[0m\u001b[0;34m,\u001b[0m \u001b[0;34m\"strict\"\u001b[0m\u001b[0;34m)\u001b[0m\u001b[0;34m,\u001b[0m\u001b[0;34m\u001b[0m\u001b[0;34m\u001b[0m\u001b[0m\n\u001b[0m\u001b[1;32m    230\u001b[0m         )\n\u001b[1;32m    231\u001b[0m \u001b[0;34m\u001b[0m\u001b[0m\n",
      "\u001b[0;32m/usr/local/lib/python3.7/dist-packages/pandas/io/common.py\u001b[0m in \u001b[0;36mget_handle\u001b[0;34m(path_or_buf, mode, encoding, compression, memory_map, is_text, errors, storage_options)\u001b[0m\n\u001b[1;32m    705\u001b[0m                 \u001b[0mencoding\u001b[0m\u001b[0;34m=\u001b[0m\u001b[0mioargs\u001b[0m\u001b[0;34m.\u001b[0m\u001b[0mencoding\u001b[0m\u001b[0;34m,\u001b[0m\u001b[0;34m\u001b[0m\u001b[0;34m\u001b[0m\u001b[0m\n\u001b[1;32m    706\u001b[0m                 \u001b[0merrors\u001b[0m\u001b[0;34m=\u001b[0m\u001b[0merrors\u001b[0m\u001b[0;34m,\u001b[0m\u001b[0;34m\u001b[0m\u001b[0;34m\u001b[0m\u001b[0m\n\u001b[0;32m--> 707\u001b[0;31m                 \u001b[0mnewline\u001b[0m\u001b[0;34m=\u001b[0m\u001b[0;34m\"\"\u001b[0m\u001b[0;34m,\u001b[0m\u001b[0;34m\u001b[0m\u001b[0;34m\u001b[0m\u001b[0m\n\u001b[0m\u001b[1;32m    708\u001b[0m             )\n\u001b[1;32m    709\u001b[0m         \u001b[0;32melse\u001b[0m\u001b[0;34m:\u001b[0m\u001b[0;34m\u001b[0m\u001b[0;34m\u001b[0m\u001b[0m\n",
      "\u001b[0;31mFileNotFoundError\u001b[0m: [Errno 2] No such file or directory: './datasets/winequality-red.csv'"
     ]
    }
   ],
   "source": [
    "wine = pd.read_csv('./datasets/winequality-red.csv')\n",
    "wine.head()"
   ]
  },
  {
   "cell_type": "code",
   "execution_count": null,
   "metadata": {
    "id": "rg_Kd4antljo"
   },
   "outputs": [],
   "source": [
    "wine['target'] = np.where(wine['quality'] > 5, 1, 0)"
   ]
  },
  {
   "cell_type": "code",
   "execution_count": null,
   "metadata": {
    "id": "OAykrEBxtljp"
   },
   "outputs": [],
   "source": [
    "X = wine.drop(['quality', 'target'], axis = 1)"
   ]
  },
  {
   "cell_type": "code",
   "execution_count": null,
   "metadata": {
    "id": "6x7i9vsEtljp"
   },
   "outputs": [],
   "source": [
    "X.head()"
   ]
  },
  {
   "cell_type": "code",
   "execution_count": null,
   "metadata": {
    "id": "3UH-j8aitljq"
   },
   "outputs": [],
   "source": [
    "y = wine['target']"
   ]
  },
  {
   "cell_type": "code",
   "execution_count": null,
   "metadata": {
    "id": "tfxUjsRotljq",
    "scrolled": true
   },
   "outputs": [],
   "source": [
    "y.value_counts(normalize = True)"
   ]
  },
  {
   "cell_type": "code",
   "execution_count": null,
   "metadata": {
    "id": "DKazTLAOtljq"
   },
   "outputs": [],
   "source": [
    "from sklearn.model_selection import train_test_split\n",
    "\n",
    "X_train, X_test, y_train, y_test = train_test_split(X, \n",
    "                                                    y, \n",
    "                                                    test_size=0.3, \n",
    "                                                    random_state=42,\n",
    "                                                    stratify = y)"
   ]
  },
  {
   "cell_type": "code",
   "execution_count": null,
   "metadata": {
    "id": "g2gV9D7ptljr"
   },
   "outputs": [],
   "source": [
    "model.fit(X_train, y_train)"
   ]
  },
  {
   "cell_type": "code",
   "execution_count": null,
   "metadata": {
    "id": "iyKNTRPytljr"
   },
   "outputs": [],
   "source": [
    "y_pred = model.predict(X_test)"
   ]
  },
  {
   "cell_type": "code",
   "execution_count": null,
   "metadata": {
    "id": "TPzwJCVStljr"
   },
   "outputs": [],
   "source": [
    "from sklearn.metrics import accuracy_score\n",
    "print(accuracy_score(y_test, y_pred))"
   ]
  },
  {
   "cell_type": "code",
   "execution_count": null,
   "metadata": {
    "id": "XUt7S-FXtljs"
   },
   "outputs": [],
   "source": [
    "acc = accuracy_score(y_test, y_pred)"
   ]
  },
  {
   "cell_type": "markdown",
   "metadata": {
    "id": "k4BgeIN-tljs"
   },
   "source": [
    "Para fazermos tanto o __GridSearchCV__ quanto o __RandomizedSearchCV__ vamos definir os __parâmetros__ que vamos variar e para quais valores vamos testar:"
   ]
  },
  {
   "cell_type": "code",
   "execution_count": null,
   "metadata": {
    "id": "iglR1uDctljs"
   },
   "outputs": [],
   "source": [
    "# Number of trees in random forest\n",
    "n_estimators = [int(x) for x in np.linspace(start = 100, stop = 2000, num = 5)]\n",
    "\n",
    "# Maximum number of levels in tree\n",
    "max_depth = [int(x) for x in np.linspace(10, 100, num = 5)]\n",
    "max_depth.append(None)\n",
    "\n",
    "# Minimum number of samples required to split a node\n",
    "min_samples_split = [2, 5, 10]\n",
    "\n",
    "# Minimum number of samples required at each leaf node\n",
    "min_samples_leaf = [1, 2, 4]\n",
    "\n",
    "# Create the random grid\n",
    "params_grid = {'n_estimators': n_estimators,\n",
    "               'max_depth': max_depth,\n",
    "               'min_samples_split': min_samples_split,\n",
    "               'min_samples_leaf': min_samples_leaf}\n",
    "\n",
    "pprint(params_grid)"
   ]
  },
  {
   "cell_type": "markdown",
   "metadata": {
    "id": "NA5XItWHtljs"
   },
   "source": [
    "__Obs.:__ Lembrando que o __GridSearchCV__ vai testar todas as combinações, ou seja teremos 6 x 3 x 3 x 5 = 270 combinações de parâmetros! Além da quantidade de splits (__cv__) que precisamos passar para o __Cross Validation__. Por isso é muito fácil escalonar rápidamente o custo computacional do nosso modelo!"
   ]
  },
  {
   "cell_type": "markdown",
   "metadata": {
    "id": "Z7W_0Z-atljt"
   },
   "source": [
    "Aplicando primeiramente o GridSearchCV:"
   ]
  },
  {
   "cell_type": "code",
   "execution_count": null,
   "metadata": {
    "id": "jVAFYY9stljt"
   },
   "outputs": [],
   "source": [
    "from sklearn.model_selection import GridSearchCV"
   ]
  },
  {
   "cell_type": "code",
   "execution_count": null,
   "metadata": {
    "id": "ukJ911lEtljt"
   },
   "outputs": [],
   "source": [
    "grid_search = GridSearchCV(estimator = model, \n",
    "                           param_grid = params_grid, \n",
    "                           scoring='accuracy', \n",
    "                           cv = 3, \n",
    "                           verbose = 2,\n",
    "                           n_jobs = -1)"
   ]
  },
  {
   "cell_type": "code",
   "execution_count": null,
   "metadata": {
    "id": "ibOuDkzftljt",
    "scrolled": true
   },
   "outputs": [],
   "source": [
    "%%time\n",
    "\n",
    "grid_search.fit(X_train, y_train)"
   ]
  },
  {
   "cell_type": "code",
   "execution_count": null,
   "metadata": {
    "id": "tWECi_Z8tljt",
    "scrolled": false
   },
   "outputs": [],
   "source": [
    "print(grid_search.cv_results_['mean_test_score'].mean())"
   ]
  },
  {
   "cell_type": "code",
   "execution_count": null,
   "metadata": {
    "id": "0A_RoXCBtlju"
   },
   "outputs": [],
   "source": [
    "grid_search.best_params_"
   ]
  },
  {
   "cell_type": "code",
   "execution_count": null,
   "metadata": {
    "id": "juRDzbYmtlju"
   },
   "outputs": [],
   "source": [
    "# Lista de combinações de parâmetros\n",
    "cvs = pd.DataFrame(grid_search.cv_results_)\n",
    "display(cvs)"
   ]
  },
  {
   "cell_type": "code",
   "execution_count": null,
   "metadata": {
    "id": "ZCpQ35VItlju"
   },
   "outputs": [],
   "source": [
    "model_gs = RandomForestClassifier(max_depth = 32,\n",
    "                                  min_samples_leaf = 1,\n",
    "                                  min_samples_split = 5,\n",
    "                                  n_estimators = 100,\n",
    "                                  random_state = 42)"
   ]
  },
  {
   "cell_type": "code",
   "execution_count": null,
   "metadata": {
    "id": "7KGMKL_ctlju"
   },
   "outputs": [],
   "source": [
    "model_gs.fit(X_train, y_train)"
   ]
  },
  {
   "cell_type": "code",
   "execution_count": null,
   "metadata": {
    "id": "4LvDM9uZtljv"
   },
   "outputs": [],
   "source": [
    "y_pred_gs = model_gs.predict(X_test)"
   ]
  },
  {
   "cell_type": "code",
   "execution_count": null,
   "metadata": {
    "id": "huylWZz7tljv"
   },
   "outputs": [],
   "source": [
    "print(accuracy_score(y_test, y_pred_gs))"
   ]
  },
  {
   "cell_type": "code",
   "execution_count": null,
   "metadata": {
    "id": "k6nj6aCftljv"
   },
   "outputs": [],
   "source": [
    "acc_grid = accuracy_score(y_test, y_pred_gs)"
   ]
  },
  {
   "cell_type": "markdown",
   "metadata": {
    "id": "z9W3bDmJtljv"
   },
   "source": [
    "Aplicando agora o __RandomizedSearchCV__:"
   ]
  },
  {
   "cell_type": "code",
   "execution_count": null,
   "metadata": {
    "id": "PiBLF8b2tljv"
   },
   "outputs": [],
   "source": [
    "from sklearn.model_selection import RandomizedSearchCV"
   ]
  },
  {
   "cell_type": "code",
   "execution_count": null,
   "metadata": {
    "id": "lVOKt4JDtljw"
   },
   "outputs": [],
   "source": [
    "model = RandomForestClassifier(random_state = 42)"
   ]
  },
  {
   "cell_type": "code",
   "execution_count": null,
   "metadata": {
    "id": "7_tEUcTYtljw"
   },
   "outputs": [],
   "source": [
    "random_search = RandomizedSearchCV(estimator = model, \n",
    "                                   param_distributions = params_grid, \n",
    "                                   n_iter = 100, \n",
    "                                   cv = 3, \n",
    "                                   verbose=2,\n",
    "                                   n_jobs = -1)"
   ]
  },
  {
   "cell_type": "code",
   "execution_count": null,
   "metadata": {
    "id": "0xlBlU5Itljw",
    "scrolled": true
   },
   "outputs": [],
   "source": [
    "%%time\n",
    "\n",
    "random_search.fit(X_train, y_train)"
   ]
  },
  {
   "cell_type": "code",
   "execution_count": null,
   "metadata": {
    "id": "54FZJtcStljw"
   },
   "outputs": [],
   "source": [
    "print(random_search.cv_results_['mean_test_score'].mean())"
   ]
  },
  {
   "cell_type": "code",
   "execution_count": null,
   "metadata": {
    "id": "Q8toj-yqtljw"
   },
   "outputs": [],
   "source": [
    "random_search.best_params_"
   ]
  },
  {
   "cell_type": "code",
   "execution_count": null,
   "metadata": {
    "id": "JjxrUk6Dtljw"
   },
   "outputs": [],
   "source": [
    "model_rs = RandomForestClassifier(max_depth = 32,\n",
    "                                  min_samples_leaf = 2,\n",
    "                                  min_samples_split = 2,\n",
    "                                  n_estimators = 1100,\n",
    "                                  random_state = 42)"
   ]
  },
  {
   "cell_type": "code",
   "execution_count": null,
   "metadata": {
    "id": "tdzP2TaOtljx"
   },
   "outputs": [],
   "source": [
    "model_rs.fit(X_train, y_train)"
   ]
  },
  {
   "cell_type": "code",
   "execution_count": null,
   "metadata": {
    "id": "yUUtWnxdtljx"
   },
   "outputs": [],
   "source": [
    "y_pred_rs = model_rs.predict(X_test)"
   ]
  },
  {
   "cell_type": "code",
   "execution_count": null,
   "metadata": {
    "id": "6GnCQaD_tljx"
   },
   "outputs": [],
   "source": [
    "print(accuracy_score(y_test, y_pred_rs))"
   ]
  },
  {
   "cell_type": "code",
   "execution_count": null,
   "metadata": {
    "id": "tuJ-W31xtljx"
   },
   "outputs": [],
   "source": [
    "acc_random = accuracy_score(y_test, y_pred_rs)"
   ]
  },
  {
   "cell_type": "code",
   "execution_count": null,
   "metadata": {
    "id": "DrkQ9GFntljx",
    "scrolled": true
   },
   "outputs": [],
   "source": [
    "print(\"Comparação das Acurácias: \")\n",
    "print('Acurácia sem Otimização:         ', np.round(acc, 3))\n",
    "print('Acurácia com GridSearchCV:       ', np.round(acc_grid, 3))\n",
    "print('Acurácia com RandomizedSearchCV: ', np.round(acc_random, 3))"
   ]
  },
  {
   "cell_type": "markdown",
   "metadata": {
    "id": "9wxRgNJktljx"
   },
   "source": [
    "##   "
   ]
  },
  {
   "cell_type": "markdown",
   "metadata": {
    "id": "-QtU1aIBtljx"
   },
   "source": [
    "## Dados Desbalanceados"
   ]
  },
  {
   "cell_type": "markdown",
   "metadata": {
    "id": "43dvfqXWtljy"
   },
   "source": [
    "Um dos problemas mais comum quando trabalhamos com predição de dados é quando trabalhamos como __classes desbalanceadas!__ Tentamos prever uma classe minoritária, a predição pode ficar até boa, mas quando comparado com o caso de classificarmos os dados como todos da classe majoritária, __não haveria tanta diferença na predição do resultado__. Vamos ao exemplo de fixação:<br><br>\n",
    "Imagine um dataset sobre transações fraudulentas, onde 1% das transações são fraudes e 99% não fraudelentas:<br>\n",
    "- Desenvolvemos um __modelo__ é a __acurácia__ dele deu __90%__, ou seja a cada 100 transações ele acerta que 90 delas não;\n",
    "- Agora se eu chutasse que __todas as transações não fosse fraudulentas__, quanto ficaria a acurácia? Sabendo da proporção da base de 99/1, se falar que todas não são fraudulentas, vamos acertar 99 transações a cada 100, ou seja __99% de acurácia__;<br><br>\n",
    "\n",
    "Esse tipo de problema é bem comum em bases desbalanceadas e precisamos saber como evitar isso!<br><br>\n",
    "Hoje vamos ver 3 técnicas pra lidar com desbalanceamento de dados sendo eles: __Undersampling__, __Oversampling__ e o __SMOTE__."
   ]
  },
  {
   "cell_type": "markdown",
   "metadata": {
    "id": "GW4eBrJltljy"
   },
   "source": [
    "##   "
   ]
  },
  {
   "cell_type": "markdown",
   "metadata": {
    "id": "WlQILK1ftljy"
   },
   "source": [
    "### Undersampling e Oversampling"
   ]
  },
  {
   "cell_type": "markdown",
   "metadata": {
    "id": "tkO4mM9Itljy"
   },
   "source": [
    "Tanto o __Undersampling__ quanto o __Oversampling__ são técnicas simples de lidar com dados desbalanceados e focam basicamente em __remoção__ ou __adição__ de dados no nosso dataset:\n",
    "\n",
    "<img src=\"https://miro.medium.com/max/725/1*7xf9e1EaoK5n05izIFBouA.png\" width=800>\n",
    "\n",
    "> No caso do __Undersampling__, remove dados aleatoriamente da classe majoritária do dataset até atingir uma proporção de 50/50 dos dados (até atingir a mesma quantidade de ambas as classes\n",
    "\n",
    "No caso do __Undersampling__ podemos ter problemas de aplicações quando o nosso dataset têm __poucos dados__, pois perdemos muito dados que podem ter informações úteis para o modelo.\n",
    "\n",
    "> No __Oversampling__, vai adicionar dados, duplicando informações da classe minoritária até termos as mesmas proporções de dados também\n",
    "\n",
    "O lado contra de aplicarmos o __Oversampling__ é que perdemos com a __variabilidade dos dados__ da classe minoritária, no caso só estamos replicando os mesmos dados.<br><br>\n",
    "\n",
    "Vamos testar na prática, começando pelo __Oversampling__:"
   ]
  },
  {
   "cell_type": "code",
   "execution_count": null,
   "metadata": {
    "id": "O1V-HQpRtljy"
   },
   "outputs": [],
   "source": [
    "! pip install imbalanced-learn\n",
    "! pip install delayed"
   ]
  },
  {
   "cell_type": "code",
   "execution_count": null,
   "metadata": {
    "id": "9n9bm2mgtljz"
   },
   "outputs": [],
   "source": [
    "import imblearn\n",
    "from imblearn.under_sampling import RandomUnderSampler\n",
    "from imblearn.over_sampling import RandomOverSampler"
   ]
  },
  {
   "cell_type": "code",
   "execution_count": null,
   "metadata": {
    "id": "PxOJkGC2tljz"
   },
   "outputs": [],
   "source": [
    "wine = pd.read_csv('./datasets/winequality-red.csv')\n",
    "wine.head()"
   ]
  },
  {
   "cell_type": "code",
   "execution_count": null,
   "metadata": {
    "id": "VaAyiDZdtljz"
   },
   "outputs": [],
   "source": [
    "wine['target'] = np.where(wine['quality'] > 6.5, 1, 0)"
   ]
  },
  {
   "cell_type": "code",
   "execution_count": null,
   "metadata": {
    "id": "1RHCLEEjtljz"
   },
   "outputs": [],
   "source": [
    "X = wine.drop(['quality', 'target'], axis = 1)"
   ]
  },
  {
   "cell_type": "code",
   "execution_count": null,
   "metadata": {
    "id": "BcQo2KPatljz"
   },
   "outputs": [],
   "source": [
    "X.head()"
   ]
  },
  {
   "cell_type": "code",
   "execution_count": null,
   "metadata": {
    "id": "jZgV7JAItlj0"
   },
   "outputs": [],
   "source": [
    "y = wine['target']"
   ]
  },
  {
   "cell_type": "code",
   "execution_count": null,
   "metadata": {
    "id": "4hxKa-mOtlj0",
    "scrolled": true
   },
   "outputs": [],
   "source": [
    "y.value_counts(normalize = True)"
   ]
  },
  {
   "cell_type": "code",
   "execution_count": null,
   "metadata": {
    "id": "cIhw202utlj0"
   },
   "outputs": [],
   "source": [
    "from sklearn.model_selection import train_test_split\n",
    "X_train, X_test, y_train, y_test = train_test_split(X, \n",
    "                                                    y, \n",
    "                                                    test_size=0.4, \n",
    "                                                    random_state=42,\n",
    "                                                    stratify = y)"
   ]
  },
  {
   "cell_type": "code",
   "execution_count": null,
   "metadata": {
    "id": "aM7yOgAKtlj0"
   },
   "outputs": [],
   "source": [
    "from sklearn.ensemble import RandomForestClassifier"
   ]
  },
  {
   "cell_type": "code",
   "execution_count": null,
   "metadata": {
    "id": "lhwQm7dEtlj0"
   },
   "outputs": [],
   "source": [
    "model = RandomForestClassifier(random_state = 42)"
   ]
  },
  {
   "cell_type": "code",
   "execution_count": null,
   "metadata": {
    "id": "-tAc7Zcwtlj0"
   },
   "outputs": [],
   "source": [
    "model.fit(X_train, y_train)"
   ]
  },
  {
   "cell_type": "code",
   "execution_count": null,
   "metadata": {
    "id": "7g1Yn-jYtlj1"
   },
   "outputs": [],
   "source": [
    "y_pred = model.predict(X_test)"
   ]
  },
  {
   "cell_type": "code",
   "execution_count": null,
   "metadata": {
    "id": "q-T5lLRItlj1"
   },
   "outputs": [],
   "source": [
    "from sklearn.metrics import accuracy_score"
   ]
  },
  {
   "cell_type": "code",
   "execution_count": null,
   "metadata": {
    "id": "YjpYt3fhtlj1"
   },
   "outputs": [],
   "source": [
    "acc_normal = accuracy_score(y_test, y_pred)\n",
    "acc_normal"
   ]
  },
  {
   "cell_type": "markdown",
   "metadata": {
    "id": "wuaS3W8Rtlj1"
   },
   "source": [
    "Aplicando o _OverSampling_:"
   ]
  },
  {
   "cell_type": "code",
   "execution_count": null,
   "metadata": {
    "id": "ZaaLEO8dtlj1"
   },
   "outputs": [],
   "source": [
    "oversample = RandomOverSampler(sampling_strategy='minority')"
   ]
  },
  {
   "cell_type": "code",
   "execution_count": null,
   "metadata": {
    "id": "2VHwNNPmtlj1"
   },
   "outputs": [],
   "source": [
    "X_train_ov, y_train_ov = oversample.fit_resample(X_train, y_train)"
   ]
  },
  {
   "cell_type": "code",
   "execution_count": null,
   "metadata": {
    "id": "gkJ5v772tlj1"
   },
   "outputs": [],
   "source": [
    "y_train.value_counts()"
   ]
  },
  {
   "cell_type": "code",
   "execution_count": null,
   "metadata": {
    "id": "NpUIeBLPtlj2",
    "scrolled": true
   },
   "outputs": [],
   "source": [
    "y_train_ov.value_counts()"
   ]
  },
  {
   "cell_type": "code",
   "execution_count": null,
   "metadata": {
    "id": "CrJX3H0wtlj2"
   },
   "outputs": [],
   "source": [
    "model.fit(X_train_ov, y_train_ov)"
   ]
  },
  {
   "cell_type": "code",
   "execution_count": null,
   "metadata": {
    "id": "PC7K2O7wtlj2"
   },
   "outputs": [],
   "source": [
    "y_pred_ov = model.predict(X_test)"
   ]
  },
  {
   "cell_type": "code",
   "execution_count": null,
   "metadata": {
    "id": "fcKYZxpwtlj2"
   },
   "outputs": [],
   "source": [
    "acc_over = accuracy_score(y_test, y_pred_ov)\n",
    "acc_over"
   ]
  },
  {
   "cell_type": "markdown",
   "metadata": {
    "id": "ifDEyKI-tlj3"
   },
   "source": [
    "Utilizando o __Undersampling__:"
   ]
  },
  {
   "cell_type": "code",
   "execution_count": null,
   "metadata": {
    "id": "BMItw4fOtlj3"
   },
   "outputs": [],
   "source": [
    "undersample = RandomUnderSampler(sampling_strategy='majority')"
   ]
  },
  {
   "cell_type": "code",
   "execution_count": null,
   "metadata": {
    "id": "N8abn3v3tlj3"
   },
   "outputs": [],
   "source": [
    "X_train_un, y_train_un = undersample.fit_resample(X_train, y_train)"
   ]
  },
  {
   "cell_type": "code",
   "execution_count": null,
   "metadata": {
    "id": "5cNpK2QAtlj3"
   },
   "outputs": [],
   "source": [
    "y_train.value_counts()"
   ]
  },
  {
   "cell_type": "code",
   "execution_count": null,
   "metadata": {
    "id": "wIC66mSqtlj3"
   },
   "outputs": [],
   "source": [
    "y_train_un.value_counts()"
   ]
  },
  {
   "cell_type": "code",
   "execution_count": null,
   "metadata": {
    "id": "NFOVIpvPtlj3"
   },
   "outputs": [],
   "source": [
    "model.fit(X_train_un, y_train_un)"
   ]
  },
  {
   "cell_type": "code",
   "execution_count": null,
   "metadata": {
    "id": "dGw5o1v1tlj3"
   },
   "outputs": [],
   "source": [
    "y_pred_un = model.predict(X_test)"
   ]
  },
  {
   "cell_type": "code",
   "execution_count": null,
   "metadata": {
    "id": "4zd8GjjCtlj4"
   },
   "outputs": [],
   "source": [
    "acc_under = accuracy_score(y_test, y_pred_un)"
   ]
  },
  {
   "cell_type": "code",
   "execution_count": null,
   "metadata": {
    "id": "UCwXpBM8tlj4"
   },
   "outputs": [],
   "source": [
    "print(\"Comparação das Acurácias: \")\n",
    "print('Acurácia sem Tratamento:    ', np.round(acc_normal, 3))\n",
    "print('Acurácia com Oversampling:  ', np.round(acc_over, 3))\n",
    "print('Acurácia com Undersampling: ', np.round(acc_under, 3))"
   ]
  },
  {
   "cell_type": "markdown",
   "metadata": {
    "id": "L6k0_n4Ttlj4"
   },
   "source": [
    "##   "
   ]
  },
  {
   "cell_type": "markdown",
   "metadata": {
    "id": "ZbuwQyDitlj4"
   },
   "source": [
    "### SMOTE"
   ]
  },
  {
   "cell_type": "markdown",
   "metadata": {
    "id": "9h0vIlixtlj4"
   },
   "source": [
    "O __SMOTE__ (Synthetic Minority Oversampling Technique) é uma técnica um pouco mais sofisticada que o __Oversampling__, onde está técnica foca em corrigir o problema que tinhamos no Oversampling de __variabilidade de dados__.<br><br>\n",
    "\n",
    "<img src=\"https://miro.medium.com/max/1400/1*GJY7UnJ4WCzqgtrfkCvkdA.png\" width=800> \n",
    "\n",
    "O princípio do SMOTE é gerar amostras para a classe minoritária criando pontos artificiais que sejam vizinhos da classe, de maneira a garantir que tenha __variabilidade dos dados__ e __que todos os pontos sejam da classe minoritária__.<br><br>\n",
    "Vamos testar a aplicação do SMOTE:"
   ]
  },
  {
   "cell_type": "code",
   "execution_count": null,
   "metadata": {
    "id": "Wc3nox9ptlj4"
   },
   "outputs": [],
   "source": [
    "from imblearn.over_sampling import SMOTE"
   ]
  },
  {
   "cell_type": "code",
   "execution_count": null,
   "metadata": {
    "id": "h_baTugOtlj4"
   },
   "outputs": [],
   "source": [
    "smote = SMOTE()\n",
    "X_train_sm, y_train_sm = smote.fit_resample(X_train, y_train)"
   ]
  },
  {
   "cell_type": "code",
   "execution_count": null,
   "metadata": {
    "id": "abt6GYIqtlj4"
   },
   "outputs": [],
   "source": [
    "y_train.value_counts()"
   ]
  },
  {
   "cell_type": "code",
   "execution_count": null,
   "metadata": {
    "id": "NF0daYQ9tlj5",
    "scrolled": true
   },
   "outputs": [],
   "source": [
    "y_train_sm.value_counts()"
   ]
  },
  {
   "cell_type": "code",
   "execution_count": null,
   "metadata": {
    "id": "E02nQMPctlj5"
   },
   "outputs": [],
   "source": [
    "model = RandomForestClassifier(random_state = 42)"
   ]
  },
  {
   "cell_type": "code",
   "execution_count": null,
   "metadata": {
    "id": "YYEnGBF5tlj5"
   },
   "outputs": [],
   "source": [
    "model.fit(X_train_sm, y_train_sm)"
   ]
  },
  {
   "cell_type": "code",
   "execution_count": null,
   "metadata": {
    "id": "l-Y85jdutlj5"
   },
   "outputs": [],
   "source": [
    "y_pred_sm = model.predict(X_test)"
   ]
  },
  {
   "cell_type": "code",
   "execution_count": null,
   "metadata": {
    "id": "MODyfg1Xtlj5"
   },
   "outputs": [],
   "source": [
    "acc_smote = accuracy_score(y_test, y_pred_sm)"
   ]
  },
  {
   "cell_type": "code",
   "execution_count": null,
   "metadata": {
    "id": "6U8VhXzltlj6"
   },
   "outputs": [],
   "source": [
    "print(\"Comparação das Acurácias: \")\n",
    "print('Acurácia sem Tratamento:    ', np.round(acc_normal, 3))\n",
    "print('Acurácia com Oversampling:  ', np.round(acc_over, 3))\n",
    "print('Acurácia com Undersampling: ', np.round(acc_under, 3))\n",
    "print('Acurácia com SMOTE:         ', np.round(acc_smote, 3))"
   ]
  },
  {
   "cell_type": "code",
   "execution_count": null,
   "metadata": {
    "id": "0i6Wo55Qtlj6"
   },
   "outputs": [],
   "source": [
    "from sklearn.metrics import classification_report\n",
    "\n",
    "print('Sem tratamento')\n",
    "print(classification_report(y_test, y_pred))\n",
    "print('\\nOversampling')\n",
    "print(classification_report(y_test, y_pred_ov))\n",
    "print('\\nUndersampling')\n",
    "print(classification_report(y_test, y_pred_un))\n",
    "print('\\nSMOTE')\n",
    "print(classification_report(y_test, y_pred_sm))"
   ]
  },
  {
   "cell_type": "markdown",
   "metadata": {
    "id": "2kq6BVuztlj6"
   },
   "source": [
    "##   "
   ]
  },
  {
   "cell_type": "markdown",
   "metadata": {
    "id": "jiQD7aDdtlj6"
   },
   "source": [
    "## Exercícios"
   ]
  },
  {
   "cell_type": "markdown",
   "metadata": {
    "id": "L5M8w48Ntlj6"
   },
   "source": [
    "**1)** Realize uma classificação com da coluna y dos dados de marketing bancário (contido no arquivo bank-full.csv). Utiliza as 3 técnicas para dados desbalanceados para melhorar o desempenho do modelo (podem usar o RandomForest). Qual a melhor técnica de balanceamento para esses dados?"
   ]
  },
  {
   "cell_type": "code",
   "execution_count": null,
   "metadata": {
    "id": "qYZ9W6Lgtlj6"
   },
   "outputs": [],
   "source": []
  },
  {
   "cell_type": "code",
   "execution_count": null,
   "metadata": {
    "id": "5wQVrts3tlj6"
   },
   "outputs": [],
   "source": []
  },
  {
   "cell_type": "code",
   "execution_count": null,
   "metadata": {
    "id": "d0NX0pBatlj6"
   },
   "outputs": [],
   "source": []
  },
  {
   "cell_type": "markdown",
   "metadata": {
    "id": "e23r5KCZtlj7"
   },
   "source": [
    "##   "
   ]
  }
 ],
 "metadata": {
  "colab": {
   "name": "09 - Otimização e Dados Desbalanceados.ipynb",
   "provenance": []
  },
  "kernelspec": {
   "display_name": "Python 3 (ipykernel)",
   "language": "python",
   "name": "python3"
  },
  "language_info": {
   "codemirror_mode": {
    "name": "ipython",
    "version": 3
   },
   "file_extension": ".py",
   "mimetype": "text/x-python",
   "name": "python",
   "nbconvert_exporter": "python",
   "pygments_lexer": "ipython3",
   "version": "3.9.6"
  }
 },
 "nbformat": 4,
 "nbformat_minor": 1
}
