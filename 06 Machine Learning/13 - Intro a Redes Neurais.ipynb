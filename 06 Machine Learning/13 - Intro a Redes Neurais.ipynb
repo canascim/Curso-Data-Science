{
 "cells": [
  {
   "cell_type": "markdown",
   "metadata": {},
   "source": [
    "# 13 - Introdução a Redes Neurais\n",
    "\n",
    "Na aula de hoje, vamos explorar os seguintes tópicos em Python:\n",
    "\n",
    "- 1) TensorFlow e Keras\n",
    "- 2) Introdução\n",
    "- 3) Redes Neurais Artificiais\n",
    "- 4) Como treinar uma Rede Neural\n",
    "- 5) MNIST\n",
    "- 6) Outras arquiteturas de Redes Neurais\n",
    "- 7) Quando utilizamos Redes Neurais?"
   ]
  },
  {
   "cell_type": "markdown",
   "metadata": {},
   "source": [
    "<img src=\"https://sigmoidal.ai/wp-content/uploads/2019/08/main-qimg-7532a36a1e14a3f7a135a5f7301a5752.png\" width=800>\n",
    "\n"
   ]
  },
  {
   "cell_type": "markdown",
   "metadata": {},
   "source": [
    "##   "
   ]
  },
  {
   "cell_type": "markdown",
   "metadata": {},
   "source": [
    "## 1) TensorFlow e Keras"
   ]
  },
  {
   "cell_type": "markdown",
   "metadata": {},
   "source": [
    "Hoje vamos trabalhar com __as principais bibliotecas de redes neurais__, sendo a principal delas desenvolvida para Python, o [__TensorFlow__](https://www.tensorflow.org/).<br>\n",
    " <br>\n",
    "<img src=\"https://www.ambientelivre.com.br/images/logos_open_source/tensorflow_logo.png\" width=500>\n",
    " <br>\n",
    "O __TensorFlow__ é um __framework extremamente poderoso__, mas que apresenta uma __sintaxe consideravelmeente complicada__. Para facilitar a vida e descomplicar Redes Neurais, que surgiu uma outra biblioteca construída encima do TensorFlow, conhecida como [__Keras__](https://keras.io/) <br>\n",
    " <br>\n",
    " <img src=\"https://www.pyimagesearch.com/wp-content/uploads/2020/02/keras_autoencoders_header.png\" width=500>\n",
    " <br>\n",
    "Diferente com o que estamos acostumados do _SciKit-Learn_, o __Keras__ é focada exclusivamente em Redes Neurais, oferencendo implementação de funções de alto nível, construindo essas redes de forma prática e simples!<br><br>\n",
    " \n",
    "Claro que infelizmente até o __Keras__ têm suas limitações, quando precisar de modificações muito especificas, pode ser precise recorrer ao __TensorFlow__, apesar do __Keras__ possuir a __maioria das principais arquiteturas__ de Redes Neurais do __TensorFLow__ completamente integradas. \n",
    "<br><br>\n",
    "Para instalar tanto o __TensorFlow__ quanto o __Keras__ basta seguir o código abaixo:"
   ]
  },
  {
   "cell_type": "code",
   "execution_count": null,
   "metadata": {},
   "outputs": [],
   "source": [
    "# Instalando as Bibliotecas\n",
    "#!pip install tensorflow\n",
    "#!pip install keras"
   ]
  },
  {
   "cell_type": "markdown",
   "metadata": {},
   "source": [
    "##   "
   ]
  },
  {
   "cell_type": "markdown",
   "metadata": {},
   "source": [
    "## 2) Introdução\n",
    "\n",
    "A inspiração para o desenvolvimento de Redes Neurais partiu justamente dos __seres humanos__, somos muito bons em __aprender__ e __reconhecer padrões__. Isto se deve ao nosso __sistema nervoso__, que pode ser entendido como uma __grande rede de neurônios interligados__.<br><br>\n",
    "\n",
    "<img src=\"https://www.tiopen.com.br/wp-content/uploads/2019/08/rede-neural.jpeg.webp\" width=\"600\" />\n",
    "<br><br>\n",
    "\n",
    "Um dos objetivos da Inteligência Artificial é __construir sistemas inteligentes__, com __capacidade cognitiva__ similar à dos __humanos__.\n",
    "\n",
    "Foi assim que começaram a desenvolver as chamadas __Redes Neurais Artificiais (RNAs)__. Na próxima imagem tem uma comparação entre a inspiração biológia e a arquitetura de uma rede neural:<br><br>\n",
    "\n",
    "<img src=\"https://www.ee.co.za/wp-content/uploads/2019/07/Application-of-machine-learning-algorithms-in-boiler-plant-root-cause-analysis-Fig-1.jpg\" width=\"600\" />"
   ]
  },
  {
   "cell_type": "markdown",
   "metadata": {},
   "source": [
    "##   "
   ]
  },
  {
   "cell_type": "markdown",
   "metadata": {},
   "source": [
    "## 3) Redes Neurais Artificiais (RNAs)\n",
    "\n",
    "Uma RNA é composta pelos seguintes elementos básicos:\n",
    "\n",
    "- **Unidades (ou neurônios)**: são as unidades mínimas de processamento da rede neural, onde as operações matemáticas são realizadas;\n",
    "\n",
    "- **Camadas**: há três tipos de camadas:\n",
    "\n",
    "\t- **Camada de entrada (input layer)**: é a camada de entrada de dados. O número de unidades nesta camada é igual ao número de features do modelo;\n",
    "\n",
    "\t- **Camadas ocultas (hidden layers)**: são as camadas de processamento. O número de camadas ocultas, bem como o número de neurônios em cada uma delas, é variável, dependendo do problema e dos dados. Em geral, a melhor estratégia é experimentar diferentes números de camadas e de neurônios;\n",
    "\n",
    "\t- **Camada de saída (output layer)**: é a camada que dá a resposta da rede neural, isto é, o valor predito por ela. O número de unidades nesta camada depende do tipo de output desejado, e é o que determina o target (variável dependente) do modelo.\n",
    "\t\n",
    "\t\n",
    "<img src=\"https://gadictos.com/wp-content/uploads/2019/05/bp1.png\" width=\"400\" />\n",
    "<br><br>\n",
    "\t\n",
    "As camadas e neurônios são interligadas entre si através de conexões. A cada conexão, associa-se um **peso** (que denotamos pela letra **W**). <br><br>\n",
    "\n",
    "O objetivo da RNA é **\"aprender\" os pesos que melhor se ajustam aos dados!** Após treinada, a rede neural faz previsões **passando os dados de input através de todos os nós**, conforme ilustrado a seguir:\n",
    "\n",
    "<img src=\"https://thumbs.gfycat.com/AdorableJoyfulLemming-small.gif\" width=600>\n",
    "\n",
    "<img src=\"https://thumbs.gfycat.com/BouncyGleefulFeline-max-1mb.gif\" width=600>\n"
   ]
  },
  {
   "cell_type": "markdown",
   "metadata": {},
   "source": [
    "##   "
   ]
  },
  {
   "cell_type": "markdown",
   "metadata": {},
   "source": [
    "## 4) Como treinar uma Rede Neural"
   ]
  },
  {
   "cell_type": "markdown",
   "metadata": {},
   "source": [
    "A \"aprendizagem\" da Rede Neural a partir dos dados se dá através de duas etapas, o **Forward Propagation** e o **Backward Propagation**.\n",
    "\n",
    "### Forward Propagation\n",
    "\n",
    "No __Forward Propagation__, a informação propaga na direção habitual (da esquerda para direita) na rede neural: features são lidas na camada de input, passam pelo processamento nas camadas ocultas, e a resposta (target) é predita na camada de output. \n",
    "\n",
    "Para que a predição seja realizada, os neurônios nas camadas ocultas realizam as seguintes duas etapas de cálculo:\n",
    "\n",
    "- Uma combinação linear entre o output (que denotamos pela letra **a**) da camada enterior e os pesos da camada atual. Isto é, se tivermos n ligações. a combinação linear é:\n",
    "\n",
    "![](https://latex.codecogs.com/gif.latex?z%5E%7Batual%7D%20%3D%20W_0%5E%7Batual%7D%20&plus;%20%5Cleft%20%28%20W_1%5E%7Batual%7D%5Ctimes%20a_1%5E%7Banterior%7D%20%5Cright%29%20&plus;%20%5Cleft%28%20W_2%5E%7Batual%7D%20%5Ctimes%20a_2%5E%7Banterior%7D%20%5Cright%20%29%20&plus;%20%5Ccdots%20&plus;%20%5Cleft%20%28%20W_n%5E%7Batual%7D%20%5Ctimes%20a_n%5E%7Banterior%7D%20%5Cright%29)\n",
    "\n",
    "- Aplica-se uma __função de ativação não-linear__ à combinação linear acima. As principais funções de ativação utilizadas são:\n",
    "<br><br>\n",
    "\n",
    "<img src=\"https://cdn-images-1.medium.com/max/1000/1*4ZEDRpFuCIpUjNgjDdT2Lg.png\n",
    "\" width=\"800\" />\n",
    "\n",
    "O cálculo realizado por um único neurônio é bem parecido com um **perceptron**, ilustrado a seguir:\n",
    "<br>\n",
    "\n",
    "<img src=\"https://img2.gratispng.com/20180619/oav/kisspng-multilayer-perceptron-machine-learning-statistical-5b2996bdb9dcd2.4724873615294522217613.jpg\" width=\"400\" />\n",
    "<br>\n",
    "\n",
    "A escolha das funções de ativação também pode ser variável, mas costuma-se utilizar:\n",
    "\n",
    "- **ReLu** nas camadas ocultas;\n",
    "- **Sigmoid** (para problemas de classificação binários) ou **Softmax** (para probelams de classificação multiclasse) na camada de output.\n",
    "\n",
    "\n",
    "Ao fim do __Forward Propagation__, na camada de output, calculamos a **Função de Perda**, que quantifica qual a **diferença entre as predições feitas pela rede neural e os valores reais do target dos dados**. Cada tipo de problema tem uma função de perda própria.\n",
    "<br><br>\n",
    "\n",
    "Queremos que as predições sejam sempre o mais próximas o possível dos valores reais. Então, o que fazemos é **minimizar** a função de perda. \n",
    "\n",
    "\n",
    "### Backward Propagation\n",
    "\n",
    "Isto é feito ao propagarmos a informação na direção contrária (da direita para esquerda) na rede neural, o que caracteriza o chamado __Backward Propagation__. \n",
    "\n",
    "Para minimizar a função de perda, utilizamos um **Otimizador**, que são objetos que representam o procedimento matemático de minimização da função de perda. Os principais otimizadores utilizados são: __gradiente descendente (GD)__, **Adam** e **RMSProp**.\n",
    "\n",
    "Este processo de __Forward e Backward Propagation__ é feito iterativamente, ou seja por diversas vezes no desenvolvimento do modelo. Cada rodada é chamada de __época__ (**epoch**).\n",
    "\n",
    "O objetivo do Backward Propagation é **determinar os Pesos que miminizem a Função de Perda.** A cada epoch, os pesos são **atualizados**, de modo que a função de perda é sempre reduzida em direção ao seu mínimo!\n",
    "\n",
    "Para quem quiser saber mais, segue uma sugestão de leitura adicional: [Neural Networks Explained](https://medium.com/datadriveninvestor/neural-networks-explained-6e21c70d7818)\n",
    "\n",
    "Vamos agora ao nosso exemplo prático: construiremos nossa própria rede neural!"
   ]
  },
  {
   "cell_type": "markdown",
   "metadata": {},
   "source": [
    "##   "
   ]
  },
  {
   "cell_type": "markdown",
   "metadata": {},
   "source": [
    "## 5) O exemplo clássico: MNIST\n",
    "\n",
    "Neste exemplo, usaremos o **[MNIST](https://www.kaggle.com/c/digit-recognizer/data)**, o famoso dataset de dígitos (números de 0 a 9) escritos à mão, onde vocês podem conhecer mais a respeito neste [link](http://yann.lecun.com/exdb/mnist/)\n",
    "\n",
    "<br><br>\n",
    "<img src=\"https://i2.wp.com/syncedreview.com/wp-content/uploads/2019/06/MNIST.png?fit=530%2C297&ssl=1\" width=700>\n",
    "\n",
    "<br><br>\n",
    "O objetivo do nosso modelo será o de **classificar digítos, com base em imagens**. Assim sendo, temos um **problema de classificação multiclasse** (pois os dados serão classificados em uma dentre 10 classes possíveis, de 0 a 9)."
   ]
  },
  {
   "cell_type": "code",
   "execution_count": 1,
   "metadata": {},
   "outputs": [],
   "source": [
    "# importe as bibliotecas padrões\n",
    "\n",
    "import numpy as np\n",
    "import pandas as pd\n",
    "import matplotlib.pyplot as plt\n",
    "import seaborn as sns"
   ]
  },
  {
   "cell_type": "markdown",
   "metadata": {},
   "source": [
    "__Algumas observações sobre a base :__\n",
    "\n",
    "- A base do MNIST é composta por imagens de números manuscritos, onde cada imagem é uma **matriz 28 x 28**, contendo assim **784 pixels**; \n",
    "\n",
    "- As imagens estão em escala de cinza, na qual cada pixel pode variar de **0 a 255**, e foram centralizadas, de forma que o número não fique \"cortado\" por estar na borda;\n",
    "\n",
    "- A base está dividida em 60 mil casos para treino e 10 mil casos para teste;\n",
    "\n",
    "\n",
    "Na função ``carrega_mnist()``, o objetivo é ler a base e retornar dois numpy arrays (a = 60000 ou a = 10000, a depender do tipo): \n",
    "\n",
    "- o primeiro da forma (a, 784), que são os 784 pixels da imagem organizados de forma sequencial;\n",
    "- o segundo da forma (a, 1), que é o identificador (label) da imagem, sendo um número que varia de 0 a 9.\n"
   ]
  },
  {
   "cell_type": "code",
   "execution_count": 2,
   "metadata": {},
   "outputs": [],
   "source": [
    "# Função essencial para ler a base do MNIST\n",
    "import os\n",
    "import gzip\n",
    "\n",
    "def carrega_mnist(caminho, tipo = 'train'):\n",
    "    label_caminho = os.path.join(caminho, '%s-labels-idx1-ubyte.gz' % tipo)\n",
    "    imagens_caminho = os.path.join(caminho, '%s-images-idx3-ubyte.gz' % tipo)\n",
    "        \n",
    "    with gzip.open(label_caminho, 'rb') as lbpath:\n",
    "        lbpath.read(8)\n",
    "        buffer = lbpath.read()\n",
    "        labels = np.frombuffer(buffer, dtype=np.uint8)\n",
    "\n",
    "    with gzip.open(imagens_caminho, 'rb') as imgpath:\n",
    "        imgpath.read(16)\n",
    "        buffer = imgpath.read()\n",
    "        imagens = np.frombuffer(buffer, \n",
    "                               dtype=np.uint8).reshape(\n",
    "            len(labels), 784).astype(np.float64)\n",
    " \n",
    "    return imagens, labels\n",
    "\n",
    "X_train, y_train = carrega_mnist('./datasets/')\n",
    "X_test, y_test = carrega_mnist('./datasets/', \"t10k\")"
   ]
  },
  {
   "cell_type": "code",
   "execution_count": 3,
   "metadata": {},
   "outputs": [
    {
     "data": {
      "text/plain": [
       "((60000, 784), (60000,))"
      ]
     },
     "execution_count": 3,
     "metadata": {},
     "output_type": "execute_result"
    }
   ],
   "source": [
    "X_train.shape, y_train.shape"
   ]
  },
  {
   "cell_type": "code",
   "execution_count": 4,
   "metadata": {},
   "outputs": [
    {
     "data": {
      "text/plain": [
       "((10000, 784), (10000,))"
      ]
     },
     "execution_count": 4,
     "metadata": {},
     "output_type": "execute_result"
    }
   ],
   "source": [
    "X_test.shape, y_test.shape"
   ]
  },
  {
   "cell_type": "markdown",
   "metadata": {},
   "source": [
    "Fazendo uma visualização do Dataset:"
   ]
  },
  {
   "cell_type": "code",
   "execution_count": 5,
   "metadata": {},
   "outputs": [
    {
     "name": "stdout",
     "output_type": "stream",
     "text": [
      "A resposta para o id 21 : 4\n"
     ]
    },
    {
     "data": {
      "image/png": "[encoded data removed]",
      "text/plain": [
       "<Figure size 432x288 with 1 Axes>"
      ]
     },
     "metadata": {
      "needs_background": "light"
     },
     "output_type": "display_data"
    }
   ],
   "source": [
    "# é necessário dar um reshape\n",
    "\n",
    "idx = 20\n",
    "features = X_train[idx]\n",
    "target = y_train[idx]\n",
    "\n",
    "# é necessário dar um reshape\n",
    "img = features.reshape(28,28)\n",
    "\n",
    "print(\"A resposta para o id {} : {}\".format(str(idx + 1), target))\n",
    "\n",
    "plt.imshow(img, cmap=\"gray\")\n",
    "plt.show()"
   ]
  },
  {
   "cell_type": "markdown",
   "metadata": {},
   "source": [
    "## Pré-Processamento dos Dados\n",
    "\n",
    "Um processo muito importante quando trabalhamos com Redes Neurais é o __Rescalamento__, pois é interessante que o os valores sejam rescalados **entre 0 e 1 para que o tempo de treinamento seja otimizado**. Não iremos enttrar em tantos detalhes sobre o motivo dessa otimização, mas [nesse link](https://stackoverflow.com/questions/4674623/why-do-we-have-to-normalize-the-input-for-an-artificial-neural-network) poderam ter mais detalhes sobre esse processo. \n",
    "\n",
    "Então, fazemos a divisão correpondentes aos pixels das imagens pelo pixel de valor máximo do **conjunto de treino**:"
   ]
  },
  {
   "cell_type": "code",
   "execution_count": 6,
   "metadata": {},
   "outputs": [
    {
     "data": {
      "text/plain": [
       "255.0"
      ]
     },
     "execution_count": 6,
     "metadata": {},
     "output_type": "execute_result"
    }
   ],
   "source": [
    "np.max(X_train)"
   ]
  },
  {
   "cell_type": "code",
   "execution_count": 7,
   "metadata": {},
   "outputs": [],
   "source": [
    "m = np.max(X_train)\n",
    "\n",
    "X_train = X_train/m\n",
    "X_test = X_test/m"
   ]
  },
  {
   "cell_type": "code",
   "execution_count": 8,
   "metadata": {},
   "outputs": [
    {
     "name": "stdout",
     "output_type": "stream",
     "text": [
      "Valores máximo e mínimo dos dados de treino: 1.0 0.0\n",
      "Valores máximo e mínimo dos dados de teste: 1.0 0.0\n"
     ]
    }
   ],
   "source": [
    "print(\"Valores máximo e mínimo dos dados de treino:\", np.max(X_train), np.min(X_train))\n",
    "print(\"Valores máximo e mínimo dos dados de teste:\", np.max(X_test), np.min(X_test))"
   ]
  },
  {
   "cell_type": "markdown",
   "metadata": {},
   "source": [
    "Em modelos de rede neural de classificação, necessariamente **devemos ter o target transformado em variáveis dummy**, pois nossa resposta precisa ter a estrutura de output correta, como vimos na animação (GIF) acima. Podemos fazer isso com o __OneHot Encoder__, como já vimos anteriormente.<br><br>\n",
    "\n",
    "Esse tipo de mapeamento é um vetor com a mesma quantidade de classes existentes, com cada posição desse vetor correspondendo a uma das classes. (No nosso caso, como temos 10 classes possíveis, este vetor terá 10 elementos!)"
   ]
  },
  {
   "cell_type": "code",
   "execution_count": 9,
   "metadata": {
    "scrolled": false
   },
   "outputs": [
    {
     "name": "stdout",
     "output_type": "stream",
     "text": [
      "1o dado de treino; label: 5\n"
     ]
    },
    {
     "data": {
      "image/png": "[encoded data removed]",
      "text/plain": [
       "<Figure size 432x288 with 1 Axes>"
      ]
     },
     "metadata": {
      "needs_background": "light"
     },
     "output_type": "display_data"
    },
    {
     "name": "stdout",
     "output_type": "stream",
     "text": [
      "2o dado de treino; label: 0\n"
     ]
    },
    {
     "data": {
      "image/png": "[encoded data removed]",
      "text/plain": [
       "<Figure size 432x288 with 1 Axes>"
      ]
     },
     "metadata": {
      "needs_background": "light"
     },
     "output_type": "display_data"
    },
    {
     "name": "stdout",
     "output_type": "stream",
     "text": [
      "3o dado de treino; label: 4\n"
     ]
    },
    {
     "data": {
      "image/png": "[encoded data removed]",
      "text/plain": [
       "<Figure size 432x288 with 1 Axes>"
      ]
     },
     "metadata": {
      "needs_background": "light"
     },
     "output_type": "display_data"
    },
    {
     "name": "stdout",
     "output_type": "stream",
     "text": [
      "4o dado de treino; label: 1\n"
     ]
    },
    {
     "data": {
      "image/png": "[encoded data removed]",
      "text/plain": [
       "<Figure size 432x288 with 1 Axes>"
      ]
     },
     "metadata": {
      "needs_background": "light"
     },
     "output_type": "display_data"
    },
    {
     "name": "stdout",
     "output_type": "stream",
     "text": [
      "5o dado de treino; label: 9\n"
     ]
    },
    {
     "data": {
      "image/png": "[encoded data removed]",
      "text/plain": [
       "<Figure size 432x288 with 1 Axes>"
      ]
     },
     "metadata": {
      "needs_background": "light"
     },
     "output_type": "display_data"
    }
   ],
   "source": [
    "for idx in range(5):\n",
    "    features = X_train[idx]\n",
    "    target = y_train[idx]\n",
    "\n",
    "    # é necessário dar um reshape\n",
    "    img = features.reshape(28,28)\n",
    "\n",
    "    print(str(idx+1) + \"o dado de treino; label:\", target)\n",
    "\n",
    "    plt.imshow(img, cmap=\"gray\")\n",
    "    plt.show()"
   ]
  },
  {
   "cell_type": "code",
   "execution_count": 10,
   "metadata": {},
   "outputs": [
    {
     "data": {
      "text/plain": [
       "array([5, 0, 4, 1, 9], dtype=uint8)"
      ]
     },
     "execution_count": 10,
     "metadata": {},
     "output_type": "execute_result"
    }
   ],
   "source": [
    "y_train[0:5]"
   ]
  },
  {
   "cell_type": "code",
   "execution_count": 11,
   "metadata": {},
   "outputs": [],
   "source": [
    "from sklearn.preprocessing import OneHotEncoder\n",
    "\n",
    "hot = OneHotEncoder()\n",
    "\n",
    "y_train = hot.fit_transform(y_train.reshape(-1, 1)).toarray()\n",
    "y_test = hot.fit_transform(y_test.reshape(-1, 1)).toarray()"
   ]
  },
  {
   "cell_type": "code",
   "execution_count": 12,
   "metadata": {},
   "outputs": [
    {
     "data": {
      "text/plain": [
       "array([[0., 0., 0., 0., 0., 1., 0., 0., 0., 0.],\n",
       "       [1., 0., 0., 0., 0., 0., 0., 0., 0., 0.],\n",
       "       [0., 0., 0., 0., 1., 0., 0., 0., 0., 0.],\n",
       "       [0., 1., 0., 0., 0., 0., 0., 0., 0., 0.],\n",
       "       [0., 0., 0., 0., 0., 0., 0., 0., 0., 1.]])"
      ]
     },
     "execution_count": 12,
     "metadata": {},
     "output_type": "execute_result"
    }
   ],
   "source": [
    "y_train[0:5]"
   ]
  },
  {
   "cell_type": "markdown",
   "metadata": {},
   "source": [
    "## Conjunto de Validação\n",
    "\n",
    "Em modelos de rede neural, é importante que exista um terceiro conjunto além de treino e teste, o **conjunto de validação**.\n",
    "\n",
    "Durante o treinamento, a depender do caso, **risco de ocorrer overfitting é bastante alto**.\n",
    "\n",
    "Uma forma de verificar e evitar isso é por meio do conjunto de validação, o qual é um subconjunto do conjunto de treino que não é utilizado pelo otimizador.  \n",
    "\n",
    "Espera-se que a o valor da função de perda (loss) vá diminuindo a cada época, tanto para o conjunto de treino como para o conjunto de validação. Porém, se a função de perda diminui para o conjunto de treino e aumenta para o conjunto de validação (ocorrendo assim um descolamento), podemos concluir que está ocorrendo um overfitting para o conjunto de treino.\n",
    "\n",
    "Deve-se então interromper o processo de treinamento. Esse comportamento pode ser visto com mais facilidade nos próximos tópicos.\n",
    "\n",
    "Para fazer a divisão, usamos a função ``train_test_split`` do ``sklearn`` e definimos que o conjunto de validação será 10% do conjunto de treino."
   ]
  },
  {
   "cell_type": "code",
   "execution_count": 13,
   "metadata": {},
   "outputs": [
    {
     "name": "stdout",
     "output_type": "stream",
     "text": [
      "(54000, 784) (6000, 784) (10000, 784) (54000, 10) (6000, 10) (10000, 10)\n"
     ]
    }
   ],
   "source": [
    "from sklearn.model_selection import train_test_split\n",
    "\n",
    "X_train, X_val, y_train, y_val = train_test_split(X_train, y_train, test_size = 0.1, random_state = 42)\n",
    "\n",
    "print(X_train.shape, X_val.shape, X_test.shape, y_train.shape, y_val.shape, y_test.shape)"
   ]
  },
  {
   "cell_type": "markdown",
   "metadata": {},
   "source": [
    "## Arquitetura da Rede\n",
    "\n",
    "Faremos uma rede simples, com:\n",
    "\n",
    "- **3 camadas ocultas**;\n",
    "- **25 neurônios cada**; \n",
    "- **Camadas densas**;\n",
    "- **função de ativação ReLu nas camadas escondidas**;\n",
    "- **10 neurônios e ativação Softmax na camada de saída**. \n",
    "\n",
    "Para a construção da rede neural, utilizaremos a biblioteca [Keras](https://keras.io/).\n",
    "\n",
    "Primeiro definimos que nossa rede é do tipo **sequencial**, utilizando a função ``Sequential()``. \n",
    "\n",
    "O Keras funciona de forma super intuitiva: construímos **a arquitetura** de nossa rede neural camada a camada, construindo assim a rede neural da forma que queiramos!\n",
    "\n",
    "[Clique aqui](https://keras.io/api/layers/) para conhecer melhor sobre a estrutura de camadas do Keras, e dar uma olhada nas camadas disponíveis!\n",
    "\n",
    "Dessa forma, utilizamos o método ``.add()`` para adicionar as camadas, uma após a outra, de forma que a saída da camada anterior camada seja a entrada da próxima camada. \n",
    "\n",
    "> A primeira camada adicionada é uma **camada densa (fully connected)** com 25 neurônios. Para isso, é usada a função ``Dense()``, que conecta todos os valores de input e todos o neurônios da camada. \n",
    "Na primeira camada, é necessário **definir a dimensão dos dados de entrada**. Em camadas subsequentes isso não será necessário, já que o Keras automaticamente determinará que a dimensão de entrada será a dimensão da saída da camada anterior. \n",
    "No caso da rede em questão, os **784 pixels da imagem estarão todos conectados, um a um, aos 25 neurônios da primeira camada, produzindo 25 saídas nessa camada**.\n",
    "\n",
    "> Após a camada densa, é necessário inserir **a camada de ativação**, por meio da função ``Activation()``. Ao usar essa função, é necessário definir qual função de fato será usada passando uma string como parâmetro pra função. Dentre as disponíveis no Keras estão ``'tanh'``, ``'sigmoid'``, ``'softmax'`` e ``'relu'``. Nessa camada, a `ReLu` será usada.\n",
    "\n",
    "Esse processo de ``Dense()`` e ``Activation()`` é repetido mais duas vezes com os mesmos parâmetros. \n",
    "\n",
    "> Posteriormente, por ser um problema de classificação com 10 classes diferentes, é importante que a **a camada de saída possua 10 neurônios**. Dessa forma, cada neurônio representará uma classe, e a predição final será a correspondente ao neurônio **com maior valor de saída**. \n",
    "Outro fator importante é o uso de uma **camada de ativação Softmax após essa última camada com 10 neurônios**. \n",
    "A ativação Softmax funciona como uma versão mais generalizada da função sigmóide (ou logística), usada para **predições multiclasse**\n",
    "Ou seja, com valores entre 0 e 1, a saída de cada neurônio pode ser interpretada como a **probabilidade daquela instância pertencer àquela classe**."
   ]
  },
  {
   "cell_type": "code",
   "execution_count": 14,
   "metadata": {},
   "outputs": [],
   "source": [
    "from tensorflow.keras.models import Sequential\n",
    "from tensorflow.keras.layers import Dense, Activation\n",
    "\n",
    "rede_simples = Sequential()\n",
    "\n",
    "# camada de oculta\n",
    "rede_simples.add(Dense(25,  input_dim = X_train.shape[1]))\n",
    "rede_simples.add(Activation('relu'))\n",
    "\n",
    "# camada oculta\n",
    "rede_simples.add(Dense(25))\n",
    "rede_simples.add(Activation('relu'))\n",
    "\n",
    "# camada oculta\n",
    "rede_simples.add(Dense(25))\n",
    "rede_simples.add(Activation('relu'))\n",
    "\n",
    "# camada de output\n",
    "rede_simples.add(Dense(y_train.shape[1]))\n",
    "rede_simples.add(Activation('softmax'))"
   ]
  },
  {
   "cell_type": "markdown",
   "metadata": {},
   "source": [
    "A rede então deve ser compilada usando o método ``compile()``. Devem ser passados a [função de perda](https://keras.io/losses/) e o [otimizador](https://keras.io/optimizers/) a serem utilizados. \n",
    "\n",
    "Para a função de perda, usamos ``categorial_crossentropy`` por ser um **problema de classificação multiclasse** (não binário). \n",
    "\n",
    "Já o otimizador escolhido foi o ``RMSprop()``.\n",
    "\n",
    "Diferentes funções de perda possuem diferentes propósitos, devendo ser escolhido caso a caso. Já os otimizadores possuem maior liberdade de escolha, não existindo uma regra fechada.\n",
    "\n",
    "A arquitetura da rede pode ser visualizada com o método ``.summary()``."
   ]
  },
  {
   "cell_type": "code",
   "execution_count": 15,
   "metadata": {},
   "outputs": [
    {
     "name": "stdout",
     "output_type": "stream",
     "text": [
      "Model: \"sequential\"\n",
      "_________________________________________________________________\n",
      "Layer (type)                 Output Shape              Param #   \n",
      "=================================================================\n",
      "dense (Dense)                (None, 25)                19625     \n",
      "_________________________________________________________________\n",
      "activation (Activation)      (None, 25)                0         \n",
      "_________________________________________________________________\n",
      "dense_1 (Dense)              (None, 25)                650       \n",
      "_________________________________________________________________\n",
      "activation_1 (Activation)    (None, 25)                0         \n",
      "_________________________________________________________________\n",
      "dense_2 (Dense)              (None, 25)                650       \n",
      "_________________________________________________________________\n",
      "activation_2 (Activation)    (None, 25)                0         \n",
      "_________________________________________________________________\n",
      "dense_3 (Dense)              (None, 10)                260       \n",
      "_________________________________________________________________\n",
      "activation_3 (Activation)    (None, 10)                0         \n",
      "=================================================================\n",
      "Total params: 21,185\n",
      "Trainable params: 21,185\n",
      "Non-trainable params: 0\n",
      "_________________________________________________________________\n"
     ]
    }
   ],
   "source": [
    "from tensorflow.keras.optimizers import RMSprop\n",
    "\n",
    "rede_simples.compile(loss = 'categorical_crossentropy', optimizer = RMSprop())\n",
    "\n",
    "pesos_iniciais = rede_simples.get_weights()\n",
    "\n",
    "rede_simples.summary()"
   ]
  },
  {
   "cell_type": "code",
   "execution_count": 16,
   "metadata": {},
   "outputs": [
    {
     "data": {
      "text/plain": [
       "[array([[ 0.02147554,  0.06906849, -0.01229263, ...,  0.0791288 ,\n",
       "          0.0440848 ,  0.06276229],\n",
       "        [-0.03741581,  0.05511653,  0.0718848 , ..., -0.04870196,\n",
       "          0.02536149,  0.08020698],\n",
       "        [-0.02661482,  0.0186422 , -0.03156541, ...,  0.07880707,\n",
       "          0.01626708, -0.01032396],\n",
       "        ...,\n",
       "        [ 0.01938287, -0.07054764, -0.0456641 , ..., -0.04381975,\n",
       "          0.01216589,  0.08136049],\n",
       "        [ 0.04019186, -0.07791051,  0.01674756, ...,  0.00249626,\n",
       "         -0.04197238, -0.02703526],\n",
       "        [-0.06968835,  0.05881916, -0.01784337, ..., -0.06411617,\n",
       "         -0.00153552, -0.06878018]], dtype=float32),\n",
       " array([0., 0., 0., 0., 0., 0., 0., 0., 0., 0., 0., 0., 0., 0., 0., 0., 0.,\n",
       "        0., 0., 0., 0., 0., 0., 0., 0.], dtype=float32),\n",
       " array([[-0.2869218 ,  0.18617678, -0.04964077,  0.1646297 ,  0.13874638,\n",
       "         -0.1002385 , -0.2598157 ,  0.17419231,  0.20501512, -0.01437417,\n",
       "          0.08223838,  0.03623879, -0.00636098, -0.2991685 , -0.15669058,\n",
       "         -0.21835853, -0.28484586, -0.25676268,  0.3301887 , -0.19773705,\n",
       "         -0.22258113, -0.10122009,  0.13042107, -0.15460229,  0.27526093],\n",
       "        [-0.0185307 , -0.01111323,  0.07861224,  0.29675955,  0.07728276,\n",
       "         -0.32381707, -0.24710509, -0.208019  , -0.30855218, -0.21472296,\n",
       "          0.21241033,  0.0027369 , -0.03279814, -0.29302755,  0.33989185,\n",
       "         -0.32833958, -0.13395645,  0.3298617 ,  0.05029437, -0.11422455,\n",
       "         -0.22499213,  0.24933231, -0.32455033,  0.1555193 ,  0.27281862],\n",
       "        [-0.18557872, -0.26496863, -0.02086428, -0.13410346,  0.23994595,\n",
       "         -0.22034392, -0.01805827,  0.03200319, -0.04592004,  0.06227639,\n",
       "          0.06027836, -0.12795773,  0.09786576, -0.21216919,  0.09124571,\n",
       "         -0.01724046, -0.20385173,  0.2415421 , -0.24322805, -0.28213227,\n",
       "         -0.10492395,  0.26451468,  0.10311589, -0.00327423, -0.27570292],\n",
       "        [-0.29061756, -0.18054417, -0.02234498, -0.01310134, -0.3342637 ,\n",
       "         -0.21138085, -0.1025825 , -0.21578252, -0.1154341 ,  0.17771989,\n",
       "          0.2597105 , -0.24669644,  0.20122206,  0.2027772 ,  0.27261877,\n",
       "          0.09353989, -0.09890787, -0.28317383,  0.22214961, -0.10274735,\n",
       "          0.25170743,  0.26236427, -0.11168654,  0.26916653, -0.05162978],\n",
       "        [ 0.19854158, -0.12455557, -0.05181241,  0.04950029,  0.23933595,\n",
       "          0.3115049 , -0.21951611, -0.17122042,  0.2590986 ,  0.19839662,\n",
       "          0.12151128,  0.20861977, -0.33107662, -0.0917325 , -0.32460302,\n",
       "          0.3450215 , -0.07140464, -0.22097814,  0.14624196,  0.23271376,\n",
       "         -0.308027  , -0.30863008,  0.11885262, -0.07597032, -0.00663409],\n",
       "        [-0.1906626 , -0.08370039, -0.17404866, -0.34487382, -0.21210071,\n",
       "         -0.32325068, -0.02442536, -0.33772492, -0.34129903,  0.28570217,\n",
       "          0.3081094 , -0.22032914,  0.28386265, -0.14150234,  0.13745812,\n",
       "         -0.29176176, -0.12770037, -0.10365981,  0.09277627,  0.0749993 ,\n",
       "          0.05569226,  0.09246844,  0.05068412,  0.16396147,  0.04015085],\n",
       "        [ 0.18713951,  0.20276731,  0.10561183,  0.17920506, -0.04697093,\n",
       "         -0.14964223, -0.32324192, -0.28536743,  0.13707134,  0.14806631,\n",
       "         -0.04590148, -0.25907668, -0.21855302, -0.3093814 , -0.19319613,\n",
       "         -0.15504861,  0.00132111,  0.11154756, -0.23101208, -0.19859831,\n",
       "          0.02841052, -0.26173124, -0.04046255, -0.331945  , -0.01323563],\n",
       "        [-0.1340805 ,  0.10050708,  0.01371855, -0.09477431,  0.16280437,\n",
       "          0.31863254,  0.2217663 , -0.16290958, -0.07258007,  0.19679368,\n",
       "          0.3051057 ,  0.2876817 ,  0.13900545, -0.21487592, -0.20246974,\n",
       "         -0.21184279,  0.30928838, -0.03051442, -0.25740018,  0.29118043,\n",
       "          0.02986386, -0.28423238,  0.06496528,  0.03046122,  0.28645647],\n",
       "        [-0.06970814,  0.26869065,  0.23233902,  0.16770315, -0.33222514,\n",
       "         -0.3315621 ,  0.33965468, -0.15086019, -0.12453921,  0.03123099,\n",
       "         -0.0875212 , -0.21672018, -0.2254913 , -0.28725   ,  0.03839737,\n",
       "          0.13319308,  0.01478595, -0.11959857,  0.01546666, -0.25892398,\n",
       "          0.26540834,  0.02999675, -0.3311503 ,  0.09309572, -0.07231113],\n",
       "        [ 0.2989776 ,  0.32052445,  0.10529041,  0.11637092, -0.07947677,\n",
       "         -0.01485556, -0.03908741,  0.1552487 ,  0.15208542,  0.3153258 ,\n",
       "         -0.12900168,  0.20717734,  0.10362142,  0.27328318, -0.32558337,\n",
       "         -0.2502821 ,  0.2408815 , -0.06748563, -0.32431576, -0.00300506,\n",
       "         -0.13857591, -0.01984182, -0.00986338,  0.23027551,  0.17359442],\n",
       "        [-0.01059258, -0.06021136, -0.0627237 ,  0.05035847,  0.10624167,\n",
       "         -0.21326913, -0.33701596,  0.14769796,  0.27241045, -0.05568928,\n",
       "          0.12959921, -0.33923635,  0.07670373, -0.33475274, -0.2943679 ,\n",
       "         -0.07382619, -0.3430622 ,  0.17968357, -0.2822308 , -0.12261412,\n",
       "         -0.12423909,  0.00094748, -0.03171405, -0.32630858, -0.3357866 ],\n",
       "        [ 0.06852123,  0.29568464, -0.17627795,  0.23561788, -0.03550297,\n",
       "          0.10853234, -0.2077809 , -0.14163193, -0.11869551,  0.07564846,\n",
       "         -0.09481138, -0.24841318, -0.3369992 , -0.11425157, -0.21001737,\n",
       "          0.33927232,  0.32863528, -0.15945184, -0.33130258, -0.03446102,\n",
       "          0.24403018,  0.098061  ,  0.23036325, -0.26346654, -0.22514987],\n",
       "        [-0.29224905,  0.14117414,  0.25965273, -0.23915608,  0.2313335 ,\n",
       "         -0.23398905,  0.27427685,  0.24476957,  0.08294377, -0.3070185 ,\n",
       "         -0.30095023,  0.10602099, -0.10809468, -0.1512572 ,  0.20521098,\n",
       "          0.2626896 ,  0.06932268, -0.3218582 , -0.06552765,  0.3084321 ,\n",
       "          0.13321552,  0.04527709,  0.30808467, -0.08728665, -0.11889918],\n",
       "        [-0.07913452,  0.07033756, -0.11177301, -0.34432426,  0.13388467,\n",
       "         -0.34010732, -0.04631615,  0.03504214,  0.3372469 ,  0.06923273,\n",
       "         -0.29026884,  0.03268135, -0.29615664, -0.18701035, -0.3161536 ,\n",
       "         -0.13493367,  0.31044936, -0.22921407, -0.01523632, -0.26757586,\n",
       "          0.33399802, -0.15205659, -0.2460766 , -0.1948572 , -0.05067983],\n",
       "        [ 0.2081002 ,  0.33302122,  0.3353156 ,  0.1177412 , -0.2016796 ,\n",
       "         -0.02005976, -0.25988054, -0.08484524,  0.08509395, -0.29926968,\n",
       "          0.00692886, -0.10132167,  0.20927769,  0.2508657 , -0.248498  ,\n",
       "         -0.11811954, -0.06090349, -0.09167838,  0.06641996,  0.20778751,\n",
       "          0.16798055, -0.05575147,  0.05188078,  0.33637756,  0.26421976],\n",
       "        [-0.10072768,  0.26686943,  0.04890332,  0.06663427, -0.3410989 ,\n",
       "         -0.16727953, -0.11753108,  0.2576813 , -0.23302893,  0.19878936,\n",
       "          0.13985524,  0.3069507 ,  0.25318635,  0.29869103, -0.2248528 ,\n",
       "         -0.3378475 , -0.09226766,  0.25692964, -0.18327592, -0.32447037,\n",
       "          0.1668939 ,  0.17673886,  0.28705156,  0.3005256 ,  0.05115786],\n",
       "        [-0.25419492,  0.00966689, -0.21191943, -0.00367519, -0.28665394,\n",
       "         -0.04417434,  0.13324079,  0.05832961, -0.16659734,  0.2568398 ,\n",
       "         -0.17679018, -0.07491794, -0.06996185, -0.093474  , -0.05149111,\n",
       "         -0.29371595, -0.13936704,  0.33705503, -0.15754078,  0.23966384,\n",
       "         -0.11331044, -0.2787103 ,  0.30458575, -0.00546271, -0.2498699 ],\n",
       "        [-0.30145526,  0.15259278, -0.03956777,  0.21956748,  0.12106404,\n",
       "         -0.30443752, -0.03870741, -0.0179548 ,  0.18199092, -0.05661777,\n",
       "          0.23606306,  0.1014525 ,  0.10085166, -0.19211915,  0.00171748,\n",
       "         -0.2999636 ,  0.27479345, -0.24835023, -0.00310466,  0.05454549,\n",
       "          0.29527354,  0.11969495, -0.13218082,  0.11188245,  0.27165002],\n",
       "        [-0.03759104, -0.31533247,  0.3122601 , -0.17329428,  0.32657164,\n",
       "         -0.24831612,  0.00154477, -0.21788396,  0.23834014, -0.08061174,\n",
       "         -0.22748965,  0.27915388, -0.04119793,  0.16865623, -0.0813117 ,\n",
       "          0.07209864,  0.24403453, -0.06651601,  0.17718154, -0.02003962,\n",
       "         -0.2467606 , -0.00210151,  0.13180068, -0.09070036,  0.04610085],\n",
       "        [ 0.27795517,  0.23167485, -0.09656784,  0.23700029, -0.05933797,\n",
       "         -0.13745144, -0.27767107, -0.18165617,  0.04189789, -0.24961552,\n",
       "          0.10027897, -0.24031094, -0.01089272, -0.2467848 ,  0.2930848 ,\n",
       "          0.09288248, -0.14473808,  0.28623486, -0.22726287,  0.31984258,\n",
       "         -0.24145284, -0.20719525,  0.2681418 , -0.15949363,  0.09044391],\n",
       "        [ 0.18023252, -0.25774962, -0.14953245,  0.02538091,  0.17774451,\n",
       "         -0.19081108,  0.2595417 ,  0.19572628, -0.13685314, -0.07174027,\n",
       "         -0.14288242, -0.02011734, -0.05187616,  0.23499346, -0.33560327,\n",
       "          0.00769192,  0.16888672,  0.0806841 ,  0.14242852,  0.06783119,\n",
       "         -0.1404408 , -0.12622473, -0.21951264, -0.28012434,  0.15006617],\n",
       "        [-0.16348656, -0.2630759 , -0.0017767 ,  0.2960769 ,  0.09753862,\n",
       "          0.17332333, -0.26796353,  0.0496026 , -0.00591546, -0.2241682 ,\n",
       "          0.33333266, -0.21771953,  0.30248457, -0.10639893,  0.27150452,\n",
       "          0.02185142, -0.06272262, -0.05088192,  0.19326419, -0.328364  ,\n",
       "          0.07243058,  0.25674212,  0.26849812, -0.14416622, -0.15030733],\n",
       "        [-0.333016  , -0.03689703,  0.00256377,  0.16534972,  0.0160509 ,\n",
       "         -0.34531954, -0.06139523,  0.09673005, -0.31047672,  0.3017401 ,\n",
       "         -0.30179182,  0.31494594,  0.16312355, -0.11228682,  0.28423315,\n",
       "          0.10731041,  0.05313641,  0.26105374, -0.16542363,  0.1039142 ,\n",
       "         -0.25035354,  0.1713596 , -0.32281584,  0.27353352,  0.3094498 ],\n",
       "        [ 0.2512625 ,  0.21349931, -0.175224  ,  0.00263828, -0.33264732,\n",
       "         -0.18960147, -0.10569485,  0.00313348, -0.22527954,  0.17645913,\n",
       "         -0.3208069 ,  0.26835907, -0.26468104,  0.19897789,  0.31386018,\n",
       "          0.3093384 , -0.30950361, -0.29307884, -0.2660347 , -0.3315075 ,\n",
       "          0.11844328, -0.00652847, -0.29567027, -0.0092732 , -0.06205207],\n",
       "        [ 0.26806778,  0.06990454,  0.15098482, -0.08183086, -0.1884613 ,\n",
       "         -0.30844614, -0.09826334,  0.14113978, -0.259655  ,  0.17268342,\n",
       "         -0.07389233,  0.2194531 , -0.10212636, -0.15901427, -0.22868928,\n",
       "         -0.12197147, -0.07263118,  0.04672804,  0.16068178,  0.20936018,\n",
       "         -0.12133247, -0.15244073, -0.11079763,  0.08403274, -0.01158482]],\n",
       "       dtype=float32),\n",
       " array([0., 0., 0., 0., 0., 0., 0., 0., 0., 0., 0., 0., 0., 0., 0., 0., 0.,\n",
       "        0., 0., 0., 0., 0., 0., 0., 0.], dtype=float32),\n",
       " array([[ 1.75083339e-01,  3.39990199e-01, -2.95252621e-01,\n",
       "         -1.80360228e-01,  2.78419256e-01, -3.08537066e-01,\n",
       "          1.02043182e-01, -3.12048733e-01,  1.40940875e-01,\n",
       "          3.98432016e-02,  6.27302229e-02, -1.56213716e-01,\n",
       "          2.76283920e-01,  8.35746825e-02,  1.85543180e-01,\n",
       "         -2.32565522e-01, -1.76237717e-01,  1.09490395e-01,\n",
       "          3.07642102e-01, -2.09850371e-01,  2.98299193e-02,\n",
       "          3.46044421e-01,  2.86809325e-01, -2.50146508e-01,\n",
       "          1.20755732e-01],\n",
       "        [-2.20924020e-02, -4.10553813e-02,  1.46474212e-01,\n",
       "         -3.18485111e-01, -4.74298894e-02, -1.71449691e-01,\n",
       "          1.20701969e-01, -1.28523409e-02, -5.14124930e-02,\n",
       "         -2.16466531e-01,  2.99266040e-01, -2.79877961e-01,\n",
       "          2.37141967e-01,  6.36375546e-02,  2.18122900e-01,\n",
       "         -3.14811468e-01, -3.41962814e-01, -3.56243849e-02,\n",
       "          8.36667418e-03, -2.04346120e-01,  5.00736237e-02,\n",
       "         -2.77271569e-01,  1.82299316e-01,  1.84292793e-02,\n",
       "          9.52732563e-03],\n",
       "        [-1.88216165e-01, -4.37158644e-02, -2.17230618e-02,\n",
       "         -2.75687575e-02,  3.36942434e-01,  1.03712410e-01,\n",
       "         -5.42610586e-02,  3.19110751e-01,  2.62486637e-01,\n",
       "          2.90420830e-01, -1.23650879e-01,  1.07077986e-01,\n",
       "         -2.79771000e-01,  3.03713262e-01,  5.97008765e-02,\n",
       "          2.37347245e-01, -1.13271296e-01, -1.79231554e-01,\n",
       "         -2.66696006e-01,  3.27171683e-01, -2.41520703e-02,\n",
       "          3.24101269e-01,  3.17385674e-01,  4.67889905e-02,\n",
       "         -2.09667921e-01],\n",
       "        [-3.24211687e-01,  2.85552621e-01, -1.13770470e-01,\n",
       "         -4.97621596e-02, -8.24595392e-02, -2.38215372e-01,\n",
       "          1.09351128e-01,  1.63532913e-01,  7.33642578e-02,\n",
       "          2.67014623e-01, -2.99452424e-01,  1.77860439e-01,\n",
       "         -1.04987785e-01, -2.29163349e-01, -2.43065417e-01,\n",
       "          9.49808657e-02,  1.97878957e-01,  1.64000988e-01,\n",
       "          2.63469934e-01,  1.38548404e-01, -1.17599785e-01,\n",
       "          3.05403173e-01, -1.80516168e-01,  1.84992254e-02,\n",
       "         -1.06231600e-01],\n",
       "        [-1.38333082e-01,  3.29635739e-01, -2.75587052e-01,\n",
       "         -2.50151783e-01, -1.87654391e-01,  8.99709165e-02,\n",
       "         -1.93151623e-01, -5.11556864e-03,  1.29141003e-01,\n",
       "         -2.86296010e-01, -3.27065289e-01,  2.27999389e-01,\n",
       "         -8.56662989e-02,  2.72440195e-01, -1.56257242e-01,\n",
       "         -1.00594550e-01,  2.81934142e-01, -1.51565507e-01,\n",
       "          2.99447179e-02,  2.45355427e-01, -2.67970383e-01,\n",
       "          7.11252093e-02, -4.21870351e-02,  1.44019127e-01,\n",
       "          2.16606557e-01],\n",
       "        [ 4.56176996e-02, -3.65724564e-02, -2.57572144e-01,\n",
       "         -8.89106095e-02, -3.18502694e-01, -1.64009765e-01,\n",
       "          1.46464646e-01, -2.26881951e-01, -1.73309147e-01,\n",
       "         -2.42670387e-01,  3.27069521e-01, -2.58276701e-01,\n",
       "         -2.87540555e-01,  1.80208325e-01,  1.74027622e-01,\n",
       "          3.26031029e-01,  3.45251262e-01,  2.82452166e-01,\n",
       "          2.53059268e-02,  3.18928897e-01,  1.57807946e-01,\n",
       "          2.03965008e-02,  3.72326076e-02, -1.58978760e-01,\n",
       "         -7.83071518e-02],\n",
       "        [-7.19585717e-02,  1.00584149e-01,  3.37521434e-02,\n",
       "         -2.18473569e-01,  2.67764628e-02,  6.63639605e-02,\n",
       "         -2.20211610e-01,  2.70765007e-01,  1.87330365e-01,\n",
       "         -2.87191361e-01,  1.75115287e-01,  2.54028082e-01,\n",
       "         -1.97911397e-01, -3.34419638e-01, -1.58163428e-01,\n",
       "         -6.24869764e-02,  7.62731731e-02, -2.71456033e-01,\n",
       "          3.33218455e-01,  1.03449196e-01, -3.44580442e-01,\n",
       "         -5.32288253e-02, -2.29435980e-01, -2.31156349e-01,\n",
       "         -2.51177967e-01],\n",
       "        [-3.19069773e-01, -3.06014657e-01, -1.37952849e-01,\n",
       "          1.36698872e-01,  9.71364081e-02, -2.00172812e-01,\n",
       "         -3.54914963e-02, -2.61670709e-01,  3.22916031e-01,\n",
       "          1.53071553e-01, -2.37592399e-01, -5.69659770e-02,\n",
       "         -2.89857149e-01, -5.70428669e-02,  2.28880346e-01,\n",
       "         -1.76207736e-01, -3.25800836e-01, -3.08422685e-01,\n",
       "          2.84888566e-01,  1.04186088e-01,  2.73569465e-01,\n",
       "         -8.07189941e-03,  1.52750432e-01, -1.89424634e-01,\n",
       "          8.44153762e-02],\n",
       "        [-2.89848804e-01, -2.72608161e-01, -9.71374661e-02,\n",
       "          9.87794399e-02, -2.60310173e-01, -2.05282032e-01,\n",
       "          1.78758979e-01, -2.12246895e-01, -2.56424129e-01,\n",
       "          2.06673384e-01,  1.78714693e-01,  3.37120712e-01,\n",
       "         -1.20187685e-01,  6.05972409e-02,  2.41478264e-01,\n",
       "         -3.10118675e-01, -9.84084606e-02, -1.70581415e-01,\n",
       "          1.75350845e-01,  3.20434511e-01, -1.19826764e-01,\n",
       "          8.08609128e-02, -6.56100810e-02, -6.28654957e-02,\n",
       "          1.00194216e-01],\n",
       "        [-1.56203717e-01, -2.03744531e-01,  1.01229250e-01,\n",
       "         -3.19946378e-01, -3.36406529e-02, -3.01121920e-01,\n",
       "          2.21468985e-01, -3.27307522e-01,  1.06602281e-01,\n",
       "          3.40687692e-01,  1.18088126e-02,  3.41054082e-01,\n",
       "         -5.50350547e-03, -9.52872038e-02, -9.10213590e-03,\n",
       "         -2.08793133e-01, -2.22092450e-01, -2.23294139e-01,\n",
       "          9.23112929e-02,  5.35950363e-02, -1.45273596e-01,\n",
       "         -1.91696286e-01,  1.79433823e-02,  4.68764603e-02,\n",
       "         -1.85185090e-01],\n",
       "        [ 1.31839067e-01,  2.66497314e-01, -3.00387532e-01,\n",
       "         -3.32963645e-01,  2.99763143e-01,  1.45611644e-01,\n",
       "          2.55205095e-01, -2.40171939e-01, -2.41520733e-01,\n",
       "          1.60068452e-01, -1.34988666e-01,  1.55246139e-01,\n",
       "         -3.06030691e-01,  1.84126437e-01,  1.31766796e-02,\n",
       "         -2.26219654e-01,  8.76759589e-02,  1.82542205e-03,\n",
       "          3.27941418e-01,  2.70051479e-01, -1.42133832e-01,\n",
       "          2.12985277e-01, -5.18602133e-02, -1.46525800e-02,\n",
       "          1.07750207e-01],\n",
       "        [ 3.35603237e-01,  1.24308944e-01,  2.00834632e-01,\n",
       "         -1.51165351e-01, -1.66689754e-01, -1.79497167e-01,\n",
       "         -5.94338477e-02,  2.14067221e-01,  1.34850740e-02,\n",
       "         -2.47070655e-01, -2.30828390e-01, -2.25244597e-01,\n",
       "         -3.38412672e-01,  5.23566604e-02,  5.44305146e-02,\n",
       "         -1.72547236e-01,  3.20842028e-01,  1.06566101e-01,\n",
       "          3.43358934e-01,  8.03623199e-02, -5.91189563e-02,\n",
       "         -1.99795783e-01,  3.36130619e-01, -3.42204899e-01,\n",
       "         -2.18770728e-01],\n",
       "        [ 8.39099288e-02, -1.08512759e-01, -1.61465317e-01,\n",
       "         -2.77762979e-01, -1.28699467e-01,  6.33026659e-02,\n",
       "         -2.95240223e-01,  1.33004785e-03, -1.54341549e-01,\n",
       "          3.04630399e-02,  1.56221390e-01,  3.33416939e-01,\n",
       "         -1.25758752e-01, -2.13021606e-01,  2.13092387e-01,\n",
       "          8.15473199e-02, -1.76125392e-01, -6.60279393e-03,\n",
       "         -2.68824190e-01,  7.29237199e-02,  2.70978808e-01,\n",
       "         -1.03546754e-01,  3.36663485e-01,  1.32180244e-01,\n",
       "          1.32527947e-01],\n",
       "        [-2.62470514e-01, -1.09429345e-01,  1.17523074e-02,\n",
       "          1.33375525e-02,  6.89904988e-02,  3.08056474e-01,\n",
       "          1.97920620e-01, -7.42116570e-03,  1.50763392e-01,\n",
       "         -1.81119651e-01,  3.45888257e-01, -2.26013273e-01,\n",
       "          1.34361953e-01, -3.44699711e-01, -9.78423804e-02,\n",
       "         -2.79481769e-01,  1.27827227e-02, -8.53634179e-02,\n",
       "          2.82666445e-01,  2.13900268e-01, -2.26561666e-01,\n",
       "         -1.11416727e-01,  2.06935704e-02, -3.44311297e-02,\n",
       "          1.30361199e-01],\n",
       "        [ 2.54835069e-01, -3.26683551e-01,  3.14591467e-01,\n",
       "          5.58734536e-02, -1.22622252e-02,  2.01478601e-01,\n",
       "          3.13126206e-01,  6.01913929e-02,  9.45803523e-03,\n",
       "          1.83332920e-01,  2.76271462e-01, -4.59939241e-04,\n",
       "         -2.44762912e-01, -2.04036728e-01, -7.78481066e-02,\n",
       "          2.91765809e-01,  2.31600285e-01, -3.24977875e-01,\n",
       "          2.38410175e-01,  8.22860301e-02, -3.36988389e-01,\n",
       "         -1.84108853e-01,  7.92388320e-02,  6.91314936e-02,\n",
       "          3.28729510e-01],\n",
       "        [ 1.61284447e-01,  2.45180070e-01,  5.86000979e-02,\n",
       "          3.20504725e-01,  4.32232320e-02, -2.23320484e-01,\n",
       "         -4.61243689e-02,  5.88906705e-02,  2.63031602e-01,\n",
       "         -7.62226284e-02,  1.76732838e-01,  3.12059343e-01,\n",
       "         -2.43163705e-01,  4.32530344e-02,  2.23826110e-01,\n",
       "         -2.95760393e-01,  1.19373739e-01,  3.25504482e-01,\n",
       "          7.73229897e-02, -4.02916670e-02,  7.09824264e-02,\n",
       "          3.23931575e-01,  2.06217766e-01, -7.52002299e-02,\n",
       "          2.12700009e-01],\n",
       "        [-2.13649124e-01, -1.84352100e-02,  1.97497845e-01,\n",
       "          3.06678176e-01,  3.35171163e-01, -9.55186784e-02,\n",
       "         -8.82217288e-02, -2.86279798e-01, -1.80681348e-01,\n",
       "         -3.43486607e-01,  9.88147259e-02,  2.98191905e-02,\n",
       "          1.83884799e-02,  1.42660260e-01,  8.23500454e-02,\n",
       "         -1.87686935e-01,  1.79681480e-01, -4.99418080e-02,\n",
       "         -1.48860514e-02, -6.88368976e-02,  4.34396863e-02,\n",
       "         -4.53697443e-02, -2.62441337e-01,  1.88634157e-01,\n",
       "          2.72555649e-01],\n",
       "        [ 8.59922767e-02, -1.02771133e-01,  2.81459510e-01,\n",
       "         -1.12078279e-01, -1.54580817e-01, -1.06849551e-01,\n",
       "          2.66189694e-01, -1.48393124e-01,  6.85177445e-02,\n",
       "         -2.92473525e-01,  1.44713879e-01, -2.99638748e-01,\n",
       "          4.27090228e-02, -2.32387543e-01,  3.09215724e-01,\n",
       "          2.94438004e-01,  2.45095849e-01,  2.07420826e-01,\n",
       "         -1.85606226e-01, -1.41558662e-01, -5.28393984e-02,\n",
       "          3.39274466e-01, -1.52646452e-01,  1.33686632e-01,\n",
       "          1.27901644e-01],\n",
       "        [-9.62296426e-02,  2.20419884e-01, -1.36834070e-01,\n",
       "          2.09410012e-01,  2.60402322e-01, -2.70258218e-01,\n",
       "         -1.34220734e-01, -1.25303924e-01,  3.74403000e-02,\n",
       "          1.15649164e-01,  1.87706351e-01, -2.39113629e-01,\n",
       "         -1.28300235e-01,  7.65985250e-03,  2.15413928e-01,\n",
       "          5.21079004e-02,  2.59132862e-01,  3.14932466e-01,\n",
       "         -2.74746716e-02, -7.75505304e-02,  5.42827547e-02,\n",
       "          2.47425377e-01, -2.03255832e-01, -1.75718144e-01,\n",
       "         -7.56622553e-02],\n",
       "        [-1.95788324e-01, -3.35117131e-01, -1.66604221e-02,\n",
       "         -1.16230682e-01,  5.77405095e-02, -7.95730948e-02,\n",
       "          2.71911919e-01, -1.77630782e-01,  1.74738705e-01,\n",
       "          3.11745524e-01,  6.39291108e-02,  2.59902596e-01,\n",
       "         -1.33421719e-02, -4.17353511e-02,  2.18354762e-02,\n",
       "         -1.05329543e-01, -4.85058129e-02, -2.03172177e-01,\n",
       "          6.40815496e-02, -2.02324301e-01,  1.51559711e-02,\n",
       "         -3.41965467e-01, -2.50758499e-01,  2.83818007e-01,\n",
       "          1.74093246e-03],\n",
       "        [ 3.05332303e-01,  3.23116243e-01, -2.62551367e-01,\n",
       "          9.14099813e-02, -2.63757765e-01, -3.00493151e-01,\n",
       "         -2.76398659e-01, -2.90020496e-01,  5.72053194e-02,\n",
       "         -2.85237193e-01,  3.15395474e-01, -1.44765407e-01,\n",
       "         -7.13616014e-02,  2.31972277e-01,  1.02826059e-01,\n",
       "         -7.69291818e-02,  2.36613929e-01,  2.95584738e-01,\n",
       "          5.08272648e-02, -1.62975654e-01, -9.42202806e-02,\n",
       "          1.82418048e-01,  2.36743689e-01, -2.14237586e-01,\n",
       "         -2.83583403e-01],\n",
       "        [ 2.45141864e-01,  3.41587126e-01, -1.41338885e-01,\n",
       "          6.44487143e-03, -1.06413886e-01, -2.33431563e-01,\n",
       "         -2.96746254e-01,  1.26214743e-01,  1.80528700e-01,\n",
       "          3.42930853e-01, -1.00804240e-01, -2.87995309e-01,\n",
       "          2.96362221e-01, -7.74719119e-02,  1.88605249e-01,\n",
       "         -5.62944114e-02, -6.21415079e-02,  2.88937569e-01,\n",
       "          9.50298309e-02,  1.32269561e-02,  1.54125214e-01,\n",
       "          1.88624501e-01,  2.35075831e-01, -1.18283883e-01,\n",
       "         -7.54769146e-02],\n",
       "        [-6.59693480e-02, -7.58465230e-02, -8.40624571e-02,\n",
       "         -2.26241231e-01, -1.20522171e-01, -2.08521321e-01,\n",
       "          5.27032316e-02, -2.38830507e-01,  2.45401025e-01,\n",
       "          2.80901253e-01,  1.98945105e-02, -1.59036994e-01,\n",
       "         -3.07986617e-01,  4.44522500e-02, -1.01000726e-01,\n",
       "         -3.93559039e-02, -3.14773619e-02,  2.36424804e-02,\n",
       "          1.85435712e-02, -3.18409801e-01, -3.21174353e-01,\n",
       "          3.03972542e-01, -3.02338243e-01,  1.54850364e-01,\n",
       "          1.16116375e-01],\n",
       "        [-1.23987257e-01,  1.76197410e-01,  8.83962512e-02,\n",
       "          2.30279565e-03,  2.39215493e-02,  2.03331232e-01,\n",
       "         -2.19852760e-01, -1.12971410e-01, -3.51299047e-02,\n",
       "          7.18713403e-02,  6.34608865e-02, -1.58683255e-01,\n",
       "          4.54705060e-02, -1.04119435e-01, -1.66351542e-01,\n",
       "          1.55013144e-01,  5.54278791e-02, -2.03789040e-01,\n",
       "          2.24683642e-01,  3.10545325e-01,  1.47463977e-02,\n",
       "         -9.66921449e-02, -1.42129868e-01,  1.71212673e-01,\n",
       "         -1.20722130e-01],\n",
       "        [-2.92610228e-01, -2.10028350e-01, -3.32263380e-01,\n",
       "          2.05666006e-01,  3.37427020e-01,  1.01003438e-01,\n",
       "          1.49853498e-01,  1.62313282e-01, -7.54892826e-05,\n",
       "         -1.34314388e-01, -1.39580205e-01, -2.64704078e-01,\n",
       "         -3.37447762e-01, -6.07833266e-03,  2.70229042e-01,\n",
       "          3.64969671e-02,  1.70891821e-01,  2.79169917e-01,\n",
       "          1.41659498e-01, -7.97435641e-02, -1.42254487e-01,\n",
       "          1.93922877e-01, -2.04896092e-01,  1.79257154e-01,\n",
       "         -2.47403830e-01]], dtype=float32),\n",
       " array([0., 0., 0., 0., 0., 0., 0., 0., 0., 0., 0., 0., 0., 0., 0., 0., 0.,\n",
       "        0., 0., 0., 0., 0., 0., 0., 0.], dtype=float32),\n",
       " array([[-0.11247095, -0.37755322, -0.32506278, -0.07402417, -0.04190072,\n",
       "         -0.25525612, -0.10674146, -0.39161977, -0.2142295 ,  0.15962979],\n",
       "        [-0.16339499, -0.3215446 ,  0.07560289, -0.34899783,  0.01721573,\n",
       "          0.0403969 ,  0.14359567,  0.01678279, -0.38458702,  0.27562585],\n",
       "        [-0.09626752,  0.03840801, -0.38480628, -0.22564161,  0.02532703,\n",
       "         -0.14570048, -0.0810478 ,  0.34926572,  0.31027618,  0.33036426],\n",
       "        [-0.32425588,  0.09942797, -0.400518  ,  0.13298497,  0.15415779,\n",
       "         -0.23199922, -0.16888106, -0.38346633, -0.10167474,  0.40866652],\n",
       "        [-0.06729004, -0.257745  , -0.29343182, -0.25662518, -0.1889768 ,\n",
       "         -0.10251263, -0.2651078 ,  0.2077994 ,  0.27242646,  0.3352227 ],\n",
       "        [-0.2608114 ,  0.1950747 , -0.07066095, -0.28494722,  0.33706984,\n",
       "          0.3319805 , -0.00297022, -0.21550559,  0.26392314,  0.25749424],\n",
       "        [ 0.3203939 ,  0.22021005, -0.09286544,  0.02181959,  0.13505152,\n",
       "          0.09530684, -0.0257062 , -0.03367355,  0.22261897, -0.2856685 ],\n",
       "        [ 0.08219427,  0.07202223, -0.4060383 ,  0.14730695, -0.15516368,\n",
       "         -0.11039805,  0.3470575 ,  0.26798943,  0.31095555,  0.26320687],\n",
       "        [ 0.27168915,  0.37508968, -0.3023662 ,  0.40694532, -0.01975903,\n",
       "          0.31331918,  0.04782784,  0.25659308,  0.10719833, -0.2686267 ],\n",
       "        [-0.18131635, -0.21493432, -0.02267191, -0.4056552 ,  0.36955962,\n",
       "         -0.39236546,  0.15019664, -0.02864295, -0.41121197, -0.06405288],\n",
       "        [-0.32603088,  0.02959427,  0.15255216,  0.32159415,  0.06371143,\n",
       "         -0.33095783,  0.18512961, -0.17045832, -0.03999919,  0.02681851],\n",
       "        [-0.00421402, -0.14073613, -0.12010297, -0.05096006, -0.12896904,\n",
       "          0.2872763 , -0.27445552,  0.10680905,  0.341929  ,  0.39977685],\n",
       "        [ 0.11339632,  0.3365862 , -0.24909167,  0.01970562, -0.3079117 ,\n",
       "          0.30182633,  0.022026  , -0.3710728 , -0.27347508,  0.17633572],\n",
       "        [-0.36227524,  0.20509759,  0.17800161,  0.11751822,  0.27407685,\n",
       "          0.22401705, -0.00338146,  0.1291264 , -0.09283879, -0.25878763],\n",
       "        [-0.37861055, -0.37716222, -0.37127566,  0.06041613, -0.237876  ,\n",
       "          0.22364888,  0.3987523 , -0.0935435 , -0.0096603 , -0.24131335],\n",
       "        [-0.0282943 , -0.28624874, -0.20640932,  0.3788962 ,  0.22866502,\n",
       "          0.10155174,  0.12981293, -0.18370791,  0.27130392,  0.33531037],\n",
       "        [ 0.10041723,  0.41115054,  0.03249767, -0.06047153, -0.15067196,\n",
       "         -0.3443601 ,  0.15713522, -0.07450727,  0.01727882, -0.07844558],\n",
       "        [-0.3568029 ,  0.32515636,  0.3473173 , -0.17387503, -0.07785428,\n",
       "         -0.40368596,  0.16803607,  0.17797586,  0.3615308 ,  0.07076797],\n",
       "        [ 0.05623448, -0.29590443,  0.153869  ,  0.04062119, -0.19812113,\n",
       "         -0.23111819,  0.34064665, -0.08653614, -0.2691126 , -0.19363376],\n",
       "        [-0.30996478,  0.16238359, -0.23512779,  0.23572305, -0.02313429,\n",
       "         -0.09634542,  0.3906013 ,  0.08012205,  0.04101288, -0.34465456],\n",
       "        [-0.32875758,  0.15056476,  0.13564816, -0.17710043,  0.17949238,\n",
       "         -0.34663656,  0.17306963, -0.06296012,  0.05039987,  0.20953777],\n",
       "        [ 0.00399232, -0.32210863, -0.15498924, -0.0061979 ,  0.08871123,\n",
       "         -0.13719296,  0.21536985, -0.13920131, -0.39486432, -0.27796757],\n",
       "        [ 0.24155936,  0.08360994,  0.20211938, -0.05337828, -0.09117019,\n",
       "         -0.28371426, -0.27501196,  0.10524592, -0.26792723, -0.29541028],\n",
       "        [ 0.13737014, -0.41036597,  0.09993389, -0.20934203, -0.06470391,\n",
       "         -0.00480366,  0.15053555, -0.10963529,  0.30622587, -0.33537954],\n",
       "        [ 0.321511  ,  0.37240288,  0.08607236,  0.16164824, -0.37943146,\n",
       "         -0.24674888, -0.35419753, -0.01191241, -0.22030805, -0.15201804]],\n",
       "       dtype=float32),\n",
       " array([0., 0., 0., 0., 0., 0., 0., 0., 0., 0.], dtype=float32)]"
      ]
     },
     "execution_count": 16,
     "metadata": {},
     "output_type": "execute_result"
    }
   ],
   "source": [
    "# pesoas aleatórios iniciais\n",
    "pesos_iniciais"
   ]
  },
  {
   "cell_type": "markdown",
   "metadata": {},
   "source": [
    "## Treinamento\n",
    "\n",
    "Agora vem a parte de treinamento da rede neural. Para isso, basta usar o método ``.fit()`` e definir a quantidade de epochs, conjunto de treino e conjunto de validação. O parâmetro ``verbose`` define se informações de treinamento devem ser exibidas na tela a cada epoch."
   ]
  },
  {
   "cell_type": "code",
   "execution_count": 17,
   "metadata": {
    "scrolled": true
   },
   "outputs": [
    {
     "name": "stdout",
     "output_type": "stream",
     "text": [
      "Epoch 1/100\n",
      "1688/1688 [==============================] - 1s 668us/step - loss: 0.4118 - val_loss: 0.2307\n",
      "Epoch 2/100\n",
      "1688/1688 [==============================] - 1s 599us/step - loss: 0.2139 - val_loss: 0.1933\n",
      "Epoch 3/100\n",
      "1688/1688 [==============================] - 1s 606us/step - loss: 0.1771 - val_loss: 0.1683\n",
      "Epoch 4/100\n",
      "1688/1688 [==============================] - 1s 619us/step - loss: 0.1563 - val_loss: 0.1592\n",
      "Epoch 5/100\n",
      "1688/1688 [==============================] - 1s 610us/step - loss: 0.1410 - val_loss: 0.1557\n",
      "Epoch 6/100\n",
      "1688/1688 [==============================] - 1s 599us/step - loss: 0.1307 - val_loss: 0.1462\n",
      "Epoch 7/100\n",
      "1688/1688 [==============================] - 1s 597us/step - loss: 0.1214 - val_loss: 0.1564\n",
      "Epoch 8/100\n",
      "1688/1688 [==============================] - 1s 618us/step - loss: 0.1152 - val_loss: 0.1340\n",
      "Epoch 9/100\n",
      "1688/1688 [==============================] - 1s 614us/step - loss: 0.1087 - val_loss: 0.1363\n",
      "Epoch 10/100\n",
      "1688/1688 [==============================] - 1s 602us/step - loss: 0.1042 - val_loss: 0.1648\n",
      "Epoch 11/100\n",
      "1688/1688 [==============================] - 1s 666us/step - loss: 0.1001 - val_loss: 0.1482\n",
      "Epoch 12/100\n",
      "1688/1688 [==============================] - 1s 610us/step - loss: 0.0981 - val_loss: 0.1331\n",
      "Epoch 13/100\n",
      "1688/1688 [==============================] - 1s 599us/step - loss: 0.0935 - val_loss: 0.1607\n",
      "Epoch 14/100\n",
      "1688/1688 [==============================] - 1s 605us/step - loss: 0.0905 - val_loss: 0.1406\n",
      "Epoch 15/100\n",
      "1688/1688 [==============================] - 1s 612us/step - loss: 0.0864 - val_loss: 0.1525\n",
      "Epoch 16/100\n",
      "1688/1688 [==============================] - 1s 618us/step - loss: 0.0854 - val_loss: 0.1596\n",
      "Epoch 17/100\n",
      "1688/1688 [==============================] - 1s 612us/step - loss: 0.0825 - val_loss: 0.1535\n",
      "Epoch 18/100\n",
      "1688/1688 [==============================] - 1s 622us/step - loss: 0.0829 - val_loss: 0.1466\n",
      "Epoch 19/100\n",
      "1688/1688 [==============================] - 1s 617us/step - loss: 0.0800 - val_loss: 0.1464\n",
      "Epoch 20/100\n",
      "1688/1688 [==============================] - 1s 623us/step - loss: 0.0779 - val_loss: 0.1565\n",
      "Epoch 21/100\n",
      "1688/1688 [==============================] - 1s 632us/step - loss: 0.0762 - val_loss: 0.1525\n",
      "Epoch 22/100\n",
      "1688/1688 [==============================] - 1s 642us/step - loss: 0.0760 - val_loss: 0.1774\n",
      "Epoch 23/100\n",
      "1688/1688 [==============================] - 1s 627us/step - loss: 0.0726 - val_loss: 0.1817\n",
      "Epoch 24/100\n",
      "1688/1688 [==============================] - 1s 635us/step - loss: 0.0712 - val_loss: 0.1651\n",
      "Epoch 25/100\n",
      "1688/1688 [==============================] - 1s 633us/step - loss: 0.0710 - val_loss: 0.1846\n",
      "Epoch 26/100\n",
      "1688/1688 [==============================] - 1s 624us/step - loss: 0.0709 - val_loss: 0.1781\n",
      "Epoch 27/100\n",
      "1688/1688 [==============================] - 1s 622us/step - loss: 0.0692 - val_loss: 0.1845\n",
      "Epoch 28/100\n",
      "1688/1688 [==============================] - 1s 649us/step - loss: 0.0693 - val_loss: 0.1987\n",
      "Epoch 29/100\n",
      "1688/1688 [==============================] - 1s 635us/step - loss: 0.0689 - val_loss: 0.1910\n",
      "Epoch 30/100\n",
      "1688/1688 [==============================] - 1s 646us/step - loss: 0.0670 - val_loss: 0.1790\n",
      "Epoch 31/100\n",
      "1688/1688 [==============================] - 1s 616us/step - loss: 0.0666 - val_loss: 0.1782\n",
      "Epoch 32/100\n",
      "1688/1688 [==============================] - 1s 616us/step - loss: 0.0668 - val_loss: 0.2035\n",
      "Epoch 33/100\n",
      "1688/1688 [==============================] - 1s 612us/step - loss: 0.0656 - val_loss: 0.1986\n",
      "Epoch 34/100\n",
      "1688/1688 [==============================] - 1s 629us/step - loss: 0.0651 - val_loss: 0.2172\n",
      "Epoch 35/100\n",
      "1688/1688 [==============================] - 1s 627us/step - loss: 0.0645 - val_loss: 0.2161\n",
      "Epoch 36/100\n",
      "1688/1688 [==============================] - 1s 599us/step - loss: 0.0636 - val_loss: 0.1963\n",
      "Epoch 37/100\n",
      "1688/1688 [==============================] - 1s 620us/step - loss: 0.0633 - val_loss: 0.2093\n",
      "Epoch 38/100\n",
      "1688/1688 [==============================] - 1s 617us/step - loss: 0.0622 - val_loss: 0.2133\n",
      "Epoch 39/100\n",
      "1688/1688 [==============================] - 1s 631us/step - loss: 0.0621 - val_loss: 0.2019\n",
      "Epoch 40/100\n",
      "1688/1688 [==============================] - 1s 614us/step - loss: 0.0615 - val_loss: 0.2178\n",
      "Epoch 41/100\n",
      "1688/1688 [==============================] - 1s 625us/step - loss: 0.0603 - val_loss: 0.2199\n",
      "Epoch 42/100\n",
      "1688/1688 [==============================] - 1s 645us/step - loss: 0.0606 - val_loss: 0.2327\n",
      "Epoch 43/100\n",
      "1688/1688 [==============================] - 1s 628us/step - loss: 0.0597 - val_loss: 0.2335\n",
      "Epoch 44/100\n",
      "1688/1688 [==============================] - 1s 640us/step - loss: 0.0585 - val_loss: 0.2405\n",
      "Epoch 45/100\n",
      "1688/1688 [==============================] - 1s 623us/step - loss: 0.0581 - val_loss: 0.2307\n",
      "Epoch 46/100\n",
      "1688/1688 [==============================] - 1s 654us/step - loss: 0.0608 - val_loss: 0.2506\n",
      "Epoch 47/100\n",
      "1688/1688 [==============================] - 1s 598us/step - loss: 0.0590 - val_loss: 0.2506\n",
      "Epoch 48/100\n",
      "1688/1688 [==============================] - 1s 628us/step - loss: 0.0584 - val_loss: 0.2622\n",
      "Epoch 49/100\n",
      "1688/1688 [==============================] - 1s 642us/step - loss: 0.0602 - val_loss: 0.2517\n",
      "Epoch 50/100\n",
      "1688/1688 [==============================] - 1s 633us/step - loss: 0.0584 - val_loss: 0.2746\n",
      "Epoch 51/100\n",
      "1688/1688 [==============================] - 1s 636us/step - loss: 0.0562 - val_loss: 0.2573\n",
      "Epoch 52/100\n",
      "1688/1688 [==============================] - 1s 638us/step - loss: 0.0565 - val_loss: 0.2542\n",
      "Epoch 53/100\n",
      "1688/1688 [==============================] - 1s 613us/step - loss: 0.0573 - val_loss: 0.2594\n",
      "Epoch 54/100\n",
      "1688/1688 [==============================] - 1s 601us/step - loss: 0.0577 - val_loss: 0.2873\n",
      "Epoch 55/100\n",
      "1688/1688 [==============================] - 1s 626us/step - loss: 0.0587 - val_loss: 0.3090\n",
      "Epoch 56/100\n",
      "1688/1688 [==============================] - 1s 619us/step - loss: 0.0576 - val_loss: 0.2994\n",
      "Epoch 57/100\n",
      "1688/1688 [==============================] - 1s 624us/step - loss: 0.0577 - val_loss: 0.2924\n",
      "Epoch 58/100\n",
      "1688/1688 [==============================] - 1s 641us/step - loss: 0.0575 - val_loss: 0.3126\n",
      "Epoch 59/100\n",
      "1688/1688 [==============================] - 1s 627us/step - loss: 0.0585 - val_loss: 0.3189\n",
      "Epoch 60/100\n",
      "1688/1688 [==============================] - 1s 601us/step - loss: 0.0564 - val_loss: 0.3238\n",
      "Epoch 61/100\n",
      "1688/1688 [==============================] - 1s 606us/step - loss: 0.0554 - val_loss: 0.3484\n",
      "Epoch 62/100\n",
      "1688/1688 [==============================] - 1s 604us/step - loss: 0.0549 - val_loss: 0.3397\n",
      "Epoch 63/100\n",
      "1688/1688 [==============================] - 1s 631us/step - loss: 0.0535 - val_loss: 0.3415\n",
      "Epoch 64/100\n",
      "1688/1688 [==============================] - 1s 629us/step - loss: 0.0538 - val_loss: 0.3411\n",
      "Epoch 65/100\n",
      "1688/1688 [==============================] - 1s 633us/step - loss: 0.0560 - val_loss: 0.3679\n",
      "Epoch 66/100\n",
      "1688/1688 [==============================] - 1s 628us/step - loss: 0.0553 - val_loss: 0.3288\n",
      "Epoch 67/100\n",
      "1688/1688 [==============================] - 1s 610us/step - loss: 0.0552 - val_loss: 0.3404\n",
      "Epoch 68/100\n",
      "1688/1688 [==============================] - 1s 629us/step - loss: 0.0537 - val_loss: 0.3853\n",
      "Epoch 69/100\n",
      "1688/1688 [==============================] - 1s 613us/step - loss: 0.0539 - val_loss: 0.3410\n",
      "Epoch 70/100\n",
      "1688/1688 [==============================] - 1s 622us/step - loss: 0.0554 - val_loss: 0.3453\n",
      "Epoch 71/100\n",
      "1688/1688 [==============================] - 1s 623us/step - loss: 0.0513 - val_loss: 0.3807\n",
      "Epoch 72/100\n",
      "1688/1688 [==============================] - 1s 635us/step - loss: 0.0536 - val_loss: 0.3737\n",
      "Epoch 73/100\n",
      "1688/1688 [==============================] - 1s 629us/step - loss: 0.0525 - val_loss: 0.3982\n",
      "Epoch 74/100\n",
      "1688/1688 [==============================] - 1s 640us/step - loss: 0.0561 - val_loss: 0.3811\n",
      "Epoch 75/100\n",
      "1688/1688 [==============================] - 1s 645us/step - loss: 0.0524 - val_loss: 0.4011\n",
      "Epoch 76/100\n",
      "1688/1688 [==============================] - 1s 622us/step - loss: 0.0552 - val_loss: 0.4345\n",
      "Epoch 77/100\n",
      "1688/1688 [==============================] - 1s 639us/step - loss: 0.0540 - val_loss: 0.3869\n",
      "Epoch 78/100\n",
      "1688/1688 [==============================] - 1s 652us/step - loss: 0.0536 - val_loss: 0.4189\n",
      "Epoch 79/100\n",
      "1688/1688 [==============================] - 1s 656us/step - loss: 0.0544 - val_loss: 0.4381\n",
      "Epoch 80/100\n",
      "1688/1688 [==============================] - 1s 642us/step - loss: 0.0531 - val_loss: 0.4218\n",
      "Epoch 81/100\n",
      "1688/1688 [==============================] - 1s 636us/step - loss: 0.0568 - val_loss: 0.4135\n",
      "Epoch 82/100\n",
      "1688/1688 [==============================] - 1s 660us/step - loss: 0.0549 - val_loss: 0.4564\n",
      "Epoch 83/100\n",
      "1688/1688 [==============================] - 1s 620us/step - loss: 0.0554 - val_loss: 0.4452\n",
      "Epoch 84/100\n",
      "1688/1688 [==============================] - 1s 647us/step - loss: 0.0525 - val_loss: 0.4579\n",
      "Epoch 85/100\n",
      "1688/1688 [==============================] - 1s 646us/step - loss: 0.0501 - val_loss: 0.4653\n",
      "Epoch 86/100\n",
      "1688/1688 [==============================] - 1s 635us/step - loss: 0.0524 - val_loss: 0.4608\n",
      "Epoch 87/100\n",
      "1688/1688 [==============================] - 1s 640us/step - loss: 0.0508 - val_loss: 0.4434\n",
      "Epoch 88/100\n",
      "1688/1688 [==============================] - 1s 660us/step - loss: 0.0556 - val_loss: 0.4472\n",
      "Epoch 89/100\n",
      "1688/1688 [==============================] - 1s 653us/step - loss: 0.0518 - val_loss: 0.4830\n",
      "Epoch 90/100\n",
      "1688/1688 [==============================] - 1s 643us/step - loss: 0.0539 - val_loss: 0.4906\n",
      "Epoch 91/100\n",
      "1688/1688 [==============================] - 1s 631us/step - loss: 0.0558 - val_loss: 0.4656\n",
      "Epoch 92/100\n",
      "1688/1688 [==============================] - 1s 651us/step - loss: 0.0554 - val_loss: 0.5281\n",
      "Epoch 93/100\n",
      "1688/1688 [==============================] - 1s 662us/step - loss: 0.0538 - val_loss: 0.4921\n",
      "Epoch 94/100\n",
      "1688/1688 [==============================] - 1s 646us/step - loss: 0.0552 - val_loss: 0.5314\n",
      "Epoch 95/100\n",
      "1688/1688 [==============================] - 1s 618us/step - loss: 0.0542 - val_loss: 0.4586\n",
      "Epoch 96/100\n",
      "1688/1688 [==============================] - 1s 623us/step - loss: 0.0527 - val_loss: 0.4971\n",
      "Epoch 97/100\n",
      "1688/1688 [==============================] - 1s 619us/step - loss: 0.0532 - val_loss: 0.4937\n",
      "Epoch 98/100\n",
      "1688/1688 [==============================] - 1s 612us/step - loss: 0.0516 - val_loss: 0.4900\n",
      "Epoch 99/100\n",
      "1688/1688 [==============================] - 1s 633us/step - loss: 0.0532 - val_loss: 0.4991\n",
      "Epoch 100/100\n",
      "1688/1688 [==============================] - 1s 646us/step - loss: 0.0558 - val_loss: 0.4981\n"
     ]
    }
   ],
   "source": [
    "historico = rede_simples.fit(X_train, \n",
    "                             y_train, \n",
    "                             epochs = 100, \n",
    "                             verbose = 1,\n",
    "                             validation_data = (X_val, y_val))"
   ]
  },
  {
   "cell_type": "markdown",
   "metadata": {},
   "source": [
    "O que está acontecendo acima?\n",
    "\n",
    "O treinamento de uma rede neural (e de todo modelo de machine learning, na verdade) consiste em um **problema de otimização**, em que queremos encontrar **o valor mínimo da função de perda**\n",
    "\n",
    "No nosso caso, a função de perda é a \"__categorical crossentropy__, cuja expressão matemática é:\n",
    "\n",
    "$$ L(y, \\hat{y}) = - \\sum_i{y_i \\log \\hat{y}_i}$$, \n",
    "\n",
    "onde $\\hat{y}$, a previsão do modelo, é uma expressão bem complicada, que relaciona todos os pesos e funções de ativação de toda a rede neural.\n",
    "\n",
    "Como mencionamos, as redes neurais utilizam o procedimento de **Backward Propagation** em seu treinamento (cujo objetivo é **determinar os pesos**):\n",
    "\n",
    "<img src=\"https://machinelearningknowledge.ai/wp-content/uploads/2019/10/Backpropagation.gif\" width=600>\n",
    "\n",
    "Matematicamente, o Backward Propagation é implementado através de algum **método de otimização**, com o fim de **determinar os pesos que minimizam a função de perda**. O principal método utilizado para este fim é o **gradiente descendente**:\n",
    "\n",
    "<img src=\"https://thumbs.gfycat.com/AngryInconsequentialDiplodocus-size_restricted.gif\" width=1000>\n",
    "\n",
    "Então, o que está acontecendo acima, é que **em cada epoch**, o Keras faz o Forward Propagation, avalia as predições, e depois segue com o Backward Propagation para atualizar os pesos. Este processo é realizado pelo número de vezes (epochs) que determinarmos!"
   ]
  },
  {
   "cell_type": "markdown",
   "metadata": {},
   "source": [
    "Após o __modelo treinado__, agora devemos **fazer predições** e **avaliar a performance**:"
   ]
  },
  {
   "cell_type": "code",
   "execution_count": null,
   "metadata": {},
   "outputs": [],
   "source": [
    "# obs: o método .predict() dá as probabilidades! dê uma olhada..."
   ]
  },
  {
   "cell_type": "code",
   "execution_count": 21,
   "metadata": {},
   "outputs": [
    {
     "data": {
      "text/plain": [
       "array([7, 2, 1, ..., 4, 5, 6], dtype=int64)"
      ]
     },
     "execution_count": 21,
     "metadata": {},
     "output_type": "execute_result"
    }
   ],
   "source": [
    "y_pred2 = np.argmax(rede_simples.predict(X_test), axis=-1)\n",
    "y_pred2"
   ]
  },
  {
   "cell_type": "code",
   "execution_count": 18,
   "metadata": {
    "scrolled": true
   },
   "outputs": [
    {
     "name": "stdout",
     "output_type": "stream",
     "text": [
      "WARNING:tensorflow:From C:\\Users\\ITXGAM~1\\AppData\\Local\\Temp/ipykernel_18868/2167696249.py:3: Sequential.predict_classes (from tensorflow.python.keras.engine.sequential) is deprecated and will be removed after 2021-01-01.\n",
      "Instructions for updating:\n",
      "Please use instead:* `np.argmax(model.predict(x), axis=-1)`,   if your model does multi-class classification   (e.g. if it uses a `softmax` last-layer activation).* `(model.predict(x) > 0.5).astype(\"int32\")`,   if your model does binary classification   (e.g. if it uses a `sigmoid` last-layer activation).\n"
     ]
    }
   ],
   "source": [
    "# método pra predizer as classes finais\n",
    "\n",
    "y_pred = rede_simples.predict_classes(X_test)"
   ]
  },
  {
   "cell_type": "code",
   "execution_count": 19,
   "metadata": {},
   "outputs": [
    {
     "data": {
      "text/plain": [
       "array([7, 2, 1, ..., 4, 5, 6], dtype=int64)"
      ]
     },
     "execution_count": 19,
     "metadata": {},
     "output_type": "execute_result"
    }
   ],
   "source": [
    "y_pred"
   ]
  },
  {
   "cell_type": "code",
   "execution_count": 22,
   "metadata": {},
   "outputs": [
    {
     "data": {
      "text/plain": [
       "array([[0., 0., 0., ..., 1., 0., 0.],\n",
       "       [0., 0., 1., ..., 0., 0., 0.],\n",
       "       [0., 1., 0., ..., 0., 0., 0.],\n",
       "       ...,\n",
       "       [0., 0., 0., ..., 0., 0., 0.],\n",
       "       [0., 0., 0., ..., 0., 0., 0.],\n",
       "       [0., 0., 0., ..., 0., 0., 0.]])"
      ]
     },
     "execution_count": 22,
     "metadata": {},
     "output_type": "execute_result"
    }
   ],
   "source": [
    "y_test"
   ]
  },
  {
   "cell_type": "code",
   "execution_count": 23,
   "metadata": {},
   "outputs": [],
   "source": [
    "# voltando o y_test pra valores nunéricos\n",
    "\n",
    "y_test = np.argmax(y_test, axis=1)"
   ]
  },
  {
   "cell_type": "code",
   "execution_count": 24,
   "metadata": {},
   "outputs": [
    {
     "data": {
      "text/plain": [
       "array([7, 2, 1, ..., 4, 5, 6], dtype=int64)"
      ]
     },
     "execution_count": 24,
     "metadata": {},
     "output_type": "execute_result"
    }
   ],
   "source": [
    "y_test"
   ]
  },
  {
   "cell_type": "code",
   "execution_count": 25,
   "metadata": {},
   "outputs": [
    {
     "name": "stdout",
     "output_type": "stream",
     "text": [
      "              precision    recall  f1-score   support\n",
      "\n",
      "           0       0.98      0.96      0.97       980\n",
      "           1       0.99      0.98      0.98      1135\n",
      "           2       0.95      0.97      0.96      1032\n",
      "           3       0.94      0.96      0.95      1010\n",
      "           4       0.95      0.96      0.95       982\n",
      "           5       0.94      0.94      0.94       892\n",
      "           6       0.96      0.97      0.97       958\n",
      "           7       0.95      0.96      0.95      1028\n",
      "           8       0.95      0.93      0.94       974\n",
      "           9       0.96      0.92      0.94      1009\n",
      "\n",
      "    accuracy                           0.96     10000\n",
      "   macro avg       0.96      0.96      0.96     10000\n",
      "weighted avg       0.96      0.96      0.96     10000\n",
      "\n"
     ]
    }
   ],
   "source": [
    "from mlxtend.plotting import plot_confusion_matrix\n",
    "from sklearn.metrics import classification_report, confusion_matrix\n",
    "\n",
    "print(classification_report(y_test, y_pred))"
   ]
  },
  {
   "cell_type": "code",
   "execution_count": 26,
   "metadata": {},
   "outputs": [
    {
     "name": "stdout",
     "output_type": "stream",
     "text": [
      "Matriz de confusão do modelo nos dados de teste:\n",
      "\n"
     ]
    },
    {
     "data": {
      "image/png": "[encoded data removed]",
      "text/plain": [
       "<Figure size 432x288 with 1 Axes>"
      ]
     },
     "metadata": {
      "needs_background": "light"
     },
     "output_type": "display_data"
    }
   ],
   "source": [
    "cm = confusion_matrix(y_test, y_pred)\n",
    "\n",
    "print(\"Matriz de confusão do modelo nos dados de teste:\\n\")\n",
    "plot_confusion_matrix(conf_mat=cm)\n",
    "plt.show()"
   ]
  },
  {
   "cell_type": "markdown",
   "metadata": {},
   "source": [
    "O modelo teve uma performance muito boa, com uma acurácia de 96%, mas algumas coisas devem ser observadas a partir desse resultado como por exemplo a possibilidade de __Overfitting!__"
   ]
  },
  {
   "cell_type": "markdown",
   "metadata": {},
   "source": [
    "O **Overfitting** é algo que pode ser bastante comum em redes neurais se não for bem tratado, porque ele é um modelo altamente não linear. Relembrando, o overfitting está intimamente relacionado com o tradeoff viés-variância:\n",
    "\n",
    "<img src=\"https://www.learnopencv.com/wp-content/uploads/2017/02/Bias-Variance-Tradeoff-In-Machine-Learning-1.png\" width=600>\n",
    "\n",
    "Podemos visualizar esta característica em nosso modelo ao **plotar** o valor da **função de perda** a cada epoch:"
   ]
  },
  {
   "cell_type": "code",
   "execution_count": 27,
   "metadata": {},
   "outputs": [
    {
     "data": {
      "image/png": "[encoded data removed]",
      "text/plain": [
       "<Figure size 864x432 with 1 Axes>"
      ]
     },
     "metadata": {
      "needs_background": "light"
     },
     "output_type": "display_data"
    }
   ],
   "source": [
    "# valor da função de perda NOS DADOS DE TREINO a cada epoch\n",
    "loss = historico.history['loss']\n",
    "\n",
    "# valor da função de perda NOS DADOS DE VALIDAÇÃO a cada epoch\n",
    "val_loss = historico.history['val_loss']\n",
    "\n",
    "# numero de epochs\n",
    "epochs = range(len(loss))\n",
    "\n",
    "# plot\n",
    "plt.figure(figsize=(12, 6))\n",
    "plt.plot(epochs, loss, 'red', label = 'Training loss')\n",
    "plt.plot(epochs, val_loss, 'blue', label = 'Validation loss')\n",
    "plt.title('Training and validation loss')\n",
    "plt.legend()\n",
    "plt.show()"
   ]
  },
  {
   "cell_type": "markdown",
   "metadata": {},
   "source": [
    "Pelo gráfico, é possível perceber que mais ou menos a partir da 15ª época a função de perda continuou decrescedo pro conjunto de treinamento, mas no conjunto de validação isso se manteve fixo por um tempo e depois começou a perder desempenho.\n",
    "\n",
    "A curva acima é muito parecida com o nosso exemplo do tradeoff vié-variância, não é mesmo?!\n",
    "\n",
    "Temos, portanto, um forte indício que está começando a ocorrer overfitting!\n",
    "\n",
    "Para evitarmos isso, pode ser interessante que o **treinamento seja interrompido antes do overfitting começar a ocorrer**! Esta técnica é conhecida como **early stopping**:\n",
    "<br><br>\n",
    "\n",
    "### Early Stopping\n",
    "\n",
    "Para interromper um treinamento, podemos usar o callback de ``EarlyStopping()``. Esse callback pode receber alguns parâmetros, como o que ele deve monitorar (``monitor``), a diferença mínima que deve ser considerada pra ser um avanço (``min_delta``) e a quantidade de épocas que devem se manter sem avanço até de fato interromper o treinamento (``patience``). No exemplo a seguir, estamos monitorando a função de perda do conjunto de validação, consideramos um avanço mínimo o valor de 0.001 e paciência de 10 épocas. \n",
    "\n",
    "Ou seja, **se a função de perda na validação não tiver uma redução de pelo menos 0.001 por 10 épocas**, o treinamento será interrompido."
   ]
  },
  {
   "cell_type": "code",
   "execution_count": 28,
   "metadata": {
    "scrolled": true
   },
   "outputs": [
    {
     "name": "stdout",
     "output_type": "stream",
     "text": [
      "Epoch 1/100\n",
      "1688/1688 [==============================] - 1s 616us/step - loss: 0.4475 - val_loss: 0.2373\n",
      "Epoch 2/100\n",
      "1688/1688 [==============================] - 1s 602us/step - loss: 0.2126 - val_loss: 0.1850\n",
      "Epoch 3/100\n",
      "1688/1688 [==============================] - 1s 612us/step - loss: 0.1738 - val_loss: 0.1657\n",
      "Epoch 4/100\n",
      "1688/1688 [==============================] - 1s 603us/step - loss: 0.1509 - val_loss: 0.1476\n",
      "Epoch 5/100\n",
      "1688/1688 [==============================] - 1s 604us/step - loss: 0.1366 - val_loss: 0.1434\n",
      "Epoch 6/100\n",
      "1688/1688 [==============================] - 1s 607us/step - loss: 0.1247 - val_loss: 0.1356\n",
      "Epoch 7/100\n",
      "1688/1688 [==============================] - 1s 604us/step - loss: 0.1163 - val_loss: 0.1417\n",
      "Epoch 8/100\n",
      "1688/1688 [==============================] - 1s 601us/step - loss: 0.1096 - val_loss: 0.1312\n",
      "Epoch 9/100\n",
      "1688/1688 [==============================] - 1s 584us/step - loss: 0.1050 - val_loss: 0.1392\n",
      "Epoch 10/100\n",
      "1688/1688 [==============================] - 1s 582us/step - loss: 0.1004 - val_loss: 0.1357\n",
      "Epoch 11/100\n",
      "1688/1688 [==============================] - 1s 594us/step - loss: 0.0966 - val_loss: 0.1308\n",
      "Epoch 12/100\n",
      "1688/1688 [==============================] - 1s 599us/step - loss: 0.0939 - val_loss: 0.1423\n",
      "Epoch 13/100\n",
      "1688/1688 [==============================] - 1s 616us/step - loss: 0.0919 - val_loss: 0.1495\n",
      "Epoch 14/100\n",
      "1688/1688 [==============================] - 1s 609us/step - loss: 0.0881 - val_loss: 0.1481\n",
      "Epoch 15/100\n",
      "1688/1688 [==============================] - 1s 598us/step - loss: 0.0859 - val_loss: 0.1578\n",
      "Epoch 16/100\n",
      "1688/1688 [==============================] - 1s 590us/step - loss: 0.0839 - val_loss: 0.1674\n",
      "Epoch 17/100\n",
      "1688/1688 [==============================] - 1s 594us/step - loss: 0.0821 - val_loss: 0.1600\n",
      "Epoch 18/100\n",
      "1688/1688 [==============================] - 1s 593us/step - loss: 0.0813 - val_loss: 0.1651\n",
      "Epoch 00018: early stopping\n"
     ]
    }
   ],
   "source": [
    "from tensorflow.keras.callbacks import EarlyStopping\n",
    "\n",
    "early_stop = EarlyStopping(monitor = 'val_loss', \n",
    "                           min_delta = 0.001,\n",
    "                           patience = 10, \n",
    "                           verbose = 1, mode = 'auto')\n",
    "\n",
    "# setamos os pesos iniciais iguais à versão antes do treinamento pra ter um comparativo mais real.\n",
    "rede_simples.set_weights(pesos_iniciais)\n",
    "\n",
    "# treinando a rede neural novamente\n",
    "# note o argumento \"callbacks\", ao qual passamos o objeto de early_stop\n",
    "historico = rede_simples.fit(X_train, \n",
    "                             y_train, \n",
    "                             epochs = 100, \n",
    "                             verbose = 1,\n",
    "                             validation_data = (X_val, y_val),\n",
    "                             callbacks = [early_stop])"
   ]
  },
  {
   "cell_type": "code",
   "execution_count": 29,
   "metadata": {},
   "outputs": [
    {
     "data": {
      "image/png": "[encoded data removed]",
      "text/plain": [
       "<Figure size 864x432 with 1 Axes>"
      ]
     },
     "metadata": {
      "needs_background": "light"
     },
     "output_type": "display_data"
    }
   ],
   "source": [
    "# valor da função de perda NOS DADOS DE TREINO a cada epoch\n",
    "loss = historico.history['loss']\n",
    "\n",
    "# valor da função de perda NOS DADOS DE VALIDAÇÃO a cada epoch\n",
    "val_loss = historico.history['val_loss']\n",
    "\n",
    "# numero de epochs\n",
    "epochs = range(len(loss))\n",
    "\n",
    "# plot\n",
    "plt.figure(figsize=(12, 6))\n",
    "plt.plot(epochs, loss, 'red', label = 'Training loss')\n",
    "plt.plot(epochs, val_loss, 'blue', label = 'Validation loss')\n",
    "plt.title('Training and validation loss')\n",
    "plt.legend()\n",
    "plt.show()"
   ]
  },
  {
   "cell_type": "markdown",
   "metadata": {},
   "source": [
    "É possível perceber que o treinamento foi interrompido pouco depois da __epoch 15__, bem antes do total de epochs definido inicialmente. Vamos agora fazer predições e avaliar o modelo:"
   ]
  },
  {
   "cell_type": "code",
   "execution_count": 30,
   "metadata": {},
   "outputs": [
    {
     "name": "stdout",
     "output_type": "stream",
     "text": [
      "Matriz de confusão do modelo nos dados de teste:\n",
      "\n"
     ]
    },
    {
     "data": {
      "image/png": "[encoded data removed]",
      "text/plain": [
       "<Figure size 432x288 with 1 Axes>"
      ]
     },
     "metadata": {
      "needs_background": "light"
     },
     "output_type": "display_data"
    },
    {
     "name": "stdout",
     "output_type": "stream",
     "text": [
      "              precision    recall  f1-score   support\n",
      "\n",
      "           0       0.97      0.99      0.98       980\n",
      "           1       0.99      0.98      0.98      1135\n",
      "           2       0.97      0.95      0.96      1032\n",
      "           3       0.97      0.95      0.96      1010\n",
      "           4       0.98      0.95      0.97       982\n",
      "           5       0.94      0.96      0.95       892\n",
      "           6       0.97      0.98      0.97       958\n",
      "           7       0.97      0.95      0.96      1028\n",
      "           8       0.91      0.97      0.93       974\n",
      "           9       0.95      0.95      0.95      1009\n",
      "\n",
      "    accuracy                           0.96     10000\n",
      "   macro avg       0.96      0.96      0.96     10000\n",
      "weighted avg       0.96      0.96      0.96     10000\n",
      "\n"
     ]
    }
   ],
   "source": [
    "y_pred = rede_simples.predict_classes(X_test)\n",
    "\n",
    "cm = confusion_matrix(y_test, y_pred)\n",
    "\n",
    "print(\"Matriz de confusão do modelo nos dados de teste:\\n\")\n",
    "plot_confusion_matrix(conf_mat=cm)\n",
    "plt.show()\n",
    "\n",
    "print(classification_report(y_test, y_pred))"
   ]
  },
  {
   "cell_type": "markdown",
   "metadata": {},
   "source": [
    "Agora garantindo que não houvesse o deslocamento entre o __treino__ e a __validação__ obtemos uma resultado muito bom para o nosso modeolo, e isso é um forte indicativo de que o Early Stopping ajudou a evitar o Overfitting."
   ]
  },
  {
   "cell_type": "markdown",
   "metadata": {},
   "source": [
    "Vimos acima uma forma de evitar o Overfitting em Redes Neurais, mas esta definitivamente não é a única maneira! Existem inúmeras técnicas para mitigar este problema, entre elas a aplicação de **técnicas de regularização** (leia sobre isso [aqui](https://towardsdatascience.com/how-to-improve-a-neural-network-with-regularization-8a18ecda9fe3) e [aqui](https://towardsdatascience.com/regularization-techniques-and-their-implementation-in-tensorflow-keras-c06e7551e709))), cuja implementação existe no Keras! (mais informações [aqui](https://keras.io/api/layers/regularization_layers/) e [aqui](https://keras.io/api/layers/regularizers/)))"
   ]
  },
  {
   "cell_type": "markdown",
   "metadata": {},
   "source": [
    "##   "
   ]
  },
  {
   "cell_type": "markdown",
   "metadata": {},
   "source": [
    "## Exercício"
   ]
  },
  {
   "cell_type": "markdown",
   "metadata": {},
   "source": [
    "__1)__ Refaça o exercício exemplo da aula para fixar conceitos!"
   ]
  },
  {
   "cell_type": "markdown",
   "metadata": {},
   "source": [
    "__2)__ Preencha os códigos nos __locais indicados!!!__\n",
    "\n",
    "O exercicio será montar uma Rede Neural de uma importante base de dados, muito conhecida também, chamada de __Fashion MNIST__, onde queremos classificar roupas em algumas categorias. Está base de dados contém 70,000 imagens em tons de cinza em 10 categorias. As imagens mostram artigos individuais de roupas com baixa resolução (28 por 28 pixels), como vemos aqui:\n",
    "\n",
    "<img src=\"https://tensorflow.org/images/fashion-mnist-sprite.png\" width=\"600\">"
   ]
  },
  {
   "cell_type": "code",
   "execution_count": null,
   "metadata": {},
   "outputs": [],
   "source": [
    "# TensorFlow e tf.keras\n",
    "import tensorflow\n",
    "import keras\n",
    "\n",
    "# Bibliotecas Auxiliares\n",
    "import pandas as pd\n",
    "import numpy as np\n",
    "import matplotlib.pyplot as plt"
   ]
  },
  {
   "cell_type": "code",
   "execution_count": null,
   "metadata": {},
   "outputs": [],
   "source": [
    "#Baixando a nossa base de dados\n",
    "\n",
    "fashion_mnist = keras.datasets.fashion_mnist\n",
    "\n",
    "(train_images, train_labels), (test_images, test_labels) = fashion_mnist.load_data()"
   ]
  },
  {
   "cell_type": "markdown",
   "metadata": {},
   "source": [
    "Carregamos 4 arrays NumPy divididos em treino e teste, e além disso as imagens são arrays NumPy de 28x28, com os valores de pixels entre 0 to 255. As labels (alvo da classificação) são um array de inteiros, no intervalo de 0 a 9. Esse corresponde com a classe de roupa que cada imagem representa:\n",
    "\n",
    "<table>\n",
    "  <tr>\n",
    "    <th>Label</th>\n",
    "    <th>Classe</th>\n",
    "  </tr>\n",
    "  <tr>\n",
    "    <td>0</td>\n",
    "    <td>Camisetas/Top (T-shirt/top)</td>\n",
    "  </tr>\n",
    "  <tr>\n",
    "    <td>1</td>\n",
    "    <td>Calça (Trouser)</td>\n",
    "  </tr>\n",
    "    <tr>\n",
    "    <td>2</td>\n",
    "    <td>Suéter (Pullover)</td>\n",
    "  </tr>\n",
    "    <tr>\n",
    "    <td>3</td>\n",
    "    <td>Vestidos (Dress)</td>\n",
    "  </tr>\n",
    "    <tr>\n",
    "    <td>4</td>\n",
    "    <td>Casaco (Coat)</td>\n",
    "  </tr>\n",
    "    <tr>\n",
    "    <td>5</td>\n",
    "    <td>Sandálias (Sandal)</td>\n",
    "  </tr>\n",
    "    <tr>\n",
    "    <td>6</td>\n",
    "    <td>Camisas (Shirt)</td>\n",
    "  </tr>\n",
    "    <tr>\n",
    "    <td>7</td>\n",
    "    <td>Tênis (Sneaker)</td>\n",
    "  </tr>\n",
    "    <tr>\n",
    "    <td>8</td>\n",
    "    <td>Bolsa (Bag)</td>\n",
    "  </tr>\n",
    "    <tr>\n",
    "    <td>9</td>\n",
    "    <td>Botas (Ankle boot)</td>\n",
    "  </tr>\n",
    "</table>\n"
   ]
  },
  {
   "cell_type": "code",
   "execution_count": null,
   "metadata": {},
   "outputs": [],
   "source": [
    "class_names = ['T-shirt/top', \n",
    "               'Trouser', \n",
    "               'Pullover', \n",
    "               'Dress', \n",
    "               'Coat',\n",
    "               'Sandal', \n",
    "               'Shirt', \n",
    "               'Sneaker', \n",
    "               'Bag', \n",
    "               'Ankle boot']"
   ]
  },
  {
   "cell_type": "code",
   "execution_count": null,
   "metadata": {},
   "outputs": [],
   "source": [
    "train_images.shape"
   ]
  },
  {
   "cell_type": "code",
   "execution_count": null,
   "metadata": {},
   "outputs": [],
   "source": [
    "len(train_labels)"
   ]
  },
  {
   "cell_type": "code",
   "execution_count": null,
   "metadata": {},
   "outputs": [],
   "source": [
    "train_labels"
   ]
  },
  {
   "cell_type": "code",
   "execution_count": null,
   "metadata": {},
   "outputs": [],
   "source": [
    "test_images.shape"
   ]
  },
  {
   "cell_type": "code",
   "execution_count": null,
   "metadata": {},
   "outputs": [],
   "source": [
    "len(test_labels)"
   ]
  },
  {
   "cell_type": "markdown",
   "metadata": {},
   "source": [
    "## Pré-Processamento dos Dados"
   ]
  },
  {
   "cell_type": "code",
   "execution_count": null,
   "metadata": {},
   "outputs": [],
   "source": [
    "plt.figure()\n",
    "plt.imshow(train_images[0])\n",
    "plt.colorbar()\n",
    "plt.grid(False)\n",
    "plt.show()"
   ]
  },
  {
   "cell_type": "code",
   "execution_count": null,
   "metadata": {},
   "outputs": [],
   "source": [
    "# Reshape\n",
    "\n",
    "#Faça o reshape da train_images dividindo por 255. e salvando na mesma variavel\n",
    "### COLOQUE SEU CODIGO AQUI ###\n",
    "\n",
    "#Faça o reshape da test_images dividindo por 255. e salvando na mesma variavel\n",
    "### COLOQUE SEU CODIGO AQUI ###"
   ]
  },
  {
   "cell_type": "code",
   "execution_count": null,
   "metadata": {},
   "outputs": [],
   "source": [
    "# alguns plots da base de teste\n",
    "\n",
    "plt.figure(figsize=(10,10))\n",
    "for i in range(25):\n",
    "    plt.subplot(5,5,i+1)\n",
    "    plt.xticks([])\n",
    "    plt.yticks([])\n",
    "    plt.grid(False)\n",
    "    plt.imshow(train_images[i], cmap=plt.cm.binary)\n",
    "    plt.xlabel(class_names[train_labels[i]])\n",
    "plt.show()"
   ]
  },
  {
   "cell_type": "code",
   "execution_count": null,
   "metadata": {},
   "outputs": [],
   "source": [
    "# Uma outra forma de criarmos a Rede Neural camada a camada é da seguinte forma:\n",
    "\n",
    "model = keras.Sequential([\n",
    "    keras.layers.Flatten(input_shape=(28, 28)),\n",
    "    keras.layers.Dense(128, activation='relu'),\n",
    "    keras.layers.Dense(10, activation='softmax')\n",
    "])"
   ]
  },
  {
   "cell_type": "code",
   "execution_count": null,
   "metadata": {},
   "outputs": [],
   "source": [
    "# Crie um compile() com os seguintes parametros:\n",
    "# optimizer = 'adam'\n",
    "# loss = 'sparse_categorical_crossentropy'\n",
    "# metrics=['accuracy']\n",
    "\n",
    "### COLOQUE SEU CODIGO AQUI ###\n",
    "\n",
    "# Crie o summary() para o modelo\n",
    "### COLOQUE SEU CODIGO AQUI ###"
   ]
  },
  {
   "cell_type": "code",
   "execution_count": null,
   "metadata": {},
   "outputs": [],
   "source": [
    "# Faça o fit do modelo passando train_images, train_labels e epochs = 10\n",
    "### COLOQUE SEU CODIGO AQUI ###"
   ]
  },
  {
   "cell_type": "code",
   "execution_count": null,
   "metadata": {},
   "outputs": [],
   "source": [
    "# Avaliando a acurácia no teste\n",
    "\n",
    "test_loss, test_acc = model.evaluate(test_images,  test_labels, verbose=2)\n",
    "\n",
    "print('\\nTest accuracy:', test_acc)"
   ]
  },
  {
   "cell_type": "code",
   "execution_count": null,
   "metadata": {
    "scrolled": true
   },
   "outputs": [],
   "source": [
    "# crie o pred_labels usando a função predict_classes para o test_images\n",
    "### COLOQUE SEU CODIGO AQUI ###"
   ]
  },
  {
   "cell_type": "code",
   "execution_count": null,
   "metadata": {},
   "outputs": [],
   "source": [
    "from mlxtend.plotting import plot_confusion_matrix\n",
    "from sklearn.metrics import classification_report\n",
    "\n",
    "# Faça o print do classification_report para pred_labels e test_labels\n",
    "### COLOQUE SEU CODIGO AQUI ###"
   ]
  },
  {
   "cell_type": "code",
   "execution_count": null,
   "metadata": {
    "scrolled": true
   },
   "outputs": [],
   "source": [
    "# Crie a matriz de confusão para o pred_labels e test_labels\n",
    "### COLOQUE SEU CODIGO AQUI ###\n",
    "\n",
    "print(\"Matriz de confusão do modelo nos dados de teste:\\n\")\n",
    "plot_confusion_matrix(conf_mat=cm)\n",
    "plt.show()"
   ]
  }
 ],
 "metadata": {
  "kernelspec": {
   "display_name": "Python 3 (ipykernel)",
   "language": "python",
   "name": "python3"
  },
  "language_info": {
   "codemirror_mode": {
    "name": "ipython",
    "version": 3
   },
   "file_extension": ".py",
   "mimetype": "text/x-python",
   "name": "python",
   "nbconvert_exporter": "python",
   "pygments_lexer": "ipython3",
   "version": "3.9.6"
  }
 },
 "nbformat": 4,
 "nbformat_minor": 2
}
