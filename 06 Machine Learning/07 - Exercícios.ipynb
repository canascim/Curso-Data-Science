{
 "cells": [
  {
   "cell_type": "markdown",
   "id": "9f78b5e0",
   "metadata": {},
   "source": [
    "# Exercícios"
   ]
  },
  {
   "cell_type": "markdown",
   "id": "3c8b71e1",
   "metadata": {},
   "source": [
    "## "
   ]
  },
  {
   "cell_type": "markdown",
   "id": "a3002df5",
   "metadata": {},
   "source": [
    "__1)__ Utilizando a base `Credit_card.csv` com registros de inadimplentes de uma administradora de cartão de crédito. O objetivo será desenvolver um modelo para fazer a predição dos possíveis clientes que vão ficar inadimplentes. Prepare os dados para fazer a modelagem. Teste os modelos : _KNN_, _Logistic Regression_, _Decision Tree_, _Random Forest_ e _XGBoost_. Em seguida mostre o _classification_report_ e a matriz de confusão para o melhor modelo."
   ]
  },
  {
   "cell_type": "code",
   "execution_count": null,
   "id": "1cc244dc",
   "metadata": {},
   "outputs": [],
   "source": []
  },
  {
   "cell_type": "code",
   "execution_count": null,
   "id": "9671e168",
   "metadata": {},
   "outputs": [],
   "source": []
  },
  {
   "cell_type": "code",
   "execution_count": null,
   "id": "10f59c9d",
   "metadata": {},
   "outputs": [],
   "source": []
  },
  {
   "cell_type": "markdown",
   "id": "bf22399e",
   "metadata": {},
   "source": [
    "## "
   ]
  },
  {
   "cell_type": "markdown",
   "id": "4abf4bbf",
   "metadata": {},
   "source": [
    "__2)__ Vamos trabalhar com o dataset `sports.csv`, para predizer de um determinado atleta têm mais que 5 anos de carreira ou não (está é justamente a marcação de _target_ na base). Para o desenvolvimento dos exercícios siga os itens abaixo:"
   ]
  },
  {
   "cell_type": "markdown",
   "id": "0f0f9d5e",
   "metadata": {},
   "source": [
    "__A)__ Prepare os dados para fazer a modelagem. Teste os modelos : _KNN_, _Logistic Regression_, _Decision Tree_, _Random Forest_ e _XGBoost_. Em seguida mostre o _classification_report_ e a matriz de confusão para o melhor modelo.\n"
   ]
  },
  {
   "cell_type": "code",
   "execution_count": null,
   "id": "c2a2e3e1",
   "metadata": {},
   "outputs": [],
   "source": []
  },
  {
   "cell_type": "code",
   "execution_count": null,
   "id": "2f9305bd",
   "metadata": {},
   "outputs": [],
   "source": []
  },
  {
   "cell_type": "code",
   "execution_count": null,
   "id": "90c04605",
   "metadata": {},
   "outputs": [],
   "source": []
  },
  {
   "cell_type": "markdown",
   "id": "843635cb",
   "metadata": {},
   "source": [
    "## "
   ]
  },
  {
   "cell_type": "markdown",
   "id": "d7543995",
   "metadata": {},
   "source": [
    "__B)__ Avalie utilizar outros valores de _threshold_ para o modelo. Teve diferença no resultado final do modelo?\n",
    "\n",
    "__Dica.:__ utlize o _predict_proba_ ao invés do _predict_ do modelo"
   ]
  },
  {
   "cell_type": "code",
   "execution_count": null,
   "id": "b3b837fc",
   "metadata": {},
   "outputs": [],
   "source": []
  },
  {
   "cell_type": "code",
   "execution_count": null,
   "id": "afd7bc0e",
   "metadata": {},
   "outputs": [],
   "source": []
  },
  {
   "cell_type": "code",
   "execution_count": null,
   "id": "7cc2ff54",
   "metadata": {},
   "outputs": [],
   "source": []
  },
  {
   "cell_type": "markdown",
   "id": "a6fe103e",
   "metadata": {},
   "source": [
    "## "
   ]
  }
 ],
 "metadata": {
  "kernelspec": {
   "display_name": "Python 3 (ipykernel)",
   "language": "python",
   "name": "python3"
  },
  "language_info": {
   "codemirror_mode": {
    "name": "ipython",
    "version": 3
   },
   "file_extension": ".py",
   "mimetype": "text/x-python",
   "name": "python",
   "nbconvert_exporter": "python",
   "pygments_lexer": "ipython3",
   "version": "3.9.7"
  }
 },
 "nbformat": 4,
 "nbformat_minor": 5
}
