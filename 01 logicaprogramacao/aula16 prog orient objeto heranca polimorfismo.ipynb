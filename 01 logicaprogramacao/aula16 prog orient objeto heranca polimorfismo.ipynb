{
 "cells": [
  {
   "cell_type": "markdown",
   "metadata": {},
   "source": [
    "# Programação Orientada a Objeto\n",
    "\n",
    "## Classes e objetos\n",
    "\n",
    "* Classe: \"ideia abstrata\", \"molde\" para criar os objetos\n",
    "* Objetos: instâncias da classe, casos concretos\n",
    "* Atributos: informações sobre cada objeto, representadas por variáveis dentro dos objetos\n",
    "* Métodos: ações que objetos conseguem realizar, representadas por funções dentro dos objetos\n",
    "\n",
    "## Princípios\n",
    "* Encapsulamento: cada objeto é responsável por controlar seu próprio estado\n",
    "* Abstração: um objeto deve \"ocultar\" sua complexidade e fornecer uma interface simples\n",
    "* Herança: \"propagação\" e reutilização de funcionalidades em comum\n",
    "* Polimorfismo: um objeto pode ser tratado como membro de diferentes classes"
   ]
  },
  {
   "cell_type": "code",
   "execution_count": 16,
   "metadata": {},
   "outputs": [],
   "source": [
    "class Animal:\n",
    "    # método construtor\n",
    "    def __init__(self, nome):\n",
    "        self.nome = nome\n",
    "    \n",
    "    def fala(self):\n",
    "        print(self.nome, 'faz barulho.')\n",
    "        \n",
    "        \n"
   ]
  },
  {
   "cell_type": "code",
   "execution_count": 18,
   "metadata": {},
   "outputs": [],
   "source": [
    "# classe Cachorro herda da classe Animal\n",
    "# classe Cachorro é uma subclasse de Animal/Animal é uma superclasse de Cachorro\n",
    "# classe Cachorro é classe filha de Animal/Animal é classe mãe/pai de Cachorro\n",
    "\n",
    "class Cachorro(Animal):\n",
    "    # método construtor\n",
    "    def __init__(self, nome, raca='SRD'):\n",
    "        self.raca = raca\n",
    "        # super() retorna um objeto temporário da classe mãe (no caso, Animal)\n",
    "        # ou seja, após fazer a parte \"diferente\" (criar atributo \"raca\"), chamamos o construtor da classe mãe\n",
    "        super().__init__(nome)\n",
    "        \n",
    "    def fala(self):\n",
    "        print(self.nome, 'um', self.raca, 'faz au au.')\n",
    "    \n",
    "    "
   ]
  },
  {
   "cell_type": "code",
   "execution_count": 3,
   "metadata": {},
   "outputs": [],
   "source": [
    "class Gato(Animal):\n",
    "    def fala(self):\n",
    "        print(self.nome, 'faz miau.')"
   ]
  },
  {
   "cell_type": "code",
   "execution_count": 5,
   "metadata": {},
   "outputs": [],
   "source": [
    "class Girafa(Animal):\n",
    "    pass # é um comando \"vazio\", que não faz nada"
   ]
  },
  {
   "cell_type": "code",
   "execution_count": 11,
   "metadata": {},
   "outputs": [
    {
     "name": "stdout",
     "output_type": "stream",
     "text": [
      "Mingau faz miau.\n",
      "Rex um vira-lata faz au au.\n",
      "Pescoção faz barulho.\n"
     ]
    }
   ],
   "source": [
    "gatinho = Gato('Mingau')\n",
    "cachorrinho = Cachorro('Rex', 'vira-lata')\n",
    "girafinha = Girafa('Pescoção')\n",
    "\n",
    "gatinho.fala()\n",
    "cachorrinho.fala()\n",
    "girafinha.fala()"
   ]
  },
  {
   "cell_type": "code",
   "execution_count": 14,
   "metadata": {},
   "outputs": [
    {
     "name": "stdout",
     "output_type": "stream",
     "text": [
      "cachorrinho é Cachorro: True\n",
      "gatinho é Cachorro: False\n",
      "gatinho é Gato: True\n",
      "cachorrinho é Animal: True\n",
      "gatinho é Animal: True\n"
     ]
    }
   ],
   "source": [
    "print('cachorrinho é Cachorro:', isinstance(cachorrinho, Cachorro))\n",
    "print('gatinho é Cachorro:', isinstance(gatinho, Cachorro))\n",
    "print('gatinho é Gato:', isinstance(gatinho, Gato))\n",
    "\n",
    "print('cachorrinho é Animal:', isinstance(cachorrinho, Animal))\n",
    "print('gatinho é Animal:', isinstance(gatinho, Animal))"
   ]
  },
  {
   "cell_type": "code",
   "execution_count": 19,
   "metadata": {},
   "outputs": [
    {
     "name": "stdout",
     "output_type": "stream",
     "text": [
      "viralatinha um SRD faz au au.\n"
     ]
    }
   ],
   "source": [
    "viralatinha = Cachorro('viralatinha')\n",
    "viralatinha.fala()"
   ]
  },
  {
   "cell_type": "code",
   "execution_count": 21,
   "metadata": {},
   "outputs": [
    {
     "name": "stdout",
     "output_type": "stream",
     "text": [
      "Mingau faz miau.\n",
      "Rex um vira-lata faz au au.\n",
      "Pescoção faz barulho.\n",
      "viralatinha um SRD faz au au.\n"
     ]
    }
   ],
   "source": [
    "animais = [gatinho, cachorrinho, girafinha, viralatinha]\n",
    "\n",
    "# esse trecho de código chama o método \"fala\" sem se importar com qual subclasse cada objeto pertence\n",
    "# todo herdeiro de Animal possui o método \"fala\", seja ele próprio ou herdado\n",
    "for a in animais:\n",
    "    a.fala()"
   ]
  },
  {
   "cell_type": "markdown",
   "metadata": {},
   "source": [
    "## Atributos privados"
   ]
  },
  {
   "cell_type": "code",
   "execution_count": 26,
   "metadata": {},
   "outputs": [
    {
     "name": "stdout",
     "output_type": "stream",
     "text": [
      "Cuidado! Você tentou passar 0 como denominador!\n",
      "2/1e-08\n",
      "2/0\n"
     ]
    }
   ],
   "source": [
    "class Fracao:\n",
    "    def __init__(self, numerador=1, denominador=1):\n",
    "        self.num = numerador\n",
    "        if denominador == 0:\n",
    "            print('Cuidado! Você tentou passar 0 como denominador!')\n",
    "            self.den = 0.00000001\n",
    "        else:\n",
    "            self.den = denominador\n",
    "        \n",
    "    def __repr__(self):\n",
    "        return '{}/{}'.format(self.num, self.den)\n",
    "    \n",
    "f1 = Fracao(2, 0)\n",
    "print(f1)\n",
    "\n",
    "f1.den = 0\n",
    "print(f1)\n",
    "# Note que tratar os casos \"proibidos\" no construtor (__init__) é insuficiente!"
   ]
  },
  {
   "cell_type": "markdown",
   "metadata": {},
   "source": [
    "### 3 níveis de acesso a um atributo:\n",
    "\n",
    "* Público: qualquer um pode acessar e modificar o atributo | Em Python, por padrão todo atributo é público\n",
    "* Protegido: que só pode ser acessado pela própria classe ou classes herdeiras | Em Python, iniciamos o atributo com _\n",
    "* Private: só pode ser acessado pela própria classe | Em Python, iniciamos o atributo com __"
   ]
  },
  {
   "cell_type": "code",
   "execution_count": 38,
   "metadata": {},
   "outputs": [
    {
     "name": "stdout",
     "output_type": "stream",
     "text": [
      "público\n",
      "protegido\n",
      "privado\n"
     ]
    },
    {
     "ename": "AttributeError",
     "evalue": "'Exemplo' object has no attribute '__z'",
     "output_type": "error",
     "traceback": [
      "\u001b[1;31m---------------------------------------------------------------------------\u001b[0m",
      "\u001b[1;31mAttributeError\u001b[0m                            Traceback (most recent call last)",
      "\u001b[1;32m<ipython-input-38-d10d85d1e940>\u001b[0m in \u001b[0;36m<module>\u001b[1;34m\u001b[0m\n\u001b[0;32m     11\u001b[0m \u001b[0mprint\u001b[0m\u001b[1;33m(\u001b[0m\u001b[0mobjeto\u001b[0m\u001b[1;33m.\u001b[0m\u001b[0m_Exemplo__z\u001b[0m\u001b[1;33m)\u001b[0m \u001b[1;31m# privado pode ser burlado, o Python apenas muda seu nome - IDEALMENTE NÃO DEVE!\u001b[0m\u001b[1;33m\u001b[0m\u001b[1;33m\u001b[0m\u001b[0m\n\u001b[0;32m     12\u001b[0m \u001b[1;33m\u001b[0m\u001b[0m\n\u001b[1;32m---> 13\u001b[1;33m \u001b[0mprint\u001b[0m\u001b[1;33m(\u001b[0m\u001b[0mobjeto\u001b[0m\u001b[1;33m.\u001b[0m\u001b[0m__z\u001b[0m\u001b[1;33m)\u001b[0m \u001b[1;31m# pelo nome original, o privado não funciona!\u001b[0m\u001b[1;33m\u001b[0m\u001b[1;33m\u001b[0m\u001b[0m\n\u001b[0m\u001b[0;32m     14\u001b[0m \u001b[1;33m\u001b[0m\u001b[0m\n",
      "\u001b[1;31mAttributeError\u001b[0m: 'Exemplo' object has no attribute '__z'"
     ]
    }
   ],
   "source": [
    "class Exemplo:\n",
    "    def __init__(self):\n",
    "        self.x = 'público'\n",
    "        self._y = 'protegido'\n",
    "        self.__z = 'privado'\n",
    "        \n",
    "objeto = Exemplo()\n",
    "print(objeto.x)\n",
    "print(objeto._y) # \"protected\" em Python é apenas uma CONVENÇÃO, não é reforçado pela linguagem\n",
    "\n",
    "print(objeto._Exemplo__z) # privado pode ser burlado, o Python apenas muda seu nome - IDEALMENTE NÃO DEVE!\n",
    "\n",
    "print(objeto.__z) # pelo nome original, o privado não funciona!\n",
    "\n"
   ]
  },
  {
   "cell_type": "code",
   "execution_count": 45,
   "metadata": {},
   "outputs": [
    {
     "name": "stdout",
     "output_type": "stream",
     "text": [
      "5/2\n",
      "Cuidado! Você tentou passar 0 como denominador!\n",
      "5/1e-08\n",
      "5/3\n"
     ]
    }
   ],
   "source": [
    "# Abordagem \"tradicional\" de linguagens orientadas a objeto\n",
    "class Fracao:\n",
    "    def __init__(self, numerador=1, denominador=1):\n",
    "        # PADRÃO: todo atributo deve ser privado!\n",
    "        self.__num = numerador\n",
    "        if denominador != 0:\n",
    "            self.__den = denominador\n",
    "        else:\n",
    "            print('Cuidado! Você tentou passar 0 como denominador!')\n",
    "            self.__den = 0.00000001\n",
    "    def __repr__(self):\n",
    "        return '{}/{}'.format(self.__num, self.__den)\n",
    "    \n",
    "    # método get/getter\n",
    "    def get_num(self):\n",
    "        return self.__num\n",
    "    # método set/setter\n",
    "    def set_num(self, valor):\n",
    "        self.__num = valor\n",
    "    \n",
    "    # método get/getter\n",
    "    def get_den(self):\n",
    "        return self.__den\n",
    "    # método set/setter\n",
    "    def set_den(self, valor):\n",
    "        if valor != 0:\n",
    "            self.__den = valor\n",
    "        else:\n",
    "            print('Cuidado! Você tentou passar 0 como denominador!')\n",
    "            self.__den = 0.00000001\n",
    "    \n",
    "f1 = Fracao(1, 2)\n",
    "\n",
    "f1.set_num(5)\n",
    "print(f1)\n",
    "\n",
    "f1.set_den(0)\n",
    "print(f1)\n",
    "\n",
    "f1.set_den(3)\n",
    "print(f1)"
   ]
  },
  {
   "cell_type": "markdown",
   "metadata": {},
   "source": [
    "###  Temos duas formas \"padrão\" de fazer get/set em Python\n",
    "\n",
    "### Forma 1:"
   ]
  },
  {
   "cell_type": "code",
   "execution_count": 48,
   "metadata": {},
   "outputs": [
    {
     "name": "stdout",
     "output_type": "stream",
     "text": [
      "5/2\n",
      "Cuidado! Você tentou passar 0 como denominador!\n",
      "5/1e-08\n"
     ]
    }
   ],
   "source": [
    "class Fracao:\n",
    "    def __init__(self, numerador=1, denominador=1):\n",
    "        # PADRÃO: todo atributo deve ser privado!\n",
    "        self.__num = numerador\n",
    "        if denominador != 0:\n",
    "            self.__den = denominador\n",
    "        else:\n",
    "            print('Cuidado! Você tentou passar 0 como denominador!')\n",
    "            self.__den = 0.00000001\n",
    "    def __repr__(self):\n",
    "        return '{}/{}'.format(self.__num, self.__den)\n",
    "    \n",
    "    # método get/getter\n",
    "    def get_num(self):\n",
    "        return self.__num\n",
    "    # método set/setter\n",
    "    def set_num(self, valor):\n",
    "        self.__num = valor\n",
    "        \n",
    "    # usando o get/set para criar uma PROPRIEDADE\n",
    "    num = property(get_num, set_num)\n",
    "    \n",
    "    # método get/getter\n",
    "    def get_den(self):\n",
    "        return self.__den\n",
    "    # método set/setter\n",
    "    def set_den(self, valor):\n",
    "        if valor != 0:\n",
    "            self.__den = valor\n",
    "        else:\n",
    "            print('Cuidado! Você tentou passar 0 como denominador!')\n",
    "            self.__den = 0.00000001\n",
    "    # usando o get/set para criar uma PROPRIEDADE        \n",
    "    den = property(get_den, set_den)\n",
    "    \n",
    "\n",
    "f1 = Fracao(1, 2)\n",
    "\n",
    "f1.num = 5\n",
    "print(f1)\n",
    "    \n",
    "f1.den = 0\n",
    "print(f1)"
   ]
  },
  {
   "cell_type": "markdown",
   "metadata": {},
   "source": [
    "### Forma 2:"
   ]
  },
  {
   "cell_type": "code",
   "execution_count": 51,
   "metadata": {
    "scrolled": true
   },
   "outputs": [
    {
     "name": "stdout",
     "output_type": "stream",
     "text": [
      "5/2\n",
      "Cuidado! Você tentou passar 0 como denominador!\n",
      "5/1e-08\n"
     ]
    }
   ],
   "source": [
    "class Fracao:\n",
    "    def __init__(self, numerador=1, denominador=1):\n",
    "        # PADRÃO: todo atributo deve ser privado!\n",
    "        self.__num = numerador\n",
    "        if denominador != 0:\n",
    "            self.__den = denominador\n",
    "        else:\n",
    "            print('Cuidado! Você tentou passar 0 como denominador!')\n",
    "            self.__den = 0.00000001\n",
    "    def __repr__(self):\n",
    "        return '{}/{}'.format(self.__num, self.__den)\n",
    "    \n",
    "    ## o bloco abaixo cria um par get/set para num\n",
    "    @property\n",
    "    def num(self):\n",
    "        return self.__num\n",
    "    @num.setter\n",
    "    def num(self, valor):\n",
    "        self.__num = valor\n",
    "    \n",
    "    ## o bloco abaixo cria um par get/set para den\n",
    "    @property\n",
    "    def den(self):\n",
    "        return self.__den\n",
    "    @den.setter\n",
    "    def den(self, valor):\n",
    "        if valor != 0:\n",
    "            self.__den = valor\n",
    "        else:\n",
    "            print('Cuidado! Você tentou passar 0 como denominador!')\n",
    "            self.__den = 0.00000001\n",
    "            \n",
    "            \n",
    "\n",
    "f1 = Fracao(1, 2)\n",
    "\n",
    "f1.num = 5\n",
    "print(f1)\n",
    "    \n",
    "f1.den = 0\n",
    "print(f1)"
   ]
  },
  {
   "cell_type": "code",
   "execution_count": null,
   "metadata": {},
   "outputs": [],
   "source": [
    "class x:\n",
    "    ...\n",
    "    \n",
    "class y:\n",
    "    def __init__(self):\n",
    "        self.xis = x()"
   ]
  }
 ],
 "metadata": {
  "kernelspec": {
   "display_name": "Python 3",
   "language": "python",
   "name": "python3"
  },
  "language_info": {
   "codemirror_mode": {
    "name": "ipython",
    "version": 3
   },
   "file_extension": ".py",
   "mimetype": "text/x-python",
   "name": "python",
   "nbconvert_exporter": "python",
   "pygments_lexer": "ipython3",
   "version": "3.7.6"
  }
 },
 "nbformat": 4,
 "nbformat_minor": 4
}
