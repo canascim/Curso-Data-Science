{
 "cells": [
  {
   "cell_type": "markdown",
   "metadata": {},
   "source": [
    "Sexta-feira, dia 09/07 -> não haverá aula!\n",
    "\n"
   ]
  },
  {
   "cell_type": "markdown",
   "metadata": {},
   "source": [
    "# Programação Orientada a Objeto"
   ]
  },
  {
   "cell_type": "markdown",
   "metadata": {},
   "source": [
    "## Paradigmas de programação\n",
    "\n",
    "Paradigma imperativo\n",
    "\n",
    "Paradigma procedural -> funções/rotinas/subrotinas/procedimentos\n",
    "\n",
    "Programação orientada a evento\n",
    "\n",
    "Paradigma funcional -> clojure\n",
    "\n",
    "Paradigma lógico -> PROLOG\n"
   ]
  },
  {
   "cell_type": "markdown",
   "metadata": {},
   "source": [
    "## Programação Orientada a Objeto\n",
    "\n",
    "* Encapsulamento\n",
    "* Abstração\n",
    "* Herança\n",
    "* Polimorfismo (poli = muitos; morfo = formas)"
   ]
  },
  {
   "cell_type": "markdown",
   "metadata": {},
   "source": [
    "## Classes e Objetos\n",
    "\n",
    "* Classe: representação ideal, abstrata, \"molde\" para criar objetos\n",
    "* Objeto: instância de uma classe, entidades \"reais\" ou \"concretas\""
   ]
  },
  {
   "cell_type": "markdown",
   "metadata": {},
   "source": [
    "## Atributos e métodos\n",
    "\n",
    "* Atributos: informações particulares de cada objeto - *variáveis internas do objeto*\n",
    "* Métodos: ações ou habilidades que cada objeto possui - *funções internas do objeto*"
   ]
  },
  {
   "cell_type": "code",
   "execution_count": 21,
   "metadata": {},
   "outputs": [],
   "source": [
    "class Jogador:\n",
    "    # método construtor: é o primeiro método a ser executado quando um objeto dessa classe é criado\n",
    "    # self: é um parâmetro passado IMPLICITAMENTE que representa o objeto que está executando o método\n",
    "    def __init__(self, nome):\n",
    "        self.pontuacao = 0\n",
    "        self.ativo = True\n",
    "        self.nome = nome\n",
    "    \n",
    "    def falaInformacoes(self):\n",
    "        if self.ativo:\n",
    "            print('Meu nome é', self.nome + ', eu estou ativo no jogo e possuo', self.pontuacao, 'pontos.')\n",
    "        else:\n",
    "            print('Meu nome é', self.nome + ', eu estou inativo no jogo e fechei com', self.pontuacao)\n",
    "\n",
    "        "
   ]
  },
  {
   "cell_type": "code",
   "execution_count": 14,
   "metadata": {},
   "outputs": [
    {
     "name": "stdout",
     "output_type": "stream",
     "text": [
      "Mario\n",
      "0\n",
      "Luigi\n",
      "0\n"
     ]
    }
   ],
   "source": [
    "jogador1 = Jogador('Mario')\n",
    "jogador2 = Jogador('Luigi')\n",
    "\n",
    "print(jogador1.nome)\n",
    "print(jogador1.pontuacao)\n",
    "\n",
    "print(jogador2.nome)\n",
    "print(jogador2.pontuacao)"
   ]
  },
  {
   "cell_type": "code",
   "execution_count": 17,
   "metadata": {},
   "outputs": [
    {
     "name": "stdout",
     "output_type": "stream",
     "text": [
      "Mickey\n",
      "Luigi\n"
     ]
    }
   ],
   "source": [
    "jogador1.nome = 'Mickey'\n",
    "\n",
    "\n",
    "jogadores = [jogador1, jogador2]\n",
    "\n",
    "for j in jogadores:\n",
    "    print(j.nome)"
   ]
  },
  {
   "cell_type": "code",
   "execution_count": 26,
   "metadata": {},
   "outputs": [
    {
     "name": "stdout",
     "output_type": "stream",
     "text": [
      "<class '__main__.Jogador'>\n"
     ]
    }
   ],
   "source": [
    "jogador1.pontuacao = 10\n",
    "jogador2.pontuacao = 20\n",
    "\n",
    "jogador2.ativo = False\n",
    "\n",
    "print(type(jogador1))"
   ]
  },
  {
   "cell_type": "code",
   "execution_count": 19,
   "metadata": {},
   "outputs": [
    {
     "name": "stdout",
     "output_type": "stream",
     "text": [
      "Meu nome é Mickey, eu estou ativo no jogo e possuo 10 pontos.\n"
     ]
    }
   ],
   "source": [
    "jogador1.falaInformacoes()\n"
   ]
  },
  {
   "cell_type": "code",
   "execution_count": 20,
   "metadata": {},
   "outputs": [
    {
     "name": "stdout",
     "output_type": "stream",
     "text": [
      "Meu nome é Luigi, eu estou inativo no jogo e fechei com 20\n"
     ]
    }
   ],
   "source": [
    "jogador2.falaInformacoes()"
   ]
  },
  {
   "cell_type": "code",
   "execution_count": 24,
   "metadata": {},
   "outputs": [
    {
     "name": "stdout",
     "output_type": "stream",
     "text": [
      "Alexandre\n",
      "0\n",
      "True\n",
      "Arthur\n",
      "0\n",
      "True\n",
      "Barbara\n",
      "0\n",
      "True\n",
      "Bruno\n",
      "0\n",
      "True\n",
      "Rafael\n",
      "0\n",
      "True\n"
     ]
    }
   ],
   "source": [
    "nomes = ['Alexandre',  'Arthur', 'Barbara', 'Bruno']\n",
    "# criando uma lista com vários objetos Jogador\n",
    "jogadores = [Jogador(nome) for nome in nomes]\n",
    "\n",
    "jogadores.append(Jogador('Rafael'))\n",
    "\n",
    "# verificando os valores da lista:\n",
    "for j in jogadores:\n",
    "    print(j.nome)\n",
    "    print(j.pontuacao)\n",
    "    print(j.ativo)\n",
    "\n",
    "    \n"
   ]
  },
  {
   "cell_type": "code",
   "execution_count": 25,
   "metadata": {},
   "outputs": [
    {
     "name": "stdout",
     "output_type": "stream",
     "text": [
      "<class 'str'>\n",
      "<class 'list'>\n"
     ]
    }
   ],
   "source": [
    "materia = 'Programação Orientada a Objeto'\n",
    "dias = [5, 7]\n",
    "\n",
    "dias.append(9) # estamos acessando o MÉTODO \"append\" da classe \"list\"\n",
    "\n",
    "x = materia.upper() # estamos acessando o MÉTODO \"upper\" da classe \"str\"\n",
    "\n",
    "print(type(materia))\n",
    "print(type(dias))"
   ]
  },
  {
   "cell_type": "code",
   "execution_count": 29,
   "metadata": {},
   "outputs": [
    {
     "name": "stdout",
     "output_type": "stream",
     "text": [
      "<class '__main__.Jogador'>\n",
      "40\n"
     ]
    },
    {
     "ename": "AttributeError",
     "evalue": "'Jogador' object has no attribute 'idade'",
     "output_type": "error",
     "traceback": [
      "\u001b[1;31m---------------------------------------------------------------------------\u001b[0m",
      "\u001b[1;31mAttributeError\u001b[0m                            Traceback (most recent call last)",
      "\u001b[1;32m<ipython-input-29-98023d427749>\u001b[0m in \u001b[0;36m<module>\u001b[1;34m\u001b[0m\n\u001b[0;32m      4\u001b[0m \u001b[0mprint\u001b[0m\u001b[1;33m(\u001b[0m\u001b[0mjogador1\u001b[0m\u001b[1;33m.\u001b[0m\u001b[0midade\u001b[0m\u001b[1;33m)\u001b[0m\u001b[1;33m\u001b[0m\u001b[1;33m\u001b[0m\u001b[0m\n\u001b[0;32m      5\u001b[0m \u001b[1;33m\u001b[0m\u001b[0m\n\u001b[1;32m----> 6\u001b[1;33m \u001b[0mprint\u001b[0m\u001b[1;33m(\u001b[0m\u001b[0mjogador2\u001b[0m\u001b[1;33m.\u001b[0m\u001b[0midade\u001b[0m\u001b[1;33m)\u001b[0m\u001b[1;33m\u001b[0m\u001b[1;33m\u001b[0m\u001b[0m\n\u001b[0m",
      "\u001b[1;31mAttributeError\u001b[0m: 'Jogador' object has no attribute 'idade'"
     ]
    }
   ],
   "source": [
    "# é uma péssima prática criar atributos para um objeto específico!\n",
    "# atributos devem ser criados idealmente no __init__\n",
    "jogador1.idade = 40\n",
    "\n",
    "print(type(jogador1))\n",
    "print(jogador1.idade)\n",
    "\n",
    "print(jogador2.idade)"
   ]
  },
  {
   "cell_type": "markdown",
   "metadata": {},
   "source": [
    "\"we're all consenting adults\""
   ]
  }
 ],
 "metadata": {
  "kernelspec": {
   "display_name": "Python 3",
   "language": "python",
   "name": "python3"
  },
  "language_info": {
   "codemirror_mode": {
    "name": "ipython",
    "version": 3
   },
   "file_extension": ".py",
   "mimetype": "text/x-python",
   "name": "python",
   "nbconvert_exporter": "python",
   "pygments_lexer": "ipython3",
   "version": "3.7.6"
  }
 },
 "nbformat": 4,
 "nbformat_minor": 4
}
