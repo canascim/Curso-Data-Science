{
 "cells": [
  {
   "cell_type": "code",
   "execution_count": null,
   "metadata": {},
   "outputs": [],
   "source": [
    "\"\"\"\n",
    "Desafio 3 - Faça um programa que pede para o usuário digitar o CPF e verifica se ele é válido. \n",
    "Para isso, primeiramente o programa deve multiplicar cada um dos 9 primeiros dígitos do CPF pelos \n",
    "números de 10 a 2 e somar todas as respostas. O resultado deve ser multiplicado por 10 e dividido por 11. \n",
    "O resto dessa divisão deve ser igual ao primeiro dígito verificador (10º dígito). \n",
    "\n",
    "Em seguida, o programa deve multiplicar cada um dos 10 primeiros dígitos do CPF pelos números de 11 a 2 e \n",
    "repetir o procedimento anterior para verificar o segundo dígito verificador.\n",
    "\n",
    "Exemplo:\n",
    "\n",
    "Se o CPF for 286.255.878-87 o programa deve fazer primeiro:\n",
    "\n",
    "x = (2*10 + 8*9 + 6*8 + 2*7 + 5*6 + 5*5 + 8*4 + 7*3 + 8*2)\n",
    "\n",
    "Em seguida, o programa deve testar se x*10%11 == 8 (o décimo número do CPF). Se sim, o programa deve calcular:\n",
    "\n",
    "x = (2*11 + 8*10 + 6*9 + 2*8 + 5*7 + 5*6 + 8*5 + 7*4 + 8*3 + 8*2)\n",
    "\n",
    "e verificar se x*10%11 == 7 (o décimo primeiro número do CPF).\n",
    "\"\"\""
   ]
  },
  {
   "cell_type": "code",
   "execution_count": 5,
   "metadata": {},
   "outputs": [
    {
     "name": "stdout",
     "output_type": "stream",
     "text": [
      "Digite o seu CPF (apenas números): 28625584887\n",
      "CPF inválido!\n"
     ]
    }
   ],
   "source": [
    "cpf = int(input(\"Digite o seu CPF (apenas números): \"))\n",
    "listaCPF = []\n",
    "\n",
    "for contador in range(11):\n",
    "    resto = cpf % 10\n",
    "    listaCPF.append(resto)\n",
    "    cpf = cpf // 10\n",
    "    \n",
    "# primeiro cálculo:\n",
    "soma = 0\n",
    "for indice in range(2, 11):\n",
    "    soma = soma + listaCPF[indice]*indice\n",
    "# primeira verificação:\n",
    "if soma*10%11 == listaCPF[1]:\n",
    "    soma2 = 0\n",
    "    for indice in range(1, 11):\n",
    "        soma2 = soma2 + listaCPF[indice]*(indice+1)\n",
    "    # segunda verificação:\n",
    "    if soma2*10%11 == listaCPF[0]:\n",
    "        print('CPF válido!')\n",
    "    else:\n",
    "        print('CPF inválido!')\n",
    "    \n",
    "else:\n",
    "    print('CPF inválido!')\n",
    "    "
   ]
  },
  {
   "cell_type": "code",
   "execution_count": null,
   "metadata": {},
   "outputs": [],
   "source": [
    "# depois da aula de strings..."
   ]
  },
  {
   "cell_type": "code",
   "execution_count": 6,
   "metadata": {},
   "outputs": [
    {
     "name": "stdout",
     "output_type": "stream",
     "text": [
      "Digite o seu cpf:286.255.878-87\n",
      "28625587887\n"
     ]
    }
   ],
   "source": [
    "cpf = input('Digite o seu cpf:')\n",
    "\n",
    "# limpando pontos e traços...\n",
    "cpf = cpf.replace('.', '').replace('-', '')\n",
    "print(cpf)\n",
    "\n",
    "# transformando em lista:\n",
    "listaCPF = list(cpf)\n"
   ]
  },
  {
   "cell_type": "code",
   "execution_count": 11,
   "metadata": {},
   "outputs": [
    {
     "name": "stdout",
     "output_type": "stream",
     "text": [
      "2.0\n"
     ]
    }
   ],
   "source": [
    "'''\n",
    "Desafio! - Calcule a soma de até mil termos da série 1 + 1/2 + 1/4 + 1/8 + 1/16 + ...\n",
    "\n",
    "Dica: Use três variáveis:\n",
    "\n",
    "• um contador, que começa em zero;\n",
    "\n",
    "• uma variável para a soma de todos os termos, que também começa em zero;\n",
    "\n",
    "• uma variável para cada termo, que começa em 1 e a cada loop é dividida por 2.\n",
    "\n",
    "A repetição da soma de mil termos pode ser feita com a função while contador < 1000.\n",
    "'''\n",
    "\n",
    "contador = 0\n",
    "soma = 0\n",
    "termo = 1\n",
    "\n",
    "while contador < 1000:\n",
    "    soma = soma + termo\n",
    "    termo = termo/2\n",
    "    contador = contador + 1\n",
    "    \n",
    "print(soma)\n"
   ]
  },
  {
   "cell_type": "code",
   "execution_count": 14,
   "metadata": {},
   "outputs": [
    {
     "name": "stdout",
     "output_type": "stream",
     "text": [
      "1.0\n",
      "1.5\n",
      "1.6666666666666667\n",
      "1.7083333333333335\n",
      "1.7166666666666668\n",
      "1.7180555555555557\n",
      "1.7182539682539684\n",
      "1.71827876984127\n",
      "1.7182815255731925\n",
      "1.7182818011463847\n",
      "1.7182818261984931\n",
      "1.7182818282861687\n",
      "1.7182818284467591\n",
      "1.71828182845823\n",
      "1.71828182845823\n"
     ]
    }
   ],
   "source": [
    "'''\n",
    "Super Desafio! - Calcule a soma de mil termos dos inversos dos fatoriais: 1/(1!) + 1/(2!) + 1/(3!) + 1/(4!) + ...\n",
    "\n",
    "Dica: Assim como no exercício anterior use três variáveis: um contador; uma variável para a soma; e uma variável para os termos. \n",
    "\n",
    "Lembre-se de que 4! = 4*3*2*1 que também é igual a 4*3!.\n",
    "'''\n",
    "\n",
    "contador = 1\n",
    "soma = 0\n",
    "termo = 1\n",
    "fatorial = 1\n",
    "while contador < 1000:\n",
    "    fatorial = fatorial * contador\n",
    "    termo = 1/fatorial\n",
    "    soma = soma + termo\n",
    "    contador = contador + 1\n",
    "    print(soma)\n",
    "    \n",
    "print(soma)\n",
    "    "
   ]
  },
  {
   "cell_type": "code",
   "execution_count": 16,
   "metadata": {},
   "outputs": [
    {
     "name": "stdout",
     "output_type": "stream",
     "text": [
      "1 2 6 24 120\n",
      "1 2 6 24 120\n"
     ]
    }
   ],
   "source": [
    "'''\n",
    "Desafio 1 - Faça uma função que receba um número e calcule seu fatorial.\n",
    "3! =     3 * 2 * 1\n",
    "4! = 4 * 3 * 2 * 1 \n",
    "\n",
    "\n",
    "Super Desafio! - Repita o exercício anterior usando recursão, ou seja, uma função que chame ela mesma, \n",
    "lembrando que 3! = 3*2!, que 2! = 2*1!, que 1! = 1*0! e que 0! = 1.\n",
    "'''\n",
    "\n",
    "\n",
    "def fatorial(n):\n",
    "    fat = 1\n",
    "    for contador in range(1, n+1):\n",
    "        fat = fat * contador\n",
    "        \n",
    "    return fat\n",
    "\n",
    "''' \n",
    "n! = 1, se n = 1                caso base\n",
    "   = n*(n-1)!, se n > 1         caso geral/recursivo\n",
    "\n",
    "5! = 5*4!\n",
    "     4! = 4*3!\n",
    "            3! = 3*2!\n",
    "                   2! = 2*1!\n",
    "                          1! = 1\n",
    "                   2! = 2*1 = 2\n",
    "            3! = 3*2 = 6\n",
    "     4! = 4*6 = 24\n",
    "5! = 5*24 = 120\n",
    "\n",
    "'''\n",
    "def fatorialRec(n): # obs:  o nome não importa\n",
    "    if n == 1:\n",
    "        return 1\n",
    "    else:\n",
    "        return n*fatorialRec(n-1)\n",
    "\n",
    "fat1 = fatorial(1)\n",
    "fat2 = fatorial(2)\n",
    "fat3 = fatorial(3)\n",
    "fat4 = fatorial(4)\n",
    "fat5 = fatorial(5)\n",
    "fat1r = fatorialRec(1)\n",
    "fat2r = fatorialRec(2)\n",
    "fat3r = fatorialRec(3)\n",
    "fat4r = fatorialRec(4)\n",
    "fat5r = fatorialRec(5)\n",
    "print(fat1, fat2, fat3, fat4, fat5)\n",
    "print(fat1r, fat2r, fat3r, fat4r, fat5r)"
   ]
  },
  {
   "cell_type": "code",
   "execution_count": null,
   "metadata": {},
   "outputs": [],
   "source": []
  },
  {
   "cell_type": "code",
   "execution_count": null,
   "metadata": {},
   "outputs": [],
   "source": [
    "lista = [...]\n",
    "# li elementos para essa lista\n",
    "\n",
    "O(n)\n",
    "for elemento in lista:\n",
    "    print(elemento)\n",
    "\n",
    "O(n²)\n",
    "for elemento in lista:\n",
    "    for elemento2 in lista:\n",
    "        print(elemento2)\n",
    "O(n³)        \n",
    "for elemento in lista:\n",
    "    for elemento2 in lista:\n",
    "        for elemento3 in lista:\n",
    "            print(elemento3)\n",
    "            \n",
    "            \n",
    "# interpretado\n",
    "\n",
    "# compilado"
   ]
  },
  {
   "cell_type": "code",
   "execution_count": 17,
   "metadata": {},
   "outputs": [
    {
     "name": "stdout",
     "output_type": "stream",
     "text": [
      "Digite o nome do aluno: Joãozinho\n",
      "Digite a idade do aluno: 18\n",
      "Digite quantas provas o aluno fez: 3\n",
      "Digite a nota: 6\n",
      "Digite a nota: 7\n",
      "Digite a nota: 8\n",
      "['Joãozinho', 18, [6.0, 7.0, 8.0], 7.0, True]\n"
     ]
    }
   ],
   "source": [
    "'''\n",
    "Desafio 1 - Faça um programa que peça para o usuário digitar o nome e a idade de um aluno e o \n",
    "número de provas que esse aluno fez. \n",
    "Depois, o programa deve pedir para o usuário digitar as notas de cada prova do aluno. A\n",
    "o final o programa deve imprimir uma lista contendo:\n",
    "\n",
    "a. Nome do aluno na posição 0;\n",
    "\n",
    "b. Idade do aluno na posição 1;\n",
    "\n",
    "c. Uma lista com todas as notas na posição 2;\n",
    "\n",
    "d. A média do aluno na posição 3;\n",
    "\n",
    "e. True ou False, caso a média seja maior que 5 ou não, na posição 4.\n",
    "\n",
    "Dica: Use o que você fez nos exercícios anteriores para criar esse programa.\n",
    "'''\n",
    "\n",
    "nome = input('Digite o nome do aluno: ')\n",
    "idade = int(input('Digite a idade do aluno: '))\n",
    "quantidade = int(input('Digite quantas provas o aluno fez: '))\n",
    "\n",
    "notas = []\n",
    "soma = 0\n",
    "for contador in range(quantidade):\n",
    "    nota = float(input('Digite a nota: '))\n",
    "    soma = soma + nota # para o cálculo da média...\n",
    "    notas.append(nota) # para montar a lista de notas...\n",
    "media = soma/quantidade\n",
    "\n",
    "if media >= 5:\n",
    "    passou = True\n",
    "else:\n",
    "    passou = False\n",
    "# passou = media >= 5 # também funciona!\n",
    "\n",
    "aluno = [nome, idade, notas, media, passou]\n",
    "\n",
    "print(aluno)\n"
   ]
  },
  {
   "cell_type": "code",
   "execution_count": null,
   "metadata": {},
   "outputs": [],
   "source": [
    "# 14 / 3    -----> divisão \"verdadeira\", divisão \"real\"\n",
    " 14 | 3\n",
    "-12   4.66...............\n",
    "---\n",
    "  20\n",
    "- 18\n",
    "   20\n",
    "\"\"\"   \n",
    "    \n",
    " 14 | 3\n",
    "-12   4    <----- 14 // 3 ------> divisão \"inteira\"\n",
    "---\n",
    "  2        <----- 14 % 3 ------> resto de divisão\n",
    "  \n",
    "\"\"\" \n",
    "\n",
    "\n",
    " 12345 | 10\n",
    "-10        1234  <<<<<< divisão inteira\n",
    "----\n",
    "  23\n",
    " -20\n",
    " ----\n",
    "    34\n",
    "    -30\n",
    "    ----\n",
    "      45\n",
    "    - 40\n",
    "    -----\n",
    "        5   <<<<<< resto da divisão"
   ]
  },
  {
   "cell_type": "code",
   "execution_count": 27,
   "metadata": {},
   "outputs": [
    {
     "name": "stdout",
     "output_type": "stream",
     "text": [
      "96\n",
      "93\n"
     ]
    }
   ],
   "source": [
    "\"\"\"\n",
    "Faça uma função que sorteia 10 números aleatórios entre 0 e 100 e retorna o maior entre eles.\n",
    "\"\"\"\n",
    "import random\n",
    "\n",
    "def maiorAleatorio():\n",
    "    aleatorios = []\n",
    "    for contador in range(10):\n",
    "        sorteio = random.randint(0, 100)\n",
    "        aleatorios.append(sorteio)\n",
    "    #print(aleatorios)\n",
    "    maior = max(aleatorios)\n",
    "    return maior\n",
    "\n",
    "def maiorAleatorio2():\n",
    "    maior = 0\n",
    "    #print('---')\n",
    "    for contador in range(10):\n",
    "        sorteio = random.randint(0, 100)\n",
    "        #print(sorteio)\n",
    "        if sorteio > maior:\n",
    "            maior = sorteio\n",
    "    #print('---')\n",
    "            \n",
    "    return maior\n",
    "\n",
    "x = maiorAleatorio()\n",
    "print(x)\n",
    "\n",
    "y = maiorAleatorio2()\n",
    "print(y)"
   ]
  },
  {
   "cell_type": "code",
   "execution_count": 29,
   "metadata": {},
   "outputs": [
    {
     "name": "stdout",
     "output_type": "stream",
     "text": [
      "yzgzgz\n"
     ]
    }
   ],
   "source": [
    "'''\n",
    "Super Desafio! - faça uma função que criptografa uma mensagem substituindo cada letra pela letra \n",
    "oposta do dicionário:\n",
    "\n",
    "'a' por 'z'\n",
    "\n",
    "'b' por 'y'\n",
    "\n",
    "'c' por 'x'\n",
    "'''\n",
    "'batata'\n",
    "\n",
    "def criptografia (mensagem):\n",
    "    alfabeto = ['a', 'b', 'c', 'd', 'e', 'f', 'g', 'h', 'i', 'j', 'k', 'l', 'm', 'n', 'o', 'p', 'q', \n",
    "                'r', 's', 't', 'u', 'v', 'w', 'x', 'y', 'z']\n",
    "    reverso = ['a', 'b', 'c', 'd', 'e', 'f', 'g', 'h', 'i', 'j', 'k', 'l', 'm', 'n', 'o', 'p', 'q', \n",
    "                'r', 's', 't', 'u', 'v', 'w', 'x', 'y', 'z']\n",
    "    \n",
    "    reverso.reverse()\n",
    "    \n",
    "    codificada = ''\n",
    "    \n",
    "    for letra in mensagem:\n",
    "        indice = alfabeto.index(letra)\n",
    "        codificada = codificada + reverso[indice]\n",
    "        \n",
    "    return codificada\n",
    "\n",
    "x = criptografia('batata')\n",
    "print(x)"
   ]
  },
  {
   "cell_type": "code",
   "execution_count": 30,
   "metadata": {},
   "outputs": [
    {
     "name": "stdout",
     "output_type": "stream",
     "text": [
      "abc\n"
     ]
    }
   ],
   "source": [
    "x = ''\n",
    "x = x + 'a'\n",
    "x = x + 'b'\n",
    "x = x + 'c'\n",
    "print(x)"
   ]
  },
  {
   "cell_type": "code",
   "execution_count": 31,
   "metadata": {},
   "outputs": [
    {
     "name": "stdout",
     "output_type": "stream",
     "text": [
      "yzgzgz\n"
     ]
    }
   ],
   "source": [
    "def criptografia (mensagem):\n",
    "    alfabeto = ['a', 'b', 'c', 'd', 'e', 'f', 'g', 'h', 'i', 'j', 'k', 'l', 'm', 'n', 'o', 'p', 'q', \n",
    "                'r', 's', 't', 'u', 'v', 'w', 'x', 'y', 'z']\n",
    "    reverso = ['a', 'b', 'c', 'd', 'e', 'f', 'g', 'h', 'i', 'j', 'k', 'l', 'm', 'n', 'o', 'p', 'q', \n",
    "                'r', 's', 't', 'u', 'v', 'w', 'x', 'y', 'z']\n",
    "    \n",
    "    reverso.reverse()\n",
    "    \n",
    "    codificada = []\n",
    "    \n",
    "    for letra in mensagem:\n",
    "        indice = alfabeto.index(letra)\n",
    "        codificada.append(reverso[indice])\n",
    "        \n",
    "    codificadastr = ''.join(codificada)\n",
    "        \n",
    "    return codificadastr\n",
    "\n",
    "x = criptografia('batata')\n",
    "print(x)"
   ]
  },
  {
   "cell_type": "code",
   "execution_count": 33,
   "metadata": {},
   "outputs": [
    {
     "ename": "TypeError",
     "evalue": "sequence item 0: expected str instance, int found",
     "output_type": "error",
     "traceback": [
      "\u001b[1;31m---------------------------------------------------------------------------\u001b[0m",
      "\u001b[1;31mTypeError\u001b[0m                                 Traceback (most recent call last)",
      "\u001b[1;32m<ipython-input-33-2e644c7f0a52>\u001b[0m in \u001b[0;36m<module>\u001b[1;34m\u001b[0m\n\u001b[1;32m----> 1\u001b[1;33m \u001b[0mx\u001b[0m \u001b[1;33m=\u001b[0m \u001b[1;34m'abc'\u001b[0m\u001b[1;33m.\u001b[0m\u001b[0mjoin\u001b[0m\u001b[1;33m(\u001b[0m\u001b[1;33m[\u001b[0m\u001b[1;36m1\u001b[0m\u001b[1;33m,\u001b[0m \u001b[1;36m2\u001b[0m\u001b[1;33m,\u001b[0m \u001b[1;36m3\u001b[0m\u001b[1;33m]\u001b[0m\u001b[1;33m)\u001b[0m\u001b[1;33m\u001b[0m\u001b[1;33m\u001b[0m\u001b[0m\n\u001b[0m\u001b[0;32m      2\u001b[0m \u001b[0mprint\u001b[0m\u001b[1;33m(\u001b[0m\u001b[0mx\u001b[0m\u001b[1;33m)\u001b[0m\u001b[1;33m\u001b[0m\u001b[1;33m\u001b[0m\u001b[0m\n",
      "\u001b[1;31mTypeError\u001b[0m: sequence item 0: expected str instance, int found"
     ]
    }
   ],
   "source": [
    "x = 'abc'.join([1, 2, 3])\n",
    "print(x)"
   ]
  },
  {
   "cell_type": "code",
   "execution_count": 34,
   "metadata": {},
   "outputs": [
    {
     "name": "stdout",
     "output_type": "stream",
     "text": [
      "['alface']\n"
     ]
    }
   ],
   "source": [
    "lista1 = ['batata' , 'cenoura', 'alface', 'tomate']\n",
    "lista2 = ['cenoura', 'batata', 'tomate']\n",
    "\n",
    "for elemento in lista2:\n",
    "    lista1.remove(elemento)\n",
    "    \n",
    "print(lista1)"
   ]
  },
  {
   "cell_type": "code",
   "execution_count": 37,
   "metadata": {},
   "outputs": [
    {
     "name": "stdout",
     "output_type": "stream",
     "text": [
      "['A', 'J', 'Q', 'K', 2, 3, 4, 5, 6, 7, 8, 9, 10, 'A', 'J', 'Q', 'K', 2, 3, 4, 5, 6, 7, 8, 9, 10, 'A', 'J', 'Q', 'K', 2, 3, 4, 5, 6, 7, 8, 9, 10, 'A', 'J', 'Q', 'K', 2, 3, 4, 5, 6, 7, 8, 9, 10]\n",
      "9\n",
      "['A', 'J', 'Q', 'K', 2, 3, 4, 5, 6, 7, 8, 10, 'A', 'J', 'Q', 'K', 2, 3, 4, 5, 6, 7, 8, 9, 10, 'A', 'J', 'Q', 'K', 2, 3, 4, 5, 6, 7, 8, 9, 10, 'A', 'J', 'Q', 'K', 2, 3, 4, 5, 6, 7, 8, 9, 10]\n"
     ]
    }
   ],
   "source": [
    "# gerando um baralho - naipes não importam\n",
    "baralho = []\n",
    "\n",
    "for cont in range(4):\n",
    "    baralho.append('A')\n",
    "    baralho.append('J')\n",
    "    baralho.append('Q')\n",
    "    baralho.append('K')\n",
    "    for valor in range(2, 11):\n",
    "        baralho.append(valor)\n",
    "        \n",
    "print(baralho)\n",
    "\n",
    "# indice = random.randrange(0, len(baralho))\n",
    "indice = random.randint(0, len(baralho)-1)\n",
    "sorteio = baralho[indice]\n",
    "#baralho.pop(indice)\n",
    "baralho.remove(sorteio)\n",
    "print(sorteio)\n",
    "print(baralho)"
   ]
  },
  {
   "cell_type": "code",
   "execution_count": null,
   "metadata": {},
   "outputs": [],
   "source": [
    "'''\n",
    "Python\n",
    "\n",
    "compilado -----> .exe            \n",
    "interpretado --> \n",
    "\n",
    "\n",
    "\"híbrido\" - java/jvm\n",
    "compilado -> binário fictício\n",
    "\"máquina virtual\" -> interpreta\n",
    "\n",
    "https://www.pyinstaller.org/\n",
    "\n",
    "\n",
    "IPython\n",
    "'''"
   ]
  },
  {
   "cell_type": "code",
   "execution_count": null,
   "metadata": {},
   "outputs": [],
   "source": [
    "'''\n",
    "Automação de tarefas\n",
    "\n",
    "Data Science \n",
    "\n",
    "Web\n",
    "\n",
    "\n",
    "Cliente  <----------> servidor\n",
    "'''"
   ]
  }
 ],
 "metadata": {
  "kernelspec": {
   "display_name": "Python 3",
   "language": "python",
   "name": "python3"
  },
  "language_info": {
   "codemirror_mode": {
    "name": "ipython",
    "version": 3
   },
   "file_extension": ".py",
   "mimetype": "text/x-python",
   "name": "python",
   "nbconvert_exporter": "python",
   "pygments_lexer": "ipython3",
   "version": "3.7.6"
  }
 },
 "nbformat": 4,
 "nbformat_minor": 4
}
