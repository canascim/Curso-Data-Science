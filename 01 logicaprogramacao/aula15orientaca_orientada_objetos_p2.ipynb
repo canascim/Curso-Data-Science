{
 "cells": [
  {
   "cell_type": "markdown",
   "metadata": {},
   "source": [
    "12/07 - programação orientada a objetos (parte 2)\n",
    "\n",
    "14/07 - programação orientada a objetos (parte 3)\n",
    "\n",
    "16/07 - projeto 2\n",
    "\n",
    "\n",
    "19/07 - Revisão/dúvidas de Prog Orientada Objeto\n",
    "\n",
    "21/07 - API \n",
    "\n",
    "23/07 - Webscraping\n",
    "\n",
    "\n",
    "26/07 - Webscraping (parte 2)\n",
    "\n",
    "28/07 - Revisão/dúvidas geral\n",
    "\n",
    "30/07 - Prova\n",
    "\n",
    "\n",
    "Monitoria - 19h às 20h - terças-feiras\n",
    "\n",
    "Começando AMANHÃ\n",
    "\n",
    "Prof. Helder\n",
    "\n",
    "https://meet.google.com/mdu-jaor-ehw\n"
   ]
  },
  {
   "cell_type": "markdown",
   "metadata": {},
   "source": [
    "# Programação Orientada a Objeto\n",
    "\n",
    "## Princípios\n",
    "* Encapsulamento\n",
    "* Abstração\n",
    "* Herança\n",
    "* Polimorfismo\n",
    "\n",
    "## Conceitos principais\n",
    "* Classe \n",
    "* Objeto - \"instância da classe\"\n",
    "* Atributos - informações de cada objeto (variáveis \"internas\" do seu objeto)\n",
    "* Métodos - comportamentos/ações/habilidades (funções \"internas\" do seu objeto)\n",
    "\n",
    "## Métodos mágicos\n",
    "Método \"padronizado\" (nome específico/parâmetros em formato específico) pra redefinir alguns comportamentos específicos do Python (ex: operadores).\n"
   ]
  },
  {
   "cell_type": "code",
   "execution_count": 39,
   "metadata": {},
   "outputs": [
    {
     "name": "stdout",
     "output_type": "stream",
     "text": [
      "5\n",
      "2\n",
      "1\n",
      "1\n"
     ]
    }
   ],
   "source": [
    "class Fracao:\n",
    "    # método construtor\n",
    "    def __init__(self, numerador=1, denominador=1):\n",
    "        self.num = numerador\n",
    "        self.den = denominador\n",
    "        \n",
    "    def valorDecimal(self):\n",
    "        decimal = self.num/self.den\n",
    "        return decimal\n",
    "    \n",
    "    def imprime(self):\n",
    "        representacao = '{}/{}'.format(self.num, self.den)\n",
    "        print(representacao)\n",
    "        \n",
    "    def soma(self, other):\n",
    "        # a/b\n",
    "        # c/d\n",
    "        # (a*d + c*b)/(b*d)\n",
    "        numerador = self.num*other.den + other.num*self.den\n",
    "        denominador = self.den*other.den\n",
    "        resultado = Fracao(numerador, denominador)\n",
    "        return resultado\n",
    "        \n",
    "        \n",
    "    # um método mágico: __repr__\n",
    "    # __repr__ retorna uma \"representação imprimível\" do objeto para o print\n",
    "    def __repr__(self):\n",
    "        return '{}/{}'.format(self.num, self.den)\n",
    "    \n",
    "    # um método mágico aritmético: __add__\n",
    "    # recebe 2 objetos (self, other) e define o comportamento do operador \"+\" para objetos dessa classe\n",
    "    # x = a + b     equivale a      x = a.__add__(b)\n",
    "    def __add__(self, other):\n",
    "        numerador = self.num*other.den + other.num*self.den\n",
    "        denominador = self.den*other.den\n",
    "        resultado = Fracao(numerador, denominador)\n",
    "        return resultado\n",
    "    \n",
    "    # um método mágico lógico: __gt__\n",
    "    # greater than: retorna True se self > other e False caso contrário\n",
    "    # ele é acionado pelo operador >:\n",
    "    # x > y    equivale a     x.__gt__(y)\n",
    "    def __gt__(self, other):\n",
    "        valorreal1 = self.valorDecimal()\n",
    "        valorreal2 = other.valorDecimal()\n",
    "        '''\n",
    "        if valorreal1 > valorreal2:\n",
    "            return True\n",
    "        else:\n",
    "            return False\n",
    "        '''\n",
    "        return valorreal1 > valorreal2 # equivalente ao bloco comentado acima\n",
    "\n",
    "## acabaram os tabs? acabou a classe!\n",
    "# deste ponto em diante, é apenas o programa principal:\n",
    "f1 = Fracao(5, 2)\n",
    "f2 = Fracao()\n",
    "\n",
    "print(f1.num)\n",
    "print(f1.den)\n",
    "\n",
    "print(f2.num)\n",
    "print(f2.den)"
   ]
  },
  {
   "cell_type": "code",
   "execution_count": 2,
   "metadata": {},
   "outputs": [
    {
     "name": "stdout",
     "output_type": "stream",
     "text": [
      "2.5\n"
     ]
    }
   ],
   "source": [
    "dec1 = f1.valorDecimal()\n",
    "print(dec1)"
   ]
  },
  {
   "cell_type": "code",
   "execution_count": 20,
   "metadata": {},
   "outputs": [
    {
     "name": "stdout",
     "output_type": "stream",
     "text": [
      "5/2\n",
      "5/2\n"
     ]
    }
   ],
   "source": [
    "# podemos imprimir diretamente um objeto? SIM, desde que o método __repr__ esteja implementado!\n",
    "print(f1)\n",
    "\n",
    "# podemos usar um método para imprimir o objeto como gostaríamos? sim, mas é mais intuitivo usar o __repr__ e o print!\n",
    "f1.imprime()"
   ]
  },
  {
   "cell_type": "code",
   "execution_count": 10,
   "metadata": {},
   "outputs": [
    {
     "name": "stdout",
     "output_type": "stream",
     "text": [
      "[1, 3, 5, 7, 9]\n"
     ]
    }
   ],
   "source": [
    "objetoDaClasseLista = [1, 3, 5, 7, 9]\n",
    "print(objetoDaClasseLista)"
   ]
  },
  {
   "cell_type": "code",
   "execution_count": 42,
   "metadata": {},
   "outputs": [
    {
     "name": "stdout",
     "output_type": "stream",
     "text": [
      "7/2\n"
     ]
    }
   ],
   "source": [
    "# somando as frações f1 e f2 com a função soma:\n",
    "res = f1.soma(f2)\n",
    "print(res)"
   ]
  },
  {
   "cell_type": "code",
   "execution_count": 43,
   "metadata": {},
   "outputs": [
    {
     "name": "stdout",
     "output_type": "stream",
     "text": [
      "self: 5/2\n",
      "other: 1/1\n",
      "7/2\n"
     ]
    }
   ],
   "source": [
    "# somando as frações f1 e f2 usando o operador +\n",
    "# isso SÓ funciona se a classe Fracao tiver o método __add__ implementado!\n",
    "print('self:', f1)\n",
    "print('other:', f2)\n",
    "res = f1 + f2 # res = f1.__add__(f2)\n",
    "print(res)"
   ]
  },
  {
   "cell_type": "markdown",
   "metadata": {},
   "source": [
    "### Métodos mágicos aritméticos:\n",
    "* ```__add__``` +\n",
    "* ```__sub__``` -\n",
    "* ```__mul__``` *\n",
    "* ```__truediv__``` /\n",
    "* ```__floordiv__``` //\n",
    "* ```__mod__``` %\n",
    "* ```__exp__``` **"
   ]
  },
  {
   "cell_type": "code",
   "execution_count": 33,
   "metadata": {},
   "outputs": [
    {
     "name": "stdout",
     "output_type": "stream",
     "text": [
      "olamundo\n"
     ]
    },
    {
     "ename": "TypeError",
     "evalue": "unsupported operand type(s) for -: 'str' and 'str'",
     "output_type": "error",
     "traceback": [
      "\u001b[1;31m---------------------------------------------------------------------------\u001b[0m",
      "\u001b[1;31mTypeError\u001b[0m                                 Traceback (most recent call last)",
      "\u001b[1;32m<ipython-input-33-121c057b10e0>\u001b[0m in \u001b[0;36m<module>\u001b[1;34m\u001b[0m\n\u001b[0;32m      2\u001b[0m \u001b[0mstr2\u001b[0m \u001b[1;33m=\u001b[0m \u001b[1;34m'mundo'\u001b[0m\u001b[1;33m\u001b[0m\u001b[1;33m\u001b[0m\u001b[0m\n\u001b[0;32m      3\u001b[0m \u001b[0mprint\u001b[0m\u001b[1;33m(\u001b[0m\u001b[0mstr1\u001b[0m \u001b[1;33m+\u001b[0m \u001b[0mstr2\u001b[0m\u001b[1;33m)\u001b[0m \u001b[1;31m# isso funciona porque a classe str possui o método __add__\u001b[0m\u001b[1;33m\u001b[0m\u001b[1;33m\u001b[0m\u001b[0m\n\u001b[1;32m----> 4\u001b[1;33m \u001b[0mprint\u001b[0m\u001b[1;33m(\u001b[0m\u001b[0mstr1\u001b[0m \u001b[1;33m-\u001b[0m \u001b[0mstr2\u001b[0m\u001b[1;33m)\u001b[0m \u001b[1;31m# isso não funciona porque a classe str NÃO possui o método __sub__\u001b[0m\u001b[1;33m\u001b[0m\u001b[1;33m\u001b[0m\u001b[0m\n\u001b[0m",
      "\u001b[1;31mTypeError\u001b[0m: unsupported operand type(s) for -: 'str' and 'str'"
     ]
    }
   ],
   "source": [
    "str1 = 'ola'\n",
    "str2 = 'mundo'\n",
    "print(str1 + str2) # isso funciona porque a classe str possui o método __add__\n",
    "print(str1 - str2) # isso não funciona porque a classe str NÃO possui o método __sub__"
   ]
  },
  {
   "cell_type": "code",
   "execution_count": 47,
   "metadata": {},
   "outputs": [
    {
     "name": "stdout",
     "output_type": "stream",
     "text": [
      "f1: 5/2\n",
      "f2: 1/1\n",
      "f1 > f2: True\n",
      "f2 > f1: False\n",
      "res: 7/2\n",
      "f1 > res: False\n",
      "res > f1: True\n"
     ]
    }
   ],
   "source": [
    "# para usar comparações, devemos implementar métodos mágicos lógicos (como o __gt__)\n",
    "\n",
    "print('f1:', f1)\n",
    "print('f2:', f2)\n",
    "print('f1 > f2:', f1 > f2)\n",
    "print('f2 > f1:', f2 > f1)\n",
    "\n",
    "print('res:', res)\n",
    "print('f1 > res:', f1 > res)\n",
    "print('res > f1:', res > f1)"
   ]
  },
  {
   "cell_type": "code",
   "execution_count": 46,
   "metadata": {},
   "outputs": [
    {
     "name": "stdout",
     "output_type": "stream",
     "text": [
      "foi somado um número positivo\n"
     ]
    }
   ],
   "source": [
    "if res > f1:\n",
    "    print('foi somado um número positivo')\n",
    "else:\n",
    "    print('foi somado um número negativo')"
   ]
  },
  {
   "cell_type": "markdown",
   "metadata": {},
   "source": [
    "### Métodos mágicos lógicos:\n",
    "\n",
    "* ```__gt__``` (greater than) >\n",
    "* ```__lt__``` (less than) <\n",
    "* ```__ge__``` (greater or equal) >=\n",
    "* ```__le__``` (less or equal) <=\n",
    "* ```__eq__``` (equal) ==\n",
    "* ```__ne__``` (not equal) !="
   ]
  },
  {
   "cell_type": "code",
   "execution_count": 48,
   "metadata": {},
   "outputs": [
    {
     "name": "stdout",
     "output_type": "stream",
     "text": [
      "testetesteteste\n"
     ]
    }
   ],
   "source": [
    "print('teste'*3)\n",
    "\n",
    "'teste'.__mul__(3)"
   ]
  },
  {
   "cell_type": "code",
   "execution_count": 49,
   "metadata": {},
   "outputs": [
    {
     "name": "stdout",
     "output_type": "stream",
     "text": [
      "28/4\n"
     ]
    }
   ],
   "source": [
    "print(f1 + f2 + res) # f1.__add__(f2).__add__(res) "
   ]
  },
  {
   "cell_type": "code",
   "execution_count": 50,
   "metadata": {},
   "outputs": [],
   "source": [
    "## Exercício da aula anterior: não teve\n",
    "## Exercício valendo nota (aula de hoje): exercício 11\n",
    "## Exercício DA PRÓXIMA AULA (mas mesma lista): exercício 15"
   ]
  },
  {
   "cell_type": "code",
   "execution_count": null,
   "metadata": {},
   "outputs": [],
   "source": []
  }
 ],
 "metadata": {
  "kernelspec": {
   "display_name": "Python 3",
   "language": "python",
   "name": "python3"
  },
  "language_info": {
   "codemirror_mode": {
    "name": "ipython",
    "version": 3
   },
   "file_extension": ".py",
   "mimetype": "text/x-python",
   "name": "python",
   "nbconvert_exporter": "python",
   "pygments_lexer": "ipython3",
   "version": "3.7.6"
  }
 },
 "nbformat": 4,
 "nbformat_minor": 4
}
