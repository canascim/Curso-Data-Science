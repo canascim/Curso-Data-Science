{
 "cells": [
  {
   "cell_type": "markdown",
   "id": "demographic-queue",
   "metadata": {},
   "source": [
    "## Tuplas"
   ]
  },
  {
   "cell_type": "code",
   "execution_count": 4,
   "id": "fantastic-approach",
   "metadata": {},
   "outputs": [
    {
     "data": {
      "text/plain": [
       "(1, 2, 3)"
      ]
     },
     "execution_count": 4,
     "metadata": {},
     "output_type": "execute_result"
    }
   ],
   "source": [
    "minha_lista = [1, 2, 3]\n",
    "\n",
    "minha_tupla = tuple(minha_lista)\n",
    "minha_tupla"
   ]
  },
  {
   "cell_type": "code",
   "execution_count": 5,
   "id": "neither-customer",
   "metadata": {},
   "outputs": [
    {
     "data": {
      "text/plain": [
       "(1, 2, 3)"
      ]
     },
     "execution_count": 5,
     "metadata": {},
     "output_type": "execute_result"
    }
   ],
   "source": [
    "minha_tupla = (1, 2, 3)\n",
    "minha_tupla"
   ]
  },
  {
   "cell_type": "code",
   "execution_count": 6,
   "id": "comfortable-subject",
   "metadata": {},
   "outputs": [
    {
     "data": {
      "text/plain": [
       "(1, 2, 3)"
      ]
     },
     "execution_count": 6,
     "metadata": {},
     "output_type": "execute_result"
    }
   ],
   "source": [
    "minha_tupla = 1, 2, 3\n",
    "minha_tupla"
   ]
  },
  {
   "cell_type": "code",
   "execution_count": 8,
   "id": "vital-anniversary",
   "metadata": {},
   "outputs": [
    {
     "name": "stdout",
     "output_type": "stream",
     "text": [
      "1\n",
      "2\n",
      "3\n"
     ]
    }
   ],
   "source": [
    "for valor in minha_tupla:\n",
    "    print(valor)"
   ]
  },
  {
   "cell_type": "code",
   "execution_count": 15,
   "id": "stupid-procedure",
   "metadata": {},
   "outputs": [
    {
     "data": {
      "text/plain": [
       "1"
      ]
     },
     "execution_count": 15,
     "metadata": {},
     "output_type": "execute_result"
    }
   ],
   "source": [
    "minha_tupla[0]"
   ]
  },
  {
   "cell_type": "code",
   "execution_count": 16,
   "id": "stainless-lodge",
   "metadata": {},
   "outputs": [
    {
     "name": "stdout",
     "output_type": "stream",
     "text": [
      "1\n",
      "2\n",
      "3\n"
     ]
    }
   ],
   "source": [
    "for indice in range(len(minha_tupla)):\n",
    "    print(minha_tupla[indice])"
   ]
  },
  {
   "cell_type": "code",
   "execution_count": null,
   "id": "scenic-powell",
   "metadata": {},
   "outputs": [],
   "source": [
    "minha_lista = [1, 2, 3]"
   ]
  },
  {
   "cell_type": "code",
   "execution_count": 22,
   "id": "awful-invasion",
   "metadata": {},
   "outputs": [
    {
     "data": {
      "text/plain": [
       "[5, 2, 3]"
      ]
     },
     "execution_count": 22,
     "metadata": {},
     "output_type": "execute_result"
    }
   ],
   "source": [
    "minha_lista[0] = 5\n",
    "minha_lista"
   ]
  },
  {
   "cell_type": "code",
   "execution_count": 21,
   "id": "conditional-science",
   "metadata": {},
   "outputs": [
    {
     "ename": "TypeError",
     "evalue": "'tuple' object does not support item assignment",
     "output_type": "error",
     "traceback": [
      "\u001b[1;31m---------------------------------------------------------------------------\u001b[0m",
      "\u001b[1;31mTypeError\u001b[0m                                 Traceback (most recent call last)",
      "\u001b[1;32m<ipython-input-21-1d26285088c1>\u001b[0m in \u001b[0;36m<module>\u001b[1;34m\u001b[0m\n\u001b[0;32m      1\u001b[0m \u001b[0mminha_tupla\u001b[0m \u001b[1;33m=\u001b[0m \u001b[1;33m(\u001b[0m\u001b[1;36m1\u001b[0m\u001b[1;33m,\u001b[0m \u001b[1;36m2\u001b[0m\u001b[1;33m,\u001b[0m \u001b[1;36m3\u001b[0m\u001b[1;33m)\u001b[0m\u001b[1;33m\u001b[0m\u001b[1;33m\u001b[0m\u001b[0m\n\u001b[1;32m----> 2\u001b[1;33m \u001b[0mminha_tupla\u001b[0m\u001b[1;33m[\u001b[0m\u001b[1;36m1\u001b[0m\u001b[1;33m]\u001b[0m \u001b[1;33m=\u001b[0m \u001b[1;36m5\u001b[0m\u001b[1;33m\u001b[0m\u001b[1;33m\u001b[0m\u001b[0m\n\u001b[0m",
      "\u001b[1;31mTypeError\u001b[0m: 'tuple' object does not support item assignment"
     ]
    }
   ],
   "source": [
    "minha_tupla = (1, 2, 3)\n",
    "minha_tupla[1] = 5"
   ]
  },
  {
   "cell_type": "code",
   "execution_count": 23,
   "id": "distinct-incidence",
   "metadata": {},
   "outputs": [
    {
     "ename": "AttributeError",
     "evalue": "'tuple' object has no attribute 'append'",
     "output_type": "error",
     "traceback": [
      "\u001b[1;31m---------------------------------------------------------------------------\u001b[0m",
      "\u001b[1;31mAttributeError\u001b[0m                            Traceback (most recent call last)",
      "\u001b[1;32m<ipython-input-23-894354318f47>\u001b[0m in \u001b[0;36m<module>\u001b[1;34m\u001b[0m\n\u001b[1;32m----> 1\u001b[1;33m \u001b[0mminha_tupla\u001b[0m\u001b[1;33m.\u001b[0m\u001b[0mappend\u001b[0m\u001b[1;33m(\u001b[0m\u001b[1;36m5\u001b[0m\u001b[1;33m)\u001b[0m\u001b[1;33m\u001b[0m\u001b[1;33m\u001b[0m\u001b[0m\n\u001b[0m",
      "\u001b[1;31mAttributeError\u001b[0m: 'tuple' object has no attribute 'append'"
     ]
    }
   ],
   "source": [
    "minha_tupla.append(5)"
   ]
  },
  {
   "cell_type": "code",
   "execution_count": 25,
   "id": "colonial-vancouver",
   "metadata": {},
   "outputs": [
    {
     "name": "stdout",
     "output_type": "stream",
     "text": [
      "Minha tupla: (1, 2, 3)\n",
      "Minha lista: [5, 2, 3]\n"
     ]
    }
   ],
   "source": [
    "print(f'Minha tupla: {minha_tupla}')\n",
    "print(f'Minha lista: {minha_lista}')"
   ]
  },
  {
   "cell_type": "code",
   "execution_count": 30,
   "id": "expanded-wellington",
   "metadata": {},
   "outputs": [],
   "source": [
    "lista_resultados = []\n",
    "for indice in range(len(minha_tupla)):\n",
    "    resultado = minha_tupla[indice]*minha_lista[indice]\n",
    "    lista_resultados.append(resultado)\n",
    "tupla_resultados = tuple(lista_resultados)"
   ]
  },
  {
   "cell_type": "code",
   "execution_count": 33,
   "id": "available-peoples",
   "metadata": {},
   "outputs": [
    {
     "ename": "TypeError",
     "evalue": "'str' object does not support item assignment",
     "output_type": "error",
     "traceback": [
      "\u001b[1;31m---------------------------------------------------------------------------\u001b[0m",
      "\u001b[1;31mTypeError\u001b[0m                                 Traceback (most recent call last)",
      "\u001b[1;32m<ipython-input-33-078a2367ba42>\u001b[0m in \u001b[0;36m<module>\u001b[1;34m\u001b[0m\n\u001b[0;32m      1\u001b[0m \u001b[0mminha_string\u001b[0m \u001b[1;33m=\u001b[0m \u001b[1;34m'Olá'\u001b[0m\u001b[1;33m\u001b[0m\u001b[1;33m\u001b[0m\u001b[0m\n\u001b[1;32m----> 2\u001b[1;33m \u001b[0mminha_string\u001b[0m\u001b[1;33m[\u001b[0m\u001b[1;36m0\u001b[0m\u001b[1;33m]\u001b[0m \u001b[1;33m=\u001b[0m \u001b[1;34m'o'\u001b[0m\u001b[1;33m\u001b[0m\u001b[1;33m\u001b[0m\u001b[0m\n\u001b[0m",
      "\u001b[1;31mTypeError\u001b[0m: 'str' object does not support item assignment"
     ]
    }
   ],
   "source": [
    "minha_string = 'Olá'\n",
    "minha_string[0] = 'o'"
   ]
  },
  {
   "cell_type": "code",
   "execution_count": 38,
   "id": "dried-scheduling",
   "metadata": {},
   "outputs": [
    {
     "data": {
      "text/plain": [
       "(5, 4, 9)"
      ]
     },
     "execution_count": 38,
     "metadata": {},
     "output_type": "execute_result"
    }
   ],
   "source": [
    "tupla_resultados = (5, 4 , 9)\n",
    "tupla_resultados"
   ]
  },
  {
   "cell_type": "code",
   "execution_count": 46,
   "id": "frequent-motel",
   "metadata": {},
   "outputs": [
    {
     "data": {
      "text/plain": [
       "(1, 4, 9)"
      ]
     },
     "execution_count": 46,
     "metadata": {},
     "output_type": "execute_result"
    }
   ],
   "source": [
    "indice_mudanca = 0\n",
    "valor_mudanca = 1\n",
    "lista_auxiliar = []\n",
    "\n",
    "for indice in range(len(tupla_resultados)):\n",
    "#     print(f'indices: {indice}')\n",
    "    if(indice == indice_mudanca):\n",
    "#         print('Muda o valor!')\n",
    "        lista_auxiliar.append(valor_mudanca)\n",
    "    else:\n",
    "        lista_auxiliar.append(tupla_resultados[indice])\n",
    "        \n",
    "#     print(lista_auxiliar)\n",
    "tupla_resultados = tuple(lista_auxiliar)\n",
    "tupla_resultados"
   ]
  },
  {
   "cell_type": "code",
   "execution_count": 47,
   "id": "known-antenna",
   "metadata": {},
   "outputs": [
    {
     "data": {
      "text/plain": [
       "(1, 4, 9)"
      ]
     },
     "execution_count": 47,
     "metadata": {},
     "output_type": "execute_result"
    }
   ],
   "source": [
    "tupla_resultados"
   ]
  },
  {
   "cell_type": "code",
   "execution_count": 52,
   "id": "alleged-interval",
   "metadata": {},
   "outputs": [
    {
     "data": {
      "text/plain": [
       "(5, 4, 9)"
      ]
     },
     "execution_count": 52,
     "metadata": {},
     "output_type": "execute_result"
    }
   ],
   "source": [
    "tupla_resultados = list(tupla_resultados)\n",
    "tupla_resultados[0] = 5 \n",
    "tupla_resultados = tuple(tupla_resultados)\n",
    "tupla_resultados"
   ]
  },
  {
   "cell_type": "code",
   "execution_count": 62,
   "id": "homeless-suspect",
   "metadata": {},
   "outputs": [
    {
     "name": "stdout",
     "output_type": "stream",
     "text": [
      "potencia de 2: 9\n",
      "potencia de 3: 27\n"
     ]
    },
    {
     "data": {
      "text/plain": [
       "(9, 27)"
      ]
     },
     "execution_count": 62,
     "metadata": {},
     "output_type": "execute_result"
    }
   ],
   "source": [
    "def calcula_potencia_2_e_3(x):\n",
    "    potencia_2 = x**2\n",
    "    potencia_3 = x**3\n",
    "    return potencia_2, potencia_3\n",
    "\n",
    "potencia_2, potencia_3 = calcula_potencia_2_e_3(3)\n",
    "print(f'potencia de 2: {potencia_2}')\n",
    "print(f'potencia de 3: {potencia_3}')\n",
    "calcula_potencia_2_e_3(3)"
   ]
  },
  {
   "cell_type": "code",
   "execution_count": 63,
   "id": "mighty-miami",
   "metadata": {},
   "outputs": [
    {
     "name": "stdout",
     "output_type": "stream",
     "text": [
      "potencia de 2: 9\n",
      "potencia de 3: 27\n"
     ]
    },
    {
     "data": {
      "text/plain": [
       "(9, 27)"
      ]
     },
     "execution_count": 63,
     "metadata": {},
     "output_type": "execute_result"
    }
   ],
   "source": [
    "def calcula_potencia_2_e_3(x):\n",
    "    return x**2, x**3\n",
    "\n",
    "potencia_2, potencia_3 = calcula_potencia_2_e_3(3)\n",
    "print(f'potencia de 2: {potencia_2}')\n",
    "print(f'potencia de 3: {potencia_3}')\n",
    "calcula_potencia_2_e_3(3)"
   ]
  },
  {
   "cell_type": "code",
   "execution_count": 64,
   "id": "touched-buyer",
   "metadata": {},
   "outputs": [
    {
     "data": {
      "text/plain": [
       "(5, 4, 9)"
      ]
     },
     "execution_count": 64,
     "metadata": {},
     "output_type": "execute_result"
    }
   ],
   "source": [
    "tupla_resultados"
   ]
  },
  {
   "cell_type": "code",
   "execution_count": 66,
   "id": "biological-gnome",
   "metadata": {},
   "outputs": [
    {
     "data": {
      "text/plain": [
       "False"
      ]
     },
     "execution_count": 66,
     "metadata": {},
     "output_type": "execute_result"
    }
   ],
   "source": [
    "6 in tupla_resultados"
   ]
  },
  {
   "cell_type": "code",
   "execution_count": 69,
   "id": "indian-mailing",
   "metadata": {},
   "outputs": [
    {
     "data": {
      "text/plain": [
       "18"
      ]
     },
     "execution_count": 69,
     "metadata": {},
     "output_type": "execute_result"
    }
   ],
   "source": [
    "sum(tupla_resultados)"
   ]
  },
  {
   "cell_type": "markdown",
   "id": "dutch-summary",
   "metadata": {},
   "source": [
    "----"
   ]
  },
  {
   "cell_type": "markdown",
   "id": "boring-company",
   "metadata": {},
   "source": [
    "### Dicionário"
   ]
  },
  {
   "cell_type": "markdown",
   "id": "bulgarian-pierre",
   "metadata": {},
   "source": [
    "Exemplo:\n",
    "\n",
    "| nome    | medias |\n",
    "|---------|--------|\n",
    "| Ana     | 1      |\n",
    "| Carlos  | 10     |\n",
    "| Juliana | 10     |\n",
    "| Pedro   | 0      |\n",
    "| Renato  | 8      |\n",
    "| Silvia  | 9      |"
   ]
  },
  {
   "cell_type": "code",
   "execution_count": 70,
   "id": "posted-module",
   "metadata": {},
   "outputs": [],
   "source": [
    "# lista_nomes = ['Ana', ... ]\n",
    "# lista_medias = [1, ... ]"
   ]
  },
  {
   "cell_type": "code",
   "execution_count": 74,
   "id": "absolute-average",
   "metadata": {},
   "outputs": [],
   "source": [
    "dicionario_medias = {\n",
    "    'Ana': 1,\n",
    "    'Carlos': 10,\n",
    "    'Juliana': 10,\n",
    "    'Pedro': 0,\n",
    "    'Renato': 8,\n",
    "    'Silvia': 9\n",
    "}"
   ]
  },
  {
   "cell_type": "code",
   "execution_count": 75,
   "id": "prepared-postage",
   "metadata": {},
   "outputs": [
    {
     "data": {
      "text/plain": [
       "{'Ana': 1, 'Carlos': 10, 'Juliana': 10, 'Pedro': 0, 'Renato': 8, 'Silvia': 9}"
      ]
     },
     "execution_count": 75,
     "metadata": {},
     "output_type": "execute_result"
    }
   ],
   "source": [
    "dicionario_medias"
   ]
  },
  {
   "cell_type": "code",
   "execution_count": 76,
   "id": "taken-mexican",
   "metadata": {},
   "outputs": [
    {
     "data": {
      "text/plain": [
       "{}"
      ]
     },
     "execution_count": 76,
     "metadata": {},
     "output_type": "execute_result"
    }
   ],
   "source": [
    "dicionario_medias = {}\n",
    "dicionario_medias"
   ]
  },
  {
   "cell_type": "code",
   "execution_count": 78,
   "id": "empty-charge",
   "metadata": {},
   "outputs": [
    {
     "data": {
      "text/plain": [
       "{}"
      ]
     },
     "execution_count": 78,
     "metadata": {},
     "output_type": "execute_result"
    }
   ],
   "source": [
    "dicionario_medias = dict()\n",
    "dicionario_medias"
   ]
  },
  {
   "cell_type": "code",
   "execution_count": 84,
   "id": "serial-jacksonville",
   "metadata": {},
   "outputs": [
    {
     "data": {
      "text/plain": [
       "{'Ana': 1, 'Carlos': 10, 'Juliana': 10, 'Pedro': 0, 'Renato': 8, 'Silvia': 9}"
      ]
     },
     "execution_count": 84,
     "metadata": {},
     "output_type": "execute_result"
    }
   ],
   "source": [
    "dicionario_medias['Ana'] = 1\n",
    "dicionario_medias['Carlos'] = 10\n",
    "dicionario_medias['Juliana'] = 10\n",
    "dicionario_medias['Pedro'] = 0\n",
    "dicionario_medias['Renato'] = 8\n",
    "dicionario_medias['Silvia'] = 9\n",
    "dicionario_medias"
   ]
  },
  {
   "cell_type": "code",
   "execution_count": 86,
   "id": "respected-validity",
   "metadata": {},
   "outputs": [
    {
     "data": {
      "text/plain": [
       "9"
      ]
     },
     "execution_count": 86,
     "metadata": {},
     "output_type": "execute_result"
    }
   ],
   "source": [
    "dicionario_medias['Silvia']"
   ]
  },
  {
   "cell_type": "code",
   "execution_count": 88,
   "id": "cloudy-postage",
   "metadata": {},
   "outputs": [
    {
     "data": {
      "text/plain": [
       "{'Ana': 1,\n",
       " 'Carlos': 10,\n",
       " 'Juliana': 10,\n",
       " 'Pedro': 0,\n",
       " 'Renato': 8,\n",
       " 'Silvia': 9,\n",
       " 'Luis': 4}"
      ]
     },
     "execution_count": 88,
     "metadata": {},
     "output_type": "execute_result"
    }
   ],
   "source": [
    "dicionario_medias['Luis'] = 4\n",
    "dicionario_medias"
   ]
  },
  {
   "cell_type": "code",
   "execution_count": 90,
   "id": "personalized-contrast",
   "metadata": {},
   "outputs": [
    {
     "data": {
      "text/plain": [
       "{'Ana': 1,\n",
       " 'Carlos': 10,\n",
       " 'Juliana': 10,\n",
       " 'Pedro': 0,\n",
       " 'Renato': 8,\n",
       " 'Silvia': 9,\n",
       " 'Luis': 5}"
      ]
     },
     "execution_count": 90,
     "metadata": {},
     "output_type": "execute_result"
    }
   ],
   "source": [
    "dicionario_medias['Luis'] = 5\n",
    "dicionario_medias"
   ]
  },
  {
   "cell_type": "code",
   "execution_count": 96,
   "id": "unusual-effort",
   "metadata": {},
   "outputs": [
    {
     "data": {
      "text/plain": [
       "{'Ana': [2, [1, 2]],\n",
       " 'Carlos': [10, 10],\n",
       " 'Juliana': [10, 10],\n",
       " 'Pedro': [0, 0],\n",
       " 'Renato': [10, 6],\n",
       " 'Silvia': [8, 10]}"
      ]
     },
     "execution_count": 96,
     "metadata": {},
     "output_type": "execute_result"
    }
   ],
   "source": [
    "dicionario_notas = {\n",
    "    'Ana': [2, [1, 2]],\n",
    "    'Carlos': [10, 10],\n",
    "    'Juliana': [10, 10],\n",
    "    'Pedro': [0, 0],\n",
    "    'Renato': [10, 6],\n",
    "    'Silvia': [8, 10]\n",
    "}\n",
    "dicionario_notas"
   ]
  },
  {
   "cell_type": "code",
   "execution_count": 103,
   "id": "hairy-afghanistan",
   "metadata": {},
   "outputs": [
    {
     "data": {
      "text/plain": [
       "{'Ana': [2, [1000, 2]],\n",
       " 'Carlos': [10, 10],\n",
       " 'Juliana': [10, 10],\n",
       " 'Pedro': [0, 0],\n",
       " 'Renato': [10, 6],\n",
       " 'Silvia': [8, 10]}"
      ]
     },
     "execution_count": 103,
     "metadata": {},
     "output_type": "execute_result"
    }
   ],
   "source": [
    "dicionario_notas['Ana'][1][0] = 1000\n",
    "dicionario_notas"
   ]
  },
  {
   "cell_type": "code",
   "execution_count": 101,
   "id": "flexible-aquarium",
   "metadata": {},
   "outputs": [
    {
     "data": {
      "text/plain": [
       "int"
      ]
     },
     "execution_count": 101,
     "metadata": {},
     "output_type": "execute_result"
    }
   ],
   "source": [
    "type(dicionario_notas['Ana'][1][0])"
   ]
  },
  {
   "cell_type": "code",
   "execution_count": 94,
   "id": "expected-patrick",
   "metadata": {},
   "outputs": [
    {
     "data": {
      "text/plain": [
       "{'Ana': [2, 10],\n",
       " 'Carlos': [10, 10],\n",
       " 'Juliana': [10, 10],\n",
       " 'Pedro': [0, 0],\n",
       " 'Renato': [10, 6],\n",
       " 'Silvia': [8, 10]}"
      ]
     },
     "execution_count": 94,
     "metadata": {},
     "output_type": "execute_result"
    }
   ],
   "source": [
    "dicionario_notas['Ana'][1] = 10\n",
    "#  dicionario_notas['Ana'] -> lista\n",
    "dicionario_notas"
   ]
  },
  {
   "cell_type": "code",
   "execution_count": 105,
   "id": "blond-vancouver",
   "metadata": {},
   "outputs": [
    {
     "data": {
      "text/plain": [
       "{'string': '',\n",
       " 'int': 10,\n",
       " 'float': 7.2,\n",
       " 'bool': True,\n",
       " 'tupla': (),\n",
       " 'lista': [],\n",
       " 'dict': {}}"
      ]
     },
     "execution_count": 105,
     "metadata": {},
     "output_type": "execute_result"
    }
   ],
   "source": [
    "dicionarios_multi_valor = {\n",
    "    'string': '',\n",
    "    'int': 10,\n",
    "    'float': 7.2,\n",
    "    'bool': True,\n",
    "    'tupla': (),\n",
    "    'lista': [],\n",
    "    'dict': {}\n",
    "}\n",
    "dicionarios_multi_valor"
   ]
  },
  {
   "cell_type": "code",
   "execution_count": 107,
   "id": "systematic-mobile",
   "metadata": {},
   "outputs": [
    {
     "data": {
      "text/plain": [
       "{'Ana': [2, 0],\n",
       " 'Carlos': [10, 10],\n",
       " 'Juliana': [10, 10],\n",
       " 'Pedro': [0, 0],\n",
       " 'Renato': [10, 6],\n",
       " 'Silvia': [8, 10]}"
      ]
     },
     "execution_count": 107,
     "metadata": {},
     "output_type": "execute_result"
    }
   ],
   "source": [
    "dicionario_notas = {\n",
    "    'Ana': [2, 0],\n",
    "    'Carlos': [10, 10],\n",
    "    'Juliana': [10, 10],\n",
    "    'Pedro': [0, 0],\n",
    "    'Renato': [10, 6],\n",
    "    'Silvia': [8, 10]\n",
    "}\n",
    "dicionario_notas"
   ]
  },
  {
   "cell_type": "code",
   "execution_count": 108,
   "id": "finished-coating",
   "metadata": {},
   "outputs": [
    {
     "data": {
      "text/plain": [
       "{'Carlos': [10, 10],\n",
       " 'Juliana': [10, 10],\n",
       " 'Pedro': [0, 0],\n",
       " 'Renato': [10, 6],\n",
       " 'Silvia': [8, 10]}"
      ]
     },
     "execution_count": 108,
     "metadata": {},
     "output_type": "execute_result"
    }
   ],
   "source": [
    "dicionario_notas.pop('Ana')\n",
    "dicionario_notas"
   ]
  },
  {
   "cell_type": "code",
   "execution_count": 109,
   "id": "tamil-robinson",
   "metadata": {},
   "outputs": [
    {
     "data": {
      "text/plain": [
       "{'Carlos': [10, 10], 'Juliana': [10, 10], 'Pedro': [0, 0], 'Renato': [10, 6]}"
      ]
     },
     "execution_count": 109,
     "metadata": {},
     "output_type": "execute_result"
    }
   ],
   "source": [
    "del dicionario_notas['Silvia']\n",
    "dicionario_notas"
   ]
  },
  {
   "cell_type": "code",
   "execution_count": 112,
   "id": "wound-preserve",
   "metadata": {},
   "outputs": [
    {
     "data": {
      "text/plain": [
       "['Carlos', 'Juliana', 'Pedro', 'Renato']"
      ]
     },
     "execution_count": 112,
     "metadata": {},
     "output_type": "execute_result"
    }
   ],
   "source": [
    "chaves = list(dicionario_notas.keys())\n",
    "chaves"
   ]
  },
  {
   "cell_type": "code",
   "execution_count": 114,
   "id": "historical-manor",
   "metadata": {},
   "outputs": [
    {
     "data": {
      "text/plain": [
       "[[10, 10], [10, 10], [0, 0], [10, 6]]"
      ]
     },
     "execution_count": 114,
     "metadata": {},
     "output_type": "execute_result"
    }
   ],
   "source": [
    "valores = list(dicionario_notas.values())\n",
    "valores"
   ]
  },
  {
   "cell_type": "code",
   "execution_count": 124,
   "id": "speaking-modification",
   "metadata": {},
   "outputs": [
    {
     "name": "stdout",
     "output_type": "stream",
     "text": [
      "{chave}  ---> {dicionario_notas[chave]}\n",
      "{chave}  ---> {dicionario_notas[chave]}\n",
      "{chave}  ---> {dicionario_notas[chave]}\n",
      "{chave}  ---> {dicionario_notas[chave]}\n",
      "{chave}  ---> {dicionario_notas[chave]}\n"
     ]
    }
   ],
   "source": [
    "for chave in dicionario_notas:\n",
    "    print(f'{chave}  ---> {dicionario_notas[chave]}')\n",
    "#     print('{}  ---> {}'.format(chave, dicionario_notas[chave]))"
   ]
  },
  {
   "cell_type": "code",
   "execution_count": 117,
   "id": "detected-baker",
   "metadata": {},
   "outputs": [
    {
     "data": {
      "text/plain": [
       "{'Carlos': [10, 10], 'Juliana': [10, 10], 'Pedro': [0, 0], 'Renato': [10, 6]}"
      ]
     },
     "execution_count": 117,
     "metadata": {},
     "output_type": "execute_result"
    }
   ],
   "source": [
    "dicionario_notas"
   ]
  },
  {
   "cell_type": "code",
   "execution_count": 119,
   "id": "daily-insured",
   "metadata": {},
   "outputs": [
    {
     "data": {
      "text/plain": [
       "False"
      ]
     },
     "execution_count": 119,
     "metadata": {},
     "output_type": "execute_result"
    }
   ],
   "source": [
    "'Luis' in dicionario_notas"
   ]
  },
  {
   "cell_type": "code",
   "execution_count": 125,
   "id": "smoking-opening",
   "metadata": {},
   "outputs": [],
   "source": [
    "dicionario_notas[0] = [1, 2]\n",
    "dicionario_notas[1] = [1, 2]"
   ]
  },
  {
   "cell_type": "code",
   "execution_count": 126,
   "id": "latest-renewal",
   "metadata": {},
   "outputs": [
    {
     "data": {
      "text/plain": [
       "{'Carlos': [10, 10],\n",
       " 'Juliana': [10, 10],\n",
       " 'Pedro': [0, 0],\n",
       " 'Renato': [10, 6],\n",
       " 0: [1, 2],\n",
       " 1: [1, 2]}"
      ]
     },
     "execution_count": 126,
     "metadata": {},
     "output_type": "execute_result"
    }
   ],
   "source": [
    "dicionario_notas"
   ]
  }
 ],
 "metadata": {
  "kernelspec": {
   "display_name": "Python 3",
   "language": "python",
   "name": "python3"
  },
  "language_info": {
   "codemirror_mode": {
    "name": "ipython",
    "version": 3
   },
   "file_extension": ".py",
   "mimetype": "text/x-python",
   "name": "python",
   "nbconvert_exporter": "python",
   "pygments_lexer": "ipython3",
   "version": "3.8.7"
  }
 },
 "nbformat": 4,
 "nbformat_minor": 5
}
