{
 "cells": [
  {
   "cell_type": "code",
   "execution_count": 7,
   "metadata": {},
   "outputs": [
    {
     "name": "stdout",
     "output_type": "stream",
     "text": [
      "o\n",
      "l\n",
      "á\n",
      " \n",
      "m\n",
      "-----\n",
      "o\n",
      "l\n",
      "á\n",
      " \n",
      "m\n",
      "u\n",
      "n\n",
      "d\n",
      "o\n"
     ]
    },
    {
     "ename": "AttributeError",
     "evalue": "'str' object has no attribute 'append'",
     "output_type": "error",
     "traceback": [
      "\u001b[1;31m---------------------------------------------------------------------------\u001b[0m",
      "\u001b[1;31mAttributeError\u001b[0m                            Traceback (most recent call last)",
      "\u001b[1;32m<ipython-input-7-b2b4ebd33a9a>\u001b[0m in \u001b[0;36m<module>\u001b[1;34m\u001b[0m\n\u001b[0;32m     16\u001b[0m \u001b[1;31m# string é mutável?\u001b[0m\u001b[1;33m\u001b[0m\u001b[1;33m\u001b[0m\u001b[1;33m\u001b[0m\u001b[0m\n\u001b[0;32m     17\u001b[0m \u001b[1;31m#frase[0] = 'O' # não funciona!\u001b[0m\u001b[1;33m\u001b[0m\u001b[1;33m\u001b[0m\u001b[1;33m\u001b[0m\u001b[0m\n\u001b[1;32m---> 18\u001b[1;33m \u001b[0mfrase\u001b[0m\u001b[1;33m.\u001b[0m\u001b[0mappend\u001b[0m\u001b[1;33m(\u001b[0m\u001b[1;34m'!'\u001b[0m\u001b[1;33m)\u001b[0m\u001b[1;33m\u001b[0m\u001b[1;33m\u001b[0m\u001b[0m\n\u001b[0m\u001b[0;32m     19\u001b[0m \u001b[1;33m\u001b[0m\u001b[0m\n\u001b[0;32m     20\u001b[0m \u001b[0mprint\u001b[0m\u001b[1;33m(\u001b[0m\u001b[0mfrase\u001b[0m\u001b[1;33m)\u001b[0m\u001b[1;33m\u001b[0m\u001b[1;33m\u001b[0m\u001b[0m\n",
      "\u001b[1;31mAttributeError\u001b[0m: 'str' object has no attribute 'append'"
     ]
    }
   ],
   "source": [
    "frase = 'olá mundo'\n",
    "\n",
    "# string é indexada!\n",
    "print(frase[0])\n",
    "print(frase[1])\n",
    "print(frase[2])\n",
    "print(frase[3])\n",
    "print(frase[4])\n",
    "\n",
    "print('-----')\n",
    "\n",
    "# string é iterável!\n",
    "for letra in frase:\n",
    "    print(letra)\n",
    "    \n",
    "# string NÃO é mutável\n",
    "#frase[0] = 'O' # não funciona!\n",
    "#frase.append('!')\n",
    "\n",
    "print(frase)"
   ]
  },
  {
   "cell_type": "code",
   "execution_count": 10,
   "metadata": {},
   "outputs": [
    {
     "name": "stdout",
     "output_type": "stream",
     "text": [
      "OláMundo\n",
      "OláOláOláOláOlá\n",
      "OláMundo!\n"
     ]
    }
   ],
   "source": [
    "palavra1 = 'Olá'\n",
    "palavra2 = 'Mundo'\n",
    "\n",
    "# sinal + signifca concatenação\n",
    "frase = palavra1 + palavra2\n",
    "print(frase)\n",
    "\n",
    "# produto * (entre str e int)\n",
    "multiplicacao = palavra1 * 5\n",
    "print(multiplicacao)\n",
    "\n",
    "frase = frase + '!'\n",
    "print(frase)"
   ]
  },
  {
   "cell_type": "code",
   "execution_count": 18,
   "metadata": {},
   "outputs": [
    {
     "name": "stdout",
     "output_type": "stream",
     "text": [
      "['o', 'l', 'á', ' ', 'm', 'u', 'n', 'd', 'o']\n",
      "['O', 'l', 'á', ' ', 'm', 'u', 'n', 'd', 'o', '!']\n",
      "[\n",
      "'\n",
      "O\n",
      "'\n",
      ",\n",
      "Olá mundo!\n",
      "Olá mundo!\n"
     ]
    }
   ],
   "source": [
    "frase = 'olá mundo'\n",
    "lista = list(frase)\n",
    "print(lista)\n",
    "\n",
    "lista[0] = 'O'\n",
    "lista.append('!')\n",
    "print(lista)\n",
    "\n",
    "fraseAlterada = str(lista) # não funciona como a gente gostaria :(\n",
    "print(fraseAlterada[0])\n",
    "print(fraseAlterada[1])\n",
    "print(fraseAlterada[2])\n",
    "print(fraseAlterada[3])\n",
    "print(fraseAlterada[4])\n",
    "\n",
    "# convertendo lista de volta pra string: 2 estratégias\n",
    "\n",
    "# estratégia número 1: soma cumulativa!\n",
    "fraseNova = ''\n",
    "for elemento in lista:\n",
    "    fraseNova = fraseNova + elemento\n",
    "print(fraseNova)\n",
    "\n",
    "\n",
    "# estratégia número 2: função join!\n",
    "fraseNovaJoin = ''.join(lista)\n",
    "print(fraseNovaJoin)"
   ]
  },
  {
   "cell_type": "code",
   "execution_count": 22,
   "metadata": {},
   "outputs": [
    {
     "name": "stdout",
     "output_type": "stream",
     "text": [
      "Olá\n",
      "mundo\n",
      "Olá\tmundo\n",
      "O comando \\n representa quebra de linha em uma string\n"
     ]
    }
   ],
   "source": [
    "# caracteres de controle\n",
    "notepad++\n",
    "# quebra de linha: \\n\n",
    "print('Olá\\nmundo')\n",
    "\n",
    "# tabulação: \\t\n",
    "print('Olá\\tmundo')\n",
    "\n",
    "# representar barra (\\) como caractere na string (e não como comando): \\\\\n",
    "print('O comando \\\\n representa quebra de linha em uma string')"
   ]
  },
  {
   "cell_type": "code",
   "execution_count": 17,
   "metadata": {},
   "outputs": [
    {
     "name": "stdout",
     "output_type": "stream",
     "text": [
      "xABCyABCz\n",
      "xyz\n"
     ]
    }
   ],
   "source": [
    "# métodos de string: join\n",
    "\n",
    "string = 'ABC'\n",
    "lista = ['x', 'y', 'z']\n",
    "\n",
    "resultado = string.join(lista)\n",
    "print(resultado)\n",
    "\n",
    "resultado2 = ''.join(lista)\n",
    "print(resultado2)\n"
   ]
  },
  {
   "cell_type": "code",
   "execution_count": 1,
   "metadata": {},
   "outputs": [
    {
     "name": "stdout",
     "output_type": "stream",
     "text": [
      "aUlA dE pYtHoN\n",
      "AULA DE PYTHON\n",
      "aula de python\n",
      "Aula De Python\n",
      "Aula de python\n",
      "Você trabalhava pra vítima? SIM\n",
      "culpado\n"
     ]
    }
   ],
   "source": [
    "# métodos de padronização\n",
    "\n",
    "frase = 'aUlA dE pYtHoN'\n",
    "\n",
    "maiuscula = frase.upper()\n",
    "minuscula = frase.lower()\n",
    "nomeproprio = frase.title()\n",
    "primeiraletra = frase.capitalize()\n",
    "print(frase)\n",
    "print(maiuscula)\n",
    "print(minuscula)\n",
    "print(nomeproprio)\n",
    "print(primeiraletra)\n",
    "\n",
    "# exemplo: padronizando o input do usuário:\n",
    "\n",
    "resposta = input('Você trabalhava pra vítima? ')\n",
    "\n",
    "if resposta.lower() == 'sim':\n",
    "    print('culpado')\n",
    "else:\n",
    "    print('inocente')"
   ]
  },
  {
   "cell_type": "code",
   "execution_count": 4,
   "metadata": {},
   "outputs": [
    {
     "name": "stdout",
     "output_type": "stream",
     "text": [
      "['18', '06', '2021']\n",
      "['olá', 'mundo!']\n",
      "Digite um horário (HH:MM:SS): 20:05:20\n",
      "20 horas, 5 minutos e 20 segundos\n"
     ]
    }
   ],
   "source": [
    "# método de separação de string\n",
    "data = '18/06/2021'\n",
    "\n",
    "dataQuebrada = data.split('/')\n",
    "print(dataQuebrada)\n",
    "\n",
    "fraseMaisFamosa = 'olá mundo!'\n",
    "fraseQuebrada = fraseMaisFamosa.split()\n",
    "print(fraseQuebrada)\n",
    "\n",
    "# exemplo: entrada de múltiplos dados ou dados formatados\n",
    "horario = input('Digite um horário (HH:MM:SS): ')\n",
    "listaHorario = horario.split(':')\n",
    "hora = int(listaHorario[0])\n",
    "minuto = int(listaHorario[1])\n",
    "segundo = int(listaHorario[2])\n",
    "print(hora, 'horas,', minuto, 'minutos e', segundo, 'segundos')"
   ]
  },
  {
   "cell_type": "code",
   "execution_count": 6,
   "metadata": {},
   "outputs": [
    {
     "name": "stdout",
     "output_type": "stream",
     "text": [
      "Eles se matricularam, mas eles não foram à aula\n",
      "Elas se matricularam, mas elas não foram à aula\n"
     ]
    }
   ],
   "source": [
    "# método de substituição\n",
    "masculina = 'Eles se matricularam, mas eles não foram à aula'\n",
    "feminina = masculina.replace('les', 'las')\n",
    "print(masculina)\n",
    "print(feminina)"
   ]
  },
  {
   "cell_type": "code",
   "execution_count": 13,
   "metadata": {},
   "outputs": [
    {
     "name": "stdout",
     "output_type": "stream",
     "text": [
      "Hoje é dia 18/06/2021, dia de programar!\n",
      "Total a pagar: R$ 171.87\n"
     ]
    }
   ],
   "source": [
    "# método de formatação\n",
    "\n",
    "# O contratante, _______________________, portador do RG ________________, nascido no dia __/__/_____...\n",
    "\n",
    "mascara = 'Hoje é dia {:02d}/{:02d}/{:04d}, dia de programar!'\n",
    "dia = 18\n",
    "mes = 6\n",
    "ano = 2021\n",
    "texto = mascara.format(dia, mes, ano)\n",
    "print(texto)\n",
    "\n",
    "\n",
    "gasolina = 5.678\n",
    "litros = 30.27\n",
    "preco = gasolina*litros\n",
    "mascara = 'Total a pagar: R$ {:.2f}'\n",
    "mensagem = mascara.format(preco)\n",
    "print(mensagem)\n",
    "\n",
    "# https://pyformat.info/"
   ]
  },
  {
   "cell_type": "code",
   "execution_count": 14,
   "metadata": {},
   "outputs": [
    {
     "name": "stdout",
     "output_type": "stream",
     "text": [
      "Digite uma palavra :abacate\n",
      "AbAcAtE\n"
     ]
    }
   ],
   "source": [
    "palavra = input('Digite uma palavra :')\n",
    "lista = list(palavra)\n",
    "resultado = ''\n",
    "conta = 2\n",
    "# processa\n",
    "\n",
    "for i in lista:\n",
    "    if conta%2 == 0:\n",
    "        conta += 1\n",
    "        resultado += i.upper()\n",
    "    else:\n",
    "        conta += 1\n",
    "        resultado += i\n",
    "# resultado    \n",
    "print(resultado)\n"
   ]
  },
  {
   "cell_type": "code",
   "execution_count": 16,
   "metadata": {},
   "outputs": [
    {
     "name": "stdout",
     "output_type": "stream",
     "text": [
      "False\n"
     ]
    }
   ],
   "source": [
    "def find_word(t, s):\n",
    "    s = list(s)\n",
    "    t = list(t)\n",
    "    \n",
    "    i = 0\n",
    "    j = 0\n",
    "    while i < len(t):\n",
    "        if i < len(s)+1:\n",
    "            if t[i] == s[j]:\n",
    "                j += 1\n",
    "            else:\n",
    "                if j < len(s):\n",
    "                    j = 0\n",
    "        i += 1\n",
    "    if j == len(s):\n",
    "        return(True)\n",
    "    else:\n",
    "        return(False)\n",
    "\n",
    "print(find_word('batata', 'eu quero comer batata frita'))"
   ]
  },
  {
   "cell_type": "code",
   "execution_count": null,
   "metadata": {},
   "outputs": [],
   "source": []
  }
 ],
 "metadata": {
  "kernelspec": {
   "display_name": "Python 3 (ipykernel)",
   "language": "python",
   "name": "python3"
  },
  "language_info": {
   "codemirror_mode": {
    "name": "ipython",
    "version": 3
   },
   "file_extension": ".py",
   "mimetype": "text/x-python",
   "name": "python",
   "nbconvert_exporter": "python",
   "pygments_lexer": "ipython3",
   "version": "3.9.6"
  }
 },
 "nbformat": 4,
 "nbformat_minor": 4
}
