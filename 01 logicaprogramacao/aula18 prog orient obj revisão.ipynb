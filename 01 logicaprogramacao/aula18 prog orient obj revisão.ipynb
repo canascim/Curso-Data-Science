{
 "cells": [
  {
   "cell_type": "markdown",
   "metadata": {},
   "source": [
    "# Revisão - Programação Orientada a Objetos"
   ]
  },
  {
   "cell_type": "markdown",
   "metadata": {},
   "source": [
    "Modelagem - a forma de representar objetos do mundo real em código\n",
    "\"Design Patterns\" (padrões de projeto, padrões de design)\n",
    "\n",
    "4 princípios:\n",
    "* **Encapsulamento**: cada objeto é responsável pelo seu próprio estado (objetos externos não devem alterar seus atributos).\n",
    "Podemos reforçar o princípio do encapsulamento através de atributos **privados** e métodos get/set **públicos**.\n",
    "* **Abstração**: a complexidade de uma classe é \"escondida\" por trás de uma interface (métodos) simples de ser utilizada. Podemos utilizar métodos mágicos, por exemplo, para tornar o uso dos objetos mais intuitivo.\n",
    "* **Herança**: uma classe pode \"passar\" métodos e atributos para classes \"filhas\" ou classes \"herdeiras\".\n",
    "* **Polimorfismo**: \"if it walks like a duck and it quacks like a duck, it's a duck\".\n",
    "\n",
    "Ferramentas básicas:\n",
    "* **Classe**: \"molde\" ou \"template\" para criar objetos. Define os comportamentos esperados do objeto (métodos) e informações que os objetos precisam ter (atributos).\n",
    "* **Objeto**: \"uma instância de uma classe\", um caso \"real\" ou \"concreto\" da classe.\n",
    "* **Atributo**: informações particulares do objeto, \"estado\" de um objeto. Representados por variáveis internas do objeto. Em Python, são tipicamente criados no método construtor (```__init__```), ou seja, são criados no momento da criação do objeto.\n",
    "* **Métodos**: ações que um objeto consegue realizar. São representados por funções. Geralmente possuem um \"self\", ou seja, uma auto-referência para acessar os atributos do objeto executando a ação. \n",
    "\n",
    "Classes e objetos em Python:\n",
    "* Privacidade de atributos: ```self.publico``` (qualquer um pode acessar/modificar o atributo), ```self._protegido``` (apenas objetos de classes herdeiras podem interagir com o atributo), ```self.__privado```(apenas a própria classe pode interagir com o atributo).\n",
    "* Métodos mágicos: Métodos \"padrão\" que redefinem o comportamento de funções ou operadores prontos do Python para a nossa nova classe, como ```__repr__``` (redefine o print), ```__add__``` (operador +), ```__ne__``` (operador !=), ```__init__``` (método construtor - criação de objetos) etc.\n",
    "* super(): é um método especial que retorna um objeto temporário da classe mãe, fornecendo acesso aos métodos dela. Assim, dentro de um método da classe filha, podemos acessar o método da classe mãe.\n",
    "\n",
    "```fracao1 + fracao2``` equivale a ```fracao1.__add__(fracao2)```\n",
    "```fracao1 != fracao2``` equivale a ```fracao1.__ne__(fracao)```\n",
    "\n",
    "```\n",
    "float(input('Digite um número'))\n",
    "float('-3.14')\n",
    "float(10)\n",
    "\n",
    "idade = Fracao(10, 3) \n",
    "frase = 'A idade do meu filho é'\n",
    "\n",
    "frase + str(idade)\n",
    "\n",
    "__str__\n",
    "\n",
    "```"
   ]
  },
  {
   "cell_type": "code",
   "execution_count": 1,
   "metadata": {},
   "outputs": [
    {
     "data": {
      "text/plain": [
       "str"
      ]
     },
     "execution_count": 1,
     "metadata": {},
     "output_type": "execute_result"
    }
   ],
   "source": [
    "type(\"olá mundo\")"
   ]
  },
  {
   "cell_type": "code",
   "execution_count": 2,
   "metadata": {},
   "outputs": [
    {
     "name": "stdout",
     "output_type": "stream",
     "text": [
      "oláoláolá\n"
     ]
    }
   ],
   "source": [
    "print('olá'*3)"
   ]
  },
  {
   "cell_type": "code",
   "execution_count": 3,
   "metadata": {},
   "outputs": [
    {
     "name": "stdout",
     "output_type": "stream",
     "text": [
      "oláoláolá\n"
     ]
    }
   ],
   "source": [
    "print(3*'olá')"
   ]
  },
  {
   "cell_type": "markdown",
   "metadata": {},
   "source": [
    "# Métodos e atributos estáticos\n",
    "\n",
    "* Atributo estático: uma variável interna **da classe** (e não dos objetos daquela classe)."
   ]
  },
  {
   "cell_type": "code",
   "execution_count": 11,
   "metadata": {},
   "outputs": [
    {
     "name": "stdout",
     "output_type": "stream",
     "text": [
      "Contagem pop.: 0\n",
      "Nome: Maria\n",
      "RG: 1\n",
      "Nome: José\n",
      "RG: 2\n",
      "Contagem pop.: 2\n"
     ]
    }
   ],
   "source": [
    "class Brasileiro:\n",
    "    \n",
    "    # Atributos estáticos: variáveis \"da classe\", e não \"dos objetos\". Podem ser vistos como informações \"coletivas\" da clsase\n",
    "    contadorPopulacional = 0\n",
    "    populacao = []    \n",
    "    \n",
    "    def __init__(self, nome):\n",
    "        self.nome = nome\n",
    "        \n",
    "        # Criamos um brasileiro novo? \n",
    "        # 1) incrementa a população da classe:\n",
    "        Brasileiro.contadorPopulacional += 1 # Brasileiro.contadorPopulacional = Brasileiro.contadorPopulacional + 1\n",
    "        # 2) registra o brasileiro na lista de população:\n",
    "        Brasileiro.populacao.append(self)\n",
    "        \n",
    "        self.identificacao = Brasileiro.contadorPopulacional\n",
    "        \n",
    "    def __repr__(self):\n",
    "        return 'Nome: ' + self.nome + '\\nRG: ' + str(self.identificacao)\n",
    "    \n",
    "    # Método estático: um método que não depende de um objeto em particular, usa informações da classe\n",
    "    @staticmethod\n",
    "    def visualizaPopulacao():\n",
    "        print('Todos os brasileiros já registrados:')\n",
    "        for b in Brasileiro.populacao:\n",
    "            print(b)\n",
    "        \n",
    "        \n",
    "print('Contagem pop.:', Brasileiro.contadorPopulacional) # notem que estamos acessando o atributo sem nem ter objeto criado!\n",
    "\n",
    "b1 = Brasileiro('Maria')\n",
    "b2 = Brasileiro('José')\n",
    "\n",
    "print(b1)\n",
    "print(b2)\n",
    "\n",
    "print('Contagem pop.:', Brasileiro.contadorPopulacional)"
   ]
  },
  {
   "cell_type": "code",
   "execution_count": 12,
   "metadata": {},
   "outputs": [
    {
     "name": "stdout",
     "output_type": "stream",
     "text": [
      "Nome: Maria\n",
      "RG: 1\n",
      "Nome: José\n",
      "RG: 2\n",
      "Nome: Anonimo\n",
      "RG: 3\n",
      "Nome: Anonimo\n",
      "RG: 4\n",
      "Nome: Anonimo\n",
      "RG: 5\n",
      "Nome: Anonimo\n",
      "RG: 6\n",
      "Nome: Anonimo\n",
      "RG: 7\n",
      "Nome: Anonimo\n",
      "RG: 8\n",
      "Nome: Anonimo\n",
      "RG: 9\n",
      "Nome: Anonimo\n",
      "RG: 10\n",
      "Nome: Anonimo\n",
      "RG: 11\n",
      "Nome: Anonimo\n",
      "RG: 12\n"
     ]
    }
   ],
   "source": [
    "for x in range(10):\n",
    "    Brasileiro('Anonimo') # criando 10 brasileiros qualquer\n",
    "    \n",
    "# Onde vou encontrar os meus brasileiros? Na lista estática da própria classe:\n",
    "\n",
    "for b in Brasileiro.populacao:\n",
    "    print(b)"
   ]
  },
  {
   "cell_type": "code",
   "execution_count": 13,
   "metadata": {},
   "outputs": [
    {
     "name": "stdout",
     "output_type": "stream",
     "text": [
      "Todos os brasileiros já registrados:\n",
      "Nome: Maria\n",
      "RG: 1\n",
      "Nome: José\n",
      "RG: 2\n",
      "Nome: Anonimo\n",
      "RG: 3\n",
      "Nome: Anonimo\n",
      "RG: 4\n",
      "Nome: Anonimo\n",
      "RG: 5\n",
      "Nome: Anonimo\n",
      "RG: 6\n",
      "Nome: Anonimo\n",
      "RG: 7\n",
      "Nome: Anonimo\n",
      "RG: 8\n",
      "Nome: Anonimo\n",
      "RG: 9\n",
      "Nome: Anonimo\n",
      "RG: 10\n",
      "Nome: Anonimo\n",
      "RG: 11\n",
      "Nome: Anonimo\n",
      "RG: 12\n"
     ]
    }
   ],
   "source": [
    "# usando o método estático:\n",
    "Brasileiro.visualizaPopulacao()"
   ]
  },
  {
   "cell_type": "code",
   "execution_count": 15,
   "metadata": {},
   "outputs": [
    {
     "name": "stdout",
     "output_type": "stream",
     "text": [
      "Todos os brasileiros já registrados:\n",
      "Nome: Maria\n",
      "RG: 1\n",
      "Nome: José\n",
      "RG: 2\n",
      "Nome: Anonimo\n",
      "RG: 3\n",
      "Nome: Anonimo\n",
      "RG: 4\n",
      "Nome: Anonimo\n",
      "RG: 5\n",
      "Nome: Anonimo\n",
      "RG: 6\n",
      "Nome: Anonimo\n",
      "RG: 7\n",
      "Nome: Anonimo\n",
      "RG: 8\n",
      "Nome: Anonimo\n",
      "RG: 9\n",
      "Nome: Anonimo\n",
      "RG: 10\n",
      "Nome: Anonimo\n",
      "RG: 11\n",
      "Nome: Anonimo\n",
      "RG: 12\n"
     ]
    }
   ],
   "source": [
    "class B:\n",
    "    @staticmethod\n",
    "    def teste():\n",
    "        Brasileiro.visualizaPopulacao()\n",
    "        \n",
    "B.teste()"
   ]
  },
  {
   "cell_type": "code",
   "execution_count": null,
   "metadata": {},
   "outputs": [],
   "source": [
    "ap01.moradores = ['Jonas']\n",
    "ap02.moradores = ['Helder', 'Luis']\n",
    "ap11.moradores = [...]\n",
    "ap12.moradores = [...]"
   ]
  }
 ],
 "metadata": {
  "kernelspec": {
   "display_name": "Python 3",
   "language": "python",
   "name": "python3"
  },
  "language_info": {
   "codemirror_mode": {
    "name": "ipython",
    "version": 3
   },
   "file_extension": ".py",
   "mimetype": "text/x-python",
   "name": "python",
   "nbconvert_exporter": "python",
   "pygments_lexer": "ipython3",
   "version": "3.7.6"
  }
 },
 "nbformat": 4,
 "nbformat_minor": 4
}
