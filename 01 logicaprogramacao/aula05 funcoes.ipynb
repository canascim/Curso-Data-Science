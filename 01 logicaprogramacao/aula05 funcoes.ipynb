{
 "cells": [
  {
   "cell_type": "code",
   "execution_count": 2,
   "metadata": {},
   "outputs": [
    {
     "name": "stdout",
     "output_type": "stream",
     "text": [
      "Linha 1\n",
      "Função linha 1\n",
      "Função linha 2\n",
      "Função linha 3\n",
      "Linha 3\n"
     ]
    }
   ],
   "source": [
    "# Funções\n",
    "\n",
    "def minhaPrimeiraFuncao():\n",
    "    print('Função linha 1')\n",
    "    print('Função linha 2')\n",
    "    print('Função linha 3')\n",
    "    \n",
    "print('Linha 1') # primeira linha do programa principal\n",
    "minhaPrimeiraFuncao() #chamei a função\n",
    "print('Linha 3') # segue o fluxo...\n",
    "    \n"
   ]
  },
  {
   "cell_type": "code",
   "execution_count": 11,
   "metadata": {},
   "outputs": [
    {
     "name": "stdout",
     "output_type": "stream",
     "text": [
      "1.5\n",
      "15.0\n"
     ]
    }
   ],
   "source": [
    "# Uma função que LÊ DOIS NÚMEROS DO TECLADO e apresenta sua soma\n",
    "def soma():\n",
    "    n1 = int(input('Digite um número: '))\n",
    "    n2 = int(input('Digite outro número: '))\n",
    "    resultado = n1 + n2\n",
    "    print(resultado)\n",
    "    \n",
    "# Uma função que soma dois números E MOSTRA O RESULTADO NA TELA\n",
    "def somaComParametros(n1, n2):\n",
    "    resultado = n1 + n2\n",
    "    print(resultado)\n",
    "\n",
    "# Uma função que soma dois números e retorna o seu valor\n",
    "def somaComResposta(numero1, numero2):\n",
    "    resultado = numero1 + numero2\n",
    "    return resultado\n",
    "\n",
    "def calculaMedia(n1, n2):\n",
    "    s = somaComResposta(n1, n2)\n",
    "    m = s/2\n",
    "    return m\n",
    "\n",
    "#soma()\n",
    "\n",
    "#somaComParametros(5, 9)\n",
    "x = 8\n",
    "y = 2\n",
    "#somaComParametros(x, y)\n",
    "\n",
    "resposta = somaComResposta(1, 2)\n",
    "media = resposta/2\n",
    "print(media)\n",
    "\n",
    "x = calculaMedia(10, 20)\n",
    "print(x)"
   ]
  },
  {
   "cell_type": "code",
   "execution_count": 12,
   "metadata": {},
   "outputs": [
    {
     "name": "stdout",
     "output_type": "stream",
     "text": [
      "16\n"
     ]
    }
   ],
   "source": [
    "'''\n",
    "Função:\n",
    "f(x) = 2^x\n",
    "\n",
    "Redefinindo a função de maneira recursiva:\n",
    "f(x) = 1, se x = 0                 ---> caso base\n",
    "       x*f(x-1), se x > 0          ---> caso geral/recursivo\n",
    "       \n",
    "f(4) = 2*(f(3))\n",
    "     = 2*(2*(f(2)))\n",
    "     = 2*(2*(2*(f(1))))\n",
    "     = 2*(2*(2*(2*(f(0)))))             comportamento de pilha (primeiro a entrar, último a sair - e vice versa)!\n",
    "     = 2*(2*(2*(2*(1))))\n",
    "     = 2*(2*(2*(2)))\n",
    "     = 2*(2*4)\n",
    "     = 2*(8)\n",
    "     = 16\n",
    "     \n",
    "Fibonacci\n",
    "F(0) = 1\n",
    "F(1) = 1\n",
    "F(n) = F(n-1) + F(n-2)\n",
    "\n",
    "1, 1, 2, 3, 5, 8, 13, 21, 34, 55, ...\n",
    "'''\n",
    "\n",
    "\n",
    "def expoentesDeDois(x):\n",
    "    if x == 0:\n",
    "        return 1\n",
    "    else:\n",
    "        return 2*expoentesDeDois(x-1)\n",
    "    \n",
    "doiselevadoaquatro = expoentesDeDois(4)\n",
    "print(doiselevadoaquatro)\n",
    "    \n",
    "    \n",
    "    # estouro de pilha  "
   ]
  },
  {
   "cell_type": "code",
   "execution_count": null,
   "metadata": {},
   "outputs": [],
   "source": []
  }
 ],
 "metadata": {
  "kernelspec": {
   "display_name": "Python 3",
   "language": "python",
   "name": "python3"
  },
  "language_info": {
   "codemirror_mode": {
    "name": "ipython",
    "version": 3
   },
   "file_extension": ".py",
   "mimetype": "text/x-python",
   "name": "python",
   "nbconvert_exporter": "python",
   "pygments_lexer": "ipython3",
   "version": "3.7.6"
  }
 },
 "nbformat": 4,
 "nbformat_minor": 4
}
