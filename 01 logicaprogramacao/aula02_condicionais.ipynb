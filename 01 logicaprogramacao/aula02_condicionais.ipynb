{
 "cells": [
  {
   "cell_type": "code",
   "execution_count": 11,
   "metadata": {},
   "outputs": [
    {
     "name": "stdout",
     "output_type": "stream",
     "text": [
      "Digite a primeira nota: 10\n",
      "Digite a segunda nota: 9\n",
      "Digite a terceira nota: 8\n",
      "Digite a quarta nota: 7\n",
      "A média foi: 8.5\n"
     ]
    }
   ],
   "source": [
    "# Exercício: ler as 4 notas de um aluno e imprimir na tela a média das notas.\n",
    "\n",
    "# entrada\n",
    "nota1 = float(input('Digite a primeira nota: '))\n",
    "nota2 = float(input('Digite a segunda nota: '))\n",
    "nota3 = float(input('Digite a terceira nota: '))\n",
    "nota4 = float(input('Digite a quarta nota: '))\n",
    "\n",
    "# processamento\n",
    "media = (nota1 + nota2 + nota3 + nota4)/4\n",
    "\n",
    "#mediaFinal = round(media, 0) # função round arredonda para o número desejado de casas\n",
    "#mediaFinal2 = round(media, 1)\n",
    "# saída\n",
    "print('A média foi:', media)"
   ]
  },
  {
   "cell_type": "code",
   "execution_count": 15,
   "metadata": {},
   "outputs": [
    {
     "name": "stdout",
     "output_type": "stream",
     "text": [
      "2021-06-09 19:30:38.097607\n"
     ]
    }
   ],
   "source": [
    "import datetime\n",
    "\n",
    "agora = datetime.datetime.now()\n",
    "print(agora)"
   ]
  },
  {
   "cell_type": "code",
   "execution_count": 33,
   "metadata": {},
   "outputs": [
    {
     "name": "stdout",
     "output_type": "stream",
     "text": [
      "Digite a primeira nota: 1\n",
      "Digite a segunda nota: 2\n",
      "Digite a terceira nota: 1\n",
      "Digite a quarta nota: 2\n",
      "Digite o percentual de presenças (0 a 1):0.2\n",
      "Reprovado\n",
      "A sua média foi: 1.5\n"
     ]
    }
   ],
   "source": [
    "# expressões condicionais\n",
    "\n",
    "# aluno aprovado = média maior ou igual a 6.0 e presença mínima de 75%\n",
    "# aluno de exame = média maior ou igual a 3.0 e presença mínima de 75%\n",
    "# aluno reprovado = média menor do que 3.0\n",
    "\n",
    "nota1 = float(input('Digite a primeira nota: '))\n",
    "nota2 = float(input('Digite a segunda nota: '))\n",
    "nota3 = float(input('Digite a terceira nota: '))\n",
    "nota4 = float(input('Digite a quarta nota: '))\n",
    "presenca = float(input('Digite o percentual de presenças (0 a 1):'))\n",
    "\n",
    "media = (nota1 + nota2 + nota3 + nota4)/4\n",
    "\n",
    "if media >= 6.0 and presenca >= 0.75:\n",
    "    print('Aprovado')\n",
    "elif media >= 3.0 and presenca >= 0.75:\n",
    "    print('Exame')\n",
    "else:\n",
    "    print('Reprovado')\n",
    "\n",
    "\"\"\"\n",
    "if media >= 6.0:\n",
    "    print('Aprovado')\n",
    "else:\n",
    "    if media >= 3.0:\n",
    "        print('Exame')\n",
    "    else:\n",
    "        print('Reprovado')\n",
    "\"\"\"    \n",
    "print('A sua média foi:', media)"
   ]
  },
  {
   "cell_type": "markdown",
   "metadata": {},
   "source": [
    "# Operadores lógicos:\n",
    "\n",
    "* Maior que >\n",
    "* Menor que <\n",
    "* Maior ou igual >=\n",
    "* Menor ou igual <=\n",
    "* Diferente: !=\n",
    "* Igual: ==\n",
    "\n",
    "* and: verdadeiro se ambas as expressões forem verdadeiras\n",
    "* or: verdadeiro se pelo menos uma das expressões for verdadeira\n",
    "* not: inverte o resultado de uma expressão"
   ]
  },
  {
   "cell_type": "code",
   "execution_count": 34,
   "metadata": {},
   "outputs": [
    {
     "name": "stdout",
     "output_type": "stream",
     "text": [
      "1.5\n"
     ]
    }
   ],
   "source": [
    "print(media)"
   ]
  },
  {
   "cell_type": "code",
   "execution_count": 35,
   "metadata": {},
   "outputs": [],
   "source": [
    "media = 5"
   ]
  },
  {
   "cell_type": "markdown",
   "metadata": {},
   "source": [
    "Vamos fazer um programa para verificar quem é o assassino de um crime. Para descobrir o assassino, a polícia faz um pequeno questionário com 5 perguntas onde a resposta só pode ser sim ou não:\n",
    "\n",
    "a. Mora perto da vítima?\n",
    "\n",
    "b. Já trabalhou com a vítima?\n",
    "\n",
    "c. Telefonou para a vítima?\n",
    "\n",
    "d. Esteve no local do crime?\n",
    "\n",
    "e. Devia para a vítima?\n",
    "\n",
    "Cada resposta sim dá um ponto para o suspeito. A polícia considera que os suspeitos com 5 pontos são os assassinos, com 4 a 3 pontos são cúmplices e 2 pontos são apenas suspeitos, necessitando outras investigações. Valores iguais ou abaixo de 1 são liberados."
   ]
  },
  {
   "cell_type": "code",
   "execution_count": 39,
   "metadata": {},
   "outputs": [
    {
     "name": "stdout",
     "output_type": "stream",
     "text": [
      "a. Mora perto da vítima?nao\n",
      "b. Já trabalhou com a vítima?sim\n",
      "c. Telefonou para a vítima?nao\n",
      "d. Esteve no local do crime?sim\n",
      "e. Devia para a vítima?nao\n",
      "Suspeito\n"
     ]
    }
   ],
   "source": [
    "# Solução 1\n",
    "\n",
    "resposta1 = input('a. Mora perto da vítima?')\n",
    "resposta2 = input('b. Já trabalhou com a vítima?')\n",
    "resposta3 = input('c. Telefonou para a vítima?')\n",
    "resposta4 = input('d. Esteve no local do crime?')\n",
    "resposta5 = input('e. Devia para a vítima?')\n",
    "\n",
    "if resposta1 == 'sim':\n",
    "    ponto1 = 1\n",
    "else:\n",
    "    ponto1 = 0\n",
    "    \n",
    "if resposta2 == 'sim':\n",
    "    ponto2 = 1\n",
    "else:\n",
    "    ponto2 = 0\n",
    "\n",
    "if resposta3 == 'sim':\n",
    "    ponto3 = 1\n",
    "else:\n",
    "    ponto3 = 0\n",
    "    \n",
    "if resposta4 == 'sim':\n",
    "    ponto4 = 1\n",
    "else:\n",
    "    ponto4 = 0\n",
    "    \n",
    "if resposta5 == 'sim':\n",
    "    ponto5 = 1\n",
    "else:\n",
    "    ponto5 = 0\n",
    "    \n",
    "soma = ponto1 + ponto2 + ponto3 + ponto4 + ponto5\n",
    "\n",
    "if soma == 5:\n",
    "    print('Assassino')\n",
    "elif soma == 4 or soma == 3:\n",
    "    print('Cúmplice')\n",
    "elif soma == 2:\n",
    "    print('Suspeito')\n",
    "else:\n",
    "    print('Liberado!')"
   ]
  },
  {
   "cell_type": "code",
   "execution_count": 41,
   "metadata": {},
   "outputs": [
    {
     "name": "stdout",
     "output_type": "stream",
     "text": [
      "6\n"
     ]
    }
   ],
   "source": [
    "x = 1\n",
    "x = x + 5\n",
    "\n",
    "print(x)"
   ]
  },
  {
   "cell_type": "code",
   "execution_count": 42,
   "metadata": {},
   "outputs": [
    {
     "name": "stdout",
     "output_type": "stream",
     "text": [
      "a. Mora perto da vítima?sim\n",
      "b. Já trabalhou com a vítima?nao\n",
      "c. Telefonou para a vítima?sim\n",
      "d. Esteve no local do crime?nao\n",
      "e. Devia para a vítima?sim\n",
      "Cúmplice\n"
     ]
    }
   ],
   "source": [
    "# Solução 2:\n",
    "\n",
    "resposta1 = input('a. Mora perto da vítima?')\n",
    "resposta2 = input('b. Já trabalhou com a vítima?')\n",
    "resposta3 = input('c. Telefonou para a vítima?')\n",
    "resposta4 = input('d. Esteve no local do crime?')\n",
    "resposta5 = input('e. Devia para a vítima?')\n",
    "\n",
    "pontuacao = 0\n",
    "\n",
    "if resposta1 == 'sim':\n",
    "    pontuacao = pontuacao + 1\n",
    "if resposta2 == 'sim':\n",
    "    pontuacao = pontuacao + 1\n",
    "if resposta3 == 'sim':\n",
    "    pontuacao = pontuacao + 1\n",
    "if resposta4 == 'sim':\n",
    "    pontuacao = pontuacao + 1\n",
    "if resposta5 == 'sim':\n",
    "    pontuacao = pontuacao + 1\n",
    "    \n",
    "if pontuacao == 5:\n",
    "    print('Assassino')\n",
    "elif pontuacao == 4 or pontuacao == 3:\n",
    "    print('Cúmplice')\n",
    "elif pontuacao == 2:\n",
    "    print('Suspeito')\n",
    "else:\n",
    "    print('Liberado!')"
   ]
  },
  {
   "cell_type": "code",
   "execution_count": 43,
   "metadata": {},
   "outputs": [
    {
     "name": "stdout",
     "output_type": "stream",
     "text": [
      "6\n"
     ]
    }
   ],
   "source": [
    "# incremento\n",
    "\n",
    "x = 1\n",
    "x = x + 5\n",
    "print(x)"
   ]
  },
  {
   "cell_type": "code",
   "execution_count": 44,
   "metadata": {},
   "outputs": [
    {
     "name": "stdout",
     "output_type": "stream",
     "text": [
      "6\n"
     ]
    }
   ],
   "source": [
    "# código equivalente:\n",
    "\n",
    "x = 1\n",
    "\n",
    "x += 5\n",
    "\n",
    "print(x)"
   ]
  },
  {
   "cell_type": "markdown",
   "metadata": {},
   "source": [
    "Desafio 3 - Um hospital quer fazer o diagnóstico de gripe ou dengue a partir de um questionário de sintomas, tendo as perguntas abaixo, faça um programa que faça o diagnóstico deste hospital:\n",
    "\n",
    "a. Sente dor no corpo?\n",
    "\n",
    "b. Você tem febre?\n",
    "\n",
    "c. Você tem tosse?\n",
    "\n",
    "d. Está com congestão nasal?\n",
    "\n",
    "e. Tem manchas pelo corpo?\n",
    "\n",
    "Para o diagnóstico ele tem a seguinte tabela:\n",
    "\n",
    "A\tB\tC\tD\tE\tResultado\n",
    "Sim\tSim\tNão\tNão\tSim\tDengue\n",
    "Sim\tSim\tSim\tSim\tNão\tGripe\n",
    "Não\tSim\tSim\tSim\tNão\tGripe\n",
    "Sim\tNão\tNão\tNão\tNão\tSem doenças\n",
    "Não\tNão\tNão\tNão\tNão\tSem doenças\n",
    "\n"
   ]
  },
  {
   "cell_type": "code",
   "execution_count": 48,
   "metadata": {},
   "outputs": [
    {
     "name": "stdout",
     "output_type": "stream",
     "text": [
      "a. Sente dor no corpo?sim\n",
      "b. Você tem febre?nao\n",
      "c. Você tem tosse?sim\n",
      "d. Está com congestão nasal?nao\n",
      "e. Tem manchas pelo corpo?sim\n",
      "Doença desconhecida!\n"
     ]
    }
   ],
   "source": [
    "pergunta1 = input('a. Sente dor no corpo?')\n",
    "pergunta2 = input('b. Você tem febre?')\n",
    "pergunta3 = input('c. Você tem tosse?')\n",
    "pergunta4 = input('d. Está com congestão nasal?')\n",
    "pergunta5 = input('e. Tem manchas pelo corpo?')\n",
    "\n",
    "if pergunta1 == 'sim' and pergunta2 == 'sim' and pergunta3 != 'sim' and pergunta4 != 'sim' and pergunta5 == 'sim':\n",
    "    print('Dengue')\n",
    "elif pergunta1 == 'sim' and pergunta2 == 'sim' and pergunta3 == 'sim' and pergunta4 == 'sim' and pergunta5 != 'sim':\n",
    "    print('Gripe')\n",
    "elif pergunta1 != 'sim' and pergunta2 == 'sim' and pergunta3 == 'sim' and pergunta4 == 'sim' and pergunta5 != 'sim':\n",
    "    print('Gripe')\n",
    "elif pergunta2 != 'sim' and pergunta3 != 'sim' and pergunta4 != 'sim' and pergunta5 != 'sim':\n",
    "    print('Sem doenças')\n",
    "else:\n",
    "    print('Doença desconhecida!')"
   ]
  },
  {
   "cell_type": "code",
   "execution_count": null,
   "metadata": {},
   "outputs": [],
   "source": []
  }
 ],
 "metadata": {
  "kernelspec": {
   "display_name": "Python 3 (ipykernel)",
   "language": "python",
   "name": "python3"
  },
  "language_info": {
   "codemirror_mode": {
    "name": "ipython",
    "version": 3
   },
   "file_extension": ".py",
   "mimetype": "text/x-python",
   "name": "python",
   "nbconvert_exporter": "python",
   "pygments_lexer": "ipython3",
   "version": "3.9.6"
  }
 },
 "nbformat": 4,
 "nbformat_minor": 4
}
